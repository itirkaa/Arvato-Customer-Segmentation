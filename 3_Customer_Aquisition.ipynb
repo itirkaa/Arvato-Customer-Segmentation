{
 "cells": [
  {
   "cell_type": "markdown",
   "metadata": {},
   "source": [
    "## Part 2: Supervised Learning Model\n",
    "\n",
    "Now that you've found which parts of the population are more likely to be customers of the mail-order company, it's time to build a prediction model. Each of the rows in the \"MAILOUT\" data files represents an individual that was targeted for a mailout campaign. Ideally, we should be able to use the demographic information from each individual to decide whether or not it will be worth it to include that person in the campaign.\n",
    "\n",
    "The \"MAILOUT\" data has been split into two approximately equal parts, each with almost 43 000 data rows. In this part, you can verify your model with the \"TRAIN\" partition, which includes a column, \"RESPONSE\", that states whether or not a person became a customer of the company following the campaign. In the next part, you'll need to create predictions on the \"TEST\" partition, where the \"RESPONSE\" column has been withheld."
   ]
  },
  {
   "cell_type": "code",
   "execution_count": 16,
   "metadata": {},
   "outputs": [],
   "source": [
    "# Importing libraries\n",
    "import os\n",
    "# import boto3\n",
    "# import sagemaker\n",
    "\n",
    "import matplotlib.pyplot as plt\n",
    "import seaborn as sns\n",
    "import pandas as pd\n",
    "\n",
    "from sklearn.model_selection import train_test_split, StratifiedKFold, cross_val_score, RandomizedSearchCV, GridSearchCV\n",
    "from sklearn.ensemble import RandomForestClassifier, GradientBoostingClassifier\n",
    "from sklearn.linear_model import LogisticRegression\n",
    "from sklearn.neural_network import MLPClassifier\n",
    "from sklearn.model_selection import StratifiedKFold, learning_curve\n",
    "import xgboost as xgb\n",
    "import lightgbm as lgb\n",
    "\n",
    "from utils import read_s3_files, preprocess, predict_clusters\n",
    "\n",
    "%matplotlib inline"
   ]
  },
  {
   "cell_type": "code",
   "execution_count": null,
   "metadata": {},
   "outputs": [],
   "source": [
    "# sagemaker session, role\n",
    "session = sagemaker.Session()\n",
    "s3_client = boto3.client('s3')"
   ]
  },
  {
   "cell_type": "code",
   "execution_count": 3,
   "metadata": {},
   "outputs": [
    {
     "name": "stderr",
     "output_type": "stream",
     "text": [
      "/home/ec2-user/anaconda3/envs/mxnet_p36/lib/python3.6/site-packages/IPython/core/interactiveshell.py:3254: DtypeWarning: Columns (18,19) have mixed types.Specify dtype option on import or set low_memory=False.\n",
      "  if (await self.run_code(code, result,  async_=asy)):\n"
     ]
    },
    {
     "name": "stdout",
     "output_type": "stream",
     "text": [
      "Train shape: (42962, 367)\n",
      "Test shape: (42833, 366)\n"
     ]
    }
   ],
   "source": [
    "train, test = read_s3_files(['mailout_train.csv', 'mailout_test.csv'], s3_client)\n",
    "print(\"Train shape:\", train.shape)\n",
    "print(\"Test shape:\", test.shape)"
   ]
  },
  {
   "cell_type": "code",
   "execution_count": 4,
   "metadata": {},
   "outputs": [
    {
     "name": "stdout",
     "output_type": "stream",
     "text": [
      "----------------PART-1(Identifying missing data and data-types)----------------\n",
      "Downcasting dataframe...\n",
      "Memory usage before downcasting:\n",
      "<class 'pandas.core.frame.DataFrame'>\n",
      "RangeIndex: 42962 entries, 0 to 42961\n",
      "Columns: 366 entries, LNR to ALTERSKATEGORIE_GROB\n",
      "dtypes: float64(267), int64(93), object(6)\n",
      "memory usage: 120.0+ MB\n",
      "None\n",
      "Memory usage after downcasting:\n",
      "<class 'pandas.core.frame.DataFrame'>\n",
      "RangeIndex: 42962 entries, 0 to 42961\n",
      "Columns: 366 entries, LNR to ALTERSKATEGORIE_GROB\n",
      "dtypes: category(3), datetime64[ns](1), float32(267), int16(1), int32(1), int8(91), object(2)\n",
      "memory usage: 48.8+ MB\n",
      "None\n",
      "Identifying and replacing values representing unknown or missing data...\n",
      "Replaced X with nan in following column(s):['CAMEO_DEUG_2015']\n",
      "Replaced XX with nan in following column(s):['CAMEO_INTL_2015']\n",
      "Replaced -1 with nan in following column(s):['AGER_TYP', 'ALTERSKATEGORIE_GROB', 'ANREDE_KZ', 'BALLRAUM', 'CAMEO_DEUG_2015', 'EWDICHTE', 'FINANZTYP', 'FINANZ_ANLEGER', 'FINANZ_HAUSBAUER', 'FINANZ_MINIMALIST', 'FINANZ_SPARER', 'FINANZ_UNAUFFAELLIGER', 'FINANZ_VORSORGER', 'GEBAEUDETYP', 'HEALTH_TYP', 'HH_EINKOMMEN_SCORE', 'INNENSTADT', 'KBA05_ALTER1', 'KBA05_ALTER2', 'KBA05_ALTER3', 'KBA05_ALTER4', 'KBA05_ANHANG', 'KBA05_ANTG1', 'KBA05_ANTG2', 'KBA05_ANTG3', 'KBA05_ANTG4', 'KBA05_AUTOQUOT', 'KBA05_BAUMAX', 'KBA05_CCM1', 'KBA05_CCM2', 'KBA05_CCM3', 'KBA05_CCM4', 'KBA05_DIESEL', 'KBA05_FRAU', 'KBA05_GBZ', 'KBA05_HERST1', 'KBA05_HERST2', 'KBA05_HERST3', 'KBA05_HERST4', 'KBA05_HERST5', 'KBA05_HERSTTEMP', 'KBA05_KRSAQUOT', 'KBA05_KRSHERST1', 'KBA05_KRSHERST2', 'KBA05_KRSHERST3', 'KBA05_KRSKLEIN', 'KBA05_KRSOBER', 'KBA05_KRSVAN', 'KBA05_KRSZUL', 'KBA05_KW1', 'KBA05_KW2', 'KBA05_KW3', 'KBA05_MAXAH', 'KBA05_MAXBJ', 'KBA05_MAXHERST', 'KBA05_MAXSEG', 'KBA05_MAXVORB', 'KBA05_MOD1', 'KBA05_MOD2', 'KBA05_MOD3', 'KBA05_MOD4', 'KBA05_MOD8', 'KBA05_MODTEMP', 'KBA05_MOTOR', 'KBA05_MOTRAD', 'KBA05_SEG1', 'KBA05_SEG10', 'KBA05_SEG2', 'KBA05_SEG3', 'KBA05_SEG4', 'KBA05_SEG5', 'KBA05_SEG6', 'KBA05_SEG7', 'KBA05_SEG8', 'KBA05_SEG9', 'KBA05_VORB0', 'KBA05_VORB1', 'KBA05_VORB2', 'KBA05_ZUL1', 'KBA05_ZUL2', 'KBA05_ZUL3', 'KBA05_ZUL4', 'KBA13_ALTERHALTER_30', 'KBA13_ALTERHALTER_45', 'KBA13_ALTERHALTER_60', 'KBA13_ALTERHALTER_61', 'KBA13_AUDI', 'KBA13_AUTOQUOTE', 'KBA13_BJ_1999', 'KBA13_BJ_2000', 'KBA13_BJ_2004', 'KBA13_BJ_2006', 'KBA13_BJ_2008', 'KBA13_BJ_2009', 'KBA13_BMW', 'KBA13_CCM_1000', 'KBA13_CCM_1200', 'KBA13_CCM_1400', 'KBA13_CCM_0_1400', 'KBA13_CCM_1500', 'KBA13_CCM_1600', 'KBA13_CCM_1800', 'KBA13_CCM_2000', 'KBA13_CCM_2500', 'KBA13_CCM_2501', 'KBA13_CCM_3000', 'KBA13_CCM_3001', 'KBA13_FAB_ASIEN', 'KBA13_FAB_SONSTIGE', 'KBA13_FIAT', 'KBA13_FORD', 'KBA13_HALTER_20', 'KBA13_HALTER_25', 'KBA13_HALTER_30', 'KBA13_HALTER_35', 'KBA13_HALTER_40', 'KBA13_HALTER_45', 'KBA13_HALTER_50', 'KBA13_HALTER_55', 'KBA13_HALTER_60', 'KBA13_HALTER_65', 'KBA13_HALTER_66', 'KBA13_HERST_ASIEN', 'KBA13_HERST_AUDI_VW', 'KBA13_HERST_BMW_BENZ', 'KBA13_HERST_EUROPA', 'KBA13_HERST_FORD_OPEL', 'KBA13_HERST_SONST', 'KBA13_KMH_110', 'KBA13_KMH_140', 'KBA13_KMH_180', 'KBA13_KMH_0_140', 'KBA13_KMH_140_210', 'KBA13_KMH_211', 'KBA13_KMH_250', 'KBA13_KMH_251', 'KBA13_KRSAQUOT', 'KBA13_KRSHERST_AUDI_VW', 'KBA13_KRSHERST_BMW_BENZ', 'KBA13_KRSHERST_FORD_OPEL', 'KBA13_KRSSEG_KLEIN', 'KBA13_KRSSEG_OBER', 'KBA13_KRSSEG_VAN', 'KBA13_KRSZUL_NEU', 'KBA13_KW_30', 'KBA13_KW_40', 'KBA13_KW_50', 'KBA13_KW_60', 'KBA13_KW_0_60', 'KBA13_KW_70', 'KBA13_KW_61_120', 'KBA13_KW_80', 'KBA13_KW_90', 'KBA13_KW_110', 'KBA13_KW_120', 'KBA13_KW_121', 'KBA13_MAZDA', 'KBA13_MERCEDES', 'KBA13_MOTOR', 'KBA13_NISSAN', 'KBA13_OPEL', 'KBA13_PEUGEOT', 'KBA13_RENAULT', 'KBA13_SEG_GELAENDEWAGEN', 'KBA13_SEG_GROSSRAUMVANS', 'KBA13_SEG_KLEINST', 'KBA13_SEG_KLEINWAGEN', 'KBA13_SEG_KOMPAKTKLASSE', 'KBA13_SEG_MINIVANS', 'KBA13_SEG_MINIWAGEN', 'KBA13_SEG_MITTELKLASSE', 'KBA13_SEG_OBEREMITTELKLASSE', 'KBA13_SEG_OBERKLASSE', 'KBA13_SEG_SONSTIGE', 'KBA13_SEG_SPORTWAGEN', 'KBA13_SEG_UTILITIES', 'KBA13_SEG_VAN', 'KBA13_SEG_WOHNMOBILE', 'KBA13_SITZE_4', 'KBA13_SITZE_5', 'KBA13_SITZE_6', 'KBA13_TOYOTA', 'KBA13_VORB_0', 'KBA13_VORB_1', 'KBA13_VORB_1_2', 'KBA13_VORB_2', 'KBA13_VORB_3', 'KBA13_VW', 'KKK', 'NATIONALITAET_KZ', 'ORTSGR_KLS9', 'OST_WEST_KZ', 'PLZ8_ANTG1', 'PLZ8_ANTG2', 'PLZ8_ANTG3', 'PLZ8_ANTG4', 'PLZ8_GBZ', 'PLZ8_HHZ', 'PRAEGENDE_JUGENDJAHRE', 'REGIOTYP', 'RELAT_AB', 'SEMIO_DOM', 'SEMIO_ERL', 'SEMIO_FAM', 'SEMIO_KAEM', 'SEMIO_KRIT', 'SEMIO_KULT', 'SEMIO_LUST', 'SEMIO_MAT', 'SEMIO_PFLICHT', 'SEMIO_RAT', 'SEMIO_REL', 'SEMIO_SOZ', 'SEMIO_TRADV', 'SEMIO_VERT', 'SHOPPER_TYP', 'TITEL_KZ', 'VERS_TYP', 'WOHNDAUER_2008', 'WOHNLAGE', 'W_KEIT_KIND_HH', 'ZABEOTYP']\n",
      "Replaced 0 with nan in following column(s):['ALTERSKATEGORIE_GROB', 'ALTER_HH', 'ANREDE_KZ', 'CJT_GESAMTTYP', 'GEBAEUDETYP', 'HH_EINKOMMEN_SCORE', 'KBA05_BAUMAX', 'KBA05_GBZ', 'KKK', 'NATIONALITAET_KZ', 'PRAEGENDE_JUGENDJAHRE', 'REGIOTYP', 'RETOURTYP_BK_S', 'TITEL_KZ', 'WOHNDAUER_2008', 'W_KEIT_KIND_HH']\n",
      "Replaced 9 with nan in following column(s):['KBA05_ALTER1', 'KBA05_ALTER2', 'KBA05_ALTER3', 'KBA05_ALTER4', 'KBA05_ANHANG', 'KBA05_AUTOQUOT', 'KBA05_CCM1', 'KBA05_CCM2', 'KBA05_CCM3', 'KBA05_CCM4', 'KBA05_DIESEL', 'KBA05_FRAU', 'KBA05_HERST1', 'KBA05_HERST2', 'KBA05_HERST3', 'KBA05_HERST4', 'KBA05_HERST5', 'KBA05_HERSTTEMP', 'KBA05_KRSAQUOT', 'KBA05_KRSHERST1', 'KBA05_KRSHERST2', 'KBA05_KRSHERST3', 'KBA05_KRSKLEIN', 'KBA05_KRSOBER', 'KBA05_KRSVAN', 'KBA05_KRSZUL', 'KBA05_KW1', 'KBA05_KW2', 'KBA05_KW3', 'KBA05_MAXAH', 'KBA05_MAXBJ', 'KBA05_MAXHERST', 'KBA05_MAXSEG', 'KBA05_MAXVORB', 'KBA05_MOD1', 'KBA05_MOD2', 'KBA05_MOD3', 'KBA05_MOD4', 'KBA05_MOD8', 'KBA05_MODTEMP', 'KBA05_MOTOR', 'KBA05_MOTRAD', 'KBA05_SEG1', 'KBA05_SEG10', 'KBA05_SEG2', 'KBA05_SEG3', 'KBA05_SEG4', 'KBA05_SEG5', 'KBA05_SEG6', 'KBA05_SEG7', 'KBA05_SEG8', 'KBA05_SEG9', 'KBA05_VORB0', 'KBA05_VORB1', 'KBA05_VORB2', 'KBA05_ZUL1', 'KBA05_ZUL2', 'KBA05_ZUL3', 'KBA05_ZUL4', 'RELAT_AB', 'SEMIO_DOM', 'SEMIO_ERL', 'SEMIO_FAM', 'SEMIO_KAEM', 'SEMIO_KRIT', 'SEMIO_KULT', 'SEMIO_LUST', 'SEMIO_MAT', 'SEMIO_PFLICHT', 'SEMIO_RAT', 'SEMIO_REL', 'SEMIO_SOZ', 'SEMIO_TRADV', 'SEMIO_VERT', 'ZABEOTYP']\n",
      "Extracting year from datetime cols...\n",
      "Converting ['CAMEO_INTL_2015', 'CAMEO_DEUG_2015'] to integer data type...\n",
      "\n",
      "----------------PART-2(Removing Columns)----------------\n",
      "Removing ['AGER_TYP', 'KK_KUNDENTYP', 'KKK', 'TITEL_KZ', 'EXTSEL992', 'ALTER_KIND3', 'ALTER_KIND4', 'KBA05_BAUMAX', 'ALTER_KIND2', 'ALTER_KIND1', 'ALTER_HH', 'REGIOTYP', 'CAMEO_DEU_2015'] columns...\n",
      "Shape after removing data:(42962, 353)\n",
      "\n",
      "Bining columns...\n",
      "\n",
      "----------------PART-3(Imputing missing data)----------------\n",
      "Imputing ['LNR', 'AKT_DAT_KL', 'ALTERSKATEGORIE_FEIN', 'ANZ_HAUSHALTE_AKTIV', 'ANZ_HH_TITEL', 'ANZ_KINDER', 'ANZ_PERSONEN', 'ANZ_STATISTISCHE_HAUSHALTE', 'ANZ_TITEL', 'ARBEIT', 'BALLRAUM', 'CAMEO_DEUG_2015', 'CAMEO_INTL_2015', 'CJT_GESAMTTYP', 'CJT_KATALOGNUTZER', 'CJT_TYP_1', 'CJT_TYP_2', 'CJT_TYP_3', 'CJT_TYP_4', 'CJT_TYP_5', 'CJT_TYP_6', 'D19_BANKEN_ONLINE_QUOTE_12', 'D19_GESAMT_ONLINE_QUOTE_12', 'D19_KONSUMTYP', 'D19_LOTTO', 'D19_SOZIALES', 'D19_TELKO_ONLINE_QUOTE_12', 'D19_VERSAND_ONLINE_QUOTE_12', 'D19_VERSI_ONLINE_QUOTE_12', 'DSL_FLAG', 'EINGEFUEGT_AM', 'EINGEZOGENAM_HH_JAHR', 'EWDICHTE', 'FINANZ_ANLEGER', 'FINANZ_HAUSBAUER', 'FINANZ_MINIMALIST', 'FINANZ_SPARER', 'FINANZ_UNAUFFAELLIGER', 'FINANZ_VORSORGER', 'FINANZTYP', 'FIRMENDICHTE', 'GEBAEUDETYP', 'GEBAEUDETYP_RASTER', 'GEBURTSJAHR', 'GEMEINDETYP', 'GFK_URLAUBERTYP', 'HEALTH_TYP', 'HH_DELTA_FLAG', 'HH_EINKOMMEN_SCORE', 'INNENSTADT', 'KBA05_ALTER1', 'KBA05_ALTER2', 'KBA05_ALTER3', 'KBA05_ALTER4', 'KBA05_ANHANG', 'KBA05_ANTG1', 'KBA05_ANTG2', 'KBA05_ANTG3', 'KBA05_ANTG4', 'KBA05_AUTOQUOT', 'KBA05_CCM1', 'KBA05_CCM2', 'KBA05_CCM3', 'KBA05_CCM4', 'KBA05_DIESEL', 'KBA05_FRAU', 'KBA05_GBZ', 'KBA05_HERST1', 'KBA05_HERST2', 'KBA05_HERST3', 'KBA05_HERST4', 'KBA05_HERST5', 'KBA05_HERSTTEMP', 'KBA05_KRSAQUOT', 'KBA05_KRSHERST1', 'KBA05_KRSHERST2', 'KBA05_KRSHERST3', 'KBA05_KRSKLEIN', 'KBA05_KRSOBER', 'KBA05_KRSVAN', 'KBA05_KRSZUL', 'KBA05_KW1', 'KBA05_KW2', 'KBA05_KW3', 'KBA05_MAXAH', 'KBA05_MAXBJ', 'KBA05_MAXHERST', 'KBA05_MAXSEG', 'KBA05_MAXVORB', 'KBA05_MOD1', 'KBA05_MOD2', 'KBA05_MOD3', 'KBA05_MOD4', 'KBA05_MOD8', 'KBA05_MODTEMP', 'KBA05_MOTOR', 'KBA05_MOTRAD', 'KBA05_SEG1', 'KBA05_SEG10', 'KBA05_SEG2', 'KBA05_SEG3', 'KBA05_SEG4', 'KBA05_SEG5', 'KBA05_SEG6', 'KBA05_SEG7', 'KBA05_SEG8', 'KBA05_SEG9', 'KBA05_VORB0', 'KBA05_VORB1', 'KBA05_VORB2', 'KBA05_ZUL1', 'KBA05_ZUL2', 'KBA05_ZUL3', 'KBA05_ZUL4', 'KBA13_ALTERHALTER_30', 'KBA13_ALTERHALTER_45', 'KBA13_ALTERHALTER_60', 'KBA13_ALTERHALTER_61', 'KBA13_ANTG1', 'KBA13_ANTG2', 'KBA13_ANTG3', 'KBA13_ANTG4', 'KBA13_ANZAHL_PKW', 'KBA13_AUDI', 'KBA13_AUTOQUOTE', 'KBA13_BAUMAX', 'KBA13_BJ_1999', 'KBA13_BJ_2000', 'KBA13_BJ_2004', 'KBA13_BJ_2006', 'KBA13_BJ_2008', 'KBA13_BJ_2009', 'KBA13_BMW', 'KBA13_CCM_0_1400', 'KBA13_CCM_1000', 'KBA13_CCM_1200', 'KBA13_CCM_1400', 'KBA13_CCM_1401_2500', 'KBA13_CCM_1500', 'KBA13_CCM_1600', 'KBA13_CCM_1800', 'KBA13_CCM_2000', 'KBA13_CCM_2500', 'KBA13_CCM_2501', 'KBA13_CCM_3000', 'KBA13_CCM_3001', 'KBA13_FAB_ASIEN', 'KBA13_FAB_SONSTIGE', 'KBA13_FIAT', 'KBA13_FORD', 'KBA13_GBZ', 'KBA13_HALTER_20', 'KBA13_HALTER_25', 'KBA13_HALTER_30', 'KBA13_HALTER_35', 'KBA13_HALTER_40', 'KBA13_HALTER_45', 'KBA13_HALTER_50', 'KBA13_HALTER_55', 'KBA13_HALTER_60', 'KBA13_HALTER_65', 'KBA13_HALTER_66', 'KBA13_HERST_ASIEN', 'KBA13_HERST_AUDI_VW', 'KBA13_HERST_BMW_BENZ', 'KBA13_HERST_EUROPA', 'KBA13_HERST_FORD_OPEL', 'KBA13_HERST_SONST', 'KBA13_HHZ', 'KBA13_KMH_0_140', 'KBA13_KMH_110', 'KBA13_KMH_140', 'KBA13_KMH_140_210', 'KBA13_KMH_180', 'KBA13_KMH_210', 'KBA13_KMH_211', 'KBA13_KMH_250', 'KBA13_KMH_251', 'KBA13_KRSAQUOT', 'KBA13_KRSHERST_AUDI_VW', 'KBA13_KRSHERST_BMW_BENZ', 'KBA13_KRSHERST_FORD_OPEL', 'KBA13_KRSSEG_KLEIN', 'KBA13_KRSSEG_OBER', 'KBA13_KRSSEG_VAN', 'KBA13_KRSZUL_NEU', 'KBA13_KW_0_60', 'KBA13_KW_110', 'KBA13_KW_120', 'KBA13_KW_121', 'KBA13_KW_30', 'KBA13_KW_40', 'KBA13_KW_50', 'KBA13_KW_60', 'KBA13_KW_61_120', 'KBA13_KW_70', 'KBA13_KW_80', 'KBA13_KW_90', 'KBA13_MAZDA', 'KBA13_MERCEDES', 'KBA13_MOTOR', 'KBA13_NISSAN', 'KBA13_OPEL', 'KBA13_PEUGEOT', 'KBA13_RENAULT', 'KBA13_SEG_GELAENDEWAGEN', 'KBA13_SEG_GROSSRAUMVANS', 'KBA13_SEG_KLEINST', 'KBA13_SEG_KLEINWAGEN', 'KBA13_SEG_KOMPAKTKLASSE', 'KBA13_SEG_MINIVANS', 'KBA13_SEG_MINIWAGEN', 'KBA13_SEG_MITTELKLASSE', 'KBA13_SEG_OBEREMITTELKLASSE', 'KBA13_SEG_OBERKLASSE', 'KBA13_SEG_SONSTIGE', 'KBA13_SEG_SPORTWAGEN', 'KBA13_SEG_UTILITIES', 'KBA13_SEG_VAN', 'KBA13_SEG_WOHNMOBILE', 'KBA13_SITZE_4', 'KBA13_SITZE_5', 'KBA13_SITZE_6', 'KBA13_TOYOTA', 'KBA13_VORB_0', 'KBA13_VORB_1', 'KBA13_VORB_1_2', 'KBA13_VORB_2', 'KBA13_VORB_3', 'KBA13_VW', 'KONSUMNAEHE', 'KONSUMZELLE', 'LP_FAMILIE_FEIN', 'LP_FAMILIE_GROB', 'LP_LEBENSPHASE_FEIN', 'LP_LEBENSPHASE_GROB', 'LP_STATUS_FEIN', 'LP_STATUS_GROB', 'MIN_GEBAEUDEJAHR', 'MOBI_RASTER', 'MOBI_REGIO', 'NATIONALITAET_KZ', 'ONLINE_AFFINITAET', 'ORTSGR_KLS9', 'PLZ8_ANTG1', 'PLZ8_ANTG2', 'PLZ8_ANTG3', 'PLZ8_ANTG4', 'PLZ8_BAUMAX', 'PLZ8_GBZ', 'PLZ8_HHZ', 'PRAEGENDE_JUGENDJAHRE', 'RELAT_AB', 'RETOURTYP_BK_S', 'RT_KEIN_ANREIZ', 'RT_SCHNAEPPCHEN', 'RT_UEBERGROESSE', 'SEMIO_DOM', 'SEMIO_ERL', 'SEMIO_FAM', 'SEMIO_KAEM', 'SEMIO_KRIT', 'SEMIO_KULT', 'SEMIO_LUST', 'SEMIO_MAT', 'SEMIO_PFLICHT', 'SEMIO_RAT', 'SEMIO_REL', 'SEMIO_SOZ', 'SEMIO_TRADV', 'SEMIO_VERT', 'SHOPPER_TYP', 'SOHO_KZ', 'STRUKTURTYP', 'UMFELD_ALT', 'UMFELD_JUNG', 'UNGLEICHENN_FLAG', 'VERDICHTUNGSRAUM', 'VERS_TYP', 'VHA', 'VHN', 'VK_DHT4A', 'VK_DISTANZ', 'VK_ZG11', 'W_KEIT_KIND_HH', 'WOHNDAUER_2008', 'WOHNLAGE', 'ZABEOTYP', 'ANREDE_KZ', 'ALTERSKATEGORIE_GROB'] columns...\n",
      "Imputing ['D19_LETZTER_KAUF_BRANCHE', 'OST_WEST_KZ'] columns...\n",
      "----------------PART-4(Encoding categorical data)----------------\n",
      "Shape before encoding (42962, 353)\n",
      "Shape after encoding (42962, 388)\n",
      "----------------PART-4(Scaling data)----------------\n",
      "Downcasting data...\n",
      "Memory usage after downcasting:\n",
      "<class 'pandas.core.frame.DataFrame'>\n",
      "RangeIndex: 42962 entries, 0 to 42961\n",
      "Columns: 388 entries, AKT_DAT_KL to LNR\n",
      "dtypes: float32(388)\n",
      "memory usage: 63.6 MB\n",
      "None\n",
      "----------------PART-1(Identifying missing data and data-types)----------------\n",
      "Downcasting dataframe...\n",
      "Memory usage before downcasting:\n",
      "<class 'pandas.core.frame.DataFrame'>\n",
      "RangeIndex: 42833 entries, 0 to 42832\n",
      "Columns: 366 entries, LNR to ALTERSKATEGORIE_GROB\n",
      "dtypes: float64(267), int64(93), object(6)\n",
      "memory usage: 119.6+ MB\n",
      "None\n",
      "Memory usage after downcasting:\n",
      "<class 'pandas.core.frame.DataFrame'>\n",
      "RangeIndex: 42833 entries, 0 to 42832\n",
      "Columns: 366 entries, LNR to ALTERSKATEGORIE_GROB\n",
      "dtypes: category(3), datetime64[ns](1), float32(267), int16(1), int32(1), int8(91), object(2)\n",
      "memory usage: 48.7+ MB\n",
      "None\n",
      "Identifying and replacing values representing unknown or missing data...\n",
      "Replaced X with nan in following column(s):['CAMEO_DEUG_2015']\n",
      "Replaced XX with nan in following column(s):['CAMEO_INTL_2015']\n",
      "Replaced -1 with nan in following column(s):['AGER_TYP', 'ALTERSKATEGORIE_GROB', 'ANREDE_KZ', 'BALLRAUM', 'CAMEO_DEUG_2015', 'EWDICHTE', 'FINANZTYP', 'FINANZ_ANLEGER', 'FINANZ_HAUSBAUER', 'FINANZ_MINIMALIST', 'FINANZ_SPARER', 'FINANZ_UNAUFFAELLIGER', 'FINANZ_VORSORGER', 'GEBAEUDETYP', 'HEALTH_TYP', 'HH_EINKOMMEN_SCORE', 'INNENSTADT', 'KBA05_ALTER1', 'KBA05_ALTER2', 'KBA05_ALTER3', 'KBA05_ALTER4', 'KBA05_ANHANG', 'KBA05_ANTG1', 'KBA05_ANTG2', 'KBA05_ANTG3', 'KBA05_ANTG4', 'KBA05_AUTOQUOT', 'KBA05_BAUMAX', 'KBA05_CCM1', 'KBA05_CCM2', 'KBA05_CCM3', 'KBA05_CCM4', 'KBA05_DIESEL', 'KBA05_FRAU', 'KBA05_GBZ', 'KBA05_HERST1', 'KBA05_HERST2', 'KBA05_HERST3', 'KBA05_HERST4', 'KBA05_HERST5', 'KBA05_HERSTTEMP', 'KBA05_KRSAQUOT', 'KBA05_KRSHERST1', 'KBA05_KRSHERST2', 'KBA05_KRSHERST3', 'KBA05_KRSKLEIN', 'KBA05_KRSOBER', 'KBA05_KRSVAN', 'KBA05_KRSZUL', 'KBA05_KW1', 'KBA05_KW2', 'KBA05_KW3', 'KBA05_MAXAH', 'KBA05_MAXBJ', 'KBA05_MAXHERST', 'KBA05_MAXSEG', 'KBA05_MAXVORB', 'KBA05_MOD1', 'KBA05_MOD2', 'KBA05_MOD3', 'KBA05_MOD4', 'KBA05_MOD8', 'KBA05_MODTEMP', 'KBA05_MOTOR', 'KBA05_MOTRAD', 'KBA05_SEG1', 'KBA05_SEG10', 'KBA05_SEG2', 'KBA05_SEG3', 'KBA05_SEG4', 'KBA05_SEG5', 'KBA05_SEG6', 'KBA05_SEG7', 'KBA05_SEG8', 'KBA05_SEG9', 'KBA05_VORB0', 'KBA05_VORB1', 'KBA05_VORB2', 'KBA05_ZUL1', 'KBA05_ZUL2', 'KBA05_ZUL3', 'KBA05_ZUL4', 'KBA13_ALTERHALTER_30', 'KBA13_ALTERHALTER_45', 'KBA13_ALTERHALTER_60', 'KBA13_ALTERHALTER_61', 'KBA13_AUDI', 'KBA13_AUTOQUOTE', 'KBA13_BJ_1999', 'KBA13_BJ_2000', 'KBA13_BJ_2004', 'KBA13_BJ_2006', 'KBA13_BJ_2008', 'KBA13_BJ_2009', 'KBA13_BMW', 'KBA13_CCM_1000', 'KBA13_CCM_1200', 'KBA13_CCM_1400', 'KBA13_CCM_0_1400', 'KBA13_CCM_1500', 'KBA13_CCM_1600', 'KBA13_CCM_1800', 'KBA13_CCM_2000', 'KBA13_CCM_2500', 'KBA13_CCM_2501', 'KBA13_CCM_3000', 'KBA13_CCM_3001', 'KBA13_FAB_ASIEN', 'KBA13_FAB_SONSTIGE', 'KBA13_FIAT', 'KBA13_FORD', 'KBA13_HALTER_20', 'KBA13_HALTER_25', 'KBA13_HALTER_30', 'KBA13_HALTER_35', 'KBA13_HALTER_40', 'KBA13_HALTER_45', 'KBA13_HALTER_50', 'KBA13_HALTER_55', 'KBA13_HALTER_60', 'KBA13_HALTER_65', 'KBA13_HALTER_66', 'KBA13_HERST_ASIEN', 'KBA13_HERST_AUDI_VW', 'KBA13_HERST_BMW_BENZ', 'KBA13_HERST_EUROPA', 'KBA13_HERST_FORD_OPEL', 'KBA13_HERST_SONST', 'KBA13_KMH_110', 'KBA13_KMH_140', 'KBA13_KMH_180', 'KBA13_KMH_0_140', 'KBA13_KMH_140_210', 'KBA13_KMH_211', 'KBA13_KMH_250', 'KBA13_KMH_251', 'KBA13_KRSAQUOT', 'KBA13_KRSHERST_AUDI_VW', 'KBA13_KRSHERST_BMW_BENZ', 'KBA13_KRSHERST_FORD_OPEL', 'KBA13_KRSSEG_KLEIN', 'KBA13_KRSSEG_OBER', 'KBA13_KRSSEG_VAN', 'KBA13_KRSZUL_NEU', 'KBA13_KW_30', 'KBA13_KW_40', 'KBA13_KW_50', 'KBA13_KW_60', 'KBA13_KW_0_60', 'KBA13_KW_70', 'KBA13_KW_61_120', 'KBA13_KW_80', 'KBA13_KW_90', 'KBA13_KW_110', 'KBA13_KW_120', 'KBA13_KW_121', 'KBA13_MAZDA', 'KBA13_MERCEDES', 'KBA13_MOTOR', 'KBA13_NISSAN', 'KBA13_OPEL', 'KBA13_PEUGEOT', 'KBA13_RENAULT', 'KBA13_SEG_GELAENDEWAGEN', 'KBA13_SEG_GROSSRAUMVANS', 'KBA13_SEG_KLEINST', 'KBA13_SEG_KLEINWAGEN', 'KBA13_SEG_KOMPAKTKLASSE', 'KBA13_SEG_MINIVANS', 'KBA13_SEG_MINIWAGEN', 'KBA13_SEG_MITTELKLASSE', 'KBA13_SEG_OBEREMITTELKLASSE', 'KBA13_SEG_OBERKLASSE', 'KBA13_SEG_SONSTIGE', 'KBA13_SEG_SPORTWAGEN', 'KBA13_SEG_UTILITIES', 'KBA13_SEG_VAN', 'KBA13_SEG_WOHNMOBILE', 'KBA13_SITZE_4', 'KBA13_SITZE_5', 'KBA13_SITZE_6', 'KBA13_TOYOTA', 'KBA13_VORB_0', 'KBA13_VORB_1', 'KBA13_VORB_1_2', 'KBA13_VORB_2', 'KBA13_VORB_3', 'KBA13_VW', 'KKK', 'NATIONALITAET_KZ', 'ORTSGR_KLS9', 'OST_WEST_KZ', 'PLZ8_ANTG1', 'PLZ8_ANTG2', 'PLZ8_ANTG3', 'PLZ8_ANTG4', 'PLZ8_GBZ', 'PLZ8_HHZ', 'PRAEGENDE_JUGENDJAHRE', 'REGIOTYP', 'RELAT_AB', 'SEMIO_DOM', 'SEMIO_ERL', 'SEMIO_FAM', 'SEMIO_KAEM', 'SEMIO_KRIT', 'SEMIO_KULT', 'SEMIO_LUST', 'SEMIO_MAT', 'SEMIO_PFLICHT', 'SEMIO_RAT', 'SEMIO_REL', 'SEMIO_SOZ', 'SEMIO_TRADV', 'SEMIO_VERT', 'SHOPPER_TYP', 'TITEL_KZ', 'VERS_TYP', 'WOHNDAUER_2008', 'WOHNLAGE', 'W_KEIT_KIND_HH', 'ZABEOTYP']\n",
      "Replaced 0 with nan in following column(s):['ALTERSKATEGORIE_GROB', 'ALTER_HH', 'ANREDE_KZ', 'CJT_GESAMTTYP', 'GEBAEUDETYP', 'HH_EINKOMMEN_SCORE', 'KBA05_BAUMAX', 'KBA05_GBZ', 'KKK', 'NATIONALITAET_KZ', 'PRAEGENDE_JUGENDJAHRE', 'REGIOTYP', 'RETOURTYP_BK_S', 'TITEL_KZ', 'WOHNDAUER_2008', 'W_KEIT_KIND_HH']\n",
      "Replaced 9 with nan in following column(s):['KBA05_ALTER1', 'KBA05_ALTER2', 'KBA05_ALTER3', 'KBA05_ALTER4', 'KBA05_ANHANG', 'KBA05_AUTOQUOT', 'KBA05_CCM1', 'KBA05_CCM2', 'KBA05_CCM3', 'KBA05_CCM4', 'KBA05_DIESEL', 'KBA05_FRAU', 'KBA05_HERST1', 'KBA05_HERST2', 'KBA05_HERST3', 'KBA05_HERST4', 'KBA05_HERST5', 'KBA05_HERSTTEMP', 'KBA05_KRSAQUOT', 'KBA05_KRSHERST1', 'KBA05_KRSHERST2', 'KBA05_KRSHERST3', 'KBA05_KRSKLEIN', 'KBA05_KRSOBER', 'KBA05_KRSVAN', 'KBA05_KRSZUL', 'KBA05_KW1', 'KBA05_KW2', 'KBA05_KW3', 'KBA05_MAXAH', 'KBA05_MAXBJ', 'KBA05_MAXHERST', 'KBA05_MAXSEG', 'KBA05_MAXVORB', 'KBA05_MOD1', 'KBA05_MOD2', 'KBA05_MOD3', 'KBA05_MOD4', 'KBA05_MOD8', 'KBA05_MODTEMP', 'KBA05_MOTOR', 'KBA05_MOTRAD', 'KBA05_SEG1', 'KBA05_SEG10', 'KBA05_SEG2', 'KBA05_SEG3', 'KBA05_SEG4', 'KBA05_SEG5', 'KBA05_SEG6', 'KBA05_SEG7', 'KBA05_SEG8', 'KBA05_SEG9', 'KBA05_VORB0', 'KBA05_VORB1', 'KBA05_VORB2', 'KBA05_ZUL1', 'KBA05_ZUL2', 'KBA05_ZUL3', 'KBA05_ZUL4', 'RELAT_AB', 'SEMIO_DOM', 'SEMIO_ERL', 'SEMIO_FAM', 'SEMIO_KAEM', 'SEMIO_KRIT', 'SEMIO_KULT', 'SEMIO_LUST', 'SEMIO_MAT', 'SEMIO_PFLICHT', 'SEMIO_RAT', 'SEMIO_REL', 'SEMIO_SOZ', 'SEMIO_TRADV', 'SEMIO_VERT', 'ZABEOTYP']\n",
      "Extracting year from datetime cols...\n",
      "Converting ['CAMEO_INTL_2015', 'CAMEO_DEUG_2015'] to integer data type...\n",
      "\n",
      "----------------PART-2(Removing Columns)----------------\n",
      "Removing ['AGER_TYP', 'KK_KUNDENTYP', 'KKK', 'TITEL_KZ', 'EXTSEL992', 'ALTER_KIND3', 'ALTER_KIND4', 'KBA05_BAUMAX', 'ALTER_KIND2', 'ALTER_KIND1', 'ALTER_HH', 'REGIOTYP', 'CAMEO_DEU_2015'] columns...\n",
      "Shape after removing data:(42833, 353)\n",
      "\n",
      "Bining columns...\n",
      "\n",
      "----------------PART-3(Imputing missing data)----------------\n",
      "Imputing ['LNR', 'AKT_DAT_KL', 'ALTERSKATEGORIE_FEIN', 'ANZ_HAUSHALTE_AKTIV', 'ANZ_HH_TITEL', 'ANZ_KINDER', 'ANZ_PERSONEN', 'ANZ_STATISTISCHE_HAUSHALTE', 'ANZ_TITEL', 'ARBEIT', 'BALLRAUM', 'CAMEO_DEUG_2015', 'CAMEO_INTL_2015', 'CJT_GESAMTTYP', 'CJT_KATALOGNUTZER', 'CJT_TYP_1', 'CJT_TYP_2', 'CJT_TYP_3', 'CJT_TYP_4', 'CJT_TYP_5', 'CJT_TYP_6', 'D19_BANKEN_ONLINE_QUOTE_12', 'D19_GESAMT_ONLINE_QUOTE_12', 'D19_KONSUMTYP', 'D19_LOTTO', 'D19_SOZIALES', 'D19_TELKO_ONLINE_QUOTE_12', 'D19_VERSAND_ONLINE_QUOTE_12', 'D19_VERSI_ONLINE_QUOTE_12', 'DSL_FLAG', 'EINGEFUEGT_AM', 'EINGEZOGENAM_HH_JAHR', 'EWDICHTE', 'FINANZ_ANLEGER', 'FINANZ_HAUSBAUER', 'FINANZ_MINIMALIST', 'FINANZ_SPARER', 'FINANZ_UNAUFFAELLIGER', 'FINANZ_VORSORGER', 'FINANZTYP', 'FIRMENDICHTE', 'GEBAEUDETYP', 'GEBAEUDETYP_RASTER', 'GEBURTSJAHR', 'GEMEINDETYP', 'GFK_URLAUBERTYP', 'HEALTH_TYP', 'HH_DELTA_FLAG', 'HH_EINKOMMEN_SCORE', 'INNENSTADT', 'KBA05_ALTER1', 'KBA05_ALTER2', 'KBA05_ALTER3', 'KBA05_ALTER4', 'KBA05_ANHANG', 'KBA05_ANTG1', 'KBA05_ANTG2', 'KBA05_ANTG3', 'KBA05_ANTG4', 'KBA05_AUTOQUOT', 'KBA05_CCM1', 'KBA05_CCM2', 'KBA05_CCM3', 'KBA05_CCM4', 'KBA05_DIESEL', 'KBA05_FRAU', 'KBA05_GBZ', 'KBA05_HERST1', 'KBA05_HERST2', 'KBA05_HERST3', 'KBA05_HERST4', 'KBA05_HERST5', 'KBA05_HERSTTEMP', 'KBA05_KRSAQUOT', 'KBA05_KRSHERST1', 'KBA05_KRSHERST2', 'KBA05_KRSHERST3', 'KBA05_KRSKLEIN', 'KBA05_KRSOBER', 'KBA05_KRSVAN', 'KBA05_KRSZUL', 'KBA05_KW1', 'KBA05_KW2', 'KBA05_KW3', 'KBA05_MAXAH', 'KBA05_MAXBJ', 'KBA05_MAXHERST', 'KBA05_MAXSEG', 'KBA05_MAXVORB', 'KBA05_MOD1', 'KBA05_MOD2', 'KBA05_MOD3', 'KBA05_MOD4', 'KBA05_MOD8', 'KBA05_MODTEMP', 'KBA05_MOTOR', 'KBA05_MOTRAD', 'KBA05_SEG1', 'KBA05_SEG10', 'KBA05_SEG2', 'KBA05_SEG3', 'KBA05_SEG4', 'KBA05_SEG5', 'KBA05_SEG6', 'KBA05_SEG7', 'KBA05_SEG8', 'KBA05_SEG9', 'KBA05_VORB0', 'KBA05_VORB1', 'KBA05_VORB2', 'KBA05_ZUL1', 'KBA05_ZUL2', 'KBA05_ZUL3', 'KBA05_ZUL4', 'KBA13_ALTERHALTER_30', 'KBA13_ALTERHALTER_45', 'KBA13_ALTERHALTER_60', 'KBA13_ALTERHALTER_61', 'KBA13_ANTG1', 'KBA13_ANTG2', 'KBA13_ANTG3', 'KBA13_ANTG4', 'KBA13_ANZAHL_PKW', 'KBA13_AUDI', 'KBA13_AUTOQUOTE', 'KBA13_BAUMAX', 'KBA13_BJ_1999', 'KBA13_BJ_2000', 'KBA13_BJ_2004', 'KBA13_BJ_2006', 'KBA13_BJ_2008', 'KBA13_BJ_2009', 'KBA13_BMW', 'KBA13_CCM_0_1400', 'KBA13_CCM_1000', 'KBA13_CCM_1200', 'KBA13_CCM_1400', 'KBA13_CCM_1401_2500', 'KBA13_CCM_1500', 'KBA13_CCM_1600', 'KBA13_CCM_1800', 'KBA13_CCM_2000', 'KBA13_CCM_2500', 'KBA13_CCM_2501', 'KBA13_CCM_3000', 'KBA13_CCM_3001', 'KBA13_FAB_ASIEN', 'KBA13_FAB_SONSTIGE', 'KBA13_FIAT', 'KBA13_FORD', 'KBA13_GBZ', 'KBA13_HALTER_20', 'KBA13_HALTER_25', 'KBA13_HALTER_30', 'KBA13_HALTER_35', 'KBA13_HALTER_40', 'KBA13_HALTER_45', 'KBA13_HALTER_50', 'KBA13_HALTER_55', 'KBA13_HALTER_60', 'KBA13_HALTER_65', 'KBA13_HALTER_66', 'KBA13_HERST_ASIEN', 'KBA13_HERST_AUDI_VW', 'KBA13_HERST_BMW_BENZ', 'KBA13_HERST_EUROPA', 'KBA13_HERST_FORD_OPEL', 'KBA13_HERST_SONST', 'KBA13_HHZ', 'KBA13_KMH_0_140', 'KBA13_KMH_110', 'KBA13_KMH_140', 'KBA13_KMH_140_210', 'KBA13_KMH_180', 'KBA13_KMH_210', 'KBA13_KMH_211', 'KBA13_KMH_250', 'KBA13_KMH_251', 'KBA13_KRSAQUOT', 'KBA13_KRSHERST_AUDI_VW', 'KBA13_KRSHERST_BMW_BENZ', 'KBA13_KRSHERST_FORD_OPEL', 'KBA13_KRSSEG_KLEIN', 'KBA13_KRSSEG_OBER', 'KBA13_KRSSEG_VAN', 'KBA13_KRSZUL_NEU', 'KBA13_KW_0_60', 'KBA13_KW_110', 'KBA13_KW_120', 'KBA13_KW_121', 'KBA13_KW_30', 'KBA13_KW_40', 'KBA13_KW_50', 'KBA13_KW_60', 'KBA13_KW_61_120', 'KBA13_KW_70', 'KBA13_KW_80', 'KBA13_KW_90', 'KBA13_MAZDA', 'KBA13_MERCEDES', 'KBA13_MOTOR', 'KBA13_NISSAN', 'KBA13_OPEL', 'KBA13_PEUGEOT', 'KBA13_RENAULT', 'KBA13_SEG_GELAENDEWAGEN', 'KBA13_SEG_GROSSRAUMVANS', 'KBA13_SEG_KLEINST', 'KBA13_SEG_KLEINWAGEN', 'KBA13_SEG_KOMPAKTKLASSE', 'KBA13_SEG_MINIVANS', 'KBA13_SEG_MINIWAGEN', 'KBA13_SEG_MITTELKLASSE', 'KBA13_SEG_OBEREMITTELKLASSE', 'KBA13_SEG_OBERKLASSE', 'KBA13_SEG_SONSTIGE', 'KBA13_SEG_SPORTWAGEN', 'KBA13_SEG_UTILITIES', 'KBA13_SEG_VAN', 'KBA13_SEG_WOHNMOBILE', 'KBA13_SITZE_4', 'KBA13_SITZE_5', 'KBA13_SITZE_6', 'KBA13_TOYOTA', 'KBA13_VORB_0', 'KBA13_VORB_1', 'KBA13_VORB_1_2', 'KBA13_VORB_2', 'KBA13_VORB_3', 'KBA13_VW', 'KONSUMNAEHE', 'KONSUMZELLE', 'LP_FAMILIE_FEIN', 'LP_FAMILIE_GROB', 'LP_LEBENSPHASE_FEIN', 'LP_LEBENSPHASE_GROB', 'LP_STATUS_FEIN', 'LP_STATUS_GROB', 'MIN_GEBAEUDEJAHR', 'MOBI_RASTER', 'MOBI_REGIO', 'NATIONALITAET_KZ', 'ONLINE_AFFINITAET', 'ORTSGR_KLS9', 'PLZ8_ANTG1', 'PLZ8_ANTG2', 'PLZ8_ANTG3', 'PLZ8_ANTG4', 'PLZ8_BAUMAX', 'PLZ8_GBZ', 'PLZ8_HHZ', 'PRAEGENDE_JUGENDJAHRE', 'RELAT_AB', 'RETOURTYP_BK_S', 'RT_KEIN_ANREIZ', 'RT_SCHNAEPPCHEN', 'RT_UEBERGROESSE', 'SEMIO_DOM', 'SEMIO_ERL', 'SEMIO_FAM', 'SEMIO_KAEM', 'SEMIO_KRIT', 'SEMIO_KULT', 'SEMIO_LUST', 'SEMIO_MAT', 'SEMIO_PFLICHT', 'SEMIO_RAT', 'SEMIO_REL', 'SEMIO_SOZ', 'SEMIO_TRADV', 'SEMIO_VERT', 'SHOPPER_TYP', 'SOHO_KZ', 'STRUKTURTYP', 'UMFELD_ALT', 'UMFELD_JUNG', 'UNGLEICHENN_FLAG', 'VERDICHTUNGSRAUM', 'VERS_TYP', 'VHA', 'VHN', 'VK_DHT4A', 'VK_DISTANZ', 'VK_ZG11', 'W_KEIT_KIND_HH', 'WOHNDAUER_2008', 'WOHNLAGE', 'ZABEOTYP', 'ANREDE_KZ', 'ALTERSKATEGORIE_GROB'] columns...\n",
      "Imputing ['D19_LETZTER_KAUF_BRANCHE', 'OST_WEST_KZ'] columns...\n",
      "----------------PART-4(Encoding categorical data)----------------\n",
      "Shape before encoding (42833, 353)\n",
      "Shape after encoding (42833, 388)\n",
      "----------------PART-4(Scaling data)----------------\n",
      "Downcasting data...\n",
      "Memory usage after downcasting:\n",
      "<class 'pandas.core.frame.DataFrame'>\n",
      "RangeIndex: 42833 entries, 0 to 42832\n",
      "Columns: 388 entries, AKT_DAT_KL to LNR\n",
      "dtypes: float32(388)\n",
      "memory usage: 63.4 MB\n",
      "None\n"
     ]
    }
   ],
   "source": [
    "train_y = train['RESPONSE'].copy()\n",
    "train_x = preprocess(train.drop('RESPONSE', axis=1))\n",
    "test = preprocess(test)"
   ]
  },
  {
   "cell_type": "code",
   "execution_count": 5,
   "metadata": {},
   "outputs": [
    {
     "data": {
      "text/plain": [
       "(42962, 388)"
      ]
     },
     "execution_count": 5,
     "metadata": {},
     "output_type": "execute_result"
    }
   ],
   "source": [
    "train_x.shape"
   ]
  },
  {
   "cell_type": "code",
   "execution_count": 8,
   "metadata": {},
   "outputs": [
    {
     "name": "stdout",
     "output_type": "stream",
     "text": [
      "Performing Dimensionality Reduction using PCA...\n",
      "Shape before PCA: (42962, 387)\n",
      "Shape before PCA: (42962, 180)\n",
      "Finding clusters in data...\n",
      "Performing Dimensionality Reduction using PCA...\n",
      "Shape before PCA: (42833, 387)\n",
      "Shape before PCA: (42833, 180)\n",
      "Finding clusters in data...\n"
     ]
    }
   ],
   "source": [
    "train_cluster = predict_clusters(train_x)\n",
    "test_cluster = predict_clusters(test)"
   ]
  },
  {
   "cell_type": "code",
   "execution_count": 9,
   "metadata": {},
   "outputs": [
    {
     "data": {
      "text/html": [
       "<div>\n",
       "<style scoped>\n",
       "    .dataframe tbody tr th:only-of-type {\n",
       "        vertical-align: middle;\n",
       "    }\n",
       "\n",
       "    .dataframe tbody tr th {\n",
       "        vertical-align: top;\n",
       "    }\n",
       "\n",
       "    .dataframe thead th {\n",
       "        text-align: right;\n",
       "    }\n",
       "</style>\n",
       "<table border=\"1\" class=\"dataframe\">\n",
       "  <thead>\n",
       "    <tr style=\"text-align: right;\">\n",
       "      <th></th>\n",
       "      <th>0</th>\n",
       "      <th>1</th>\n",
       "      <th>2</th>\n",
       "      <th>3</th>\n",
       "      <th>4</th>\n",
       "      <th>5</th>\n",
       "      <th>6</th>\n",
       "      <th>7</th>\n",
       "      <th>8</th>\n",
       "      <th>9</th>\n",
       "      <th>...</th>\n",
       "      <th>172</th>\n",
       "      <th>173</th>\n",
       "      <th>174</th>\n",
       "      <th>175</th>\n",
       "      <th>176</th>\n",
       "      <th>177</th>\n",
       "      <th>178</th>\n",
       "      <th>179</th>\n",
       "      <th>CLUSTER</th>\n",
       "      <th>LNR</th>\n",
       "    </tr>\n",
       "  </thead>\n",
       "  <tbody>\n",
       "    <tr>\n",
       "      <th>0</th>\n",
       "      <td>-7.182226</td>\n",
       "      <td>0.187454</td>\n",
       "      <td>4.609773</td>\n",
       "      <td>5.837287</td>\n",
       "      <td>-0.496500</td>\n",
       "      <td>1.013342</td>\n",
       "      <td>-4.267402</td>\n",
       "      <td>1.315556</td>\n",
       "      <td>0.390262</td>\n",
       "      <td>-0.196290</td>\n",
       "      <td>...</td>\n",
       "      <td>0.402967</td>\n",
       "      <td>0.237453</td>\n",
       "      <td>-0.810422</td>\n",
       "      <td>-0.075919</td>\n",
       "      <td>-0.054217</td>\n",
       "      <td>-0.340420</td>\n",
       "      <td>-0.680172</td>\n",
       "      <td>1.132971</td>\n",
       "      <td>3</td>\n",
       "      <td>1763.0</td>\n",
       "    </tr>\n",
       "    <tr>\n",
       "      <th>1</th>\n",
       "      <td>7.725657</td>\n",
       "      <td>1.041986</td>\n",
       "      <td>-3.314461</td>\n",
       "      <td>-2.836252</td>\n",
       "      <td>-2.156061</td>\n",
       "      <td>0.516340</td>\n",
       "      <td>-3.764678</td>\n",
       "      <td>1.419750</td>\n",
       "      <td>2.031265</td>\n",
       "      <td>2.047351</td>\n",
       "      <td>...</td>\n",
       "      <td>1.221896</td>\n",
       "      <td>1.241672</td>\n",
       "      <td>0.141727</td>\n",
       "      <td>-0.292178</td>\n",
       "      <td>-0.541942</td>\n",
       "      <td>-0.778153</td>\n",
       "      <td>-0.182689</td>\n",
       "      <td>-0.370895</td>\n",
       "      <td>4</td>\n",
       "      <td>1771.0</td>\n",
       "    </tr>\n",
       "    <tr>\n",
       "      <th>2</th>\n",
       "      <td>1.106763</td>\n",
       "      <td>-0.302178</td>\n",
       "      <td>-2.878360</td>\n",
       "      <td>4.657115</td>\n",
       "      <td>5.467867</td>\n",
       "      <td>2.277680</td>\n",
       "      <td>3.233390</td>\n",
       "      <td>2.110274</td>\n",
       "      <td>-0.053255</td>\n",
       "      <td>-1.088111</td>\n",
       "      <td>...</td>\n",
       "      <td>0.734011</td>\n",
       "      <td>-0.626888</td>\n",
       "      <td>1.371622</td>\n",
       "      <td>0.586329</td>\n",
       "      <td>-0.803731</td>\n",
       "      <td>0.198041</td>\n",
       "      <td>0.020245</td>\n",
       "      <td>-1.409442</td>\n",
       "      <td>1</td>\n",
       "      <td>1776.0</td>\n",
       "    </tr>\n",
       "    <tr>\n",
       "      <th>3</th>\n",
       "      <td>-0.249254</td>\n",
       "      <td>-8.177169</td>\n",
       "      <td>11.141335</td>\n",
       "      <td>2.645266</td>\n",
       "      <td>0.534873</td>\n",
       "      <td>-2.097282</td>\n",
       "      <td>2.449938</td>\n",
       "      <td>-3.461524</td>\n",
       "      <td>1.025434</td>\n",
       "      <td>-1.240244</td>\n",
       "      <td>...</td>\n",
       "      <td>-0.268486</td>\n",
       "      <td>-0.335606</td>\n",
       "      <td>0.966945</td>\n",
       "      <td>1.043623</td>\n",
       "      <td>1.746834</td>\n",
       "      <td>0.308505</td>\n",
       "      <td>2.001338</td>\n",
       "      <td>0.206794</td>\n",
       "      <td>2</td>\n",
       "      <td>1460.0</td>\n",
       "    </tr>\n",
       "    <tr>\n",
       "      <th>4</th>\n",
       "      <td>-1.833353</td>\n",
       "      <td>-2.427218</td>\n",
       "      <td>6.122892</td>\n",
       "      <td>3.509244</td>\n",
       "      <td>5.905100</td>\n",
       "      <td>1.822975</td>\n",
       "      <td>0.423698</td>\n",
       "      <td>3.453430</td>\n",
       "      <td>-1.055653</td>\n",
       "      <td>1.250149</td>\n",
       "      <td>...</td>\n",
       "      <td>-1.039643</td>\n",
       "      <td>0.516221</td>\n",
       "      <td>0.360774</td>\n",
       "      <td>-1.056338</td>\n",
       "      <td>-0.681541</td>\n",
       "      <td>-0.742959</td>\n",
       "      <td>-0.065323</td>\n",
       "      <td>0.262950</td>\n",
       "      <td>2</td>\n",
       "      <td>1783.0</td>\n",
       "    </tr>\n",
       "    <tr>\n",
       "      <th>...</th>\n",
       "      <td>...</td>\n",
       "      <td>...</td>\n",
       "      <td>...</td>\n",
       "      <td>...</td>\n",
       "      <td>...</td>\n",
       "      <td>...</td>\n",
       "      <td>...</td>\n",
       "      <td>...</td>\n",
       "      <td>...</td>\n",
       "      <td>...</td>\n",
       "      <td>...</td>\n",
       "      <td>...</td>\n",
       "      <td>...</td>\n",
       "      <td>...</td>\n",
       "      <td>...</td>\n",
       "      <td>...</td>\n",
       "      <td>...</td>\n",
       "      <td>...</td>\n",
       "      <td>...</td>\n",
       "      <td>...</td>\n",
       "      <td>...</td>\n",
       "    </tr>\n",
       "    <tr>\n",
       "      <th>42957</th>\n",
       "      <td>8.215550</td>\n",
       "      <td>-0.376386</td>\n",
       "      <td>6.827886</td>\n",
       "      <td>1.202471</td>\n",
       "      <td>-2.094871</td>\n",
       "      <td>1.628754</td>\n",
       "      <td>1.061350</td>\n",
       "      <td>1.421027</td>\n",
       "      <td>-0.473854</td>\n",
       "      <td>-2.721176</td>\n",
       "      <td>...</td>\n",
       "      <td>-1.809185</td>\n",
       "      <td>-0.941040</td>\n",
       "      <td>1.078960</td>\n",
       "      <td>-0.124614</td>\n",
       "      <td>0.677304</td>\n",
       "      <td>0.073045</td>\n",
       "      <td>0.715979</td>\n",
       "      <td>0.059666</td>\n",
       "      <td>4</td>\n",
       "      <td>66338.0</td>\n",
       "    </tr>\n",
       "    <tr>\n",
       "      <th>42958</th>\n",
       "      <td>6.438153</td>\n",
       "      <td>2.738240</td>\n",
       "      <td>-6.053588</td>\n",
       "      <td>-0.373863</td>\n",
       "      <td>4.829053</td>\n",
       "      <td>2.066686</td>\n",
       "      <td>0.044657</td>\n",
       "      <td>2.150053</td>\n",
       "      <td>0.252102</td>\n",
       "      <td>-2.837602</td>\n",
       "      <td>...</td>\n",
       "      <td>0.266430</td>\n",
       "      <td>-1.280734</td>\n",
       "      <td>1.468274</td>\n",
       "      <td>0.673154</td>\n",
       "      <td>0.003213</td>\n",
       "      <td>0.480690</td>\n",
       "      <td>-0.445532</td>\n",
       "      <td>-1.098566</td>\n",
       "      <td>4</td>\n",
       "      <td>67629.0</td>\n",
       "    </tr>\n",
       "    <tr>\n",
       "      <th>42959</th>\n",
       "      <td>7.486320</td>\n",
       "      <td>-3.193941</td>\n",
       "      <td>-2.265814</td>\n",
       "      <td>0.232257</td>\n",
       "      <td>-0.030057</td>\n",
       "      <td>2.947499</td>\n",
       "      <td>3.148342</td>\n",
       "      <td>0.314993</td>\n",
       "      <td>2.465614</td>\n",
       "      <td>1.588148</td>\n",
       "      <td>...</td>\n",
       "      <td>1.004895</td>\n",
       "      <td>0.129926</td>\n",
       "      <td>0.445571</td>\n",
       "      <td>-1.466482</td>\n",
       "      <td>2.360812</td>\n",
       "      <td>0.972449</td>\n",
       "      <td>0.499622</td>\n",
       "      <td>0.298071</td>\n",
       "      <td>2</td>\n",
       "      <td>68273.0</td>\n",
       "    </tr>\n",
       "    <tr>\n",
       "      <th>42960</th>\n",
       "      <td>3.751761</td>\n",
       "      <td>8.577937</td>\n",
       "      <td>1.755504</td>\n",
       "      <td>1.563673</td>\n",
       "      <td>-5.459938</td>\n",
       "      <td>-3.677296</td>\n",
       "      <td>1.949818</td>\n",
       "      <td>-3.803554</td>\n",
       "      <td>-0.779987</td>\n",
       "      <td>3.560894</td>\n",
       "      <td>...</td>\n",
       "      <td>-1.335688</td>\n",
       "      <td>0.268301</td>\n",
       "      <td>-0.012517</td>\n",
       "      <td>-0.467964</td>\n",
       "      <td>-0.430864</td>\n",
       "      <td>0.695971</td>\n",
       "      <td>-0.127211</td>\n",
       "      <td>0.262410</td>\n",
       "      <td>4</td>\n",
       "      <td>68581.0</td>\n",
       "    </tr>\n",
       "    <tr>\n",
       "      <th>42961</th>\n",
       "      <td>-0.268508</td>\n",
       "      <td>-3.812161</td>\n",
       "      <td>-3.409857</td>\n",
       "      <td>-0.315766</td>\n",
       "      <td>-5.566854</td>\n",
       "      <td>-1.184801</td>\n",
       "      <td>3.081732</td>\n",
       "      <td>-5.337480</td>\n",
       "      <td>3.163310</td>\n",
       "      <td>-2.029446</td>\n",
       "      <td>...</td>\n",
       "      <td>0.196073</td>\n",
       "      <td>-0.021617</td>\n",
       "      <td>-0.068128</td>\n",
       "      <td>0.149785</td>\n",
       "      <td>0.723681</td>\n",
       "      <td>0.948277</td>\n",
       "      <td>0.265986</td>\n",
       "      <td>0.212236</td>\n",
       "      <td>2</td>\n",
       "      <td>69224.0</td>\n",
       "    </tr>\n",
       "  </tbody>\n",
       "</table>\n",
       "<p>42962 rows × 182 columns</p>\n",
       "</div>"
      ],
      "text/plain": [
       "              0         1          2         3         4         5         6  \\\n",
       "0     -7.182226  0.187454   4.609773  5.837287 -0.496500  1.013342 -4.267402   \n",
       "1      7.725657  1.041986  -3.314461 -2.836252 -2.156061  0.516340 -3.764678   \n",
       "2      1.106763 -0.302178  -2.878360  4.657115  5.467867  2.277680  3.233390   \n",
       "3     -0.249254 -8.177169  11.141335  2.645266  0.534873 -2.097282  2.449938   \n",
       "4     -1.833353 -2.427218   6.122892  3.509244  5.905100  1.822975  0.423698   \n",
       "...         ...       ...        ...       ...       ...       ...       ...   \n",
       "42957  8.215550 -0.376386   6.827886  1.202471 -2.094871  1.628754  1.061350   \n",
       "42958  6.438153  2.738240  -6.053588 -0.373863  4.829053  2.066686  0.044657   \n",
       "42959  7.486320 -3.193941  -2.265814  0.232257 -0.030057  2.947499  3.148342   \n",
       "42960  3.751761  8.577937   1.755504  1.563673 -5.459938 -3.677296  1.949818   \n",
       "42961 -0.268508 -3.812161  -3.409857 -0.315766 -5.566854 -1.184801  3.081732   \n",
       "\n",
       "              7         8         9  ...       172       173       174  \\\n",
       "0      1.315556  0.390262 -0.196290  ...  0.402967  0.237453 -0.810422   \n",
       "1      1.419750  2.031265  2.047351  ...  1.221896  1.241672  0.141727   \n",
       "2      2.110274 -0.053255 -1.088111  ...  0.734011 -0.626888  1.371622   \n",
       "3     -3.461524  1.025434 -1.240244  ... -0.268486 -0.335606  0.966945   \n",
       "4      3.453430 -1.055653  1.250149  ... -1.039643  0.516221  0.360774   \n",
       "...         ...       ...       ...  ...       ...       ...       ...   \n",
       "42957  1.421027 -0.473854 -2.721176  ... -1.809185 -0.941040  1.078960   \n",
       "42958  2.150053  0.252102 -2.837602  ...  0.266430 -1.280734  1.468274   \n",
       "42959  0.314993  2.465614  1.588148  ...  1.004895  0.129926  0.445571   \n",
       "42960 -3.803554 -0.779987  3.560894  ... -1.335688  0.268301 -0.012517   \n",
       "42961 -5.337480  3.163310 -2.029446  ...  0.196073 -0.021617 -0.068128   \n",
       "\n",
       "            175       176       177       178       179  CLUSTER      LNR  \n",
       "0     -0.075919 -0.054217 -0.340420 -0.680172  1.132971        3   1763.0  \n",
       "1     -0.292178 -0.541942 -0.778153 -0.182689 -0.370895        4   1771.0  \n",
       "2      0.586329 -0.803731  0.198041  0.020245 -1.409442        1   1776.0  \n",
       "3      1.043623  1.746834  0.308505  2.001338  0.206794        2   1460.0  \n",
       "4     -1.056338 -0.681541 -0.742959 -0.065323  0.262950        2   1783.0  \n",
       "...         ...       ...       ...       ...       ...      ...      ...  \n",
       "42957 -0.124614  0.677304  0.073045  0.715979  0.059666        4  66338.0  \n",
       "42958  0.673154  0.003213  0.480690 -0.445532 -1.098566        4  67629.0  \n",
       "42959 -1.466482  2.360812  0.972449  0.499622  0.298071        2  68273.0  \n",
       "42960 -0.467964 -0.430864  0.695971 -0.127211  0.262410        4  68581.0  \n",
       "42961  0.149785  0.723681  0.948277  0.265986  0.212236        2  69224.0  \n",
       "\n",
       "[42962 rows x 182 columns]"
      ]
     },
     "execution_count": 9,
     "metadata": {},
     "output_type": "execute_result"
    }
   ],
   "source": [
    "train_cluster"
   ]
  },
  {
   "cell_type": "code",
   "execution_count": 12,
   "metadata": {},
   "outputs": [],
   "source": [
    "train_cluster['RESPONSE'] = train_y"
   ]
  },
  {
   "cell_type": "code",
   "execution_count": 14,
   "metadata": {},
   "outputs": [
    {
     "data": {
      "text/plain": [
       "(42833, 182)"
      ]
     },
     "execution_count": 14,
     "metadata": {},
     "output_type": "execute_result"
    }
   ],
   "source": [
    "test_cluster.shape"
   ]
  },
  {
   "cell_type": "code",
   "execution_count": 2,
   "metadata": {},
   "outputs": [],
   "source": [
    "data_dir = 'Data/arvato'\n",
    "\n",
    "train_cluster = pd.read_pickle(os.path.join(data_dir, 'train_mailout.pkl'))\n",
    "test_cluster = pd.read_pickle(os.path.join(data_dir, 'test_mailout.pkl'))"
   ]
  },
  {
   "cell_type": "code",
   "execution_count": 60,
   "metadata": {},
   "outputs": [
    {
     "name": "stderr",
     "output_type": "stream",
     "text": [
      "C:\\Users\\Arijit Aakriti\\Anaconda3\\lib\\site-packages\\IPython\\core\\interactiveshell.py:3049: DtypeWarning: Columns (18,19) have mixed types. Specify dtype option on import or set low_memory=False.\n",
      "  interactivity=interactivity, compiler=compiler, result=result)\n"
     ]
    }
   ],
   "source": [
    "# train = pd.read_csv('Data/Udacity_MAILOUT_052018_TRAIN.csv', sep=';')\n",
    "test = pd.read_csv('Data/Udacity_MAILOUT_052018_TEST.csv', sep=';')"
   ]
  },
  {
   "cell_type": "code",
   "execution_count": 61,
   "metadata": {},
   "outputs": [],
   "source": [
    "train['CLUSTER'] = train_cluster['CLUSTER']\n",
    "test['CLUSTER'] = test_cluster['CLUSTER']"
   ]
  },
  {
   "cell_type": "code",
   "execution_count": 63,
   "metadata": {},
   "outputs": [],
   "source": [
    "# labels = train['RESPONSE'].copy()\n",
    "# train = train.drop(['RESPONSE'], axis=1)\n",
    "lnr = test['LNR'].copy()\n",
    "# test = test.drop('LNR', axis=1)"
   ]
  },
  {
   "cell_type": "code",
   "execution_count": 9,
   "metadata": {},
   "outputs": [
    {
     "data": {
      "text/plain": [
       "<matplotlib.axes._subplots.AxesSubplot at 0x1efd9e6a390>"
      ]
     },
     "execution_count": 9,
     "metadata": {},
     "output_type": "execute_result"
    },
    {
     "data": {
      "image/png": "[encoded data removed]",
      "text/plain": [
       "<Figure size 432x288 with 1 Axes>"
      ]
     },
     "metadata": {
      "needs_background": "light"
     },
     "output_type": "display_data"
    }
   ],
   "source": [
    "labels.hist()"
   ]
  },
  {
   "cell_type": "code",
   "execution_count": 7,
   "metadata": {},
   "outputs": [
    {
     "name": "stdout",
     "output_type": "stream",
     "text": [
      "Percentage of people who actually responded to mailout: 1.2383036171500397\n"
     ]
    }
   ],
   "source": [
    "pct = 100 * labels.sum() / len(labels)\n",
    "print(\"Percentage of people who actually responded to mailout:\", pct)"
   ]
  },
  {
   "cell_type": "code",
   "execution_count": 8,
   "metadata": {},
   "outputs": [
    {
     "name": "stdout",
     "output_type": "stream",
     "text": [
      "----------------PART-1(Identifying missing data and data-types)----------------\n",
      "Downcasting dataframe...\n",
      "Memory usage before downcasting:\n",
      "<class 'pandas.core.frame.DataFrame'>\n",
      "RangeIndex: 42962 entries, 0 to 42961\n",
      "Columns: 367 entries, LNR to CLUSTER\n",
      "dtypes: float64(267), int32(1), int64(93), object(6)\n",
      "memory usage: 120.1+ MB\n",
      "None\n",
      "Memory usage after downcasting:\n",
      "<class 'pandas.core.frame.DataFrame'>\n",
      "RangeIndex: 42962 entries, 0 to 42961\n",
      "Columns: 367 entries, LNR to CLUSTER\n",
      "dtypes: category(3), datetime64[ns](1), float32(267), int16(1), int32(1), int8(92), object(2)\n",
      "memory usage: 48.9+ MB\n",
      "None\n",
      "Identifying and replacing values representing unknown or missing data...\n",
      "Replaced X with nan in following column(s):['CAMEO_DEUG_2015']\n",
      "Replaced XX with nan in following column(s):['CAMEO_INTL_2015']\n",
      "Replaced -1 with nan in following column(s):['AGER_TYP', 'ALTERSKATEGORIE_GROB', 'ANREDE_KZ', 'BALLRAUM', 'CAMEO_DEUG_2015', 'EWDICHTE', 'FINANZTYP', 'FINANZ_ANLEGER', 'FINANZ_HAUSBAUER', 'FINANZ_MINIMALIST', 'FINANZ_SPARER', 'FINANZ_UNAUFFAELLIGER', 'FINANZ_VORSORGER', 'GEBAEUDETYP', 'HEALTH_TYP', 'HH_EINKOMMEN_SCORE', 'INNENSTADT', 'KBA05_ALTER1', 'KBA05_ALTER2', 'KBA05_ALTER3', 'KBA05_ALTER4', 'KBA05_ANHANG', 'KBA05_ANTG1', 'KBA05_ANTG2', 'KBA05_ANTG3', 'KBA05_ANTG4', 'KBA05_AUTOQUOT', 'KBA05_BAUMAX', 'KBA05_CCM1', 'KBA05_CCM2', 'KBA05_CCM3', 'KBA05_CCM4', 'KBA05_DIESEL', 'KBA05_FRAU', 'KBA05_GBZ', 'KBA05_HERST1', 'KBA05_HERST2', 'KBA05_HERST3', 'KBA05_HERST4', 'KBA05_HERST5', 'KBA05_HERSTTEMP', 'KBA05_KRSAQUOT', 'KBA05_KRSHERST1', 'KBA05_KRSHERST2', 'KBA05_KRSHERST3', 'KBA05_KRSKLEIN', 'KBA05_KRSOBER', 'KBA05_KRSVAN', 'KBA05_KRSZUL', 'KBA05_KW1', 'KBA05_KW2', 'KBA05_KW3', 'KBA05_MAXAH', 'KBA05_MAXBJ', 'KBA05_MAXHERST', 'KBA05_MAXSEG', 'KBA05_MAXVORB', 'KBA05_MOD1', 'KBA05_MOD2', 'KBA05_MOD3', 'KBA05_MOD4', 'KBA05_MOD8', 'KBA05_MODTEMP', 'KBA05_MOTOR', 'KBA05_MOTRAD', 'KBA05_SEG1', 'KBA05_SEG10', 'KBA05_SEG2', 'KBA05_SEG3', 'KBA05_SEG4', 'KBA05_SEG5', 'KBA05_SEG6', 'KBA05_SEG7', 'KBA05_SEG8', 'KBA05_SEG9', 'KBA05_VORB0', 'KBA05_VORB1', 'KBA05_VORB2', 'KBA05_ZUL1', 'KBA05_ZUL2', 'KBA05_ZUL3', 'KBA05_ZUL4', 'KBA13_ALTERHALTER_30', 'KBA13_ALTERHALTER_45', 'KBA13_ALTERHALTER_60', 'KBA13_ALTERHALTER_61', 'KBA13_AUDI', 'KBA13_AUTOQUOTE', 'KBA13_BJ_1999', 'KBA13_BJ_2000', 'KBA13_BJ_2004', 'KBA13_BJ_2006', 'KBA13_BJ_2008', 'KBA13_BJ_2009', 'KBA13_BMW', 'KBA13_CCM_1000', 'KBA13_CCM_1200', 'KBA13_CCM_1400', 'KBA13_CCM_0_1400', 'KBA13_CCM_1500', 'KBA13_CCM_1600', 'KBA13_CCM_1800', 'KBA13_CCM_2000', 'KBA13_CCM_2500', 'KBA13_CCM_2501', 'KBA13_CCM_3000', 'KBA13_CCM_3001', 'KBA13_FAB_ASIEN', 'KBA13_FAB_SONSTIGE', 'KBA13_FIAT', 'KBA13_FORD', 'KBA13_HALTER_20', 'KBA13_HALTER_25', 'KBA13_HALTER_30', 'KBA13_HALTER_35', 'KBA13_HALTER_40', 'KBA13_HALTER_45', 'KBA13_HALTER_50', 'KBA13_HALTER_55', 'KBA13_HALTER_60', 'KBA13_HALTER_65', 'KBA13_HALTER_66', 'KBA13_HERST_ASIEN', 'KBA13_HERST_AUDI_VW', 'KBA13_HERST_BMW_BENZ', 'KBA13_HERST_EUROPA', 'KBA13_HERST_FORD_OPEL', 'KBA13_HERST_SONST', 'KBA13_KMH_110', 'KBA13_KMH_140', 'KBA13_KMH_180', 'KBA13_KMH_0_140', 'KBA13_KMH_140_210', 'KBA13_KMH_211', 'KBA13_KMH_250', 'KBA13_KMH_251', 'KBA13_KRSAQUOT', 'KBA13_KRSHERST_AUDI_VW', 'KBA13_KRSHERST_BMW_BENZ', 'KBA13_KRSHERST_FORD_OPEL', 'KBA13_KRSSEG_KLEIN', 'KBA13_KRSSEG_OBER', 'KBA13_KRSSEG_VAN', 'KBA13_KRSZUL_NEU', 'KBA13_KW_30', 'KBA13_KW_40', 'KBA13_KW_50', 'KBA13_KW_60', 'KBA13_KW_0_60', 'KBA13_KW_70', 'KBA13_KW_61_120', 'KBA13_KW_80', 'KBA13_KW_90', 'KBA13_KW_110', 'KBA13_KW_120', 'KBA13_KW_121', 'KBA13_MAZDA', 'KBA13_MERCEDES', 'KBA13_MOTOR', 'KBA13_NISSAN', 'KBA13_OPEL', 'KBA13_PEUGEOT', 'KBA13_RENAULT', 'KBA13_SEG_GELAENDEWAGEN', 'KBA13_SEG_GROSSRAUMVANS', 'KBA13_SEG_KLEINST', 'KBA13_SEG_KLEINWAGEN', 'KBA13_SEG_KOMPAKTKLASSE', 'KBA13_SEG_MINIVANS', 'KBA13_SEG_MINIWAGEN', 'KBA13_SEG_MITTELKLASSE', 'KBA13_SEG_OBEREMITTELKLASSE', 'KBA13_SEG_OBERKLASSE', 'KBA13_SEG_SONSTIGE', 'KBA13_SEG_SPORTWAGEN', 'KBA13_SEG_UTILITIES', 'KBA13_SEG_VAN', 'KBA13_SEG_WOHNMOBILE', 'KBA13_SITZE_4', 'KBA13_SITZE_5', 'KBA13_SITZE_6', 'KBA13_TOYOTA', 'KBA13_VORB_0', 'KBA13_VORB_1', 'KBA13_VORB_1_2', 'KBA13_VORB_2', 'KBA13_VORB_3', 'KBA13_VW', 'KKK', 'NATIONALITAET_KZ', 'ORTSGR_KLS9', 'OST_WEST_KZ', 'PLZ8_ANTG1', 'PLZ8_ANTG2', 'PLZ8_ANTG3', 'PLZ8_ANTG4', 'PLZ8_GBZ', 'PLZ8_HHZ', 'PRAEGENDE_JUGENDJAHRE', 'REGIOTYP', 'RELAT_AB', 'SEMIO_DOM', 'SEMIO_ERL', 'SEMIO_FAM', 'SEMIO_KAEM', 'SEMIO_KRIT', 'SEMIO_KULT', 'SEMIO_LUST', 'SEMIO_MAT', 'SEMIO_PFLICHT', 'SEMIO_RAT', 'SEMIO_REL', 'SEMIO_SOZ', 'SEMIO_TRADV', 'SEMIO_VERT', 'SHOPPER_TYP', 'TITEL_KZ', 'VERS_TYP', 'WOHNDAUER_2008', 'WOHNLAGE', 'W_KEIT_KIND_HH', 'ZABEOTYP']\n",
      "Replaced 0 with nan in following column(s):['ALTERSKATEGORIE_GROB', 'ALTER_HH', 'ANREDE_KZ', 'CJT_GESAMTTYP', 'GEBAEUDETYP', 'HH_EINKOMMEN_SCORE', 'KBA05_BAUMAX', 'KBA05_GBZ', 'KKK', 'NATIONALITAET_KZ', 'PRAEGENDE_JUGENDJAHRE', 'REGIOTYP', 'RETOURTYP_BK_S', 'TITEL_KZ', 'WOHNDAUER_2008', 'W_KEIT_KIND_HH']\n",
      "Replaced 9 with nan in following column(s):['KBA05_ALTER1', 'KBA05_ALTER2', 'KBA05_ALTER3', 'KBA05_ALTER4', 'KBA05_ANHANG', 'KBA05_AUTOQUOT', 'KBA05_CCM1', 'KBA05_CCM2', 'KBA05_CCM3', 'KBA05_CCM4', 'KBA05_DIESEL', 'KBA05_FRAU', 'KBA05_HERST1', 'KBA05_HERST2', 'KBA05_HERST3', 'KBA05_HERST4', 'KBA05_HERST5', 'KBA05_HERSTTEMP', 'KBA05_KRSAQUOT', 'KBA05_KRSHERST1', 'KBA05_KRSHERST2', 'KBA05_KRSHERST3', 'KBA05_KRSKLEIN', 'KBA05_KRSOBER', 'KBA05_KRSVAN', 'KBA05_KRSZUL', 'KBA05_KW1', 'KBA05_KW2', 'KBA05_KW3', 'KBA05_MAXAH', 'KBA05_MAXBJ', 'KBA05_MAXHERST', 'KBA05_MAXSEG', 'KBA05_MAXVORB', 'KBA05_MOD1', 'KBA05_MOD2', 'KBA05_MOD3', 'KBA05_MOD4', 'KBA05_MOD8', 'KBA05_MODTEMP', 'KBA05_MOTOR', 'KBA05_MOTRAD', 'KBA05_SEG1', 'KBA05_SEG10', 'KBA05_SEG2', 'KBA05_SEG3', 'KBA05_SEG4', 'KBA05_SEG5', 'KBA05_SEG6', 'KBA05_SEG7', 'KBA05_SEG8', 'KBA05_SEG9', 'KBA05_VORB0', 'KBA05_VORB1', 'KBA05_VORB2', 'KBA05_ZUL1', 'KBA05_ZUL2', 'KBA05_ZUL3', 'KBA05_ZUL4', 'RELAT_AB', 'SEMIO_DOM', 'SEMIO_ERL', 'SEMIO_FAM', 'SEMIO_KAEM', 'SEMIO_KRIT', 'SEMIO_KULT', 'SEMIO_LUST', 'SEMIO_MAT', 'SEMIO_PFLICHT', 'SEMIO_RAT', 'SEMIO_REL', 'SEMIO_SOZ', 'SEMIO_TRADV', 'SEMIO_VERT', 'ZABEOTYP']\n",
      "Extracting year from datetime cols...\n",
      "Converting ['CAMEO_INTL_2015', 'CAMEO_DEUG_2015'] to integer data type...\n",
      "\n",
      "----------------PART-2(Removing Columns)----------------\n",
      "Removing ['AGER_TYP', 'KK_KUNDENTYP', 'KKK', 'TITEL_KZ', 'EXTSEL992', 'ALTER_KIND3', 'ALTER_KIND4', 'KBA05_BAUMAX', 'ALTER_KIND2', 'ALTER_KIND1', 'ALTER_HH', 'REGIOTYP', 'CAMEO_DEU_2015'] columns...\n",
      "Shape after removing data:(42962, 354)\n",
      "\n",
      "Bining columns...\n",
      "\n",
      "----------------PART-3(Imputing missing data)----------------\n",
      "Imputing ['AKT_DAT_KL', 'ALTERSKATEGORIE_FEIN', 'ANZ_HAUSHALTE_AKTIV', 'ANZ_HH_TITEL', 'ANZ_KINDER', 'ANZ_PERSONEN', 'ANZ_STATISTISCHE_HAUSHALTE', 'ANZ_TITEL', 'ARBEIT', 'BALLRAUM', 'CAMEO_DEUG_2015', 'CAMEO_INTL_2015', 'CJT_GESAMTTYP', 'CJT_KATALOGNUTZER', 'CJT_TYP_1', 'CJT_TYP_2', 'CJT_TYP_3', 'CJT_TYP_4', 'CJT_TYP_5', 'CJT_TYP_6', 'D19_BANKEN_ONLINE_QUOTE_12', 'D19_GESAMT_ONLINE_QUOTE_12', 'D19_KONSUMTYP', 'D19_LOTTO', 'D19_SOZIALES', 'D19_TELKO_ONLINE_QUOTE_12', 'D19_VERSAND_ONLINE_QUOTE_12', 'D19_VERSI_ONLINE_QUOTE_12', 'DSL_FLAG', 'EINGEFUEGT_AM', 'EINGEZOGENAM_HH_JAHR', 'EWDICHTE', 'FINANZ_ANLEGER', 'FINANZ_HAUSBAUER', 'FINANZ_MINIMALIST', 'FINANZ_SPARER', 'FINANZ_UNAUFFAELLIGER', 'FINANZ_VORSORGER', 'FINANZTYP', 'FIRMENDICHTE', 'GEBAEUDETYP', 'GEBAEUDETYP_RASTER', 'GEBURTSJAHR', 'GEMEINDETYP', 'GFK_URLAUBERTYP', 'HEALTH_TYP', 'HH_DELTA_FLAG', 'HH_EINKOMMEN_SCORE', 'INNENSTADT', 'KBA05_ALTER1', 'KBA05_ALTER2', 'KBA05_ALTER3', 'KBA05_ALTER4', 'KBA05_ANHANG', 'KBA05_ANTG1', 'KBA05_ANTG2', 'KBA05_ANTG3', 'KBA05_ANTG4', 'KBA05_AUTOQUOT', 'KBA05_CCM1', 'KBA05_CCM2', 'KBA05_CCM3', 'KBA05_CCM4', 'KBA05_DIESEL', 'KBA05_FRAU', 'KBA05_GBZ', 'KBA05_HERST1', 'KBA05_HERST2', 'KBA05_HERST3', 'KBA05_HERST4', 'KBA05_HERST5', 'KBA05_HERSTTEMP', 'KBA05_KRSAQUOT', 'KBA05_KRSHERST1', 'KBA05_KRSHERST2', 'KBA05_KRSHERST3', 'KBA05_KRSKLEIN', 'KBA05_KRSOBER', 'KBA05_KRSVAN', 'KBA05_KRSZUL', 'KBA05_KW1', 'KBA05_KW2', 'KBA05_KW3', 'KBA05_MAXAH', 'KBA05_MAXBJ', 'KBA05_MAXHERST', 'KBA05_MAXSEG', 'KBA05_MAXVORB', 'KBA05_MOD1', 'KBA05_MOD2', 'KBA05_MOD3', 'KBA05_MOD4', 'KBA05_MOD8', 'KBA05_MODTEMP', 'KBA05_MOTOR', 'KBA05_MOTRAD', 'KBA05_SEG1', 'KBA05_SEG10', 'KBA05_SEG2', 'KBA05_SEG3', 'KBA05_SEG4', 'KBA05_SEG5', 'KBA05_SEG6', 'KBA05_SEG7', 'KBA05_SEG8', 'KBA05_SEG9', 'KBA05_VORB0', 'KBA05_VORB1', 'KBA05_VORB2', 'KBA05_ZUL1', 'KBA05_ZUL2', 'KBA05_ZUL3', 'KBA05_ZUL4', 'KBA13_ALTERHALTER_30', 'KBA13_ALTERHALTER_45', 'KBA13_ALTERHALTER_60', 'KBA13_ALTERHALTER_61', 'KBA13_ANTG1', 'KBA13_ANTG2', 'KBA13_ANTG3', 'KBA13_ANTG4', 'KBA13_ANZAHL_PKW', 'KBA13_AUDI', 'KBA13_AUTOQUOTE', 'KBA13_BAUMAX', 'KBA13_BJ_1999', 'KBA13_BJ_2000', 'KBA13_BJ_2004', 'KBA13_BJ_2006', 'KBA13_BJ_2008', 'KBA13_BJ_2009', 'KBA13_BMW', 'KBA13_CCM_0_1400', 'KBA13_CCM_1000', 'KBA13_CCM_1200', 'KBA13_CCM_1400', 'KBA13_CCM_1401_2500', 'KBA13_CCM_1500', 'KBA13_CCM_1600', 'KBA13_CCM_1800', 'KBA13_CCM_2000', 'KBA13_CCM_2500', 'KBA13_CCM_2501', 'KBA13_CCM_3000', 'KBA13_CCM_3001', 'KBA13_FAB_ASIEN', 'KBA13_FAB_SONSTIGE', 'KBA13_FIAT', 'KBA13_FORD', 'KBA13_GBZ', 'KBA13_HALTER_20', 'KBA13_HALTER_25', 'KBA13_HALTER_30', 'KBA13_HALTER_35', 'KBA13_HALTER_40', 'KBA13_HALTER_45', 'KBA13_HALTER_50', 'KBA13_HALTER_55', 'KBA13_HALTER_60', 'KBA13_HALTER_65', 'KBA13_HALTER_66', 'KBA13_HERST_ASIEN', 'KBA13_HERST_AUDI_VW', 'KBA13_HERST_BMW_BENZ', 'KBA13_HERST_EUROPA', 'KBA13_HERST_FORD_OPEL', 'KBA13_HERST_SONST', 'KBA13_HHZ', 'KBA13_KMH_0_140', 'KBA13_KMH_110', 'KBA13_KMH_140', 'KBA13_KMH_140_210', 'KBA13_KMH_180', 'KBA13_KMH_210', 'KBA13_KMH_211', 'KBA13_KMH_250', 'KBA13_KMH_251', 'KBA13_KRSAQUOT', 'KBA13_KRSHERST_AUDI_VW', 'KBA13_KRSHERST_BMW_BENZ', 'KBA13_KRSHERST_FORD_OPEL', 'KBA13_KRSSEG_KLEIN', 'KBA13_KRSSEG_OBER', 'KBA13_KRSSEG_VAN', 'KBA13_KRSZUL_NEU', 'KBA13_KW_0_60', 'KBA13_KW_110', 'KBA13_KW_120', 'KBA13_KW_121', 'KBA13_KW_30', 'KBA13_KW_40', 'KBA13_KW_50', 'KBA13_KW_60', 'KBA13_KW_61_120', 'KBA13_KW_70', 'KBA13_KW_80', 'KBA13_KW_90', 'KBA13_MAZDA', 'KBA13_MERCEDES', 'KBA13_MOTOR', 'KBA13_NISSAN', 'KBA13_OPEL', 'KBA13_PEUGEOT', 'KBA13_RENAULT', 'KBA13_SEG_GELAENDEWAGEN', 'KBA13_SEG_GROSSRAUMVANS', 'KBA13_SEG_KLEINST', 'KBA13_SEG_KLEINWAGEN', 'KBA13_SEG_KOMPAKTKLASSE', 'KBA13_SEG_MINIVANS', 'KBA13_SEG_MINIWAGEN', 'KBA13_SEG_MITTELKLASSE', 'KBA13_SEG_OBEREMITTELKLASSE', 'KBA13_SEG_OBERKLASSE', 'KBA13_SEG_SONSTIGE', 'KBA13_SEG_SPORTWAGEN', 'KBA13_SEG_UTILITIES', 'KBA13_SEG_VAN', 'KBA13_SEG_WOHNMOBILE', 'KBA13_SITZE_4', 'KBA13_SITZE_5', 'KBA13_SITZE_6', 'KBA13_TOYOTA', 'KBA13_VORB_0', 'KBA13_VORB_1', 'KBA13_VORB_1_2', 'KBA13_VORB_2', 'KBA13_VORB_3', 'KBA13_VW', 'KONSUMNAEHE', 'KONSUMZELLE', 'LP_FAMILIE_FEIN', 'LP_FAMILIE_GROB', 'LP_LEBENSPHASE_FEIN', 'LP_LEBENSPHASE_GROB', 'LP_STATUS_FEIN', 'LP_STATUS_GROB', 'MIN_GEBAEUDEJAHR', 'MOBI_RASTER', 'MOBI_REGIO', 'NATIONALITAET_KZ', 'ONLINE_AFFINITAET', 'ORTSGR_KLS9', 'PLZ8_ANTG1', 'PLZ8_ANTG2', 'PLZ8_ANTG3', 'PLZ8_ANTG4', 'PLZ8_BAUMAX', 'PLZ8_GBZ', 'PLZ8_HHZ', 'PRAEGENDE_JUGENDJAHRE', 'RELAT_AB', 'RETOURTYP_BK_S', 'RT_KEIN_ANREIZ', 'RT_SCHNAEPPCHEN', 'RT_UEBERGROESSE', 'SEMIO_DOM', 'SEMIO_ERL', 'SEMIO_FAM', 'SEMIO_KAEM', 'SEMIO_KRIT', 'SEMIO_KULT', 'SEMIO_LUST', 'SEMIO_MAT', 'SEMIO_PFLICHT', 'SEMIO_RAT', 'SEMIO_REL', 'SEMIO_SOZ', 'SEMIO_TRADV', 'SEMIO_VERT', 'SHOPPER_TYP', 'SOHO_KZ', 'STRUKTURTYP', 'UMFELD_ALT', 'UMFELD_JUNG', 'UNGLEICHENN_FLAG', 'VERDICHTUNGSRAUM', 'VERS_TYP', 'VHA', 'VHN', 'VK_DHT4A', 'VK_DISTANZ', 'VK_ZG11', 'W_KEIT_KIND_HH', 'WOHNDAUER_2008', 'WOHNLAGE', 'ZABEOTYP', 'ANREDE_KZ', 'ALTERSKATEGORIE_GROB'] columns...\n",
      "Imputing ['D19_LETZTER_KAUF_BRANCHE', 'OST_WEST_KZ'] columns...\n",
      "----------------PART-4(Encoding categorical data)----------------\n",
      "Shape before encoding (42962, 354)\n",
      "Shape after encoding (42962, 389)\n",
      "----------------PART-4(Scaling data)----------------\n"
     ]
    },
    {
     "name": "stderr",
     "output_type": "stream",
     "text": [
      "C:\\Users\\Arijit Aakriti\\Anaconda3\\lib\\site-packages\\sklearn\\preprocessing\\data.py:645: DataConversionWarning: Data with input dtype int8, uint8, float64 were all converted to float64 by StandardScaler.\n",
      "  return self.partial_fit(X, y)\n",
      "C:\\Users\\Arijit Aakriti\\Anaconda3\\lib\\site-packages\\sklearn\\base.py:464: DataConversionWarning: Data with input dtype int8, uint8, float64 were all converted to float64 by StandardScaler.\n",
      "  return self.fit(X, **fit_params).transform(X)\n"
     ]
    },
    {
     "name": "stdout",
     "output_type": "stream",
     "text": [
      "Downcasting data...\n",
      "Memory usage after downcasting:\n",
      "<class 'pandas.core.frame.DataFrame'>\n",
      "RangeIndex: 42962 entries, 0 to 42961\n",
      "Columns: 389 entries, AKT_DAT_KL to LNR\n",
      "dtypes: float32(388), int32(1)\n",
      "memory usage: 63.8 MB\n",
      "None\n"
     ]
    }
   ],
   "source": [
    "train_clean = preprocess(train)"
   ]
  },
  {
   "cell_type": "code",
   "execution_count": 9,
   "metadata": {},
   "outputs": [],
   "source": [
    "def create_base_models():\n",
    "    '''\n",
    "    Creates base models.\n",
    "    \n",
    "    Args:\n",
    "        None\n",
    "    \n",
    "    Returns:\n",
    "        baseModels (list) - list containing base models.\n",
    "    '''\n",
    "    basedModels = []\n",
    "    basedModels.append(('LR', LogisticRegression(solver='liblinear', random_state=SEED)))\n",
    "    basedModels.append(('RF', RandomForestClassifier(n_estimators=100, random_state=SEED)))\n",
    "    basedModels.append(('XGB', xgb.XGBClassifier(random_state=SEED)))\n",
    "    basedModels.append(('GB', GradientBoostingClassifier(random_state=SEED)))\n",
    "    basedModels.append(('MLP', MLPClassifier(random_state=SEED)))\n",
    "    \n",
    "    return basedModels"
   ]
  },
  {
   "cell_type": "code",
   "execution_count": 37,
   "metadata": {},
   "outputs": [
    {
     "name": "stdout",
     "output_type": "stream",
     "text": [
      "----------------PART-1(Identifying missing data and data-types)----------------\n",
      "Downcasting dataframe...\n",
      "Memory usage before downcasting:\n",
      "<class 'pandas.core.frame.DataFrame'>\n",
      "RangeIndex: 42962 entries, 0 to 42961\n",
      "Columns: 367 entries, LNR to CLUSTER\n",
      "dtypes: float64(267), int32(1), int64(93), object(6)\n",
      "memory usage: 120.1+ MB\n",
      "None\n",
      "Memory usage after downcasting:\n",
      "<class 'pandas.core.frame.DataFrame'>\n",
      "RangeIndex: 42962 entries, 0 to 42961\n",
      "Columns: 367 entries, LNR to CLUSTER\n",
      "dtypes: category(3), datetime64[ns](1), float32(267), int16(1), int32(1), int8(92), object(2)\n",
      "memory usage: 48.9+ MB\n",
      "None\n",
      "Identifying and replacing values representing unknown or missing data...\n",
      "Replaced X with nan in following column(s):['CAMEO_DEUG_2015']\n",
      "Replaced XX with nan in following column(s):['CAMEO_INTL_2015']\n",
      "Replaced -1 with nan in following column(s):['AGER_TYP', 'ALTERSKATEGORIE_GROB', 'ANREDE_KZ', 'BALLRAUM', 'CAMEO_DEUG_2015', 'EWDICHTE', 'FINANZTYP', 'FINANZ_ANLEGER', 'FINANZ_HAUSBAUER', 'FINANZ_MINIMALIST', 'FINANZ_SPARER', 'FINANZ_UNAUFFAELLIGER', 'FINANZ_VORSORGER', 'GEBAEUDETYP', 'HEALTH_TYP', 'HH_EINKOMMEN_SCORE', 'INNENSTADT', 'KBA05_ALTER1', 'KBA05_ALTER2', 'KBA05_ALTER3', 'KBA05_ALTER4', 'KBA05_ANHANG', 'KBA05_ANTG1', 'KBA05_ANTG2', 'KBA05_ANTG3', 'KBA05_ANTG4', 'KBA05_AUTOQUOT', 'KBA05_BAUMAX', 'KBA05_CCM1', 'KBA05_CCM2', 'KBA05_CCM3', 'KBA05_CCM4', 'KBA05_DIESEL', 'KBA05_FRAU', 'KBA05_GBZ', 'KBA05_HERST1', 'KBA05_HERST2', 'KBA05_HERST3', 'KBA05_HERST4', 'KBA05_HERST5', 'KBA05_HERSTTEMP', 'KBA05_KRSAQUOT', 'KBA05_KRSHERST1', 'KBA05_KRSHERST2', 'KBA05_KRSHERST3', 'KBA05_KRSKLEIN', 'KBA05_KRSOBER', 'KBA05_KRSVAN', 'KBA05_KRSZUL', 'KBA05_KW1', 'KBA05_KW2', 'KBA05_KW3', 'KBA05_MAXAH', 'KBA05_MAXBJ', 'KBA05_MAXHERST', 'KBA05_MAXSEG', 'KBA05_MAXVORB', 'KBA05_MOD1', 'KBA05_MOD2', 'KBA05_MOD3', 'KBA05_MOD4', 'KBA05_MOD8', 'KBA05_MODTEMP', 'KBA05_MOTOR', 'KBA05_MOTRAD', 'KBA05_SEG1', 'KBA05_SEG10', 'KBA05_SEG2', 'KBA05_SEG3', 'KBA05_SEG4', 'KBA05_SEG5', 'KBA05_SEG6', 'KBA05_SEG7', 'KBA05_SEG8', 'KBA05_SEG9', 'KBA05_VORB0', 'KBA05_VORB1', 'KBA05_VORB2', 'KBA05_ZUL1', 'KBA05_ZUL2', 'KBA05_ZUL3', 'KBA05_ZUL4', 'KBA13_ALTERHALTER_30', 'KBA13_ALTERHALTER_45', 'KBA13_ALTERHALTER_60', 'KBA13_ALTERHALTER_61', 'KBA13_AUDI', 'KBA13_AUTOQUOTE', 'KBA13_BJ_1999', 'KBA13_BJ_2000', 'KBA13_BJ_2004', 'KBA13_BJ_2006', 'KBA13_BJ_2008', 'KBA13_BJ_2009', 'KBA13_BMW', 'KBA13_CCM_1000', 'KBA13_CCM_1200', 'KBA13_CCM_1400', 'KBA13_CCM_0_1400', 'KBA13_CCM_1500', 'KBA13_CCM_1600', 'KBA13_CCM_1800', 'KBA13_CCM_2000', 'KBA13_CCM_2500', 'KBA13_CCM_2501', 'KBA13_CCM_3000', 'KBA13_CCM_3001', 'KBA13_FAB_ASIEN', 'KBA13_FAB_SONSTIGE', 'KBA13_FIAT', 'KBA13_FORD', 'KBA13_HALTER_20', 'KBA13_HALTER_25', 'KBA13_HALTER_30', 'KBA13_HALTER_35', 'KBA13_HALTER_40', 'KBA13_HALTER_45', 'KBA13_HALTER_50', 'KBA13_HALTER_55', 'KBA13_HALTER_60', 'KBA13_HALTER_65', 'KBA13_HALTER_66', 'KBA13_HERST_ASIEN', 'KBA13_HERST_AUDI_VW', 'KBA13_HERST_BMW_BENZ', 'KBA13_HERST_EUROPA', 'KBA13_HERST_FORD_OPEL', 'KBA13_HERST_SONST', 'KBA13_KMH_110', 'KBA13_KMH_140', 'KBA13_KMH_180', 'KBA13_KMH_0_140', 'KBA13_KMH_140_210', 'KBA13_KMH_211', 'KBA13_KMH_250', 'KBA13_KMH_251', 'KBA13_KRSAQUOT', 'KBA13_KRSHERST_AUDI_VW', 'KBA13_KRSHERST_BMW_BENZ', 'KBA13_KRSHERST_FORD_OPEL', 'KBA13_KRSSEG_KLEIN', 'KBA13_KRSSEG_OBER', 'KBA13_KRSSEG_VAN', 'KBA13_KRSZUL_NEU', 'KBA13_KW_30', 'KBA13_KW_40', 'KBA13_KW_50', 'KBA13_KW_60', 'KBA13_KW_0_60', 'KBA13_KW_70', 'KBA13_KW_61_120', 'KBA13_KW_80', 'KBA13_KW_90', 'KBA13_KW_110', 'KBA13_KW_120', 'KBA13_KW_121', 'KBA13_MAZDA', 'KBA13_MERCEDES', 'KBA13_MOTOR', 'KBA13_NISSAN', 'KBA13_OPEL', 'KBA13_PEUGEOT', 'KBA13_RENAULT', 'KBA13_SEG_GELAENDEWAGEN', 'KBA13_SEG_GROSSRAUMVANS', 'KBA13_SEG_KLEINST', 'KBA13_SEG_KLEINWAGEN', 'KBA13_SEG_KOMPAKTKLASSE', 'KBA13_SEG_MINIVANS', 'KBA13_SEG_MINIWAGEN', 'KBA13_SEG_MITTELKLASSE', 'KBA13_SEG_OBEREMITTELKLASSE', 'KBA13_SEG_OBERKLASSE', 'KBA13_SEG_SONSTIGE', 'KBA13_SEG_SPORTWAGEN', 'KBA13_SEG_UTILITIES', 'KBA13_SEG_VAN', 'KBA13_SEG_WOHNMOBILE', 'KBA13_SITZE_4', 'KBA13_SITZE_5', 'KBA13_SITZE_6', 'KBA13_TOYOTA', 'KBA13_VORB_0', 'KBA13_VORB_1', 'KBA13_VORB_1_2', 'KBA13_VORB_2', 'KBA13_VORB_3', 'KBA13_VW', 'KKK', 'NATIONALITAET_KZ', 'ORTSGR_KLS9', 'OST_WEST_KZ', 'PLZ8_ANTG1', 'PLZ8_ANTG2', 'PLZ8_ANTG3', 'PLZ8_ANTG4', 'PLZ8_GBZ', 'PLZ8_HHZ', 'PRAEGENDE_JUGENDJAHRE', 'REGIOTYP', 'RELAT_AB', 'SEMIO_DOM', 'SEMIO_ERL', 'SEMIO_FAM', 'SEMIO_KAEM', 'SEMIO_KRIT', 'SEMIO_KULT', 'SEMIO_LUST', 'SEMIO_MAT', 'SEMIO_PFLICHT', 'SEMIO_RAT', 'SEMIO_REL', 'SEMIO_SOZ', 'SEMIO_TRADV', 'SEMIO_VERT', 'SHOPPER_TYP', 'TITEL_KZ', 'VERS_TYP', 'WOHNDAUER_2008', 'WOHNLAGE', 'W_KEIT_KIND_HH', 'ZABEOTYP']\n",
      "Replaced 0 with nan in following column(s):['ALTERSKATEGORIE_GROB', 'ALTER_HH', 'ANREDE_KZ', 'CJT_GESAMTTYP', 'GEBAEUDETYP', 'HH_EINKOMMEN_SCORE', 'KBA05_BAUMAX', 'KBA05_GBZ', 'KKK', 'NATIONALITAET_KZ', 'PRAEGENDE_JUGENDJAHRE', 'REGIOTYP', 'RETOURTYP_BK_S', 'TITEL_KZ', 'WOHNDAUER_2008', 'W_KEIT_KIND_HH']\n",
      "Replaced 9 with nan in following column(s):['KBA05_ALTER1', 'KBA05_ALTER2', 'KBA05_ALTER3', 'KBA05_ALTER4', 'KBA05_ANHANG', 'KBA05_AUTOQUOT', 'KBA05_CCM1', 'KBA05_CCM2', 'KBA05_CCM3', 'KBA05_CCM4', 'KBA05_DIESEL', 'KBA05_FRAU', 'KBA05_HERST1', 'KBA05_HERST2', 'KBA05_HERST3', 'KBA05_HERST4', 'KBA05_HERST5', 'KBA05_HERSTTEMP', 'KBA05_KRSAQUOT', 'KBA05_KRSHERST1', 'KBA05_KRSHERST2', 'KBA05_KRSHERST3', 'KBA05_KRSKLEIN', 'KBA05_KRSOBER', 'KBA05_KRSVAN', 'KBA05_KRSZUL', 'KBA05_KW1', 'KBA05_KW2', 'KBA05_KW3', 'KBA05_MAXAH', 'KBA05_MAXBJ', 'KBA05_MAXHERST', 'KBA05_MAXSEG', 'KBA05_MAXVORB', 'KBA05_MOD1', 'KBA05_MOD2', 'KBA05_MOD3', 'KBA05_MOD4', 'KBA05_MOD8', 'KBA05_MODTEMP', 'KBA05_MOTOR', 'KBA05_MOTRAD', 'KBA05_SEG1', 'KBA05_SEG10', 'KBA05_SEG2', 'KBA05_SEG3', 'KBA05_SEG4', 'KBA05_SEG5', 'KBA05_SEG6', 'KBA05_SEG7', 'KBA05_SEG8', 'KBA05_SEG9', 'KBA05_VORB0', 'KBA05_VORB1', 'KBA05_VORB2', 'KBA05_ZUL1', 'KBA05_ZUL2', 'KBA05_ZUL3', 'KBA05_ZUL4', 'RELAT_AB', 'SEMIO_DOM', 'SEMIO_ERL', 'SEMIO_FAM', 'SEMIO_KAEM', 'SEMIO_KRIT', 'SEMIO_KULT', 'SEMIO_LUST', 'SEMIO_MAT', 'SEMIO_PFLICHT', 'SEMIO_RAT', 'SEMIO_REL', 'SEMIO_SOZ', 'SEMIO_TRADV', 'SEMIO_VERT', 'ZABEOTYP']\n",
      "Extracting year from datetime cols...\n",
      "Converting ['CAMEO_INTL_2015', 'CAMEO_DEUG_2015'] to integer data type...\n",
      "\n",
      "----------------PART-2(Removing Columns)----------------\n",
      "Removing ['AGER_TYP', 'KK_KUNDENTYP', 'KKK', 'TITEL_KZ', 'EXTSEL992', 'ALTER_KIND3', 'ALTER_KIND4', 'KBA05_BAUMAX', 'ALTER_KIND2', 'ALTER_KIND1', 'ALTER_HH', 'REGIOTYP', 'CAMEO_DEU_2015'] columns...\n",
      "Shape after removing data:(42962, 354)\n",
      "\n",
      "Bining columns...\n",
      "\n",
      "----------------PART-3(Imputing missing data)----------------\n",
      "Imputing ['AKT_DAT_KL', 'ALTERSKATEGORIE_FEIN', 'ANZ_HAUSHALTE_AKTIV', 'ANZ_HH_TITEL', 'ANZ_KINDER', 'ANZ_PERSONEN', 'ANZ_STATISTISCHE_HAUSHALTE', 'ANZ_TITEL', 'ARBEIT', 'BALLRAUM', 'CAMEO_DEUG_2015', 'CAMEO_INTL_2015', 'CJT_GESAMTTYP', 'CJT_KATALOGNUTZER', 'CJT_TYP_1', 'CJT_TYP_2', 'CJT_TYP_3', 'CJT_TYP_4', 'CJT_TYP_5', 'CJT_TYP_6', 'D19_BANKEN_ONLINE_QUOTE_12', 'D19_GESAMT_ONLINE_QUOTE_12', 'D19_KONSUMTYP', 'D19_LOTTO', 'D19_SOZIALES', 'D19_TELKO_ONLINE_QUOTE_12', 'D19_VERSAND_ONLINE_QUOTE_12', 'D19_VERSI_ONLINE_QUOTE_12', 'DSL_FLAG', 'EINGEFUEGT_AM', 'EINGEZOGENAM_HH_JAHR', 'EWDICHTE', 'FINANZ_ANLEGER', 'FINANZ_HAUSBAUER', 'FINANZ_MINIMALIST', 'FINANZ_SPARER', 'FINANZ_UNAUFFAELLIGER', 'FINANZ_VORSORGER', 'FINANZTYP', 'FIRMENDICHTE', 'GEBAEUDETYP', 'GEBAEUDETYP_RASTER', 'GEBURTSJAHR', 'GEMEINDETYP', 'GFK_URLAUBERTYP', 'HEALTH_TYP', 'HH_DELTA_FLAG', 'HH_EINKOMMEN_SCORE', 'INNENSTADT', 'KBA05_ALTER1', 'KBA05_ALTER2', 'KBA05_ALTER3', 'KBA05_ALTER4', 'KBA05_ANHANG', 'KBA05_ANTG1', 'KBA05_ANTG2', 'KBA05_ANTG3', 'KBA05_ANTG4', 'KBA05_AUTOQUOT', 'KBA05_CCM1', 'KBA05_CCM2', 'KBA05_CCM3', 'KBA05_CCM4', 'KBA05_DIESEL', 'KBA05_FRAU', 'KBA05_GBZ', 'KBA05_HERST1', 'KBA05_HERST2', 'KBA05_HERST3', 'KBA05_HERST4', 'KBA05_HERST5', 'KBA05_HERSTTEMP', 'KBA05_KRSAQUOT', 'KBA05_KRSHERST1', 'KBA05_KRSHERST2', 'KBA05_KRSHERST3', 'KBA05_KRSKLEIN', 'KBA05_KRSOBER', 'KBA05_KRSVAN', 'KBA05_KRSZUL', 'KBA05_KW1', 'KBA05_KW2', 'KBA05_KW3', 'KBA05_MAXAH', 'KBA05_MAXBJ', 'KBA05_MAXHERST', 'KBA05_MAXSEG', 'KBA05_MAXVORB', 'KBA05_MOD1', 'KBA05_MOD2', 'KBA05_MOD3', 'KBA05_MOD4', 'KBA05_MOD8', 'KBA05_MODTEMP', 'KBA05_MOTOR', 'KBA05_MOTRAD', 'KBA05_SEG1', 'KBA05_SEG10', 'KBA05_SEG2', 'KBA05_SEG3', 'KBA05_SEG4', 'KBA05_SEG5', 'KBA05_SEG6', 'KBA05_SEG7', 'KBA05_SEG8', 'KBA05_SEG9', 'KBA05_VORB0', 'KBA05_VORB1', 'KBA05_VORB2', 'KBA05_ZUL1', 'KBA05_ZUL2', 'KBA05_ZUL3', 'KBA05_ZUL4', 'KBA13_ALTERHALTER_30', 'KBA13_ALTERHALTER_45', 'KBA13_ALTERHALTER_60', 'KBA13_ALTERHALTER_61', 'KBA13_ANTG1', 'KBA13_ANTG2', 'KBA13_ANTG3', 'KBA13_ANTG4', 'KBA13_ANZAHL_PKW', 'KBA13_AUDI', 'KBA13_AUTOQUOTE', 'KBA13_BAUMAX', 'KBA13_BJ_1999', 'KBA13_BJ_2000', 'KBA13_BJ_2004', 'KBA13_BJ_2006', 'KBA13_BJ_2008', 'KBA13_BJ_2009', 'KBA13_BMW', 'KBA13_CCM_0_1400', 'KBA13_CCM_1000', 'KBA13_CCM_1200', 'KBA13_CCM_1400', 'KBA13_CCM_1401_2500', 'KBA13_CCM_1500', 'KBA13_CCM_1600', 'KBA13_CCM_1800', 'KBA13_CCM_2000', 'KBA13_CCM_2500', 'KBA13_CCM_2501', 'KBA13_CCM_3000', 'KBA13_CCM_3001', 'KBA13_FAB_ASIEN', 'KBA13_FAB_SONSTIGE', 'KBA13_FIAT', 'KBA13_FORD', 'KBA13_GBZ', 'KBA13_HALTER_20', 'KBA13_HALTER_25', 'KBA13_HALTER_30', 'KBA13_HALTER_35', 'KBA13_HALTER_40', 'KBA13_HALTER_45', 'KBA13_HALTER_50', 'KBA13_HALTER_55', 'KBA13_HALTER_60', 'KBA13_HALTER_65', 'KBA13_HALTER_66', 'KBA13_HERST_ASIEN', 'KBA13_HERST_AUDI_VW', 'KBA13_HERST_BMW_BENZ', 'KBA13_HERST_EUROPA', 'KBA13_HERST_FORD_OPEL', 'KBA13_HERST_SONST', 'KBA13_HHZ', 'KBA13_KMH_0_140', 'KBA13_KMH_110', 'KBA13_KMH_140', 'KBA13_KMH_140_210', 'KBA13_KMH_180', 'KBA13_KMH_210', 'KBA13_KMH_211', 'KBA13_KMH_250', 'KBA13_KMH_251', 'KBA13_KRSAQUOT', 'KBA13_KRSHERST_AUDI_VW', 'KBA13_KRSHERST_BMW_BENZ', 'KBA13_KRSHERST_FORD_OPEL', 'KBA13_KRSSEG_KLEIN', 'KBA13_KRSSEG_OBER', 'KBA13_KRSSEG_VAN', 'KBA13_KRSZUL_NEU', 'KBA13_KW_0_60', 'KBA13_KW_110', 'KBA13_KW_120', 'KBA13_KW_121', 'KBA13_KW_30', 'KBA13_KW_40', 'KBA13_KW_50', 'KBA13_KW_60', 'KBA13_KW_61_120', 'KBA13_KW_70', 'KBA13_KW_80', 'KBA13_KW_90', 'KBA13_MAZDA', 'KBA13_MERCEDES', 'KBA13_MOTOR', 'KBA13_NISSAN', 'KBA13_OPEL', 'KBA13_PEUGEOT', 'KBA13_RENAULT', 'KBA13_SEG_GELAENDEWAGEN', 'KBA13_SEG_GROSSRAUMVANS', 'KBA13_SEG_KLEINST', 'KBA13_SEG_KLEINWAGEN', 'KBA13_SEG_KOMPAKTKLASSE', 'KBA13_SEG_MINIVANS', 'KBA13_SEG_MINIWAGEN', 'KBA13_SEG_MITTELKLASSE', 'KBA13_SEG_OBEREMITTELKLASSE', 'KBA13_SEG_OBERKLASSE', 'KBA13_SEG_SONSTIGE', 'KBA13_SEG_SPORTWAGEN', 'KBA13_SEG_UTILITIES', 'KBA13_SEG_VAN', 'KBA13_SEG_WOHNMOBILE', 'KBA13_SITZE_4', 'KBA13_SITZE_5', 'KBA13_SITZE_6', 'KBA13_TOYOTA', 'KBA13_VORB_0', 'KBA13_VORB_1', 'KBA13_VORB_1_2', 'KBA13_VORB_2', 'KBA13_VORB_3', 'KBA13_VW', 'KONSUMNAEHE', 'KONSUMZELLE', 'LP_FAMILIE_FEIN', 'LP_FAMILIE_GROB', 'LP_LEBENSPHASE_FEIN', 'LP_LEBENSPHASE_GROB', 'LP_STATUS_FEIN', 'LP_STATUS_GROB', 'MIN_GEBAEUDEJAHR', 'MOBI_RASTER', 'MOBI_REGIO', 'NATIONALITAET_KZ', 'ONLINE_AFFINITAET', 'ORTSGR_KLS9', 'PLZ8_ANTG1', 'PLZ8_ANTG2', 'PLZ8_ANTG3', 'PLZ8_ANTG4', 'PLZ8_BAUMAX', 'PLZ8_GBZ', 'PLZ8_HHZ', 'PRAEGENDE_JUGENDJAHRE', 'RELAT_AB', 'RETOURTYP_BK_S', 'RT_KEIN_ANREIZ', 'RT_SCHNAEPPCHEN', 'RT_UEBERGROESSE', 'SEMIO_DOM', 'SEMIO_ERL', 'SEMIO_FAM', 'SEMIO_KAEM', 'SEMIO_KRIT', 'SEMIO_KULT', 'SEMIO_LUST', 'SEMIO_MAT', 'SEMIO_PFLICHT', 'SEMIO_RAT', 'SEMIO_REL', 'SEMIO_SOZ', 'SEMIO_TRADV', 'SEMIO_VERT', 'SHOPPER_TYP', 'SOHO_KZ', 'STRUKTURTYP', 'UMFELD_ALT', 'UMFELD_JUNG', 'UNGLEICHENN_FLAG', 'VERDICHTUNGSRAUM', 'VERS_TYP', 'VHA', 'VHN', 'VK_DHT4A', 'VK_DISTANZ', 'VK_ZG11', 'W_KEIT_KIND_HH', 'WOHNDAUER_2008', 'WOHNLAGE', 'ZABEOTYP', 'ANREDE_KZ', 'ALTERSKATEGORIE_GROB'] columns...\n",
      "Imputing ['D19_LETZTER_KAUF_BRANCHE', 'OST_WEST_KZ'] columns...\n",
      "----------------PART-4(Encoding categorical data)----------------\n",
      "Shape before encoding (42962, 354)\n",
      "Shape after encoding (42962, 389)\n",
      "----------------PART-4(Scaling data)----------------\n"
     ]
    },
    {
     "name": "stderr",
     "output_type": "stream",
     "text": [
      "C:\\Users\\Arijit Aakriti\\Anaconda3\\lib\\site-packages\\sklearn\\preprocessing\\data.py:645: DataConversionWarning: Data with input dtype uint8, int8, float64 were all converted to float64 by StandardScaler.\n",
      "  return self.partial_fit(X, y)\n",
      "C:\\Users\\Arijit Aakriti\\Anaconda3\\lib\\site-packages\\sklearn\\base.py:464: DataConversionWarning: Data with input dtype uint8, int8, float64 were all converted to float64 by StandardScaler.\n",
      "  return self.fit(X, **fit_params).transform(X)\n"
     ]
    },
    {
     "name": "stdout",
     "output_type": "stream",
     "text": [
      "Downcasting data...\n",
      "Memory usage after downcasting:\n",
      "<class 'pandas.core.frame.DataFrame'>\n",
      "RangeIndex: 42962 entries, 0 to 42961\n",
      "Columns: 389 entries, AKT_DAT_KL to LNR\n",
      "dtypes: float32(388), int32(1)\n",
      "memory usage: 63.8 MB\n",
      "None\n"
     ]
    }
   ],
   "source": [
    "train = preprocess(train)"
   ]
  },
  {
   "cell_type": "code",
   "execution_count": 23,
   "metadata": {},
   "outputs": [],
   "source": [
    "def evaluate(features, response, model):\n",
    "    '''\n",
    "    Evaluates models using X-Fold cross-validation. \n",
    "    Learning curve can also be plotted (optional).\n",
    "    \n",
    "    Args:\n",
    "        features (dataframe) - dataset to be used for training.\n",
    "        response (dataframe) - target variable\n",
    "        models (list) - list of models to evaluated.\n",
    "        curve (bool) - whether or not to plot learning curve.\n",
    "        \n",
    "    Returns:\n",
    "        names (list) - list of models tested.\n",
    "        results (list) - list of results for each model.\n",
    "    '''\n",
    "    cv_results = cross_val_score(model, features, response, cv=skf, scoring='roc_auc', n_jobs=-1)\n",
    "    msg = \"{} ({})\".format(cv_results.mean(), cv_results.std())        \n",
    "        \n",
    "    return cv_results"
   ]
  },
  {
   "cell_type": "code",
   "execution_count": 11,
   "metadata": {},
   "outputs": [],
   "source": [
    "def create_score_df(names, results):\n",
    "    '''\n",
    "    Creates a dataframe containing model names and corresponding score.\n",
    "    \n",
    "    Args:\n",
    "        names (list) - list of model names.\n",
    "        results (list) - list of scores.\n",
    "    '''\n",
    "    def floatingDecimals(f_val, dec=3):\n",
    "        prc = \"{:.\"+str(dec)+\"f}\" \n",
    "    \n",
    "        return float(prc.format(f_val))\n",
    "\n",
    "    scores = []\n",
    "    for r in results:\n",
    "        scores.append(floatingDecimals(r.mean(),4))\n",
    "\n",
    "    scoreDataFrame = pd.DataFrame({'Model':names, 'Score': scores})\n",
    "    return scoreDataFrame"
   ]
  },
  {
   "cell_type": "code",
   "execution_count": 38,
   "metadata": {},
   "outputs": [],
   "source": [
    "train.drop('LNR', axis=1, inplace=True)"
   ]
  },
  {
   "cell_type": "code",
   "execution_count": 39,
   "metadata": {},
   "outputs": [
    {
     "data": {
      "text/plain": [
       "5"
      ]
     },
     "execution_count": 39,
     "metadata": {},
     "output_type": "execute_result"
    }
   ],
   "source": [
    "skf = StratifiedKFold(5)\n",
    "skf.get_n_splits(train, labels)"
   ]
  },
  {
   "cell_type": "markdown",
   "metadata": {},
   "source": [
    "We can notice that Gradient Boosting has highest score."
   ]
  },
  {
   "cell_type": "code",
   "execution_count": 55,
   "metadata": {},
   "outputs": [],
   "source": [
    "clf = lgb.LGBMClassifier(\n",
    "    application='binary', boosting_type='gbdt', class_weight=None,\n",
    "    colsample_bytree=1.0, importance_type='split',\n",
    "    learning_rate=0.1, max_bin=100, max_depth=3,\n",
    "    metric='auc', min_child_samples=0, min_child_weight=0.001,\n",
    "    min_data_in_leaf=20, min_split_gain=0.0, n_estimators=20,\n",
    "    n_jobs=-1, num_leaves=225, objective=None, random_state=None,\n",
    "    reg_alpha=1e-09,\n",
    "    scale_pos_weight=60, silent=True, subsample=1.0,\n",
    "    subsample_for_bin=200000, subsample_freq=0, verbose=0)"
   ]
  },
  {
   "cell_type": "code",
   "execution_count": 53,
   "metadata": {},
   "outputs": [
    {
     "name": "stderr",
     "output_type": "stream",
     "text": [
      "C:\\Users\\Arijit Aakriti\\Anaconda3\\lib\\site-packages\\sklearn\\externals\\joblib\\numpy_pickle.py:104: DeprecationWarning: tostring() is deprecated. Use tobytes() instead.\n",
      "  pickler.file_handle.write(chunk.tostring('C'))\n",
      "C:\\Users\\Arijit Aakriti\\Anaconda3\\lib\\site-packages\\sklearn\\externals\\joblib\\numpy_pickle.py:104: DeprecationWarning: tostring() is deprecated. Use tobytes() instead.\n",
      "  pickler.file_handle.write(chunk.tostring('C'))\n",
      "C:\\Users\\Arijit Aakriti\\Anaconda3\\lib\\site-packages\\sklearn\\externals\\joblib\\numpy_pickle.py:104: DeprecationWarning: tostring() is deprecated. Use tobytes() instead.\n",
      "  pickler.file_handle.write(chunk.tostring('C'))\n",
      "C:\\Users\\Arijit Aakriti\\Anaconda3\\lib\\site-packages\\sklearn\\externals\\joblib\\numpy_pickle.py:104: DeprecationWarning: tostring() is deprecated. Use tobytes() instead.\n",
      "  pickler.file_handle.write(chunk.tostring('C'))\n"
     ]
    }
   ],
   "source": [
    "results = evaluate(train, labels, clf)"
   ]
  },
  {
   "cell_type": "code",
   "execution_count": 56,
   "metadata": {},
   "outputs": [
    {
     "data": {
      "text/plain": [
       "0.7611421103594112"
      ]
     },
     "execution_count": 56,
     "metadata": {},
     "output_type": "execute_result"
    }
   ],
   "source": [
    "results.mean()"
   ]
  },
  {
   "cell_type": "code",
   "execution_count": 48,
   "metadata": {},
   "outputs": [
    {
     "data": {
      "text/plain": [
       "0.7617895000480631"
      ]
     },
     "execution_count": 48,
     "metadata": {},
     "output_type": "execute_result"
    }
   ],
   "source": [
    "results.mean()"
   ]
  },
  {
   "cell_type": "code",
   "execution_count": 57,
   "metadata": {},
   "outputs": [
    {
     "name": "stdout",
     "output_type": "stream",
     "text": [
      "[LightGBM] [Warning] min_data_in_leaf is set=20, min_child_samples=0 will be ignored. Current value: min_data_in_leaf=20\n",
      "[LightGBM] [Warning] min_data_in_leaf is set=20, min_child_samples=0 will be ignored. Current value: min_data_in_leaf=20\n",
      "[LightGBM] [Warning] Auto-choosing row-wise multi-threading, the overhead of testing was 0.063215 seconds.\n",
      "You can set `force_row_wise=true` to remove the overhead.\n",
      "And if memory is not enough, you can set `force_col_wise=true`.\n",
      "[LightGBM] [Warning] No further splits with positive gain, best gain: -inf\n",
      "[LightGBM] [Warning] No further splits with positive gain, best gain: -inf\n"
     ]
    },
    {
     "data": {
      "text/plain": [
       "LGBMClassifier(application='binary', boosting_type='gbdt', class_weight=None,\n",
       "        colsample_bytree=1.0, importance_type='split', learning_rate=0.1,\n",
       "        max_bin=100, max_depth=3, metric='auc', min_child_samples=0,\n",
       "        min_child_weight=0.001, min_data_in_leaf=20, min_split_gain=0.0,\n",
       "        n_estimators=20, n_jobs=-1, num_leaves=225, objective=None,\n",
       "        random_state=None, reg_alpha=1e-09, reg_lambda=0.0,\n",
       "        scale_pos_weight=60, silent=True, subsample=1.0,\n",
       "        subsample_for_bin=200000, subsample_freq=0, verbose=0)"
      ]
     },
     "execution_count": 57,
     "metadata": {},
     "output_type": "execute_result"
    }
   ],
   "source": [
    "clf.fit(train, labels)"
   ]
  },
  {
   "cell_type": "code",
   "execution_count": 64,
   "metadata": {},
   "outputs": [
    {
     "name": "stdout",
     "output_type": "stream",
     "text": [
      "----------------PART-1(Identifying missing data and data-types)----------------\n",
      "Downcasting dataframe...\n",
      "Memory usage before downcasting:\n",
      "<class 'pandas.core.frame.DataFrame'>\n",
      "RangeIndex: 42833 entries, 0 to 42832\n",
      "Columns: 367 entries, LNR to CLUSTER\n",
      "dtypes: float64(267), int32(1), int64(93), object(6)\n",
      "memory usage: 119.8+ MB\n",
      "None\n",
      "Memory usage after downcasting:\n",
      "<class 'pandas.core.frame.DataFrame'>\n",
      "RangeIndex: 42833 entries, 0 to 42832\n",
      "Columns: 367 entries, LNR to CLUSTER\n",
      "dtypes: category(3), datetime64[ns](1), float32(267), int16(1), int32(1), int8(92), object(2)\n",
      "memory usage: 48.7+ MB\n",
      "None\n",
      "Identifying and replacing values representing unknown or missing data...\n",
      "Replaced X with nan in following column(s):['CAMEO_DEUG_2015']\n",
      "Replaced XX with nan in following column(s):['CAMEO_INTL_2015']\n",
      "Replaced -1 with nan in following column(s):['AGER_TYP', 'ALTERSKATEGORIE_GROB', 'ANREDE_KZ', 'BALLRAUM', 'CAMEO_DEUG_2015', 'EWDICHTE', 'FINANZTYP', 'FINANZ_ANLEGER', 'FINANZ_HAUSBAUER', 'FINANZ_MINIMALIST', 'FINANZ_SPARER', 'FINANZ_UNAUFFAELLIGER', 'FINANZ_VORSORGER', 'GEBAEUDETYP', 'HEALTH_TYP', 'HH_EINKOMMEN_SCORE', 'INNENSTADT', 'KBA05_ALTER1', 'KBA05_ALTER2', 'KBA05_ALTER3', 'KBA05_ALTER4', 'KBA05_ANHANG', 'KBA05_ANTG1', 'KBA05_ANTG2', 'KBA05_ANTG3', 'KBA05_ANTG4', 'KBA05_AUTOQUOT', 'KBA05_BAUMAX', 'KBA05_CCM1', 'KBA05_CCM2', 'KBA05_CCM3', 'KBA05_CCM4', 'KBA05_DIESEL', 'KBA05_FRAU', 'KBA05_GBZ', 'KBA05_HERST1', 'KBA05_HERST2', 'KBA05_HERST3', 'KBA05_HERST4', 'KBA05_HERST5', 'KBA05_HERSTTEMP', 'KBA05_KRSAQUOT', 'KBA05_KRSHERST1', 'KBA05_KRSHERST2', 'KBA05_KRSHERST3', 'KBA05_KRSKLEIN', 'KBA05_KRSOBER', 'KBA05_KRSVAN', 'KBA05_KRSZUL', 'KBA05_KW1', 'KBA05_KW2', 'KBA05_KW3', 'KBA05_MAXAH', 'KBA05_MAXBJ', 'KBA05_MAXHERST', 'KBA05_MAXSEG', 'KBA05_MAXVORB', 'KBA05_MOD1', 'KBA05_MOD2', 'KBA05_MOD3', 'KBA05_MOD4', 'KBA05_MOD8', 'KBA05_MODTEMP', 'KBA05_MOTOR', 'KBA05_MOTRAD', 'KBA05_SEG1', 'KBA05_SEG10', 'KBA05_SEG2', 'KBA05_SEG3', 'KBA05_SEG4', 'KBA05_SEG5', 'KBA05_SEG6', 'KBA05_SEG7', 'KBA05_SEG8', 'KBA05_SEG9', 'KBA05_VORB0', 'KBA05_VORB1', 'KBA05_VORB2', 'KBA05_ZUL1', 'KBA05_ZUL2', 'KBA05_ZUL3', 'KBA05_ZUL4', 'KBA13_ALTERHALTER_30', 'KBA13_ALTERHALTER_45', 'KBA13_ALTERHALTER_60', 'KBA13_ALTERHALTER_61', 'KBA13_AUDI', 'KBA13_AUTOQUOTE', 'KBA13_BJ_1999', 'KBA13_BJ_2000', 'KBA13_BJ_2004', 'KBA13_BJ_2006', 'KBA13_BJ_2008', 'KBA13_BJ_2009', 'KBA13_BMW', 'KBA13_CCM_1000', 'KBA13_CCM_1200', 'KBA13_CCM_1400', 'KBA13_CCM_0_1400', 'KBA13_CCM_1500', 'KBA13_CCM_1600', 'KBA13_CCM_1800', 'KBA13_CCM_2000', 'KBA13_CCM_2500', 'KBA13_CCM_2501', 'KBA13_CCM_3000', 'KBA13_CCM_3001', 'KBA13_FAB_ASIEN', 'KBA13_FAB_SONSTIGE', 'KBA13_FIAT', 'KBA13_FORD', 'KBA13_HALTER_20', 'KBA13_HALTER_25', 'KBA13_HALTER_30', 'KBA13_HALTER_35', 'KBA13_HALTER_40', 'KBA13_HALTER_45', 'KBA13_HALTER_50', 'KBA13_HALTER_55', 'KBA13_HALTER_60', 'KBA13_HALTER_65', 'KBA13_HALTER_66', 'KBA13_HERST_ASIEN', 'KBA13_HERST_AUDI_VW', 'KBA13_HERST_BMW_BENZ', 'KBA13_HERST_EUROPA', 'KBA13_HERST_FORD_OPEL', 'KBA13_HERST_SONST', 'KBA13_KMH_110', 'KBA13_KMH_140', 'KBA13_KMH_180', 'KBA13_KMH_0_140', 'KBA13_KMH_140_210', 'KBA13_KMH_211', 'KBA13_KMH_250', 'KBA13_KMH_251', 'KBA13_KRSAQUOT', 'KBA13_KRSHERST_AUDI_VW', 'KBA13_KRSHERST_BMW_BENZ', 'KBA13_KRSHERST_FORD_OPEL', 'KBA13_KRSSEG_KLEIN', 'KBA13_KRSSEG_OBER', 'KBA13_KRSSEG_VAN', 'KBA13_KRSZUL_NEU', 'KBA13_KW_30', 'KBA13_KW_40', 'KBA13_KW_50', 'KBA13_KW_60', 'KBA13_KW_0_60', 'KBA13_KW_70', 'KBA13_KW_61_120', 'KBA13_KW_80', 'KBA13_KW_90', 'KBA13_KW_110', 'KBA13_KW_120', 'KBA13_KW_121', 'KBA13_MAZDA', 'KBA13_MERCEDES', 'KBA13_MOTOR', 'KBA13_NISSAN', 'KBA13_OPEL', 'KBA13_PEUGEOT', 'KBA13_RENAULT', 'KBA13_SEG_GELAENDEWAGEN', 'KBA13_SEG_GROSSRAUMVANS', 'KBA13_SEG_KLEINST', 'KBA13_SEG_KLEINWAGEN', 'KBA13_SEG_KOMPAKTKLASSE', 'KBA13_SEG_MINIVANS', 'KBA13_SEG_MINIWAGEN', 'KBA13_SEG_MITTELKLASSE', 'KBA13_SEG_OBEREMITTELKLASSE', 'KBA13_SEG_OBERKLASSE', 'KBA13_SEG_SONSTIGE', 'KBA13_SEG_SPORTWAGEN', 'KBA13_SEG_UTILITIES', 'KBA13_SEG_VAN', 'KBA13_SEG_WOHNMOBILE', 'KBA13_SITZE_4', 'KBA13_SITZE_5', 'KBA13_SITZE_6', 'KBA13_TOYOTA', 'KBA13_VORB_0', 'KBA13_VORB_1', 'KBA13_VORB_1_2', 'KBA13_VORB_2', 'KBA13_VORB_3', 'KBA13_VW', 'KKK', 'NATIONALITAET_KZ', 'ORTSGR_KLS9', 'OST_WEST_KZ', 'PLZ8_ANTG1', 'PLZ8_ANTG2', 'PLZ8_ANTG3', 'PLZ8_ANTG4', 'PLZ8_GBZ', 'PLZ8_HHZ', 'PRAEGENDE_JUGENDJAHRE', 'REGIOTYP', 'RELAT_AB', 'SEMIO_DOM', 'SEMIO_ERL', 'SEMIO_FAM', 'SEMIO_KAEM', 'SEMIO_KRIT', 'SEMIO_KULT', 'SEMIO_LUST', 'SEMIO_MAT', 'SEMIO_PFLICHT', 'SEMIO_RAT', 'SEMIO_REL', 'SEMIO_SOZ', 'SEMIO_TRADV', 'SEMIO_VERT', 'SHOPPER_TYP', 'TITEL_KZ', 'VERS_TYP', 'WOHNDAUER_2008', 'WOHNLAGE', 'W_KEIT_KIND_HH', 'ZABEOTYP']\n",
      "Replaced 0 with nan in following column(s):['ALTERSKATEGORIE_GROB', 'ALTER_HH', 'ANREDE_KZ', 'CJT_GESAMTTYP', 'GEBAEUDETYP', 'HH_EINKOMMEN_SCORE', 'KBA05_BAUMAX', 'KBA05_GBZ', 'KKK', 'NATIONALITAET_KZ', 'PRAEGENDE_JUGENDJAHRE', 'REGIOTYP', 'RETOURTYP_BK_S', 'TITEL_KZ', 'WOHNDAUER_2008', 'W_KEIT_KIND_HH']\n",
      "Replaced 9 with nan in following column(s):['KBA05_ALTER1', 'KBA05_ALTER2', 'KBA05_ALTER3', 'KBA05_ALTER4', 'KBA05_ANHANG', 'KBA05_AUTOQUOT', 'KBA05_CCM1', 'KBA05_CCM2', 'KBA05_CCM3', 'KBA05_CCM4', 'KBA05_DIESEL', 'KBA05_FRAU', 'KBA05_HERST1', 'KBA05_HERST2', 'KBA05_HERST3', 'KBA05_HERST4', 'KBA05_HERST5', 'KBA05_HERSTTEMP', 'KBA05_KRSAQUOT', 'KBA05_KRSHERST1', 'KBA05_KRSHERST2', 'KBA05_KRSHERST3', 'KBA05_KRSKLEIN', 'KBA05_KRSOBER', 'KBA05_KRSVAN', 'KBA05_KRSZUL', 'KBA05_KW1', 'KBA05_KW2', 'KBA05_KW3', 'KBA05_MAXAH', 'KBA05_MAXBJ', 'KBA05_MAXHERST', 'KBA05_MAXSEG', 'KBA05_MAXVORB', 'KBA05_MOD1', 'KBA05_MOD2', 'KBA05_MOD3', 'KBA05_MOD4', 'KBA05_MOD8', 'KBA05_MODTEMP', 'KBA05_MOTOR', 'KBA05_MOTRAD', 'KBA05_SEG1', 'KBA05_SEG10', 'KBA05_SEG2', 'KBA05_SEG3', 'KBA05_SEG4', 'KBA05_SEG5', 'KBA05_SEG6', 'KBA05_SEG7', 'KBA05_SEG8', 'KBA05_SEG9', 'KBA05_VORB0', 'KBA05_VORB1', 'KBA05_VORB2', 'KBA05_ZUL1', 'KBA05_ZUL2', 'KBA05_ZUL3', 'KBA05_ZUL4', 'RELAT_AB', 'SEMIO_DOM', 'SEMIO_ERL', 'SEMIO_FAM', 'SEMIO_KAEM', 'SEMIO_KRIT', 'SEMIO_KULT', 'SEMIO_LUST', 'SEMIO_MAT', 'SEMIO_PFLICHT', 'SEMIO_RAT', 'SEMIO_REL', 'SEMIO_SOZ', 'SEMIO_TRADV', 'SEMIO_VERT', 'ZABEOTYP']\n",
      "Extracting year from datetime cols...\n",
      "Converting ['CAMEO_INTL_2015', 'CAMEO_DEUG_2015'] to integer data type...\n",
      "\n",
      "----------------PART-2(Removing Columns)----------------\n",
      "Removing ['AGER_TYP', 'KK_KUNDENTYP', 'KKK', 'TITEL_KZ', 'EXTSEL992', 'ALTER_KIND3', 'ALTER_KIND4', 'KBA05_BAUMAX', 'ALTER_KIND2', 'ALTER_KIND1', 'ALTER_HH', 'REGIOTYP', 'CAMEO_DEU_2015'] columns...\n",
      "Shape after removing data:(42833, 354)\n",
      "\n",
      "Bining columns...\n",
      "\n",
      "----------------PART-3(Imputing missing data)----------------\n",
      "Imputing ['AKT_DAT_KL', 'ALTERSKATEGORIE_FEIN', 'ANZ_HAUSHALTE_AKTIV', 'ANZ_HH_TITEL', 'ANZ_KINDER', 'ANZ_PERSONEN', 'ANZ_STATISTISCHE_HAUSHALTE', 'ANZ_TITEL', 'ARBEIT', 'BALLRAUM', 'CAMEO_DEUG_2015', 'CAMEO_INTL_2015', 'CJT_GESAMTTYP', 'CJT_KATALOGNUTZER', 'CJT_TYP_1', 'CJT_TYP_2', 'CJT_TYP_3', 'CJT_TYP_4', 'CJT_TYP_5', 'CJT_TYP_6', 'D19_BANKEN_ONLINE_QUOTE_12', 'D19_GESAMT_ONLINE_QUOTE_12', 'D19_KONSUMTYP', 'D19_LOTTO', 'D19_SOZIALES', 'D19_TELKO_ONLINE_QUOTE_12', 'D19_VERSAND_ONLINE_QUOTE_12', 'D19_VERSI_ONLINE_QUOTE_12', 'DSL_FLAG', 'EINGEFUEGT_AM', 'EINGEZOGENAM_HH_JAHR', 'EWDICHTE', 'FINANZ_ANLEGER', 'FINANZ_HAUSBAUER', 'FINANZ_MINIMALIST', 'FINANZ_SPARER', 'FINANZ_UNAUFFAELLIGER', 'FINANZ_VORSORGER', 'FINANZTYP', 'FIRMENDICHTE', 'GEBAEUDETYP', 'GEBAEUDETYP_RASTER', 'GEBURTSJAHR', 'GEMEINDETYP', 'GFK_URLAUBERTYP', 'HEALTH_TYP', 'HH_DELTA_FLAG', 'HH_EINKOMMEN_SCORE', 'INNENSTADT', 'KBA05_ALTER1', 'KBA05_ALTER2', 'KBA05_ALTER3', 'KBA05_ALTER4', 'KBA05_ANHANG', 'KBA05_ANTG1', 'KBA05_ANTG2', 'KBA05_ANTG3', 'KBA05_ANTG4', 'KBA05_AUTOQUOT', 'KBA05_CCM1', 'KBA05_CCM2', 'KBA05_CCM3', 'KBA05_CCM4', 'KBA05_DIESEL', 'KBA05_FRAU', 'KBA05_GBZ', 'KBA05_HERST1', 'KBA05_HERST2', 'KBA05_HERST3', 'KBA05_HERST4', 'KBA05_HERST5', 'KBA05_HERSTTEMP', 'KBA05_KRSAQUOT', 'KBA05_KRSHERST1', 'KBA05_KRSHERST2', 'KBA05_KRSHERST3', 'KBA05_KRSKLEIN', 'KBA05_KRSOBER', 'KBA05_KRSVAN', 'KBA05_KRSZUL', 'KBA05_KW1', 'KBA05_KW2', 'KBA05_KW3', 'KBA05_MAXAH', 'KBA05_MAXBJ', 'KBA05_MAXHERST', 'KBA05_MAXSEG', 'KBA05_MAXVORB', 'KBA05_MOD1', 'KBA05_MOD2', 'KBA05_MOD3', 'KBA05_MOD4', 'KBA05_MOD8', 'KBA05_MODTEMP', 'KBA05_MOTOR', 'KBA05_MOTRAD', 'KBA05_SEG1', 'KBA05_SEG10', 'KBA05_SEG2', 'KBA05_SEG3', 'KBA05_SEG4', 'KBA05_SEG5', 'KBA05_SEG6', 'KBA05_SEG7', 'KBA05_SEG8', 'KBA05_SEG9', 'KBA05_VORB0', 'KBA05_VORB1', 'KBA05_VORB2', 'KBA05_ZUL1', 'KBA05_ZUL2', 'KBA05_ZUL3', 'KBA05_ZUL4', 'KBA13_ALTERHALTER_30', 'KBA13_ALTERHALTER_45', 'KBA13_ALTERHALTER_60', 'KBA13_ALTERHALTER_61', 'KBA13_ANTG1', 'KBA13_ANTG2', 'KBA13_ANTG3', 'KBA13_ANTG4', 'KBA13_ANZAHL_PKW', 'KBA13_AUDI', 'KBA13_AUTOQUOTE', 'KBA13_BAUMAX', 'KBA13_BJ_1999', 'KBA13_BJ_2000', 'KBA13_BJ_2004', 'KBA13_BJ_2006', 'KBA13_BJ_2008', 'KBA13_BJ_2009', 'KBA13_BMW', 'KBA13_CCM_0_1400', 'KBA13_CCM_1000', 'KBA13_CCM_1200', 'KBA13_CCM_1400', 'KBA13_CCM_1401_2500', 'KBA13_CCM_1500', 'KBA13_CCM_1600', 'KBA13_CCM_1800', 'KBA13_CCM_2000', 'KBA13_CCM_2500', 'KBA13_CCM_2501', 'KBA13_CCM_3000', 'KBA13_CCM_3001', 'KBA13_FAB_ASIEN', 'KBA13_FAB_SONSTIGE', 'KBA13_FIAT', 'KBA13_FORD', 'KBA13_GBZ', 'KBA13_HALTER_20', 'KBA13_HALTER_25', 'KBA13_HALTER_30', 'KBA13_HALTER_35', 'KBA13_HALTER_40', 'KBA13_HALTER_45', 'KBA13_HALTER_50', 'KBA13_HALTER_55', 'KBA13_HALTER_60', 'KBA13_HALTER_65', 'KBA13_HALTER_66', 'KBA13_HERST_ASIEN', 'KBA13_HERST_AUDI_VW', 'KBA13_HERST_BMW_BENZ', 'KBA13_HERST_EUROPA', 'KBA13_HERST_FORD_OPEL', 'KBA13_HERST_SONST', 'KBA13_HHZ', 'KBA13_KMH_0_140', 'KBA13_KMH_110', 'KBA13_KMH_140', 'KBA13_KMH_140_210', 'KBA13_KMH_180', 'KBA13_KMH_210', 'KBA13_KMH_211', 'KBA13_KMH_250', 'KBA13_KMH_251', 'KBA13_KRSAQUOT', 'KBA13_KRSHERST_AUDI_VW', 'KBA13_KRSHERST_BMW_BENZ', 'KBA13_KRSHERST_FORD_OPEL', 'KBA13_KRSSEG_KLEIN', 'KBA13_KRSSEG_OBER', 'KBA13_KRSSEG_VAN', 'KBA13_KRSZUL_NEU', 'KBA13_KW_0_60', 'KBA13_KW_110', 'KBA13_KW_120', 'KBA13_KW_121', 'KBA13_KW_30', 'KBA13_KW_40', 'KBA13_KW_50', 'KBA13_KW_60', 'KBA13_KW_61_120', 'KBA13_KW_70', 'KBA13_KW_80', 'KBA13_KW_90', 'KBA13_MAZDA', 'KBA13_MERCEDES', 'KBA13_MOTOR', 'KBA13_NISSAN', 'KBA13_OPEL', 'KBA13_PEUGEOT', 'KBA13_RENAULT', 'KBA13_SEG_GELAENDEWAGEN', 'KBA13_SEG_GROSSRAUMVANS', 'KBA13_SEG_KLEINST', 'KBA13_SEG_KLEINWAGEN', 'KBA13_SEG_KOMPAKTKLASSE', 'KBA13_SEG_MINIVANS', 'KBA13_SEG_MINIWAGEN', 'KBA13_SEG_MITTELKLASSE', 'KBA13_SEG_OBEREMITTELKLASSE', 'KBA13_SEG_OBERKLASSE', 'KBA13_SEG_SONSTIGE', 'KBA13_SEG_SPORTWAGEN', 'KBA13_SEG_UTILITIES', 'KBA13_SEG_VAN', 'KBA13_SEG_WOHNMOBILE', 'KBA13_SITZE_4', 'KBA13_SITZE_5', 'KBA13_SITZE_6', 'KBA13_TOYOTA', 'KBA13_VORB_0', 'KBA13_VORB_1', 'KBA13_VORB_1_2', 'KBA13_VORB_2', 'KBA13_VORB_3', 'KBA13_VW', 'KONSUMNAEHE', 'KONSUMZELLE', 'LP_FAMILIE_FEIN', 'LP_FAMILIE_GROB', 'LP_LEBENSPHASE_FEIN', 'LP_LEBENSPHASE_GROB', 'LP_STATUS_FEIN', 'LP_STATUS_GROB', 'MIN_GEBAEUDEJAHR', 'MOBI_RASTER', 'MOBI_REGIO', 'NATIONALITAET_KZ', 'ONLINE_AFFINITAET', 'ORTSGR_KLS9', 'PLZ8_ANTG1', 'PLZ8_ANTG2', 'PLZ8_ANTG3', 'PLZ8_ANTG4', 'PLZ8_BAUMAX', 'PLZ8_GBZ', 'PLZ8_HHZ', 'PRAEGENDE_JUGENDJAHRE', 'RELAT_AB', 'RETOURTYP_BK_S', 'RT_KEIN_ANREIZ', 'RT_SCHNAEPPCHEN', 'RT_UEBERGROESSE', 'SEMIO_DOM', 'SEMIO_ERL', 'SEMIO_FAM', 'SEMIO_KAEM', 'SEMIO_KRIT', 'SEMIO_KULT', 'SEMIO_LUST', 'SEMIO_MAT', 'SEMIO_PFLICHT', 'SEMIO_RAT', 'SEMIO_REL', 'SEMIO_SOZ', 'SEMIO_TRADV', 'SEMIO_VERT', 'SHOPPER_TYP', 'SOHO_KZ', 'STRUKTURTYP', 'UMFELD_ALT', 'UMFELD_JUNG', 'UNGLEICHENN_FLAG', 'VERDICHTUNGSRAUM', 'VERS_TYP', 'VHA', 'VHN', 'VK_DHT4A', 'VK_DISTANZ', 'VK_ZG11', 'W_KEIT_KIND_HH', 'WOHNDAUER_2008', 'WOHNLAGE', 'ZABEOTYP', 'ANREDE_KZ', 'ALTERSKATEGORIE_GROB'] columns...\n",
      "Imputing ['D19_LETZTER_KAUF_BRANCHE', 'OST_WEST_KZ'] columns...\n",
      "----------------PART-4(Encoding categorical data)----------------\n",
      "Shape before encoding (42833, 354)\n",
      "Shape after encoding (42833, 389)\n",
      "----------------PART-4(Scaling data)----------------\n"
     ]
    },
    {
     "name": "stderr",
     "output_type": "stream",
     "text": [
      "C:\\Users\\Arijit Aakriti\\Anaconda3\\lib\\site-packages\\sklearn\\preprocessing\\data.py:645: DataConversionWarning: Data with input dtype uint8, int8, float64 were all converted to float64 by StandardScaler.\n",
      "  return self.partial_fit(X, y)\n",
      "C:\\Users\\Arijit Aakriti\\Anaconda3\\lib\\site-packages\\sklearn\\base.py:464: DataConversionWarning: Data with input dtype uint8, int8, float64 were all converted to float64 by StandardScaler.\n",
      "  return self.fit(X, **fit_params).transform(X)\n"
     ]
    },
    {
     "name": "stdout",
     "output_type": "stream",
     "text": [
      "Downcasting data...\n",
      "Memory usage after downcasting:\n",
      "<class 'pandas.core.frame.DataFrame'>\n",
      "RangeIndex: 42833 entries, 0 to 42832\n",
      "Columns: 389 entries, AKT_DAT_KL to LNR\n",
      "dtypes: float32(388), int32(1)\n",
      "memory usage: 63.6 MB\n",
      "None\n"
     ]
    }
   ],
   "source": [
    "test = preprocess(test)"
   ]
  },
  {
   "cell_type": "code",
   "execution_count": 65,
   "metadata": {},
   "outputs": [],
   "source": [
    "pred = clf.predict(test.drop('LNR', axis=1))"
   ]
  },
  {
   "cell_type": "code",
   "execution_count": 68,
   "metadata": {},
   "outputs": [
    {
     "data": {
      "text/plain": [
       "(array([31696.,     0.,     0.,     0.,     0.,     0.,     0.,     0.,\n",
       "            0., 11137.]),\n",
       " array([0. , 0.1, 0.2, 0.3, 0.4, 0.5, 0.6, 0.7, 0.8, 0.9, 1. ]),\n",
       " <a list of 10 Patch objects>)"
      ]
     },
     "execution_count": 68,
     "metadata": {},
     "output_type": "execute_result"
    },
    {
     "data": {
      "image/png": "[encoded data removed]",
      "text/plain": [
       "<Figure size 432x288 with 1 Axes>"
      ]
     },
     "metadata": {
      "needs_background": "light"
     },
     "output_type": "display_data"
    }
   ],
   "source": [
    "plt.hist(pred)"
   ]
  },
  {
   "cell_type": "code",
   "execution_count": 69,
   "metadata": {},
   "outputs": [
    {
     "data": {
      "text/plain": [
       "(array([31778.,     0.,     0.,     0.,     0.,     0.,     0.,     0.,\n",
       "            0., 11184.]),\n",
       " array([0. , 0.1, 0.2, 0.3, 0.4, 0.5, 0.6, 0.7, 0.8, 0.9, 1. ]),\n",
       " <a list of 10 Patch objects>)"
      ]
     },
     "execution_count": 69,
     "metadata": {},
     "output_type": "execute_result"
    },
    {
     "data": {
      "image/png": "[encoded data removed]",
      "text/plain": [
       "<Figure size 432x288 with 1 Axes>"
      ]
     },
     "metadata": {
      "needs_background": "light"
     },
     "output_type": "display_data"
    }
   ],
   "source": [
    "predt = clf.predict(train)\n",
    "plt.hist(predt)"
   ]
  },
  {
   "cell_type": "code",
   "execution_count": null,
   "metadata": {},
   "outputs": [],
   "source": []
  },
  {
   "cell_type": "markdown",
   "metadata": {},
   "source": [
    "#### "
   ]
  },
  {
   "cell_type": "code",
   "execution_count": 72,
   "metadata": {},
   "outputs": [
    {
     "name": "stdout",
     "output_type": "stream",
     "text": [
      "[LightGBM] [Warning] min_data_in_leaf is set=20, min_child_samples=0 will be ignored. Current value: min_data_in_leaf=20\n",
      "[LightGBM] [Warning] min_data_in_leaf is set=20, min_child_samples=0 will be ignored. Current value: min_data_in_leaf=20\n",
      "[LightGBM] [Warning] Auto-choosing row-wise multi-threading, the overhead of testing was 0.042807 seconds.\n",
      "You can set `force_row_wise=true` to remove the overhead.\n",
      "And if memory is not enough, you can set `force_col_wise=true`.\n",
      "[LightGBM] [Warning] No further splits with positive gain, best gain: -inf\n",
      "[LightGBM] [Warning] No further splits with positive gain, best gain: -inf\n"
     ]
    },
    {
     "data": {
      "text/plain": [
       "0.5148387269298786"
      ]
     },
     "execution_count": 72,
     "metadata": {},
     "output_type": "execute_result"
    },
    {
     "data": {
      "image/png": "[encoded data removed]",
      "text/plain": [
       "<Figure size 432x288 with 1 Axes>"
      ]
     },
     "metadata": {
      "needs_background": "light"
     },
     "output_type": "display_data"
    }
   ],
   "source": [
    "clf2 = lgb.LGBMClassifier(application='binary', \n",
    "                                boosting_type='gbdt', \n",
    "                                class_weight=None,\n",
    "                                colsample_bytree=1.0, \n",
    "                                importance_type='split',\n",
    "                                learning_rate=0.0882410095694084, \n",
    "                                max_bin=826, \n",
    "                                max_depth=2,\n",
    "                                metric='auc', \n",
    "                                min_child_samples=0, \n",
    "                                min_child_weight=0.001,\n",
    "                                min_data_in_leaf=32, \n",
    "                                min_split_gain=0.0, \n",
    "                                n_estimators=24,\n",
    "                                n_jobs=-1, \n",
    "                                num_leaves=94, \n",
    "                                objective=None, \n",
    "                                random_state=None,\n",
    "                                reg_alpha=1.0, \n",
    "                                reg_lambda=1e-09,\n",
    "                                scale_pos_weight=90.0, \n",
    "                                silent=True, \n",
    "                                subsample=1.0,\n",
    "                                subsample_for_bin=200000, \n",
    "                                subsample_freq=0, \n",
    "                                verbose=0)\n",
    "clf.fit(train, labels)\n",
    "predictions_train2 = clf.predict(train)\n",
    "plt.hist(predictions_train2)\n",
    "roc_auc_score(predictions_train2, labels)"
   ]
  },
  {
   "cell_type": "code",
   "execution_count": 79,
   "metadata": {},
   "outputs": [],
   "source": [
    "from skopt import BayesSearchCV\n",
    "# 100 - 500 to get any resonable result\n",
    "# Best params: OrderedDict([('colsample_bytree', 1.0), ('learning_rate', 0.09611180875518194)\n",
    "#                           , ('max_bin', 493), ('max_depth', 2), ('min_child_samples', 47), ('min_data_in_leaf', 20), \n",
    "#                           ('n_estimators', 20), ('num_leaves', 116), ('reg_alpha', 1.0),\n",
    "#                           ('reg_lambda', 1e-09), ('scale_pos_weight', 70)])\n",
    "ITERATIONS = 300\n",
    "bayes_cv_tuner_lgbm = BayesSearchCV(\n",
    "    estimator = lgb.LGBMClassifier(\n",
    "        application='binary',\n",
    "        metric='auc',\n",
    "        n_jobs=-1,\n",
    "        verbose=0\n",
    "    ),\n",
    "    search_spaces = {\n",
    "        'learning_rate': (0.01, 0.1, 'uniform'),\n",
    "        'num_leaves': (2, 180),      \n",
    "        'max_depth': (2, 8),\n",
    "        'colsample_bytree':(0.5, 1.0, 'uniform'),\n",
    "        \"min_data_in_leaf\":(20, 100),\n",
    "        'min_child_samples': (0, 40),\n",
    "        'max_bin': (100, 600),\n",
    "        'reg_lambda': (1e-9, 1.0, 'log-uniform'),\n",
    "        'reg_alpha': (1e-9, 1.0, 'log-uniform'),\n",
    "        'scale_pos_weight': (10,90, 'uniform'),\n",
    "        'n_estimators': (10, 200),\n",
    "},    \n",
    "    scoring = 'roc_auc',\n",
    "    cv = StratifiedKFold(\n",
    "        n_splits=5,\n",
    "        shuffle=True,\n",
    "        random_state=5\n",
    "    ),\n",
    "    n_jobs = -1,\n",
    "    n_iter = ITERATIONS,   \n",
    "    verbose = 0,\n",
    "    refit = True,\n",
    "    random_state = 5\n",
    ")\n",
    "\n",
    "def status_print(optim_result):\n",
    "    \"\"\"Status callback durring bayesian hyperparameter search\"\"\"\n",
    "    \n",
    "    # Get all the models tested so far in DataFrame format\n",
    "    all_models = pd.DataFrame(bayes_cv_tuner_lgbm.cv_results_)    \n",
    "    \n",
    "    # Get current parameters and the best parameters    \n",
    "    best_params = pd.Series(bayes_cv_tuner_lgbm.best_params_)\n",
    "    print('Model #{}\\nBest ROC-AUC: {}\\nBest params: {}\\n'.format(\n",
    "        len(all_models),\n",
    "        np.round(bayes_cv_tuner_lgbm.best_score_, 4),\n",
    "        bayes_cv_tuner_lgbm.best_params_\n",
    "    ))\n",
    "    \n",
    "    # Save all model results\n",
    "    clf_name = bayes_cv_tuner_lgbm.estimator.__class__.__name__\n",
    "    all_models.to_csv(clf_name+\"_cv_results.csv\")"
   ]
  },
  {
   "cell_type": "code",
   "execution_count": 77,
   "metadata": {},
   "outputs": [
    {
     "data": {
      "application/javascript": [
       "\n",
       "        if (window._pyforest_update_imports_cell) { window._pyforest_update_imports_cell('import numpy as np'); }\n",
       "    "
      ],
      "text/plain": [
       "<IPython.core.display.Javascript object>"
      ]
     },
     "metadata": {},
     "output_type": "display_data"
    },
    {
     "name": "stdout",
     "output_type": "stream",
     "text": [
      "Model #1\n",
      "Best ROC-AUC: 0.684\n",
      "Best params: OrderedDict([('colsample_bytree', 0.6791222670340838), ('learning_rate', 0.056036090296697996), ('max_bin', 666), ('max_depth', 6), ('min_child_samples', 12), ('min_data_in_leaf', 28), ('n_estimators', 267), ('num_leaves', 160), ('reg_alpha', 0.0006113634119921826), ('reg_lambda', 3.820294811001064e-05), ('scale_pos_weight', 6)])\n",
      "\n"
     ]
    },
    {
     "data": {
      "application/javascript": [
       "\n",
       "        if (window._pyforest_update_imports_cell) { window._pyforest_update_imports_cell('import numpy as np'); }\n",
       "    "
      ],
      "text/plain": [
       "<IPython.core.display.Javascript object>"
      ]
     },
     "metadata": {},
     "output_type": "display_data"
    },
    {
     "name": "stdout",
     "output_type": "stream",
     "text": [
      "Model #2\n",
      "Best ROC-AUC: 0.684\n",
      "Best params: OrderedDict([('colsample_bytree', 0.6791222670340838), ('learning_rate', 0.056036090296697996), ('max_bin', 666), ('max_depth', 6), ('min_child_samples', 12), ('min_data_in_leaf', 28), ('n_estimators', 267), ('num_leaves', 160), ('reg_alpha', 0.0006113634119921826), ('reg_lambda', 3.820294811001064e-05), ('scale_pos_weight', 6)])\n",
      "\n"
     ]
    },
    {
     "data": {
      "application/javascript": [
       "\n",
       "        if (window._pyforest_update_imports_cell) { window._pyforest_update_imports_cell('import numpy as np'); }\n",
       "    "
      ],
      "text/plain": [
       "<IPython.core.display.Javascript object>"
      ]
     },
     "metadata": {},
     "output_type": "display_data"
    },
    {
     "name": "stdout",
     "output_type": "stream",
     "text": [
      "Model #3\n",
      "Best ROC-AUC: 0.684\n",
      "Best params: OrderedDict([('colsample_bytree', 0.6791222670340838), ('learning_rate', 0.056036090296697996), ('max_bin', 666), ('max_depth', 6), ('min_child_samples', 12), ('min_data_in_leaf', 28), ('n_estimators', 267), ('num_leaves', 160), ('reg_alpha', 0.0006113634119921826), ('reg_lambda', 3.820294811001064e-05), ('scale_pos_weight', 6)])\n",
      "\n"
     ]
    },
    {
     "data": {
      "application/javascript": [
       "\n",
       "        if (window._pyforest_update_imports_cell) { window._pyforest_update_imports_cell('import numpy as np'); }\n",
       "    "
      ],
      "text/plain": [
       "<IPython.core.display.Javascript object>"
      ]
     },
     "metadata": {},
     "output_type": "display_data"
    },
    {
     "name": "stdout",
     "output_type": "stream",
     "text": [
      "Model #4\n",
      "Best ROC-AUC: 0.684\n",
      "Best params: OrderedDict([('colsample_bytree', 0.6791222670340838), ('learning_rate', 0.056036090296697996), ('max_bin', 666), ('max_depth', 6), ('min_child_samples', 12), ('min_data_in_leaf', 28), ('n_estimators', 267), ('num_leaves', 160), ('reg_alpha', 0.0006113634119921826), ('reg_lambda', 3.820294811001064e-05), ('scale_pos_weight', 6)])\n",
      "\n"
     ]
    },
    {
     "data": {
      "application/javascript": [
       "\n",
       "        if (window._pyforest_update_imports_cell) { window._pyforest_update_imports_cell('import numpy as np'); }\n",
       "    "
      ],
      "text/plain": [
       "<IPython.core.display.Javascript object>"
      ]
     },
     "metadata": {},
     "output_type": "display_data"
    },
    {
     "name": "stdout",
     "output_type": "stream",
     "text": [
      "Model #5\n",
      "Best ROC-AUC: 0.684\n",
      "Best params: OrderedDict([('colsample_bytree', 0.6791222670340838), ('learning_rate', 0.056036090296697996), ('max_bin', 666), ('max_depth', 6), ('min_child_samples', 12), ('min_data_in_leaf', 28), ('n_estimators', 267), ('num_leaves', 160), ('reg_alpha', 0.0006113634119921826), ('reg_lambda', 3.820294811001064e-05), ('scale_pos_weight', 6)])\n",
      "\n"
     ]
    },
    {
     "data": {
      "application/javascript": [
       "\n",
       "        if (window._pyforest_update_imports_cell) { window._pyforest_update_imports_cell('import numpy as np'); }\n",
       "    "
      ],
      "text/plain": [
       "<IPython.core.display.Javascript object>"
      ]
     },
     "metadata": {},
     "output_type": "display_data"
    },
    {
     "name": "stdout",
     "output_type": "stream",
     "text": [
      "Model #6\n",
      "Best ROC-AUC: 0.7536\n",
      "Best params: OrderedDict([('colsample_bytree', 0.922570592908447), ('learning_rate', 0.011831024125053633), ('max_bin', 583), ('max_depth', 3), ('min_child_samples', 46), ('min_data_in_leaf', 56), ('n_estimators', 120), ('num_leaves', 225), ('reg_alpha', 0.009082030275713816), ('reg_lambda', 2.9498999351256537e-05), ('scale_pos_weight', 63)])\n",
      "\n"
     ]
    },
    {
     "data": {
      "application/javascript": [
       "\n",
       "        if (window._pyforest_update_imports_cell) { window._pyforest_update_imports_cell('import numpy as np'); }\n",
       "    "
      ],
      "text/plain": [
       "<IPython.core.display.Javascript object>"
      ]
     },
     "metadata": {},
     "output_type": "display_data"
    },
    {
     "name": "stdout",
     "output_type": "stream",
     "text": [
      "Model #7\n",
      "Best ROC-AUC: 0.7536\n",
      "Best params: OrderedDict([('colsample_bytree', 0.922570592908447), ('learning_rate', 0.011831024125053633), ('max_bin', 583), ('max_depth', 3), ('min_child_samples', 46), ('min_data_in_leaf', 56), ('n_estimators', 120), ('num_leaves', 225), ('reg_alpha', 0.009082030275713816), ('reg_lambda', 2.9498999351256537e-05), ('scale_pos_weight', 63)])\n",
      "\n"
     ]
    },
    {
     "data": {
      "application/javascript": [
       "\n",
       "        if (window._pyforest_update_imports_cell) { window._pyforest_update_imports_cell('import numpy as np'); }\n",
       "    "
      ],
      "text/plain": [
       "<IPython.core.display.Javascript object>"
      ]
     },
     "metadata": {},
     "output_type": "display_data"
    },
    {
     "name": "stdout",
     "output_type": "stream",
     "text": [
      "Model #8\n",
      "Best ROC-AUC: 0.7536\n",
      "Best params: OrderedDict([('colsample_bytree', 0.922570592908447), ('learning_rate', 0.011831024125053633), ('max_bin', 583), ('max_depth', 3), ('min_child_samples', 46), ('min_data_in_leaf', 56), ('n_estimators', 120), ('num_leaves', 225), ('reg_alpha', 0.009082030275713816), ('reg_lambda', 2.9498999351256537e-05), ('scale_pos_weight', 63)])\n",
      "\n"
     ]
    },
    {
     "data": {
      "application/javascript": [
       "\n",
       "        if (window._pyforest_update_imports_cell) { window._pyforest_update_imports_cell('import numpy as np'); }\n",
       "    "
      ],
      "text/plain": [
       "<IPython.core.display.Javascript object>"
      ]
     },
     "metadata": {},
     "output_type": "display_data"
    },
    {
     "name": "stdout",
     "output_type": "stream",
     "text": [
      "Model #9\n",
      "Best ROC-AUC: 0.7552\n",
      "Best params: OrderedDict([('colsample_bytree', 0.9525566569247962), ('learning_rate', 0.07356976787822347), ('max_bin', 122), ('max_depth', 2), ('min_child_samples', 13), ('min_data_in_leaf', 89), ('n_estimators', 45), ('num_leaves', 65), ('reg_alpha', 1.038546400498543e-08), ('reg_lambda', 1.9215417604095465e-08), ('scale_pos_weight', 20)])\n",
      "\n"
     ]
    },
    {
     "data": {
      "application/javascript": [
       "\n",
       "        if (window._pyforest_update_imports_cell) { window._pyforest_update_imports_cell('import numpy as np'); }\n",
       "    "
      ],
      "text/plain": [
       "<IPython.core.display.Javascript object>"
      ]
     },
     "metadata": {},
     "output_type": "display_data"
    },
    {
     "name": "stdout",
     "output_type": "stream",
     "text": [
      "Model #10\n",
      "Best ROC-AUC: 0.7552\n",
      "Best params: OrderedDict([('colsample_bytree', 0.9525566569247962), ('learning_rate', 0.07356976787822347), ('max_bin', 122), ('max_depth', 2), ('min_child_samples', 13), ('min_data_in_leaf', 89), ('n_estimators', 45), ('num_leaves', 65), ('reg_alpha', 1.038546400498543e-08), ('reg_lambda', 1.9215417604095465e-08), ('scale_pos_weight', 20)])\n",
      "\n"
     ]
    },
    {
     "data": {
      "application/javascript": [
       "\n",
       "        if (window._pyforest_update_imports_cell) { window._pyforest_update_imports_cell('import numpy as np'); }\n",
       "    "
      ],
      "text/plain": [
       "<IPython.core.display.Javascript object>"
      ]
     },
     "metadata": {},
     "output_type": "display_data"
    },
    {
     "name": "stdout",
     "output_type": "stream",
     "text": [
      "Model #11\n",
      "Best ROC-AUC: 0.76\n",
      "Best params: OrderedDict([('colsample_bytree', 0.5), ('learning_rate', 0.01), ('max_bin', 100), ('max_depth', 2), ('min_child_samples', 0), ('min_data_in_leaf', 20), ('n_estimators', 400), ('num_leaves', 225), ('reg_alpha', 1.0), ('reg_lambda', 1e-09), ('scale_pos_weight', 1)])\n",
      "\n"
     ]
    },
    {
     "data": {
      "application/javascript": [
       "\n",
       "        if (window._pyforest_update_imports_cell) { window._pyforest_update_imports_cell('import numpy as np'); }\n",
       "    "
      ],
      "text/plain": [
       "<IPython.core.display.Javascript object>"
      ]
     },
     "metadata": {},
     "output_type": "display_data"
    },
    {
     "name": "stdout",
     "output_type": "stream",
     "text": [
      "Model #12\n",
      "Best ROC-AUC: 0.76\n",
      "Best params: OrderedDict([('colsample_bytree', 0.5), ('learning_rate', 0.01), ('max_bin', 100), ('max_depth', 2), ('min_child_samples', 0), ('min_data_in_leaf', 20), ('n_estimators', 400), ('num_leaves', 225), ('reg_alpha', 1.0), ('reg_lambda', 1e-09), ('scale_pos_weight', 1)])\n",
      "\n"
     ]
    },
    {
     "data": {
      "application/javascript": [
       "\n",
       "        if (window._pyforest_update_imports_cell) { window._pyforest_update_imports_cell('import numpy as np'); }\n",
       "    "
      ],
      "text/plain": [
       "<IPython.core.display.Javascript object>"
      ]
     },
     "metadata": {},
     "output_type": "display_data"
    },
    {
     "name": "stdout",
     "output_type": "stream",
     "text": [
      "Model #13\n",
      "Best ROC-AUC: 0.7605\n",
      "Best params: OrderedDict([('colsample_bytree', 1.0), ('learning_rate', 0.01), ('max_bin', 1000), ('max_depth', 2), ('min_child_samples', 0), ('min_data_in_leaf', 20), ('n_estimators', 400), ('num_leaves', 2), ('reg_alpha', 1.0), ('reg_lambda', 1e-09), ('scale_pos_weight', 90)])\n",
      "\n"
     ]
    },
    {
     "data": {
      "application/javascript": [
       "\n",
       "        if (window._pyforest_update_imports_cell) { window._pyforest_update_imports_cell('import numpy as np'); }\n",
       "    "
      ],
      "text/plain": [
       "<IPython.core.display.Javascript object>"
      ]
     },
     "metadata": {},
     "output_type": "display_data"
    },
    {
     "name": "stdout",
     "output_type": "stream",
     "text": [
      "Model #14\n",
      "Best ROC-AUC: 0.7605\n",
      "Best params: OrderedDict([('colsample_bytree', 1.0), ('learning_rate', 0.01), ('max_bin', 1000), ('max_depth', 2), ('min_child_samples', 0), ('min_data_in_leaf', 20), ('n_estimators', 400), ('num_leaves', 2), ('reg_alpha', 1.0), ('reg_lambda', 1e-09), ('scale_pos_weight', 90)])\n",
      "\n"
     ]
    },
    {
     "data": {
      "application/javascript": [
       "\n",
       "        if (window._pyforest_update_imports_cell) { window._pyforest_update_imports_cell('import numpy as np'); }\n",
       "    "
      ],
      "text/plain": [
       "<IPython.core.display.Javascript object>"
      ]
     },
     "metadata": {},
     "output_type": "display_data"
    },
    {
     "name": "stdout",
     "output_type": "stream",
     "text": [
      "Model #15\n",
      "Best ROC-AUC: 0.7606\n",
      "Best params: OrderedDict([('colsample_bytree', 0.5), ('learning_rate', 0.01), ('max_bin', 1000), ('max_depth', 2), ('min_child_samples', 50), ('min_data_in_leaf', 20), ('n_estimators', 171), ('num_leaves', 2), ('reg_alpha', 1.0), ('reg_lambda', 1e-09), ('scale_pos_weight', 90)])\n",
      "\n"
     ]
    },
    {
     "data": {
      "application/javascript": [
       "\n",
       "        if (window._pyforest_update_imports_cell) { window._pyforest_update_imports_cell('import numpy as np'); }\n",
       "    "
      ],
      "text/plain": [
       "<IPython.core.display.Javascript object>"
      ]
     },
     "metadata": {},
     "output_type": "display_data"
    },
    {
     "name": "stdout",
     "output_type": "stream",
     "text": [
      "Model #16\n",
      "Best ROC-AUC: 0.7606\n",
      "Best params: OrderedDict([('colsample_bytree', 0.5), ('learning_rate', 0.01), ('max_bin', 1000), ('max_depth', 2), ('min_child_samples', 50), ('min_data_in_leaf', 20), ('n_estimators', 171), ('num_leaves', 2), ('reg_alpha', 1.0), ('reg_lambda', 1e-09), ('scale_pos_weight', 90)])\n",
      "\n"
     ]
    },
    {
     "data": {
      "application/javascript": [
       "\n",
       "        if (window._pyforest_update_imports_cell) { window._pyforest_update_imports_cell('import numpy as np'); }\n",
       "    "
      ],
      "text/plain": [
       "<IPython.core.display.Javascript object>"
      ]
     },
     "metadata": {},
     "output_type": "display_data"
    },
    {
     "name": "stdout",
     "output_type": "stream",
     "text": [
      "Model #17\n",
      "Best ROC-AUC: 0.7606\n",
      "Best params: OrderedDict([('colsample_bytree', 0.5), ('learning_rate', 0.01), ('max_bin', 1000), ('max_depth', 2), ('min_child_samples', 50), ('min_data_in_leaf', 20), ('n_estimators', 171), ('num_leaves', 2), ('reg_alpha', 1.0), ('reg_lambda', 1e-09), ('scale_pos_weight', 90)])\n",
      "\n"
     ]
    },
    {
     "data": {
      "application/javascript": [
       "\n",
       "        if (window._pyforest_update_imports_cell) { window._pyforest_update_imports_cell('import numpy as np'); }\n",
       "    "
      ],
      "text/plain": [
       "<IPython.core.display.Javascript object>"
      ]
     },
     "metadata": {},
     "output_type": "display_data"
    },
    {
     "name": "stdout",
     "output_type": "stream",
     "text": [
      "Model #18\n",
      "Best ROC-AUC: 0.7624\n",
      "Best params: OrderedDict([('colsample_bytree', 0.9019708630001773), ('learning_rate', 0.13537250560801317), ('max_bin', 913), ('max_depth', 2), ('min_child_samples', 49), ('min_data_in_leaf', 100), ('n_estimators', 207), ('num_leaves', 2), ('reg_alpha', 1.0), ('reg_lambda', 1e-09), ('scale_pos_weight', 33)])\n",
      "\n"
     ]
    },
    {
     "data": {
      "application/javascript": [
       "\n",
       "        if (window._pyforest_update_imports_cell) { window._pyforest_update_imports_cell('import numpy as np'); }\n",
       "    "
      ],
      "text/plain": [
       "<IPython.core.display.Javascript object>"
      ]
     },
     "metadata": {},
     "output_type": "display_data"
    },
    {
     "name": "stdout",
     "output_type": "stream",
     "text": [
      "Model #19\n",
      "Best ROC-AUC: 0.7624\n",
      "Best params: OrderedDict([('colsample_bytree', 0.9019708630001773), ('learning_rate', 0.13537250560801317), ('max_bin', 913), ('max_depth', 2), ('min_child_samples', 49), ('min_data_in_leaf', 100), ('n_estimators', 207), ('num_leaves', 2), ('reg_alpha', 1.0), ('reg_lambda', 1e-09), ('scale_pos_weight', 33)])\n",
      "\n"
     ]
    },
    {
     "data": {
      "application/javascript": [
       "\n",
       "        if (window._pyforest_update_imports_cell) { window._pyforest_update_imports_cell('import numpy as np'); }\n",
       "    "
      ],
      "text/plain": [
       "<IPython.core.display.Javascript object>"
      ]
     },
     "metadata": {},
     "output_type": "display_data"
    },
    {
     "name": "stdout",
     "output_type": "stream",
     "text": [
      "Model #20\n",
      "Best ROC-AUC: 0.7624\n",
      "Best params: OrderedDict([('colsample_bytree', 0.9019708630001773), ('learning_rate', 0.13537250560801317), ('max_bin', 913), ('max_depth', 2), ('min_child_samples', 49), ('min_data_in_leaf', 100), ('n_estimators', 207), ('num_leaves', 2), ('reg_alpha', 1.0), ('reg_lambda', 1e-09), ('scale_pos_weight', 33)])\n",
      "\n"
     ]
    },
    {
     "data": {
      "application/javascript": [
       "\n",
       "        if (window._pyforest_update_imports_cell) { window._pyforest_update_imports_cell('import numpy as np'); }\n",
       "    "
      ],
      "text/plain": [
       "<IPython.core.display.Javascript object>"
      ]
     },
     "metadata": {},
     "output_type": "display_data"
    },
    {
     "name": "stdout",
     "output_type": "stream",
     "text": [
      "Model #21\n",
      "Best ROC-AUC: 0.7624\n",
      "Best params: OrderedDict([('colsample_bytree', 0.9019708630001773), ('learning_rate', 0.13537250560801317), ('max_bin', 913), ('max_depth', 2), ('min_child_samples', 49), ('min_data_in_leaf', 100), ('n_estimators', 207), ('num_leaves', 2), ('reg_alpha', 1.0), ('reg_lambda', 1e-09), ('scale_pos_weight', 33)])\n",
      "\n"
     ]
    },
    {
     "data": {
      "application/javascript": [
       "\n",
       "        if (window._pyforest_update_imports_cell) { window._pyforest_update_imports_cell('import numpy as np'); }\n",
       "    "
      ],
      "text/plain": [
       "<IPython.core.display.Javascript object>"
      ]
     },
     "metadata": {},
     "output_type": "display_data"
    },
    {
     "name": "stdout",
     "output_type": "stream",
     "text": [
      "Model #22\n",
      "Best ROC-AUC: 0.7624\n",
      "Best params: OrderedDict([('colsample_bytree', 0.9019708630001773), ('learning_rate', 0.13537250560801317), ('max_bin', 913), ('max_depth', 2), ('min_child_samples', 49), ('min_data_in_leaf', 100), ('n_estimators', 207), ('num_leaves', 2), ('reg_alpha', 1.0), ('reg_lambda', 1e-09), ('scale_pos_weight', 33)])\n",
      "\n"
     ]
    },
    {
     "data": {
      "application/javascript": [
       "\n",
       "        if (window._pyforest_update_imports_cell) { window._pyforest_update_imports_cell('import numpy as np'); }\n",
       "    "
      ],
      "text/plain": [
       "<IPython.core.display.Javascript object>"
      ]
     },
     "metadata": {},
     "output_type": "display_data"
    },
    {
     "name": "stdout",
     "output_type": "stream",
     "text": [
      "Model #23\n",
      "Best ROC-AUC: 0.7624\n",
      "Best params: OrderedDict([('colsample_bytree', 0.9019708630001773), ('learning_rate', 0.13537250560801317), ('max_bin', 913), ('max_depth', 2), ('min_child_samples', 49), ('min_data_in_leaf', 100), ('n_estimators', 207), ('num_leaves', 2), ('reg_alpha', 1.0), ('reg_lambda', 1e-09), ('scale_pos_weight', 33)])\n",
      "\n"
     ]
    },
    {
     "data": {
      "application/javascript": [
       "\n",
       "        if (window._pyforest_update_imports_cell) { window._pyforest_update_imports_cell('import numpy as np'); }\n",
       "    "
      ],
      "text/plain": [
       "<IPython.core.display.Javascript object>"
      ]
     },
     "metadata": {},
     "output_type": "display_data"
    },
    {
     "name": "stdout",
     "output_type": "stream",
     "text": [
      "Model #24\n",
      "Best ROC-AUC: 0.7624\n",
      "Best params: OrderedDict([('colsample_bytree', 0.9019708630001773), ('learning_rate', 0.13537250560801317), ('max_bin', 913), ('max_depth', 2), ('min_child_samples', 49), ('min_data_in_leaf', 100), ('n_estimators', 207), ('num_leaves', 2), ('reg_alpha', 1.0), ('reg_lambda', 1e-09), ('scale_pos_weight', 33)])\n",
      "\n"
     ]
    },
    {
     "data": {
      "application/javascript": [
       "\n",
       "        if (window._pyforest_update_imports_cell) { window._pyforest_update_imports_cell('import numpy as np'); }\n",
       "    "
      ],
      "text/plain": [
       "<IPython.core.display.Javascript object>"
      ]
     },
     "metadata": {},
     "output_type": "display_data"
    },
    {
     "name": "stdout",
     "output_type": "stream",
     "text": [
      "Model #25\n",
      "Best ROC-AUC: 0.7624\n",
      "Best params: OrderedDict([('colsample_bytree', 0.9019708630001773), ('learning_rate', 0.13537250560801317), ('max_bin', 913), ('max_depth', 2), ('min_child_samples', 49), ('min_data_in_leaf', 100), ('n_estimators', 207), ('num_leaves', 2), ('reg_alpha', 1.0), ('reg_lambda', 1e-09), ('scale_pos_weight', 33)])\n",
      "\n"
     ]
    },
    {
     "data": {
      "application/javascript": [
       "\n",
       "        if (window._pyforest_update_imports_cell) { window._pyforest_update_imports_cell('import numpy as np'); }\n",
       "    "
      ],
      "text/plain": [
       "<IPython.core.display.Javascript object>"
      ]
     },
     "metadata": {},
     "output_type": "display_data"
    },
    {
     "name": "stdout",
     "output_type": "stream",
     "text": [
      "Model #26\n",
      "Best ROC-AUC: 0.7624\n",
      "Best params: OrderedDict([('colsample_bytree', 0.9019708630001773), ('learning_rate', 0.13537250560801317), ('max_bin', 913), ('max_depth', 2), ('min_child_samples', 49), ('min_data_in_leaf', 100), ('n_estimators', 207), ('num_leaves', 2), ('reg_alpha', 1.0), ('reg_lambda', 1e-09), ('scale_pos_weight', 33)])\n",
      "\n"
     ]
    },
    {
     "data": {
      "application/javascript": [
       "\n",
       "        if (window._pyforest_update_imports_cell) { window._pyforest_update_imports_cell('import numpy as np'); }\n",
       "    "
      ],
      "text/plain": [
       "<IPython.core.display.Javascript object>"
      ]
     },
     "metadata": {},
     "output_type": "display_data"
    },
    {
     "name": "stdout",
     "output_type": "stream",
     "text": [
      "Model #27\n",
      "Best ROC-AUC: 0.7624\n",
      "Best params: OrderedDict([('colsample_bytree', 0.9019708630001773), ('learning_rate', 0.13537250560801317), ('max_bin', 913), ('max_depth', 2), ('min_child_samples', 49), ('min_data_in_leaf', 100), ('n_estimators', 207), ('num_leaves', 2), ('reg_alpha', 1.0), ('reg_lambda', 1e-09), ('scale_pos_weight', 33)])\n",
      "\n"
     ]
    },
    {
     "data": {
      "application/javascript": [
       "\n",
       "        if (window._pyforest_update_imports_cell) { window._pyforest_update_imports_cell('import numpy as np'); }\n",
       "    "
      ],
      "text/plain": [
       "<IPython.core.display.Javascript object>"
      ]
     },
     "metadata": {},
     "output_type": "display_data"
    },
    {
     "name": "stdout",
     "output_type": "stream",
     "text": [
      "Model #28\n",
      "Best ROC-AUC: 0.7624\n",
      "Best params: OrderedDict([('colsample_bytree', 0.9019708630001773), ('learning_rate', 0.13537250560801317), ('max_bin', 913), ('max_depth', 2), ('min_child_samples', 49), ('min_data_in_leaf', 100), ('n_estimators', 207), ('num_leaves', 2), ('reg_alpha', 1.0), ('reg_lambda', 1e-09), ('scale_pos_weight', 33)])\n",
      "\n"
     ]
    },
    {
     "data": {
      "application/javascript": [
       "\n",
       "        if (window._pyforest_update_imports_cell) { window._pyforest_update_imports_cell('import numpy as np'); }\n",
       "    "
      ],
      "text/plain": [
       "<IPython.core.display.Javascript object>"
      ]
     },
     "metadata": {},
     "output_type": "display_data"
    },
    {
     "name": "stdout",
     "output_type": "stream",
     "text": [
      "Model #29\n",
      "Best ROC-AUC: 0.7624\n",
      "Best params: OrderedDict([('colsample_bytree', 0.9019708630001773), ('learning_rate', 0.13537250560801317), ('max_bin', 913), ('max_depth', 2), ('min_child_samples', 49), ('min_data_in_leaf', 100), ('n_estimators', 207), ('num_leaves', 2), ('reg_alpha', 1.0), ('reg_lambda', 1e-09), ('scale_pos_weight', 33)])\n",
      "\n"
     ]
    },
    {
     "data": {
      "application/javascript": [
       "\n",
       "        if (window._pyforest_update_imports_cell) { window._pyforest_update_imports_cell('import numpy as np'); }\n",
       "    "
      ],
      "text/plain": [
       "<IPython.core.display.Javascript object>"
      ]
     },
     "metadata": {},
     "output_type": "display_data"
    },
    {
     "name": "stdout",
     "output_type": "stream",
     "text": [
      "Model #30\n",
      "Best ROC-AUC: 0.7624\n",
      "Best params: OrderedDict([('colsample_bytree', 0.9019708630001773), ('learning_rate', 0.13537250560801317), ('max_bin', 913), ('max_depth', 2), ('min_child_samples', 49), ('min_data_in_leaf', 100), ('n_estimators', 207), ('num_leaves', 2), ('reg_alpha', 1.0), ('reg_lambda', 1e-09), ('scale_pos_weight', 33)])\n",
      "\n"
     ]
    },
    {
     "data": {
      "application/javascript": [
       "\n",
       "        if (window._pyforest_update_imports_cell) { window._pyforest_update_imports_cell('import numpy as np'); }\n",
       "    "
      ],
      "text/plain": [
       "<IPython.core.display.Javascript object>"
      ]
     },
     "metadata": {},
     "output_type": "display_data"
    },
    {
     "name": "stdout",
     "output_type": "stream",
     "text": [
      "Model #31\n",
      "Best ROC-AUC: 0.7624\n",
      "Best params: OrderedDict([('colsample_bytree', 0.9019708630001773), ('learning_rate', 0.13537250560801317), ('max_bin', 913), ('max_depth', 2), ('min_child_samples', 49), ('min_data_in_leaf', 100), ('n_estimators', 207), ('num_leaves', 2), ('reg_alpha', 1.0), ('reg_lambda', 1e-09), ('scale_pos_weight', 33)])\n",
      "\n"
     ]
    },
    {
     "data": {
      "application/javascript": [
       "\n",
       "        if (window._pyforest_update_imports_cell) { window._pyforest_update_imports_cell('import numpy as np'); }\n",
       "    "
      ],
      "text/plain": [
       "<IPython.core.display.Javascript object>"
      ]
     },
     "metadata": {},
     "output_type": "display_data"
    },
    {
     "name": "stdout",
     "output_type": "stream",
     "text": [
      "Model #32\n",
      "Best ROC-AUC: 0.7624\n",
      "Best params: OrderedDict([('colsample_bytree', 0.9019708630001773), ('learning_rate', 0.13537250560801317), ('max_bin', 913), ('max_depth', 2), ('min_child_samples', 49), ('min_data_in_leaf', 100), ('n_estimators', 207), ('num_leaves', 2), ('reg_alpha', 1.0), ('reg_lambda', 1e-09), ('scale_pos_weight', 33)])\n",
      "\n"
     ]
    },
    {
     "data": {
      "application/javascript": [
       "\n",
       "        if (window._pyforest_update_imports_cell) { window._pyforest_update_imports_cell('import numpy as np'); }\n",
       "    "
      ],
      "text/plain": [
       "<IPython.core.display.Javascript object>"
      ]
     },
     "metadata": {},
     "output_type": "display_data"
    },
    {
     "name": "stdout",
     "output_type": "stream",
     "text": [
      "Model #33\n",
      "Best ROC-AUC: 0.7624\n",
      "Best params: OrderedDict([('colsample_bytree', 0.9019708630001773), ('learning_rate', 0.13537250560801317), ('max_bin', 913), ('max_depth', 2), ('min_child_samples', 49), ('min_data_in_leaf', 100), ('n_estimators', 207), ('num_leaves', 2), ('reg_alpha', 1.0), ('reg_lambda', 1e-09), ('scale_pos_weight', 33)])\n",
      "\n"
     ]
    },
    {
     "data": {
      "application/javascript": [
       "\n",
       "        if (window._pyforest_update_imports_cell) { window._pyforest_update_imports_cell('import numpy as np'); }\n",
       "    "
      ],
      "text/plain": [
       "<IPython.core.display.Javascript object>"
      ]
     },
     "metadata": {},
     "output_type": "display_data"
    },
    {
     "name": "stdout",
     "output_type": "stream",
     "text": [
      "Model #34\n",
      "Best ROC-AUC: 0.7624\n",
      "Best params: OrderedDict([('colsample_bytree', 0.9019708630001773), ('learning_rate', 0.13537250560801317), ('max_bin', 913), ('max_depth', 2), ('min_child_samples', 49), ('min_data_in_leaf', 100), ('n_estimators', 207), ('num_leaves', 2), ('reg_alpha', 1.0), ('reg_lambda', 1e-09), ('scale_pos_weight', 33)])\n",
      "\n"
     ]
    },
    {
     "data": {
      "application/javascript": [
       "\n",
       "        if (window._pyforest_update_imports_cell) { window._pyforest_update_imports_cell('import numpy as np'); }\n",
       "    "
      ],
      "text/plain": [
       "<IPython.core.display.Javascript object>"
      ]
     },
     "metadata": {},
     "output_type": "display_data"
    },
    {
     "name": "stdout",
     "output_type": "stream",
     "text": [
      "Model #35\n",
      "Best ROC-AUC: 0.7624\n",
      "Best params: OrderedDict([('colsample_bytree', 0.9019708630001773), ('learning_rate', 0.13537250560801317), ('max_bin', 913), ('max_depth', 2), ('min_child_samples', 49), ('min_data_in_leaf', 100), ('n_estimators', 207), ('num_leaves', 2), ('reg_alpha', 1.0), ('reg_lambda', 1e-09), ('scale_pos_weight', 33)])\n",
      "\n"
     ]
    },
    {
     "data": {
      "application/javascript": [
       "\n",
       "        if (window._pyforest_update_imports_cell) { window._pyforest_update_imports_cell('import numpy as np'); }\n",
       "    "
      ],
      "text/plain": [
       "<IPython.core.display.Javascript object>"
      ]
     },
     "metadata": {},
     "output_type": "display_data"
    },
    {
     "name": "stdout",
     "output_type": "stream",
     "text": [
      "Model #36\n",
      "Best ROC-AUC: 0.7624\n",
      "Best params: OrderedDict([('colsample_bytree', 0.9019708630001773), ('learning_rate', 0.13537250560801317), ('max_bin', 913), ('max_depth', 2), ('min_child_samples', 49), ('min_data_in_leaf', 100), ('n_estimators', 207), ('num_leaves', 2), ('reg_alpha', 1.0), ('reg_lambda', 1e-09), ('scale_pos_weight', 33)])\n",
      "\n"
     ]
    },
    {
     "data": {
      "application/javascript": [
       "\n",
       "        if (window._pyforest_update_imports_cell) { window._pyforest_update_imports_cell('import numpy as np'); }\n",
       "    "
      ],
      "text/plain": [
       "<IPython.core.display.Javascript object>"
      ]
     },
     "metadata": {},
     "output_type": "display_data"
    },
    {
     "name": "stdout",
     "output_type": "stream",
     "text": [
      "Model #37\n",
      "Best ROC-AUC: 0.7624\n",
      "Best params: OrderedDict([('colsample_bytree', 0.9019708630001773), ('learning_rate', 0.13537250560801317), ('max_bin', 913), ('max_depth', 2), ('min_child_samples', 49), ('min_data_in_leaf', 100), ('n_estimators', 207), ('num_leaves', 2), ('reg_alpha', 1.0), ('reg_lambda', 1e-09), ('scale_pos_weight', 33)])\n",
      "\n"
     ]
    },
    {
     "data": {
      "application/javascript": [
       "\n",
       "        if (window._pyforest_update_imports_cell) { window._pyforest_update_imports_cell('import numpy as np'); }\n",
       "    "
      ],
      "text/plain": [
       "<IPython.core.display.Javascript object>"
      ]
     },
     "metadata": {},
     "output_type": "display_data"
    },
    {
     "name": "stdout",
     "output_type": "stream",
     "text": [
      "Model #38\n",
      "Best ROC-AUC: 0.7624\n",
      "Best params: OrderedDict([('colsample_bytree', 0.9019708630001773), ('learning_rate', 0.13537250560801317), ('max_bin', 913), ('max_depth', 2), ('min_child_samples', 49), ('min_data_in_leaf', 100), ('n_estimators', 207), ('num_leaves', 2), ('reg_alpha', 1.0), ('reg_lambda', 1e-09), ('scale_pos_weight', 33)])\n",
      "\n"
     ]
    },
    {
     "data": {
      "application/javascript": [
       "\n",
       "        if (window._pyforest_update_imports_cell) { window._pyforest_update_imports_cell('import numpy as np'); }\n",
       "    "
      ],
      "text/plain": [
       "<IPython.core.display.Javascript object>"
      ]
     },
     "metadata": {},
     "output_type": "display_data"
    },
    {
     "name": "stdout",
     "output_type": "stream",
     "text": [
      "Model #39\n",
      "Best ROC-AUC: 0.7624\n",
      "Best params: OrderedDict([('colsample_bytree', 0.9019708630001773), ('learning_rate', 0.13537250560801317), ('max_bin', 913), ('max_depth', 2), ('min_child_samples', 49), ('min_data_in_leaf', 100), ('n_estimators', 207), ('num_leaves', 2), ('reg_alpha', 1.0), ('reg_lambda', 1e-09), ('scale_pos_weight', 33)])\n",
      "\n"
     ]
    },
    {
     "data": {
      "application/javascript": [
       "\n",
       "        if (window._pyforest_update_imports_cell) { window._pyforest_update_imports_cell('import numpy as np'); }\n",
       "    "
      ],
      "text/plain": [
       "<IPython.core.display.Javascript object>"
      ]
     },
     "metadata": {},
     "output_type": "display_data"
    },
    {
     "name": "stdout",
     "output_type": "stream",
     "text": [
      "Model #40\n",
      "Best ROC-AUC: 0.7624\n",
      "Best params: OrderedDict([('colsample_bytree', 0.9019708630001773), ('learning_rate', 0.13537250560801317), ('max_bin', 913), ('max_depth', 2), ('min_child_samples', 49), ('min_data_in_leaf', 100), ('n_estimators', 207), ('num_leaves', 2), ('reg_alpha', 1.0), ('reg_lambda', 1e-09), ('scale_pos_weight', 33)])\n",
      "\n"
     ]
    },
    {
     "data": {
      "application/javascript": [
       "\n",
       "        if (window._pyforest_update_imports_cell) { window._pyforest_update_imports_cell('import numpy as np'); }\n",
       "    "
      ],
      "text/plain": [
       "<IPython.core.display.Javascript object>"
      ]
     },
     "metadata": {},
     "output_type": "display_data"
    },
    {
     "name": "stdout",
     "output_type": "stream",
     "text": [
      "Model #41\n",
      "Best ROC-AUC: 0.7624\n",
      "Best params: OrderedDict([('colsample_bytree', 0.9019708630001773), ('learning_rate', 0.13537250560801317), ('max_bin', 913), ('max_depth', 2), ('min_child_samples', 49), ('min_data_in_leaf', 100), ('n_estimators', 207), ('num_leaves', 2), ('reg_alpha', 1.0), ('reg_lambda', 1e-09), ('scale_pos_weight', 33)])\n",
      "\n"
     ]
    },
    {
     "data": {
      "application/javascript": [
       "\n",
       "        if (window._pyforest_update_imports_cell) { window._pyforest_update_imports_cell('import numpy as np'); }\n",
       "    "
      ],
      "text/plain": [
       "<IPython.core.display.Javascript object>"
      ]
     },
     "metadata": {},
     "output_type": "display_data"
    },
    {
     "name": "stdout",
     "output_type": "stream",
     "text": [
      "Model #42\n",
      "Best ROC-AUC: 0.7624\n",
      "Best params: OrderedDict([('colsample_bytree', 0.9019708630001773), ('learning_rate', 0.13537250560801317), ('max_bin', 913), ('max_depth', 2), ('min_child_samples', 49), ('min_data_in_leaf', 100), ('n_estimators', 207), ('num_leaves', 2), ('reg_alpha', 1.0), ('reg_lambda', 1e-09), ('scale_pos_weight', 33)])\n",
      "\n"
     ]
    },
    {
     "data": {
      "application/javascript": [
       "\n",
       "        if (window._pyforest_update_imports_cell) { window._pyforest_update_imports_cell('import numpy as np'); }\n",
       "    "
      ],
      "text/plain": [
       "<IPython.core.display.Javascript object>"
      ]
     },
     "metadata": {},
     "output_type": "display_data"
    },
    {
     "name": "stdout",
     "output_type": "stream",
     "text": [
      "Model #43\n",
      "Best ROC-AUC: 0.7624\n",
      "Best params: OrderedDict([('colsample_bytree', 0.9019708630001773), ('learning_rate', 0.13537250560801317), ('max_bin', 913), ('max_depth', 2), ('min_child_samples', 49), ('min_data_in_leaf', 100), ('n_estimators', 207), ('num_leaves', 2), ('reg_alpha', 1.0), ('reg_lambda', 1e-09), ('scale_pos_weight', 33)])\n",
      "\n"
     ]
    },
    {
     "data": {
      "application/javascript": [
       "\n",
       "        if (window._pyforest_update_imports_cell) { window._pyforest_update_imports_cell('import numpy as np'); }\n",
       "    "
      ],
      "text/plain": [
       "<IPython.core.display.Javascript object>"
      ]
     },
     "metadata": {},
     "output_type": "display_data"
    },
    {
     "name": "stdout",
     "output_type": "stream",
     "text": [
      "Model #44\n",
      "Best ROC-AUC: 0.7624\n",
      "Best params: OrderedDict([('colsample_bytree', 0.9019708630001773), ('learning_rate', 0.13537250560801317), ('max_bin', 913), ('max_depth', 2), ('min_child_samples', 49), ('min_data_in_leaf', 100), ('n_estimators', 207), ('num_leaves', 2), ('reg_alpha', 1.0), ('reg_lambda', 1e-09), ('scale_pos_weight', 33)])\n",
      "\n"
     ]
    },
    {
     "data": {
      "application/javascript": [
       "\n",
       "        if (window._pyforest_update_imports_cell) { window._pyforest_update_imports_cell('import numpy as np'); }\n",
       "    "
      ],
      "text/plain": [
       "<IPython.core.display.Javascript object>"
      ]
     },
     "metadata": {},
     "output_type": "display_data"
    },
    {
     "name": "stdout",
     "output_type": "stream",
     "text": [
      "Model #45\n",
      "Best ROC-AUC: 0.7624\n",
      "Best params: OrderedDict([('colsample_bytree', 0.9019708630001773), ('learning_rate', 0.13537250560801317), ('max_bin', 913), ('max_depth', 2), ('min_child_samples', 49), ('min_data_in_leaf', 100), ('n_estimators', 207), ('num_leaves', 2), ('reg_alpha', 1.0), ('reg_lambda', 1e-09), ('scale_pos_weight', 33)])\n",
      "\n"
     ]
    },
    {
     "data": {
      "application/javascript": [
       "\n",
       "        if (window._pyforest_update_imports_cell) { window._pyforest_update_imports_cell('import numpy as np'); }\n",
       "    "
      ],
      "text/plain": [
       "<IPython.core.display.Javascript object>"
      ]
     },
     "metadata": {},
     "output_type": "display_data"
    },
    {
     "name": "stdout",
     "output_type": "stream",
     "text": [
      "Model #46\n",
      "Best ROC-AUC: 0.7624\n",
      "Best params: OrderedDict([('colsample_bytree', 0.9019708630001773), ('learning_rate', 0.13537250560801317), ('max_bin', 913), ('max_depth', 2), ('min_child_samples', 49), ('min_data_in_leaf', 100), ('n_estimators', 207), ('num_leaves', 2), ('reg_alpha', 1.0), ('reg_lambda', 1e-09), ('scale_pos_weight', 33)])\n",
      "\n"
     ]
    },
    {
     "data": {
      "application/javascript": [
       "\n",
       "        if (window._pyforest_update_imports_cell) { window._pyforest_update_imports_cell('import numpy as np'); }\n",
       "    "
      ],
      "text/plain": [
       "<IPython.core.display.Javascript object>"
      ]
     },
     "metadata": {},
     "output_type": "display_data"
    },
    {
     "name": "stdout",
     "output_type": "stream",
     "text": [
      "Model #47\n",
      "Best ROC-AUC: 0.7624\n",
      "Best params: OrderedDict([('colsample_bytree', 0.9019708630001773), ('learning_rate', 0.13537250560801317), ('max_bin', 913), ('max_depth', 2), ('min_child_samples', 49), ('min_data_in_leaf', 100), ('n_estimators', 207), ('num_leaves', 2), ('reg_alpha', 1.0), ('reg_lambda', 1e-09), ('scale_pos_weight', 33)])\n",
      "\n"
     ]
    },
    {
     "data": {
      "application/javascript": [
       "\n",
       "        if (window._pyforest_update_imports_cell) { window._pyforest_update_imports_cell('import numpy as np'); }\n",
       "    "
      ],
      "text/plain": [
       "<IPython.core.display.Javascript object>"
      ]
     },
     "metadata": {},
     "output_type": "display_data"
    },
    {
     "name": "stdout",
     "output_type": "stream",
     "text": [
      "Model #48\n",
      "Best ROC-AUC: 0.7624\n",
      "Best params: OrderedDict([('colsample_bytree', 0.9019708630001773), ('learning_rate', 0.13537250560801317), ('max_bin', 913), ('max_depth', 2), ('min_child_samples', 49), ('min_data_in_leaf', 100), ('n_estimators', 207), ('num_leaves', 2), ('reg_alpha', 1.0), ('reg_lambda', 1e-09), ('scale_pos_weight', 33)])\n",
      "\n"
     ]
    },
    {
     "data": {
      "application/javascript": [
       "\n",
       "        if (window._pyforest_update_imports_cell) { window._pyforest_update_imports_cell('import numpy as np'); }\n",
       "    "
      ],
      "text/plain": [
       "<IPython.core.display.Javascript object>"
      ]
     },
     "metadata": {},
     "output_type": "display_data"
    },
    {
     "name": "stdout",
     "output_type": "stream",
     "text": [
      "Model #49\n",
      "Best ROC-AUC: 0.7624\n",
      "Best params: OrderedDict([('colsample_bytree', 0.9019708630001773), ('learning_rate', 0.13537250560801317), ('max_bin', 913), ('max_depth', 2), ('min_child_samples', 49), ('min_data_in_leaf', 100), ('n_estimators', 207), ('num_leaves', 2), ('reg_alpha', 1.0), ('reg_lambda', 1e-09), ('scale_pos_weight', 33)])\n",
      "\n"
     ]
    },
    {
     "data": {
      "application/javascript": [
       "\n",
       "        if (window._pyforest_update_imports_cell) { window._pyforest_update_imports_cell('import numpy as np'); }\n",
       "    "
      ],
      "text/plain": [
       "<IPython.core.display.Javascript object>"
      ]
     },
     "metadata": {},
     "output_type": "display_data"
    },
    {
     "name": "stdout",
     "output_type": "stream",
     "text": [
      "Model #50\n",
      "Best ROC-AUC: 0.7624\n",
      "Best params: OrderedDict([('colsample_bytree', 0.9019708630001773), ('learning_rate', 0.13537250560801317), ('max_bin', 913), ('max_depth', 2), ('min_child_samples', 49), ('min_data_in_leaf', 100), ('n_estimators', 207), ('num_leaves', 2), ('reg_alpha', 1.0), ('reg_lambda', 1e-09), ('scale_pos_weight', 33)])\n",
      "\n"
     ]
    },
    {
     "data": {
      "application/javascript": [
       "\n",
       "        if (window._pyforest_update_imports_cell) { window._pyforest_update_imports_cell('import numpy as np'); }\n",
       "    "
      ],
      "text/plain": [
       "<IPython.core.display.Javascript object>"
      ]
     },
     "metadata": {},
     "output_type": "display_data"
    },
    {
     "name": "stdout",
     "output_type": "stream",
     "text": [
      "Model #51\n",
      "Best ROC-AUC: 0.7624\n",
      "Best params: OrderedDict([('colsample_bytree', 0.9019708630001773), ('learning_rate', 0.13537250560801317), ('max_bin', 913), ('max_depth', 2), ('min_child_samples', 49), ('min_data_in_leaf', 100), ('n_estimators', 207), ('num_leaves', 2), ('reg_alpha', 1.0), ('reg_lambda', 1e-09), ('scale_pos_weight', 33)])\n",
      "\n"
     ]
    },
    {
     "data": {
      "application/javascript": [
       "\n",
       "        if (window._pyforest_update_imports_cell) { window._pyforest_update_imports_cell('import numpy as np'); }\n",
       "    "
      ],
      "text/plain": [
       "<IPython.core.display.Javascript object>"
      ]
     },
     "metadata": {},
     "output_type": "display_data"
    },
    {
     "name": "stdout",
     "output_type": "stream",
     "text": [
      "Model #52\n",
      "Best ROC-AUC: 0.7624\n",
      "Best params: OrderedDict([('colsample_bytree', 0.9019708630001773), ('learning_rate', 0.13537250560801317), ('max_bin', 913), ('max_depth', 2), ('min_child_samples', 49), ('min_data_in_leaf', 100), ('n_estimators', 207), ('num_leaves', 2), ('reg_alpha', 1.0), ('reg_lambda', 1e-09), ('scale_pos_weight', 33)])\n",
      "\n"
     ]
    },
    {
     "data": {
      "application/javascript": [
       "\n",
       "        if (window._pyforest_update_imports_cell) { window._pyforest_update_imports_cell('import numpy as np'); }\n",
       "    "
      ],
      "text/plain": [
       "<IPython.core.display.Javascript object>"
      ]
     },
     "metadata": {},
     "output_type": "display_data"
    },
    {
     "name": "stdout",
     "output_type": "stream",
     "text": [
      "Model #53\n",
      "Best ROC-AUC: 0.7624\n",
      "Best params: OrderedDict([('colsample_bytree', 0.9019708630001773), ('learning_rate', 0.13537250560801317), ('max_bin', 913), ('max_depth', 2), ('min_child_samples', 49), ('min_data_in_leaf', 100), ('n_estimators', 207), ('num_leaves', 2), ('reg_alpha', 1.0), ('reg_lambda', 1e-09), ('scale_pos_weight', 33)])\n",
      "\n"
     ]
    },
    {
     "data": {
      "application/javascript": [
       "\n",
       "        if (window._pyforest_update_imports_cell) { window._pyforest_update_imports_cell('import numpy as np'); }\n",
       "    "
      ],
      "text/plain": [
       "<IPython.core.display.Javascript object>"
      ]
     },
     "metadata": {},
     "output_type": "display_data"
    },
    {
     "name": "stdout",
     "output_type": "stream",
     "text": [
      "Model #54\n",
      "Best ROC-AUC: 0.7624\n",
      "Best params: OrderedDict([('colsample_bytree', 0.9019708630001773), ('learning_rate', 0.13537250560801317), ('max_bin', 913), ('max_depth', 2), ('min_child_samples', 49), ('min_data_in_leaf', 100), ('n_estimators', 207), ('num_leaves', 2), ('reg_alpha', 1.0), ('reg_lambda', 1e-09), ('scale_pos_weight', 33)])\n",
      "\n"
     ]
    },
    {
     "data": {
      "application/javascript": [
       "\n",
       "        if (window._pyforest_update_imports_cell) { window._pyforest_update_imports_cell('import numpy as np'); }\n",
       "    "
      ],
      "text/plain": [
       "<IPython.core.display.Javascript object>"
      ]
     },
     "metadata": {},
     "output_type": "display_data"
    },
    {
     "name": "stdout",
     "output_type": "stream",
     "text": [
      "Model #55\n",
      "Best ROC-AUC: 0.7624\n",
      "Best params: OrderedDict([('colsample_bytree', 0.9019708630001773), ('learning_rate', 0.13537250560801317), ('max_bin', 913), ('max_depth', 2), ('min_child_samples', 49), ('min_data_in_leaf', 100), ('n_estimators', 207), ('num_leaves', 2), ('reg_alpha', 1.0), ('reg_lambda', 1e-09), ('scale_pos_weight', 33)])\n",
      "\n"
     ]
    },
    {
     "data": {
      "application/javascript": [
       "\n",
       "        if (window._pyforest_update_imports_cell) { window._pyforest_update_imports_cell('import numpy as np'); }\n",
       "    "
      ],
      "text/plain": [
       "<IPython.core.display.Javascript object>"
      ]
     },
     "metadata": {},
     "output_type": "display_data"
    },
    {
     "name": "stdout",
     "output_type": "stream",
     "text": [
      "Model #56\n",
      "Best ROC-AUC: 0.7624\n",
      "Best params: OrderedDict([('colsample_bytree', 0.9019708630001773), ('learning_rate', 0.13537250560801317), ('max_bin', 913), ('max_depth', 2), ('min_child_samples', 49), ('min_data_in_leaf', 100), ('n_estimators', 207), ('num_leaves', 2), ('reg_alpha', 1.0), ('reg_lambda', 1e-09), ('scale_pos_weight', 33)])\n",
      "\n"
     ]
    },
    {
     "data": {
      "application/javascript": [
       "\n",
       "        if (window._pyforest_update_imports_cell) { window._pyforest_update_imports_cell('import numpy as np'); }\n",
       "    "
      ],
      "text/plain": [
       "<IPython.core.display.Javascript object>"
      ]
     },
     "metadata": {},
     "output_type": "display_data"
    },
    {
     "name": "stdout",
     "output_type": "stream",
     "text": [
      "Model #57\n",
      "Best ROC-AUC: 0.7624\n",
      "Best params: OrderedDict([('colsample_bytree', 0.9019708630001773), ('learning_rate', 0.13537250560801317), ('max_bin', 913), ('max_depth', 2), ('min_child_samples', 49), ('min_data_in_leaf', 100), ('n_estimators', 207), ('num_leaves', 2), ('reg_alpha', 1.0), ('reg_lambda', 1e-09), ('scale_pos_weight', 33)])\n",
      "\n"
     ]
    },
    {
     "data": {
      "application/javascript": [
       "\n",
       "        if (window._pyforest_update_imports_cell) { window._pyforest_update_imports_cell('import numpy as np'); }\n",
       "    "
      ],
      "text/plain": [
       "<IPython.core.display.Javascript object>"
      ]
     },
     "metadata": {},
     "output_type": "display_data"
    },
    {
     "name": "stdout",
     "output_type": "stream",
     "text": [
      "Model #58\n",
      "Best ROC-AUC: 0.7624\n",
      "Best params: OrderedDict([('colsample_bytree', 0.9019708630001773), ('learning_rate', 0.13537250560801317), ('max_bin', 913), ('max_depth', 2), ('min_child_samples', 49), ('min_data_in_leaf', 100), ('n_estimators', 207), ('num_leaves', 2), ('reg_alpha', 1.0), ('reg_lambda', 1e-09), ('scale_pos_weight', 33)])\n",
      "\n"
     ]
    },
    {
     "data": {
      "application/javascript": [
       "\n",
       "        if (window._pyforest_update_imports_cell) { window._pyforest_update_imports_cell('import numpy as np'); }\n",
       "    "
      ],
      "text/plain": [
       "<IPython.core.display.Javascript object>"
      ]
     },
     "metadata": {},
     "output_type": "display_data"
    },
    {
     "name": "stdout",
     "output_type": "stream",
     "text": [
      "Model #59\n",
      "Best ROC-AUC: 0.7624\n",
      "Best params: OrderedDict([('colsample_bytree', 0.9019708630001773), ('learning_rate', 0.13537250560801317), ('max_bin', 913), ('max_depth', 2), ('min_child_samples', 49), ('min_data_in_leaf', 100), ('n_estimators', 207), ('num_leaves', 2), ('reg_alpha', 1.0), ('reg_lambda', 1e-09), ('scale_pos_weight', 33)])\n",
      "\n"
     ]
    },
    {
     "data": {
      "application/javascript": [
       "\n",
       "        if (window._pyforest_update_imports_cell) { window._pyforest_update_imports_cell('import numpy as np'); }\n",
       "    "
      ],
      "text/plain": [
       "<IPython.core.display.Javascript object>"
      ]
     },
     "metadata": {},
     "output_type": "display_data"
    },
    {
     "name": "stdout",
     "output_type": "stream",
     "text": [
      "Model #60\n",
      "Best ROC-AUC: 0.7624\n",
      "Best params: OrderedDict([('colsample_bytree', 0.9019708630001773), ('learning_rate', 0.13537250560801317), ('max_bin', 913), ('max_depth', 2), ('min_child_samples', 49), ('min_data_in_leaf', 100), ('n_estimators', 207), ('num_leaves', 2), ('reg_alpha', 1.0), ('reg_lambda', 1e-09), ('scale_pos_weight', 33)])\n",
      "\n"
     ]
    },
    {
     "data": {
      "application/javascript": [
       "\n",
       "        if (window._pyforest_update_imports_cell) { window._pyforest_update_imports_cell('import numpy as np'); }\n",
       "    "
      ],
      "text/plain": [
       "<IPython.core.display.Javascript object>"
      ]
     },
     "metadata": {},
     "output_type": "display_data"
    },
    {
     "name": "stdout",
     "output_type": "stream",
     "text": [
      "Model #61\n",
      "Best ROC-AUC: 0.7624\n",
      "Best params: OrderedDict([('colsample_bytree', 0.9019708630001773), ('learning_rate', 0.13537250560801317), ('max_bin', 913), ('max_depth', 2), ('min_child_samples', 49), ('min_data_in_leaf', 100), ('n_estimators', 207), ('num_leaves', 2), ('reg_alpha', 1.0), ('reg_lambda', 1e-09), ('scale_pos_weight', 33)])\n",
      "\n"
     ]
    },
    {
     "data": {
      "application/javascript": [
       "\n",
       "        if (window._pyforest_update_imports_cell) { window._pyforest_update_imports_cell('import numpy as np'); }\n",
       "    "
      ],
      "text/plain": [
       "<IPython.core.display.Javascript object>"
      ]
     },
     "metadata": {},
     "output_type": "display_data"
    },
    {
     "name": "stdout",
     "output_type": "stream",
     "text": [
      "Model #62\n",
      "Best ROC-AUC: 0.7624\n",
      "Best params: OrderedDict([('colsample_bytree', 0.9019708630001773), ('learning_rate', 0.13537250560801317), ('max_bin', 913), ('max_depth', 2), ('min_child_samples', 49), ('min_data_in_leaf', 100), ('n_estimators', 207), ('num_leaves', 2), ('reg_alpha', 1.0), ('reg_lambda', 1e-09), ('scale_pos_weight', 33)])\n",
      "\n"
     ]
    },
    {
     "data": {
      "application/javascript": [
       "\n",
       "        if (window._pyforest_update_imports_cell) { window._pyforest_update_imports_cell('import numpy as np'); }\n",
       "    "
      ],
      "text/plain": [
       "<IPython.core.display.Javascript object>"
      ]
     },
     "metadata": {},
     "output_type": "display_data"
    },
    {
     "name": "stdout",
     "output_type": "stream",
     "text": [
      "Model #63\n",
      "Best ROC-AUC: 0.7624\n",
      "Best params: OrderedDict([('colsample_bytree', 0.9019708630001773), ('learning_rate', 0.13537250560801317), ('max_bin', 913), ('max_depth', 2), ('min_child_samples', 49), ('min_data_in_leaf', 100), ('n_estimators', 207), ('num_leaves', 2), ('reg_alpha', 1.0), ('reg_lambda', 1e-09), ('scale_pos_weight', 33)])\n",
      "\n"
     ]
    },
    {
     "data": {
      "application/javascript": [
       "\n",
       "        if (window._pyforest_update_imports_cell) { window._pyforest_update_imports_cell('import numpy as np'); }\n",
       "    "
      ],
      "text/plain": [
       "<IPython.core.display.Javascript object>"
      ]
     },
     "metadata": {},
     "output_type": "display_data"
    },
    {
     "name": "stdout",
     "output_type": "stream",
     "text": [
      "Model #64\n",
      "Best ROC-AUC: 0.7624\n",
      "Best params: OrderedDict([('colsample_bytree', 0.9019708630001773), ('learning_rate', 0.13537250560801317), ('max_bin', 913), ('max_depth', 2), ('min_child_samples', 49), ('min_data_in_leaf', 100), ('n_estimators', 207), ('num_leaves', 2), ('reg_alpha', 1.0), ('reg_lambda', 1e-09), ('scale_pos_weight', 33)])\n",
      "\n"
     ]
    },
    {
     "data": {
      "application/javascript": [
       "\n",
       "        if (window._pyforest_update_imports_cell) { window._pyforest_update_imports_cell('import numpy as np'); }\n",
       "    "
      ],
      "text/plain": [
       "<IPython.core.display.Javascript object>"
      ]
     },
     "metadata": {},
     "output_type": "display_data"
    },
    {
     "name": "stdout",
     "output_type": "stream",
     "text": [
      "Model #65\n",
      "Best ROC-AUC: 0.7624\n",
      "Best params: OrderedDict([('colsample_bytree', 0.9019708630001773), ('learning_rate', 0.13537250560801317), ('max_bin', 913), ('max_depth', 2), ('min_child_samples', 49), ('min_data_in_leaf', 100), ('n_estimators', 207), ('num_leaves', 2), ('reg_alpha', 1.0), ('reg_lambda', 1e-09), ('scale_pos_weight', 33)])\n",
      "\n"
     ]
    },
    {
     "data": {
      "application/javascript": [
       "\n",
       "        if (window._pyforest_update_imports_cell) { window._pyforest_update_imports_cell('import numpy as np'); }\n",
       "    "
      ],
      "text/plain": [
       "<IPython.core.display.Javascript object>"
      ]
     },
     "metadata": {},
     "output_type": "display_data"
    },
    {
     "name": "stdout",
     "output_type": "stream",
     "text": [
      "Model #66\n",
      "Best ROC-AUC: 0.7624\n",
      "Best params: OrderedDict([('colsample_bytree', 0.9019708630001773), ('learning_rate', 0.13537250560801317), ('max_bin', 913), ('max_depth', 2), ('min_child_samples', 49), ('min_data_in_leaf', 100), ('n_estimators', 207), ('num_leaves', 2), ('reg_alpha', 1.0), ('reg_lambda', 1e-09), ('scale_pos_weight', 33)])\n",
      "\n"
     ]
    },
    {
     "data": {
      "application/javascript": [
       "\n",
       "        if (window._pyforest_update_imports_cell) { window._pyforest_update_imports_cell('import numpy as np'); }\n",
       "    "
      ],
      "text/plain": [
       "<IPython.core.display.Javascript object>"
      ]
     },
     "metadata": {},
     "output_type": "display_data"
    },
    {
     "name": "stdout",
     "output_type": "stream",
     "text": [
      "Model #67\n",
      "Best ROC-AUC: 0.7624\n",
      "Best params: OrderedDict([('colsample_bytree', 0.9019708630001773), ('learning_rate', 0.13537250560801317), ('max_bin', 913), ('max_depth', 2), ('min_child_samples', 49), ('min_data_in_leaf', 100), ('n_estimators', 207), ('num_leaves', 2), ('reg_alpha', 1.0), ('reg_lambda', 1e-09), ('scale_pos_weight', 33)])\n",
      "\n"
     ]
    },
    {
     "data": {
      "application/javascript": [
       "\n",
       "        if (window._pyforest_update_imports_cell) { window._pyforest_update_imports_cell('import numpy as np'); }\n",
       "    "
      ],
      "text/plain": [
       "<IPython.core.display.Javascript object>"
      ]
     },
     "metadata": {},
     "output_type": "display_data"
    },
    {
     "name": "stdout",
     "output_type": "stream",
     "text": [
      "Model #68\n",
      "Best ROC-AUC: 0.7624\n",
      "Best params: OrderedDict([('colsample_bytree', 0.9019708630001773), ('learning_rate', 0.13537250560801317), ('max_bin', 913), ('max_depth', 2), ('min_child_samples', 49), ('min_data_in_leaf', 100), ('n_estimators', 207), ('num_leaves', 2), ('reg_alpha', 1.0), ('reg_lambda', 1e-09), ('scale_pos_weight', 33)])\n",
      "\n"
     ]
    },
    {
     "data": {
      "application/javascript": [
       "\n",
       "        if (window._pyforest_update_imports_cell) { window._pyforest_update_imports_cell('import numpy as np'); }\n",
       "    "
      ],
      "text/plain": [
       "<IPython.core.display.Javascript object>"
      ]
     },
     "metadata": {},
     "output_type": "display_data"
    },
    {
     "name": "stdout",
     "output_type": "stream",
     "text": [
      "Model #69\n",
      "Best ROC-AUC: 0.7624\n",
      "Best params: OrderedDict([('colsample_bytree', 0.9019708630001773), ('learning_rate', 0.13537250560801317), ('max_bin', 913), ('max_depth', 2), ('min_child_samples', 49), ('min_data_in_leaf', 100), ('n_estimators', 207), ('num_leaves', 2), ('reg_alpha', 1.0), ('reg_lambda', 1e-09), ('scale_pos_weight', 33)])\n",
      "\n"
     ]
    },
    {
     "data": {
      "application/javascript": [
       "\n",
       "        if (window._pyforest_update_imports_cell) { window._pyforest_update_imports_cell('import numpy as np'); }\n",
       "    "
      ],
      "text/plain": [
       "<IPython.core.display.Javascript object>"
      ]
     },
     "metadata": {},
     "output_type": "display_data"
    },
    {
     "name": "stdout",
     "output_type": "stream",
     "text": [
      "Model #70\n",
      "Best ROC-AUC: 0.7624\n",
      "Best params: OrderedDict([('colsample_bytree', 0.9019708630001773), ('learning_rate', 0.13537250560801317), ('max_bin', 913), ('max_depth', 2), ('min_child_samples', 49), ('min_data_in_leaf', 100), ('n_estimators', 207), ('num_leaves', 2), ('reg_alpha', 1.0), ('reg_lambda', 1e-09), ('scale_pos_weight', 33)])\n",
      "\n"
     ]
    },
    {
     "data": {
      "application/javascript": [
       "\n",
       "        if (window._pyforest_update_imports_cell) { window._pyforest_update_imports_cell('import numpy as np'); }\n",
       "    "
      ],
      "text/plain": [
       "<IPython.core.display.Javascript object>"
      ]
     },
     "metadata": {},
     "output_type": "display_data"
    },
    {
     "name": "stdout",
     "output_type": "stream",
     "text": [
      "Model #71\n",
      "Best ROC-AUC: 0.7624\n",
      "Best params: OrderedDict([('colsample_bytree', 0.9019708630001773), ('learning_rate', 0.13537250560801317), ('max_bin', 913), ('max_depth', 2), ('min_child_samples', 49), ('min_data_in_leaf', 100), ('n_estimators', 207), ('num_leaves', 2), ('reg_alpha', 1.0), ('reg_lambda', 1e-09), ('scale_pos_weight', 33)])\n",
      "\n"
     ]
    },
    {
     "data": {
      "application/javascript": [
       "\n",
       "        if (window._pyforest_update_imports_cell) { window._pyforest_update_imports_cell('import numpy as np'); }\n",
       "    "
      ],
      "text/plain": [
       "<IPython.core.display.Javascript object>"
      ]
     },
     "metadata": {},
     "output_type": "display_data"
    },
    {
     "name": "stdout",
     "output_type": "stream",
     "text": [
      "Model #72\n",
      "Best ROC-AUC: 0.7624\n",
      "Best params: OrderedDict([('colsample_bytree', 0.9019708630001773), ('learning_rate', 0.13537250560801317), ('max_bin', 913), ('max_depth', 2), ('min_child_samples', 49), ('min_data_in_leaf', 100), ('n_estimators', 207), ('num_leaves', 2), ('reg_alpha', 1.0), ('reg_lambda', 1e-09), ('scale_pos_weight', 33)])\n",
      "\n"
     ]
    },
    {
     "data": {
      "application/javascript": [
       "\n",
       "        if (window._pyforest_update_imports_cell) { window._pyforest_update_imports_cell('import numpy as np'); }\n",
       "    "
      ],
      "text/plain": [
       "<IPython.core.display.Javascript object>"
      ]
     },
     "metadata": {},
     "output_type": "display_data"
    },
    {
     "name": "stdout",
     "output_type": "stream",
     "text": [
      "Model #73\n",
      "Best ROC-AUC: 0.7624\n",
      "Best params: OrderedDict([('colsample_bytree', 0.9019708630001773), ('learning_rate', 0.13537250560801317), ('max_bin', 913), ('max_depth', 2), ('min_child_samples', 49), ('min_data_in_leaf', 100), ('n_estimators', 207), ('num_leaves', 2), ('reg_alpha', 1.0), ('reg_lambda', 1e-09), ('scale_pos_weight', 33)])\n",
      "\n"
     ]
    },
    {
     "data": {
      "application/javascript": [
       "\n",
       "        if (window._pyforest_update_imports_cell) { window._pyforest_update_imports_cell('import numpy as np'); }\n",
       "    "
      ],
      "text/plain": [
       "<IPython.core.display.Javascript object>"
      ]
     },
     "metadata": {},
     "output_type": "display_data"
    },
    {
     "name": "stdout",
     "output_type": "stream",
     "text": [
      "Model #74\n",
      "Best ROC-AUC: 0.7624\n",
      "Best params: OrderedDict([('colsample_bytree', 0.9019708630001773), ('learning_rate', 0.13537250560801317), ('max_bin', 913), ('max_depth', 2), ('min_child_samples', 49), ('min_data_in_leaf', 100), ('n_estimators', 207), ('num_leaves', 2), ('reg_alpha', 1.0), ('reg_lambda', 1e-09), ('scale_pos_weight', 33)])\n",
      "\n"
     ]
    },
    {
     "data": {
      "application/javascript": [
       "\n",
       "        if (window._pyforest_update_imports_cell) { window._pyforest_update_imports_cell('import numpy as np'); }\n",
       "    "
      ],
      "text/plain": [
       "<IPython.core.display.Javascript object>"
      ]
     },
     "metadata": {},
     "output_type": "display_data"
    },
    {
     "name": "stdout",
     "output_type": "stream",
     "text": [
      "Model #75\n",
      "Best ROC-AUC: 0.7624\n",
      "Best params: OrderedDict([('colsample_bytree', 0.9019708630001773), ('learning_rate', 0.13537250560801317), ('max_bin', 913), ('max_depth', 2), ('min_child_samples', 49), ('min_data_in_leaf', 100), ('n_estimators', 207), ('num_leaves', 2), ('reg_alpha', 1.0), ('reg_lambda', 1e-09), ('scale_pos_weight', 33)])\n",
      "\n"
     ]
    },
    {
     "data": {
      "application/javascript": [
       "\n",
       "        if (window._pyforest_update_imports_cell) { window._pyforest_update_imports_cell('import numpy as np'); }\n",
       "    "
      ],
      "text/plain": [
       "<IPython.core.display.Javascript object>"
      ]
     },
     "metadata": {},
     "output_type": "display_data"
    },
    {
     "name": "stdout",
     "output_type": "stream",
     "text": [
      "Model #76\n",
      "Best ROC-AUC: 0.7624\n",
      "Best params: OrderedDict([('colsample_bytree', 0.9019708630001773), ('learning_rate', 0.13537250560801317), ('max_bin', 913), ('max_depth', 2), ('min_child_samples', 49), ('min_data_in_leaf', 100), ('n_estimators', 207), ('num_leaves', 2), ('reg_alpha', 1.0), ('reg_lambda', 1e-09), ('scale_pos_weight', 33)])\n",
      "\n"
     ]
    },
    {
     "data": {
      "application/javascript": [
       "\n",
       "        if (window._pyforest_update_imports_cell) { window._pyforest_update_imports_cell('import numpy as np'); }\n",
       "    "
      ],
      "text/plain": [
       "<IPython.core.display.Javascript object>"
      ]
     },
     "metadata": {},
     "output_type": "display_data"
    },
    {
     "name": "stdout",
     "output_type": "stream",
     "text": [
      "Model #77\n",
      "Best ROC-AUC: 0.7624\n",
      "Best params: OrderedDict([('colsample_bytree', 0.9019708630001773), ('learning_rate', 0.13537250560801317), ('max_bin', 913), ('max_depth', 2), ('min_child_samples', 49), ('min_data_in_leaf', 100), ('n_estimators', 207), ('num_leaves', 2), ('reg_alpha', 1.0), ('reg_lambda', 1e-09), ('scale_pos_weight', 33)])\n",
      "\n"
     ]
    },
    {
     "data": {
      "application/javascript": [
       "\n",
       "        if (window._pyforest_update_imports_cell) { window._pyforest_update_imports_cell('import numpy as np'); }\n",
       "    "
      ],
      "text/plain": [
       "<IPython.core.display.Javascript object>"
      ]
     },
     "metadata": {},
     "output_type": "display_data"
    },
    {
     "name": "stdout",
     "output_type": "stream",
     "text": [
      "Model #78\n",
      "Best ROC-AUC: 0.7624\n",
      "Best params: OrderedDict([('colsample_bytree', 0.9019708630001773), ('learning_rate', 0.13537250560801317), ('max_bin', 913), ('max_depth', 2), ('min_child_samples', 49), ('min_data_in_leaf', 100), ('n_estimators', 207), ('num_leaves', 2), ('reg_alpha', 1.0), ('reg_lambda', 1e-09), ('scale_pos_weight', 33)])\n",
      "\n"
     ]
    },
    {
     "data": {
      "application/javascript": [
       "\n",
       "        if (window._pyforest_update_imports_cell) { window._pyforest_update_imports_cell('import numpy as np'); }\n",
       "    "
      ],
      "text/plain": [
       "<IPython.core.display.Javascript object>"
      ]
     },
     "metadata": {},
     "output_type": "display_data"
    },
    {
     "name": "stdout",
     "output_type": "stream",
     "text": [
      "Model #79\n",
      "Best ROC-AUC: 0.7624\n",
      "Best params: OrderedDict([('colsample_bytree', 0.9019708630001773), ('learning_rate', 0.13537250560801317), ('max_bin', 913), ('max_depth', 2), ('min_child_samples', 49), ('min_data_in_leaf', 100), ('n_estimators', 207), ('num_leaves', 2), ('reg_alpha', 1.0), ('reg_lambda', 1e-09), ('scale_pos_weight', 33)])\n",
      "\n"
     ]
    },
    {
     "data": {
      "application/javascript": [
       "\n",
       "        if (window._pyforest_update_imports_cell) { window._pyforest_update_imports_cell('import numpy as np'); }\n",
       "    "
      ],
      "text/plain": [
       "<IPython.core.display.Javascript object>"
      ]
     },
     "metadata": {},
     "output_type": "display_data"
    },
    {
     "name": "stdout",
     "output_type": "stream",
     "text": [
      "Model #80\n",
      "Best ROC-AUC: 0.7624\n",
      "Best params: OrderedDict([('colsample_bytree', 0.9019708630001773), ('learning_rate', 0.13537250560801317), ('max_bin', 913), ('max_depth', 2), ('min_child_samples', 49), ('min_data_in_leaf', 100), ('n_estimators', 207), ('num_leaves', 2), ('reg_alpha', 1.0), ('reg_lambda', 1e-09), ('scale_pos_weight', 33)])\n",
      "\n"
     ]
    },
    {
     "data": {
      "application/javascript": [
       "\n",
       "        if (window._pyforest_update_imports_cell) { window._pyforest_update_imports_cell('import numpy as np'); }\n",
       "    "
      ],
      "text/plain": [
       "<IPython.core.display.Javascript object>"
      ]
     },
     "metadata": {},
     "output_type": "display_data"
    },
    {
     "name": "stdout",
     "output_type": "stream",
     "text": [
      "Model #81\n",
      "Best ROC-AUC: 0.7624\n",
      "Best params: OrderedDict([('colsample_bytree', 0.9019708630001773), ('learning_rate', 0.13537250560801317), ('max_bin', 913), ('max_depth', 2), ('min_child_samples', 49), ('min_data_in_leaf', 100), ('n_estimators', 207), ('num_leaves', 2), ('reg_alpha', 1.0), ('reg_lambda', 1e-09), ('scale_pos_weight', 33)])\n",
      "\n"
     ]
    },
    {
     "data": {
      "application/javascript": [
       "\n",
       "        if (window._pyforest_update_imports_cell) { window._pyforest_update_imports_cell('import numpy as np'); }\n",
       "    "
      ],
      "text/plain": [
       "<IPython.core.display.Javascript object>"
      ]
     },
     "metadata": {},
     "output_type": "display_data"
    },
    {
     "name": "stdout",
     "output_type": "stream",
     "text": [
      "Model #82\n",
      "Best ROC-AUC: 0.7624\n",
      "Best params: OrderedDict([('colsample_bytree', 0.9019708630001773), ('learning_rate', 0.13537250560801317), ('max_bin', 913), ('max_depth', 2), ('min_child_samples', 49), ('min_data_in_leaf', 100), ('n_estimators', 207), ('num_leaves', 2), ('reg_alpha', 1.0), ('reg_lambda', 1e-09), ('scale_pos_weight', 33)])\n",
      "\n"
     ]
    },
    {
     "data": {
      "application/javascript": [
       "\n",
       "        if (window._pyforest_update_imports_cell) { window._pyforest_update_imports_cell('import numpy as np'); }\n",
       "    "
      ],
      "text/plain": [
       "<IPython.core.display.Javascript object>"
      ]
     },
     "metadata": {},
     "output_type": "display_data"
    },
    {
     "name": "stdout",
     "output_type": "stream",
     "text": [
      "Model #83\n",
      "Best ROC-AUC: 0.7624\n",
      "Best params: OrderedDict([('colsample_bytree', 0.9019708630001773), ('learning_rate', 0.13537250560801317), ('max_bin', 913), ('max_depth', 2), ('min_child_samples', 49), ('min_data_in_leaf', 100), ('n_estimators', 207), ('num_leaves', 2), ('reg_alpha', 1.0), ('reg_lambda', 1e-09), ('scale_pos_weight', 33)])\n",
      "\n"
     ]
    },
    {
     "data": {
      "application/javascript": [
       "\n",
       "        if (window._pyforest_update_imports_cell) { window._pyforest_update_imports_cell('import numpy as np'); }\n",
       "    "
      ],
      "text/plain": [
       "<IPython.core.display.Javascript object>"
      ]
     },
     "metadata": {},
     "output_type": "display_data"
    },
    {
     "name": "stdout",
     "output_type": "stream",
     "text": [
      "Model #84\n",
      "Best ROC-AUC: 0.7624\n",
      "Best params: OrderedDict([('colsample_bytree', 0.9019708630001773), ('learning_rate', 0.13537250560801317), ('max_bin', 913), ('max_depth', 2), ('min_child_samples', 49), ('min_data_in_leaf', 100), ('n_estimators', 207), ('num_leaves', 2), ('reg_alpha', 1.0), ('reg_lambda', 1e-09), ('scale_pos_weight', 33)])\n",
      "\n"
     ]
    },
    {
     "data": {
      "application/javascript": [
       "\n",
       "        if (window._pyforest_update_imports_cell) { window._pyforest_update_imports_cell('import numpy as np'); }\n",
       "    "
      ],
      "text/plain": [
       "<IPython.core.display.Javascript object>"
      ]
     },
     "metadata": {},
     "output_type": "display_data"
    },
    {
     "name": "stdout",
     "output_type": "stream",
     "text": [
      "Model #85\n",
      "Best ROC-AUC: 0.7624\n",
      "Best params: OrderedDict([('colsample_bytree', 0.9019708630001773), ('learning_rate', 0.13537250560801317), ('max_bin', 913), ('max_depth', 2), ('min_child_samples', 49), ('min_data_in_leaf', 100), ('n_estimators', 207), ('num_leaves', 2), ('reg_alpha', 1.0), ('reg_lambda', 1e-09), ('scale_pos_weight', 33)])\n",
      "\n"
     ]
    },
    {
     "data": {
      "application/javascript": [
       "\n",
       "        if (window._pyforest_update_imports_cell) { window._pyforest_update_imports_cell('import numpy as np'); }\n",
       "    "
      ],
      "text/plain": [
       "<IPython.core.display.Javascript object>"
      ]
     },
     "metadata": {},
     "output_type": "display_data"
    },
    {
     "name": "stdout",
     "output_type": "stream",
     "text": [
      "Model #86\n",
      "Best ROC-AUC: 0.7624\n",
      "Best params: OrderedDict([('colsample_bytree', 0.9019708630001773), ('learning_rate', 0.13537250560801317), ('max_bin', 913), ('max_depth', 2), ('min_child_samples', 49), ('min_data_in_leaf', 100), ('n_estimators', 207), ('num_leaves', 2), ('reg_alpha', 1.0), ('reg_lambda', 1e-09), ('scale_pos_weight', 33)])\n",
      "\n"
     ]
    },
    {
     "data": {
      "application/javascript": [
       "\n",
       "        if (window._pyforest_update_imports_cell) { window._pyforest_update_imports_cell('import numpy as np'); }\n",
       "    "
      ],
      "text/plain": [
       "<IPython.core.display.Javascript object>"
      ]
     },
     "metadata": {},
     "output_type": "display_data"
    },
    {
     "name": "stdout",
     "output_type": "stream",
     "text": [
      "Model #87\n",
      "Best ROC-AUC: 0.7624\n",
      "Best params: OrderedDict([('colsample_bytree', 0.9019708630001773), ('learning_rate', 0.13537250560801317), ('max_bin', 913), ('max_depth', 2), ('min_child_samples', 49), ('min_data_in_leaf', 100), ('n_estimators', 207), ('num_leaves', 2), ('reg_alpha', 1.0), ('reg_lambda', 1e-09), ('scale_pos_weight', 33)])\n",
      "\n"
     ]
    },
    {
     "data": {
      "application/javascript": [
       "\n",
       "        if (window._pyforest_update_imports_cell) { window._pyforest_update_imports_cell('import numpy as np'); }\n",
       "    "
      ],
      "text/plain": [
       "<IPython.core.display.Javascript object>"
      ]
     },
     "metadata": {},
     "output_type": "display_data"
    },
    {
     "name": "stdout",
     "output_type": "stream",
     "text": [
      "Model #88\n",
      "Best ROC-AUC: 0.7624\n",
      "Best params: OrderedDict([('colsample_bytree', 0.9019708630001773), ('learning_rate', 0.13537250560801317), ('max_bin', 913), ('max_depth', 2), ('min_child_samples', 49), ('min_data_in_leaf', 100), ('n_estimators', 207), ('num_leaves', 2), ('reg_alpha', 1.0), ('reg_lambda', 1e-09), ('scale_pos_weight', 33)])\n",
      "\n"
     ]
    },
    {
     "data": {
      "application/javascript": [
       "\n",
       "        if (window._pyforest_update_imports_cell) { window._pyforest_update_imports_cell('import numpy as np'); }\n",
       "    "
      ],
      "text/plain": [
       "<IPython.core.display.Javascript object>"
      ]
     },
     "metadata": {},
     "output_type": "display_data"
    },
    {
     "name": "stdout",
     "output_type": "stream",
     "text": [
      "Model #89\n",
      "Best ROC-AUC: 0.7624\n",
      "Best params: OrderedDict([('colsample_bytree', 0.9019708630001773), ('learning_rate', 0.13537250560801317), ('max_bin', 913), ('max_depth', 2), ('min_child_samples', 49), ('min_data_in_leaf', 100), ('n_estimators', 207), ('num_leaves', 2), ('reg_alpha', 1.0), ('reg_lambda', 1e-09), ('scale_pos_weight', 33)])\n",
      "\n"
     ]
    },
    {
     "data": {
      "application/javascript": [
       "\n",
       "        if (window._pyforest_update_imports_cell) { window._pyforest_update_imports_cell('import numpy as np'); }\n",
       "    "
      ],
      "text/plain": [
       "<IPython.core.display.Javascript object>"
      ]
     },
     "metadata": {},
     "output_type": "display_data"
    },
    {
     "name": "stdout",
     "output_type": "stream",
     "text": [
      "Model #90\n",
      "Best ROC-AUC: 0.7624\n",
      "Best params: OrderedDict([('colsample_bytree', 0.9019708630001773), ('learning_rate', 0.13537250560801317), ('max_bin', 913), ('max_depth', 2), ('min_child_samples', 49), ('min_data_in_leaf', 100), ('n_estimators', 207), ('num_leaves', 2), ('reg_alpha', 1.0), ('reg_lambda', 1e-09), ('scale_pos_weight', 33)])\n",
      "\n"
     ]
    },
    {
     "data": {
      "application/javascript": [
       "\n",
       "        if (window._pyforest_update_imports_cell) { window._pyforest_update_imports_cell('import numpy as np'); }\n",
       "    "
      ],
      "text/plain": [
       "<IPython.core.display.Javascript object>"
      ]
     },
     "metadata": {},
     "output_type": "display_data"
    },
    {
     "name": "stdout",
     "output_type": "stream",
     "text": [
      "Model #91\n",
      "Best ROC-AUC: 0.7624\n",
      "Best params: OrderedDict([('colsample_bytree', 0.9019708630001773), ('learning_rate', 0.13537250560801317), ('max_bin', 913), ('max_depth', 2), ('min_child_samples', 49), ('min_data_in_leaf', 100), ('n_estimators', 207), ('num_leaves', 2), ('reg_alpha', 1.0), ('reg_lambda', 1e-09), ('scale_pos_weight', 33)])\n",
      "\n"
     ]
    },
    {
     "data": {
      "application/javascript": [
       "\n",
       "        if (window._pyforest_update_imports_cell) { window._pyforest_update_imports_cell('import numpy as np'); }\n",
       "    "
      ],
      "text/plain": [
       "<IPython.core.display.Javascript object>"
      ]
     },
     "metadata": {},
     "output_type": "display_data"
    },
    {
     "name": "stdout",
     "output_type": "stream",
     "text": [
      "Model #92\n",
      "Best ROC-AUC: 0.7624\n",
      "Best params: OrderedDict([('colsample_bytree', 0.9019708630001773), ('learning_rate', 0.13537250560801317), ('max_bin', 913), ('max_depth', 2), ('min_child_samples', 49), ('min_data_in_leaf', 100), ('n_estimators', 207), ('num_leaves', 2), ('reg_alpha', 1.0), ('reg_lambda', 1e-09), ('scale_pos_weight', 33)])\n",
      "\n"
     ]
    },
    {
     "data": {
      "application/javascript": [
       "\n",
       "        if (window._pyforest_update_imports_cell) { window._pyforest_update_imports_cell('import numpy as np'); }\n",
       "    "
      ],
      "text/plain": [
       "<IPython.core.display.Javascript object>"
      ]
     },
     "metadata": {},
     "output_type": "display_data"
    },
    {
     "name": "stdout",
     "output_type": "stream",
     "text": [
      "Model #93\n",
      "Best ROC-AUC: 0.7624\n",
      "Best params: OrderedDict([('colsample_bytree', 0.9019708630001773), ('learning_rate', 0.13537250560801317), ('max_bin', 913), ('max_depth', 2), ('min_child_samples', 49), ('min_data_in_leaf', 100), ('n_estimators', 207), ('num_leaves', 2), ('reg_alpha', 1.0), ('reg_lambda', 1e-09), ('scale_pos_weight', 33)])\n",
      "\n"
     ]
    },
    {
     "data": {
      "application/javascript": [
       "\n",
       "        if (window._pyforest_update_imports_cell) { window._pyforest_update_imports_cell('import numpy as np'); }\n",
       "    "
      ],
      "text/plain": [
       "<IPython.core.display.Javascript object>"
      ]
     },
     "metadata": {},
     "output_type": "display_data"
    },
    {
     "name": "stdout",
     "output_type": "stream",
     "text": [
      "Model #94\n",
      "Best ROC-AUC: 0.7624\n",
      "Best params: OrderedDict([('colsample_bytree', 0.9019708630001773), ('learning_rate', 0.13537250560801317), ('max_bin', 913), ('max_depth', 2), ('min_child_samples', 49), ('min_data_in_leaf', 100), ('n_estimators', 207), ('num_leaves', 2), ('reg_alpha', 1.0), ('reg_lambda', 1e-09), ('scale_pos_weight', 33)])\n",
      "\n"
     ]
    },
    {
     "data": {
      "application/javascript": [
       "\n",
       "        if (window._pyforest_update_imports_cell) { window._pyforest_update_imports_cell('import numpy as np'); }\n",
       "    "
      ],
      "text/plain": [
       "<IPython.core.display.Javascript object>"
      ]
     },
     "metadata": {},
     "output_type": "display_data"
    },
    {
     "name": "stdout",
     "output_type": "stream",
     "text": [
      "Model #95\n",
      "Best ROC-AUC: 0.7624\n",
      "Best params: OrderedDict([('colsample_bytree', 0.9019708630001773), ('learning_rate', 0.13537250560801317), ('max_bin', 913), ('max_depth', 2), ('min_child_samples', 49), ('min_data_in_leaf', 100), ('n_estimators', 207), ('num_leaves', 2), ('reg_alpha', 1.0), ('reg_lambda', 1e-09), ('scale_pos_weight', 33)])\n",
      "\n"
     ]
    },
    {
     "data": {
      "application/javascript": [
       "\n",
       "        if (window._pyforest_update_imports_cell) { window._pyforest_update_imports_cell('import numpy as np'); }\n",
       "    "
      ],
      "text/plain": [
       "<IPython.core.display.Javascript object>"
      ]
     },
     "metadata": {},
     "output_type": "display_data"
    },
    {
     "name": "stdout",
     "output_type": "stream",
     "text": [
      "Model #96\n",
      "Best ROC-AUC: 0.7624\n",
      "Best params: OrderedDict([('colsample_bytree', 0.9019708630001773), ('learning_rate', 0.13537250560801317), ('max_bin', 913), ('max_depth', 2), ('min_child_samples', 49), ('min_data_in_leaf', 100), ('n_estimators', 207), ('num_leaves', 2), ('reg_alpha', 1.0), ('reg_lambda', 1e-09), ('scale_pos_weight', 33)])\n",
      "\n"
     ]
    },
    {
     "data": {
      "application/javascript": [
       "\n",
       "        if (window._pyforest_update_imports_cell) { window._pyforest_update_imports_cell('import numpy as np'); }\n",
       "    "
      ],
      "text/plain": [
       "<IPython.core.display.Javascript object>"
      ]
     },
     "metadata": {},
     "output_type": "display_data"
    },
    {
     "name": "stdout",
     "output_type": "stream",
     "text": [
      "Model #97\n",
      "Best ROC-AUC: 0.7624\n",
      "Best params: OrderedDict([('colsample_bytree', 0.9019708630001773), ('learning_rate', 0.13537250560801317), ('max_bin', 913), ('max_depth', 2), ('min_child_samples', 49), ('min_data_in_leaf', 100), ('n_estimators', 207), ('num_leaves', 2), ('reg_alpha', 1.0), ('reg_lambda', 1e-09), ('scale_pos_weight', 33)])\n",
      "\n"
     ]
    },
    {
     "data": {
      "application/javascript": [
       "\n",
       "        if (window._pyforest_update_imports_cell) { window._pyforest_update_imports_cell('import numpy as np'); }\n",
       "    "
      ],
      "text/plain": [
       "<IPython.core.display.Javascript object>"
      ]
     },
     "metadata": {},
     "output_type": "display_data"
    },
    {
     "name": "stdout",
     "output_type": "stream",
     "text": [
      "Model #98\n",
      "Best ROC-AUC: 0.7624\n",
      "Best params: OrderedDict([('colsample_bytree', 0.9019708630001773), ('learning_rate', 0.13537250560801317), ('max_bin', 913), ('max_depth', 2), ('min_child_samples', 49), ('min_data_in_leaf', 100), ('n_estimators', 207), ('num_leaves', 2), ('reg_alpha', 1.0), ('reg_lambda', 1e-09), ('scale_pos_weight', 33)])\n",
      "\n"
     ]
    },
    {
     "data": {
      "application/javascript": [
       "\n",
       "        if (window._pyforest_update_imports_cell) { window._pyforest_update_imports_cell('import numpy as np'); }\n",
       "    "
      ],
      "text/plain": [
       "<IPython.core.display.Javascript object>"
      ]
     },
     "metadata": {},
     "output_type": "display_data"
    },
    {
     "name": "stdout",
     "output_type": "stream",
     "text": [
      "Model #99\n",
      "Best ROC-AUC: 0.7624\n",
      "Best params: OrderedDict([('colsample_bytree', 0.9019708630001773), ('learning_rate', 0.13537250560801317), ('max_bin', 913), ('max_depth', 2), ('min_child_samples', 49), ('min_data_in_leaf', 100), ('n_estimators', 207), ('num_leaves', 2), ('reg_alpha', 1.0), ('reg_lambda', 1e-09), ('scale_pos_weight', 33)])\n",
      "\n"
     ]
    },
    {
     "data": {
      "application/javascript": [
       "\n",
       "        if (window._pyforest_update_imports_cell) { window._pyforest_update_imports_cell('import numpy as np'); }\n",
       "    "
      ],
      "text/plain": [
       "<IPython.core.display.Javascript object>"
      ]
     },
     "metadata": {},
     "output_type": "display_data"
    },
    {
     "name": "stdout",
     "output_type": "stream",
     "text": [
      "Model #100\n",
      "Best ROC-AUC: 0.7624\n",
      "Best params: OrderedDict([('colsample_bytree', 0.9019708630001773), ('learning_rate', 0.13537250560801317), ('max_bin', 913), ('max_depth', 2), ('min_child_samples', 49), ('min_data_in_leaf', 100), ('n_estimators', 207), ('num_leaves', 2), ('reg_alpha', 1.0), ('reg_lambda', 1e-09), ('scale_pos_weight', 33)])\n",
      "\n"
     ]
    },
    {
     "data": {
      "application/javascript": [
       "\n",
       "        if (window._pyforest_update_imports_cell) { window._pyforest_update_imports_cell('import numpy as np'); }\n",
       "    "
      ],
      "text/plain": [
       "<IPython.core.display.Javascript object>"
      ]
     },
     "metadata": {},
     "output_type": "display_data"
    },
    {
     "name": "stdout",
     "output_type": "stream",
     "text": [
      "Model #101\n",
      "Best ROC-AUC: 0.7624\n",
      "Best params: OrderedDict([('colsample_bytree', 0.9019708630001773), ('learning_rate', 0.13537250560801317), ('max_bin', 913), ('max_depth', 2), ('min_child_samples', 49), ('min_data_in_leaf', 100), ('n_estimators', 207), ('num_leaves', 2), ('reg_alpha', 1.0), ('reg_lambda', 1e-09), ('scale_pos_weight', 33)])\n",
      "\n"
     ]
    },
    {
     "data": {
      "application/javascript": [
       "\n",
       "        if (window._pyforest_update_imports_cell) { window._pyforest_update_imports_cell('import numpy as np'); }\n",
       "    "
      ],
      "text/plain": [
       "<IPython.core.display.Javascript object>"
      ]
     },
     "metadata": {},
     "output_type": "display_data"
    },
    {
     "name": "stdout",
     "output_type": "stream",
     "text": [
      "Model #102\n",
      "Best ROC-AUC: 0.7624\n",
      "Best params: OrderedDict([('colsample_bytree', 0.9019708630001773), ('learning_rate', 0.13537250560801317), ('max_bin', 913), ('max_depth', 2), ('min_child_samples', 49), ('min_data_in_leaf', 100), ('n_estimators', 207), ('num_leaves', 2), ('reg_alpha', 1.0), ('reg_lambda', 1e-09), ('scale_pos_weight', 33)])\n",
      "\n"
     ]
    },
    {
     "data": {
      "application/javascript": [
       "\n",
       "        if (window._pyforest_update_imports_cell) { window._pyforest_update_imports_cell('import numpy as np'); }\n",
       "    "
      ],
      "text/plain": [
       "<IPython.core.display.Javascript object>"
      ]
     },
     "metadata": {},
     "output_type": "display_data"
    },
    {
     "name": "stdout",
     "output_type": "stream",
     "text": [
      "Model #103\n",
      "Best ROC-AUC: 0.7626\n",
      "Best params: OrderedDict([('colsample_bytree', 1.0), ('learning_rate', 0.11177404317045364), ('max_bin', 1000), ('max_depth', 2), ('min_child_samples', 50), ('min_data_in_leaf', 20), ('n_estimators', 20), ('num_leaves', 103), ('reg_alpha', 0.00025070342961867073), ('reg_lambda', 1e-09), ('scale_pos_weight', 27)])\n",
      "\n"
     ]
    },
    {
     "data": {
      "application/javascript": [
       "\n",
       "        if (window._pyforest_update_imports_cell) { window._pyforest_update_imports_cell('import numpy as np'); }\n",
       "    "
      ],
      "text/plain": [
       "<IPython.core.display.Javascript object>"
      ]
     },
     "metadata": {},
     "output_type": "display_data"
    },
    {
     "name": "stdout",
     "output_type": "stream",
     "text": [
      "Model #104\n",
      "Best ROC-AUC: 0.7626\n",
      "Best params: OrderedDict([('colsample_bytree', 1.0), ('learning_rate', 0.11177404317045364), ('max_bin', 1000), ('max_depth', 2), ('min_child_samples', 50), ('min_data_in_leaf', 20), ('n_estimators', 20), ('num_leaves', 103), ('reg_alpha', 0.00025070342961867073), ('reg_lambda', 1e-09), ('scale_pos_weight', 27)])\n",
      "\n"
     ]
    },
    {
     "data": {
      "application/javascript": [
       "\n",
       "        if (window._pyforest_update_imports_cell) { window._pyforest_update_imports_cell('import numpy as np'); }\n",
       "    "
      ],
      "text/plain": [
       "<IPython.core.display.Javascript object>"
      ]
     },
     "metadata": {},
     "output_type": "display_data"
    },
    {
     "name": "stdout",
     "output_type": "stream",
     "text": [
      "Model #105\n",
      "Best ROC-AUC: 0.7626\n",
      "Best params: OrderedDict([('colsample_bytree', 1.0), ('learning_rate', 0.11177404317045364), ('max_bin', 1000), ('max_depth', 2), ('min_child_samples', 50), ('min_data_in_leaf', 20), ('n_estimators', 20), ('num_leaves', 103), ('reg_alpha', 0.00025070342961867073), ('reg_lambda', 1e-09), ('scale_pos_weight', 27)])\n",
      "\n"
     ]
    },
    {
     "data": {
      "application/javascript": [
       "\n",
       "        if (window._pyforest_update_imports_cell) { window._pyforest_update_imports_cell('import numpy as np'); }\n",
       "    "
      ],
      "text/plain": [
       "<IPython.core.display.Javascript object>"
      ]
     },
     "metadata": {},
     "output_type": "display_data"
    },
    {
     "name": "stdout",
     "output_type": "stream",
     "text": [
      "Model #106\n",
      "Best ROC-AUC: 0.7626\n",
      "Best params: OrderedDict([('colsample_bytree', 1.0), ('learning_rate', 0.11177404317045364), ('max_bin', 1000), ('max_depth', 2), ('min_child_samples', 50), ('min_data_in_leaf', 20), ('n_estimators', 20), ('num_leaves', 103), ('reg_alpha', 0.00025070342961867073), ('reg_lambda', 1e-09), ('scale_pos_weight', 27)])\n",
      "\n"
     ]
    },
    {
     "data": {
      "application/javascript": [
       "\n",
       "        if (window._pyforest_update_imports_cell) { window._pyforest_update_imports_cell('import numpy as np'); }\n",
       "    "
      ],
      "text/plain": [
       "<IPython.core.display.Javascript object>"
      ]
     },
     "metadata": {},
     "output_type": "display_data"
    },
    {
     "name": "stdout",
     "output_type": "stream",
     "text": [
      "Model #107\n",
      "Best ROC-AUC: 0.7626\n",
      "Best params: OrderedDict([('colsample_bytree', 1.0), ('learning_rate', 0.11177404317045364), ('max_bin', 1000), ('max_depth', 2), ('min_child_samples', 50), ('min_data_in_leaf', 20), ('n_estimators', 20), ('num_leaves', 103), ('reg_alpha', 0.00025070342961867073), ('reg_lambda', 1e-09), ('scale_pos_weight', 27)])\n",
      "\n"
     ]
    },
    {
     "data": {
      "application/javascript": [
       "\n",
       "        if (window._pyforest_update_imports_cell) { window._pyforest_update_imports_cell('import numpy as np'); }\n",
       "    "
      ],
      "text/plain": [
       "<IPython.core.display.Javascript object>"
      ]
     },
     "metadata": {},
     "output_type": "display_data"
    },
    {
     "name": "stdout",
     "output_type": "stream",
     "text": [
      "Model #108\n",
      "Best ROC-AUC: 0.7626\n",
      "Best params: OrderedDict([('colsample_bytree', 1.0), ('learning_rate', 0.11177404317045364), ('max_bin', 1000), ('max_depth', 2), ('min_child_samples', 50), ('min_data_in_leaf', 20), ('n_estimators', 20), ('num_leaves', 103), ('reg_alpha', 0.00025070342961867073), ('reg_lambda', 1e-09), ('scale_pos_weight', 27)])\n",
      "\n"
     ]
    },
    {
     "data": {
      "application/javascript": [
       "\n",
       "        if (window._pyforest_update_imports_cell) { window._pyforest_update_imports_cell('import numpy as np'); }\n",
       "    "
      ],
      "text/plain": [
       "<IPython.core.display.Javascript object>"
      ]
     },
     "metadata": {},
     "output_type": "display_data"
    },
    {
     "name": "stdout",
     "output_type": "stream",
     "text": [
      "Model #109\n",
      "Best ROC-AUC: 0.7626\n",
      "Best params: OrderedDict([('colsample_bytree', 1.0), ('learning_rate', 0.11177404317045364), ('max_bin', 1000), ('max_depth', 2), ('min_child_samples', 50), ('min_data_in_leaf', 20), ('n_estimators', 20), ('num_leaves', 103), ('reg_alpha', 0.00025070342961867073), ('reg_lambda', 1e-09), ('scale_pos_weight', 27)])\n",
      "\n"
     ]
    },
    {
     "data": {
      "application/javascript": [
       "\n",
       "        if (window._pyforest_update_imports_cell) { window._pyforest_update_imports_cell('import numpy as np'); }\n",
       "    "
      ],
      "text/plain": [
       "<IPython.core.display.Javascript object>"
      ]
     },
     "metadata": {},
     "output_type": "display_data"
    },
    {
     "name": "stdout",
     "output_type": "stream",
     "text": [
      "Model #110\n",
      "Best ROC-AUC: 0.7626\n",
      "Best params: OrderedDict([('colsample_bytree', 1.0), ('learning_rate', 0.11177404317045364), ('max_bin', 1000), ('max_depth', 2), ('min_child_samples', 50), ('min_data_in_leaf', 20), ('n_estimators', 20), ('num_leaves', 103), ('reg_alpha', 0.00025070342961867073), ('reg_lambda', 1e-09), ('scale_pos_weight', 27)])\n",
      "\n"
     ]
    },
    {
     "data": {
      "application/javascript": [
       "\n",
       "        if (window._pyforest_update_imports_cell) { window._pyforest_update_imports_cell('import numpy as np'); }\n",
       "    "
      ],
      "text/plain": [
       "<IPython.core.display.Javascript object>"
      ]
     },
     "metadata": {},
     "output_type": "display_data"
    },
    {
     "name": "stdout",
     "output_type": "stream",
     "text": [
      "Model #111\n",
      "Best ROC-AUC: 0.7637\n",
      "Best params: OrderedDict([('colsample_bytree', 1.0), ('learning_rate', 0.10226352142300527), ('max_bin', 1000), ('max_depth', 2), ('min_child_samples', 47), ('min_data_in_leaf', 20), ('n_estimators', 20), ('num_leaves', 160), ('reg_alpha', 0.00025490482779691486), ('reg_lambda', 1.0), ('scale_pos_weight', 36)])\n",
      "\n"
     ]
    },
    {
     "data": {
      "application/javascript": [
       "\n",
       "        if (window._pyforest_update_imports_cell) { window._pyforest_update_imports_cell('import numpy as np'); }\n",
       "    "
      ],
      "text/plain": [
       "<IPython.core.display.Javascript object>"
      ]
     },
     "metadata": {},
     "output_type": "display_data"
    },
    {
     "name": "stdout",
     "output_type": "stream",
     "text": [
      "Model #112\n",
      "Best ROC-AUC: 0.7646\n",
      "Best params: OrderedDict([('colsample_bytree', 0.9684163811365366), ('learning_rate', 0.08322887926922597), ('max_bin', 520), ('max_depth', 2), ('min_child_samples', 0), ('min_data_in_leaf', 20), ('n_estimators', 20), ('num_leaves', 193), ('reg_alpha', 2.4022832521641505e-09), ('reg_lambda', 0.0001233498339860202), ('scale_pos_weight', 50)])\n",
      "\n"
     ]
    },
    {
     "data": {
      "application/javascript": [
       "\n",
       "        if (window._pyforest_update_imports_cell) { window._pyforest_update_imports_cell('import numpy as np'); }\n",
       "    "
      ],
      "text/plain": [
       "<IPython.core.display.Javascript object>"
      ]
     },
     "metadata": {},
     "output_type": "display_data"
    },
    {
     "name": "stdout",
     "output_type": "stream",
     "text": [
      "Model #113\n",
      "Best ROC-AUC: 0.7646\n",
      "Best params: OrderedDict([('colsample_bytree', 0.9684163811365366), ('learning_rate', 0.08322887926922597), ('max_bin', 520), ('max_depth', 2), ('min_child_samples', 0), ('min_data_in_leaf', 20), ('n_estimators', 20), ('num_leaves', 193), ('reg_alpha', 2.4022832521641505e-09), ('reg_lambda', 0.0001233498339860202), ('scale_pos_weight', 50)])\n",
      "\n"
     ]
    },
    {
     "data": {
      "application/javascript": [
       "\n",
       "        if (window._pyforest_update_imports_cell) { window._pyforest_update_imports_cell('import numpy as np'); }\n",
       "    "
      ],
      "text/plain": [
       "<IPython.core.display.Javascript object>"
      ]
     },
     "metadata": {},
     "output_type": "display_data"
    },
    {
     "name": "stdout",
     "output_type": "stream",
     "text": [
      "Model #114\n",
      "Best ROC-AUC: 0.7646\n",
      "Best params: OrderedDict([('colsample_bytree', 0.9684163811365366), ('learning_rate', 0.08322887926922597), ('max_bin', 520), ('max_depth', 2), ('min_child_samples', 0), ('min_data_in_leaf', 20), ('n_estimators', 20), ('num_leaves', 193), ('reg_alpha', 2.4022832521641505e-09), ('reg_lambda', 0.0001233498339860202), ('scale_pos_weight', 50)])\n",
      "\n"
     ]
    },
    {
     "data": {
      "application/javascript": [
       "\n",
       "        if (window._pyforest_update_imports_cell) { window._pyforest_update_imports_cell('import numpy as np'); }\n",
       "    "
      ],
      "text/plain": [
       "<IPython.core.display.Javascript object>"
      ]
     },
     "metadata": {},
     "output_type": "display_data"
    },
    {
     "name": "stdout",
     "output_type": "stream",
     "text": [
      "Model #115\n",
      "Best ROC-AUC: 0.7646\n",
      "Best params: OrderedDict([('colsample_bytree', 0.9684163811365366), ('learning_rate', 0.08322887926922597), ('max_bin', 520), ('max_depth', 2), ('min_child_samples', 0), ('min_data_in_leaf', 20), ('n_estimators', 20), ('num_leaves', 193), ('reg_alpha', 2.4022832521641505e-09), ('reg_lambda', 0.0001233498339860202), ('scale_pos_weight', 50)])\n",
      "\n"
     ]
    },
    {
     "data": {
      "application/javascript": [
       "\n",
       "        if (window._pyforest_update_imports_cell) { window._pyforest_update_imports_cell('import numpy as np'); }\n",
       "    "
      ],
      "text/plain": [
       "<IPython.core.display.Javascript object>"
      ]
     },
     "metadata": {},
     "output_type": "display_data"
    },
    {
     "name": "stdout",
     "output_type": "stream",
     "text": [
      "Model #116\n",
      "Best ROC-AUC: 0.7646\n",
      "Best params: OrderedDict([('colsample_bytree', 0.9684163811365366), ('learning_rate', 0.08322887926922597), ('max_bin', 520), ('max_depth', 2), ('min_child_samples', 0), ('min_data_in_leaf', 20), ('n_estimators', 20), ('num_leaves', 193), ('reg_alpha', 2.4022832521641505e-09), ('reg_lambda', 0.0001233498339860202), ('scale_pos_weight', 50)])\n",
      "\n"
     ]
    },
    {
     "data": {
      "application/javascript": [
       "\n",
       "        if (window._pyforest_update_imports_cell) { window._pyforest_update_imports_cell('import numpy as np'); }\n",
       "    "
      ],
      "text/plain": [
       "<IPython.core.display.Javascript object>"
      ]
     },
     "metadata": {},
     "output_type": "display_data"
    },
    {
     "name": "stdout",
     "output_type": "stream",
     "text": [
      "Model #117\n",
      "Best ROC-AUC: 0.7646\n",
      "Best params: OrderedDict([('colsample_bytree', 0.9684163811365366), ('learning_rate', 0.08322887926922597), ('max_bin', 520), ('max_depth', 2), ('min_child_samples', 0), ('min_data_in_leaf', 20), ('n_estimators', 20), ('num_leaves', 193), ('reg_alpha', 2.4022832521641505e-09), ('reg_lambda', 0.0001233498339860202), ('scale_pos_weight', 50)])\n",
      "\n"
     ]
    },
    {
     "data": {
      "application/javascript": [
       "\n",
       "        if (window._pyforest_update_imports_cell) { window._pyforest_update_imports_cell('import numpy as np'); }\n",
       "    "
      ],
      "text/plain": [
       "<IPython.core.display.Javascript object>"
      ]
     },
     "metadata": {},
     "output_type": "display_data"
    },
    {
     "name": "stdout",
     "output_type": "stream",
     "text": [
      "Model #118\n",
      "Best ROC-AUC: 0.7646\n",
      "Best params: OrderedDict([('colsample_bytree', 0.9684163811365366), ('learning_rate', 0.08322887926922597), ('max_bin', 520), ('max_depth', 2), ('min_child_samples', 0), ('min_data_in_leaf', 20), ('n_estimators', 20), ('num_leaves', 193), ('reg_alpha', 2.4022832521641505e-09), ('reg_lambda', 0.0001233498339860202), ('scale_pos_weight', 50)])\n",
      "\n"
     ]
    },
    {
     "data": {
      "application/javascript": [
       "\n",
       "        if (window._pyforest_update_imports_cell) { window._pyforest_update_imports_cell('import numpy as np'); }\n",
       "    "
      ],
      "text/plain": [
       "<IPython.core.display.Javascript object>"
      ]
     },
     "metadata": {},
     "output_type": "display_data"
    },
    {
     "name": "stdout",
     "output_type": "stream",
     "text": [
      "Model #119\n",
      "Best ROC-AUC: 0.7646\n",
      "Best params: OrderedDict([('colsample_bytree', 0.9684163811365366), ('learning_rate', 0.08322887926922597), ('max_bin', 520), ('max_depth', 2), ('min_child_samples', 0), ('min_data_in_leaf', 20), ('n_estimators', 20), ('num_leaves', 193), ('reg_alpha', 2.4022832521641505e-09), ('reg_lambda', 0.0001233498339860202), ('scale_pos_weight', 50)])\n",
      "\n"
     ]
    },
    {
     "data": {
      "application/javascript": [
       "\n",
       "        if (window._pyforest_update_imports_cell) { window._pyforest_update_imports_cell('import numpy as np'); }\n",
       "    "
      ],
      "text/plain": [
       "<IPython.core.display.Javascript object>"
      ]
     },
     "metadata": {},
     "output_type": "display_data"
    },
    {
     "name": "stdout",
     "output_type": "stream",
     "text": [
      "Model #120\n",
      "Best ROC-AUC: 0.7646\n",
      "Best params: OrderedDict([('colsample_bytree', 0.9684163811365366), ('learning_rate', 0.08322887926922597), ('max_bin', 520), ('max_depth', 2), ('min_child_samples', 0), ('min_data_in_leaf', 20), ('n_estimators', 20), ('num_leaves', 193), ('reg_alpha', 2.4022832521641505e-09), ('reg_lambda', 0.0001233498339860202), ('scale_pos_weight', 50)])\n",
      "\n"
     ]
    },
    {
     "data": {
      "application/javascript": [
       "\n",
       "        if (window._pyforest_update_imports_cell) { window._pyforest_update_imports_cell('import numpy as np'); }\n",
       "    "
      ],
      "text/plain": [
       "<IPython.core.display.Javascript object>"
      ]
     },
     "metadata": {},
     "output_type": "display_data"
    },
    {
     "name": "stdout",
     "output_type": "stream",
     "text": [
      "Model #121\n",
      "Best ROC-AUC: 0.7646\n",
      "Best params: OrderedDict([('colsample_bytree', 0.9684163811365366), ('learning_rate', 0.08322887926922597), ('max_bin', 520), ('max_depth', 2), ('min_child_samples', 0), ('min_data_in_leaf', 20), ('n_estimators', 20), ('num_leaves', 193), ('reg_alpha', 2.4022832521641505e-09), ('reg_lambda', 0.0001233498339860202), ('scale_pos_weight', 50)])\n",
      "\n"
     ]
    },
    {
     "data": {
      "application/javascript": [
       "\n",
       "        if (window._pyforest_update_imports_cell) { window._pyforest_update_imports_cell('import numpy as np'); }\n",
       "    "
      ],
      "text/plain": [
       "<IPython.core.display.Javascript object>"
      ]
     },
     "metadata": {},
     "output_type": "display_data"
    },
    {
     "name": "stdout",
     "output_type": "stream",
     "text": [
      "Model #122\n",
      "Best ROC-AUC: 0.7646\n",
      "Best params: OrderedDict([('colsample_bytree', 0.9684163811365366), ('learning_rate', 0.08322887926922597), ('max_bin', 520), ('max_depth', 2), ('min_child_samples', 0), ('min_data_in_leaf', 20), ('n_estimators', 20), ('num_leaves', 193), ('reg_alpha', 2.4022832521641505e-09), ('reg_lambda', 0.0001233498339860202), ('scale_pos_weight', 50)])\n",
      "\n"
     ]
    },
    {
     "data": {
      "application/javascript": [
       "\n",
       "        if (window._pyforest_update_imports_cell) { window._pyforest_update_imports_cell('import numpy as np'); }\n",
       "    "
      ],
      "text/plain": [
       "<IPython.core.display.Javascript object>"
      ]
     },
     "metadata": {},
     "output_type": "display_data"
    },
    {
     "name": "stdout",
     "output_type": "stream",
     "text": [
      "Model #123\n",
      "Best ROC-AUC: 0.7646\n",
      "Best params: OrderedDict([('colsample_bytree', 0.9684163811365366), ('learning_rate', 0.08322887926922597), ('max_bin', 520), ('max_depth', 2), ('min_child_samples', 0), ('min_data_in_leaf', 20), ('n_estimators', 20), ('num_leaves', 193), ('reg_alpha', 2.4022832521641505e-09), ('reg_lambda', 0.0001233498339860202), ('scale_pos_weight', 50)])\n",
      "\n"
     ]
    },
    {
     "data": {
      "application/javascript": [
       "\n",
       "        if (window._pyforest_update_imports_cell) { window._pyforest_update_imports_cell('import numpy as np'); }\n",
       "    "
      ],
      "text/plain": [
       "<IPython.core.display.Javascript object>"
      ]
     },
     "metadata": {},
     "output_type": "display_data"
    },
    {
     "name": "stdout",
     "output_type": "stream",
     "text": [
      "Model #124\n",
      "Best ROC-AUC: 0.7646\n",
      "Best params: OrderedDict([('colsample_bytree', 0.9684163811365366), ('learning_rate', 0.08322887926922597), ('max_bin', 520), ('max_depth', 2), ('min_child_samples', 0), ('min_data_in_leaf', 20), ('n_estimators', 20), ('num_leaves', 193), ('reg_alpha', 2.4022832521641505e-09), ('reg_lambda', 0.0001233498339860202), ('scale_pos_weight', 50)])\n",
      "\n"
     ]
    },
    {
     "data": {
      "application/javascript": [
       "\n",
       "        if (window._pyforest_update_imports_cell) { window._pyforest_update_imports_cell('import numpy as np'); }\n",
       "    "
      ],
      "text/plain": [
       "<IPython.core.display.Javascript object>"
      ]
     },
     "metadata": {},
     "output_type": "display_data"
    },
    {
     "name": "stdout",
     "output_type": "stream",
     "text": [
      "Model #125\n",
      "Best ROC-AUC: 0.7646\n",
      "Best params: OrderedDict([('colsample_bytree', 0.9684163811365366), ('learning_rate', 0.08322887926922597), ('max_bin', 520), ('max_depth', 2), ('min_child_samples', 0), ('min_data_in_leaf', 20), ('n_estimators', 20), ('num_leaves', 193), ('reg_alpha', 2.4022832521641505e-09), ('reg_lambda', 0.0001233498339860202), ('scale_pos_weight', 50)])\n",
      "\n"
     ]
    },
    {
     "data": {
      "application/javascript": [
       "\n",
       "        if (window._pyforest_update_imports_cell) { window._pyforest_update_imports_cell('import numpy as np'); }\n",
       "    "
      ],
      "text/plain": [
       "<IPython.core.display.Javascript object>"
      ]
     },
     "metadata": {},
     "output_type": "display_data"
    },
    {
     "name": "stdout",
     "output_type": "stream",
     "text": [
      "Model #126\n",
      "Best ROC-AUC: 0.7646\n",
      "Best params: OrderedDict([('colsample_bytree', 0.9684163811365366), ('learning_rate', 0.08322887926922597), ('max_bin', 520), ('max_depth', 2), ('min_child_samples', 0), ('min_data_in_leaf', 20), ('n_estimators', 20), ('num_leaves', 193), ('reg_alpha', 2.4022832521641505e-09), ('reg_lambda', 0.0001233498339860202), ('scale_pos_weight', 50)])\n",
      "\n"
     ]
    },
    {
     "data": {
      "application/javascript": [
       "\n",
       "        if (window._pyforest_update_imports_cell) { window._pyforest_update_imports_cell('import numpy as np'); }\n",
       "    "
      ],
      "text/plain": [
       "<IPython.core.display.Javascript object>"
      ]
     },
     "metadata": {},
     "output_type": "display_data"
    },
    {
     "name": "stdout",
     "output_type": "stream",
     "text": [
      "Model #127\n",
      "Best ROC-AUC: 0.7646\n",
      "Best params: OrderedDict([('colsample_bytree', 0.9684163811365366), ('learning_rate', 0.08322887926922597), ('max_bin', 520), ('max_depth', 2), ('min_child_samples', 0), ('min_data_in_leaf', 20), ('n_estimators', 20), ('num_leaves', 193), ('reg_alpha', 2.4022832521641505e-09), ('reg_lambda', 0.0001233498339860202), ('scale_pos_weight', 50)])\n",
      "\n"
     ]
    },
    {
     "data": {
      "application/javascript": [
       "\n",
       "        if (window._pyforest_update_imports_cell) { window._pyforest_update_imports_cell('import numpy as np'); }\n",
       "    "
      ],
      "text/plain": [
       "<IPython.core.display.Javascript object>"
      ]
     },
     "metadata": {},
     "output_type": "display_data"
    },
    {
     "name": "stdout",
     "output_type": "stream",
     "text": [
      "Model #128\n",
      "Best ROC-AUC: 0.7646\n",
      "Best params: OrderedDict([('colsample_bytree', 0.9684163811365366), ('learning_rate', 0.08322887926922597), ('max_bin', 520), ('max_depth', 2), ('min_child_samples', 0), ('min_data_in_leaf', 20), ('n_estimators', 20), ('num_leaves', 193), ('reg_alpha', 2.4022832521641505e-09), ('reg_lambda', 0.0001233498339860202), ('scale_pos_weight', 50)])\n",
      "\n"
     ]
    },
    {
     "data": {
      "application/javascript": [
       "\n",
       "        if (window._pyforest_update_imports_cell) { window._pyforest_update_imports_cell('import numpy as np'); }\n",
       "    "
      ],
      "text/plain": [
       "<IPython.core.display.Javascript object>"
      ]
     },
     "metadata": {},
     "output_type": "display_data"
    },
    {
     "name": "stdout",
     "output_type": "stream",
     "text": [
      "Model #129\n",
      "Best ROC-AUC: 0.7646\n",
      "Best params: OrderedDict([('colsample_bytree', 0.9684163811365366), ('learning_rate', 0.08322887926922597), ('max_bin', 520), ('max_depth', 2), ('min_child_samples', 0), ('min_data_in_leaf', 20), ('n_estimators', 20), ('num_leaves', 193), ('reg_alpha', 2.4022832521641505e-09), ('reg_lambda', 0.0001233498339860202), ('scale_pos_weight', 50)])\n",
      "\n"
     ]
    },
    {
     "data": {
      "application/javascript": [
       "\n",
       "        if (window._pyforest_update_imports_cell) { window._pyforest_update_imports_cell('import numpy as np'); }\n",
       "    "
      ],
      "text/plain": [
       "<IPython.core.display.Javascript object>"
      ]
     },
     "metadata": {},
     "output_type": "display_data"
    },
    {
     "name": "stdout",
     "output_type": "stream",
     "text": [
      "Model #130\n",
      "Best ROC-AUC: 0.7646\n",
      "Best params: OrderedDict([('colsample_bytree', 0.9684163811365366), ('learning_rate', 0.08322887926922597), ('max_bin', 520), ('max_depth', 2), ('min_child_samples', 0), ('min_data_in_leaf', 20), ('n_estimators', 20), ('num_leaves', 193), ('reg_alpha', 2.4022832521641505e-09), ('reg_lambda', 0.0001233498339860202), ('scale_pos_weight', 50)])\n",
      "\n"
     ]
    },
    {
     "data": {
      "application/javascript": [
       "\n",
       "        if (window._pyforest_update_imports_cell) { window._pyforest_update_imports_cell('import numpy as np'); }\n",
       "    "
      ],
      "text/plain": [
       "<IPython.core.display.Javascript object>"
      ]
     },
     "metadata": {},
     "output_type": "display_data"
    },
    {
     "name": "stdout",
     "output_type": "stream",
     "text": [
      "Model #131\n",
      "Best ROC-AUC: 0.7646\n",
      "Best params: OrderedDict([('colsample_bytree', 0.9684163811365366), ('learning_rate', 0.08322887926922597), ('max_bin', 520), ('max_depth', 2), ('min_child_samples', 0), ('min_data_in_leaf', 20), ('n_estimators', 20), ('num_leaves', 193), ('reg_alpha', 2.4022832521641505e-09), ('reg_lambda', 0.0001233498339860202), ('scale_pos_weight', 50)])\n",
      "\n"
     ]
    },
    {
     "data": {
      "application/javascript": [
       "\n",
       "        if (window._pyforest_update_imports_cell) { window._pyforest_update_imports_cell('import numpy as np'); }\n",
       "    "
      ],
      "text/plain": [
       "<IPython.core.display.Javascript object>"
      ]
     },
     "metadata": {},
     "output_type": "display_data"
    },
    {
     "name": "stdout",
     "output_type": "stream",
     "text": [
      "Model #132\n",
      "Best ROC-AUC: 0.7646\n",
      "Best params: OrderedDict([('colsample_bytree', 0.9684163811365366), ('learning_rate', 0.08322887926922597), ('max_bin', 520), ('max_depth', 2), ('min_child_samples', 0), ('min_data_in_leaf', 20), ('n_estimators', 20), ('num_leaves', 193), ('reg_alpha', 2.4022832521641505e-09), ('reg_lambda', 0.0001233498339860202), ('scale_pos_weight', 50)])\n",
      "\n"
     ]
    },
    {
     "data": {
      "application/javascript": [
       "\n",
       "        if (window._pyforest_update_imports_cell) { window._pyforest_update_imports_cell('import numpy as np'); }\n",
       "    "
      ],
      "text/plain": [
       "<IPython.core.display.Javascript object>"
      ]
     },
     "metadata": {},
     "output_type": "display_data"
    },
    {
     "name": "stdout",
     "output_type": "stream",
     "text": [
      "Model #133\n",
      "Best ROC-AUC: 0.7646\n",
      "Best params: OrderedDict([('colsample_bytree', 0.9684163811365366), ('learning_rate', 0.08322887926922597), ('max_bin', 520), ('max_depth', 2), ('min_child_samples', 0), ('min_data_in_leaf', 20), ('n_estimators', 20), ('num_leaves', 193), ('reg_alpha', 2.4022832521641505e-09), ('reg_lambda', 0.0001233498339860202), ('scale_pos_weight', 50)])\n",
      "\n"
     ]
    },
    {
     "data": {
      "application/javascript": [
       "\n",
       "        if (window._pyforest_update_imports_cell) { window._pyforest_update_imports_cell('import numpy as np'); }\n",
       "    "
      ],
      "text/plain": [
       "<IPython.core.display.Javascript object>"
      ]
     },
     "metadata": {},
     "output_type": "display_data"
    },
    {
     "name": "stdout",
     "output_type": "stream",
     "text": [
      "Model #134\n",
      "Best ROC-AUC: 0.7646\n",
      "Best params: OrderedDict([('colsample_bytree', 0.9684163811365366), ('learning_rate', 0.08322887926922597), ('max_bin', 520), ('max_depth', 2), ('min_child_samples', 0), ('min_data_in_leaf', 20), ('n_estimators', 20), ('num_leaves', 193), ('reg_alpha', 2.4022832521641505e-09), ('reg_lambda', 0.0001233498339860202), ('scale_pos_weight', 50)])\n",
      "\n"
     ]
    },
    {
     "data": {
      "application/javascript": [
       "\n",
       "        if (window._pyforest_update_imports_cell) { window._pyforest_update_imports_cell('import numpy as np'); }\n",
       "    "
      ],
      "text/plain": [
       "<IPython.core.display.Javascript object>"
      ]
     },
     "metadata": {},
     "output_type": "display_data"
    },
    {
     "name": "stdout",
     "output_type": "stream",
     "text": [
      "Model #135\n",
      "Best ROC-AUC: 0.7646\n",
      "Best params: OrderedDict([('colsample_bytree', 0.9684163811365366), ('learning_rate', 0.08322887926922597), ('max_bin', 520), ('max_depth', 2), ('min_child_samples', 0), ('min_data_in_leaf', 20), ('n_estimators', 20), ('num_leaves', 193), ('reg_alpha', 2.4022832521641505e-09), ('reg_lambda', 0.0001233498339860202), ('scale_pos_weight', 50)])\n",
      "\n"
     ]
    },
    {
     "data": {
      "application/javascript": [
       "\n",
       "        if (window._pyforest_update_imports_cell) { window._pyforest_update_imports_cell('import numpy as np'); }\n",
       "    "
      ],
      "text/plain": [
       "<IPython.core.display.Javascript object>"
      ]
     },
     "metadata": {},
     "output_type": "display_data"
    },
    {
     "name": "stdout",
     "output_type": "stream",
     "text": [
      "Model #136\n",
      "Best ROC-AUC: 0.7646\n",
      "Best params: OrderedDict([('colsample_bytree', 0.9684163811365366), ('learning_rate', 0.08322887926922597), ('max_bin', 520), ('max_depth', 2), ('min_child_samples', 0), ('min_data_in_leaf', 20), ('n_estimators', 20), ('num_leaves', 193), ('reg_alpha', 2.4022832521641505e-09), ('reg_lambda', 0.0001233498339860202), ('scale_pos_weight', 50)])\n",
      "\n"
     ]
    },
    {
     "data": {
      "application/javascript": [
       "\n",
       "        if (window._pyforest_update_imports_cell) { window._pyforest_update_imports_cell('import numpy as np'); }\n",
       "    "
      ],
      "text/plain": [
       "<IPython.core.display.Javascript object>"
      ]
     },
     "metadata": {},
     "output_type": "display_data"
    },
    {
     "name": "stdout",
     "output_type": "stream",
     "text": [
      "Model #137\n",
      "Best ROC-AUC: 0.7646\n",
      "Best params: OrderedDict([('colsample_bytree', 0.9684163811365366), ('learning_rate', 0.08322887926922597), ('max_bin', 520), ('max_depth', 2), ('min_child_samples', 0), ('min_data_in_leaf', 20), ('n_estimators', 20), ('num_leaves', 193), ('reg_alpha', 2.4022832521641505e-09), ('reg_lambda', 0.0001233498339860202), ('scale_pos_weight', 50)])\n",
      "\n"
     ]
    },
    {
     "data": {
      "application/javascript": [
       "\n",
       "        if (window._pyforest_update_imports_cell) { window._pyforest_update_imports_cell('import numpy as np'); }\n",
       "    "
      ],
      "text/plain": [
       "<IPython.core.display.Javascript object>"
      ]
     },
     "metadata": {},
     "output_type": "display_data"
    },
    {
     "name": "stdout",
     "output_type": "stream",
     "text": [
      "Model #138\n",
      "Best ROC-AUC: 0.7646\n",
      "Best params: OrderedDict([('colsample_bytree', 0.9684163811365366), ('learning_rate', 0.08322887926922597), ('max_bin', 520), ('max_depth', 2), ('min_child_samples', 0), ('min_data_in_leaf', 20), ('n_estimators', 20), ('num_leaves', 193), ('reg_alpha', 2.4022832521641505e-09), ('reg_lambda', 0.0001233498339860202), ('scale_pos_weight', 50)])\n",
      "\n"
     ]
    },
    {
     "data": {
      "application/javascript": [
       "\n",
       "        if (window._pyforest_update_imports_cell) { window._pyforest_update_imports_cell('import numpy as np'); }\n",
       "    "
      ],
      "text/plain": [
       "<IPython.core.display.Javascript object>"
      ]
     },
     "metadata": {},
     "output_type": "display_data"
    },
    {
     "name": "stdout",
     "output_type": "stream",
     "text": [
      "Model #139\n",
      "Best ROC-AUC: 0.7646\n",
      "Best params: OrderedDict([('colsample_bytree', 0.9684163811365366), ('learning_rate', 0.08322887926922597), ('max_bin', 520), ('max_depth', 2), ('min_child_samples', 0), ('min_data_in_leaf', 20), ('n_estimators', 20), ('num_leaves', 193), ('reg_alpha', 2.4022832521641505e-09), ('reg_lambda', 0.0001233498339860202), ('scale_pos_weight', 50)])\n",
      "\n"
     ]
    },
    {
     "data": {
      "application/javascript": [
       "\n",
       "        if (window._pyforest_update_imports_cell) { window._pyforest_update_imports_cell('import numpy as np'); }\n",
       "    "
      ],
      "text/plain": [
       "<IPython.core.display.Javascript object>"
      ]
     },
     "metadata": {},
     "output_type": "display_data"
    },
    {
     "name": "stdout",
     "output_type": "stream",
     "text": [
      "Model #140\n",
      "Best ROC-AUC: 0.7646\n",
      "Best params: OrderedDict([('colsample_bytree', 0.9684163811365366), ('learning_rate', 0.08322887926922597), ('max_bin', 520), ('max_depth', 2), ('min_child_samples', 0), ('min_data_in_leaf', 20), ('n_estimators', 20), ('num_leaves', 193), ('reg_alpha', 2.4022832521641505e-09), ('reg_lambda', 0.0001233498339860202), ('scale_pos_weight', 50)])\n",
      "\n"
     ]
    },
    {
     "data": {
      "application/javascript": [
       "\n",
       "        if (window._pyforest_update_imports_cell) { window._pyforest_update_imports_cell('import numpy as np'); }\n",
       "    "
      ],
      "text/plain": [
       "<IPython.core.display.Javascript object>"
      ]
     },
     "metadata": {},
     "output_type": "display_data"
    },
    {
     "name": "stdout",
     "output_type": "stream",
     "text": [
      "Model #141\n",
      "Best ROC-AUC: 0.7646\n",
      "Best params: OrderedDict([('colsample_bytree', 0.9684163811365366), ('learning_rate', 0.08322887926922597), ('max_bin', 520), ('max_depth', 2), ('min_child_samples', 0), ('min_data_in_leaf', 20), ('n_estimators', 20), ('num_leaves', 193), ('reg_alpha', 2.4022832521641505e-09), ('reg_lambda', 0.0001233498339860202), ('scale_pos_weight', 50)])\n",
      "\n"
     ]
    },
    {
     "data": {
      "application/javascript": [
       "\n",
       "        if (window._pyforest_update_imports_cell) { window._pyforest_update_imports_cell('import numpy as np'); }\n",
       "    "
      ],
      "text/plain": [
       "<IPython.core.display.Javascript object>"
      ]
     },
     "metadata": {},
     "output_type": "display_data"
    },
    {
     "name": "stdout",
     "output_type": "stream",
     "text": [
      "Model #142\n",
      "Best ROC-AUC: 0.7646\n",
      "Best params: OrderedDict([('colsample_bytree', 0.9684163811365366), ('learning_rate', 0.08322887926922597), ('max_bin', 520), ('max_depth', 2), ('min_child_samples', 0), ('min_data_in_leaf', 20), ('n_estimators', 20), ('num_leaves', 193), ('reg_alpha', 2.4022832521641505e-09), ('reg_lambda', 0.0001233498339860202), ('scale_pos_weight', 50)])\n",
      "\n"
     ]
    },
    {
     "data": {
      "application/javascript": [
       "\n",
       "        if (window._pyforest_update_imports_cell) { window._pyforest_update_imports_cell('import numpy as np'); }\n",
       "    "
      ],
      "text/plain": [
       "<IPython.core.display.Javascript object>"
      ]
     },
     "metadata": {},
     "output_type": "display_data"
    },
    {
     "name": "stdout",
     "output_type": "stream",
     "text": [
      "Model #143\n",
      "Best ROC-AUC: 0.7646\n",
      "Best params: OrderedDict([('colsample_bytree', 0.9684163811365366), ('learning_rate', 0.08322887926922597), ('max_bin', 520), ('max_depth', 2), ('min_child_samples', 0), ('min_data_in_leaf', 20), ('n_estimators', 20), ('num_leaves', 193), ('reg_alpha', 2.4022832521641505e-09), ('reg_lambda', 0.0001233498339860202), ('scale_pos_weight', 50)])\n",
      "\n"
     ]
    },
    {
     "data": {
      "application/javascript": [
       "\n",
       "        if (window._pyforest_update_imports_cell) { window._pyforest_update_imports_cell('import numpy as np'); }\n",
       "    "
      ],
      "text/plain": [
       "<IPython.core.display.Javascript object>"
      ]
     },
     "metadata": {},
     "output_type": "display_data"
    },
    {
     "name": "stdout",
     "output_type": "stream",
     "text": [
      "Model #144\n",
      "Best ROC-AUC: 0.7646\n",
      "Best params: OrderedDict([('colsample_bytree', 0.9684163811365366), ('learning_rate', 0.08322887926922597), ('max_bin', 520), ('max_depth', 2), ('min_child_samples', 0), ('min_data_in_leaf', 20), ('n_estimators', 20), ('num_leaves', 193), ('reg_alpha', 2.4022832521641505e-09), ('reg_lambda', 0.0001233498339860202), ('scale_pos_weight', 50)])\n",
      "\n"
     ]
    },
    {
     "data": {
      "application/javascript": [
       "\n",
       "        if (window._pyforest_update_imports_cell) { window._pyforest_update_imports_cell('import numpy as np'); }\n",
       "    "
      ],
      "text/plain": [
       "<IPython.core.display.Javascript object>"
      ]
     },
     "metadata": {},
     "output_type": "display_data"
    },
    {
     "name": "stdout",
     "output_type": "stream",
     "text": [
      "Model #145\n",
      "Best ROC-AUC: 0.7646\n",
      "Best params: OrderedDict([('colsample_bytree', 0.9684163811365366), ('learning_rate', 0.08322887926922597), ('max_bin', 520), ('max_depth', 2), ('min_child_samples', 0), ('min_data_in_leaf', 20), ('n_estimators', 20), ('num_leaves', 193), ('reg_alpha', 2.4022832521641505e-09), ('reg_lambda', 0.0001233498339860202), ('scale_pos_weight', 50)])\n",
      "\n"
     ]
    },
    {
     "data": {
      "application/javascript": [
       "\n",
       "        if (window._pyforest_update_imports_cell) { window._pyforest_update_imports_cell('import numpy as np'); }\n",
       "    "
      ],
      "text/plain": [
       "<IPython.core.display.Javascript object>"
      ]
     },
     "metadata": {},
     "output_type": "display_data"
    },
    {
     "name": "stdout",
     "output_type": "stream",
     "text": [
      "Model #146\n",
      "Best ROC-AUC: 0.7646\n",
      "Best params: OrderedDict([('colsample_bytree', 0.9684163811365366), ('learning_rate', 0.08322887926922597), ('max_bin', 520), ('max_depth', 2), ('min_child_samples', 0), ('min_data_in_leaf', 20), ('n_estimators', 20), ('num_leaves', 193), ('reg_alpha', 2.4022832521641505e-09), ('reg_lambda', 0.0001233498339860202), ('scale_pos_weight', 50)])\n",
      "\n"
     ]
    },
    {
     "data": {
      "application/javascript": [
       "\n",
       "        if (window._pyforest_update_imports_cell) { window._pyforest_update_imports_cell('import numpy as np'); }\n",
       "    "
      ],
      "text/plain": [
       "<IPython.core.display.Javascript object>"
      ]
     },
     "metadata": {},
     "output_type": "display_data"
    },
    {
     "name": "stdout",
     "output_type": "stream",
     "text": [
      "Model #147\n",
      "Best ROC-AUC: 0.7646\n",
      "Best params: OrderedDict([('colsample_bytree', 0.9684163811365366), ('learning_rate', 0.08322887926922597), ('max_bin', 520), ('max_depth', 2), ('min_child_samples', 0), ('min_data_in_leaf', 20), ('n_estimators', 20), ('num_leaves', 193), ('reg_alpha', 2.4022832521641505e-09), ('reg_lambda', 0.0001233498339860202), ('scale_pos_weight', 50)])\n",
      "\n"
     ]
    },
    {
     "data": {
      "application/javascript": [
       "\n",
       "        if (window._pyforest_update_imports_cell) { window._pyforest_update_imports_cell('import numpy as np'); }\n",
       "    "
      ],
      "text/plain": [
       "<IPython.core.display.Javascript object>"
      ]
     },
     "metadata": {},
     "output_type": "display_data"
    },
    {
     "name": "stdout",
     "output_type": "stream",
     "text": [
      "Model #148\n",
      "Best ROC-AUC: 0.7646\n",
      "Best params: OrderedDict([('colsample_bytree', 0.9684163811365366), ('learning_rate', 0.08322887926922597), ('max_bin', 520), ('max_depth', 2), ('min_child_samples', 0), ('min_data_in_leaf', 20), ('n_estimators', 20), ('num_leaves', 193), ('reg_alpha', 2.4022832521641505e-09), ('reg_lambda', 0.0001233498339860202), ('scale_pos_weight', 50)])\n",
      "\n"
     ]
    },
    {
     "data": {
      "application/javascript": [
       "\n",
       "        if (window._pyforest_update_imports_cell) { window._pyforest_update_imports_cell('import numpy as np'); }\n",
       "    "
      ],
      "text/plain": [
       "<IPython.core.display.Javascript object>"
      ]
     },
     "metadata": {},
     "output_type": "display_data"
    },
    {
     "name": "stdout",
     "output_type": "stream",
     "text": [
      "Model #149\n",
      "Best ROC-AUC: 0.7646\n",
      "Best params: OrderedDict([('colsample_bytree', 0.9684163811365366), ('learning_rate', 0.08322887926922597), ('max_bin', 520), ('max_depth', 2), ('min_child_samples', 0), ('min_data_in_leaf', 20), ('n_estimators', 20), ('num_leaves', 193), ('reg_alpha', 2.4022832521641505e-09), ('reg_lambda', 0.0001233498339860202), ('scale_pos_weight', 50)])\n",
      "\n"
     ]
    },
    {
     "data": {
      "application/javascript": [
       "\n",
       "        if (window._pyforest_update_imports_cell) { window._pyforest_update_imports_cell('import numpy as np'); }\n",
       "    "
      ],
      "text/plain": [
       "<IPython.core.display.Javascript object>"
      ]
     },
     "metadata": {},
     "output_type": "display_data"
    },
    {
     "name": "stdout",
     "output_type": "stream",
     "text": [
      "Model #150\n",
      "Best ROC-AUC: 0.7646\n",
      "Best params: OrderedDict([('colsample_bytree', 0.9684163811365366), ('learning_rate', 0.08322887926922597), ('max_bin', 520), ('max_depth', 2), ('min_child_samples', 0), ('min_data_in_leaf', 20), ('n_estimators', 20), ('num_leaves', 193), ('reg_alpha', 2.4022832521641505e-09), ('reg_lambda', 0.0001233498339860202), ('scale_pos_weight', 50)])\n",
      "\n"
     ]
    },
    {
     "data": {
      "application/javascript": [
       "\n",
       "        if (window._pyforest_update_imports_cell) { window._pyforest_update_imports_cell('import numpy as np'); }\n",
       "    "
      ],
      "text/plain": [
       "<IPython.core.display.Javascript object>"
      ]
     },
     "metadata": {},
     "output_type": "display_data"
    },
    {
     "name": "stdout",
     "output_type": "stream",
     "text": [
      "Model #151\n",
      "Best ROC-AUC: 0.7646\n",
      "Best params: OrderedDict([('colsample_bytree', 0.9684163811365366), ('learning_rate', 0.08322887926922597), ('max_bin', 520), ('max_depth', 2), ('min_child_samples', 0), ('min_data_in_leaf', 20), ('n_estimators', 20), ('num_leaves', 193), ('reg_alpha', 2.4022832521641505e-09), ('reg_lambda', 0.0001233498339860202), ('scale_pos_weight', 50)])\n",
      "\n"
     ]
    },
    {
     "data": {
      "application/javascript": [
       "\n",
       "        if (window._pyforest_update_imports_cell) { window._pyforest_update_imports_cell('import numpy as np'); }\n",
       "    "
      ],
      "text/plain": [
       "<IPython.core.display.Javascript object>"
      ]
     },
     "metadata": {},
     "output_type": "display_data"
    },
    {
     "name": "stdout",
     "output_type": "stream",
     "text": [
      "Model #152\n",
      "Best ROC-AUC: 0.7646\n",
      "Best params: OrderedDict([('colsample_bytree', 0.9684163811365366), ('learning_rate', 0.08322887926922597), ('max_bin', 520), ('max_depth', 2), ('min_child_samples', 0), ('min_data_in_leaf', 20), ('n_estimators', 20), ('num_leaves', 193), ('reg_alpha', 2.4022832521641505e-09), ('reg_lambda', 0.0001233498339860202), ('scale_pos_weight', 50)])\n",
      "\n"
     ]
    },
    {
     "data": {
      "application/javascript": [
       "\n",
       "        if (window._pyforest_update_imports_cell) { window._pyforest_update_imports_cell('import numpy as np'); }\n",
       "    "
      ],
      "text/plain": [
       "<IPython.core.display.Javascript object>"
      ]
     },
     "metadata": {},
     "output_type": "display_data"
    },
    {
     "name": "stdout",
     "output_type": "stream",
     "text": [
      "Model #153\n",
      "Best ROC-AUC: 0.7646\n",
      "Best params: OrderedDict([('colsample_bytree', 0.9684163811365366), ('learning_rate', 0.08322887926922597), ('max_bin', 520), ('max_depth', 2), ('min_child_samples', 0), ('min_data_in_leaf', 20), ('n_estimators', 20), ('num_leaves', 193), ('reg_alpha', 2.4022832521641505e-09), ('reg_lambda', 0.0001233498339860202), ('scale_pos_weight', 50)])\n",
      "\n"
     ]
    },
    {
     "data": {
      "application/javascript": [
       "\n",
       "        if (window._pyforest_update_imports_cell) { window._pyforest_update_imports_cell('import numpy as np'); }\n",
       "    "
      ],
      "text/plain": [
       "<IPython.core.display.Javascript object>"
      ]
     },
     "metadata": {},
     "output_type": "display_data"
    },
    {
     "name": "stdout",
     "output_type": "stream",
     "text": [
      "Model #154\n",
      "Best ROC-AUC: 0.7646\n",
      "Best params: OrderedDict([('colsample_bytree', 0.9684163811365366), ('learning_rate', 0.08322887926922597), ('max_bin', 520), ('max_depth', 2), ('min_child_samples', 0), ('min_data_in_leaf', 20), ('n_estimators', 20), ('num_leaves', 193), ('reg_alpha', 2.4022832521641505e-09), ('reg_lambda', 0.0001233498339860202), ('scale_pos_weight', 50)])\n",
      "\n"
     ]
    },
    {
     "data": {
      "application/javascript": [
       "\n",
       "        if (window._pyforest_update_imports_cell) { window._pyforest_update_imports_cell('import numpy as np'); }\n",
       "    "
      ],
      "text/plain": [
       "<IPython.core.display.Javascript object>"
      ]
     },
     "metadata": {},
     "output_type": "display_data"
    },
    {
     "name": "stdout",
     "output_type": "stream",
     "text": [
      "Model #155\n",
      "Best ROC-AUC: 0.7646\n",
      "Best params: OrderedDict([('colsample_bytree', 0.9684163811365366), ('learning_rate', 0.08322887926922597), ('max_bin', 520), ('max_depth', 2), ('min_child_samples', 0), ('min_data_in_leaf', 20), ('n_estimators', 20), ('num_leaves', 193), ('reg_alpha', 2.4022832521641505e-09), ('reg_lambda', 0.0001233498339860202), ('scale_pos_weight', 50)])\n",
      "\n"
     ]
    },
    {
     "data": {
      "application/javascript": [
       "\n",
       "        if (window._pyforest_update_imports_cell) { window._pyforest_update_imports_cell('import numpy as np'); }\n",
       "    "
      ],
      "text/plain": [
       "<IPython.core.display.Javascript object>"
      ]
     },
     "metadata": {},
     "output_type": "display_data"
    },
    {
     "name": "stdout",
     "output_type": "stream",
     "text": [
      "Model #156\n",
      "Best ROC-AUC: 0.7646\n",
      "Best params: OrderedDict([('colsample_bytree', 0.9684163811365366), ('learning_rate', 0.08322887926922597), ('max_bin', 520), ('max_depth', 2), ('min_child_samples', 0), ('min_data_in_leaf', 20), ('n_estimators', 20), ('num_leaves', 193), ('reg_alpha', 2.4022832521641505e-09), ('reg_lambda', 0.0001233498339860202), ('scale_pos_weight', 50)])\n",
      "\n"
     ]
    },
    {
     "data": {
      "application/javascript": [
       "\n",
       "        if (window._pyforest_update_imports_cell) { window._pyforest_update_imports_cell('import numpy as np'); }\n",
       "    "
      ],
      "text/plain": [
       "<IPython.core.display.Javascript object>"
      ]
     },
     "metadata": {},
     "output_type": "display_data"
    },
    {
     "name": "stdout",
     "output_type": "stream",
     "text": [
      "Model #157\n",
      "Best ROC-AUC: 0.7646\n",
      "Best params: OrderedDict([('colsample_bytree', 0.9684163811365366), ('learning_rate', 0.08322887926922597), ('max_bin', 520), ('max_depth', 2), ('min_child_samples', 0), ('min_data_in_leaf', 20), ('n_estimators', 20), ('num_leaves', 193), ('reg_alpha', 2.4022832521641505e-09), ('reg_lambda', 0.0001233498339860202), ('scale_pos_weight', 50)])\n",
      "\n"
     ]
    },
    {
     "data": {
      "application/javascript": [
       "\n",
       "        if (window._pyforest_update_imports_cell) { window._pyforest_update_imports_cell('import numpy as np'); }\n",
       "    "
      ],
      "text/plain": [
       "<IPython.core.display.Javascript object>"
      ]
     },
     "metadata": {},
     "output_type": "display_data"
    },
    {
     "name": "stdout",
     "output_type": "stream",
     "text": [
      "Model #158\n",
      "Best ROC-AUC: 0.7646\n",
      "Best params: OrderedDict([('colsample_bytree', 0.9684163811365366), ('learning_rate', 0.08322887926922597), ('max_bin', 520), ('max_depth', 2), ('min_child_samples', 0), ('min_data_in_leaf', 20), ('n_estimators', 20), ('num_leaves', 193), ('reg_alpha', 2.4022832521641505e-09), ('reg_lambda', 0.0001233498339860202), ('scale_pos_weight', 50)])\n",
      "\n"
     ]
    },
    {
     "data": {
      "application/javascript": [
       "\n",
       "        if (window._pyforest_update_imports_cell) { window._pyforest_update_imports_cell('import numpy as np'); }\n",
       "    "
      ],
      "text/plain": [
       "<IPython.core.display.Javascript object>"
      ]
     },
     "metadata": {},
     "output_type": "display_data"
    },
    {
     "name": "stdout",
     "output_type": "stream",
     "text": [
      "Model #159\n",
      "Best ROC-AUC: 0.7646\n",
      "Best params: OrderedDict([('colsample_bytree', 0.9684163811365366), ('learning_rate', 0.08322887926922597), ('max_bin', 520), ('max_depth', 2), ('min_child_samples', 0), ('min_data_in_leaf', 20), ('n_estimators', 20), ('num_leaves', 193), ('reg_alpha', 2.4022832521641505e-09), ('reg_lambda', 0.0001233498339860202), ('scale_pos_weight', 50)])\n",
      "\n"
     ]
    },
    {
     "data": {
      "application/javascript": [
       "\n",
       "        if (window._pyforest_update_imports_cell) { window._pyforest_update_imports_cell('import numpy as np'); }\n",
       "    "
      ],
      "text/plain": [
       "<IPython.core.display.Javascript object>"
      ]
     },
     "metadata": {},
     "output_type": "display_data"
    },
    {
     "name": "stdout",
     "output_type": "stream",
     "text": [
      "Model #160\n",
      "Best ROC-AUC: 0.7646\n",
      "Best params: OrderedDict([('colsample_bytree', 0.9684163811365366), ('learning_rate', 0.08322887926922597), ('max_bin', 520), ('max_depth', 2), ('min_child_samples', 0), ('min_data_in_leaf', 20), ('n_estimators', 20), ('num_leaves', 193), ('reg_alpha', 2.4022832521641505e-09), ('reg_lambda', 0.0001233498339860202), ('scale_pos_weight', 50)])\n",
      "\n"
     ]
    },
    {
     "data": {
      "application/javascript": [
       "\n",
       "        if (window._pyforest_update_imports_cell) { window._pyforest_update_imports_cell('import numpy as np'); }\n",
       "    "
      ],
      "text/plain": [
       "<IPython.core.display.Javascript object>"
      ]
     },
     "metadata": {},
     "output_type": "display_data"
    },
    {
     "name": "stdout",
     "output_type": "stream",
     "text": [
      "Model #161\n",
      "Best ROC-AUC: 0.7646\n",
      "Best params: OrderedDict([('colsample_bytree', 0.9684163811365366), ('learning_rate', 0.08322887926922597), ('max_bin', 520), ('max_depth', 2), ('min_child_samples', 0), ('min_data_in_leaf', 20), ('n_estimators', 20), ('num_leaves', 193), ('reg_alpha', 2.4022832521641505e-09), ('reg_lambda', 0.0001233498339860202), ('scale_pos_weight', 50)])\n",
      "\n"
     ]
    },
    {
     "data": {
      "application/javascript": [
       "\n",
       "        if (window._pyforest_update_imports_cell) { window._pyforest_update_imports_cell('import numpy as np'); }\n",
       "    "
      ],
      "text/plain": [
       "<IPython.core.display.Javascript object>"
      ]
     },
     "metadata": {},
     "output_type": "display_data"
    },
    {
     "name": "stdout",
     "output_type": "stream",
     "text": [
      "Model #162\n",
      "Best ROC-AUC: 0.7646\n",
      "Best params: OrderedDict([('colsample_bytree', 0.9684163811365366), ('learning_rate', 0.08322887926922597), ('max_bin', 520), ('max_depth', 2), ('min_child_samples', 0), ('min_data_in_leaf', 20), ('n_estimators', 20), ('num_leaves', 193), ('reg_alpha', 2.4022832521641505e-09), ('reg_lambda', 0.0001233498339860202), ('scale_pos_weight', 50)])\n",
      "\n"
     ]
    },
    {
     "data": {
      "application/javascript": [
       "\n",
       "        if (window._pyforest_update_imports_cell) { window._pyforest_update_imports_cell('import numpy as np'); }\n",
       "    "
      ],
      "text/plain": [
       "<IPython.core.display.Javascript object>"
      ]
     },
     "metadata": {},
     "output_type": "display_data"
    },
    {
     "name": "stdout",
     "output_type": "stream",
     "text": [
      "Model #163\n",
      "Best ROC-AUC: 0.7646\n",
      "Best params: OrderedDict([('colsample_bytree', 0.9684163811365366), ('learning_rate', 0.08322887926922597), ('max_bin', 520), ('max_depth', 2), ('min_child_samples', 0), ('min_data_in_leaf', 20), ('n_estimators', 20), ('num_leaves', 193), ('reg_alpha', 2.4022832521641505e-09), ('reg_lambda', 0.0001233498339860202), ('scale_pos_weight', 50)])\n",
      "\n"
     ]
    },
    {
     "data": {
      "application/javascript": [
       "\n",
       "        if (window._pyforest_update_imports_cell) { window._pyforest_update_imports_cell('import numpy as np'); }\n",
       "    "
      ],
      "text/plain": [
       "<IPython.core.display.Javascript object>"
      ]
     },
     "metadata": {},
     "output_type": "display_data"
    },
    {
     "name": "stdout",
     "output_type": "stream",
     "text": [
      "Model #164\n",
      "Best ROC-AUC: 0.7646\n",
      "Best params: OrderedDict([('colsample_bytree', 0.9684163811365366), ('learning_rate', 0.08322887926922597), ('max_bin', 520), ('max_depth', 2), ('min_child_samples', 0), ('min_data_in_leaf', 20), ('n_estimators', 20), ('num_leaves', 193), ('reg_alpha', 2.4022832521641505e-09), ('reg_lambda', 0.0001233498339860202), ('scale_pos_weight', 50)])\n",
      "\n"
     ]
    },
    {
     "data": {
      "application/javascript": [
       "\n",
       "        if (window._pyforest_update_imports_cell) { window._pyforest_update_imports_cell('import numpy as np'); }\n",
       "    "
      ],
      "text/plain": [
       "<IPython.core.display.Javascript object>"
      ]
     },
     "metadata": {},
     "output_type": "display_data"
    },
    {
     "name": "stdout",
     "output_type": "stream",
     "text": [
      "Model #165\n",
      "Best ROC-AUC: 0.7646\n",
      "Best params: OrderedDict([('colsample_bytree', 0.9684163811365366), ('learning_rate', 0.08322887926922597), ('max_bin', 520), ('max_depth', 2), ('min_child_samples', 0), ('min_data_in_leaf', 20), ('n_estimators', 20), ('num_leaves', 193), ('reg_alpha', 2.4022832521641505e-09), ('reg_lambda', 0.0001233498339860202), ('scale_pos_weight', 50)])\n",
      "\n"
     ]
    },
    {
     "data": {
      "application/javascript": [
       "\n",
       "        if (window._pyforest_update_imports_cell) { window._pyforest_update_imports_cell('import numpy as np'); }\n",
       "    "
      ],
      "text/plain": [
       "<IPython.core.display.Javascript object>"
      ]
     },
     "metadata": {},
     "output_type": "display_data"
    },
    {
     "name": "stdout",
     "output_type": "stream",
     "text": [
      "Model #166\n",
      "Best ROC-AUC: 0.7646\n",
      "Best params: OrderedDict([('colsample_bytree', 0.9684163811365366), ('learning_rate', 0.08322887926922597), ('max_bin', 520), ('max_depth', 2), ('min_child_samples', 0), ('min_data_in_leaf', 20), ('n_estimators', 20), ('num_leaves', 193), ('reg_alpha', 2.4022832521641505e-09), ('reg_lambda', 0.0001233498339860202), ('scale_pos_weight', 50)])\n",
      "\n"
     ]
    },
    {
     "data": {
      "application/javascript": [
       "\n",
       "        if (window._pyforest_update_imports_cell) { window._pyforest_update_imports_cell('import numpy as np'); }\n",
       "    "
      ],
      "text/plain": [
       "<IPython.core.display.Javascript object>"
      ]
     },
     "metadata": {},
     "output_type": "display_data"
    },
    {
     "name": "stdout",
     "output_type": "stream",
     "text": [
      "Model #167\n",
      "Best ROC-AUC: 0.7646\n",
      "Best params: OrderedDict([('colsample_bytree', 0.9684163811365366), ('learning_rate', 0.08322887926922597), ('max_bin', 520), ('max_depth', 2), ('min_child_samples', 0), ('min_data_in_leaf', 20), ('n_estimators', 20), ('num_leaves', 193), ('reg_alpha', 2.4022832521641505e-09), ('reg_lambda', 0.0001233498339860202), ('scale_pos_weight', 50)])\n",
      "\n"
     ]
    },
    {
     "data": {
      "application/javascript": [
       "\n",
       "        if (window._pyforest_update_imports_cell) { window._pyforest_update_imports_cell('import numpy as np'); }\n",
       "    "
      ],
      "text/plain": [
       "<IPython.core.display.Javascript object>"
      ]
     },
     "metadata": {},
     "output_type": "display_data"
    },
    {
     "name": "stdout",
     "output_type": "stream",
     "text": [
      "Model #168\n",
      "Best ROC-AUC: 0.7646\n",
      "Best params: OrderedDict([('colsample_bytree', 0.9684163811365366), ('learning_rate', 0.08322887926922597), ('max_bin', 520), ('max_depth', 2), ('min_child_samples', 0), ('min_data_in_leaf', 20), ('n_estimators', 20), ('num_leaves', 193), ('reg_alpha', 2.4022832521641505e-09), ('reg_lambda', 0.0001233498339860202), ('scale_pos_weight', 50)])\n",
      "\n"
     ]
    },
    {
     "data": {
      "application/javascript": [
       "\n",
       "        if (window._pyforest_update_imports_cell) { window._pyforest_update_imports_cell('import numpy as np'); }\n",
       "    "
      ],
      "text/plain": [
       "<IPython.core.display.Javascript object>"
      ]
     },
     "metadata": {},
     "output_type": "display_data"
    },
    {
     "name": "stdout",
     "output_type": "stream",
     "text": [
      "Model #169\n",
      "Best ROC-AUC: 0.7646\n",
      "Best params: OrderedDict([('colsample_bytree', 0.9684163811365366), ('learning_rate', 0.08322887926922597), ('max_bin', 520), ('max_depth', 2), ('min_child_samples', 0), ('min_data_in_leaf', 20), ('n_estimators', 20), ('num_leaves', 193), ('reg_alpha', 2.4022832521641505e-09), ('reg_lambda', 0.0001233498339860202), ('scale_pos_weight', 50)])\n",
      "\n"
     ]
    },
    {
     "data": {
      "application/javascript": [
       "\n",
       "        if (window._pyforest_update_imports_cell) { window._pyforest_update_imports_cell('import numpy as np'); }\n",
       "    "
      ],
      "text/plain": [
       "<IPython.core.display.Javascript object>"
      ]
     },
     "metadata": {},
     "output_type": "display_data"
    },
    {
     "name": "stdout",
     "output_type": "stream",
     "text": [
      "Model #170\n",
      "Best ROC-AUC: 0.7646\n",
      "Best params: OrderedDict([('colsample_bytree', 0.9684163811365366), ('learning_rate', 0.08322887926922597), ('max_bin', 520), ('max_depth', 2), ('min_child_samples', 0), ('min_data_in_leaf', 20), ('n_estimators', 20), ('num_leaves', 193), ('reg_alpha', 2.4022832521641505e-09), ('reg_lambda', 0.0001233498339860202), ('scale_pos_weight', 50)])\n",
      "\n"
     ]
    },
    {
     "data": {
      "application/javascript": [
       "\n",
       "        if (window._pyforest_update_imports_cell) { window._pyforest_update_imports_cell('import numpy as np'); }\n",
       "    "
      ],
      "text/plain": [
       "<IPython.core.display.Javascript object>"
      ]
     },
     "metadata": {},
     "output_type": "display_data"
    },
    {
     "name": "stdout",
     "output_type": "stream",
     "text": [
      "Model #171\n",
      "Best ROC-AUC: 0.7646\n",
      "Best params: OrderedDict([('colsample_bytree', 0.9684163811365366), ('learning_rate', 0.08322887926922597), ('max_bin', 520), ('max_depth', 2), ('min_child_samples', 0), ('min_data_in_leaf', 20), ('n_estimators', 20), ('num_leaves', 193), ('reg_alpha', 2.4022832521641505e-09), ('reg_lambda', 0.0001233498339860202), ('scale_pos_weight', 50)])\n",
      "\n"
     ]
    },
    {
     "data": {
      "application/javascript": [
       "\n",
       "        if (window._pyforest_update_imports_cell) { window._pyforest_update_imports_cell('import numpy as np'); }\n",
       "    "
      ],
      "text/plain": [
       "<IPython.core.display.Javascript object>"
      ]
     },
     "metadata": {},
     "output_type": "display_data"
    },
    {
     "name": "stdout",
     "output_type": "stream",
     "text": [
      "Model #172\n",
      "Best ROC-AUC: 0.7646\n",
      "Best params: OrderedDict([('colsample_bytree', 0.9684163811365366), ('learning_rate', 0.08322887926922597), ('max_bin', 520), ('max_depth', 2), ('min_child_samples', 0), ('min_data_in_leaf', 20), ('n_estimators', 20), ('num_leaves', 193), ('reg_alpha', 2.4022832521641505e-09), ('reg_lambda', 0.0001233498339860202), ('scale_pos_weight', 50)])\n",
      "\n"
     ]
    },
    {
     "data": {
      "application/javascript": [
       "\n",
       "        if (window._pyforest_update_imports_cell) { window._pyforest_update_imports_cell('import numpy as np'); }\n",
       "    "
      ],
      "text/plain": [
       "<IPython.core.display.Javascript object>"
      ]
     },
     "metadata": {},
     "output_type": "display_data"
    },
    {
     "name": "stdout",
     "output_type": "stream",
     "text": [
      "Model #173\n",
      "Best ROC-AUC: 0.7646\n",
      "Best params: OrderedDict([('colsample_bytree', 0.9684163811365366), ('learning_rate', 0.08322887926922597), ('max_bin', 520), ('max_depth', 2), ('min_child_samples', 0), ('min_data_in_leaf', 20), ('n_estimators', 20), ('num_leaves', 193), ('reg_alpha', 2.4022832521641505e-09), ('reg_lambda', 0.0001233498339860202), ('scale_pos_weight', 50)])\n",
      "\n"
     ]
    },
    {
     "data": {
      "application/javascript": [
       "\n",
       "        if (window._pyforest_update_imports_cell) { window._pyforest_update_imports_cell('import numpy as np'); }\n",
       "    "
      ],
      "text/plain": [
       "<IPython.core.display.Javascript object>"
      ]
     },
     "metadata": {},
     "output_type": "display_data"
    },
    {
     "name": "stdout",
     "output_type": "stream",
     "text": [
      "Model #174\n",
      "Best ROC-AUC: 0.7646\n",
      "Best params: OrderedDict([('colsample_bytree', 0.9684163811365366), ('learning_rate', 0.08322887926922597), ('max_bin', 520), ('max_depth', 2), ('min_child_samples', 0), ('min_data_in_leaf', 20), ('n_estimators', 20), ('num_leaves', 193), ('reg_alpha', 2.4022832521641505e-09), ('reg_lambda', 0.0001233498339860202), ('scale_pos_weight', 50)])\n",
      "\n"
     ]
    },
    {
     "data": {
      "application/javascript": [
       "\n",
       "        if (window._pyforest_update_imports_cell) { window._pyforest_update_imports_cell('import numpy as np'); }\n",
       "    "
      ],
      "text/plain": [
       "<IPython.core.display.Javascript object>"
      ]
     },
     "metadata": {},
     "output_type": "display_data"
    },
    {
     "name": "stdout",
     "output_type": "stream",
     "text": [
      "Model #175\n",
      "Best ROC-AUC: 0.7646\n",
      "Best params: OrderedDict([('colsample_bytree', 0.9684163811365366), ('learning_rate', 0.08322887926922597), ('max_bin', 520), ('max_depth', 2), ('min_child_samples', 0), ('min_data_in_leaf', 20), ('n_estimators', 20), ('num_leaves', 193), ('reg_alpha', 2.4022832521641505e-09), ('reg_lambda', 0.0001233498339860202), ('scale_pos_weight', 50)])\n",
      "\n"
     ]
    },
    {
     "data": {
      "application/javascript": [
       "\n",
       "        if (window._pyforest_update_imports_cell) { window._pyforest_update_imports_cell('import numpy as np'); }\n",
       "    "
      ],
      "text/plain": [
       "<IPython.core.display.Javascript object>"
      ]
     },
     "metadata": {},
     "output_type": "display_data"
    },
    {
     "name": "stdout",
     "output_type": "stream",
     "text": [
      "Model #176\n",
      "Best ROC-AUC: 0.7646\n",
      "Best params: OrderedDict([('colsample_bytree', 0.9684163811365366), ('learning_rate', 0.08322887926922597), ('max_bin', 520), ('max_depth', 2), ('min_child_samples', 0), ('min_data_in_leaf', 20), ('n_estimators', 20), ('num_leaves', 193), ('reg_alpha', 2.4022832521641505e-09), ('reg_lambda', 0.0001233498339860202), ('scale_pos_weight', 50)])\n",
      "\n"
     ]
    },
    {
     "data": {
      "application/javascript": [
       "\n",
       "        if (window._pyforest_update_imports_cell) { window._pyforest_update_imports_cell('import numpy as np'); }\n",
       "    "
      ],
      "text/plain": [
       "<IPython.core.display.Javascript object>"
      ]
     },
     "metadata": {},
     "output_type": "display_data"
    },
    {
     "name": "stdout",
     "output_type": "stream",
     "text": [
      "Model #177\n",
      "Best ROC-AUC: 0.7646\n",
      "Best params: OrderedDict([('colsample_bytree', 0.9684163811365366), ('learning_rate', 0.08322887926922597), ('max_bin', 520), ('max_depth', 2), ('min_child_samples', 0), ('min_data_in_leaf', 20), ('n_estimators', 20), ('num_leaves', 193), ('reg_alpha', 2.4022832521641505e-09), ('reg_lambda', 0.0001233498339860202), ('scale_pos_weight', 50)])\n",
      "\n"
     ]
    },
    {
     "data": {
      "application/javascript": [
       "\n",
       "        if (window._pyforest_update_imports_cell) { window._pyforest_update_imports_cell('import numpy as np'); }\n",
       "    "
      ],
      "text/plain": [
       "<IPython.core.display.Javascript object>"
      ]
     },
     "metadata": {},
     "output_type": "display_data"
    },
    {
     "name": "stdout",
     "output_type": "stream",
     "text": [
      "Model #178\n",
      "Best ROC-AUC: 0.7646\n",
      "Best params: OrderedDict([('colsample_bytree', 0.9684163811365366), ('learning_rate', 0.08322887926922597), ('max_bin', 520), ('max_depth', 2), ('min_child_samples', 0), ('min_data_in_leaf', 20), ('n_estimators', 20), ('num_leaves', 193), ('reg_alpha', 2.4022832521641505e-09), ('reg_lambda', 0.0001233498339860202), ('scale_pos_weight', 50)])\n",
      "\n"
     ]
    },
    {
     "data": {
      "application/javascript": [
       "\n",
       "        if (window._pyforest_update_imports_cell) { window._pyforest_update_imports_cell('import numpy as np'); }\n",
       "    "
      ],
      "text/plain": [
       "<IPython.core.display.Javascript object>"
      ]
     },
     "metadata": {},
     "output_type": "display_data"
    },
    {
     "name": "stdout",
     "output_type": "stream",
     "text": [
      "Model #179\n",
      "Best ROC-AUC: 0.7646\n",
      "Best params: OrderedDict([('colsample_bytree', 0.9684163811365366), ('learning_rate', 0.08322887926922597), ('max_bin', 520), ('max_depth', 2), ('min_child_samples', 0), ('min_data_in_leaf', 20), ('n_estimators', 20), ('num_leaves', 193), ('reg_alpha', 2.4022832521641505e-09), ('reg_lambda', 0.0001233498339860202), ('scale_pos_weight', 50)])\n",
      "\n"
     ]
    },
    {
     "data": {
      "application/javascript": [
       "\n",
       "        if (window._pyforest_update_imports_cell) { window._pyforest_update_imports_cell('import numpy as np'); }\n",
       "    "
      ],
      "text/plain": [
       "<IPython.core.display.Javascript object>"
      ]
     },
     "metadata": {},
     "output_type": "display_data"
    },
    {
     "name": "stdout",
     "output_type": "stream",
     "text": [
      "Model #180\n",
      "Best ROC-AUC: 0.7646\n",
      "Best params: OrderedDict([('colsample_bytree', 0.9684163811365366), ('learning_rate', 0.08322887926922597), ('max_bin', 520), ('max_depth', 2), ('min_child_samples', 0), ('min_data_in_leaf', 20), ('n_estimators', 20), ('num_leaves', 193), ('reg_alpha', 2.4022832521641505e-09), ('reg_lambda', 0.0001233498339860202), ('scale_pos_weight', 50)])\n",
      "\n"
     ]
    },
    {
     "data": {
      "application/javascript": [
       "\n",
       "        if (window._pyforest_update_imports_cell) { window._pyforest_update_imports_cell('import numpy as np'); }\n",
       "    "
      ],
      "text/plain": [
       "<IPython.core.display.Javascript object>"
      ]
     },
     "metadata": {},
     "output_type": "display_data"
    },
    {
     "name": "stdout",
     "output_type": "stream",
     "text": [
      "Model #181\n",
      "Best ROC-AUC: 0.7646\n",
      "Best params: OrderedDict([('colsample_bytree', 0.9684163811365366), ('learning_rate', 0.08322887926922597), ('max_bin', 520), ('max_depth', 2), ('min_child_samples', 0), ('min_data_in_leaf', 20), ('n_estimators', 20), ('num_leaves', 193), ('reg_alpha', 2.4022832521641505e-09), ('reg_lambda', 0.0001233498339860202), ('scale_pos_weight', 50)])\n",
      "\n"
     ]
    },
    {
     "data": {
      "application/javascript": [
       "\n",
       "        if (window._pyforest_update_imports_cell) { window._pyforest_update_imports_cell('import numpy as np'); }\n",
       "    "
      ],
      "text/plain": [
       "<IPython.core.display.Javascript object>"
      ]
     },
     "metadata": {},
     "output_type": "display_data"
    },
    {
     "name": "stdout",
     "output_type": "stream",
     "text": [
      "Model #182\n",
      "Best ROC-AUC: 0.7646\n",
      "Best params: OrderedDict([('colsample_bytree', 0.9684163811365366), ('learning_rate', 0.08322887926922597), ('max_bin', 520), ('max_depth', 2), ('min_child_samples', 0), ('min_data_in_leaf', 20), ('n_estimators', 20), ('num_leaves', 193), ('reg_alpha', 2.4022832521641505e-09), ('reg_lambda', 0.0001233498339860202), ('scale_pos_weight', 50)])\n",
      "\n"
     ]
    },
    {
     "data": {
      "application/javascript": [
       "\n",
       "        if (window._pyforest_update_imports_cell) { window._pyforest_update_imports_cell('import numpy as np'); }\n",
       "    "
      ],
      "text/plain": [
       "<IPython.core.display.Javascript object>"
      ]
     },
     "metadata": {},
     "output_type": "display_data"
    },
    {
     "name": "stdout",
     "output_type": "stream",
     "text": [
      "Model #183\n",
      "Best ROC-AUC: 0.7646\n",
      "Best params: OrderedDict([('colsample_bytree', 0.9684163811365366), ('learning_rate', 0.08322887926922597), ('max_bin', 520), ('max_depth', 2), ('min_child_samples', 0), ('min_data_in_leaf', 20), ('n_estimators', 20), ('num_leaves', 193), ('reg_alpha', 2.4022832521641505e-09), ('reg_lambda', 0.0001233498339860202), ('scale_pos_weight', 50)])\n",
      "\n"
     ]
    },
    {
     "data": {
      "application/javascript": [
       "\n",
       "        if (window._pyforest_update_imports_cell) { window._pyforest_update_imports_cell('import numpy as np'); }\n",
       "    "
      ],
      "text/plain": [
       "<IPython.core.display.Javascript object>"
      ]
     },
     "metadata": {},
     "output_type": "display_data"
    },
    {
     "name": "stdout",
     "output_type": "stream",
     "text": [
      "Model #184\n",
      "Best ROC-AUC: 0.7646\n",
      "Best params: OrderedDict([('colsample_bytree', 0.9684163811365366), ('learning_rate', 0.08322887926922597), ('max_bin', 520), ('max_depth', 2), ('min_child_samples', 0), ('min_data_in_leaf', 20), ('n_estimators', 20), ('num_leaves', 193), ('reg_alpha', 2.4022832521641505e-09), ('reg_lambda', 0.0001233498339860202), ('scale_pos_weight', 50)])\n",
      "\n"
     ]
    },
    {
     "data": {
      "application/javascript": [
       "\n",
       "        if (window._pyforest_update_imports_cell) { window._pyforest_update_imports_cell('import numpy as np'); }\n",
       "    "
      ],
      "text/plain": [
       "<IPython.core.display.Javascript object>"
      ]
     },
     "metadata": {},
     "output_type": "display_data"
    },
    {
     "name": "stdout",
     "output_type": "stream",
     "text": [
      "Model #185\n",
      "Best ROC-AUC: 0.7646\n",
      "Best params: OrderedDict([('colsample_bytree', 0.9684163811365366), ('learning_rate', 0.08322887926922597), ('max_bin', 520), ('max_depth', 2), ('min_child_samples', 0), ('min_data_in_leaf', 20), ('n_estimators', 20), ('num_leaves', 193), ('reg_alpha', 2.4022832521641505e-09), ('reg_lambda', 0.0001233498339860202), ('scale_pos_weight', 50)])\n",
      "\n"
     ]
    },
    {
     "data": {
      "application/javascript": [
       "\n",
       "        if (window._pyforest_update_imports_cell) { window._pyforest_update_imports_cell('import numpy as np'); }\n",
       "    "
      ],
      "text/plain": [
       "<IPython.core.display.Javascript object>"
      ]
     },
     "metadata": {},
     "output_type": "display_data"
    },
    {
     "name": "stdout",
     "output_type": "stream",
     "text": [
      "Model #186\n",
      "Best ROC-AUC: 0.7646\n",
      "Best params: OrderedDict([('colsample_bytree', 0.9684163811365366), ('learning_rate', 0.08322887926922597), ('max_bin', 520), ('max_depth', 2), ('min_child_samples', 0), ('min_data_in_leaf', 20), ('n_estimators', 20), ('num_leaves', 193), ('reg_alpha', 2.4022832521641505e-09), ('reg_lambda', 0.0001233498339860202), ('scale_pos_weight', 50)])\n",
      "\n"
     ]
    },
    {
     "data": {
      "application/javascript": [
       "\n",
       "        if (window._pyforest_update_imports_cell) { window._pyforest_update_imports_cell('import numpy as np'); }\n",
       "    "
      ],
      "text/plain": [
       "<IPython.core.display.Javascript object>"
      ]
     },
     "metadata": {},
     "output_type": "display_data"
    },
    {
     "name": "stdout",
     "output_type": "stream",
     "text": [
      "Model #187\n",
      "Best ROC-AUC: 0.7646\n",
      "Best params: OrderedDict([('colsample_bytree', 0.9684163811365366), ('learning_rate', 0.08322887926922597), ('max_bin', 520), ('max_depth', 2), ('min_child_samples', 0), ('min_data_in_leaf', 20), ('n_estimators', 20), ('num_leaves', 193), ('reg_alpha', 2.4022832521641505e-09), ('reg_lambda', 0.0001233498339860202), ('scale_pos_weight', 50)])\n",
      "\n"
     ]
    },
    {
     "data": {
      "application/javascript": [
       "\n",
       "        if (window._pyforest_update_imports_cell) { window._pyforest_update_imports_cell('import numpy as np'); }\n",
       "    "
      ],
      "text/plain": [
       "<IPython.core.display.Javascript object>"
      ]
     },
     "metadata": {},
     "output_type": "display_data"
    },
    {
     "name": "stdout",
     "output_type": "stream",
     "text": [
      "Model #188\n",
      "Best ROC-AUC: 0.7646\n",
      "Best params: OrderedDict([('colsample_bytree', 0.9684163811365366), ('learning_rate', 0.08322887926922597), ('max_bin', 520), ('max_depth', 2), ('min_child_samples', 0), ('min_data_in_leaf', 20), ('n_estimators', 20), ('num_leaves', 193), ('reg_alpha', 2.4022832521641505e-09), ('reg_lambda', 0.0001233498339860202), ('scale_pos_weight', 50)])\n",
      "\n"
     ]
    },
    {
     "data": {
      "application/javascript": [
       "\n",
       "        if (window._pyforest_update_imports_cell) { window._pyforest_update_imports_cell('import numpy as np'); }\n",
       "    "
      ],
      "text/plain": [
       "<IPython.core.display.Javascript object>"
      ]
     },
     "metadata": {},
     "output_type": "display_data"
    },
    {
     "name": "stdout",
     "output_type": "stream",
     "text": [
      "Model #189\n",
      "Best ROC-AUC: 0.7646\n",
      "Best params: OrderedDict([('colsample_bytree', 0.9684163811365366), ('learning_rate', 0.08322887926922597), ('max_bin', 520), ('max_depth', 2), ('min_child_samples', 0), ('min_data_in_leaf', 20), ('n_estimators', 20), ('num_leaves', 193), ('reg_alpha', 2.4022832521641505e-09), ('reg_lambda', 0.0001233498339860202), ('scale_pos_weight', 50)])\n",
      "\n"
     ]
    },
    {
     "data": {
      "application/javascript": [
       "\n",
       "        if (window._pyforest_update_imports_cell) { window._pyforest_update_imports_cell('import numpy as np'); }\n",
       "    "
      ],
      "text/plain": [
       "<IPython.core.display.Javascript object>"
      ]
     },
     "metadata": {},
     "output_type": "display_data"
    },
    {
     "name": "stdout",
     "output_type": "stream",
     "text": [
      "Model #190\n",
      "Best ROC-AUC: 0.7646\n",
      "Best params: OrderedDict([('colsample_bytree', 0.9684163811365366), ('learning_rate', 0.08322887926922597), ('max_bin', 520), ('max_depth', 2), ('min_child_samples', 0), ('min_data_in_leaf', 20), ('n_estimators', 20), ('num_leaves', 193), ('reg_alpha', 2.4022832521641505e-09), ('reg_lambda', 0.0001233498339860202), ('scale_pos_weight', 50)])\n",
      "\n"
     ]
    },
    {
     "data": {
      "application/javascript": [
       "\n",
       "        if (window._pyforest_update_imports_cell) { window._pyforest_update_imports_cell('import numpy as np'); }\n",
       "    "
      ],
      "text/plain": [
       "<IPython.core.display.Javascript object>"
      ]
     },
     "metadata": {},
     "output_type": "display_data"
    },
    {
     "name": "stdout",
     "output_type": "stream",
     "text": [
      "Model #191\n",
      "Best ROC-AUC: 0.7646\n",
      "Best params: OrderedDict([('colsample_bytree', 0.9684163811365366), ('learning_rate', 0.08322887926922597), ('max_bin', 520), ('max_depth', 2), ('min_child_samples', 0), ('min_data_in_leaf', 20), ('n_estimators', 20), ('num_leaves', 193), ('reg_alpha', 2.4022832521641505e-09), ('reg_lambda', 0.0001233498339860202), ('scale_pos_weight', 50)])\n",
      "\n"
     ]
    },
    {
     "data": {
      "application/javascript": [
       "\n",
       "        if (window._pyforest_update_imports_cell) { window._pyforest_update_imports_cell('import numpy as np'); }\n",
       "    "
      ],
      "text/plain": [
       "<IPython.core.display.Javascript object>"
      ]
     },
     "metadata": {},
     "output_type": "display_data"
    },
    {
     "name": "stdout",
     "output_type": "stream",
     "text": [
      "Model #192\n",
      "Best ROC-AUC: 0.7646\n",
      "Best params: OrderedDict([('colsample_bytree', 0.9684163811365366), ('learning_rate', 0.08322887926922597), ('max_bin', 520), ('max_depth', 2), ('min_child_samples', 0), ('min_data_in_leaf', 20), ('n_estimators', 20), ('num_leaves', 193), ('reg_alpha', 2.4022832521641505e-09), ('reg_lambda', 0.0001233498339860202), ('scale_pos_weight', 50)])\n",
      "\n"
     ]
    },
    {
     "data": {
      "application/javascript": [
       "\n",
       "        if (window._pyforest_update_imports_cell) { window._pyforest_update_imports_cell('import numpy as np'); }\n",
       "    "
      ],
      "text/plain": [
       "<IPython.core.display.Javascript object>"
      ]
     },
     "metadata": {},
     "output_type": "display_data"
    },
    {
     "name": "stdout",
     "output_type": "stream",
     "text": [
      "Model #193\n",
      "Best ROC-AUC: 0.7646\n",
      "Best params: OrderedDict([('colsample_bytree', 0.9684163811365366), ('learning_rate', 0.08322887926922597), ('max_bin', 520), ('max_depth', 2), ('min_child_samples', 0), ('min_data_in_leaf', 20), ('n_estimators', 20), ('num_leaves', 193), ('reg_alpha', 2.4022832521641505e-09), ('reg_lambda', 0.0001233498339860202), ('scale_pos_weight', 50)])\n",
      "\n"
     ]
    },
    {
     "data": {
      "application/javascript": [
       "\n",
       "        if (window._pyforest_update_imports_cell) { window._pyforest_update_imports_cell('import numpy as np'); }\n",
       "    "
      ],
      "text/plain": [
       "<IPython.core.display.Javascript object>"
      ]
     },
     "metadata": {},
     "output_type": "display_data"
    },
    {
     "name": "stdout",
     "output_type": "stream",
     "text": [
      "Model #194\n",
      "Best ROC-AUC: 0.7646\n",
      "Best params: OrderedDict([('colsample_bytree', 0.9684163811365366), ('learning_rate', 0.08322887926922597), ('max_bin', 520), ('max_depth', 2), ('min_child_samples', 0), ('min_data_in_leaf', 20), ('n_estimators', 20), ('num_leaves', 193), ('reg_alpha', 2.4022832521641505e-09), ('reg_lambda', 0.0001233498339860202), ('scale_pos_weight', 50)])\n",
      "\n"
     ]
    },
    {
     "data": {
      "application/javascript": [
       "\n",
       "        if (window._pyforest_update_imports_cell) { window._pyforest_update_imports_cell('import numpy as np'); }\n",
       "    "
      ],
      "text/plain": [
       "<IPython.core.display.Javascript object>"
      ]
     },
     "metadata": {},
     "output_type": "display_data"
    },
    {
     "name": "stdout",
     "output_type": "stream",
     "text": [
      "Model #195\n",
      "Best ROC-AUC: 0.7666\n",
      "Best params: OrderedDict([('colsample_bytree', 1.0), ('learning_rate', 0.09856508228583047), ('max_bin', 1000), ('max_depth', 2), ('min_child_samples', 0), ('min_data_in_leaf', 20), ('n_estimators', 20), ('num_leaves', 172), ('reg_alpha', 0.0026000372858870917), ('reg_lambda', 1.0), ('scale_pos_weight', 90)])\n",
      "\n"
     ]
    },
    {
     "data": {
      "application/javascript": [
       "\n",
       "        if (window._pyforest_update_imports_cell) { window._pyforest_update_imports_cell('import numpy as np'); }\n",
       "    "
      ],
      "text/plain": [
       "<IPython.core.display.Javascript object>"
      ]
     },
     "metadata": {},
     "output_type": "display_data"
    },
    {
     "name": "stdout",
     "output_type": "stream",
     "text": [
      "Model #196\n",
      "Best ROC-AUC: 0.7666\n",
      "Best params: OrderedDict([('colsample_bytree', 1.0), ('learning_rate', 0.09856508228583047), ('max_bin', 1000), ('max_depth', 2), ('min_child_samples', 0), ('min_data_in_leaf', 20), ('n_estimators', 20), ('num_leaves', 172), ('reg_alpha', 0.0026000372858870917), ('reg_lambda', 1.0), ('scale_pos_weight', 90)])\n",
      "\n"
     ]
    },
    {
     "data": {
      "application/javascript": [
       "\n",
       "        if (window._pyforest_update_imports_cell) { window._pyforest_update_imports_cell('import numpy as np'); }\n",
       "    "
      ],
      "text/plain": [
       "<IPython.core.display.Javascript object>"
      ]
     },
     "metadata": {},
     "output_type": "display_data"
    },
    {
     "name": "stdout",
     "output_type": "stream",
     "text": [
      "Model #197\n",
      "Best ROC-AUC: 0.7666\n",
      "Best params: OrderedDict([('colsample_bytree', 1.0), ('learning_rate', 0.09856508228583047), ('max_bin', 1000), ('max_depth', 2), ('min_child_samples', 0), ('min_data_in_leaf', 20), ('n_estimators', 20), ('num_leaves', 172), ('reg_alpha', 0.0026000372858870917), ('reg_lambda', 1.0), ('scale_pos_weight', 90)])\n",
      "\n"
     ]
    },
    {
     "data": {
      "application/javascript": [
       "\n",
       "        if (window._pyforest_update_imports_cell) { window._pyforest_update_imports_cell('import numpy as np'); }\n",
       "    "
      ],
      "text/plain": [
       "<IPython.core.display.Javascript object>"
      ]
     },
     "metadata": {},
     "output_type": "display_data"
    },
    {
     "name": "stdout",
     "output_type": "stream",
     "text": [
      "Model #198\n",
      "Best ROC-AUC: 0.7666\n",
      "Best params: OrderedDict([('colsample_bytree', 1.0), ('learning_rate', 0.09856508228583047), ('max_bin', 1000), ('max_depth', 2), ('min_child_samples', 0), ('min_data_in_leaf', 20), ('n_estimators', 20), ('num_leaves', 172), ('reg_alpha', 0.0026000372858870917), ('reg_lambda', 1.0), ('scale_pos_weight', 90)])\n",
      "\n"
     ]
    },
    {
     "data": {
      "application/javascript": [
       "\n",
       "        if (window._pyforest_update_imports_cell) { window._pyforest_update_imports_cell('import numpy as np'); }\n",
       "    "
      ],
      "text/plain": [
       "<IPython.core.display.Javascript object>"
      ]
     },
     "metadata": {},
     "output_type": "display_data"
    },
    {
     "name": "stdout",
     "output_type": "stream",
     "text": [
      "Model #199\n",
      "Best ROC-AUC: 0.7666\n",
      "Best params: OrderedDict([('colsample_bytree', 1.0), ('learning_rate', 0.09856508228583047), ('max_bin', 1000), ('max_depth', 2), ('min_child_samples', 0), ('min_data_in_leaf', 20), ('n_estimators', 20), ('num_leaves', 172), ('reg_alpha', 0.0026000372858870917), ('reg_lambda', 1.0), ('scale_pos_weight', 90)])\n",
      "\n"
     ]
    },
    {
     "data": {
      "application/javascript": [
       "\n",
       "        if (window._pyforest_update_imports_cell) { window._pyforest_update_imports_cell('import numpy as np'); }\n",
       "    "
      ],
      "text/plain": [
       "<IPython.core.display.Javascript object>"
      ]
     },
     "metadata": {},
     "output_type": "display_data"
    },
    {
     "name": "stdout",
     "output_type": "stream",
     "text": [
      "Model #200\n",
      "Best ROC-AUC: 0.7666\n",
      "Best params: OrderedDict([('colsample_bytree', 1.0), ('learning_rate', 0.09856508228583047), ('max_bin', 1000), ('max_depth', 2), ('min_child_samples', 0), ('min_data_in_leaf', 20), ('n_estimators', 20), ('num_leaves', 172), ('reg_alpha', 0.0026000372858870917), ('reg_lambda', 1.0), ('scale_pos_weight', 90)])\n",
      "\n"
     ]
    },
    {
     "data": {
      "application/javascript": [
       "\n",
       "        if (window._pyforest_update_imports_cell) { window._pyforest_update_imports_cell('import numpy as np'); }\n",
       "    "
      ],
      "text/plain": [
       "<IPython.core.display.Javascript object>"
      ]
     },
     "metadata": {},
     "output_type": "display_data"
    },
    {
     "name": "stdout",
     "output_type": "stream",
     "text": [
      "Model #201\n",
      "Best ROC-AUC: 0.7666\n",
      "Best params: OrderedDict([('colsample_bytree', 1.0), ('learning_rate', 0.09856508228583047), ('max_bin', 1000), ('max_depth', 2), ('min_child_samples', 0), ('min_data_in_leaf', 20), ('n_estimators', 20), ('num_leaves', 172), ('reg_alpha', 0.0026000372858870917), ('reg_lambda', 1.0), ('scale_pos_weight', 90)])\n",
      "\n"
     ]
    },
    {
     "data": {
      "application/javascript": [
       "\n",
       "        if (window._pyforest_update_imports_cell) { window._pyforest_update_imports_cell('import numpy as np'); }\n",
       "    "
      ],
      "text/plain": [
       "<IPython.core.display.Javascript object>"
      ]
     },
     "metadata": {},
     "output_type": "display_data"
    },
    {
     "name": "stdout",
     "output_type": "stream",
     "text": [
      "Model #202\n",
      "Best ROC-AUC: 0.7666\n",
      "Best params: OrderedDict([('colsample_bytree', 1.0), ('learning_rate', 0.09856508228583047), ('max_bin', 1000), ('max_depth', 2), ('min_child_samples', 0), ('min_data_in_leaf', 20), ('n_estimators', 20), ('num_leaves', 172), ('reg_alpha', 0.0026000372858870917), ('reg_lambda', 1.0), ('scale_pos_weight', 90)])\n",
      "\n"
     ]
    },
    {
     "data": {
      "application/javascript": [
       "\n",
       "        if (window._pyforest_update_imports_cell) { window._pyforest_update_imports_cell('import numpy as np'); }\n",
       "    "
      ],
      "text/plain": [
       "<IPython.core.display.Javascript object>"
      ]
     },
     "metadata": {},
     "output_type": "display_data"
    },
    {
     "name": "stdout",
     "output_type": "stream",
     "text": [
      "Model #203\n",
      "Best ROC-AUC: 0.7666\n",
      "Best params: OrderedDict([('colsample_bytree', 1.0), ('learning_rate', 0.09856508228583047), ('max_bin', 1000), ('max_depth', 2), ('min_child_samples', 0), ('min_data_in_leaf', 20), ('n_estimators', 20), ('num_leaves', 172), ('reg_alpha', 0.0026000372858870917), ('reg_lambda', 1.0), ('scale_pos_weight', 90)])\n",
      "\n"
     ]
    },
    {
     "data": {
      "application/javascript": [
       "\n",
       "        if (window._pyforest_update_imports_cell) { window._pyforest_update_imports_cell('import numpy as np'); }\n",
       "    "
      ],
      "text/plain": [
       "<IPython.core.display.Javascript object>"
      ]
     },
     "metadata": {},
     "output_type": "display_data"
    },
    {
     "name": "stdout",
     "output_type": "stream",
     "text": [
      "Model #204\n",
      "Best ROC-AUC: 0.7666\n",
      "Best params: OrderedDict([('colsample_bytree', 1.0), ('learning_rate', 0.09856508228583047), ('max_bin', 1000), ('max_depth', 2), ('min_child_samples', 0), ('min_data_in_leaf', 20), ('n_estimators', 20), ('num_leaves', 172), ('reg_alpha', 0.0026000372858870917), ('reg_lambda', 1.0), ('scale_pos_weight', 90)])\n",
      "\n"
     ]
    },
    {
     "data": {
      "application/javascript": [
       "\n",
       "        if (window._pyforest_update_imports_cell) { window._pyforest_update_imports_cell('import numpy as np'); }\n",
       "    "
      ],
      "text/plain": [
       "<IPython.core.display.Javascript object>"
      ]
     },
     "metadata": {},
     "output_type": "display_data"
    },
    {
     "name": "stdout",
     "output_type": "stream",
     "text": [
      "Model #205\n",
      "Best ROC-AUC: 0.7666\n",
      "Best params: OrderedDict([('colsample_bytree', 1.0), ('learning_rate', 0.09856508228583047), ('max_bin', 1000), ('max_depth', 2), ('min_child_samples', 0), ('min_data_in_leaf', 20), ('n_estimators', 20), ('num_leaves', 172), ('reg_alpha', 0.0026000372858870917), ('reg_lambda', 1.0), ('scale_pos_weight', 90)])\n",
      "\n"
     ]
    },
    {
     "data": {
      "application/javascript": [
       "\n",
       "        if (window._pyforest_update_imports_cell) { window._pyforest_update_imports_cell('import numpy as np'); }\n",
       "    "
      ],
      "text/plain": [
       "<IPython.core.display.Javascript object>"
      ]
     },
     "metadata": {},
     "output_type": "display_data"
    },
    {
     "name": "stdout",
     "output_type": "stream",
     "text": [
      "Model #206\n",
      "Best ROC-AUC: 0.7666\n",
      "Best params: OrderedDict([('colsample_bytree', 1.0), ('learning_rate', 0.09856508228583047), ('max_bin', 1000), ('max_depth', 2), ('min_child_samples', 0), ('min_data_in_leaf', 20), ('n_estimators', 20), ('num_leaves', 172), ('reg_alpha', 0.0026000372858870917), ('reg_lambda', 1.0), ('scale_pos_weight', 90)])\n",
      "\n"
     ]
    },
    {
     "data": {
      "application/javascript": [
       "\n",
       "        if (window._pyforest_update_imports_cell) { window._pyforest_update_imports_cell('import numpy as np'); }\n",
       "    "
      ],
      "text/plain": [
       "<IPython.core.display.Javascript object>"
      ]
     },
     "metadata": {},
     "output_type": "display_data"
    },
    {
     "name": "stdout",
     "output_type": "stream",
     "text": [
      "Model #207\n",
      "Best ROC-AUC: 0.7666\n",
      "Best params: OrderedDict([('colsample_bytree', 1.0), ('learning_rate', 0.09856508228583047), ('max_bin', 1000), ('max_depth', 2), ('min_child_samples', 0), ('min_data_in_leaf', 20), ('n_estimators', 20), ('num_leaves', 172), ('reg_alpha', 0.0026000372858870917), ('reg_lambda', 1.0), ('scale_pos_weight', 90)])\n",
      "\n"
     ]
    },
    {
     "data": {
      "application/javascript": [
       "\n",
       "        if (window._pyforest_update_imports_cell) { window._pyforest_update_imports_cell('import numpy as np'); }\n",
       "    "
      ],
      "text/plain": [
       "<IPython.core.display.Javascript object>"
      ]
     },
     "metadata": {},
     "output_type": "display_data"
    },
    {
     "name": "stdout",
     "output_type": "stream",
     "text": [
      "Model #208\n",
      "Best ROC-AUC: 0.7666\n",
      "Best params: OrderedDict([('colsample_bytree', 1.0), ('learning_rate', 0.09856508228583047), ('max_bin', 1000), ('max_depth', 2), ('min_child_samples', 0), ('min_data_in_leaf', 20), ('n_estimators', 20), ('num_leaves', 172), ('reg_alpha', 0.0026000372858870917), ('reg_lambda', 1.0), ('scale_pos_weight', 90)])\n",
      "\n"
     ]
    },
    {
     "data": {
      "application/javascript": [
       "\n",
       "        if (window._pyforest_update_imports_cell) { window._pyforest_update_imports_cell('import numpy as np'); }\n",
       "    "
      ],
      "text/plain": [
       "<IPython.core.display.Javascript object>"
      ]
     },
     "metadata": {},
     "output_type": "display_data"
    },
    {
     "name": "stdout",
     "output_type": "stream",
     "text": [
      "Model #209\n",
      "Best ROC-AUC: 0.7666\n",
      "Best params: OrderedDict([('colsample_bytree', 1.0), ('learning_rate', 0.09856508228583047), ('max_bin', 1000), ('max_depth', 2), ('min_child_samples', 0), ('min_data_in_leaf', 20), ('n_estimators', 20), ('num_leaves', 172), ('reg_alpha', 0.0026000372858870917), ('reg_lambda', 1.0), ('scale_pos_weight', 90)])\n",
      "\n"
     ]
    },
    {
     "data": {
      "application/javascript": [
       "\n",
       "        if (window._pyforest_update_imports_cell) { window._pyforest_update_imports_cell('import numpy as np'); }\n",
       "    "
      ],
      "text/plain": [
       "<IPython.core.display.Javascript object>"
      ]
     },
     "metadata": {},
     "output_type": "display_data"
    },
    {
     "name": "stdout",
     "output_type": "stream",
     "text": [
      "Model #210\n",
      "Best ROC-AUC: 0.7666\n",
      "Best params: OrderedDict([('colsample_bytree', 1.0), ('learning_rate', 0.09856508228583047), ('max_bin', 1000), ('max_depth', 2), ('min_child_samples', 0), ('min_data_in_leaf', 20), ('n_estimators', 20), ('num_leaves', 172), ('reg_alpha', 0.0026000372858870917), ('reg_lambda', 1.0), ('scale_pos_weight', 90)])\n",
      "\n"
     ]
    },
    {
     "data": {
      "application/javascript": [
       "\n",
       "        if (window._pyforest_update_imports_cell) { window._pyforest_update_imports_cell('import numpy as np'); }\n",
       "    "
      ],
      "text/plain": [
       "<IPython.core.display.Javascript object>"
      ]
     },
     "metadata": {},
     "output_type": "display_data"
    },
    {
     "name": "stdout",
     "output_type": "stream",
     "text": [
      "Model #211\n",
      "Best ROC-AUC: 0.7666\n",
      "Best params: OrderedDict([('colsample_bytree', 1.0), ('learning_rate', 0.09856508228583047), ('max_bin', 1000), ('max_depth', 2), ('min_child_samples', 0), ('min_data_in_leaf', 20), ('n_estimators', 20), ('num_leaves', 172), ('reg_alpha', 0.0026000372858870917), ('reg_lambda', 1.0), ('scale_pos_weight', 90)])\n",
      "\n"
     ]
    },
    {
     "data": {
      "application/javascript": [
       "\n",
       "        if (window._pyforest_update_imports_cell) { window._pyforest_update_imports_cell('import numpy as np'); }\n",
       "    "
      ],
      "text/plain": [
       "<IPython.core.display.Javascript object>"
      ]
     },
     "metadata": {},
     "output_type": "display_data"
    },
    {
     "name": "stdout",
     "output_type": "stream",
     "text": [
      "Model #212\n",
      "Best ROC-AUC: 0.7666\n",
      "Best params: OrderedDict([('colsample_bytree', 1.0), ('learning_rate', 0.09856508228583047), ('max_bin', 1000), ('max_depth', 2), ('min_child_samples', 0), ('min_data_in_leaf', 20), ('n_estimators', 20), ('num_leaves', 172), ('reg_alpha', 0.0026000372858870917), ('reg_lambda', 1.0), ('scale_pos_weight', 90)])\n",
      "\n"
     ]
    },
    {
     "data": {
      "application/javascript": [
       "\n",
       "        if (window._pyforest_update_imports_cell) { window._pyforest_update_imports_cell('import numpy as np'); }\n",
       "    "
      ],
      "text/plain": [
       "<IPython.core.display.Javascript object>"
      ]
     },
     "metadata": {},
     "output_type": "display_data"
    },
    {
     "name": "stdout",
     "output_type": "stream",
     "text": [
      "Model #213\n",
      "Best ROC-AUC: 0.7666\n",
      "Best params: OrderedDict([('colsample_bytree', 1.0), ('learning_rate', 0.09856508228583047), ('max_bin', 1000), ('max_depth', 2), ('min_child_samples', 0), ('min_data_in_leaf', 20), ('n_estimators', 20), ('num_leaves', 172), ('reg_alpha', 0.0026000372858870917), ('reg_lambda', 1.0), ('scale_pos_weight', 90)])\n",
      "\n"
     ]
    },
    {
     "data": {
      "application/javascript": [
       "\n",
       "        if (window._pyforest_update_imports_cell) { window._pyforest_update_imports_cell('import numpy as np'); }\n",
       "    "
      ],
      "text/plain": [
       "<IPython.core.display.Javascript object>"
      ]
     },
     "metadata": {},
     "output_type": "display_data"
    },
    {
     "name": "stdout",
     "output_type": "stream",
     "text": [
      "Model #214\n",
      "Best ROC-AUC: 0.7666\n",
      "Best params: OrderedDict([('colsample_bytree', 1.0), ('learning_rate', 0.09856508228583047), ('max_bin', 1000), ('max_depth', 2), ('min_child_samples', 0), ('min_data_in_leaf', 20), ('n_estimators', 20), ('num_leaves', 172), ('reg_alpha', 0.0026000372858870917), ('reg_lambda', 1.0), ('scale_pos_weight', 90)])\n",
      "\n"
     ]
    },
    {
     "data": {
      "application/javascript": [
       "\n",
       "        if (window._pyforest_update_imports_cell) { window._pyforest_update_imports_cell('import numpy as np'); }\n",
       "    "
      ],
      "text/plain": [
       "<IPython.core.display.Javascript object>"
      ]
     },
     "metadata": {},
     "output_type": "display_data"
    },
    {
     "name": "stdout",
     "output_type": "stream",
     "text": [
      "Model #215\n",
      "Best ROC-AUC: 0.7666\n",
      "Best params: OrderedDict([('colsample_bytree', 1.0), ('learning_rate', 0.09856508228583047), ('max_bin', 1000), ('max_depth', 2), ('min_child_samples', 0), ('min_data_in_leaf', 20), ('n_estimators', 20), ('num_leaves', 172), ('reg_alpha', 0.0026000372858870917), ('reg_lambda', 1.0), ('scale_pos_weight', 90)])\n",
      "\n"
     ]
    },
    {
     "data": {
      "application/javascript": [
       "\n",
       "        if (window._pyforest_update_imports_cell) { window._pyforest_update_imports_cell('import numpy as np'); }\n",
       "    "
      ],
      "text/plain": [
       "<IPython.core.display.Javascript object>"
      ]
     },
     "metadata": {},
     "output_type": "display_data"
    },
    {
     "name": "stdout",
     "output_type": "stream",
     "text": [
      "Model #216\n",
      "Best ROC-AUC: 0.7666\n",
      "Best params: OrderedDict([('colsample_bytree', 1.0), ('learning_rate', 0.09856508228583047), ('max_bin', 1000), ('max_depth', 2), ('min_child_samples', 0), ('min_data_in_leaf', 20), ('n_estimators', 20), ('num_leaves', 172), ('reg_alpha', 0.0026000372858870917), ('reg_lambda', 1.0), ('scale_pos_weight', 90)])\n",
      "\n"
     ]
    },
    {
     "data": {
      "application/javascript": [
       "\n",
       "        if (window._pyforest_update_imports_cell) { window._pyforest_update_imports_cell('import numpy as np'); }\n",
       "    "
      ],
      "text/plain": [
       "<IPython.core.display.Javascript object>"
      ]
     },
     "metadata": {},
     "output_type": "display_data"
    },
    {
     "name": "stdout",
     "output_type": "stream",
     "text": [
      "Model #217\n",
      "Best ROC-AUC: 0.7666\n",
      "Best params: OrderedDict([('colsample_bytree', 1.0), ('learning_rate', 0.09856508228583047), ('max_bin', 1000), ('max_depth', 2), ('min_child_samples', 0), ('min_data_in_leaf', 20), ('n_estimators', 20), ('num_leaves', 172), ('reg_alpha', 0.0026000372858870917), ('reg_lambda', 1.0), ('scale_pos_weight', 90)])\n",
      "\n"
     ]
    },
    {
     "data": {
      "application/javascript": [
       "\n",
       "        if (window._pyforest_update_imports_cell) { window._pyforest_update_imports_cell('import numpy as np'); }\n",
       "    "
      ],
      "text/plain": [
       "<IPython.core.display.Javascript object>"
      ]
     },
     "metadata": {},
     "output_type": "display_data"
    },
    {
     "name": "stdout",
     "output_type": "stream",
     "text": [
      "Model #218\n",
      "Best ROC-AUC: 0.7666\n",
      "Best params: OrderedDict([('colsample_bytree', 1.0), ('learning_rate', 0.09856508228583047), ('max_bin', 1000), ('max_depth', 2), ('min_child_samples', 0), ('min_data_in_leaf', 20), ('n_estimators', 20), ('num_leaves', 172), ('reg_alpha', 0.0026000372858870917), ('reg_lambda', 1.0), ('scale_pos_weight', 90)])\n",
      "\n"
     ]
    },
    {
     "data": {
      "application/javascript": [
       "\n",
       "        if (window._pyforest_update_imports_cell) { window._pyforest_update_imports_cell('import numpy as np'); }\n",
       "    "
      ],
      "text/plain": [
       "<IPython.core.display.Javascript object>"
      ]
     },
     "metadata": {},
     "output_type": "display_data"
    },
    {
     "name": "stdout",
     "output_type": "stream",
     "text": [
      "Model #219\n",
      "Best ROC-AUC: 0.7666\n",
      "Best params: OrderedDict([('colsample_bytree', 1.0), ('learning_rate', 0.09856508228583047), ('max_bin', 1000), ('max_depth', 2), ('min_child_samples', 0), ('min_data_in_leaf', 20), ('n_estimators', 20), ('num_leaves', 172), ('reg_alpha', 0.0026000372858870917), ('reg_lambda', 1.0), ('scale_pos_weight', 90)])\n",
      "\n"
     ]
    },
    {
     "data": {
      "application/javascript": [
       "\n",
       "        if (window._pyforest_update_imports_cell) { window._pyforest_update_imports_cell('import numpy as np'); }\n",
       "    "
      ],
      "text/plain": [
       "<IPython.core.display.Javascript object>"
      ]
     },
     "metadata": {},
     "output_type": "display_data"
    },
    {
     "name": "stdout",
     "output_type": "stream",
     "text": [
      "Model #220\n",
      "Best ROC-AUC: 0.7666\n",
      "Best params: OrderedDict([('colsample_bytree', 1.0), ('learning_rate', 0.09856508228583047), ('max_bin', 1000), ('max_depth', 2), ('min_child_samples', 0), ('min_data_in_leaf', 20), ('n_estimators', 20), ('num_leaves', 172), ('reg_alpha', 0.0026000372858870917), ('reg_lambda', 1.0), ('scale_pos_weight', 90)])\n",
      "\n"
     ]
    },
    {
     "data": {
      "application/javascript": [
       "\n",
       "        if (window._pyforest_update_imports_cell) { window._pyforest_update_imports_cell('import numpy as np'); }\n",
       "    "
      ],
      "text/plain": [
       "<IPython.core.display.Javascript object>"
      ]
     },
     "metadata": {},
     "output_type": "display_data"
    },
    {
     "name": "stdout",
     "output_type": "stream",
     "text": [
      "Model #221\n",
      "Best ROC-AUC: 0.7666\n",
      "Best params: OrderedDict([('colsample_bytree', 1.0), ('learning_rate', 0.09856508228583047), ('max_bin', 1000), ('max_depth', 2), ('min_child_samples', 0), ('min_data_in_leaf', 20), ('n_estimators', 20), ('num_leaves', 172), ('reg_alpha', 0.0026000372858870917), ('reg_lambda', 1.0), ('scale_pos_weight', 90)])\n",
      "\n"
     ]
    },
    {
     "data": {
      "application/javascript": [
       "\n",
       "        if (window._pyforest_update_imports_cell) { window._pyforest_update_imports_cell('import numpy as np'); }\n",
       "    "
      ],
      "text/plain": [
       "<IPython.core.display.Javascript object>"
      ]
     },
     "metadata": {},
     "output_type": "display_data"
    },
    {
     "name": "stdout",
     "output_type": "stream",
     "text": [
      "Model #222\n",
      "Best ROC-AUC: 0.7666\n",
      "Best params: OrderedDict([('colsample_bytree', 1.0), ('learning_rate', 0.09856508228583047), ('max_bin', 1000), ('max_depth', 2), ('min_child_samples', 0), ('min_data_in_leaf', 20), ('n_estimators', 20), ('num_leaves', 172), ('reg_alpha', 0.0026000372858870917), ('reg_lambda', 1.0), ('scale_pos_weight', 90)])\n",
      "\n"
     ]
    },
    {
     "data": {
      "application/javascript": [
       "\n",
       "        if (window._pyforest_update_imports_cell) { window._pyforest_update_imports_cell('import numpy as np'); }\n",
       "    "
      ],
      "text/plain": [
       "<IPython.core.display.Javascript object>"
      ]
     },
     "metadata": {},
     "output_type": "display_data"
    },
    {
     "name": "stdout",
     "output_type": "stream",
     "text": [
      "Model #223\n",
      "Best ROC-AUC: 0.7666\n",
      "Best params: OrderedDict([('colsample_bytree', 1.0), ('learning_rate', 0.09856508228583047), ('max_bin', 1000), ('max_depth', 2), ('min_child_samples', 0), ('min_data_in_leaf', 20), ('n_estimators', 20), ('num_leaves', 172), ('reg_alpha', 0.0026000372858870917), ('reg_lambda', 1.0), ('scale_pos_weight', 90)])\n",
      "\n"
     ]
    },
    {
     "data": {
      "application/javascript": [
       "\n",
       "        if (window._pyforest_update_imports_cell) { window._pyforest_update_imports_cell('import numpy as np'); }\n",
       "    "
      ],
      "text/plain": [
       "<IPython.core.display.Javascript object>"
      ]
     },
     "metadata": {},
     "output_type": "display_data"
    },
    {
     "name": "stdout",
     "output_type": "stream",
     "text": [
      "Model #224\n",
      "Best ROC-AUC: 0.7674\n",
      "Best params: OrderedDict([('colsample_bytree', 1.0), ('learning_rate', 0.14236425047083945), ('max_bin', 377), ('max_depth', 2), ('min_child_samples', 0), ('min_data_in_leaf', 41), ('n_estimators', 20), ('num_leaves', 127), ('reg_alpha', 2.8545609694754344e-05), ('reg_lambda', 1.0), ('scale_pos_weight', 67)])\n",
      "\n"
     ]
    },
    {
     "data": {
      "application/javascript": [
       "\n",
       "        if (window._pyforest_update_imports_cell) { window._pyforest_update_imports_cell('import numpy as np'); }\n",
       "    "
      ],
      "text/plain": [
       "<IPython.core.display.Javascript object>"
      ]
     },
     "metadata": {},
     "output_type": "display_data"
    },
    {
     "name": "stdout",
     "output_type": "stream",
     "text": [
      "Model #225\n",
      "Best ROC-AUC: 0.7674\n",
      "Best params: OrderedDict([('colsample_bytree', 1.0), ('learning_rate', 0.14236425047083945), ('max_bin', 377), ('max_depth', 2), ('min_child_samples', 0), ('min_data_in_leaf', 41), ('n_estimators', 20), ('num_leaves', 127), ('reg_alpha', 2.8545609694754344e-05), ('reg_lambda', 1.0), ('scale_pos_weight', 67)])\n",
      "\n"
     ]
    },
    {
     "data": {
      "application/javascript": [
       "\n",
       "        if (window._pyforest_update_imports_cell) { window._pyforest_update_imports_cell('import numpy as np'); }\n",
       "    "
      ],
      "text/plain": [
       "<IPython.core.display.Javascript object>"
      ]
     },
     "metadata": {},
     "output_type": "display_data"
    },
    {
     "name": "stdout",
     "output_type": "stream",
     "text": [
      "Model #226\n",
      "Best ROC-AUC: 0.7674\n",
      "Best params: OrderedDict([('colsample_bytree', 1.0), ('learning_rate', 0.14236425047083945), ('max_bin', 377), ('max_depth', 2), ('min_child_samples', 0), ('min_data_in_leaf', 41), ('n_estimators', 20), ('num_leaves', 127), ('reg_alpha', 2.8545609694754344e-05), ('reg_lambda', 1.0), ('scale_pos_weight', 67)])\n",
      "\n"
     ]
    },
    {
     "data": {
      "application/javascript": [
       "\n",
       "        if (window._pyforest_update_imports_cell) { window._pyforest_update_imports_cell('import numpy as np'); }\n",
       "    "
      ],
      "text/plain": [
       "<IPython.core.display.Javascript object>"
      ]
     },
     "metadata": {},
     "output_type": "display_data"
    },
    {
     "name": "stdout",
     "output_type": "stream",
     "text": [
      "Model #227\n",
      "Best ROC-AUC: 0.7674\n",
      "Best params: OrderedDict([('colsample_bytree', 1.0), ('learning_rate', 0.14236425047083945), ('max_bin', 377), ('max_depth', 2), ('min_child_samples', 0), ('min_data_in_leaf', 41), ('n_estimators', 20), ('num_leaves', 127), ('reg_alpha', 2.8545609694754344e-05), ('reg_lambda', 1.0), ('scale_pos_weight', 67)])\n",
      "\n"
     ]
    },
    {
     "data": {
      "application/javascript": [
       "\n",
       "        if (window._pyforest_update_imports_cell) { window._pyforest_update_imports_cell('import numpy as np'); }\n",
       "    "
      ],
      "text/plain": [
       "<IPython.core.display.Javascript object>"
      ]
     },
     "metadata": {},
     "output_type": "display_data"
    },
    {
     "name": "stdout",
     "output_type": "stream",
     "text": [
      "Model #228\n",
      "Best ROC-AUC: 0.7674\n",
      "Best params: OrderedDict([('colsample_bytree', 1.0), ('learning_rate', 0.14236425047083945), ('max_bin', 377), ('max_depth', 2), ('min_child_samples', 0), ('min_data_in_leaf', 41), ('n_estimators', 20), ('num_leaves', 127), ('reg_alpha', 2.8545609694754344e-05), ('reg_lambda', 1.0), ('scale_pos_weight', 67)])\n",
      "\n"
     ]
    },
    {
     "data": {
      "application/javascript": [
       "\n",
       "        if (window._pyforest_update_imports_cell) { window._pyforest_update_imports_cell('import numpy as np'); }\n",
       "    "
      ],
      "text/plain": [
       "<IPython.core.display.Javascript object>"
      ]
     },
     "metadata": {},
     "output_type": "display_data"
    },
    {
     "name": "stdout",
     "output_type": "stream",
     "text": [
      "Model #229\n",
      "Best ROC-AUC: 0.7674\n",
      "Best params: OrderedDict([('colsample_bytree', 1.0), ('learning_rate', 0.14236425047083945), ('max_bin', 377), ('max_depth', 2), ('min_child_samples', 0), ('min_data_in_leaf', 41), ('n_estimators', 20), ('num_leaves', 127), ('reg_alpha', 2.8545609694754344e-05), ('reg_lambda', 1.0), ('scale_pos_weight', 67)])\n",
      "\n"
     ]
    },
    {
     "data": {
      "application/javascript": [
       "\n",
       "        if (window._pyforest_update_imports_cell) { window._pyforest_update_imports_cell('import numpy as np'); }\n",
       "    "
      ],
      "text/plain": [
       "<IPython.core.display.Javascript object>"
      ]
     },
     "metadata": {},
     "output_type": "display_data"
    },
    {
     "name": "stdout",
     "output_type": "stream",
     "text": [
      "Model #230\n",
      "Best ROC-AUC: 0.7674\n",
      "Best params: OrderedDict([('colsample_bytree', 1.0), ('learning_rate', 0.14236425047083945), ('max_bin', 377), ('max_depth', 2), ('min_child_samples', 0), ('min_data_in_leaf', 41), ('n_estimators', 20), ('num_leaves', 127), ('reg_alpha', 2.8545609694754344e-05), ('reg_lambda', 1.0), ('scale_pos_weight', 67)])\n",
      "\n"
     ]
    },
    {
     "data": {
      "application/javascript": [
       "\n",
       "        if (window._pyforest_update_imports_cell) { window._pyforest_update_imports_cell('import numpy as np'); }\n",
       "    "
      ],
      "text/plain": [
       "<IPython.core.display.Javascript object>"
      ]
     },
     "metadata": {},
     "output_type": "display_data"
    },
    {
     "name": "stdout",
     "output_type": "stream",
     "text": [
      "Model #231\n",
      "Best ROC-AUC: 0.7674\n",
      "Best params: OrderedDict([('colsample_bytree', 1.0), ('learning_rate', 0.14236425047083945), ('max_bin', 377), ('max_depth', 2), ('min_child_samples', 0), ('min_data_in_leaf', 41), ('n_estimators', 20), ('num_leaves', 127), ('reg_alpha', 2.8545609694754344e-05), ('reg_lambda', 1.0), ('scale_pos_weight', 67)])\n",
      "\n"
     ]
    },
    {
     "data": {
      "application/javascript": [
       "\n",
       "        if (window._pyforest_update_imports_cell) { window._pyforest_update_imports_cell('import numpy as np'); }\n",
       "    "
      ],
      "text/plain": [
       "<IPython.core.display.Javascript object>"
      ]
     },
     "metadata": {},
     "output_type": "display_data"
    },
    {
     "name": "stdout",
     "output_type": "stream",
     "text": [
      "Model #232\n",
      "Best ROC-AUC: 0.7674\n",
      "Best params: OrderedDict([('colsample_bytree', 1.0), ('learning_rate', 0.14236425047083945), ('max_bin', 377), ('max_depth', 2), ('min_child_samples', 0), ('min_data_in_leaf', 41), ('n_estimators', 20), ('num_leaves', 127), ('reg_alpha', 2.8545609694754344e-05), ('reg_lambda', 1.0), ('scale_pos_weight', 67)])\n",
      "\n"
     ]
    },
    {
     "data": {
      "application/javascript": [
       "\n",
       "        if (window._pyforest_update_imports_cell) { window._pyforest_update_imports_cell('import numpy as np'); }\n",
       "    "
      ],
      "text/plain": [
       "<IPython.core.display.Javascript object>"
      ]
     },
     "metadata": {},
     "output_type": "display_data"
    },
    {
     "name": "stdout",
     "output_type": "stream",
     "text": [
      "Model #233\n",
      "Best ROC-AUC: 0.7674\n",
      "Best params: OrderedDict([('colsample_bytree', 1.0), ('learning_rate', 0.14236425047083945), ('max_bin', 377), ('max_depth', 2), ('min_child_samples', 0), ('min_data_in_leaf', 41), ('n_estimators', 20), ('num_leaves', 127), ('reg_alpha', 2.8545609694754344e-05), ('reg_lambda', 1.0), ('scale_pos_weight', 67)])\n",
      "\n"
     ]
    },
    {
     "data": {
      "application/javascript": [
       "\n",
       "        if (window._pyforest_update_imports_cell) { window._pyforest_update_imports_cell('import numpy as np'); }\n",
       "    "
      ],
      "text/plain": [
       "<IPython.core.display.Javascript object>"
      ]
     },
     "metadata": {},
     "output_type": "display_data"
    },
    {
     "name": "stdout",
     "output_type": "stream",
     "text": [
      "Model #234\n",
      "Best ROC-AUC: 0.7674\n",
      "Best params: OrderedDict([('colsample_bytree', 1.0), ('learning_rate', 0.14236425047083945), ('max_bin', 377), ('max_depth', 2), ('min_child_samples', 0), ('min_data_in_leaf', 41), ('n_estimators', 20), ('num_leaves', 127), ('reg_alpha', 2.8545609694754344e-05), ('reg_lambda', 1.0), ('scale_pos_weight', 67)])\n",
      "\n"
     ]
    },
    {
     "data": {
      "application/javascript": [
       "\n",
       "        if (window._pyforest_update_imports_cell) { window._pyforest_update_imports_cell('import numpy as np'); }\n",
       "    "
      ],
      "text/plain": [
       "<IPython.core.display.Javascript object>"
      ]
     },
     "metadata": {},
     "output_type": "display_data"
    },
    {
     "name": "stdout",
     "output_type": "stream",
     "text": [
      "Model #235\n",
      "Best ROC-AUC: 0.7674\n",
      "Best params: OrderedDict([('colsample_bytree', 1.0), ('learning_rate', 0.14236425047083945), ('max_bin', 377), ('max_depth', 2), ('min_child_samples', 0), ('min_data_in_leaf', 41), ('n_estimators', 20), ('num_leaves', 127), ('reg_alpha', 2.8545609694754344e-05), ('reg_lambda', 1.0), ('scale_pos_weight', 67)])\n",
      "\n"
     ]
    },
    {
     "data": {
      "application/javascript": [
       "\n",
       "        if (window._pyforest_update_imports_cell) { window._pyforest_update_imports_cell('import numpy as np'); }\n",
       "    "
      ],
      "text/plain": [
       "<IPython.core.display.Javascript object>"
      ]
     },
     "metadata": {},
     "output_type": "display_data"
    },
    {
     "name": "stdout",
     "output_type": "stream",
     "text": [
      "Model #236\n",
      "Best ROC-AUC: 0.7674\n",
      "Best params: OrderedDict([('colsample_bytree', 1.0), ('learning_rate', 0.14236425047083945), ('max_bin', 377), ('max_depth', 2), ('min_child_samples', 0), ('min_data_in_leaf', 41), ('n_estimators', 20), ('num_leaves', 127), ('reg_alpha', 2.8545609694754344e-05), ('reg_lambda', 1.0), ('scale_pos_weight', 67)])\n",
      "\n"
     ]
    },
    {
     "data": {
      "application/javascript": [
       "\n",
       "        if (window._pyforest_update_imports_cell) { window._pyforest_update_imports_cell('import numpy as np'); }\n",
       "    "
      ],
      "text/plain": [
       "<IPython.core.display.Javascript object>"
      ]
     },
     "metadata": {},
     "output_type": "display_data"
    },
    {
     "name": "stdout",
     "output_type": "stream",
     "text": [
      "Model #237\n",
      "Best ROC-AUC: 0.7674\n",
      "Best params: OrderedDict([('colsample_bytree', 1.0), ('learning_rate', 0.14236425047083945), ('max_bin', 377), ('max_depth', 2), ('min_child_samples', 0), ('min_data_in_leaf', 41), ('n_estimators', 20), ('num_leaves', 127), ('reg_alpha', 2.8545609694754344e-05), ('reg_lambda', 1.0), ('scale_pos_weight', 67)])\n",
      "\n"
     ]
    },
    {
     "data": {
      "application/javascript": [
       "\n",
       "        if (window._pyforest_update_imports_cell) { window._pyforest_update_imports_cell('import numpy as np'); }\n",
       "    "
      ],
      "text/plain": [
       "<IPython.core.display.Javascript object>"
      ]
     },
     "metadata": {},
     "output_type": "display_data"
    },
    {
     "name": "stdout",
     "output_type": "stream",
     "text": [
      "Model #238\n",
      "Best ROC-AUC: 0.7674\n",
      "Best params: OrderedDict([('colsample_bytree', 1.0), ('learning_rate', 0.14236425047083945), ('max_bin', 377), ('max_depth', 2), ('min_child_samples', 0), ('min_data_in_leaf', 41), ('n_estimators', 20), ('num_leaves', 127), ('reg_alpha', 2.8545609694754344e-05), ('reg_lambda', 1.0), ('scale_pos_weight', 67)])\n",
      "\n"
     ]
    },
    {
     "data": {
      "application/javascript": [
       "\n",
       "        if (window._pyforest_update_imports_cell) { window._pyforest_update_imports_cell('import numpy as np'); }\n",
       "    "
      ],
      "text/plain": [
       "<IPython.core.display.Javascript object>"
      ]
     },
     "metadata": {},
     "output_type": "display_data"
    },
    {
     "name": "stdout",
     "output_type": "stream",
     "text": [
      "Model #239\n",
      "Best ROC-AUC: 0.7674\n",
      "Best params: OrderedDict([('colsample_bytree', 1.0), ('learning_rate', 0.14236425047083945), ('max_bin', 377), ('max_depth', 2), ('min_child_samples', 0), ('min_data_in_leaf', 41), ('n_estimators', 20), ('num_leaves', 127), ('reg_alpha', 2.8545609694754344e-05), ('reg_lambda', 1.0), ('scale_pos_weight', 67)])\n",
      "\n"
     ]
    },
    {
     "data": {
      "application/javascript": [
       "\n",
       "        if (window._pyforest_update_imports_cell) { window._pyforest_update_imports_cell('import numpy as np'); }\n",
       "    "
      ],
      "text/plain": [
       "<IPython.core.display.Javascript object>"
      ]
     },
     "metadata": {},
     "output_type": "display_data"
    },
    {
     "name": "stdout",
     "output_type": "stream",
     "text": [
      "Model #240\n",
      "Best ROC-AUC: 0.7674\n",
      "Best params: OrderedDict([('colsample_bytree', 1.0), ('learning_rate', 0.14236425047083945), ('max_bin', 377), ('max_depth', 2), ('min_child_samples', 0), ('min_data_in_leaf', 41), ('n_estimators', 20), ('num_leaves', 127), ('reg_alpha', 2.8545609694754344e-05), ('reg_lambda', 1.0), ('scale_pos_weight', 67)])\n",
      "\n"
     ]
    },
    {
     "data": {
      "application/javascript": [
       "\n",
       "        if (window._pyforest_update_imports_cell) { window._pyforest_update_imports_cell('import numpy as np'); }\n",
       "    "
      ],
      "text/plain": [
       "<IPython.core.display.Javascript object>"
      ]
     },
     "metadata": {},
     "output_type": "display_data"
    },
    {
     "name": "stdout",
     "output_type": "stream",
     "text": [
      "Model #241\n",
      "Best ROC-AUC: 0.7674\n",
      "Best params: OrderedDict([('colsample_bytree', 1.0), ('learning_rate', 0.14236425047083945), ('max_bin', 377), ('max_depth', 2), ('min_child_samples', 0), ('min_data_in_leaf', 41), ('n_estimators', 20), ('num_leaves', 127), ('reg_alpha', 2.8545609694754344e-05), ('reg_lambda', 1.0), ('scale_pos_weight', 67)])\n",
      "\n"
     ]
    },
    {
     "data": {
      "application/javascript": [
       "\n",
       "        if (window._pyforest_update_imports_cell) { window._pyforest_update_imports_cell('import numpy as np'); }\n",
       "    "
      ],
      "text/plain": [
       "<IPython.core.display.Javascript object>"
      ]
     },
     "metadata": {},
     "output_type": "display_data"
    },
    {
     "name": "stdout",
     "output_type": "stream",
     "text": [
      "Model #242\n",
      "Best ROC-AUC: 0.7674\n",
      "Best params: OrderedDict([('colsample_bytree', 1.0), ('learning_rate', 0.14236425047083945), ('max_bin', 377), ('max_depth', 2), ('min_child_samples', 0), ('min_data_in_leaf', 41), ('n_estimators', 20), ('num_leaves', 127), ('reg_alpha', 2.8545609694754344e-05), ('reg_lambda', 1.0), ('scale_pos_weight', 67)])\n",
      "\n"
     ]
    },
    {
     "data": {
      "application/javascript": [
       "\n",
       "        if (window._pyforest_update_imports_cell) { window._pyforest_update_imports_cell('import numpy as np'); }\n",
       "    "
      ],
      "text/plain": [
       "<IPython.core.display.Javascript object>"
      ]
     },
     "metadata": {},
     "output_type": "display_data"
    },
    {
     "name": "stdout",
     "output_type": "stream",
     "text": [
      "Model #243\n",
      "Best ROC-AUC: 0.7674\n",
      "Best params: OrderedDict([('colsample_bytree', 1.0), ('learning_rate', 0.14236425047083945), ('max_bin', 377), ('max_depth', 2), ('min_child_samples', 0), ('min_data_in_leaf', 41), ('n_estimators', 20), ('num_leaves', 127), ('reg_alpha', 2.8545609694754344e-05), ('reg_lambda', 1.0), ('scale_pos_weight', 67)])\n",
      "\n"
     ]
    },
    {
     "data": {
      "application/javascript": [
       "\n",
       "        if (window._pyforest_update_imports_cell) { window._pyforest_update_imports_cell('import numpy as np'); }\n",
       "    "
      ],
      "text/plain": [
       "<IPython.core.display.Javascript object>"
      ]
     },
     "metadata": {},
     "output_type": "display_data"
    },
    {
     "name": "stdout",
     "output_type": "stream",
     "text": [
      "Model #244\n",
      "Best ROC-AUC: 0.7674\n",
      "Best params: OrderedDict([('colsample_bytree', 1.0), ('learning_rate', 0.14236425047083945), ('max_bin', 377), ('max_depth', 2), ('min_child_samples', 0), ('min_data_in_leaf', 41), ('n_estimators', 20), ('num_leaves', 127), ('reg_alpha', 2.8545609694754344e-05), ('reg_lambda', 1.0), ('scale_pos_weight', 67)])\n",
      "\n"
     ]
    },
    {
     "data": {
      "application/javascript": [
       "\n",
       "        if (window._pyforest_update_imports_cell) { window._pyforest_update_imports_cell('import numpy as np'); }\n",
       "    "
      ],
      "text/plain": [
       "<IPython.core.display.Javascript object>"
      ]
     },
     "metadata": {},
     "output_type": "display_data"
    },
    {
     "name": "stdout",
     "output_type": "stream",
     "text": [
      "Model #245\n",
      "Best ROC-AUC: 0.7674\n",
      "Best params: OrderedDict([('colsample_bytree', 1.0), ('learning_rate', 0.14236425047083945), ('max_bin', 377), ('max_depth', 2), ('min_child_samples', 0), ('min_data_in_leaf', 41), ('n_estimators', 20), ('num_leaves', 127), ('reg_alpha', 2.8545609694754344e-05), ('reg_lambda', 1.0), ('scale_pos_weight', 67)])\n",
      "\n"
     ]
    },
    {
     "data": {
      "application/javascript": [
       "\n",
       "        if (window._pyforest_update_imports_cell) { window._pyforest_update_imports_cell('import numpy as np'); }\n",
       "    "
      ],
      "text/plain": [
       "<IPython.core.display.Javascript object>"
      ]
     },
     "metadata": {},
     "output_type": "display_data"
    },
    {
     "name": "stdout",
     "output_type": "stream",
     "text": [
      "Model #246\n",
      "Best ROC-AUC: 0.7674\n",
      "Best params: OrderedDict([('colsample_bytree', 1.0), ('learning_rate', 0.14236425047083945), ('max_bin', 377), ('max_depth', 2), ('min_child_samples', 0), ('min_data_in_leaf', 41), ('n_estimators', 20), ('num_leaves', 127), ('reg_alpha', 2.8545609694754344e-05), ('reg_lambda', 1.0), ('scale_pos_weight', 67)])\n",
      "\n"
     ]
    },
    {
     "data": {
      "application/javascript": [
       "\n",
       "        if (window._pyforest_update_imports_cell) { window._pyforest_update_imports_cell('import numpy as np'); }\n",
       "    "
      ],
      "text/plain": [
       "<IPython.core.display.Javascript object>"
      ]
     },
     "metadata": {},
     "output_type": "display_data"
    },
    {
     "name": "stdout",
     "output_type": "stream",
     "text": [
      "Model #247\n",
      "Best ROC-AUC: 0.7674\n",
      "Best params: OrderedDict([('colsample_bytree', 1.0), ('learning_rate', 0.14236425047083945), ('max_bin', 377), ('max_depth', 2), ('min_child_samples', 0), ('min_data_in_leaf', 41), ('n_estimators', 20), ('num_leaves', 127), ('reg_alpha', 2.8545609694754344e-05), ('reg_lambda', 1.0), ('scale_pos_weight', 67)])\n",
      "\n"
     ]
    },
    {
     "data": {
      "application/javascript": [
       "\n",
       "        if (window._pyforest_update_imports_cell) { window._pyforest_update_imports_cell('import numpy as np'); }\n",
       "    "
      ],
      "text/plain": [
       "<IPython.core.display.Javascript object>"
      ]
     },
     "metadata": {},
     "output_type": "display_data"
    },
    {
     "name": "stdout",
     "output_type": "stream",
     "text": [
      "Model #248\n",
      "Best ROC-AUC: 0.7674\n",
      "Best params: OrderedDict([('colsample_bytree', 1.0), ('learning_rate', 0.14236425047083945), ('max_bin', 377), ('max_depth', 2), ('min_child_samples', 0), ('min_data_in_leaf', 41), ('n_estimators', 20), ('num_leaves', 127), ('reg_alpha', 2.8545609694754344e-05), ('reg_lambda', 1.0), ('scale_pos_weight', 67)])\n",
      "\n"
     ]
    },
    {
     "data": {
      "application/javascript": [
       "\n",
       "        if (window._pyforest_update_imports_cell) { window._pyforest_update_imports_cell('import numpy as np'); }\n",
       "    "
      ],
      "text/plain": [
       "<IPython.core.display.Javascript object>"
      ]
     },
     "metadata": {},
     "output_type": "display_data"
    },
    {
     "name": "stdout",
     "output_type": "stream",
     "text": [
      "Model #249\n",
      "Best ROC-AUC: 0.7674\n",
      "Best params: OrderedDict([('colsample_bytree', 1.0), ('learning_rate', 0.14236425047083945), ('max_bin', 377), ('max_depth', 2), ('min_child_samples', 0), ('min_data_in_leaf', 41), ('n_estimators', 20), ('num_leaves', 127), ('reg_alpha', 2.8545609694754344e-05), ('reg_lambda', 1.0), ('scale_pos_weight', 67)])\n",
      "\n"
     ]
    },
    {
     "data": {
      "application/javascript": [
       "\n",
       "        if (window._pyforest_update_imports_cell) { window._pyforest_update_imports_cell('import numpy as np'); }\n",
       "    "
      ],
      "text/plain": [
       "<IPython.core.display.Javascript object>"
      ]
     },
     "metadata": {},
     "output_type": "display_data"
    },
    {
     "name": "stdout",
     "output_type": "stream",
     "text": [
      "Model #250\n",
      "Best ROC-AUC: 0.7674\n",
      "Best params: OrderedDict([('colsample_bytree', 1.0), ('learning_rate', 0.14236425047083945), ('max_bin', 377), ('max_depth', 2), ('min_child_samples', 0), ('min_data_in_leaf', 41), ('n_estimators', 20), ('num_leaves', 127), ('reg_alpha', 2.8545609694754344e-05), ('reg_lambda', 1.0), ('scale_pos_weight', 67)])\n",
      "\n"
     ]
    },
    {
     "data": {
      "application/javascript": [
       "\n",
       "        if (window._pyforest_update_imports_cell) { window._pyforest_update_imports_cell('import numpy as np'); }\n",
       "    "
      ],
      "text/plain": [
       "<IPython.core.display.Javascript object>"
      ]
     },
     "metadata": {},
     "output_type": "display_data"
    },
    {
     "name": "stdout",
     "output_type": "stream",
     "text": [
      "Model #251\n",
      "Best ROC-AUC: 0.7674\n",
      "Best params: OrderedDict([('colsample_bytree', 1.0), ('learning_rate', 0.14236425047083945), ('max_bin', 377), ('max_depth', 2), ('min_child_samples', 0), ('min_data_in_leaf', 41), ('n_estimators', 20), ('num_leaves', 127), ('reg_alpha', 2.8545609694754344e-05), ('reg_lambda', 1.0), ('scale_pos_weight', 67)])\n",
      "\n"
     ]
    },
    {
     "data": {
      "application/javascript": [
       "\n",
       "        if (window._pyforest_update_imports_cell) { window._pyforest_update_imports_cell('import numpy as np'); }\n",
       "    "
      ],
      "text/plain": [
       "<IPython.core.display.Javascript object>"
      ]
     },
     "metadata": {},
     "output_type": "display_data"
    },
    {
     "name": "stdout",
     "output_type": "stream",
     "text": [
      "Model #252\n",
      "Best ROC-AUC: 0.7674\n",
      "Best params: OrderedDict([('colsample_bytree', 1.0), ('learning_rate', 0.14236425047083945), ('max_bin', 377), ('max_depth', 2), ('min_child_samples', 0), ('min_data_in_leaf', 41), ('n_estimators', 20), ('num_leaves', 127), ('reg_alpha', 2.8545609694754344e-05), ('reg_lambda', 1.0), ('scale_pos_weight', 67)])\n",
      "\n"
     ]
    },
    {
     "data": {
      "application/javascript": [
       "\n",
       "        if (window._pyforest_update_imports_cell) { window._pyforest_update_imports_cell('import numpy as np'); }\n",
       "    "
      ],
      "text/plain": [
       "<IPython.core.display.Javascript object>"
      ]
     },
     "metadata": {},
     "output_type": "display_data"
    },
    {
     "name": "stdout",
     "output_type": "stream",
     "text": [
      "Model #253\n",
      "Best ROC-AUC: 0.7674\n",
      "Best params: OrderedDict([('colsample_bytree', 1.0), ('learning_rate', 0.14236425047083945), ('max_bin', 377), ('max_depth', 2), ('min_child_samples', 0), ('min_data_in_leaf', 41), ('n_estimators', 20), ('num_leaves', 127), ('reg_alpha', 2.8545609694754344e-05), ('reg_lambda', 1.0), ('scale_pos_weight', 67)])\n",
      "\n"
     ]
    },
    {
     "data": {
      "application/javascript": [
       "\n",
       "        if (window._pyforest_update_imports_cell) { window._pyforest_update_imports_cell('import numpy as np'); }\n",
       "    "
      ],
      "text/plain": [
       "<IPython.core.display.Javascript object>"
      ]
     },
     "metadata": {},
     "output_type": "display_data"
    },
    {
     "name": "stdout",
     "output_type": "stream",
     "text": [
      "Model #254\n",
      "Best ROC-AUC: 0.7674\n",
      "Best params: OrderedDict([('colsample_bytree', 1.0), ('learning_rate', 0.14236425047083945), ('max_bin', 377), ('max_depth', 2), ('min_child_samples', 0), ('min_data_in_leaf', 41), ('n_estimators', 20), ('num_leaves', 127), ('reg_alpha', 2.8545609694754344e-05), ('reg_lambda', 1.0), ('scale_pos_weight', 67)])\n",
      "\n"
     ]
    },
    {
     "data": {
      "application/javascript": [
       "\n",
       "        if (window._pyforest_update_imports_cell) { window._pyforest_update_imports_cell('import numpy as np'); }\n",
       "    "
      ],
      "text/plain": [
       "<IPython.core.display.Javascript object>"
      ]
     },
     "metadata": {},
     "output_type": "display_data"
    },
    {
     "name": "stdout",
     "output_type": "stream",
     "text": [
      "Model #255\n",
      "Best ROC-AUC: 0.7674\n",
      "Best params: OrderedDict([('colsample_bytree', 1.0), ('learning_rate', 0.14236425047083945), ('max_bin', 377), ('max_depth', 2), ('min_child_samples', 0), ('min_data_in_leaf', 41), ('n_estimators', 20), ('num_leaves', 127), ('reg_alpha', 2.8545609694754344e-05), ('reg_lambda', 1.0), ('scale_pos_weight', 67)])\n",
      "\n"
     ]
    },
    {
     "data": {
      "application/javascript": [
       "\n",
       "        if (window._pyforest_update_imports_cell) { window._pyforest_update_imports_cell('import numpy as np'); }\n",
       "    "
      ],
      "text/plain": [
       "<IPython.core.display.Javascript object>"
      ]
     },
     "metadata": {},
     "output_type": "display_data"
    },
    {
     "name": "stdout",
     "output_type": "stream",
     "text": [
      "Model #256\n",
      "Best ROC-AUC: 0.7674\n",
      "Best params: OrderedDict([('colsample_bytree', 1.0), ('learning_rate', 0.14236425047083945), ('max_bin', 377), ('max_depth', 2), ('min_child_samples', 0), ('min_data_in_leaf', 41), ('n_estimators', 20), ('num_leaves', 127), ('reg_alpha', 2.8545609694754344e-05), ('reg_lambda', 1.0), ('scale_pos_weight', 67)])\n",
      "\n"
     ]
    },
    {
     "data": {
      "application/javascript": [
       "\n",
       "        if (window._pyforest_update_imports_cell) { window._pyforest_update_imports_cell('import numpy as np'); }\n",
       "    "
      ],
      "text/plain": [
       "<IPython.core.display.Javascript object>"
      ]
     },
     "metadata": {},
     "output_type": "display_data"
    },
    {
     "name": "stdout",
     "output_type": "stream",
     "text": [
      "Model #257\n",
      "Best ROC-AUC: 0.7674\n",
      "Best params: OrderedDict([('colsample_bytree', 1.0), ('learning_rate', 0.14236425047083945), ('max_bin', 377), ('max_depth', 2), ('min_child_samples', 0), ('min_data_in_leaf', 41), ('n_estimators', 20), ('num_leaves', 127), ('reg_alpha', 2.8545609694754344e-05), ('reg_lambda', 1.0), ('scale_pos_weight', 67)])\n",
      "\n"
     ]
    },
    {
     "data": {
      "application/javascript": [
       "\n",
       "        if (window._pyforest_update_imports_cell) { window._pyforest_update_imports_cell('import numpy as np'); }\n",
       "    "
      ],
      "text/plain": [
       "<IPython.core.display.Javascript object>"
      ]
     },
     "metadata": {},
     "output_type": "display_data"
    },
    {
     "name": "stdout",
     "output_type": "stream",
     "text": [
      "Model #258\n",
      "Best ROC-AUC: 0.7674\n",
      "Best params: OrderedDict([('colsample_bytree', 1.0), ('learning_rate', 0.14236425047083945), ('max_bin', 377), ('max_depth', 2), ('min_child_samples', 0), ('min_data_in_leaf', 41), ('n_estimators', 20), ('num_leaves', 127), ('reg_alpha', 2.8545609694754344e-05), ('reg_lambda', 1.0), ('scale_pos_weight', 67)])\n",
      "\n"
     ]
    },
    {
     "data": {
      "application/javascript": [
       "\n",
       "        if (window._pyforest_update_imports_cell) { window._pyforest_update_imports_cell('import numpy as np'); }\n",
       "    "
      ],
      "text/plain": [
       "<IPython.core.display.Javascript object>"
      ]
     },
     "metadata": {},
     "output_type": "display_data"
    },
    {
     "name": "stdout",
     "output_type": "stream",
     "text": [
      "Model #259\n",
      "Best ROC-AUC: 0.7674\n",
      "Best params: OrderedDict([('colsample_bytree', 1.0), ('learning_rate', 0.14236425047083945), ('max_bin', 377), ('max_depth', 2), ('min_child_samples', 0), ('min_data_in_leaf', 41), ('n_estimators', 20), ('num_leaves', 127), ('reg_alpha', 2.8545609694754344e-05), ('reg_lambda', 1.0), ('scale_pos_weight', 67)])\n",
      "\n"
     ]
    },
    {
     "data": {
      "application/javascript": [
       "\n",
       "        if (window._pyforest_update_imports_cell) { window._pyforest_update_imports_cell('import numpy as np'); }\n",
       "    "
      ],
      "text/plain": [
       "<IPython.core.display.Javascript object>"
      ]
     },
     "metadata": {},
     "output_type": "display_data"
    },
    {
     "name": "stdout",
     "output_type": "stream",
     "text": [
      "Model #260\n",
      "Best ROC-AUC: 0.7674\n",
      "Best params: OrderedDict([('colsample_bytree', 1.0), ('learning_rate', 0.14236425047083945), ('max_bin', 377), ('max_depth', 2), ('min_child_samples', 0), ('min_data_in_leaf', 41), ('n_estimators', 20), ('num_leaves', 127), ('reg_alpha', 2.8545609694754344e-05), ('reg_lambda', 1.0), ('scale_pos_weight', 67)])\n",
      "\n"
     ]
    },
    {
     "data": {
      "application/javascript": [
       "\n",
       "        if (window._pyforest_update_imports_cell) { window._pyforest_update_imports_cell('import numpy as np'); }\n",
       "    "
      ],
      "text/plain": [
       "<IPython.core.display.Javascript object>"
      ]
     },
     "metadata": {},
     "output_type": "display_data"
    },
    {
     "name": "stdout",
     "output_type": "stream",
     "text": [
      "Model #261\n",
      "Best ROC-AUC: 0.7674\n",
      "Best params: OrderedDict([('colsample_bytree', 1.0), ('learning_rate', 0.14236425047083945), ('max_bin', 377), ('max_depth', 2), ('min_child_samples', 0), ('min_data_in_leaf', 41), ('n_estimators', 20), ('num_leaves', 127), ('reg_alpha', 2.8545609694754344e-05), ('reg_lambda', 1.0), ('scale_pos_weight', 67)])\n",
      "\n"
     ]
    },
    {
     "data": {
      "application/javascript": [
       "\n",
       "        if (window._pyforest_update_imports_cell) { window._pyforest_update_imports_cell('import numpy as np'); }\n",
       "    "
      ],
      "text/plain": [
       "<IPython.core.display.Javascript object>"
      ]
     },
     "metadata": {},
     "output_type": "display_data"
    },
    {
     "name": "stdout",
     "output_type": "stream",
     "text": [
      "Model #262\n",
      "Best ROC-AUC: 0.7674\n",
      "Best params: OrderedDict([('colsample_bytree', 1.0), ('learning_rate', 0.14236425047083945), ('max_bin', 377), ('max_depth', 2), ('min_child_samples', 0), ('min_data_in_leaf', 41), ('n_estimators', 20), ('num_leaves', 127), ('reg_alpha', 2.8545609694754344e-05), ('reg_lambda', 1.0), ('scale_pos_weight', 67)])\n",
      "\n"
     ]
    },
    {
     "data": {
      "application/javascript": [
       "\n",
       "        if (window._pyforest_update_imports_cell) { window._pyforest_update_imports_cell('import numpy as np'); }\n",
       "    "
      ],
      "text/plain": [
       "<IPython.core.display.Javascript object>"
      ]
     },
     "metadata": {},
     "output_type": "display_data"
    },
    {
     "name": "stdout",
     "output_type": "stream",
     "text": [
      "Model #263\n",
      "Best ROC-AUC: 0.7674\n",
      "Best params: OrderedDict([('colsample_bytree', 1.0), ('learning_rate', 0.14236425047083945), ('max_bin', 377), ('max_depth', 2), ('min_child_samples', 0), ('min_data_in_leaf', 41), ('n_estimators', 20), ('num_leaves', 127), ('reg_alpha', 2.8545609694754344e-05), ('reg_lambda', 1.0), ('scale_pos_weight', 67)])\n",
      "\n"
     ]
    },
    {
     "data": {
      "application/javascript": [
       "\n",
       "        if (window._pyforest_update_imports_cell) { window._pyforest_update_imports_cell('import numpy as np'); }\n",
       "    "
      ],
      "text/plain": [
       "<IPython.core.display.Javascript object>"
      ]
     },
     "metadata": {},
     "output_type": "display_data"
    },
    {
     "name": "stdout",
     "output_type": "stream",
     "text": [
      "Model #264\n",
      "Best ROC-AUC: 0.7674\n",
      "Best params: OrderedDict([('colsample_bytree', 1.0), ('learning_rate', 0.14236425047083945), ('max_bin', 377), ('max_depth', 2), ('min_child_samples', 0), ('min_data_in_leaf', 41), ('n_estimators', 20), ('num_leaves', 127), ('reg_alpha', 2.8545609694754344e-05), ('reg_lambda', 1.0), ('scale_pos_weight', 67)])\n",
      "\n"
     ]
    },
    {
     "data": {
      "application/javascript": [
       "\n",
       "        if (window._pyforest_update_imports_cell) { window._pyforest_update_imports_cell('import numpy as np'); }\n",
       "    "
      ],
      "text/plain": [
       "<IPython.core.display.Javascript object>"
      ]
     },
     "metadata": {},
     "output_type": "display_data"
    },
    {
     "name": "stdout",
     "output_type": "stream",
     "text": [
      "Model #265\n",
      "Best ROC-AUC: 0.7674\n",
      "Best params: OrderedDict([('colsample_bytree', 1.0), ('learning_rate', 0.14236425047083945), ('max_bin', 377), ('max_depth', 2), ('min_child_samples', 0), ('min_data_in_leaf', 41), ('n_estimators', 20), ('num_leaves', 127), ('reg_alpha', 2.8545609694754344e-05), ('reg_lambda', 1.0), ('scale_pos_weight', 67)])\n",
      "\n"
     ]
    },
    {
     "data": {
      "application/javascript": [
       "\n",
       "        if (window._pyforest_update_imports_cell) { window._pyforest_update_imports_cell('import numpy as np'); }\n",
       "    "
      ],
      "text/plain": [
       "<IPython.core.display.Javascript object>"
      ]
     },
     "metadata": {},
     "output_type": "display_data"
    },
    {
     "name": "stdout",
     "output_type": "stream",
     "text": [
      "Model #266\n",
      "Best ROC-AUC: 0.7674\n",
      "Best params: OrderedDict([('colsample_bytree', 1.0), ('learning_rate', 0.14236425047083945), ('max_bin', 377), ('max_depth', 2), ('min_child_samples', 0), ('min_data_in_leaf', 41), ('n_estimators', 20), ('num_leaves', 127), ('reg_alpha', 2.8545609694754344e-05), ('reg_lambda', 1.0), ('scale_pos_weight', 67)])\n",
      "\n"
     ]
    },
    {
     "data": {
      "application/javascript": [
       "\n",
       "        if (window._pyforest_update_imports_cell) { window._pyforest_update_imports_cell('import numpy as np'); }\n",
       "    "
      ],
      "text/plain": [
       "<IPython.core.display.Javascript object>"
      ]
     },
     "metadata": {},
     "output_type": "display_data"
    },
    {
     "name": "stdout",
     "output_type": "stream",
     "text": [
      "Model #267\n",
      "Best ROC-AUC: 0.7674\n",
      "Best params: OrderedDict([('colsample_bytree', 1.0), ('learning_rate', 0.14236425047083945), ('max_bin', 377), ('max_depth', 2), ('min_child_samples', 0), ('min_data_in_leaf', 41), ('n_estimators', 20), ('num_leaves', 127), ('reg_alpha', 2.8545609694754344e-05), ('reg_lambda', 1.0), ('scale_pos_weight', 67)])\n",
      "\n"
     ]
    },
    {
     "data": {
      "application/javascript": [
       "\n",
       "        if (window._pyforest_update_imports_cell) { window._pyforest_update_imports_cell('import numpy as np'); }\n",
       "    "
      ],
      "text/plain": [
       "<IPython.core.display.Javascript object>"
      ]
     },
     "metadata": {},
     "output_type": "display_data"
    },
    {
     "name": "stdout",
     "output_type": "stream",
     "text": [
      "Model #268\n",
      "Best ROC-AUC: 0.7674\n",
      "Best params: OrderedDict([('colsample_bytree', 1.0), ('learning_rate', 0.14236425047083945), ('max_bin', 377), ('max_depth', 2), ('min_child_samples', 0), ('min_data_in_leaf', 41), ('n_estimators', 20), ('num_leaves', 127), ('reg_alpha', 2.8545609694754344e-05), ('reg_lambda', 1.0), ('scale_pos_weight', 67)])\n",
      "\n"
     ]
    },
    {
     "data": {
      "application/javascript": [
       "\n",
       "        if (window._pyforest_update_imports_cell) { window._pyforest_update_imports_cell('import numpy as np'); }\n",
       "    "
      ],
      "text/plain": [
       "<IPython.core.display.Javascript object>"
      ]
     },
     "metadata": {},
     "output_type": "display_data"
    },
    {
     "name": "stdout",
     "output_type": "stream",
     "text": [
      "Model #269\n",
      "Best ROC-AUC: 0.7674\n",
      "Best params: OrderedDict([('colsample_bytree', 1.0), ('learning_rate', 0.14236425047083945), ('max_bin', 377), ('max_depth', 2), ('min_child_samples', 0), ('min_data_in_leaf', 41), ('n_estimators', 20), ('num_leaves', 127), ('reg_alpha', 2.8545609694754344e-05), ('reg_lambda', 1.0), ('scale_pos_weight', 67)])\n",
      "\n"
     ]
    },
    {
     "data": {
      "application/javascript": [
       "\n",
       "        if (window._pyforest_update_imports_cell) { window._pyforest_update_imports_cell('import numpy as np'); }\n",
       "    "
      ],
      "text/plain": [
       "<IPython.core.display.Javascript object>"
      ]
     },
     "metadata": {},
     "output_type": "display_data"
    },
    {
     "name": "stdout",
     "output_type": "stream",
     "text": [
      "Model #270\n",
      "Best ROC-AUC: 0.7677\n",
      "Best params: OrderedDict([('colsample_bytree', 1.0), ('learning_rate', 0.09611180875518194), ('max_bin', 493), ('max_depth', 2), ('min_child_samples', 47), ('min_data_in_leaf', 20), ('n_estimators', 20), ('num_leaves', 116), ('reg_alpha', 1.0), ('reg_lambda', 1e-09), ('scale_pos_weight', 70)])\n",
      "\n"
     ]
    },
    {
     "data": {
      "application/javascript": [
       "\n",
       "        if (window._pyforest_update_imports_cell) { window._pyforest_update_imports_cell('import numpy as np'); }\n",
       "    "
      ],
      "text/plain": [
       "<IPython.core.display.Javascript object>"
      ]
     },
     "metadata": {},
     "output_type": "display_data"
    },
    {
     "name": "stdout",
     "output_type": "stream",
     "text": [
      "Model #271\n",
      "Best ROC-AUC: 0.7677\n",
      "Best params: OrderedDict([('colsample_bytree', 1.0), ('learning_rate', 0.09611180875518194), ('max_bin', 493), ('max_depth', 2), ('min_child_samples', 47), ('min_data_in_leaf', 20), ('n_estimators', 20), ('num_leaves', 116), ('reg_alpha', 1.0), ('reg_lambda', 1e-09), ('scale_pos_weight', 70)])\n",
      "\n"
     ]
    },
    {
     "data": {
      "application/javascript": [
       "\n",
       "        if (window._pyforest_update_imports_cell) { window._pyforest_update_imports_cell('import numpy as np'); }\n",
       "    "
      ],
      "text/plain": [
       "<IPython.core.display.Javascript object>"
      ]
     },
     "metadata": {},
     "output_type": "display_data"
    },
    {
     "name": "stdout",
     "output_type": "stream",
     "text": [
      "Model #272\n",
      "Best ROC-AUC: 0.7677\n",
      "Best params: OrderedDict([('colsample_bytree', 1.0), ('learning_rate', 0.09611180875518194), ('max_bin', 493), ('max_depth', 2), ('min_child_samples', 47), ('min_data_in_leaf', 20), ('n_estimators', 20), ('num_leaves', 116), ('reg_alpha', 1.0), ('reg_lambda', 1e-09), ('scale_pos_weight', 70)])\n",
      "\n"
     ]
    },
    {
     "data": {
      "application/javascript": [
       "\n",
       "        if (window._pyforest_update_imports_cell) { window._pyforest_update_imports_cell('import numpy as np'); }\n",
       "    "
      ],
      "text/plain": [
       "<IPython.core.display.Javascript object>"
      ]
     },
     "metadata": {},
     "output_type": "display_data"
    },
    {
     "name": "stdout",
     "output_type": "stream",
     "text": [
      "Model #273\n",
      "Best ROC-AUC: 0.7677\n",
      "Best params: OrderedDict([('colsample_bytree', 1.0), ('learning_rate', 0.09611180875518194), ('max_bin', 493), ('max_depth', 2), ('min_child_samples', 47), ('min_data_in_leaf', 20), ('n_estimators', 20), ('num_leaves', 116), ('reg_alpha', 1.0), ('reg_lambda', 1e-09), ('scale_pos_weight', 70)])\n",
      "\n"
     ]
    },
    {
     "data": {
      "application/javascript": [
       "\n",
       "        if (window._pyforest_update_imports_cell) { window._pyforest_update_imports_cell('import numpy as np'); }\n",
       "    "
      ],
      "text/plain": [
       "<IPython.core.display.Javascript object>"
      ]
     },
     "metadata": {},
     "output_type": "display_data"
    },
    {
     "name": "stdout",
     "output_type": "stream",
     "text": [
      "Model #274\n",
      "Best ROC-AUC: 0.7677\n",
      "Best params: OrderedDict([('colsample_bytree', 1.0), ('learning_rate', 0.09611180875518194), ('max_bin', 493), ('max_depth', 2), ('min_child_samples', 47), ('min_data_in_leaf', 20), ('n_estimators', 20), ('num_leaves', 116), ('reg_alpha', 1.0), ('reg_lambda', 1e-09), ('scale_pos_weight', 70)])\n",
      "\n"
     ]
    },
    {
     "data": {
      "application/javascript": [
       "\n",
       "        if (window._pyforest_update_imports_cell) { window._pyforest_update_imports_cell('import numpy as np'); }\n",
       "    "
      ],
      "text/plain": [
       "<IPython.core.display.Javascript object>"
      ]
     },
     "metadata": {},
     "output_type": "display_data"
    },
    {
     "name": "stdout",
     "output_type": "stream",
     "text": [
      "Model #275\n",
      "Best ROC-AUC: 0.7677\n",
      "Best params: OrderedDict([('colsample_bytree', 1.0), ('learning_rate', 0.09611180875518194), ('max_bin', 493), ('max_depth', 2), ('min_child_samples', 47), ('min_data_in_leaf', 20), ('n_estimators', 20), ('num_leaves', 116), ('reg_alpha', 1.0), ('reg_lambda', 1e-09), ('scale_pos_weight', 70)])\n",
      "\n"
     ]
    },
    {
     "data": {
      "application/javascript": [
       "\n",
       "        if (window._pyforest_update_imports_cell) { window._pyforest_update_imports_cell('import numpy as np'); }\n",
       "    "
      ],
      "text/plain": [
       "<IPython.core.display.Javascript object>"
      ]
     },
     "metadata": {},
     "output_type": "display_data"
    },
    {
     "name": "stdout",
     "output_type": "stream",
     "text": [
      "Model #276\n",
      "Best ROC-AUC: 0.7677\n",
      "Best params: OrderedDict([('colsample_bytree', 1.0), ('learning_rate', 0.09611180875518194), ('max_bin', 493), ('max_depth', 2), ('min_child_samples', 47), ('min_data_in_leaf', 20), ('n_estimators', 20), ('num_leaves', 116), ('reg_alpha', 1.0), ('reg_lambda', 1e-09), ('scale_pos_weight', 70)])\n",
      "\n"
     ]
    },
    {
     "data": {
      "application/javascript": [
       "\n",
       "        if (window._pyforest_update_imports_cell) { window._pyforest_update_imports_cell('import numpy as np'); }\n",
       "    "
      ],
      "text/plain": [
       "<IPython.core.display.Javascript object>"
      ]
     },
     "metadata": {},
     "output_type": "display_data"
    },
    {
     "name": "stdout",
     "output_type": "stream",
     "text": [
      "Model #277\n",
      "Best ROC-AUC: 0.7677\n",
      "Best params: OrderedDict([('colsample_bytree', 1.0), ('learning_rate', 0.09611180875518194), ('max_bin', 493), ('max_depth', 2), ('min_child_samples', 47), ('min_data_in_leaf', 20), ('n_estimators', 20), ('num_leaves', 116), ('reg_alpha', 1.0), ('reg_lambda', 1e-09), ('scale_pos_weight', 70)])\n",
      "\n"
     ]
    },
    {
     "data": {
      "application/javascript": [
       "\n",
       "        if (window._pyforest_update_imports_cell) { window._pyforest_update_imports_cell('import numpy as np'); }\n",
       "    "
      ],
      "text/plain": [
       "<IPython.core.display.Javascript object>"
      ]
     },
     "metadata": {},
     "output_type": "display_data"
    },
    {
     "name": "stdout",
     "output_type": "stream",
     "text": [
      "Model #278\n",
      "Best ROC-AUC: 0.7677\n",
      "Best params: OrderedDict([('colsample_bytree', 1.0), ('learning_rate', 0.09611180875518194), ('max_bin', 493), ('max_depth', 2), ('min_child_samples', 47), ('min_data_in_leaf', 20), ('n_estimators', 20), ('num_leaves', 116), ('reg_alpha', 1.0), ('reg_lambda', 1e-09), ('scale_pos_weight', 70)])\n",
      "\n"
     ]
    },
    {
     "data": {
      "application/javascript": [
       "\n",
       "        if (window._pyforest_update_imports_cell) { window._pyforest_update_imports_cell('import numpy as np'); }\n",
       "    "
      ],
      "text/plain": [
       "<IPython.core.display.Javascript object>"
      ]
     },
     "metadata": {},
     "output_type": "display_data"
    },
    {
     "name": "stdout",
     "output_type": "stream",
     "text": [
      "Model #279\n",
      "Best ROC-AUC: 0.7677\n",
      "Best params: OrderedDict([('colsample_bytree', 1.0), ('learning_rate', 0.09611180875518194), ('max_bin', 493), ('max_depth', 2), ('min_child_samples', 47), ('min_data_in_leaf', 20), ('n_estimators', 20), ('num_leaves', 116), ('reg_alpha', 1.0), ('reg_lambda', 1e-09), ('scale_pos_weight', 70)])\n",
      "\n"
     ]
    },
    {
     "data": {
      "application/javascript": [
       "\n",
       "        if (window._pyforest_update_imports_cell) { window._pyforest_update_imports_cell('import numpy as np'); }\n",
       "    "
      ],
      "text/plain": [
       "<IPython.core.display.Javascript object>"
      ]
     },
     "metadata": {},
     "output_type": "display_data"
    },
    {
     "name": "stdout",
     "output_type": "stream",
     "text": [
      "Model #280\n",
      "Best ROC-AUC: 0.7677\n",
      "Best params: OrderedDict([('colsample_bytree', 1.0), ('learning_rate', 0.09611180875518194), ('max_bin', 493), ('max_depth', 2), ('min_child_samples', 47), ('min_data_in_leaf', 20), ('n_estimators', 20), ('num_leaves', 116), ('reg_alpha', 1.0), ('reg_lambda', 1e-09), ('scale_pos_weight', 70)])\n",
      "\n"
     ]
    },
    {
     "data": {
      "application/javascript": [
       "\n",
       "        if (window._pyforest_update_imports_cell) { window._pyforest_update_imports_cell('import numpy as np'); }\n",
       "    "
      ],
      "text/plain": [
       "<IPython.core.display.Javascript object>"
      ]
     },
     "metadata": {},
     "output_type": "display_data"
    },
    {
     "name": "stdout",
     "output_type": "stream",
     "text": [
      "Model #281\n",
      "Best ROC-AUC: 0.7677\n",
      "Best params: OrderedDict([('colsample_bytree', 1.0), ('learning_rate', 0.09611180875518194), ('max_bin', 493), ('max_depth', 2), ('min_child_samples', 47), ('min_data_in_leaf', 20), ('n_estimators', 20), ('num_leaves', 116), ('reg_alpha', 1.0), ('reg_lambda', 1e-09), ('scale_pos_weight', 70)])\n",
      "\n"
     ]
    },
    {
     "data": {
      "application/javascript": [
       "\n",
       "        if (window._pyforest_update_imports_cell) { window._pyforest_update_imports_cell('import numpy as np'); }\n",
       "    "
      ],
      "text/plain": [
       "<IPython.core.display.Javascript object>"
      ]
     },
     "metadata": {},
     "output_type": "display_data"
    },
    {
     "name": "stdout",
     "output_type": "stream",
     "text": [
      "Model #282\n",
      "Best ROC-AUC: 0.7677\n",
      "Best params: OrderedDict([('colsample_bytree', 1.0), ('learning_rate', 0.09611180875518194), ('max_bin', 493), ('max_depth', 2), ('min_child_samples', 47), ('min_data_in_leaf', 20), ('n_estimators', 20), ('num_leaves', 116), ('reg_alpha', 1.0), ('reg_lambda', 1e-09), ('scale_pos_weight', 70)])\n",
      "\n"
     ]
    },
    {
     "name": "stderr",
     "output_type": "stream",
     "text": [
      "C:\\Users\\Arijit Aakriti\\Anaconda3\\lib\\site-packages\\joblib\\externals\\loky\\process_executor.py:691: UserWarning: A worker stopped while some jobs were given to the executor. This can be caused by a too short worker timeout or by a memory leak.\n",
      "  \"timeout or by a memory leak.\", UserWarning\n",
      "C:\\Users\\Arijit Aakriti\\Anaconda3\\lib\\site-packages\\joblib\\externals\\loky\\process_executor.py:691: UserWarning: A worker stopped while some jobs were given to the executor. This can be caused by a too short worker timeout or by a memory leak.\n",
      "  \"timeout or by a memory leak.\", UserWarning\n",
      "C:\\Users\\Arijit Aakriti\\Anaconda3\\lib\\site-packages\\joblib\\externals\\loky\\process_executor.py:691: UserWarning: A worker stopped while some jobs were given to the executor. This can be caused by a too short worker timeout or by a memory leak.\n",
      "  \"timeout or by a memory leak.\", UserWarning\n"
     ]
    },
    {
     "data": {
      "application/javascript": [
       "\n",
       "        if (window._pyforest_update_imports_cell) { window._pyforest_update_imports_cell('import numpy as np'); }\n",
       "    "
      ],
      "text/plain": [
       "<IPython.core.display.Javascript object>"
      ]
     },
     "metadata": {},
     "output_type": "display_data"
    },
    {
     "name": "stdout",
     "output_type": "stream",
     "text": [
      "Model #283\n",
      "Best ROC-AUC: 0.7677\n",
      "Best params: OrderedDict([('colsample_bytree', 1.0), ('learning_rate', 0.09611180875518194), ('max_bin', 493), ('max_depth', 2), ('min_child_samples', 47), ('min_data_in_leaf', 20), ('n_estimators', 20), ('num_leaves', 116), ('reg_alpha', 1.0), ('reg_lambda', 1e-09), ('scale_pos_weight', 70)])\n",
      "\n"
     ]
    },
    {
     "data": {
      "application/javascript": [
       "\n",
       "        if (window._pyforest_update_imports_cell) { window._pyforest_update_imports_cell('import numpy as np'); }\n",
       "    "
      ],
      "text/plain": [
       "<IPython.core.display.Javascript object>"
      ]
     },
     "metadata": {},
     "output_type": "display_data"
    },
    {
     "name": "stdout",
     "output_type": "stream",
     "text": [
      "Model #284\n",
      "Best ROC-AUC: 0.7677\n",
      "Best params: OrderedDict([('colsample_bytree', 1.0), ('learning_rate', 0.09611180875518194), ('max_bin', 493), ('max_depth', 2), ('min_child_samples', 47), ('min_data_in_leaf', 20), ('n_estimators', 20), ('num_leaves', 116), ('reg_alpha', 1.0), ('reg_lambda', 1e-09), ('scale_pos_weight', 70)])\n",
      "\n"
     ]
    },
    {
     "data": {
      "application/javascript": [
       "\n",
       "        if (window._pyforest_update_imports_cell) { window._pyforest_update_imports_cell('import numpy as np'); }\n",
       "    "
      ],
      "text/plain": [
       "<IPython.core.display.Javascript object>"
      ]
     },
     "metadata": {},
     "output_type": "display_data"
    },
    {
     "name": "stdout",
     "output_type": "stream",
     "text": [
      "Model #285\n",
      "Best ROC-AUC: 0.7677\n",
      "Best params: OrderedDict([('colsample_bytree', 1.0), ('learning_rate', 0.09611180875518194), ('max_bin', 493), ('max_depth', 2), ('min_child_samples', 47), ('min_data_in_leaf', 20), ('n_estimators', 20), ('num_leaves', 116), ('reg_alpha', 1.0), ('reg_lambda', 1e-09), ('scale_pos_weight', 70)])\n",
      "\n"
     ]
    },
    {
     "data": {
      "application/javascript": [
       "\n",
       "        if (window._pyforest_update_imports_cell) { window._pyforest_update_imports_cell('import numpy as np'); }\n",
       "    "
      ],
      "text/plain": [
       "<IPython.core.display.Javascript object>"
      ]
     },
     "metadata": {},
     "output_type": "display_data"
    },
    {
     "name": "stdout",
     "output_type": "stream",
     "text": [
      "Model #286\n",
      "Best ROC-AUC: 0.7677\n",
      "Best params: OrderedDict([('colsample_bytree', 1.0), ('learning_rate', 0.09611180875518194), ('max_bin', 493), ('max_depth', 2), ('min_child_samples', 47), ('min_data_in_leaf', 20), ('n_estimators', 20), ('num_leaves', 116), ('reg_alpha', 1.0), ('reg_lambda', 1e-09), ('scale_pos_weight', 70)])\n",
      "\n"
     ]
    },
    {
     "data": {
      "application/javascript": [
       "\n",
       "        if (window._pyforest_update_imports_cell) { window._pyforest_update_imports_cell('import numpy as np'); }\n",
       "    "
      ],
      "text/plain": [
       "<IPython.core.display.Javascript object>"
      ]
     },
     "metadata": {},
     "output_type": "display_data"
    },
    {
     "name": "stdout",
     "output_type": "stream",
     "text": [
      "Model #287\n",
      "Best ROC-AUC: 0.7677\n",
      "Best params: OrderedDict([('colsample_bytree', 1.0), ('learning_rate', 0.09611180875518194), ('max_bin', 493), ('max_depth', 2), ('min_child_samples', 47), ('min_data_in_leaf', 20), ('n_estimators', 20), ('num_leaves', 116), ('reg_alpha', 1.0), ('reg_lambda', 1e-09), ('scale_pos_weight', 70)])\n",
      "\n"
     ]
    },
    {
     "data": {
      "application/javascript": [
       "\n",
       "        if (window._pyforest_update_imports_cell) { window._pyforest_update_imports_cell('import numpy as np'); }\n",
       "    "
      ],
      "text/plain": [
       "<IPython.core.display.Javascript object>"
      ]
     },
     "metadata": {},
     "output_type": "display_data"
    },
    {
     "name": "stdout",
     "output_type": "stream",
     "text": [
      "Model #288\n",
      "Best ROC-AUC: 0.7677\n",
      "Best params: OrderedDict([('colsample_bytree', 1.0), ('learning_rate', 0.09611180875518194), ('max_bin', 493), ('max_depth', 2), ('min_child_samples', 47), ('min_data_in_leaf', 20), ('n_estimators', 20), ('num_leaves', 116), ('reg_alpha', 1.0), ('reg_lambda', 1e-09), ('scale_pos_weight', 70)])\n",
      "\n"
     ]
    },
    {
     "data": {
      "application/javascript": [
       "\n",
       "        if (window._pyforest_update_imports_cell) { window._pyforest_update_imports_cell('import numpy as np'); }\n",
       "    "
      ],
      "text/plain": [
       "<IPython.core.display.Javascript object>"
      ]
     },
     "metadata": {},
     "output_type": "display_data"
    },
    {
     "name": "stdout",
     "output_type": "stream",
     "text": [
      "Model #289\n",
      "Best ROC-AUC: 0.7677\n",
      "Best params: OrderedDict([('colsample_bytree', 1.0), ('learning_rate', 0.09611180875518194), ('max_bin', 493), ('max_depth', 2), ('min_child_samples', 47), ('min_data_in_leaf', 20), ('n_estimators', 20), ('num_leaves', 116), ('reg_alpha', 1.0), ('reg_lambda', 1e-09), ('scale_pos_weight', 70)])\n",
      "\n"
     ]
    },
    {
     "data": {
      "application/javascript": [
       "\n",
       "        if (window._pyforest_update_imports_cell) { window._pyforest_update_imports_cell('import numpy as np'); }\n",
       "    "
      ],
      "text/plain": [
       "<IPython.core.display.Javascript object>"
      ]
     },
     "metadata": {},
     "output_type": "display_data"
    },
    {
     "name": "stdout",
     "output_type": "stream",
     "text": [
      "Model #290\n",
      "Best ROC-AUC: 0.7677\n",
      "Best params: OrderedDict([('colsample_bytree', 1.0), ('learning_rate', 0.09611180875518194), ('max_bin', 493), ('max_depth', 2), ('min_child_samples', 47), ('min_data_in_leaf', 20), ('n_estimators', 20), ('num_leaves', 116), ('reg_alpha', 1.0), ('reg_lambda', 1e-09), ('scale_pos_weight', 70)])\n",
      "\n"
     ]
    },
    {
     "data": {
      "application/javascript": [
       "\n",
       "        if (window._pyforest_update_imports_cell) { window._pyforest_update_imports_cell('import numpy as np'); }\n",
       "    "
      ],
      "text/plain": [
       "<IPython.core.display.Javascript object>"
      ]
     },
     "metadata": {},
     "output_type": "display_data"
    },
    {
     "name": "stdout",
     "output_type": "stream",
     "text": [
      "Model #291\n",
      "Best ROC-AUC: 0.7677\n",
      "Best params: OrderedDict([('colsample_bytree', 1.0), ('learning_rate', 0.09611180875518194), ('max_bin', 493), ('max_depth', 2), ('min_child_samples', 47), ('min_data_in_leaf', 20), ('n_estimators', 20), ('num_leaves', 116), ('reg_alpha', 1.0), ('reg_lambda', 1e-09), ('scale_pos_weight', 70)])\n",
      "\n"
     ]
    },
    {
     "data": {
      "application/javascript": [
       "\n",
       "        if (window._pyforest_update_imports_cell) { window._pyforest_update_imports_cell('import numpy as np'); }\n",
       "    "
      ],
      "text/plain": [
       "<IPython.core.display.Javascript object>"
      ]
     },
     "metadata": {},
     "output_type": "display_data"
    },
    {
     "name": "stdout",
     "output_type": "stream",
     "text": [
      "Model #292\n",
      "Best ROC-AUC: 0.7677\n",
      "Best params: OrderedDict([('colsample_bytree', 1.0), ('learning_rate', 0.09611180875518194), ('max_bin', 493), ('max_depth', 2), ('min_child_samples', 47), ('min_data_in_leaf', 20), ('n_estimators', 20), ('num_leaves', 116), ('reg_alpha', 1.0), ('reg_lambda', 1e-09), ('scale_pos_weight', 70)])\n",
      "\n"
     ]
    },
    {
     "data": {
      "application/javascript": [
       "\n",
       "        if (window._pyforest_update_imports_cell) { window._pyforest_update_imports_cell('import numpy as np'); }\n",
       "    "
      ],
      "text/plain": [
       "<IPython.core.display.Javascript object>"
      ]
     },
     "metadata": {},
     "output_type": "display_data"
    },
    {
     "name": "stdout",
     "output_type": "stream",
     "text": [
      "Model #293\n",
      "Best ROC-AUC: 0.7677\n",
      "Best params: OrderedDict([('colsample_bytree', 1.0), ('learning_rate', 0.09611180875518194), ('max_bin', 493), ('max_depth', 2), ('min_child_samples', 47), ('min_data_in_leaf', 20), ('n_estimators', 20), ('num_leaves', 116), ('reg_alpha', 1.0), ('reg_lambda', 1e-09), ('scale_pos_weight', 70)])\n",
      "\n"
     ]
    },
    {
     "data": {
      "application/javascript": [
       "\n",
       "        if (window._pyforest_update_imports_cell) { window._pyforest_update_imports_cell('import numpy as np'); }\n",
       "    "
      ],
      "text/plain": [
       "<IPython.core.display.Javascript object>"
      ]
     },
     "metadata": {},
     "output_type": "display_data"
    },
    {
     "name": "stdout",
     "output_type": "stream",
     "text": [
      "Model #294\n",
      "Best ROC-AUC: 0.7677\n",
      "Best params: OrderedDict([('colsample_bytree', 1.0), ('learning_rate', 0.09611180875518194), ('max_bin', 493), ('max_depth', 2), ('min_child_samples', 47), ('min_data_in_leaf', 20), ('n_estimators', 20), ('num_leaves', 116), ('reg_alpha', 1.0), ('reg_lambda', 1e-09), ('scale_pos_weight', 70)])\n",
      "\n"
     ]
    },
    {
     "data": {
      "application/javascript": [
       "\n",
       "        if (window._pyforest_update_imports_cell) { window._pyforest_update_imports_cell('import numpy as np'); }\n",
       "    "
      ],
      "text/plain": [
       "<IPython.core.display.Javascript object>"
      ]
     },
     "metadata": {},
     "output_type": "display_data"
    },
    {
     "name": "stdout",
     "output_type": "stream",
     "text": [
      "Model #295\n",
      "Best ROC-AUC: 0.7677\n",
      "Best params: OrderedDict([('colsample_bytree', 1.0), ('learning_rate', 0.09611180875518194), ('max_bin', 493), ('max_depth', 2), ('min_child_samples', 47), ('min_data_in_leaf', 20), ('n_estimators', 20), ('num_leaves', 116), ('reg_alpha', 1.0), ('reg_lambda', 1e-09), ('scale_pos_weight', 70)])\n",
      "\n"
     ]
    },
    {
     "data": {
      "application/javascript": [
       "\n",
       "        if (window._pyforest_update_imports_cell) { window._pyforest_update_imports_cell('import numpy as np'); }\n",
       "    "
      ],
      "text/plain": [
       "<IPython.core.display.Javascript object>"
      ]
     },
     "metadata": {},
     "output_type": "display_data"
    },
    {
     "name": "stdout",
     "output_type": "stream",
     "text": [
      "Model #296\n",
      "Best ROC-AUC: 0.7677\n",
      "Best params: OrderedDict([('colsample_bytree', 1.0), ('learning_rate', 0.09611180875518194), ('max_bin', 493), ('max_depth', 2), ('min_child_samples', 47), ('min_data_in_leaf', 20), ('n_estimators', 20), ('num_leaves', 116), ('reg_alpha', 1.0), ('reg_lambda', 1e-09), ('scale_pos_weight', 70)])\n",
      "\n"
     ]
    },
    {
     "data": {
      "application/javascript": [
       "\n",
       "        if (window._pyforest_update_imports_cell) { window._pyforest_update_imports_cell('import numpy as np'); }\n",
       "    "
      ],
      "text/plain": [
       "<IPython.core.display.Javascript object>"
      ]
     },
     "metadata": {},
     "output_type": "display_data"
    },
    {
     "name": "stdout",
     "output_type": "stream",
     "text": [
      "Model #297\n",
      "Best ROC-AUC: 0.7677\n",
      "Best params: OrderedDict([('colsample_bytree', 1.0), ('learning_rate', 0.09611180875518194), ('max_bin', 493), ('max_depth', 2), ('min_child_samples', 47), ('min_data_in_leaf', 20), ('n_estimators', 20), ('num_leaves', 116), ('reg_alpha', 1.0), ('reg_lambda', 1e-09), ('scale_pos_weight', 70)])\n",
      "\n"
     ]
    },
    {
     "data": {
      "application/javascript": [
       "\n",
       "        if (window._pyforest_update_imports_cell) { window._pyforest_update_imports_cell('import numpy as np'); }\n",
       "    "
      ],
      "text/plain": [
       "<IPython.core.display.Javascript object>"
      ]
     },
     "metadata": {},
     "output_type": "display_data"
    },
    {
     "name": "stdout",
     "output_type": "stream",
     "text": [
      "Model #298\n",
      "Best ROC-AUC: 0.7677\n",
      "Best params: OrderedDict([('colsample_bytree', 1.0), ('learning_rate', 0.09611180875518194), ('max_bin', 493), ('max_depth', 2), ('min_child_samples', 47), ('min_data_in_leaf', 20), ('n_estimators', 20), ('num_leaves', 116), ('reg_alpha', 1.0), ('reg_lambda', 1e-09), ('scale_pos_weight', 70)])\n",
      "\n"
     ]
    },
    {
     "data": {
      "application/javascript": [
       "\n",
       "        if (window._pyforest_update_imports_cell) { window._pyforest_update_imports_cell('import numpy as np'); }\n",
       "    "
      ],
      "text/plain": [
       "<IPython.core.display.Javascript object>"
      ]
     },
     "metadata": {},
     "output_type": "display_data"
    },
    {
     "name": "stdout",
     "output_type": "stream",
     "text": [
      "Model #299\n",
      "Best ROC-AUC: 0.7677\n",
      "Best params: OrderedDict([('colsample_bytree', 1.0), ('learning_rate', 0.09611180875518194), ('max_bin', 493), ('max_depth', 2), ('min_child_samples', 47), ('min_data_in_leaf', 20), ('n_estimators', 20), ('num_leaves', 116), ('reg_alpha', 1.0), ('reg_lambda', 1e-09), ('scale_pos_weight', 70)])\n",
      "\n"
     ]
    },
    {
     "data": {
      "application/javascript": [
       "\n",
       "        if (window._pyforest_update_imports_cell) { window._pyforest_update_imports_cell('import numpy as np'); }\n",
       "    "
      ],
      "text/plain": [
       "<IPython.core.display.Javascript object>"
      ]
     },
     "metadata": {},
     "output_type": "display_data"
    },
    {
     "name": "stdout",
     "output_type": "stream",
     "text": [
      "Model #300\n",
      "Best ROC-AUC: 0.7677\n",
      "Best params: OrderedDict([('colsample_bytree', 1.0), ('learning_rate', 0.09611180875518194), ('max_bin', 493), ('max_depth', 2), ('min_child_samples', 47), ('min_data_in_leaf', 20), ('n_estimators', 20), ('num_leaves', 116), ('reg_alpha', 1.0), ('reg_lambda', 1e-09), ('scale_pos_weight', 70)])\n",
      "\n",
      "[LightGBM] [Warning] min_data_in_leaf is set=20, min_child_samples=47 will be ignored. Current value: min_data_in_leaf=20\n",
      "[LightGBM] [Warning] min_data_in_leaf is set=20, min_child_samples=47 will be ignored. Current value: min_data_in_leaf=20\n",
      "[LightGBM] [Warning] Auto-choosing row-wise multi-threading, the overhead of testing was 0.040570 seconds.\n",
      "You can set `force_row_wise=true` to remove the overhead.\n",
      "And if memory is not enough, you can set `force_col_wise=true`.\n",
      "[LightGBM] [Warning] No further splits with positive gain, best gain: -inf\n",
      "Wall time: 3h 9min 45s\n"
     ]
    }
   ],
   "source": [
    "%%time\n",
    "result_lgbm = bayes_cv_tuner_lgbm.fit(train, labels, callback=status_print)"
   ]
  },
  {
   "cell_type": "code",
   "execution_count": 85,
   "metadata": {},
   "outputs": [
    {
     "data": {
      "text/plain": [
       "LGBMClassifier(application='binary', boosting_type='gbdt', class_weight=None,\n",
       "        colsample_bytree=1.0, importance_type='split',\n",
       "        learning_rate=0.09611180875518194, max_bin=493, max_depth=2,\n",
       "        metric='auc', min_child_samples=47, min_child_weight=0.001,\n",
       "        min_data_in_leaf=20, min_split_gain=0.0, n_estimators=20,\n",
       "        n_jobs=-1, num_leaves=116, objective=None, random_state=None,\n",
       "        reg_alpha=1.0, reg_lambda=1e-09, scale_pos_weight=70, silent=True,\n",
       "        subsample=1.0, subsample_for_bin=200000, subsample_freq=0,\n",
       "        verbose=0)"
      ]
     },
     "execution_count": 85,
     "metadata": {},
     "output_type": "execute_result"
    }
   ],
   "source": [
    "result_lgbm.besbest_estimator_"
   ]
  },
  {
   "cell_type": "code",
   "execution_count": 86,
   "metadata": {},
   "outputs": [],
   "source": [
    "lgb_clf= lgb.LGBMClassifier(application='binary', boosting_type='gbdt', class_weight=None,\n",
    "                            colsample_bytree=1.0, importance_type='split',\n",
    "                            learning_rate=0.09611180875518194, max_bin=493, max_depth=2,\n",
    "                            metric='auc', min_child_samples=47, min_child_weight=0.001,\n",
    "                            min_data_in_leaf=20, min_split_gain=0.0, n_estimators=20,\n",
    "                            n_jobs=-1, num_leaves=116, objective=None, random_state=None,\n",
    "                            reg_alpha=1.0, reg_lambda=1e-09, scale_pos_weight=70, silent=True,\n",
    "                            subsample=1.0, subsample_for_bin=200000, subsample_freq=0,\n",
    "                            verbose=0)"
   ]
  },
  {
   "cell_type": "code",
   "execution_count": 89,
   "metadata": {},
   "outputs": [
    {
     "name": "stdout",
     "output_type": "stream",
     "text": [
      "[LightGBM] [Warning] min_data_in_leaf is set=20, min_child_samples=47 will be ignored. Current value: min_data_in_leaf=20\n",
      "[LightGBM] [Warning] min_data_in_leaf is set=20, min_child_samples=47 will be ignored. Current value: min_data_in_leaf=20\n",
      "[LightGBM] [Warning] Auto-choosing row-wise multi-threading, the overhead of testing was 0.044560 seconds.\n",
      "You can set `force_row_wise=true` to remove the overhead.\n",
      "And if memory is not enough, you can set `force_col_wise=true`.\n",
      "[LightGBM] [Warning] No further splits with positive gain, best gain: -inf\n"
     ]
    },
    {
     "data": {
      "text/plain": [
       "LGBMClassifier(application='binary', boosting_type='gbdt', class_weight=None,\n",
       "        colsample_bytree=1.0, importance_type='split',\n",
       "        learning_rate=0.09611180875518194, max_bin=493, max_depth=2,\n",
       "        metric='auc', min_child_samples=47, min_child_weight=0.001,\n",
       "        min_data_in_leaf=20, min_split_gain=0.0, n_estimators=20,\n",
       "        n_jobs=-1, num_leaves=116, objective=None, random_state=None,\n",
       "        reg_alpha=1.0, reg_lambda=1e-09, scale_pos_weight=70, silent=True,\n",
       "        subsample=1.0, subsample_for_bin=200000, subsample_freq=0,\n",
       "        verbose=0)"
      ]
     },
     "execution_count": 89,
     "metadata": {},
     "output_type": "execute_result"
    }
   ],
   "source": [
    "lgb_clf.fit(train, labels)"
   ]
  },
  {
   "cell_type": "code",
   "execution_count": 105,
   "metadata": {},
   "outputs": [],
   "source": [
    "feat_imp = pd.DataFrame(lgb_clf.feature_importances_, columns=['Feature_Importance'])\n",
    "feat_imp['Features'] = train.columns"
   ]
  },
  {
   "cell_type": "code",
   "execution_count": 112,
   "metadata": {},
   "outputs": [
    {
     "data": {
      "text/plain": [
       "<matplotlib.axes._subplots.AxesSubplot at 0x1ef9922f160>"
      ]
     },
     "execution_count": 112,
     "metadata": {},
     "output_type": "execute_result"
    },
    {
     "data": {
      "image/png": "[encoded data removed]",
      "text/plain": [
       "<Figure size 432x288 with 1 Axes>"
      ]
     },
     "metadata": {
      "needs_background": "light"
     },
     "output_type": "display_data"
    }
   ],
   "source": [
    "feat_imp = feat_imp.sort_values('Feature_Importance', ascending=False)\n",
    "\n",
    "sns.barplot('Feature_Importance', 'Features', data=feat_imp.head(10))"
   ]
  },
  {
   "cell_type": "code",
   "execution_count": 91,
   "metadata": {},
   "outputs": [],
   "source": [
    "predictions = lgb_clf.predict(train)"
   ]
  },
  {
   "cell_type": "code",
   "execution_count": 95,
   "metadata": {},
   "outputs": [
    {
     "data": {
      "text/plain": [
       "(array([31205.,     0.,     0.,     0.,     0.,     0.,     0.,     0.,\n",
       "            0., 11757.]),\n",
       " array([0. , 0.1, 0.2, 0.3, 0.4, 0.5, 0.6, 0.7, 0.8, 0.9, 1. ]),\n",
       " <a list of 10 Patch objects>)"
      ]
     },
     "execution_count": 95,
     "metadata": {},
     "output_type": "execute_result"
    },
    {
     "data": {
      "image/png": "[encoded data removed]",
      "text/plain": [
       "<Figure size 432x288 with 1 Axes>"
      ]
     },
     "metadata": {
      "needs_background": "light"
     },
     "output_type": "display_data"
    }
   ],
   "source": [
    "plt.hist(predictions)"
   ]
  },
  {
   "cell_type": "code",
   "execution_count": 96,
   "metadata": {},
   "outputs": [
    {
     "data": {
      "text/plain": [
       "0.5141349345558242"
      ]
     },
     "execution_count": 96,
     "metadata": {},
     "output_type": "execute_result"
    }
   ],
   "source": [
    "# from sklearn.metrics import roc_auc_score\n",
    "roc_auc_score(predictions, labels)"
   ]
  },
  {
   "cell_type": "code",
   "execution_count": 121,
   "metadata": {},
   "outputs": [],
   "source": [
    "from xgboost.sklearn import XGBRegressor \n",
    "\n",
    "xgb = XGBRegressor(base_score=0.5, )"
   ]
  },
  {
   "cell_type": "code",
   "execution_count": 127,
   "metadata": {},
   "outputs": [],
   "source": [
    "ITERATIONS = 300\n",
    "bayes_cv_tuner_lgbm_reg = BayesSearchCV(\n",
    "    estimator = lgb.LGBMRegressor(\n",
    "        application='binary',\n",
    "        metric='auc',\n",
    "        n_jobs=-1,\n",
    "        verbose=0\n",
    "    ),\n",
    "    search_spaces = {\n",
    "        'learning_rate': (0.01, 0.3, 'uniform'),\n",
    "        'num_leaves': (2, 225),      \n",
    "        'max_depth': (2, 10),\n",
    "        'colsample_bytree':(0.5, 1.0, 'uniform'),\n",
    "        \"min_data_in_leaf\":(20, 100),\n",
    "        'min_child_samples': (0, 50),\n",
    "        'max_bin': (100, 1000),\n",
    "        'reg_lambda': (1e-9, 1.0, 'log-uniform'),\n",
    "        'reg_alpha': (1e-9, 1.0, 'log-uniform'),\n",
    "        'scale_pos_weight': (1,90, 'uniform'),\n",
    "        'n_estimators': (20, 400),\n",
    "},    \n",
    "    scoring = 'roc_auc',\n",
    "    cv = StratifiedKFold(\n",
    "        n_splits=5,\n",
    "        shuffle=True,\n",
    "        random_state=5\n",
    "    ),\n",
    "    n_jobs = -1,\n",
    "    n_iter = ITERATIONS,   \n",
    "    verbose = 0,\n",
    "    refit = True,\n",
    "    random_state = 5\n",
    ")\n",
    "\n",
    "def status_print(optim_result):\n",
    "    \"\"\"Status callback durring bayesian hyperparameter search\"\"\"\n",
    "    \n",
    "    # Get all the models tested so far in DataFrame format\n",
    "    all_models = pd.DataFrame(bayes_cv_tuner_lgbm_reg.cv_results_)    \n",
    "    \n",
    "    # Get current parameters and the best parameters    \n",
    "    best_params = pd.Series(bayes_cv_tuner_lgbm_reg.best_params_)\n",
    "    print('Model #{}\\nBest ROC-AUC: {}\\nBest params: {}\\n'.format(\n",
    "        len(all_models),\n",
    "        np.round(bayes_cv_tuner_lgbm_reg.best_score_, 4),\n",
    "        bayes_cv_tuner_lgbm_reg.best_params_\n",
    "    ))\n",
    "    \n",
    "    # Save all model results\n",
    "    clf_name = bayes_cv_tuner_lgbm_reg.estimator.__class__.__name__\n",
    "    all_models.to_csv(clf_name+\"_cv_results.csv\")"
   ]
  },
  {
   "cell_type": "code",
   "execution_count": 128,
   "metadata": {},
   "outputs": [
    {
     "data": {
      "application/javascript": [
       "\n",
       "        if (window._pyforest_update_imports_cell) { window._pyforest_update_imports_cell('import numpy as np'); }\n",
       "    "
      ],
      "text/plain": [
       "<IPython.core.display.Javascript object>"
      ]
     },
     "metadata": {},
     "output_type": "display_data"
    },
    {
     "name": "stdout",
     "output_type": "stream",
     "text": [
      "Model #1\n",
      "Best ROC-AUC: 0.6878\n",
      "Best params: OrderedDict([('colsample_bytree', 0.6791222670340838), ('learning_rate', 0.056036090296697996), ('max_bin', 666), ('max_depth', 6), ('min_child_samples', 12), ('min_data_in_leaf', 28), ('n_estimators', 267), ('num_leaves', 160), ('reg_alpha', 0.0006113634119921826), ('reg_lambda', 3.820294811001064e-05), ('scale_pos_weight', 6)])\n",
      "\n"
     ]
    },
    {
     "data": {
      "application/javascript": [
       "\n",
       "        if (window._pyforest_update_imports_cell) { window._pyforest_update_imports_cell('import numpy as np'); }\n",
       "    "
      ],
      "text/plain": [
       "<IPython.core.display.Javascript object>"
      ]
     },
     "metadata": {},
     "output_type": "display_data"
    },
    {
     "name": "stdout",
     "output_type": "stream",
     "text": [
      "Model #2\n",
      "Best ROC-AUC: 0.6878\n",
      "Best params: OrderedDict([('colsample_bytree', 0.6791222670340838), ('learning_rate', 0.056036090296697996), ('max_bin', 666), ('max_depth', 6), ('min_child_samples', 12), ('min_data_in_leaf', 28), ('n_estimators', 267), ('num_leaves', 160), ('reg_alpha', 0.0006113634119921826), ('reg_lambda', 3.820294811001064e-05), ('scale_pos_weight', 6)])\n",
      "\n"
     ]
    },
    {
     "data": {
      "application/javascript": [
       "\n",
       "        if (window._pyforest_update_imports_cell) { window._pyforest_update_imports_cell('import numpy as np'); }\n",
       "    "
      ],
      "text/plain": [
       "<IPython.core.display.Javascript object>"
      ]
     },
     "metadata": {},
     "output_type": "display_data"
    },
    {
     "name": "stdout",
     "output_type": "stream",
     "text": [
      "Model #3\n",
      "Best ROC-AUC: 0.6878\n",
      "Best params: OrderedDict([('colsample_bytree', 0.6791222670340838), ('learning_rate', 0.056036090296697996), ('max_bin', 666), ('max_depth', 6), ('min_child_samples', 12), ('min_data_in_leaf', 28), ('n_estimators', 267), ('num_leaves', 160), ('reg_alpha', 0.0006113634119921826), ('reg_lambda', 3.820294811001064e-05), ('scale_pos_weight', 6)])\n",
      "\n"
     ]
    },
    {
     "data": {
      "application/javascript": [
       "\n",
       "        if (window._pyforest_update_imports_cell) { window._pyforest_update_imports_cell('import numpy as np'); }\n",
       "    "
      ],
      "text/plain": [
       "<IPython.core.display.Javascript object>"
      ]
     },
     "metadata": {},
     "output_type": "display_data"
    },
    {
     "name": "stdout",
     "output_type": "stream",
     "text": [
      "Model #4\n",
      "Best ROC-AUC: 0.6878\n",
      "Best params: OrderedDict([('colsample_bytree', 0.6791222670340838), ('learning_rate', 0.056036090296697996), ('max_bin', 666), ('max_depth', 6), ('min_child_samples', 12), ('min_data_in_leaf', 28), ('n_estimators', 267), ('num_leaves', 160), ('reg_alpha', 0.0006113634119921826), ('reg_lambda', 3.820294811001064e-05), ('scale_pos_weight', 6)])\n",
      "\n"
     ]
    },
    {
     "data": {
      "application/javascript": [
       "\n",
       "        if (window._pyforest_update_imports_cell) { window._pyforest_update_imports_cell('import numpy as np'); }\n",
       "    "
      ],
      "text/plain": [
       "<IPython.core.display.Javascript object>"
      ]
     },
     "metadata": {},
     "output_type": "display_data"
    },
    {
     "name": "stdout",
     "output_type": "stream",
     "text": [
      "Model #5\n",
      "Best ROC-AUC: 0.6878\n",
      "Best params: OrderedDict([('colsample_bytree', 0.6791222670340838), ('learning_rate', 0.056036090296697996), ('max_bin', 666), ('max_depth', 6), ('min_child_samples', 12), ('min_data_in_leaf', 28), ('n_estimators', 267), ('num_leaves', 160), ('reg_alpha', 0.0006113634119921826), ('reg_lambda', 3.820294811001064e-05), ('scale_pos_weight', 6)])\n",
      "\n"
     ]
    },
    {
     "data": {
      "application/javascript": [
       "\n",
       "        if (window._pyforest_update_imports_cell) { window._pyforest_update_imports_cell('import numpy as np'); }\n",
       "    "
      ],
      "text/plain": [
       "<IPython.core.display.Javascript object>"
      ]
     },
     "metadata": {},
     "output_type": "display_data"
    },
    {
     "name": "stdout",
     "output_type": "stream",
     "text": [
      "Model #6\n",
      "Best ROC-AUC: 0.7552\n",
      "Best params: OrderedDict([('colsample_bytree', 0.922570592908447), ('learning_rate', 0.011831024125053633), ('max_bin', 583), ('max_depth', 3), ('min_child_samples', 46), ('min_data_in_leaf', 56), ('n_estimators', 120), ('num_leaves', 225), ('reg_alpha', 0.009082030275713816), ('reg_lambda', 2.9498999351256537e-05), ('scale_pos_weight', 63)])\n",
      "\n"
     ]
    },
    {
     "data": {
      "application/javascript": [
       "\n",
       "        if (window._pyforest_update_imports_cell) { window._pyforest_update_imports_cell('import numpy as np'); }\n",
       "    "
      ],
      "text/plain": [
       "<IPython.core.display.Javascript object>"
      ]
     },
     "metadata": {},
     "output_type": "display_data"
    },
    {
     "name": "stdout",
     "output_type": "stream",
     "text": [
      "Model #7\n",
      "Best ROC-AUC: 0.7552\n",
      "Best params: OrderedDict([('colsample_bytree', 0.922570592908447), ('learning_rate', 0.011831024125053633), ('max_bin', 583), ('max_depth', 3), ('min_child_samples', 46), ('min_data_in_leaf', 56), ('n_estimators', 120), ('num_leaves', 225), ('reg_alpha', 0.009082030275713816), ('reg_lambda', 2.9498999351256537e-05), ('scale_pos_weight', 63)])\n",
      "\n"
     ]
    },
    {
     "data": {
      "application/javascript": [
       "\n",
       "        if (window._pyforest_update_imports_cell) { window._pyforest_update_imports_cell('import numpy as np'); }\n",
       "    "
      ],
      "text/plain": [
       "<IPython.core.display.Javascript object>"
      ]
     },
     "metadata": {},
     "output_type": "display_data"
    },
    {
     "name": "stdout",
     "output_type": "stream",
     "text": [
      "Model #8\n",
      "Best ROC-AUC: 0.7552\n",
      "Best params: OrderedDict([('colsample_bytree', 0.922570592908447), ('learning_rate', 0.011831024125053633), ('max_bin', 583), ('max_depth', 3), ('min_child_samples', 46), ('min_data_in_leaf', 56), ('n_estimators', 120), ('num_leaves', 225), ('reg_alpha', 0.009082030275713816), ('reg_lambda', 2.9498999351256537e-05), ('scale_pos_weight', 63)])\n",
      "\n"
     ]
    },
    {
     "data": {
      "application/javascript": [
       "\n",
       "        if (window._pyforest_update_imports_cell) { window._pyforest_update_imports_cell('import numpy as np'); }\n",
       "    "
      ],
      "text/plain": [
       "<IPython.core.display.Javascript object>"
      ]
     },
     "metadata": {},
     "output_type": "display_data"
    },
    {
     "name": "stdout",
     "output_type": "stream",
     "text": [
      "Model #9\n",
      "Best ROC-AUC: 0.7571\n",
      "Best params: OrderedDict([('colsample_bytree', 0.9525566569247962), ('learning_rate', 0.07356976787822347), ('max_bin', 122), ('max_depth', 2), ('min_child_samples', 13), ('min_data_in_leaf', 89), ('n_estimators', 45), ('num_leaves', 65), ('reg_alpha', 1.038546400498543e-08), ('reg_lambda', 1.9215417604095465e-08), ('scale_pos_weight', 20)])\n",
      "\n"
     ]
    },
    {
     "data": {
      "application/javascript": [
       "\n",
       "        if (window._pyforest_update_imports_cell) { window._pyforest_update_imports_cell('import numpy as np'); }\n",
       "    "
      ],
      "text/plain": [
       "<IPython.core.display.Javascript object>"
      ]
     },
     "metadata": {},
     "output_type": "display_data"
    },
    {
     "name": "stdout",
     "output_type": "stream",
     "text": [
      "Model #10\n",
      "Best ROC-AUC: 0.7571\n",
      "Best params: OrderedDict([('colsample_bytree', 0.9525566569247962), ('learning_rate', 0.07356976787822347), ('max_bin', 122), ('max_depth', 2), ('min_child_samples', 13), ('min_data_in_leaf', 89), ('n_estimators', 45), ('num_leaves', 65), ('reg_alpha', 1.038546400498543e-08), ('reg_lambda', 1.9215417604095465e-08), ('scale_pos_weight', 20)])\n",
      "\n"
     ]
    },
    {
     "data": {
      "application/javascript": [
       "\n",
       "        if (window._pyforest_update_imports_cell) { window._pyforest_update_imports_cell('import numpy as np'); }\n",
       "    "
      ],
      "text/plain": [
       "<IPython.core.display.Javascript object>"
      ]
     },
     "metadata": {},
     "output_type": "display_data"
    },
    {
     "name": "stdout",
     "output_type": "stream",
     "text": [
      "Model #11\n",
      "Best ROC-AUC: 0.7571\n",
      "Best params: OrderedDict([('colsample_bytree', 0.9525566569247962), ('learning_rate', 0.07356976787822347), ('max_bin', 122), ('max_depth', 2), ('min_child_samples', 13), ('min_data_in_leaf', 89), ('n_estimators', 45), ('num_leaves', 65), ('reg_alpha', 1.038546400498543e-08), ('reg_lambda', 1.9215417604095465e-08), ('scale_pos_weight', 20)])\n",
      "\n"
     ]
    },
    {
     "data": {
      "application/javascript": [
       "\n",
       "        if (window._pyforest_update_imports_cell) { window._pyforest_update_imports_cell('import numpy as np'); }\n",
       "    "
      ],
      "text/plain": [
       "<IPython.core.display.Javascript object>"
      ]
     },
     "metadata": {},
     "output_type": "display_data"
    },
    {
     "name": "stdout",
     "output_type": "stream",
     "text": [
      "Model #12\n",
      "Best ROC-AUC: 0.7571\n",
      "Best params: OrderedDict([('colsample_bytree', 0.9525566569247962), ('learning_rate', 0.07356976787822347), ('max_bin', 122), ('max_depth', 2), ('min_child_samples', 13), ('min_data_in_leaf', 89), ('n_estimators', 45), ('num_leaves', 65), ('reg_alpha', 1.038546400498543e-08), ('reg_lambda', 1.9215417604095465e-08), ('scale_pos_weight', 20)])\n",
      "\n"
     ]
    },
    {
     "data": {
      "application/javascript": [
       "\n",
       "        if (window._pyforest_update_imports_cell) { window._pyforest_update_imports_cell('import numpy as np'); }\n",
       "    "
      ],
      "text/plain": [
       "<IPython.core.display.Javascript object>"
      ]
     },
     "metadata": {},
     "output_type": "display_data"
    },
    {
     "name": "stdout",
     "output_type": "stream",
     "text": [
      "Model #13\n",
      "Best ROC-AUC: 0.7578\n",
      "Best params: OrderedDict([('colsample_bytree', 1.0), ('learning_rate', 0.01), ('max_bin', 650), ('max_depth', 2), ('min_child_samples', 50), ('min_data_in_leaf', 100), ('n_estimators', 310), ('num_leaves', 225), ('reg_alpha', 1e-09), ('reg_lambda', 1e-09), ('scale_pos_weight', 90)])\n",
      "\n"
     ]
    },
    {
     "data": {
      "application/javascript": [
       "\n",
       "        if (window._pyforest_update_imports_cell) { window._pyforest_update_imports_cell('import numpy as np'); }\n",
       "    "
      ],
      "text/plain": [
       "<IPython.core.display.Javascript object>"
      ]
     },
     "metadata": {},
     "output_type": "display_data"
    },
    {
     "name": "stdout",
     "output_type": "stream",
     "text": [
      "Model #14\n",
      "Best ROC-AUC: 0.7578\n",
      "Best params: OrderedDict([('colsample_bytree', 1.0), ('learning_rate', 0.01), ('max_bin', 650), ('max_depth', 2), ('min_child_samples', 50), ('min_data_in_leaf', 100), ('n_estimators', 310), ('num_leaves', 225), ('reg_alpha', 1e-09), ('reg_lambda', 1e-09), ('scale_pos_weight', 90)])\n",
      "\n"
     ]
    },
    {
     "data": {
      "application/javascript": [
       "\n",
       "        if (window._pyforest_update_imports_cell) { window._pyforest_update_imports_cell('import numpy as np'); }\n",
       "    "
      ],
      "text/plain": [
       "<IPython.core.display.Javascript object>"
      ]
     },
     "metadata": {},
     "output_type": "display_data"
    },
    {
     "name": "stdout",
     "output_type": "stream",
     "text": [
      "Model #15\n",
      "Best ROC-AUC: 0.7587\n",
      "Best params: OrderedDict([('colsample_bytree', 1.0), ('learning_rate', 0.01), ('max_bin', 1000), ('max_depth', 2), ('min_child_samples', 50), ('min_data_in_leaf', 20), ('n_estimators', 20), ('num_leaves', 225), ('reg_alpha', 1e-09), ('reg_lambda', 1e-09), ('scale_pos_weight', 90)])\n",
      "\n"
     ]
    },
    {
     "data": {
      "application/javascript": [
       "\n",
       "        if (window._pyforest_update_imports_cell) { window._pyforest_update_imports_cell('import numpy as np'); }\n",
       "    "
      ],
      "text/plain": [
       "<IPython.core.display.Javascript object>"
      ]
     },
     "metadata": {},
     "output_type": "display_data"
    },
    {
     "name": "stdout",
     "output_type": "stream",
     "text": [
      "Model #16\n",
      "Best ROC-AUC: 0.7587\n",
      "Best params: OrderedDict([('colsample_bytree', 1.0), ('learning_rate', 0.01), ('max_bin', 1000), ('max_depth', 2), ('min_child_samples', 50), ('min_data_in_leaf', 20), ('n_estimators', 20), ('num_leaves', 225), ('reg_alpha', 1e-09), ('reg_lambda', 1e-09), ('scale_pos_weight', 90)])\n",
      "\n"
     ]
    },
    {
     "data": {
      "application/javascript": [
       "\n",
       "        if (window._pyforest_update_imports_cell) { window._pyforest_update_imports_cell('import numpy as np'); }\n",
       "    "
      ],
      "text/plain": [
       "<IPython.core.display.Javascript object>"
      ]
     },
     "metadata": {},
     "output_type": "display_data"
    },
    {
     "name": "stdout",
     "output_type": "stream",
     "text": [
      "Model #17\n",
      "Best ROC-AUC: 0.7587\n",
      "Best params: OrderedDict([('colsample_bytree', 1.0), ('learning_rate', 0.01), ('max_bin', 1000), ('max_depth', 2), ('min_child_samples', 50), ('min_data_in_leaf', 20), ('n_estimators', 20), ('num_leaves', 225), ('reg_alpha', 1e-09), ('reg_lambda', 1e-09), ('scale_pos_weight', 90)])\n",
      "\n"
     ]
    },
    {
     "data": {
      "application/javascript": [
       "\n",
       "        if (window._pyforest_update_imports_cell) { window._pyforest_update_imports_cell('import numpy as np'); }\n",
       "    "
      ],
      "text/plain": [
       "<IPython.core.display.Javascript object>"
      ]
     },
     "metadata": {},
     "output_type": "display_data"
    },
    {
     "name": "stdout",
     "output_type": "stream",
     "text": [
      "Model #18\n",
      "Best ROC-AUC: 0.7601\n",
      "Best params: OrderedDict([('colsample_bytree', 1.0), ('learning_rate', 0.01), ('max_bin', 1000), ('max_depth', 3), ('min_child_samples', 0), ('min_data_in_leaf', 20), ('n_estimators', 161), ('num_leaves', 2), ('reg_alpha', 1e-09), ('reg_lambda', 1e-09), ('scale_pos_weight', 7)])\n",
      "\n"
     ]
    },
    {
     "data": {
      "application/javascript": [
       "\n",
       "        if (window._pyforest_update_imports_cell) { window._pyforest_update_imports_cell('import numpy as np'); }\n",
       "    "
      ],
      "text/plain": [
       "<IPython.core.display.Javascript object>"
      ]
     },
     "metadata": {},
     "output_type": "display_data"
    },
    {
     "name": "stdout",
     "output_type": "stream",
     "text": [
      "Model #19\n",
      "Best ROC-AUC: 0.7601\n",
      "Best params: OrderedDict([('colsample_bytree', 1.0), ('learning_rate', 0.01), ('max_bin', 1000), ('max_depth', 3), ('min_child_samples', 0), ('min_data_in_leaf', 20), ('n_estimators', 161), ('num_leaves', 2), ('reg_alpha', 1e-09), ('reg_lambda', 1e-09), ('scale_pos_weight', 7)])\n",
      "\n"
     ]
    },
    {
     "data": {
      "application/javascript": [
       "\n",
       "        if (window._pyforest_update_imports_cell) { window._pyforest_update_imports_cell('import numpy as np'); }\n",
       "    "
      ],
      "text/plain": [
       "<IPython.core.display.Javascript object>"
      ]
     },
     "metadata": {},
     "output_type": "display_data"
    },
    {
     "name": "stdout",
     "output_type": "stream",
     "text": [
      "Model #20\n",
      "Best ROC-AUC: 0.7601\n",
      "Best params: OrderedDict([('colsample_bytree', 1.0), ('learning_rate', 0.01), ('max_bin', 1000), ('max_depth', 3), ('min_child_samples', 0), ('min_data_in_leaf', 20), ('n_estimators', 161), ('num_leaves', 2), ('reg_alpha', 1e-09), ('reg_lambda', 1e-09), ('scale_pos_weight', 7)])\n",
      "\n"
     ]
    },
    {
     "data": {
      "application/javascript": [
       "\n",
       "        if (window._pyforest_update_imports_cell) { window._pyforest_update_imports_cell('import numpy as np'); }\n",
       "    "
      ],
      "text/plain": [
       "<IPython.core.display.Javascript object>"
      ]
     },
     "metadata": {},
     "output_type": "display_data"
    },
    {
     "name": "stdout",
     "output_type": "stream",
     "text": [
      "Model #21\n",
      "Best ROC-AUC: 0.7601\n",
      "Best params: OrderedDict([('colsample_bytree', 1.0), ('learning_rate', 0.01), ('max_bin', 1000), ('max_depth', 3), ('min_child_samples', 0), ('min_data_in_leaf', 20), ('n_estimators', 161), ('num_leaves', 2), ('reg_alpha', 1e-09), ('reg_lambda', 1e-09), ('scale_pos_weight', 7)])\n",
      "\n"
     ]
    },
    {
     "data": {
      "application/javascript": [
       "\n",
       "        if (window._pyforest_update_imports_cell) { window._pyforest_update_imports_cell('import numpy as np'); }\n",
       "    "
      ],
      "text/plain": [
       "<IPython.core.display.Javascript object>"
      ]
     },
     "metadata": {},
     "output_type": "display_data"
    },
    {
     "name": "stdout",
     "output_type": "stream",
     "text": [
      "Model #22\n",
      "Best ROC-AUC: 0.7601\n",
      "Best params: OrderedDict([('colsample_bytree', 1.0), ('learning_rate', 0.01), ('max_bin', 1000), ('max_depth', 3), ('min_child_samples', 0), ('min_data_in_leaf', 20), ('n_estimators', 161), ('num_leaves', 2), ('reg_alpha', 1e-09), ('reg_lambda', 1e-09), ('scale_pos_weight', 7)])\n",
      "\n"
     ]
    },
    {
     "data": {
      "application/javascript": [
       "\n",
       "        if (window._pyforest_update_imports_cell) { window._pyforest_update_imports_cell('import numpy as np'); }\n",
       "    "
      ],
      "text/plain": [
       "<IPython.core.display.Javascript object>"
      ]
     },
     "metadata": {},
     "output_type": "display_data"
    },
    {
     "name": "stdout",
     "output_type": "stream",
     "text": [
      "Model #23\n",
      "Best ROC-AUC: 0.7601\n",
      "Best params: OrderedDict([('colsample_bytree', 1.0), ('learning_rate', 0.01), ('max_bin', 1000), ('max_depth', 3), ('min_child_samples', 0), ('min_data_in_leaf', 20), ('n_estimators', 161), ('num_leaves', 2), ('reg_alpha', 1e-09), ('reg_lambda', 1e-09), ('scale_pos_weight', 7)])\n",
      "\n"
     ]
    },
    {
     "data": {
      "application/javascript": [
       "\n",
       "        if (window._pyforest_update_imports_cell) { window._pyforest_update_imports_cell('import numpy as np'); }\n",
       "    "
      ],
      "text/plain": [
       "<IPython.core.display.Javascript object>"
      ]
     },
     "metadata": {},
     "output_type": "display_data"
    },
    {
     "name": "stdout",
     "output_type": "stream",
     "text": [
      "Model #24\n",
      "Best ROC-AUC: 0.7601\n",
      "Best params: OrderedDict([('colsample_bytree', 1.0), ('learning_rate', 0.01), ('max_bin', 1000), ('max_depth', 3), ('min_child_samples', 0), ('min_data_in_leaf', 20), ('n_estimators', 161), ('num_leaves', 2), ('reg_alpha', 1e-09), ('reg_lambda', 1e-09), ('scale_pos_weight', 7)])\n",
      "\n"
     ]
    },
    {
     "data": {
      "application/javascript": [
       "\n",
       "        if (window._pyforest_update_imports_cell) { window._pyforest_update_imports_cell('import numpy as np'); }\n",
       "    "
      ],
      "text/plain": [
       "<IPython.core.display.Javascript object>"
      ]
     },
     "metadata": {},
     "output_type": "display_data"
    },
    {
     "name": "stdout",
     "output_type": "stream",
     "text": [
      "Model #25\n",
      "Best ROC-AUC: 0.7601\n",
      "Best params: OrderedDict([('colsample_bytree', 1.0), ('learning_rate', 0.01), ('max_bin', 1000), ('max_depth', 3), ('min_child_samples', 0), ('min_data_in_leaf', 20), ('n_estimators', 161), ('num_leaves', 2), ('reg_alpha', 1e-09), ('reg_lambda', 1e-09), ('scale_pos_weight', 7)])\n",
      "\n"
     ]
    },
    {
     "data": {
      "application/javascript": [
       "\n",
       "        if (window._pyforest_update_imports_cell) { window._pyforest_update_imports_cell('import numpy as np'); }\n",
       "    "
      ],
      "text/plain": [
       "<IPython.core.display.Javascript object>"
      ]
     },
     "metadata": {},
     "output_type": "display_data"
    },
    {
     "name": "stdout",
     "output_type": "stream",
     "text": [
      "Model #26\n",
      "Best ROC-AUC: 0.7601\n",
      "Best params: OrderedDict([('colsample_bytree', 1.0), ('learning_rate', 0.01), ('max_bin', 1000), ('max_depth', 3), ('min_child_samples', 0), ('min_data_in_leaf', 20), ('n_estimators', 161), ('num_leaves', 2), ('reg_alpha', 1e-09), ('reg_lambda', 1e-09), ('scale_pos_weight', 7)])\n",
      "\n"
     ]
    },
    {
     "data": {
      "application/javascript": [
       "\n",
       "        if (window._pyforest_update_imports_cell) { window._pyforest_update_imports_cell('import numpy as np'); }\n",
       "    "
      ],
      "text/plain": [
       "<IPython.core.display.Javascript object>"
      ]
     },
     "metadata": {},
     "output_type": "display_data"
    },
    {
     "name": "stdout",
     "output_type": "stream",
     "text": [
      "Model #27\n",
      "Best ROC-AUC: 0.7601\n",
      "Best params: OrderedDict([('colsample_bytree', 1.0), ('learning_rate', 0.01), ('max_bin', 1000), ('max_depth', 3), ('min_child_samples', 0), ('min_data_in_leaf', 20), ('n_estimators', 161), ('num_leaves', 2), ('reg_alpha', 1e-09), ('reg_lambda', 1e-09), ('scale_pos_weight', 7)])\n",
      "\n"
     ]
    },
    {
     "data": {
      "application/javascript": [
       "\n",
       "        if (window._pyforest_update_imports_cell) { window._pyforest_update_imports_cell('import numpy as np'); }\n",
       "    "
      ],
      "text/plain": [
       "<IPython.core.display.Javascript object>"
      ]
     },
     "metadata": {},
     "output_type": "display_data"
    },
    {
     "name": "stdout",
     "output_type": "stream",
     "text": [
      "Model #28\n",
      "Best ROC-AUC: 0.7601\n",
      "Best params: OrderedDict([('colsample_bytree', 1.0), ('learning_rate', 0.01), ('max_bin', 1000), ('max_depth', 3), ('min_child_samples', 0), ('min_data_in_leaf', 20), ('n_estimators', 161), ('num_leaves', 2), ('reg_alpha', 1e-09), ('reg_lambda', 1e-09), ('scale_pos_weight', 7)])\n",
      "\n"
     ]
    },
    {
     "data": {
      "application/javascript": [
       "\n",
       "        if (window._pyforest_update_imports_cell) { window._pyforest_update_imports_cell('import numpy as np'); }\n",
       "    "
      ],
      "text/plain": [
       "<IPython.core.display.Javascript object>"
      ]
     },
     "metadata": {},
     "output_type": "display_data"
    },
    {
     "name": "stdout",
     "output_type": "stream",
     "text": [
      "Model #29\n",
      "Best ROC-AUC: 0.7601\n",
      "Best params: OrderedDict([('colsample_bytree', 1.0), ('learning_rate', 0.01), ('max_bin', 1000), ('max_depth', 3), ('min_child_samples', 0), ('min_data_in_leaf', 20), ('n_estimators', 161), ('num_leaves', 2), ('reg_alpha', 1e-09), ('reg_lambda', 1e-09), ('scale_pos_weight', 7)])\n",
      "\n"
     ]
    },
    {
     "data": {
      "application/javascript": [
       "\n",
       "        if (window._pyforest_update_imports_cell) { window._pyforest_update_imports_cell('import numpy as np'); }\n",
       "    "
      ],
      "text/plain": [
       "<IPython.core.display.Javascript object>"
      ]
     },
     "metadata": {},
     "output_type": "display_data"
    },
    {
     "name": "stdout",
     "output_type": "stream",
     "text": [
      "Model #30\n",
      "Best ROC-AUC: 0.7601\n",
      "Best params: OrderedDict([('colsample_bytree', 1.0), ('learning_rate', 0.01), ('max_bin', 1000), ('max_depth', 3), ('min_child_samples', 0), ('min_data_in_leaf', 20), ('n_estimators', 161), ('num_leaves', 2), ('reg_alpha', 1e-09), ('reg_lambda', 1e-09), ('scale_pos_weight', 7)])\n",
      "\n"
     ]
    },
    {
     "data": {
      "application/javascript": [
       "\n",
       "        if (window._pyforest_update_imports_cell) { window._pyforest_update_imports_cell('import numpy as np'); }\n",
       "    "
      ],
      "text/plain": [
       "<IPython.core.display.Javascript object>"
      ]
     },
     "metadata": {},
     "output_type": "display_data"
    },
    {
     "name": "stdout",
     "output_type": "stream",
     "text": [
      "Model #31\n",
      "Best ROC-AUC: 0.7601\n",
      "Best params: OrderedDict([('colsample_bytree', 1.0), ('learning_rate', 0.01), ('max_bin', 1000), ('max_depth', 3), ('min_child_samples', 0), ('min_data_in_leaf', 20), ('n_estimators', 161), ('num_leaves', 2), ('reg_alpha', 1e-09), ('reg_lambda', 1e-09), ('scale_pos_weight', 7)])\n",
      "\n"
     ]
    },
    {
     "data": {
      "application/javascript": [
       "\n",
       "        if (window._pyforest_update_imports_cell) { window._pyforest_update_imports_cell('import numpy as np'); }\n",
       "    "
      ],
      "text/plain": [
       "<IPython.core.display.Javascript object>"
      ]
     },
     "metadata": {},
     "output_type": "display_data"
    },
    {
     "name": "stdout",
     "output_type": "stream",
     "text": [
      "Model #32\n",
      "Best ROC-AUC: 0.7601\n",
      "Best params: OrderedDict([('colsample_bytree', 1.0), ('learning_rate', 0.01), ('max_bin', 1000), ('max_depth', 3), ('min_child_samples', 0), ('min_data_in_leaf', 20), ('n_estimators', 161), ('num_leaves', 2), ('reg_alpha', 1e-09), ('reg_lambda', 1e-09), ('scale_pos_weight', 7)])\n",
      "\n"
     ]
    },
    {
     "data": {
      "application/javascript": [
       "\n",
       "        if (window._pyforest_update_imports_cell) { window._pyforest_update_imports_cell('import numpy as np'); }\n",
       "    "
      ],
      "text/plain": [
       "<IPython.core.display.Javascript object>"
      ]
     },
     "metadata": {},
     "output_type": "display_data"
    },
    {
     "name": "stdout",
     "output_type": "stream",
     "text": [
      "Model #33\n",
      "Best ROC-AUC: 0.7601\n",
      "Best params: OrderedDict([('colsample_bytree', 1.0), ('learning_rate', 0.01), ('max_bin', 1000), ('max_depth', 3), ('min_child_samples', 0), ('min_data_in_leaf', 20), ('n_estimators', 161), ('num_leaves', 2), ('reg_alpha', 1e-09), ('reg_lambda', 1e-09), ('scale_pos_weight', 7)])\n",
      "\n"
     ]
    },
    {
     "data": {
      "application/javascript": [
       "\n",
       "        if (window._pyforest_update_imports_cell) { window._pyforest_update_imports_cell('import numpy as np'); }\n",
       "    "
      ],
      "text/plain": [
       "<IPython.core.display.Javascript object>"
      ]
     },
     "metadata": {},
     "output_type": "display_data"
    },
    {
     "name": "stdout",
     "output_type": "stream",
     "text": [
      "Model #34\n",
      "Best ROC-AUC: 0.7601\n",
      "Best params: OrderedDict([('colsample_bytree', 1.0), ('learning_rate', 0.01), ('max_bin', 1000), ('max_depth', 3), ('min_child_samples', 0), ('min_data_in_leaf', 20), ('n_estimators', 161), ('num_leaves', 2), ('reg_alpha', 1e-09), ('reg_lambda', 1e-09), ('scale_pos_weight', 7)])\n",
      "\n"
     ]
    },
    {
     "data": {
      "application/javascript": [
       "\n",
       "        if (window._pyforest_update_imports_cell) { window._pyforest_update_imports_cell('import numpy as np'); }\n",
       "    "
      ],
      "text/plain": [
       "<IPython.core.display.Javascript object>"
      ]
     },
     "metadata": {},
     "output_type": "display_data"
    },
    {
     "name": "stdout",
     "output_type": "stream",
     "text": [
      "Model #35\n",
      "Best ROC-AUC: 0.7601\n",
      "Best params: OrderedDict([('colsample_bytree', 1.0), ('learning_rate', 0.01), ('max_bin', 1000), ('max_depth', 3), ('min_child_samples', 0), ('min_data_in_leaf', 20), ('n_estimators', 161), ('num_leaves', 2), ('reg_alpha', 1e-09), ('reg_lambda', 1e-09), ('scale_pos_weight', 7)])\n",
      "\n"
     ]
    },
    {
     "data": {
      "application/javascript": [
       "\n",
       "        if (window._pyforest_update_imports_cell) { window._pyforest_update_imports_cell('import numpy as np'); }\n",
       "    "
      ],
      "text/plain": [
       "<IPython.core.display.Javascript object>"
      ]
     },
     "metadata": {},
     "output_type": "display_data"
    },
    {
     "name": "stdout",
     "output_type": "stream",
     "text": [
      "Model #36\n",
      "Best ROC-AUC: 0.7601\n",
      "Best params: OrderedDict([('colsample_bytree', 1.0), ('learning_rate', 0.01), ('max_bin', 1000), ('max_depth', 3), ('min_child_samples', 0), ('min_data_in_leaf', 20), ('n_estimators', 161), ('num_leaves', 2), ('reg_alpha', 1e-09), ('reg_lambda', 1e-09), ('scale_pos_weight', 7)])\n",
      "\n"
     ]
    },
    {
     "data": {
      "application/javascript": [
       "\n",
       "        if (window._pyforest_update_imports_cell) { window._pyforest_update_imports_cell('import numpy as np'); }\n",
       "    "
      ],
      "text/plain": [
       "<IPython.core.display.Javascript object>"
      ]
     },
     "metadata": {},
     "output_type": "display_data"
    },
    {
     "name": "stdout",
     "output_type": "stream",
     "text": [
      "Model #37\n",
      "Best ROC-AUC: 0.7601\n",
      "Best params: OrderedDict([('colsample_bytree', 1.0), ('learning_rate', 0.01), ('max_bin', 1000), ('max_depth', 3), ('min_child_samples', 0), ('min_data_in_leaf', 20), ('n_estimators', 161), ('num_leaves', 2), ('reg_alpha', 1e-09), ('reg_lambda', 1e-09), ('scale_pos_weight', 7)])\n",
      "\n"
     ]
    },
    {
     "data": {
      "application/javascript": [
       "\n",
       "        if (window._pyforest_update_imports_cell) { window._pyforest_update_imports_cell('import numpy as np'); }\n",
       "    "
      ],
      "text/plain": [
       "<IPython.core.display.Javascript object>"
      ]
     },
     "metadata": {},
     "output_type": "display_data"
    },
    {
     "name": "stdout",
     "output_type": "stream",
     "text": [
      "Model #38\n",
      "Best ROC-AUC: 0.7612\n",
      "Best params: OrderedDict([('colsample_bytree', 0.8938349449129972), ('learning_rate', 0.01), ('max_bin', 1000), ('max_depth', 3), ('min_child_samples', 0), ('min_data_in_leaf', 31), ('n_estimators', 400), ('num_leaves', 2), ('reg_alpha', 1e-09), ('reg_lambda', 0.010385650059070307), ('scale_pos_weight', 90)])\n",
      "\n"
     ]
    },
    {
     "data": {
      "application/javascript": [
       "\n",
       "        if (window._pyforest_update_imports_cell) { window._pyforest_update_imports_cell('import numpy as np'); }\n",
       "    "
      ],
      "text/plain": [
       "<IPython.core.display.Javascript object>"
      ]
     },
     "metadata": {},
     "output_type": "display_data"
    },
    {
     "name": "stdout",
     "output_type": "stream",
     "text": [
      "Model #39\n",
      "Best ROC-AUC: 0.7618\n",
      "Best params: OrderedDict([('colsample_bytree', 1.0), ('learning_rate', 0.01), ('max_bin', 1000), ('max_depth', 10), ('min_child_samples', 0), ('min_data_in_leaf', 100), ('n_estimators', 400), ('num_leaves', 2), ('reg_alpha', 1e-09), ('reg_lambda', 1e-09), ('scale_pos_weight', 90)])\n",
      "\n"
     ]
    },
    {
     "data": {
      "application/javascript": [
       "\n",
       "        if (window._pyforest_update_imports_cell) { window._pyforest_update_imports_cell('import numpy as np'); }\n",
       "    "
      ],
      "text/plain": [
       "<IPython.core.display.Javascript object>"
      ]
     },
     "metadata": {},
     "output_type": "display_data"
    },
    {
     "name": "stdout",
     "output_type": "stream",
     "text": [
      "Model #40\n",
      "Best ROC-AUC: 0.7618\n",
      "Best params: OrderedDict([('colsample_bytree', 1.0), ('learning_rate', 0.01), ('max_bin', 1000), ('max_depth', 10), ('min_child_samples', 0), ('min_data_in_leaf', 100), ('n_estimators', 400), ('num_leaves', 2), ('reg_alpha', 1e-09), ('reg_lambda', 1e-09), ('scale_pos_weight', 90)])\n",
      "\n"
     ]
    },
    {
     "data": {
      "application/javascript": [
       "\n",
       "        if (window._pyforest_update_imports_cell) { window._pyforest_update_imports_cell('import numpy as np'); }\n",
       "    "
      ],
      "text/plain": [
       "<IPython.core.display.Javascript object>"
      ]
     },
     "metadata": {},
     "output_type": "display_data"
    },
    {
     "name": "stdout",
     "output_type": "stream",
     "text": [
      "Model #41\n",
      "Best ROC-AUC: 0.7618\n",
      "Best params: OrderedDict([('colsample_bytree', 1.0), ('learning_rate', 0.01), ('max_bin', 1000), ('max_depth', 10), ('min_child_samples', 0), ('min_data_in_leaf', 100), ('n_estimators', 400), ('num_leaves', 2), ('reg_alpha', 1e-09), ('reg_lambda', 1e-09), ('scale_pos_weight', 90)])\n",
      "\n"
     ]
    },
    {
     "data": {
      "application/javascript": [
       "\n",
       "        if (window._pyforest_update_imports_cell) { window._pyforest_update_imports_cell('import numpy as np'); }\n",
       "    "
      ],
      "text/plain": [
       "<IPython.core.display.Javascript object>"
      ]
     },
     "metadata": {},
     "output_type": "display_data"
    },
    {
     "name": "stdout",
     "output_type": "stream",
     "text": [
      "Model #42\n",
      "Best ROC-AUC: 0.7618\n",
      "Best params: OrderedDict([('colsample_bytree', 1.0), ('learning_rate', 0.01), ('max_bin', 1000), ('max_depth', 10), ('min_child_samples', 0), ('min_data_in_leaf', 100), ('n_estimators', 400), ('num_leaves', 2), ('reg_alpha', 1e-09), ('reg_lambda', 1e-09), ('scale_pos_weight', 90)])\n",
      "\n"
     ]
    },
    {
     "data": {
      "application/javascript": [
       "\n",
       "        if (window._pyforest_update_imports_cell) { window._pyforest_update_imports_cell('import numpy as np'); }\n",
       "    "
      ],
      "text/plain": [
       "<IPython.core.display.Javascript object>"
      ]
     },
     "metadata": {},
     "output_type": "display_data"
    },
    {
     "name": "stdout",
     "output_type": "stream",
     "text": [
      "Model #43\n",
      "Best ROC-AUC: 0.7618\n",
      "Best params: OrderedDict([('colsample_bytree', 1.0), ('learning_rate', 0.01), ('max_bin', 1000), ('max_depth', 10), ('min_child_samples', 0), ('min_data_in_leaf', 100), ('n_estimators', 400), ('num_leaves', 2), ('reg_alpha', 1e-09), ('reg_lambda', 1e-09), ('scale_pos_weight', 90)])\n",
      "\n"
     ]
    },
    {
     "data": {
      "application/javascript": [
       "\n",
       "        if (window._pyforest_update_imports_cell) { window._pyforest_update_imports_cell('import numpy as np'); }\n",
       "    "
      ],
      "text/plain": [
       "<IPython.core.display.Javascript object>"
      ]
     },
     "metadata": {},
     "output_type": "display_data"
    },
    {
     "name": "stdout",
     "output_type": "stream",
     "text": [
      "Model #44\n",
      "Best ROC-AUC: 0.7618\n",
      "Best params: OrderedDict([('colsample_bytree', 1.0), ('learning_rate', 0.01), ('max_bin', 1000), ('max_depth', 10), ('min_child_samples', 0), ('min_data_in_leaf', 100), ('n_estimators', 400), ('num_leaves', 2), ('reg_alpha', 1e-09), ('reg_lambda', 1e-09), ('scale_pos_weight', 90)])\n",
      "\n"
     ]
    },
    {
     "data": {
      "application/javascript": [
       "\n",
       "        if (window._pyforest_update_imports_cell) { window._pyforest_update_imports_cell('import numpy as np'); }\n",
       "    "
      ],
      "text/plain": [
       "<IPython.core.display.Javascript object>"
      ]
     },
     "metadata": {},
     "output_type": "display_data"
    },
    {
     "name": "stdout",
     "output_type": "stream",
     "text": [
      "Model #45\n",
      "Best ROC-AUC: 0.7618\n",
      "Best params: OrderedDict([('colsample_bytree', 1.0), ('learning_rate', 0.01), ('max_bin', 1000), ('max_depth', 10), ('min_child_samples', 0), ('min_data_in_leaf', 100), ('n_estimators', 400), ('num_leaves', 2), ('reg_alpha', 1e-09), ('reg_lambda', 1e-09), ('scale_pos_weight', 90)])\n",
      "\n"
     ]
    },
    {
     "data": {
      "application/javascript": [
       "\n",
       "        if (window._pyforest_update_imports_cell) { window._pyforest_update_imports_cell('import numpy as np'); }\n",
       "    "
      ],
      "text/plain": [
       "<IPython.core.display.Javascript object>"
      ]
     },
     "metadata": {},
     "output_type": "display_data"
    },
    {
     "name": "stdout",
     "output_type": "stream",
     "text": [
      "Model #46\n",
      "Best ROC-AUC: 0.7618\n",
      "Best params: OrderedDict([('colsample_bytree', 1.0), ('learning_rate', 0.01), ('max_bin', 1000), ('max_depth', 10), ('min_child_samples', 0), ('min_data_in_leaf', 100), ('n_estimators', 400), ('num_leaves', 2), ('reg_alpha', 1e-09), ('reg_lambda', 1e-09), ('scale_pos_weight', 90)])\n",
      "\n"
     ]
    },
    {
     "data": {
      "application/javascript": [
       "\n",
       "        if (window._pyforest_update_imports_cell) { window._pyforest_update_imports_cell('import numpy as np'); }\n",
       "    "
      ],
      "text/plain": [
       "<IPython.core.display.Javascript object>"
      ]
     },
     "metadata": {},
     "output_type": "display_data"
    },
    {
     "name": "stdout",
     "output_type": "stream",
     "text": [
      "Model #47\n",
      "Best ROC-AUC: 0.7618\n",
      "Best params: OrderedDict([('colsample_bytree', 1.0), ('learning_rate', 0.01), ('max_bin', 1000), ('max_depth', 10), ('min_child_samples', 0), ('min_data_in_leaf', 100), ('n_estimators', 400), ('num_leaves', 2), ('reg_alpha', 1e-09), ('reg_lambda', 1e-09), ('scale_pos_weight', 90)])\n",
      "\n"
     ]
    },
    {
     "data": {
      "application/javascript": [
       "\n",
       "        if (window._pyforest_update_imports_cell) { window._pyforest_update_imports_cell('import numpy as np'); }\n",
       "    "
      ],
      "text/plain": [
       "<IPython.core.display.Javascript object>"
      ]
     },
     "metadata": {},
     "output_type": "display_data"
    },
    {
     "name": "stdout",
     "output_type": "stream",
     "text": [
      "Model #48\n",
      "Best ROC-AUC: 0.7618\n",
      "Best params: OrderedDict([('colsample_bytree', 1.0), ('learning_rate', 0.01), ('max_bin', 1000), ('max_depth', 10), ('min_child_samples', 0), ('min_data_in_leaf', 100), ('n_estimators', 400), ('num_leaves', 2), ('reg_alpha', 1e-09), ('reg_lambda', 1e-09), ('scale_pos_weight', 90)])\n",
      "\n"
     ]
    },
    {
     "data": {
      "application/javascript": [
       "\n",
       "        if (window._pyforest_update_imports_cell) { window._pyforest_update_imports_cell('import numpy as np'); }\n",
       "    "
      ],
      "text/plain": [
       "<IPython.core.display.Javascript object>"
      ]
     },
     "metadata": {},
     "output_type": "display_data"
    },
    {
     "name": "stdout",
     "output_type": "stream",
     "text": [
      "Model #49\n",
      "Best ROC-AUC: 0.7618\n",
      "Best params: OrderedDict([('colsample_bytree', 1.0), ('learning_rate', 0.01), ('max_bin', 1000), ('max_depth', 10), ('min_child_samples', 0), ('min_data_in_leaf', 100), ('n_estimators', 400), ('num_leaves', 2), ('reg_alpha', 1e-09), ('reg_lambda', 1e-09), ('scale_pos_weight', 90)])\n",
      "\n"
     ]
    },
    {
     "data": {
      "application/javascript": [
       "\n",
       "        if (window._pyforest_update_imports_cell) { window._pyforest_update_imports_cell('import numpy as np'); }\n",
       "    "
      ],
      "text/plain": [
       "<IPython.core.display.Javascript object>"
      ]
     },
     "metadata": {},
     "output_type": "display_data"
    },
    {
     "name": "stdout",
     "output_type": "stream",
     "text": [
      "Model #50\n",
      "Best ROC-AUC: 0.7618\n",
      "Best params: OrderedDict([('colsample_bytree', 1.0), ('learning_rate', 0.01), ('max_bin', 1000), ('max_depth', 10), ('min_child_samples', 0), ('min_data_in_leaf', 100), ('n_estimators', 400), ('num_leaves', 2), ('reg_alpha', 1e-09), ('reg_lambda', 1e-09), ('scale_pos_weight', 90)])\n",
      "\n"
     ]
    },
    {
     "data": {
      "application/javascript": [
       "\n",
       "        if (window._pyforest_update_imports_cell) { window._pyforest_update_imports_cell('import numpy as np'); }\n",
       "    "
      ],
      "text/plain": [
       "<IPython.core.display.Javascript object>"
      ]
     },
     "metadata": {},
     "output_type": "display_data"
    },
    {
     "name": "stdout",
     "output_type": "stream",
     "text": [
      "Model #51\n",
      "Best ROC-AUC: 0.7618\n",
      "Best params: OrderedDict([('colsample_bytree', 1.0), ('learning_rate', 0.01), ('max_bin', 1000), ('max_depth', 10), ('min_child_samples', 0), ('min_data_in_leaf', 100), ('n_estimators', 400), ('num_leaves', 2), ('reg_alpha', 1e-09), ('reg_lambda', 1e-09), ('scale_pos_weight', 90)])\n",
      "\n"
     ]
    },
    {
     "data": {
      "application/javascript": [
       "\n",
       "        if (window._pyforest_update_imports_cell) { window._pyforest_update_imports_cell('import numpy as np'); }\n",
       "    "
      ],
      "text/plain": [
       "<IPython.core.display.Javascript object>"
      ]
     },
     "metadata": {},
     "output_type": "display_data"
    },
    {
     "name": "stdout",
     "output_type": "stream",
     "text": [
      "Model #52\n",
      "Best ROC-AUC: 0.7618\n",
      "Best params: OrderedDict([('colsample_bytree', 1.0), ('learning_rate', 0.01), ('max_bin', 1000), ('max_depth', 10), ('min_child_samples', 0), ('min_data_in_leaf', 100), ('n_estimators', 400), ('num_leaves', 2), ('reg_alpha', 1e-09), ('reg_lambda', 1e-09), ('scale_pos_weight', 90)])\n",
      "\n"
     ]
    },
    {
     "data": {
      "application/javascript": [
       "\n",
       "        if (window._pyforest_update_imports_cell) { window._pyforest_update_imports_cell('import numpy as np'); }\n",
       "    "
      ],
      "text/plain": [
       "<IPython.core.display.Javascript object>"
      ]
     },
     "metadata": {},
     "output_type": "display_data"
    },
    {
     "name": "stdout",
     "output_type": "stream",
     "text": [
      "Model #53\n",
      "Best ROC-AUC: 0.7618\n",
      "Best params: OrderedDict([('colsample_bytree', 1.0), ('learning_rate', 0.01), ('max_bin', 1000), ('max_depth', 10), ('min_child_samples', 0), ('min_data_in_leaf', 100), ('n_estimators', 400), ('num_leaves', 2), ('reg_alpha', 1e-09), ('reg_lambda', 1e-09), ('scale_pos_weight', 90)])\n",
      "\n"
     ]
    },
    {
     "data": {
      "application/javascript": [
       "\n",
       "        if (window._pyforest_update_imports_cell) { window._pyforest_update_imports_cell('import numpy as np'); }\n",
       "    "
      ],
      "text/plain": [
       "<IPython.core.display.Javascript object>"
      ]
     },
     "metadata": {},
     "output_type": "display_data"
    },
    {
     "name": "stdout",
     "output_type": "stream",
     "text": [
      "Model #54\n",
      "Best ROC-AUC: 0.7621\n",
      "Best params: OrderedDict([('colsample_bytree', 0.5), ('learning_rate', 0.01), ('max_bin', 499), ('max_depth', 3), ('min_child_samples', 50), ('min_data_in_leaf', 100), ('n_estimators', 400), ('num_leaves', 2), ('reg_alpha', 1.0), ('reg_lambda', 1e-09), ('scale_pos_weight', 90)])\n",
      "\n"
     ]
    },
    {
     "data": {
      "application/javascript": [
       "\n",
       "        if (window._pyforest_update_imports_cell) { window._pyforest_update_imports_cell('import numpy as np'); }\n",
       "    "
      ],
      "text/plain": [
       "<IPython.core.display.Javascript object>"
      ]
     },
     "metadata": {},
     "output_type": "display_data"
    },
    {
     "name": "stdout",
     "output_type": "stream",
     "text": [
      "Model #55\n",
      "Best ROC-AUC: 0.7621\n",
      "Best params: OrderedDict([('colsample_bytree', 0.5), ('learning_rate', 0.01), ('max_bin', 499), ('max_depth', 3), ('min_child_samples', 50), ('min_data_in_leaf', 100), ('n_estimators', 400), ('num_leaves', 2), ('reg_alpha', 1.0), ('reg_lambda', 1e-09), ('scale_pos_weight', 90)])\n",
      "\n"
     ]
    },
    {
     "data": {
      "application/javascript": [
       "\n",
       "        if (window._pyforest_update_imports_cell) { window._pyforest_update_imports_cell('import numpy as np'); }\n",
       "    "
      ],
      "text/plain": [
       "<IPython.core.display.Javascript object>"
      ]
     },
     "metadata": {},
     "output_type": "display_data"
    },
    {
     "name": "stdout",
     "output_type": "stream",
     "text": [
      "Model #56\n",
      "Best ROC-AUC: 0.7621\n",
      "Best params: OrderedDict([('colsample_bytree', 0.5), ('learning_rate', 0.01), ('max_bin', 499), ('max_depth', 3), ('min_child_samples', 50), ('min_data_in_leaf', 100), ('n_estimators', 400), ('num_leaves', 2), ('reg_alpha', 1.0), ('reg_lambda', 1e-09), ('scale_pos_weight', 90)])\n",
      "\n"
     ]
    },
    {
     "data": {
      "application/javascript": [
       "\n",
       "        if (window._pyforest_update_imports_cell) { window._pyforest_update_imports_cell('import numpy as np'); }\n",
       "    "
      ],
      "text/plain": [
       "<IPython.core.display.Javascript object>"
      ]
     },
     "metadata": {},
     "output_type": "display_data"
    },
    {
     "name": "stdout",
     "output_type": "stream",
     "text": [
      "Model #57\n",
      "Best ROC-AUC: 0.7621\n",
      "Best params: OrderedDict([('colsample_bytree', 0.5), ('learning_rate', 0.01), ('max_bin', 499), ('max_depth', 3), ('min_child_samples', 50), ('min_data_in_leaf', 100), ('n_estimators', 400), ('num_leaves', 2), ('reg_alpha', 1.0), ('reg_lambda', 1e-09), ('scale_pos_weight', 90)])\n",
      "\n"
     ]
    },
    {
     "data": {
      "application/javascript": [
       "\n",
       "        if (window._pyforest_update_imports_cell) { window._pyforest_update_imports_cell('import numpy as np'); }\n",
       "    "
      ],
      "text/plain": [
       "<IPython.core.display.Javascript object>"
      ]
     },
     "metadata": {},
     "output_type": "display_data"
    },
    {
     "name": "stdout",
     "output_type": "stream",
     "text": [
      "Model #58\n",
      "Best ROC-AUC: 0.7621\n",
      "Best params: OrderedDict([('colsample_bytree', 0.5), ('learning_rate', 0.01), ('max_bin', 499), ('max_depth', 3), ('min_child_samples', 50), ('min_data_in_leaf', 100), ('n_estimators', 400), ('num_leaves', 2), ('reg_alpha', 1.0), ('reg_lambda', 1e-09), ('scale_pos_weight', 90)])\n",
      "\n"
     ]
    },
    {
     "data": {
      "application/javascript": [
       "\n",
       "        if (window._pyforest_update_imports_cell) { window._pyforest_update_imports_cell('import numpy as np'); }\n",
       "    "
      ],
      "text/plain": [
       "<IPython.core.display.Javascript object>"
      ]
     },
     "metadata": {},
     "output_type": "display_data"
    },
    {
     "name": "stdout",
     "output_type": "stream",
     "text": [
      "Model #59\n",
      "Best ROC-AUC: 0.7621\n",
      "Best params: OrderedDict([('colsample_bytree', 0.5), ('learning_rate', 0.01), ('max_bin', 499), ('max_depth', 3), ('min_child_samples', 50), ('min_data_in_leaf', 100), ('n_estimators', 400), ('num_leaves', 2), ('reg_alpha', 1.0), ('reg_lambda', 1e-09), ('scale_pos_weight', 90)])\n",
      "\n"
     ]
    },
    {
     "data": {
      "application/javascript": [
       "\n",
       "        if (window._pyforest_update_imports_cell) { window._pyforest_update_imports_cell('import numpy as np'); }\n",
       "    "
      ],
      "text/plain": [
       "<IPython.core.display.Javascript object>"
      ]
     },
     "metadata": {},
     "output_type": "display_data"
    },
    {
     "name": "stdout",
     "output_type": "stream",
     "text": [
      "Model #60\n",
      "Best ROC-AUC: 0.7621\n",
      "Best params: OrderedDict([('colsample_bytree', 0.5), ('learning_rate', 0.01), ('max_bin', 499), ('max_depth', 3), ('min_child_samples', 50), ('min_data_in_leaf', 100), ('n_estimators', 400), ('num_leaves', 2), ('reg_alpha', 1.0), ('reg_lambda', 1e-09), ('scale_pos_weight', 90)])\n",
      "\n"
     ]
    },
    {
     "data": {
      "application/javascript": [
       "\n",
       "        if (window._pyforest_update_imports_cell) { window._pyforest_update_imports_cell('import numpy as np'); }\n",
       "    "
      ],
      "text/plain": [
       "<IPython.core.display.Javascript object>"
      ]
     },
     "metadata": {},
     "output_type": "display_data"
    },
    {
     "name": "stdout",
     "output_type": "stream",
     "text": [
      "Model #61\n",
      "Best ROC-AUC: 0.7621\n",
      "Best params: OrderedDict([('colsample_bytree', 0.5), ('learning_rate', 0.01), ('max_bin', 499), ('max_depth', 3), ('min_child_samples', 50), ('min_data_in_leaf', 100), ('n_estimators', 400), ('num_leaves', 2), ('reg_alpha', 1.0), ('reg_lambda', 1e-09), ('scale_pos_weight', 90)])\n",
      "\n"
     ]
    },
    {
     "data": {
      "application/javascript": [
       "\n",
       "        if (window._pyforest_update_imports_cell) { window._pyforest_update_imports_cell('import numpy as np'); }\n",
       "    "
      ],
      "text/plain": [
       "<IPython.core.display.Javascript object>"
      ]
     },
     "metadata": {},
     "output_type": "display_data"
    },
    {
     "name": "stdout",
     "output_type": "stream",
     "text": [
      "Model #62\n",
      "Best ROC-AUC: 0.7621\n",
      "Best params: OrderedDict([('colsample_bytree', 0.5), ('learning_rate', 0.01), ('max_bin', 499), ('max_depth', 3), ('min_child_samples', 50), ('min_data_in_leaf', 100), ('n_estimators', 400), ('num_leaves', 2), ('reg_alpha', 1.0), ('reg_lambda', 1e-09), ('scale_pos_weight', 90)])\n",
      "\n"
     ]
    },
    {
     "data": {
      "application/javascript": [
       "\n",
       "        if (window._pyforest_update_imports_cell) { window._pyforest_update_imports_cell('import numpy as np'); }\n",
       "    "
      ],
      "text/plain": [
       "<IPython.core.display.Javascript object>"
      ]
     },
     "metadata": {},
     "output_type": "display_data"
    },
    {
     "name": "stdout",
     "output_type": "stream",
     "text": [
      "Model #63\n",
      "Best ROC-AUC: 0.7621\n",
      "Best params: OrderedDict([('colsample_bytree', 0.5), ('learning_rate', 0.01), ('max_bin', 499), ('max_depth', 3), ('min_child_samples', 50), ('min_data_in_leaf', 100), ('n_estimators', 400), ('num_leaves', 2), ('reg_alpha', 1.0), ('reg_lambda', 1e-09), ('scale_pos_weight', 90)])\n",
      "\n"
     ]
    },
    {
     "data": {
      "application/javascript": [
       "\n",
       "        if (window._pyforest_update_imports_cell) { window._pyforest_update_imports_cell('import numpy as np'); }\n",
       "    "
      ],
      "text/plain": [
       "<IPython.core.display.Javascript object>"
      ]
     },
     "metadata": {},
     "output_type": "display_data"
    },
    {
     "name": "stdout",
     "output_type": "stream",
     "text": [
      "Model #64\n",
      "Best ROC-AUC: 0.7621\n",
      "Best params: OrderedDict([('colsample_bytree', 0.5), ('learning_rate', 0.01), ('max_bin', 499), ('max_depth', 3), ('min_child_samples', 50), ('min_data_in_leaf', 100), ('n_estimators', 400), ('num_leaves', 2), ('reg_alpha', 1.0), ('reg_lambda', 1e-09), ('scale_pos_weight', 90)])\n",
      "\n"
     ]
    },
    {
     "data": {
      "application/javascript": [
       "\n",
       "        if (window._pyforest_update_imports_cell) { window._pyforest_update_imports_cell('import numpy as np'); }\n",
       "    "
      ],
      "text/plain": [
       "<IPython.core.display.Javascript object>"
      ]
     },
     "metadata": {},
     "output_type": "display_data"
    },
    {
     "name": "stdout",
     "output_type": "stream",
     "text": [
      "Model #65\n",
      "Best ROC-AUC: 0.7621\n",
      "Best params: OrderedDict([('colsample_bytree', 0.5), ('learning_rate', 0.01), ('max_bin', 499), ('max_depth', 3), ('min_child_samples', 50), ('min_data_in_leaf', 100), ('n_estimators', 400), ('num_leaves', 2), ('reg_alpha', 1.0), ('reg_lambda', 1e-09), ('scale_pos_weight', 90)])\n",
      "\n"
     ]
    },
    {
     "data": {
      "application/javascript": [
       "\n",
       "        if (window._pyforest_update_imports_cell) { window._pyforest_update_imports_cell('import numpy as np'); }\n",
       "    "
      ],
      "text/plain": [
       "<IPython.core.display.Javascript object>"
      ]
     },
     "metadata": {},
     "output_type": "display_data"
    },
    {
     "name": "stdout",
     "output_type": "stream",
     "text": [
      "Model #66\n",
      "Best ROC-AUC: 0.7621\n",
      "Best params: OrderedDict([('colsample_bytree', 0.5), ('learning_rate', 0.01), ('max_bin', 499), ('max_depth', 3), ('min_child_samples', 50), ('min_data_in_leaf', 100), ('n_estimators', 400), ('num_leaves', 2), ('reg_alpha', 1.0), ('reg_lambda', 1e-09), ('scale_pos_weight', 90)])\n",
      "\n"
     ]
    },
    {
     "data": {
      "application/javascript": [
       "\n",
       "        if (window._pyforest_update_imports_cell) { window._pyforest_update_imports_cell('import numpy as np'); }\n",
       "    "
      ],
      "text/plain": [
       "<IPython.core.display.Javascript object>"
      ]
     },
     "metadata": {},
     "output_type": "display_data"
    },
    {
     "name": "stdout",
     "output_type": "stream",
     "text": [
      "Model #67\n",
      "Best ROC-AUC: 0.7636\n",
      "Best params: OrderedDict([('colsample_bytree', 0.6799685811200057), ('learning_rate', 0.01), ('max_bin', 100), ('max_depth', 8), ('min_child_samples', 10), ('min_data_in_leaf', 20), ('n_estimators', 400), ('num_leaves', 2), ('reg_alpha', 1e-09), ('reg_lambda', 1.0), ('scale_pos_weight', 70)])\n",
      "\n"
     ]
    },
    {
     "data": {
      "application/javascript": [
       "\n",
       "        if (window._pyforest_update_imports_cell) { window._pyforest_update_imports_cell('import numpy as np'); }\n",
       "    "
      ],
      "text/plain": [
       "<IPython.core.display.Javascript object>"
      ]
     },
     "metadata": {},
     "output_type": "display_data"
    },
    {
     "name": "stdout",
     "output_type": "stream",
     "text": [
      "Model #68\n",
      "Best ROC-AUC: 0.7636\n",
      "Best params: OrderedDict([('colsample_bytree', 0.6799685811200057), ('learning_rate', 0.01), ('max_bin', 100), ('max_depth', 8), ('min_child_samples', 10), ('min_data_in_leaf', 20), ('n_estimators', 400), ('num_leaves', 2), ('reg_alpha', 1e-09), ('reg_lambda', 1.0), ('scale_pos_weight', 70)])\n",
      "\n"
     ]
    },
    {
     "data": {
      "application/javascript": [
       "\n",
       "        if (window._pyforest_update_imports_cell) { window._pyforest_update_imports_cell('import numpy as np'); }\n",
       "    "
      ],
      "text/plain": [
       "<IPython.core.display.Javascript object>"
      ]
     },
     "metadata": {},
     "output_type": "display_data"
    },
    {
     "name": "stdout",
     "output_type": "stream",
     "text": [
      "Model #69\n",
      "Best ROC-AUC: 0.7636\n",
      "Best params: OrderedDict([('colsample_bytree', 0.6799685811200057), ('learning_rate', 0.01), ('max_bin', 100), ('max_depth', 8), ('min_child_samples', 10), ('min_data_in_leaf', 20), ('n_estimators', 400), ('num_leaves', 2), ('reg_alpha', 1e-09), ('reg_lambda', 1.0), ('scale_pos_weight', 70)])\n",
      "\n"
     ]
    },
    {
     "data": {
      "application/javascript": [
       "\n",
       "        if (window._pyforest_update_imports_cell) { window._pyforest_update_imports_cell('import numpy as np'); }\n",
       "    "
      ],
      "text/plain": [
       "<IPython.core.display.Javascript object>"
      ]
     },
     "metadata": {},
     "output_type": "display_data"
    },
    {
     "name": "stdout",
     "output_type": "stream",
     "text": [
      "Model #70\n",
      "Best ROC-AUC: 0.7636\n",
      "Best params: OrderedDict([('colsample_bytree', 0.6799685811200057), ('learning_rate', 0.01), ('max_bin', 100), ('max_depth', 8), ('min_child_samples', 10), ('min_data_in_leaf', 20), ('n_estimators', 400), ('num_leaves', 2), ('reg_alpha', 1e-09), ('reg_lambda', 1.0), ('scale_pos_weight', 70)])\n",
      "\n"
     ]
    },
    {
     "data": {
      "application/javascript": [
       "\n",
       "        if (window._pyforest_update_imports_cell) { window._pyforest_update_imports_cell('import numpy as np'); }\n",
       "    "
      ],
      "text/plain": [
       "<IPython.core.display.Javascript object>"
      ]
     },
     "metadata": {},
     "output_type": "display_data"
    },
    {
     "name": "stdout",
     "output_type": "stream",
     "text": [
      "Model #71\n",
      "Best ROC-AUC: 0.7636\n",
      "Best params: OrderedDict([('colsample_bytree', 0.6799685811200057), ('learning_rate', 0.01), ('max_bin', 100), ('max_depth', 8), ('min_child_samples', 10), ('min_data_in_leaf', 20), ('n_estimators', 400), ('num_leaves', 2), ('reg_alpha', 1e-09), ('reg_lambda', 1.0), ('scale_pos_weight', 70)])\n",
      "\n"
     ]
    },
    {
     "data": {
      "application/javascript": [
       "\n",
       "        if (window._pyforest_update_imports_cell) { window._pyforest_update_imports_cell('import numpy as np'); }\n",
       "    "
      ],
      "text/plain": [
       "<IPython.core.display.Javascript object>"
      ]
     },
     "metadata": {},
     "output_type": "display_data"
    },
    {
     "name": "stdout",
     "output_type": "stream",
     "text": [
      "Model #72\n",
      "Best ROC-AUC: 0.7636\n",
      "Best params: OrderedDict([('colsample_bytree', 0.6799685811200057), ('learning_rate', 0.01), ('max_bin', 100), ('max_depth', 8), ('min_child_samples', 10), ('min_data_in_leaf', 20), ('n_estimators', 400), ('num_leaves', 2), ('reg_alpha', 1e-09), ('reg_lambda', 1.0), ('scale_pos_weight', 70)])\n",
      "\n"
     ]
    },
    {
     "data": {
      "application/javascript": [
       "\n",
       "        if (window._pyforest_update_imports_cell) { window._pyforest_update_imports_cell('import numpy as np'); }\n",
       "    "
      ],
      "text/plain": [
       "<IPython.core.display.Javascript object>"
      ]
     },
     "metadata": {},
     "output_type": "display_data"
    },
    {
     "name": "stdout",
     "output_type": "stream",
     "text": [
      "Model #73\n",
      "Best ROC-AUC: 0.7636\n",
      "Best params: OrderedDict([('colsample_bytree', 0.6799685811200057), ('learning_rate', 0.01), ('max_bin', 100), ('max_depth', 8), ('min_child_samples', 10), ('min_data_in_leaf', 20), ('n_estimators', 400), ('num_leaves', 2), ('reg_alpha', 1e-09), ('reg_lambda', 1.0), ('scale_pos_weight', 70)])\n",
      "\n"
     ]
    },
    {
     "data": {
      "application/javascript": [
       "\n",
       "        if (window._pyforest_update_imports_cell) { window._pyforest_update_imports_cell('import numpy as np'); }\n",
       "    "
      ],
      "text/plain": [
       "<IPython.core.display.Javascript object>"
      ]
     },
     "metadata": {},
     "output_type": "display_data"
    },
    {
     "name": "stdout",
     "output_type": "stream",
     "text": [
      "Model #74\n",
      "Best ROC-AUC: 0.7636\n",
      "Best params: OrderedDict([('colsample_bytree', 0.6799685811200057), ('learning_rate', 0.01), ('max_bin', 100), ('max_depth', 8), ('min_child_samples', 10), ('min_data_in_leaf', 20), ('n_estimators', 400), ('num_leaves', 2), ('reg_alpha', 1e-09), ('reg_lambda', 1.0), ('scale_pos_weight', 70)])\n",
      "\n"
     ]
    },
    {
     "data": {
      "application/javascript": [
       "\n",
       "        if (window._pyforest_update_imports_cell) { window._pyforest_update_imports_cell('import numpy as np'); }\n",
       "    "
      ],
      "text/plain": [
       "<IPython.core.display.Javascript object>"
      ]
     },
     "metadata": {},
     "output_type": "display_data"
    },
    {
     "name": "stdout",
     "output_type": "stream",
     "text": [
      "Model #75\n",
      "Best ROC-AUC: 0.7636\n",
      "Best params: OrderedDict([('colsample_bytree', 0.6799685811200057), ('learning_rate', 0.01), ('max_bin', 100), ('max_depth', 8), ('min_child_samples', 10), ('min_data_in_leaf', 20), ('n_estimators', 400), ('num_leaves', 2), ('reg_alpha', 1e-09), ('reg_lambda', 1.0), ('scale_pos_weight', 70)])\n",
      "\n"
     ]
    },
    {
     "data": {
      "application/javascript": [
       "\n",
       "        if (window._pyforest_update_imports_cell) { window._pyforest_update_imports_cell('import numpy as np'); }\n",
       "    "
      ],
      "text/plain": [
       "<IPython.core.display.Javascript object>"
      ]
     },
     "metadata": {},
     "output_type": "display_data"
    },
    {
     "name": "stdout",
     "output_type": "stream",
     "text": [
      "Model #76\n",
      "Best ROC-AUC: 0.7636\n",
      "Best params: OrderedDict([('colsample_bytree', 0.6799685811200057), ('learning_rate', 0.01), ('max_bin', 100), ('max_depth', 8), ('min_child_samples', 10), ('min_data_in_leaf', 20), ('n_estimators', 400), ('num_leaves', 2), ('reg_alpha', 1e-09), ('reg_lambda', 1.0), ('scale_pos_weight', 70)])\n",
      "\n"
     ]
    },
    {
     "data": {
      "application/javascript": [
       "\n",
       "        if (window._pyforest_update_imports_cell) { window._pyforest_update_imports_cell('import numpy as np'); }\n",
       "    "
      ],
      "text/plain": [
       "<IPython.core.display.Javascript object>"
      ]
     },
     "metadata": {},
     "output_type": "display_data"
    },
    {
     "name": "stdout",
     "output_type": "stream",
     "text": [
      "Model #77\n",
      "Best ROC-AUC: 0.7636\n",
      "Best params: OrderedDict([('colsample_bytree', 0.6799685811200057), ('learning_rate', 0.01), ('max_bin', 100), ('max_depth', 8), ('min_child_samples', 10), ('min_data_in_leaf', 20), ('n_estimators', 400), ('num_leaves', 2), ('reg_alpha', 1e-09), ('reg_lambda', 1.0), ('scale_pos_weight', 70)])\n",
      "\n"
     ]
    },
    {
     "data": {
      "application/javascript": [
       "\n",
       "        if (window._pyforest_update_imports_cell) { window._pyforest_update_imports_cell('import numpy as np'); }\n",
       "    "
      ],
      "text/plain": [
       "<IPython.core.display.Javascript object>"
      ]
     },
     "metadata": {},
     "output_type": "display_data"
    },
    {
     "name": "stdout",
     "output_type": "stream",
     "text": [
      "Model #78\n",
      "Best ROC-AUC: 0.7636\n",
      "Best params: OrderedDict([('colsample_bytree', 0.6799685811200057), ('learning_rate', 0.01), ('max_bin', 100), ('max_depth', 8), ('min_child_samples', 10), ('min_data_in_leaf', 20), ('n_estimators', 400), ('num_leaves', 2), ('reg_alpha', 1e-09), ('reg_lambda', 1.0), ('scale_pos_weight', 70)])\n",
      "\n"
     ]
    },
    {
     "data": {
      "application/javascript": [
       "\n",
       "        if (window._pyforest_update_imports_cell) { window._pyforest_update_imports_cell('import numpy as np'); }\n",
       "    "
      ],
      "text/plain": [
       "<IPython.core.display.Javascript object>"
      ]
     },
     "metadata": {},
     "output_type": "display_data"
    },
    {
     "name": "stdout",
     "output_type": "stream",
     "text": [
      "Model #79\n",
      "Best ROC-AUC: 0.7636\n",
      "Best params: OrderedDict([('colsample_bytree', 0.6799685811200057), ('learning_rate', 0.01), ('max_bin', 100), ('max_depth', 8), ('min_child_samples', 10), ('min_data_in_leaf', 20), ('n_estimators', 400), ('num_leaves', 2), ('reg_alpha', 1e-09), ('reg_lambda', 1.0), ('scale_pos_weight', 70)])\n",
      "\n"
     ]
    },
    {
     "data": {
      "application/javascript": [
       "\n",
       "        if (window._pyforest_update_imports_cell) { window._pyforest_update_imports_cell('import numpy as np'); }\n",
       "    "
      ],
      "text/plain": [
       "<IPython.core.display.Javascript object>"
      ]
     },
     "metadata": {},
     "output_type": "display_data"
    },
    {
     "name": "stdout",
     "output_type": "stream",
     "text": [
      "Model #80\n",
      "Best ROC-AUC: 0.7636\n",
      "Best params: OrderedDict([('colsample_bytree', 0.6799685811200057), ('learning_rate', 0.01), ('max_bin', 100), ('max_depth', 8), ('min_child_samples', 10), ('min_data_in_leaf', 20), ('n_estimators', 400), ('num_leaves', 2), ('reg_alpha', 1e-09), ('reg_lambda', 1.0), ('scale_pos_weight', 70)])\n",
      "\n"
     ]
    },
    {
     "data": {
      "application/javascript": [
       "\n",
       "        if (window._pyforest_update_imports_cell) { window._pyforest_update_imports_cell('import numpy as np'); }\n",
       "    "
      ],
      "text/plain": [
       "<IPython.core.display.Javascript object>"
      ]
     },
     "metadata": {},
     "output_type": "display_data"
    },
    {
     "name": "stdout",
     "output_type": "stream",
     "text": [
      "Model #81\n",
      "Best ROC-AUC: 0.7636\n",
      "Best params: OrderedDict([('colsample_bytree', 0.6799685811200057), ('learning_rate', 0.01), ('max_bin', 100), ('max_depth', 8), ('min_child_samples', 10), ('min_data_in_leaf', 20), ('n_estimators', 400), ('num_leaves', 2), ('reg_alpha', 1e-09), ('reg_lambda', 1.0), ('scale_pos_weight', 70)])\n",
      "\n"
     ]
    },
    {
     "data": {
      "application/javascript": [
       "\n",
       "        if (window._pyforest_update_imports_cell) { window._pyforest_update_imports_cell('import numpy as np'); }\n",
       "    "
      ],
      "text/plain": [
       "<IPython.core.display.Javascript object>"
      ]
     },
     "metadata": {},
     "output_type": "display_data"
    },
    {
     "name": "stdout",
     "output_type": "stream",
     "text": [
      "Model #82\n",
      "Best ROC-AUC: 0.7636\n",
      "Best params: OrderedDict([('colsample_bytree', 0.6799685811200057), ('learning_rate', 0.01), ('max_bin', 100), ('max_depth', 8), ('min_child_samples', 10), ('min_data_in_leaf', 20), ('n_estimators', 400), ('num_leaves', 2), ('reg_alpha', 1e-09), ('reg_lambda', 1.0), ('scale_pos_weight', 70)])\n",
      "\n"
     ]
    },
    {
     "data": {
      "application/javascript": [
       "\n",
       "        if (window._pyforest_update_imports_cell) { window._pyforest_update_imports_cell('import numpy as np'); }\n",
       "    "
      ],
      "text/plain": [
       "<IPython.core.display.Javascript object>"
      ]
     },
     "metadata": {},
     "output_type": "display_data"
    },
    {
     "name": "stdout",
     "output_type": "stream",
     "text": [
      "Model #83\n",
      "Best ROC-AUC: 0.7636\n",
      "Best params: OrderedDict([('colsample_bytree', 0.6799685811200057), ('learning_rate', 0.01), ('max_bin', 100), ('max_depth', 8), ('min_child_samples', 10), ('min_data_in_leaf', 20), ('n_estimators', 400), ('num_leaves', 2), ('reg_alpha', 1e-09), ('reg_lambda', 1.0), ('scale_pos_weight', 70)])\n",
      "\n"
     ]
    },
    {
     "data": {
      "application/javascript": [
       "\n",
       "        if (window._pyforest_update_imports_cell) { window._pyforest_update_imports_cell('import numpy as np'); }\n",
       "    "
      ],
      "text/plain": [
       "<IPython.core.display.Javascript object>"
      ]
     },
     "metadata": {},
     "output_type": "display_data"
    },
    {
     "name": "stdout",
     "output_type": "stream",
     "text": [
      "Model #84\n",
      "Best ROC-AUC: 0.7636\n",
      "Best params: OrderedDict([('colsample_bytree', 0.6799685811200057), ('learning_rate', 0.01), ('max_bin', 100), ('max_depth', 8), ('min_child_samples', 10), ('min_data_in_leaf', 20), ('n_estimators', 400), ('num_leaves', 2), ('reg_alpha', 1e-09), ('reg_lambda', 1.0), ('scale_pos_weight', 70)])\n",
      "\n"
     ]
    },
    {
     "data": {
      "application/javascript": [
       "\n",
       "        if (window._pyforest_update_imports_cell) { window._pyforest_update_imports_cell('import numpy as np'); }\n",
       "    "
      ],
      "text/plain": [
       "<IPython.core.display.Javascript object>"
      ]
     },
     "metadata": {},
     "output_type": "display_data"
    },
    {
     "name": "stdout",
     "output_type": "stream",
     "text": [
      "Model #85\n",
      "Best ROC-AUC: 0.7636\n",
      "Best params: OrderedDict([('colsample_bytree', 0.6799685811200057), ('learning_rate', 0.01), ('max_bin', 100), ('max_depth', 8), ('min_child_samples', 10), ('min_data_in_leaf', 20), ('n_estimators', 400), ('num_leaves', 2), ('reg_alpha', 1e-09), ('reg_lambda', 1.0), ('scale_pos_weight', 70)])\n",
      "\n"
     ]
    },
    {
     "data": {
      "application/javascript": [
       "\n",
       "        if (window._pyforest_update_imports_cell) { window._pyforest_update_imports_cell('import numpy as np'); }\n",
       "    "
      ],
      "text/plain": [
       "<IPython.core.display.Javascript object>"
      ]
     },
     "metadata": {},
     "output_type": "display_data"
    },
    {
     "name": "stdout",
     "output_type": "stream",
     "text": [
      "Model #86\n",
      "Best ROC-AUC: 0.7636\n",
      "Best params: OrderedDict([('colsample_bytree', 0.6799685811200057), ('learning_rate', 0.01), ('max_bin', 100), ('max_depth', 8), ('min_child_samples', 10), ('min_data_in_leaf', 20), ('n_estimators', 400), ('num_leaves', 2), ('reg_alpha', 1e-09), ('reg_lambda', 1.0), ('scale_pos_weight', 70)])\n",
      "\n"
     ]
    },
    {
     "data": {
      "application/javascript": [
       "\n",
       "        if (window._pyforest_update_imports_cell) { window._pyforest_update_imports_cell('import numpy as np'); }\n",
       "    "
      ],
      "text/plain": [
       "<IPython.core.display.Javascript object>"
      ]
     },
     "metadata": {},
     "output_type": "display_data"
    },
    {
     "name": "stdout",
     "output_type": "stream",
     "text": [
      "Model #87\n",
      "Best ROC-AUC: 0.7636\n",
      "Best params: OrderedDict([('colsample_bytree', 0.6799685811200057), ('learning_rate', 0.01), ('max_bin', 100), ('max_depth', 8), ('min_child_samples', 10), ('min_data_in_leaf', 20), ('n_estimators', 400), ('num_leaves', 2), ('reg_alpha', 1e-09), ('reg_lambda', 1.0), ('scale_pos_weight', 70)])\n",
      "\n"
     ]
    },
    {
     "data": {
      "application/javascript": [
       "\n",
       "        if (window._pyforest_update_imports_cell) { window._pyforest_update_imports_cell('import numpy as np'); }\n",
       "    "
      ],
      "text/plain": [
       "<IPython.core.display.Javascript object>"
      ]
     },
     "metadata": {},
     "output_type": "display_data"
    },
    {
     "name": "stdout",
     "output_type": "stream",
     "text": [
      "Model #88\n",
      "Best ROC-AUC: 0.7636\n",
      "Best params: OrderedDict([('colsample_bytree', 0.6799685811200057), ('learning_rate', 0.01), ('max_bin', 100), ('max_depth', 8), ('min_child_samples', 10), ('min_data_in_leaf', 20), ('n_estimators', 400), ('num_leaves', 2), ('reg_alpha', 1e-09), ('reg_lambda', 1.0), ('scale_pos_weight', 70)])\n",
      "\n"
     ]
    },
    {
     "data": {
      "application/javascript": [
       "\n",
       "        if (window._pyforest_update_imports_cell) { window._pyforest_update_imports_cell('import numpy as np'); }\n",
       "    "
      ],
      "text/plain": [
       "<IPython.core.display.Javascript object>"
      ]
     },
     "metadata": {},
     "output_type": "display_data"
    },
    {
     "name": "stdout",
     "output_type": "stream",
     "text": [
      "Model #89\n",
      "Best ROC-AUC: 0.7636\n",
      "Best params: OrderedDict([('colsample_bytree', 0.6799685811200057), ('learning_rate', 0.01), ('max_bin', 100), ('max_depth', 8), ('min_child_samples', 10), ('min_data_in_leaf', 20), ('n_estimators', 400), ('num_leaves', 2), ('reg_alpha', 1e-09), ('reg_lambda', 1.0), ('scale_pos_weight', 70)])\n",
      "\n"
     ]
    },
    {
     "data": {
      "application/javascript": [
       "\n",
       "        if (window._pyforest_update_imports_cell) { window._pyforest_update_imports_cell('import numpy as np'); }\n",
       "    "
      ],
      "text/plain": [
       "<IPython.core.display.Javascript object>"
      ]
     },
     "metadata": {},
     "output_type": "display_data"
    },
    {
     "name": "stdout",
     "output_type": "stream",
     "text": [
      "Model #90\n",
      "Best ROC-AUC: 0.7636\n",
      "Best params: OrderedDict([('colsample_bytree', 0.6799685811200057), ('learning_rate', 0.01), ('max_bin', 100), ('max_depth', 8), ('min_child_samples', 10), ('min_data_in_leaf', 20), ('n_estimators', 400), ('num_leaves', 2), ('reg_alpha', 1e-09), ('reg_lambda', 1.0), ('scale_pos_weight', 70)])\n",
      "\n"
     ]
    },
    {
     "data": {
      "application/javascript": [
       "\n",
       "        if (window._pyforest_update_imports_cell) { window._pyforest_update_imports_cell('import numpy as np'); }\n",
       "    "
      ],
      "text/plain": [
       "<IPython.core.display.Javascript object>"
      ]
     },
     "metadata": {},
     "output_type": "display_data"
    },
    {
     "name": "stdout",
     "output_type": "stream",
     "text": [
      "Model #91\n",
      "Best ROC-AUC: 0.7636\n",
      "Best params: OrderedDict([('colsample_bytree', 0.6799685811200057), ('learning_rate', 0.01), ('max_bin', 100), ('max_depth', 8), ('min_child_samples', 10), ('min_data_in_leaf', 20), ('n_estimators', 400), ('num_leaves', 2), ('reg_alpha', 1e-09), ('reg_lambda', 1.0), ('scale_pos_weight', 70)])\n",
      "\n"
     ]
    },
    {
     "data": {
      "application/javascript": [
       "\n",
       "        if (window._pyforest_update_imports_cell) { window._pyforest_update_imports_cell('import numpy as np'); }\n",
       "    "
      ],
      "text/plain": [
       "<IPython.core.display.Javascript object>"
      ]
     },
     "metadata": {},
     "output_type": "display_data"
    },
    {
     "name": "stdout",
     "output_type": "stream",
     "text": [
      "Model #92\n",
      "Best ROC-AUC: 0.7636\n",
      "Best params: OrderedDict([('colsample_bytree', 0.6799685811200057), ('learning_rate', 0.01), ('max_bin', 100), ('max_depth', 8), ('min_child_samples', 10), ('min_data_in_leaf', 20), ('n_estimators', 400), ('num_leaves', 2), ('reg_alpha', 1e-09), ('reg_lambda', 1.0), ('scale_pos_weight', 70)])\n",
      "\n"
     ]
    },
    {
     "data": {
      "application/javascript": [
       "\n",
       "        if (window._pyforest_update_imports_cell) { window._pyforest_update_imports_cell('import numpy as np'); }\n",
       "    "
      ],
      "text/plain": [
       "<IPython.core.display.Javascript object>"
      ]
     },
     "metadata": {},
     "output_type": "display_data"
    },
    {
     "name": "stdout",
     "output_type": "stream",
     "text": [
      "Model #93\n",
      "Best ROC-AUC: 0.7636\n",
      "Best params: OrderedDict([('colsample_bytree', 0.6799685811200057), ('learning_rate', 0.01), ('max_bin', 100), ('max_depth', 8), ('min_child_samples', 10), ('min_data_in_leaf', 20), ('n_estimators', 400), ('num_leaves', 2), ('reg_alpha', 1e-09), ('reg_lambda', 1.0), ('scale_pos_weight', 70)])\n",
      "\n"
     ]
    },
    {
     "data": {
      "application/javascript": [
       "\n",
       "        if (window._pyforest_update_imports_cell) { window._pyforest_update_imports_cell('import numpy as np'); }\n",
       "    "
      ],
      "text/plain": [
       "<IPython.core.display.Javascript object>"
      ]
     },
     "metadata": {},
     "output_type": "display_data"
    },
    {
     "name": "stdout",
     "output_type": "stream",
     "text": [
      "Model #94\n",
      "Best ROC-AUC: 0.7636\n",
      "Best params: OrderedDict([('colsample_bytree', 0.6799685811200057), ('learning_rate', 0.01), ('max_bin', 100), ('max_depth', 8), ('min_child_samples', 10), ('min_data_in_leaf', 20), ('n_estimators', 400), ('num_leaves', 2), ('reg_alpha', 1e-09), ('reg_lambda', 1.0), ('scale_pos_weight', 70)])\n",
      "\n"
     ]
    },
    {
     "data": {
      "application/javascript": [
       "\n",
       "        if (window._pyforest_update_imports_cell) { window._pyforest_update_imports_cell('import numpy as np'); }\n",
       "    "
      ],
      "text/plain": [
       "<IPython.core.display.Javascript object>"
      ]
     },
     "metadata": {},
     "output_type": "display_data"
    },
    {
     "name": "stdout",
     "output_type": "stream",
     "text": [
      "Model #95\n",
      "Best ROC-AUC: 0.7636\n",
      "Best params: OrderedDict([('colsample_bytree', 0.6799685811200057), ('learning_rate', 0.01), ('max_bin', 100), ('max_depth', 8), ('min_child_samples', 10), ('min_data_in_leaf', 20), ('n_estimators', 400), ('num_leaves', 2), ('reg_alpha', 1e-09), ('reg_lambda', 1.0), ('scale_pos_weight', 70)])\n",
      "\n"
     ]
    },
    {
     "data": {
      "application/javascript": [
       "\n",
       "        if (window._pyforest_update_imports_cell) { window._pyforest_update_imports_cell('import numpy as np'); }\n",
       "    "
      ],
      "text/plain": [
       "<IPython.core.display.Javascript object>"
      ]
     },
     "metadata": {},
     "output_type": "display_data"
    },
    {
     "name": "stdout",
     "output_type": "stream",
     "text": [
      "Model #96\n",
      "Best ROC-AUC: 0.7636\n",
      "Best params: OrderedDict([('colsample_bytree', 0.6799685811200057), ('learning_rate', 0.01), ('max_bin', 100), ('max_depth', 8), ('min_child_samples', 10), ('min_data_in_leaf', 20), ('n_estimators', 400), ('num_leaves', 2), ('reg_alpha', 1e-09), ('reg_lambda', 1.0), ('scale_pos_weight', 70)])\n",
      "\n"
     ]
    },
    {
     "data": {
      "application/javascript": [
       "\n",
       "        if (window._pyforest_update_imports_cell) { window._pyforest_update_imports_cell('import numpy as np'); }\n",
       "    "
      ],
      "text/plain": [
       "<IPython.core.display.Javascript object>"
      ]
     },
     "metadata": {},
     "output_type": "display_data"
    },
    {
     "name": "stdout",
     "output_type": "stream",
     "text": [
      "Model #97\n",
      "Best ROC-AUC: 0.7636\n",
      "Best params: OrderedDict([('colsample_bytree', 0.6799685811200057), ('learning_rate', 0.01), ('max_bin', 100), ('max_depth', 8), ('min_child_samples', 10), ('min_data_in_leaf', 20), ('n_estimators', 400), ('num_leaves', 2), ('reg_alpha', 1e-09), ('reg_lambda', 1.0), ('scale_pos_weight', 70)])\n",
      "\n"
     ]
    },
    {
     "data": {
      "application/javascript": [
       "\n",
       "        if (window._pyforest_update_imports_cell) { window._pyforest_update_imports_cell('import numpy as np'); }\n",
       "    "
      ],
      "text/plain": [
       "<IPython.core.display.Javascript object>"
      ]
     },
     "metadata": {},
     "output_type": "display_data"
    },
    {
     "name": "stdout",
     "output_type": "stream",
     "text": [
      "Model #98\n",
      "Best ROC-AUC: 0.7636\n",
      "Best params: OrderedDict([('colsample_bytree', 0.6799685811200057), ('learning_rate', 0.01), ('max_bin', 100), ('max_depth', 8), ('min_child_samples', 10), ('min_data_in_leaf', 20), ('n_estimators', 400), ('num_leaves', 2), ('reg_alpha', 1e-09), ('reg_lambda', 1.0), ('scale_pos_weight', 70)])\n",
      "\n"
     ]
    },
    {
     "data": {
      "application/javascript": [
       "\n",
       "        if (window._pyforest_update_imports_cell) { window._pyforest_update_imports_cell('import numpy as np'); }\n",
       "    "
      ],
      "text/plain": [
       "<IPython.core.display.Javascript object>"
      ]
     },
     "metadata": {},
     "output_type": "display_data"
    },
    {
     "name": "stdout",
     "output_type": "stream",
     "text": [
      "Model #99\n",
      "Best ROC-AUC: 0.7636\n",
      "Best params: OrderedDict([('colsample_bytree', 0.6799685811200057), ('learning_rate', 0.01), ('max_bin', 100), ('max_depth', 8), ('min_child_samples', 10), ('min_data_in_leaf', 20), ('n_estimators', 400), ('num_leaves', 2), ('reg_alpha', 1e-09), ('reg_lambda', 1.0), ('scale_pos_weight', 70)])\n",
      "\n"
     ]
    },
    {
     "data": {
      "application/javascript": [
       "\n",
       "        if (window._pyforest_update_imports_cell) { window._pyforest_update_imports_cell('import numpy as np'); }\n",
       "    "
      ],
      "text/plain": [
       "<IPython.core.display.Javascript object>"
      ]
     },
     "metadata": {},
     "output_type": "display_data"
    },
    {
     "name": "stdout",
     "output_type": "stream",
     "text": [
      "Model #100\n",
      "Best ROC-AUC: 0.7636\n",
      "Best params: OrderedDict([('colsample_bytree', 0.6799685811200057), ('learning_rate', 0.01), ('max_bin', 100), ('max_depth', 8), ('min_child_samples', 10), ('min_data_in_leaf', 20), ('n_estimators', 400), ('num_leaves', 2), ('reg_alpha', 1e-09), ('reg_lambda', 1.0), ('scale_pos_weight', 70)])\n",
      "\n"
     ]
    },
    {
     "data": {
      "application/javascript": [
       "\n",
       "        if (window._pyforest_update_imports_cell) { window._pyforest_update_imports_cell('import numpy as np'); }\n",
       "    "
      ],
      "text/plain": [
       "<IPython.core.display.Javascript object>"
      ]
     },
     "metadata": {},
     "output_type": "display_data"
    },
    {
     "name": "stdout",
     "output_type": "stream",
     "text": [
      "Model #101\n",
      "Best ROC-AUC: 0.7636\n",
      "Best params: OrderedDict([('colsample_bytree', 0.6799685811200057), ('learning_rate', 0.01), ('max_bin', 100), ('max_depth', 8), ('min_child_samples', 10), ('min_data_in_leaf', 20), ('n_estimators', 400), ('num_leaves', 2), ('reg_alpha', 1e-09), ('reg_lambda', 1.0), ('scale_pos_weight', 70)])\n",
      "\n"
     ]
    },
    {
     "data": {
      "application/javascript": [
       "\n",
       "        if (window._pyforest_update_imports_cell) { window._pyforest_update_imports_cell('import numpy as np'); }\n",
       "    "
      ],
      "text/plain": [
       "<IPython.core.display.Javascript object>"
      ]
     },
     "metadata": {},
     "output_type": "display_data"
    },
    {
     "name": "stdout",
     "output_type": "stream",
     "text": [
      "Model #102\n",
      "Best ROC-AUC: 0.7636\n",
      "Best params: OrderedDict([('colsample_bytree', 0.6799685811200057), ('learning_rate', 0.01), ('max_bin', 100), ('max_depth', 8), ('min_child_samples', 10), ('min_data_in_leaf', 20), ('n_estimators', 400), ('num_leaves', 2), ('reg_alpha', 1e-09), ('reg_lambda', 1.0), ('scale_pos_weight', 70)])\n",
      "\n"
     ]
    },
    {
     "data": {
      "application/javascript": [
       "\n",
       "        if (window._pyforest_update_imports_cell) { window._pyforest_update_imports_cell('import numpy as np'); }\n",
       "    "
      ],
      "text/plain": [
       "<IPython.core.display.Javascript object>"
      ]
     },
     "metadata": {},
     "output_type": "display_data"
    },
    {
     "name": "stdout",
     "output_type": "stream",
     "text": [
      "Model #103\n",
      "Best ROC-AUC: 0.7636\n",
      "Best params: OrderedDict([('colsample_bytree', 0.6799685811200057), ('learning_rate', 0.01), ('max_bin', 100), ('max_depth', 8), ('min_child_samples', 10), ('min_data_in_leaf', 20), ('n_estimators', 400), ('num_leaves', 2), ('reg_alpha', 1e-09), ('reg_lambda', 1.0), ('scale_pos_weight', 70)])\n",
      "\n"
     ]
    },
    {
     "data": {
      "application/javascript": [
       "\n",
       "        if (window._pyforest_update_imports_cell) { window._pyforest_update_imports_cell('import numpy as np'); }\n",
       "    "
      ],
      "text/plain": [
       "<IPython.core.display.Javascript object>"
      ]
     },
     "metadata": {},
     "output_type": "display_data"
    },
    {
     "name": "stdout",
     "output_type": "stream",
     "text": [
      "Model #104\n",
      "Best ROC-AUC: 0.7636\n",
      "Best params: OrderedDict([('colsample_bytree', 0.6799685811200057), ('learning_rate', 0.01), ('max_bin', 100), ('max_depth', 8), ('min_child_samples', 10), ('min_data_in_leaf', 20), ('n_estimators', 400), ('num_leaves', 2), ('reg_alpha', 1e-09), ('reg_lambda', 1.0), ('scale_pos_weight', 70)])\n",
      "\n"
     ]
    },
    {
     "data": {
      "application/javascript": [
       "\n",
       "        if (window._pyforest_update_imports_cell) { window._pyforest_update_imports_cell('import numpy as np'); }\n",
       "    "
      ],
      "text/plain": [
       "<IPython.core.display.Javascript object>"
      ]
     },
     "metadata": {},
     "output_type": "display_data"
    },
    {
     "name": "stdout",
     "output_type": "stream",
     "text": [
      "Model #105\n",
      "Best ROC-AUC: 0.7636\n",
      "Best params: OrderedDict([('colsample_bytree', 0.6799685811200057), ('learning_rate', 0.01), ('max_bin', 100), ('max_depth', 8), ('min_child_samples', 10), ('min_data_in_leaf', 20), ('n_estimators', 400), ('num_leaves', 2), ('reg_alpha', 1e-09), ('reg_lambda', 1.0), ('scale_pos_weight', 70)])\n",
      "\n"
     ]
    },
    {
     "data": {
      "application/javascript": [
       "\n",
       "        if (window._pyforest_update_imports_cell) { window._pyforest_update_imports_cell('import numpy as np'); }\n",
       "    "
      ],
      "text/plain": [
       "<IPython.core.display.Javascript object>"
      ]
     },
     "metadata": {},
     "output_type": "display_data"
    },
    {
     "name": "stdout",
     "output_type": "stream",
     "text": [
      "Model #106\n",
      "Best ROC-AUC: 0.7636\n",
      "Best params: OrderedDict([('colsample_bytree', 0.6799685811200057), ('learning_rate', 0.01), ('max_bin', 100), ('max_depth', 8), ('min_child_samples', 10), ('min_data_in_leaf', 20), ('n_estimators', 400), ('num_leaves', 2), ('reg_alpha', 1e-09), ('reg_lambda', 1.0), ('scale_pos_weight', 70)])\n",
      "\n"
     ]
    },
    {
     "data": {
      "application/javascript": [
       "\n",
       "        if (window._pyforest_update_imports_cell) { window._pyforest_update_imports_cell('import numpy as np'); }\n",
       "    "
      ],
      "text/plain": [
       "<IPython.core.display.Javascript object>"
      ]
     },
     "metadata": {},
     "output_type": "display_data"
    },
    {
     "name": "stdout",
     "output_type": "stream",
     "text": [
      "Model #107\n",
      "Best ROC-AUC: 0.7636\n",
      "Best params: OrderedDict([('colsample_bytree', 0.6799685811200057), ('learning_rate', 0.01), ('max_bin', 100), ('max_depth', 8), ('min_child_samples', 10), ('min_data_in_leaf', 20), ('n_estimators', 400), ('num_leaves', 2), ('reg_alpha', 1e-09), ('reg_lambda', 1.0), ('scale_pos_weight', 70)])\n",
      "\n"
     ]
    },
    {
     "data": {
      "application/javascript": [
       "\n",
       "        if (window._pyforest_update_imports_cell) { window._pyforest_update_imports_cell('import numpy as np'); }\n",
       "    "
      ],
      "text/plain": [
       "<IPython.core.display.Javascript object>"
      ]
     },
     "metadata": {},
     "output_type": "display_data"
    },
    {
     "name": "stdout",
     "output_type": "stream",
     "text": [
      "Model #108\n",
      "Best ROC-AUC: 0.7636\n",
      "Best params: OrderedDict([('colsample_bytree', 0.6799685811200057), ('learning_rate', 0.01), ('max_bin', 100), ('max_depth', 8), ('min_child_samples', 10), ('min_data_in_leaf', 20), ('n_estimators', 400), ('num_leaves', 2), ('reg_alpha', 1e-09), ('reg_lambda', 1.0), ('scale_pos_weight', 70)])\n",
      "\n"
     ]
    },
    {
     "data": {
      "application/javascript": [
       "\n",
       "        if (window._pyforest_update_imports_cell) { window._pyforest_update_imports_cell('import numpy as np'); }\n",
       "    "
      ],
      "text/plain": [
       "<IPython.core.display.Javascript object>"
      ]
     },
     "metadata": {},
     "output_type": "display_data"
    },
    {
     "name": "stdout",
     "output_type": "stream",
     "text": [
      "Model #109\n",
      "Best ROC-AUC: 0.7636\n",
      "Best params: OrderedDict([('colsample_bytree', 0.6799685811200057), ('learning_rate', 0.01), ('max_bin', 100), ('max_depth', 8), ('min_child_samples', 10), ('min_data_in_leaf', 20), ('n_estimators', 400), ('num_leaves', 2), ('reg_alpha', 1e-09), ('reg_lambda', 1.0), ('scale_pos_weight', 70)])\n",
      "\n"
     ]
    },
    {
     "data": {
      "application/javascript": [
       "\n",
       "        if (window._pyforest_update_imports_cell) { window._pyforest_update_imports_cell('import numpy as np'); }\n",
       "    "
      ],
      "text/plain": [
       "<IPython.core.display.Javascript object>"
      ]
     },
     "metadata": {},
     "output_type": "display_data"
    },
    {
     "name": "stdout",
     "output_type": "stream",
     "text": [
      "Model #110\n",
      "Best ROC-AUC: 0.7636\n",
      "Best params: OrderedDict([('colsample_bytree', 0.6799685811200057), ('learning_rate', 0.01), ('max_bin', 100), ('max_depth', 8), ('min_child_samples', 10), ('min_data_in_leaf', 20), ('n_estimators', 400), ('num_leaves', 2), ('reg_alpha', 1e-09), ('reg_lambda', 1.0), ('scale_pos_weight', 70)])\n",
      "\n"
     ]
    },
    {
     "data": {
      "application/javascript": [
       "\n",
       "        if (window._pyforest_update_imports_cell) { window._pyforest_update_imports_cell('import numpy as np'); }\n",
       "    "
      ],
      "text/plain": [
       "<IPython.core.display.Javascript object>"
      ]
     },
     "metadata": {},
     "output_type": "display_data"
    },
    {
     "name": "stdout",
     "output_type": "stream",
     "text": [
      "Model #111\n",
      "Best ROC-AUC: 0.7636\n",
      "Best params: OrderedDict([('colsample_bytree', 0.6799685811200057), ('learning_rate', 0.01), ('max_bin', 100), ('max_depth', 8), ('min_child_samples', 10), ('min_data_in_leaf', 20), ('n_estimators', 400), ('num_leaves', 2), ('reg_alpha', 1e-09), ('reg_lambda', 1.0), ('scale_pos_weight', 70)])\n",
      "\n"
     ]
    },
    {
     "data": {
      "application/javascript": [
       "\n",
       "        if (window._pyforest_update_imports_cell) { window._pyforest_update_imports_cell('import numpy as np'); }\n",
       "    "
      ],
      "text/plain": [
       "<IPython.core.display.Javascript object>"
      ]
     },
     "metadata": {},
     "output_type": "display_data"
    },
    {
     "name": "stdout",
     "output_type": "stream",
     "text": [
      "Model #112\n",
      "Best ROC-AUC: 0.7636\n",
      "Best params: OrderedDict([('colsample_bytree', 0.6799685811200057), ('learning_rate', 0.01), ('max_bin', 100), ('max_depth', 8), ('min_child_samples', 10), ('min_data_in_leaf', 20), ('n_estimators', 400), ('num_leaves', 2), ('reg_alpha', 1e-09), ('reg_lambda', 1.0), ('scale_pos_weight', 70)])\n",
      "\n"
     ]
    },
    {
     "data": {
      "application/javascript": [
       "\n",
       "        if (window._pyforest_update_imports_cell) { window._pyforest_update_imports_cell('import numpy as np'); }\n",
       "    "
      ],
      "text/plain": [
       "<IPython.core.display.Javascript object>"
      ]
     },
     "metadata": {},
     "output_type": "display_data"
    },
    {
     "name": "stdout",
     "output_type": "stream",
     "text": [
      "Model #113\n",
      "Best ROC-AUC: 0.7636\n",
      "Best params: OrderedDict([('colsample_bytree', 0.6799685811200057), ('learning_rate', 0.01), ('max_bin', 100), ('max_depth', 8), ('min_child_samples', 10), ('min_data_in_leaf', 20), ('n_estimators', 400), ('num_leaves', 2), ('reg_alpha', 1e-09), ('reg_lambda', 1.0), ('scale_pos_weight', 70)])\n",
      "\n"
     ]
    },
    {
     "data": {
      "application/javascript": [
       "\n",
       "        if (window._pyforest_update_imports_cell) { window._pyforest_update_imports_cell('import numpy as np'); }\n",
       "    "
      ],
      "text/plain": [
       "<IPython.core.display.Javascript object>"
      ]
     },
     "metadata": {},
     "output_type": "display_data"
    },
    {
     "name": "stdout",
     "output_type": "stream",
     "text": [
      "Model #114\n",
      "Best ROC-AUC: 0.7636\n",
      "Best params: OrderedDict([('colsample_bytree', 0.6799685811200057), ('learning_rate', 0.01), ('max_bin', 100), ('max_depth', 8), ('min_child_samples', 10), ('min_data_in_leaf', 20), ('n_estimators', 400), ('num_leaves', 2), ('reg_alpha', 1e-09), ('reg_lambda', 1.0), ('scale_pos_weight', 70)])\n",
      "\n"
     ]
    },
    {
     "data": {
      "application/javascript": [
       "\n",
       "        if (window._pyforest_update_imports_cell) { window._pyforest_update_imports_cell('import numpy as np'); }\n",
       "    "
      ],
      "text/plain": [
       "<IPython.core.display.Javascript object>"
      ]
     },
     "metadata": {},
     "output_type": "display_data"
    },
    {
     "name": "stdout",
     "output_type": "stream",
     "text": [
      "Model #115\n",
      "Best ROC-AUC: 0.7636\n",
      "Best params: OrderedDict([('colsample_bytree', 0.6799685811200057), ('learning_rate', 0.01), ('max_bin', 100), ('max_depth', 8), ('min_child_samples', 10), ('min_data_in_leaf', 20), ('n_estimators', 400), ('num_leaves', 2), ('reg_alpha', 1e-09), ('reg_lambda', 1.0), ('scale_pos_weight', 70)])\n",
      "\n"
     ]
    },
    {
     "data": {
      "application/javascript": [
       "\n",
       "        if (window._pyforest_update_imports_cell) { window._pyforest_update_imports_cell('import numpy as np'); }\n",
       "    "
      ],
      "text/plain": [
       "<IPython.core.display.Javascript object>"
      ]
     },
     "metadata": {},
     "output_type": "display_data"
    },
    {
     "name": "stdout",
     "output_type": "stream",
     "text": [
      "Model #116\n",
      "Best ROC-AUC: 0.7636\n",
      "Best params: OrderedDict([('colsample_bytree', 0.6799685811200057), ('learning_rate', 0.01), ('max_bin', 100), ('max_depth', 8), ('min_child_samples', 10), ('min_data_in_leaf', 20), ('n_estimators', 400), ('num_leaves', 2), ('reg_alpha', 1e-09), ('reg_lambda', 1.0), ('scale_pos_weight', 70)])\n",
      "\n"
     ]
    },
    {
     "data": {
      "application/javascript": [
       "\n",
       "        if (window._pyforest_update_imports_cell) { window._pyforest_update_imports_cell('import numpy as np'); }\n",
       "    "
      ],
      "text/plain": [
       "<IPython.core.display.Javascript object>"
      ]
     },
     "metadata": {},
     "output_type": "display_data"
    },
    {
     "name": "stdout",
     "output_type": "stream",
     "text": [
      "Model #117\n",
      "Best ROC-AUC: 0.7636\n",
      "Best params: OrderedDict([('colsample_bytree', 0.6799685811200057), ('learning_rate', 0.01), ('max_bin', 100), ('max_depth', 8), ('min_child_samples', 10), ('min_data_in_leaf', 20), ('n_estimators', 400), ('num_leaves', 2), ('reg_alpha', 1e-09), ('reg_lambda', 1.0), ('scale_pos_weight', 70)])\n",
      "\n"
     ]
    },
    {
     "data": {
      "application/javascript": [
       "\n",
       "        if (window._pyforest_update_imports_cell) { window._pyforest_update_imports_cell('import numpy as np'); }\n",
       "    "
      ],
      "text/plain": [
       "<IPython.core.display.Javascript object>"
      ]
     },
     "metadata": {},
     "output_type": "display_data"
    },
    {
     "name": "stdout",
     "output_type": "stream",
     "text": [
      "Model #118\n",
      "Best ROC-AUC: 0.7636\n",
      "Best params: OrderedDict([('colsample_bytree', 0.6799685811200057), ('learning_rate', 0.01), ('max_bin', 100), ('max_depth', 8), ('min_child_samples', 10), ('min_data_in_leaf', 20), ('n_estimators', 400), ('num_leaves', 2), ('reg_alpha', 1e-09), ('reg_lambda', 1.0), ('scale_pos_weight', 70)])\n",
      "\n"
     ]
    },
    {
     "data": {
      "application/javascript": [
       "\n",
       "        if (window._pyforest_update_imports_cell) { window._pyforest_update_imports_cell('import numpy as np'); }\n",
       "    "
      ],
      "text/plain": [
       "<IPython.core.display.Javascript object>"
      ]
     },
     "metadata": {},
     "output_type": "display_data"
    },
    {
     "name": "stdout",
     "output_type": "stream",
     "text": [
      "Model #119\n",
      "Best ROC-AUC: 0.7636\n",
      "Best params: OrderedDict([('colsample_bytree', 0.6799685811200057), ('learning_rate', 0.01), ('max_bin', 100), ('max_depth', 8), ('min_child_samples', 10), ('min_data_in_leaf', 20), ('n_estimators', 400), ('num_leaves', 2), ('reg_alpha', 1e-09), ('reg_lambda', 1.0), ('scale_pos_weight', 70)])\n",
      "\n"
     ]
    },
    {
     "data": {
      "application/javascript": [
       "\n",
       "        if (window._pyforest_update_imports_cell) { window._pyforest_update_imports_cell('import numpy as np'); }\n",
       "    "
      ],
      "text/plain": [
       "<IPython.core.display.Javascript object>"
      ]
     },
     "metadata": {},
     "output_type": "display_data"
    },
    {
     "name": "stdout",
     "output_type": "stream",
     "text": [
      "Model #120\n",
      "Best ROC-AUC: 0.7636\n",
      "Best params: OrderedDict([('colsample_bytree', 0.6799685811200057), ('learning_rate', 0.01), ('max_bin', 100), ('max_depth', 8), ('min_child_samples', 10), ('min_data_in_leaf', 20), ('n_estimators', 400), ('num_leaves', 2), ('reg_alpha', 1e-09), ('reg_lambda', 1.0), ('scale_pos_weight', 70)])\n",
      "\n"
     ]
    },
    {
     "data": {
      "application/javascript": [
       "\n",
       "        if (window._pyforest_update_imports_cell) { window._pyforest_update_imports_cell('import numpy as np'); }\n",
       "    "
      ],
      "text/plain": [
       "<IPython.core.display.Javascript object>"
      ]
     },
     "metadata": {},
     "output_type": "display_data"
    },
    {
     "name": "stdout",
     "output_type": "stream",
     "text": [
      "Model #121\n",
      "Best ROC-AUC: 0.7636\n",
      "Best params: OrderedDict([('colsample_bytree', 0.6799685811200057), ('learning_rate', 0.01), ('max_bin', 100), ('max_depth', 8), ('min_child_samples', 10), ('min_data_in_leaf', 20), ('n_estimators', 400), ('num_leaves', 2), ('reg_alpha', 1e-09), ('reg_lambda', 1.0), ('scale_pos_weight', 70)])\n",
      "\n"
     ]
    },
    {
     "data": {
      "application/javascript": [
       "\n",
       "        if (window._pyforest_update_imports_cell) { window._pyforest_update_imports_cell('import numpy as np'); }\n",
       "    "
      ],
      "text/plain": [
       "<IPython.core.display.Javascript object>"
      ]
     },
     "metadata": {},
     "output_type": "display_data"
    },
    {
     "name": "stdout",
     "output_type": "stream",
     "text": [
      "Model #122\n",
      "Best ROC-AUC: 0.7636\n",
      "Best params: OrderedDict([('colsample_bytree', 0.6799685811200057), ('learning_rate', 0.01), ('max_bin', 100), ('max_depth', 8), ('min_child_samples', 10), ('min_data_in_leaf', 20), ('n_estimators', 400), ('num_leaves', 2), ('reg_alpha', 1e-09), ('reg_lambda', 1.0), ('scale_pos_weight', 70)])\n",
      "\n"
     ]
    },
    {
     "data": {
      "application/javascript": [
       "\n",
       "        if (window._pyforest_update_imports_cell) { window._pyforest_update_imports_cell('import numpy as np'); }\n",
       "    "
      ],
      "text/plain": [
       "<IPython.core.display.Javascript object>"
      ]
     },
     "metadata": {},
     "output_type": "display_data"
    },
    {
     "name": "stdout",
     "output_type": "stream",
     "text": [
      "Model #123\n",
      "Best ROC-AUC: 0.7636\n",
      "Best params: OrderedDict([('colsample_bytree', 0.6799685811200057), ('learning_rate', 0.01), ('max_bin', 100), ('max_depth', 8), ('min_child_samples', 10), ('min_data_in_leaf', 20), ('n_estimators', 400), ('num_leaves', 2), ('reg_alpha', 1e-09), ('reg_lambda', 1.0), ('scale_pos_weight', 70)])\n",
      "\n"
     ]
    },
    {
     "data": {
      "application/javascript": [
       "\n",
       "        if (window._pyforest_update_imports_cell) { window._pyforest_update_imports_cell('import numpy as np'); }\n",
       "    "
      ],
      "text/plain": [
       "<IPython.core.display.Javascript object>"
      ]
     },
     "metadata": {},
     "output_type": "display_data"
    },
    {
     "name": "stdout",
     "output_type": "stream",
     "text": [
      "Model #124\n",
      "Best ROC-AUC: 0.7636\n",
      "Best params: OrderedDict([('colsample_bytree', 0.6799685811200057), ('learning_rate', 0.01), ('max_bin', 100), ('max_depth', 8), ('min_child_samples', 10), ('min_data_in_leaf', 20), ('n_estimators', 400), ('num_leaves', 2), ('reg_alpha', 1e-09), ('reg_lambda', 1.0), ('scale_pos_weight', 70)])\n",
      "\n"
     ]
    },
    {
     "data": {
      "application/javascript": [
       "\n",
       "        if (window._pyforest_update_imports_cell) { window._pyforest_update_imports_cell('import numpy as np'); }\n",
       "    "
      ],
      "text/plain": [
       "<IPython.core.display.Javascript object>"
      ]
     },
     "metadata": {},
     "output_type": "display_data"
    },
    {
     "name": "stdout",
     "output_type": "stream",
     "text": [
      "Model #125\n",
      "Best ROC-AUC: 0.7636\n",
      "Best params: OrderedDict([('colsample_bytree', 0.6799685811200057), ('learning_rate', 0.01), ('max_bin', 100), ('max_depth', 8), ('min_child_samples', 10), ('min_data_in_leaf', 20), ('n_estimators', 400), ('num_leaves', 2), ('reg_alpha', 1e-09), ('reg_lambda', 1.0), ('scale_pos_weight', 70)])\n",
      "\n"
     ]
    },
    {
     "data": {
      "application/javascript": [
       "\n",
       "        if (window._pyforest_update_imports_cell) { window._pyforest_update_imports_cell('import numpy as np'); }\n",
       "    "
      ],
      "text/plain": [
       "<IPython.core.display.Javascript object>"
      ]
     },
     "metadata": {},
     "output_type": "display_data"
    },
    {
     "name": "stdout",
     "output_type": "stream",
     "text": [
      "Model #126\n",
      "Best ROC-AUC: 0.7636\n",
      "Best params: OrderedDict([('colsample_bytree', 0.6799685811200057), ('learning_rate', 0.01), ('max_bin', 100), ('max_depth', 8), ('min_child_samples', 10), ('min_data_in_leaf', 20), ('n_estimators', 400), ('num_leaves', 2), ('reg_alpha', 1e-09), ('reg_lambda', 1.0), ('scale_pos_weight', 70)])\n",
      "\n"
     ]
    },
    {
     "data": {
      "application/javascript": [
       "\n",
       "        if (window._pyforest_update_imports_cell) { window._pyforest_update_imports_cell('import numpy as np'); }\n",
       "    "
      ],
      "text/plain": [
       "<IPython.core.display.Javascript object>"
      ]
     },
     "metadata": {},
     "output_type": "display_data"
    },
    {
     "name": "stdout",
     "output_type": "stream",
     "text": [
      "Model #127\n",
      "Best ROC-AUC: 0.7636\n",
      "Best params: OrderedDict([('colsample_bytree', 0.6799685811200057), ('learning_rate', 0.01), ('max_bin', 100), ('max_depth', 8), ('min_child_samples', 10), ('min_data_in_leaf', 20), ('n_estimators', 400), ('num_leaves', 2), ('reg_alpha', 1e-09), ('reg_lambda', 1.0), ('scale_pos_weight', 70)])\n",
      "\n"
     ]
    },
    {
     "data": {
      "application/javascript": [
       "\n",
       "        if (window._pyforest_update_imports_cell) { window._pyforest_update_imports_cell('import numpy as np'); }\n",
       "    "
      ],
      "text/plain": [
       "<IPython.core.display.Javascript object>"
      ]
     },
     "metadata": {},
     "output_type": "display_data"
    },
    {
     "name": "stdout",
     "output_type": "stream",
     "text": [
      "Model #128\n",
      "Best ROC-AUC: 0.7636\n",
      "Best params: OrderedDict([('colsample_bytree', 0.6799685811200057), ('learning_rate', 0.01), ('max_bin', 100), ('max_depth', 8), ('min_child_samples', 10), ('min_data_in_leaf', 20), ('n_estimators', 400), ('num_leaves', 2), ('reg_alpha', 1e-09), ('reg_lambda', 1.0), ('scale_pos_weight', 70)])\n",
      "\n"
     ]
    },
    {
     "data": {
      "application/javascript": [
       "\n",
       "        if (window._pyforest_update_imports_cell) { window._pyforest_update_imports_cell('import numpy as np'); }\n",
       "    "
      ],
      "text/plain": [
       "<IPython.core.display.Javascript object>"
      ]
     },
     "metadata": {},
     "output_type": "display_data"
    },
    {
     "name": "stdout",
     "output_type": "stream",
     "text": [
      "Model #129\n",
      "Best ROC-AUC: 0.7636\n",
      "Best params: OrderedDict([('colsample_bytree', 0.6799685811200057), ('learning_rate', 0.01), ('max_bin', 100), ('max_depth', 8), ('min_child_samples', 10), ('min_data_in_leaf', 20), ('n_estimators', 400), ('num_leaves', 2), ('reg_alpha', 1e-09), ('reg_lambda', 1.0), ('scale_pos_weight', 70)])\n",
      "\n"
     ]
    },
    {
     "data": {
      "application/javascript": [
       "\n",
       "        if (window._pyforest_update_imports_cell) { window._pyforest_update_imports_cell('import numpy as np'); }\n",
       "    "
      ],
      "text/plain": [
       "<IPython.core.display.Javascript object>"
      ]
     },
     "metadata": {},
     "output_type": "display_data"
    },
    {
     "name": "stdout",
     "output_type": "stream",
     "text": [
      "Model #130\n",
      "Best ROC-AUC: 0.7636\n",
      "Best params: OrderedDict([('colsample_bytree', 0.6799685811200057), ('learning_rate', 0.01), ('max_bin', 100), ('max_depth', 8), ('min_child_samples', 10), ('min_data_in_leaf', 20), ('n_estimators', 400), ('num_leaves', 2), ('reg_alpha', 1e-09), ('reg_lambda', 1.0), ('scale_pos_weight', 70)])\n",
      "\n"
     ]
    },
    {
     "data": {
      "application/javascript": [
       "\n",
       "        if (window._pyforest_update_imports_cell) { window._pyforest_update_imports_cell('import numpy as np'); }\n",
       "    "
      ],
      "text/plain": [
       "<IPython.core.display.Javascript object>"
      ]
     },
     "metadata": {},
     "output_type": "display_data"
    },
    {
     "name": "stdout",
     "output_type": "stream",
     "text": [
      "Model #131\n",
      "Best ROC-AUC: 0.7636\n",
      "Best params: OrderedDict([('colsample_bytree', 0.6799685811200057), ('learning_rate', 0.01), ('max_bin', 100), ('max_depth', 8), ('min_child_samples', 10), ('min_data_in_leaf', 20), ('n_estimators', 400), ('num_leaves', 2), ('reg_alpha', 1e-09), ('reg_lambda', 1.0), ('scale_pos_weight', 70)])\n",
      "\n"
     ]
    },
    {
     "data": {
      "application/javascript": [
       "\n",
       "        if (window._pyforest_update_imports_cell) { window._pyforest_update_imports_cell('import numpy as np'); }\n",
       "    "
      ],
      "text/plain": [
       "<IPython.core.display.Javascript object>"
      ]
     },
     "metadata": {},
     "output_type": "display_data"
    },
    {
     "name": "stdout",
     "output_type": "stream",
     "text": [
      "Model #132\n",
      "Best ROC-AUC: 0.7636\n",
      "Best params: OrderedDict([('colsample_bytree', 0.6799685811200057), ('learning_rate', 0.01), ('max_bin', 100), ('max_depth', 8), ('min_child_samples', 10), ('min_data_in_leaf', 20), ('n_estimators', 400), ('num_leaves', 2), ('reg_alpha', 1e-09), ('reg_lambda', 1.0), ('scale_pos_weight', 70)])\n",
      "\n"
     ]
    },
    {
     "data": {
      "application/javascript": [
       "\n",
       "        if (window._pyforest_update_imports_cell) { window._pyforest_update_imports_cell('import numpy as np'); }\n",
       "    "
      ],
      "text/plain": [
       "<IPython.core.display.Javascript object>"
      ]
     },
     "metadata": {},
     "output_type": "display_data"
    },
    {
     "name": "stdout",
     "output_type": "stream",
     "text": [
      "Model #133\n",
      "Best ROC-AUC: 0.7636\n",
      "Best params: OrderedDict([('colsample_bytree', 0.6799685811200057), ('learning_rate', 0.01), ('max_bin', 100), ('max_depth', 8), ('min_child_samples', 10), ('min_data_in_leaf', 20), ('n_estimators', 400), ('num_leaves', 2), ('reg_alpha', 1e-09), ('reg_lambda', 1.0), ('scale_pos_weight', 70)])\n",
      "\n"
     ]
    },
    {
     "data": {
      "application/javascript": [
       "\n",
       "        if (window._pyforest_update_imports_cell) { window._pyforest_update_imports_cell('import numpy as np'); }\n",
       "    "
      ],
      "text/plain": [
       "<IPython.core.display.Javascript object>"
      ]
     },
     "metadata": {},
     "output_type": "display_data"
    },
    {
     "name": "stdout",
     "output_type": "stream",
     "text": [
      "Model #134\n",
      "Best ROC-AUC: 0.7636\n",
      "Best params: OrderedDict([('colsample_bytree', 0.6799685811200057), ('learning_rate', 0.01), ('max_bin', 100), ('max_depth', 8), ('min_child_samples', 10), ('min_data_in_leaf', 20), ('n_estimators', 400), ('num_leaves', 2), ('reg_alpha', 1e-09), ('reg_lambda', 1.0), ('scale_pos_weight', 70)])\n",
      "\n"
     ]
    },
    {
     "data": {
      "application/javascript": [
       "\n",
       "        if (window._pyforest_update_imports_cell) { window._pyforest_update_imports_cell('import numpy as np'); }\n",
       "    "
      ],
      "text/plain": [
       "<IPython.core.display.Javascript object>"
      ]
     },
     "metadata": {},
     "output_type": "display_data"
    },
    {
     "name": "stdout",
     "output_type": "stream",
     "text": [
      "Model #135\n",
      "Best ROC-AUC: 0.7636\n",
      "Best params: OrderedDict([('colsample_bytree', 0.6799685811200057), ('learning_rate', 0.01), ('max_bin', 100), ('max_depth', 8), ('min_child_samples', 10), ('min_data_in_leaf', 20), ('n_estimators', 400), ('num_leaves', 2), ('reg_alpha', 1e-09), ('reg_lambda', 1.0), ('scale_pos_weight', 70)])\n",
      "\n"
     ]
    },
    {
     "data": {
      "application/javascript": [
       "\n",
       "        if (window._pyforest_update_imports_cell) { window._pyforest_update_imports_cell('import numpy as np'); }\n",
       "    "
      ],
      "text/plain": [
       "<IPython.core.display.Javascript object>"
      ]
     },
     "metadata": {},
     "output_type": "display_data"
    },
    {
     "name": "stdout",
     "output_type": "stream",
     "text": [
      "Model #136\n",
      "Best ROC-AUC: 0.7636\n",
      "Best params: OrderedDict([('colsample_bytree', 0.6799685811200057), ('learning_rate', 0.01), ('max_bin', 100), ('max_depth', 8), ('min_child_samples', 10), ('min_data_in_leaf', 20), ('n_estimators', 400), ('num_leaves', 2), ('reg_alpha', 1e-09), ('reg_lambda', 1.0), ('scale_pos_weight', 70)])\n",
      "\n"
     ]
    },
    {
     "data": {
      "application/javascript": [
       "\n",
       "        if (window._pyforest_update_imports_cell) { window._pyforest_update_imports_cell('import numpy as np'); }\n",
       "    "
      ],
      "text/plain": [
       "<IPython.core.display.Javascript object>"
      ]
     },
     "metadata": {},
     "output_type": "display_data"
    },
    {
     "name": "stdout",
     "output_type": "stream",
     "text": [
      "Model #137\n",
      "Best ROC-AUC: 0.7636\n",
      "Best params: OrderedDict([('colsample_bytree', 0.6799685811200057), ('learning_rate', 0.01), ('max_bin', 100), ('max_depth', 8), ('min_child_samples', 10), ('min_data_in_leaf', 20), ('n_estimators', 400), ('num_leaves', 2), ('reg_alpha', 1e-09), ('reg_lambda', 1.0), ('scale_pos_weight', 70)])\n",
      "\n"
     ]
    },
    {
     "data": {
      "application/javascript": [
       "\n",
       "        if (window._pyforest_update_imports_cell) { window._pyforest_update_imports_cell('import numpy as np'); }\n",
       "    "
      ],
      "text/plain": [
       "<IPython.core.display.Javascript object>"
      ]
     },
     "metadata": {},
     "output_type": "display_data"
    },
    {
     "name": "stdout",
     "output_type": "stream",
     "text": [
      "Model #138\n",
      "Best ROC-AUC: 0.7636\n",
      "Best params: OrderedDict([('colsample_bytree', 0.6799685811200057), ('learning_rate', 0.01), ('max_bin', 100), ('max_depth', 8), ('min_child_samples', 10), ('min_data_in_leaf', 20), ('n_estimators', 400), ('num_leaves', 2), ('reg_alpha', 1e-09), ('reg_lambda', 1.0), ('scale_pos_weight', 70)])\n",
      "\n"
     ]
    },
    {
     "data": {
      "application/javascript": [
       "\n",
       "        if (window._pyforest_update_imports_cell) { window._pyforest_update_imports_cell('import numpy as np'); }\n",
       "    "
      ],
      "text/plain": [
       "<IPython.core.display.Javascript object>"
      ]
     },
     "metadata": {},
     "output_type": "display_data"
    },
    {
     "name": "stdout",
     "output_type": "stream",
     "text": [
      "Model #139\n",
      "Best ROC-AUC: 0.7636\n",
      "Best params: OrderedDict([('colsample_bytree', 0.6799685811200057), ('learning_rate', 0.01), ('max_bin', 100), ('max_depth', 8), ('min_child_samples', 10), ('min_data_in_leaf', 20), ('n_estimators', 400), ('num_leaves', 2), ('reg_alpha', 1e-09), ('reg_lambda', 1.0), ('scale_pos_weight', 70)])\n",
      "\n"
     ]
    },
    {
     "data": {
      "application/javascript": [
       "\n",
       "        if (window._pyforest_update_imports_cell) { window._pyforest_update_imports_cell('import numpy as np'); }\n",
       "    "
      ],
      "text/plain": [
       "<IPython.core.display.Javascript object>"
      ]
     },
     "metadata": {},
     "output_type": "display_data"
    },
    {
     "name": "stdout",
     "output_type": "stream",
     "text": [
      "Model #140\n",
      "Best ROC-AUC: 0.7636\n",
      "Best params: OrderedDict([('colsample_bytree', 0.6799685811200057), ('learning_rate', 0.01), ('max_bin', 100), ('max_depth', 8), ('min_child_samples', 10), ('min_data_in_leaf', 20), ('n_estimators', 400), ('num_leaves', 2), ('reg_alpha', 1e-09), ('reg_lambda', 1.0), ('scale_pos_weight', 70)])\n",
      "\n"
     ]
    },
    {
     "data": {
      "application/javascript": [
       "\n",
       "        if (window._pyforest_update_imports_cell) { window._pyforest_update_imports_cell('import numpy as np'); }\n",
       "    "
      ],
      "text/plain": [
       "<IPython.core.display.Javascript object>"
      ]
     },
     "metadata": {},
     "output_type": "display_data"
    },
    {
     "name": "stdout",
     "output_type": "stream",
     "text": [
      "Model #141\n",
      "Best ROC-AUC: 0.7636\n",
      "Best params: OrderedDict([('colsample_bytree', 0.6799685811200057), ('learning_rate', 0.01), ('max_bin', 100), ('max_depth', 8), ('min_child_samples', 10), ('min_data_in_leaf', 20), ('n_estimators', 400), ('num_leaves', 2), ('reg_alpha', 1e-09), ('reg_lambda', 1.0), ('scale_pos_weight', 70)])\n",
      "\n"
     ]
    },
    {
     "data": {
      "application/javascript": [
       "\n",
       "        if (window._pyforest_update_imports_cell) { window._pyforest_update_imports_cell('import numpy as np'); }\n",
       "    "
      ],
      "text/plain": [
       "<IPython.core.display.Javascript object>"
      ]
     },
     "metadata": {},
     "output_type": "display_data"
    },
    {
     "name": "stdout",
     "output_type": "stream",
     "text": [
      "Model #142\n",
      "Best ROC-AUC: 0.7636\n",
      "Best params: OrderedDict([('colsample_bytree', 0.6799685811200057), ('learning_rate', 0.01), ('max_bin', 100), ('max_depth', 8), ('min_child_samples', 10), ('min_data_in_leaf', 20), ('n_estimators', 400), ('num_leaves', 2), ('reg_alpha', 1e-09), ('reg_lambda', 1.0), ('scale_pos_weight', 70)])\n",
      "\n"
     ]
    },
    {
     "data": {
      "application/javascript": [
       "\n",
       "        if (window._pyforest_update_imports_cell) { window._pyforest_update_imports_cell('import numpy as np'); }\n",
       "    "
      ],
      "text/plain": [
       "<IPython.core.display.Javascript object>"
      ]
     },
     "metadata": {},
     "output_type": "display_data"
    },
    {
     "name": "stdout",
     "output_type": "stream",
     "text": [
      "Model #143\n",
      "Best ROC-AUC: 0.7636\n",
      "Best params: OrderedDict([('colsample_bytree', 0.6799685811200057), ('learning_rate', 0.01), ('max_bin', 100), ('max_depth', 8), ('min_child_samples', 10), ('min_data_in_leaf', 20), ('n_estimators', 400), ('num_leaves', 2), ('reg_alpha', 1e-09), ('reg_lambda', 1.0), ('scale_pos_weight', 70)])\n",
      "\n"
     ]
    },
    {
     "data": {
      "application/javascript": [
       "\n",
       "        if (window._pyforest_update_imports_cell) { window._pyforest_update_imports_cell('import numpy as np'); }\n",
       "    "
      ],
      "text/plain": [
       "<IPython.core.display.Javascript object>"
      ]
     },
     "metadata": {},
     "output_type": "display_data"
    },
    {
     "name": "stdout",
     "output_type": "stream",
     "text": [
      "Model #144\n",
      "Best ROC-AUC: 0.7636\n",
      "Best params: OrderedDict([('colsample_bytree', 0.6799685811200057), ('learning_rate', 0.01), ('max_bin', 100), ('max_depth', 8), ('min_child_samples', 10), ('min_data_in_leaf', 20), ('n_estimators', 400), ('num_leaves', 2), ('reg_alpha', 1e-09), ('reg_lambda', 1.0), ('scale_pos_weight', 70)])\n",
      "\n"
     ]
    },
    {
     "data": {
      "application/javascript": [
       "\n",
       "        if (window._pyforest_update_imports_cell) { window._pyforest_update_imports_cell('import numpy as np'); }\n",
       "    "
      ],
      "text/plain": [
       "<IPython.core.display.Javascript object>"
      ]
     },
     "metadata": {},
     "output_type": "display_data"
    },
    {
     "name": "stdout",
     "output_type": "stream",
     "text": [
      "Model #145\n",
      "Best ROC-AUC: 0.7636\n",
      "Best params: OrderedDict([('colsample_bytree', 0.6799685811200057), ('learning_rate', 0.01), ('max_bin', 100), ('max_depth', 8), ('min_child_samples', 10), ('min_data_in_leaf', 20), ('n_estimators', 400), ('num_leaves', 2), ('reg_alpha', 1e-09), ('reg_lambda', 1.0), ('scale_pos_weight', 70)])\n",
      "\n"
     ]
    },
    {
     "data": {
      "application/javascript": [
       "\n",
       "        if (window._pyforest_update_imports_cell) { window._pyforest_update_imports_cell('import numpy as np'); }\n",
       "    "
      ],
      "text/plain": [
       "<IPython.core.display.Javascript object>"
      ]
     },
     "metadata": {},
     "output_type": "display_data"
    },
    {
     "name": "stdout",
     "output_type": "stream",
     "text": [
      "Model #146\n",
      "Best ROC-AUC: 0.7636\n",
      "Best params: OrderedDict([('colsample_bytree', 0.6799685811200057), ('learning_rate', 0.01), ('max_bin', 100), ('max_depth', 8), ('min_child_samples', 10), ('min_data_in_leaf', 20), ('n_estimators', 400), ('num_leaves', 2), ('reg_alpha', 1e-09), ('reg_lambda', 1.0), ('scale_pos_weight', 70)])\n",
      "\n"
     ]
    },
    {
     "data": {
      "application/javascript": [
       "\n",
       "        if (window._pyforest_update_imports_cell) { window._pyforest_update_imports_cell('import numpy as np'); }\n",
       "    "
      ],
      "text/plain": [
       "<IPython.core.display.Javascript object>"
      ]
     },
     "metadata": {},
     "output_type": "display_data"
    },
    {
     "name": "stdout",
     "output_type": "stream",
     "text": [
      "Model #147\n",
      "Best ROC-AUC: 0.7636\n",
      "Best params: OrderedDict([('colsample_bytree', 0.6799685811200057), ('learning_rate', 0.01), ('max_bin', 100), ('max_depth', 8), ('min_child_samples', 10), ('min_data_in_leaf', 20), ('n_estimators', 400), ('num_leaves', 2), ('reg_alpha', 1e-09), ('reg_lambda', 1.0), ('scale_pos_weight', 70)])\n",
      "\n"
     ]
    },
    {
     "data": {
      "application/javascript": [
       "\n",
       "        if (window._pyforest_update_imports_cell) { window._pyforest_update_imports_cell('import numpy as np'); }\n",
       "    "
      ],
      "text/plain": [
       "<IPython.core.display.Javascript object>"
      ]
     },
     "metadata": {},
     "output_type": "display_data"
    },
    {
     "name": "stdout",
     "output_type": "stream",
     "text": [
      "Model #148\n",
      "Best ROC-AUC: 0.7636\n",
      "Best params: OrderedDict([('colsample_bytree', 0.6799685811200057), ('learning_rate', 0.01), ('max_bin', 100), ('max_depth', 8), ('min_child_samples', 10), ('min_data_in_leaf', 20), ('n_estimators', 400), ('num_leaves', 2), ('reg_alpha', 1e-09), ('reg_lambda', 1.0), ('scale_pos_weight', 70)])\n",
      "\n"
     ]
    },
    {
     "data": {
      "application/javascript": [
       "\n",
       "        if (window._pyforest_update_imports_cell) { window._pyforest_update_imports_cell('import numpy as np'); }\n",
       "    "
      ],
      "text/plain": [
       "<IPython.core.display.Javascript object>"
      ]
     },
     "metadata": {},
     "output_type": "display_data"
    },
    {
     "name": "stdout",
     "output_type": "stream",
     "text": [
      "Model #149\n",
      "Best ROC-AUC: 0.7636\n",
      "Best params: OrderedDict([('colsample_bytree', 0.6799685811200057), ('learning_rate', 0.01), ('max_bin', 100), ('max_depth', 8), ('min_child_samples', 10), ('min_data_in_leaf', 20), ('n_estimators', 400), ('num_leaves', 2), ('reg_alpha', 1e-09), ('reg_lambda', 1.0), ('scale_pos_weight', 70)])\n",
      "\n"
     ]
    },
    {
     "data": {
      "application/javascript": [
       "\n",
       "        if (window._pyforest_update_imports_cell) { window._pyforest_update_imports_cell('import numpy as np'); }\n",
       "    "
      ],
      "text/plain": [
       "<IPython.core.display.Javascript object>"
      ]
     },
     "metadata": {},
     "output_type": "display_data"
    },
    {
     "name": "stdout",
     "output_type": "stream",
     "text": [
      "Model #150\n",
      "Best ROC-AUC: 0.7636\n",
      "Best params: OrderedDict([('colsample_bytree', 0.6799685811200057), ('learning_rate', 0.01), ('max_bin', 100), ('max_depth', 8), ('min_child_samples', 10), ('min_data_in_leaf', 20), ('n_estimators', 400), ('num_leaves', 2), ('reg_alpha', 1e-09), ('reg_lambda', 1.0), ('scale_pos_weight', 70)])\n",
      "\n"
     ]
    },
    {
     "data": {
      "application/javascript": [
       "\n",
       "        if (window._pyforest_update_imports_cell) { window._pyforest_update_imports_cell('import numpy as np'); }\n",
       "    "
      ],
      "text/plain": [
       "<IPython.core.display.Javascript object>"
      ]
     },
     "metadata": {},
     "output_type": "display_data"
    },
    {
     "name": "stdout",
     "output_type": "stream",
     "text": [
      "Model #151\n",
      "Best ROC-AUC: 0.7636\n",
      "Best params: OrderedDict([('colsample_bytree', 0.6799685811200057), ('learning_rate', 0.01), ('max_bin', 100), ('max_depth', 8), ('min_child_samples', 10), ('min_data_in_leaf', 20), ('n_estimators', 400), ('num_leaves', 2), ('reg_alpha', 1e-09), ('reg_lambda', 1.0), ('scale_pos_weight', 70)])\n",
      "\n"
     ]
    },
    {
     "data": {
      "application/javascript": [
       "\n",
       "        if (window._pyforest_update_imports_cell) { window._pyforest_update_imports_cell('import numpy as np'); }\n",
       "    "
      ],
      "text/plain": [
       "<IPython.core.display.Javascript object>"
      ]
     },
     "metadata": {},
     "output_type": "display_data"
    },
    {
     "name": "stdout",
     "output_type": "stream",
     "text": [
      "Model #152\n",
      "Best ROC-AUC: 0.7636\n",
      "Best params: OrderedDict([('colsample_bytree', 0.6799685811200057), ('learning_rate', 0.01), ('max_bin', 100), ('max_depth', 8), ('min_child_samples', 10), ('min_data_in_leaf', 20), ('n_estimators', 400), ('num_leaves', 2), ('reg_alpha', 1e-09), ('reg_lambda', 1.0), ('scale_pos_weight', 70)])\n",
      "\n"
     ]
    },
    {
     "data": {
      "application/javascript": [
       "\n",
       "        if (window._pyforest_update_imports_cell) { window._pyforest_update_imports_cell('import numpy as np'); }\n",
       "    "
      ],
      "text/plain": [
       "<IPython.core.display.Javascript object>"
      ]
     },
     "metadata": {},
     "output_type": "display_data"
    },
    {
     "name": "stdout",
     "output_type": "stream",
     "text": [
      "Model #153\n",
      "Best ROC-AUC: 0.7636\n",
      "Best params: OrderedDict([('colsample_bytree', 0.6799685811200057), ('learning_rate', 0.01), ('max_bin', 100), ('max_depth', 8), ('min_child_samples', 10), ('min_data_in_leaf', 20), ('n_estimators', 400), ('num_leaves', 2), ('reg_alpha', 1e-09), ('reg_lambda', 1.0), ('scale_pos_weight', 70)])\n",
      "\n"
     ]
    },
    {
     "data": {
      "application/javascript": [
       "\n",
       "        if (window._pyforest_update_imports_cell) { window._pyforest_update_imports_cell('import numpy as np'); }\n",
       "    "
      ],
      "text/plain": [
       "<IPython.core.display.Javascript object>"
      ]
     },
     "metadata": {},
     "output_type": "display_data"
    },
    {
     "name": "stdout",
     "output_type": "stream",
     "text": [
      "Model #154\n",
      "Best ROC-AUC: 0.7636\n",
      "Best params: OrderedDict([('colsample_bytree', 0.6799685811200057), ('learning_rate', 0.01), ('max_bin', 100), ('max_depth', 8), ('min_child_samples', 10), ('min_data_in_leaf', 20), ('n_estimators', 400), ('num_leaves', 2), ('reg_alpha', 1e-09), ('reg_lambda', 1.0), ('scale_pos_weight', 70)])\n",
      "\n"
     ]
    },
    {
     "data": {
      "application/javascript": [
       "\n",
       "        if (window._pyforest_update_imports_cell) { window._pyforest_update_imports_cell('import numpy as np'); }\n",
       "    "
      ],
      "text/plain": [
       "<IPython.core.display.Javascript object>"
      ]
     },
     "metadata": {},
     "output_type": "display_data"
    },
    {
     "name": "stdout",
     "output_type": "stream",
     "text": [
      "Model #155\n",
      "Best ROC-AUC: 0.7636\n",
      "Best params: OrderedDict([('colsample_bytree', 0.6799685811200057), ('learning_rate', 0.01), ('max_bin', 100), ('max_depth', 8), ('min_child_samples', 10), ('min_data_in_leaf', 20), ('n_estimators', 400), ('num_leaves', 2), ('reg_alpha', 1e-09), ('reg_lambda', 1.0), ('scale_pos_weight', 70)])\n",
      "\n"
     ]
    },
    {
     "data": {
      "application/javascript": [
       "\n",
       "        if (window._pyforest_update_imports_cell) { window._pyforest_update_imports_cell('import numpy as np'); }\n",
       "    "
      ],
      "text/plain": [
       "<IPython.core.display.Javascript object>"
      ]
     },
     "metadata": {},
     "output_type": "display_data"
    },
    {
     "name": "stdout",
     "output_type": "stream",
     "text": [
      "Model #156\n",
      "Best ROC-AUC: 0.7636\n",
      "Best params: OrderedDict([('colsample_bytree', 0.6799685811200057), ('learning_rate', 0.01), ('max_bin', 100), ('max_depth', 8), ('min_child_samples', 10), ('min_data_in_leaf', 20), ('n_estimators', 400), ('num_leaves', 2), ('reg_alpha', 1e-09), ('reg_lambda', 1.0), ('scale_pos_weight', 70)])\n",
      "\n"
     ]
    },
    {
     "data": {
      "application/javascript": [
       "\n",
       "        if (window._pyforest_update_imports_cell) { window._pyforest_update_imports_cell('import numpy as np'); }\n",
       "    "
      ],
      "text/plain": [
       "<IPython.core.display.Javascript object>"
      ]
     },
     "metadata": {},
     "output_type": "display_data"
    },
    {
     "name": "stdout",
     "output_type": "stream",
     "text": [
      "Model #157\n",
      "Best ROC-AUC: 0.7636\n",
      "Best params: OrderedDict([('colsample_bytree', 0.6799685811200057), ('learning_rate', 0.01), ('max_bin', 100), ('max_depth', 8), ('min_child_samples', 10), ('min_data_in_leaf', 20), ('n_estimators', 400), ('num_leaves', 2), ('reg_alpha', 1e-09), ('reg_lambda', 1.0), ('scale_pos_weight', 70)])\n",
      "\n"
     ]
    },
    {
     "data": {
      "application/javascript": [
       "\n",
       "        if (window._pyforest_update_imports_cell) { window._pyforest_update_imports_cell('import numpy as np'); }\n",
       "    "
      ],
      "text/plain": [
       "<IPython.core.display.Javascript object>"
      ]
     },
     "metadata": {},
     "output_type": "display_data"
    },
    {
     "name": "stdout",
     "output_type": "stream",
     "text": [
      "Model #158\n",
      "Best ROC-AUC: 0.7636\n",
      "Best params: OrderedDict([('colsample_bytree', 0.6799685811200057), ('learning_rate', 0.01), ('max_bin', 100), ('max_depth', 8), ('min_child_samples', 10), ('min_data_in_leaf', 20), ('n_estimators', 400), ('num_leaves', 2), ('reg_alpha', 1e-09), ('reg_lambda', 1.0), ('scale_pos_weight', 70)])\n",
      "\n"
     ]
    },
    {
     "data": {
      "application/javascript": [
       "\n",
       "        if (window._pyforest_update_imports_cell) { window._pyforest_update_imports_cell('import numpy as np'); }\n",
       "    "
      ],
      "text/plain": [
       "<IPython.core.display.Javascript object>"
      ]
     },
     "metadata": {},
     "output_type": "display_data"
    },
    {
     "name": "stdout",
     "output_type": "stream",
     "text": [
      "Model #159\n",
      "Best ROC-AUC: 0.7636\n",
      "Best params: OrderedDict([('colsample_bytree', 0.6799685811200057), ('learning_rate', 0.01), ('max_bin', 100), ('max_depth', 8), ('min_child_samples', 10), ('min_data_in_leaf', 20), ('n_estimators', 400), ('num_leaves', 2), ('reg_alpha', 1e-09), ('reg_lambda', 1.0), ('scale_pos_weight', 70)])\n",
      "\n"
     ]
    },
    {
     "data": {
      "application/javascript": [
       "\n",
       "        if (window._pyforest_update_imports_cell) { window._pyforest_update_imports_cell('import numpy as np'); }\n",
       "    "
      ],
      "text/plain": [
       "<IPython.core.display.Javascript object>"
      ]
     },
     "metadata": {},
     "output_type": "display_data"
    },
    {
     "name": "stdout",
     "output_type": "stream",
     "text": [
      "Model #160\n",
      "Best ROC-AUC: 0.7636\n",
      "Best params: OrderedDict([('colsample_bytree', 0.6799685811200057), ('learning_rate', 0.01), ('max_bin', 100), ('max_depth', 8), ('min_child_samples', 10), ('min_data_in_leaf', 20), ('n_estimators', 400), ('num_leaves', 2), ('reg_alpha', 1e-09), ('reg_lambda', 1.0), ('scale_pos_weight', 70)])\n",
      "\n"
     ]
    },
    {
     "data": {
      "application/javascript": [
       "\n",
       "        if (window._pyforest_update_imports_cell) { window._pyforest_update_imports_cell('import numpy as np'); }\n",
       "    "
      ],
      "text/plain": [
       "<IPython.core.display.Javascript object>"
      ]
     },
     "metadata": {},
     "output_type": "display_data"
    },
    {
     "name": "stdout",
     "output_type": "stream",
     "text": [
      "Model #161\n",
      "Best ROC-AUC: 0.7636\n",
      "Best params: OrderedDict([('colsample_bytree', 0.6799685811200057), ('learning_rate', 0.01), ('max_bin', 100), ('max_depth', 8), ('min_child_samples', 10), ('min_data_in_leaf', 20), ('n_estimators', 400), ('num_leaves', 2), ('reg_alpha', 1e-09), ('reg_lambda', 1.0), ('scale_pos_weight', 70)])\n",
      "\n"
     ]
    },
    {
     "data": {
      "application/javascript": [
       "\n",
       "        if (window._pyforest_update_imports_cell) { window._pyforest_update_imports_cell('import numpy as np'); }\n",
       "    "
      ],
      "text/plain": [
       "<IPython.core.display.Javascript object>"
      ]
     },
     "metadata": {},
     "output_type": "display_data"
    },
    {
     "name": "stdout",
     "output_type": "stream",
     "text": [
      "Model #162\n",
      "Best ROC-AUC: 0.7636\n",
      "Best params: OrderedDict([('colsample_bytree', 0.6799685811200057), ('learning_rate', 0.01), ('max_bin', 100), ('max_depth', 8), ('min_child_samples', 10), ('min_data_in_leaf', 20), ('n_estimators', 400), ('num_leaves', 2), ('reg_alpha', 1e-09), ('reg_lambda', 1.0), ('scale_pos_weight', 70)])\n",
      "\n"
     ]
    },
    {
     "data": {
      "application/javascript": [
       "\n",
       "        if (window._pyforest_update_imports_cell) { window._pyforest_update_imports_cell('import numpy as np'); }\n",
       "    "
      ],
      "text/plain": [
       "<IPython.core.display.Javascript object>"
      ]
     },
     "metadata": {},
     "output_type": "display_data"
    },
    {
     "name": "stdout",
     "output_type": "stream",
     "text": [
      "Model #163\n",
      "Best ROC-AUC: 0.7636\n",
      "Best params: OrderedDict([('colsample_bytree', 0.6799685811200057), ('learning_rate', 0.01), ('max_bin', 100), ('max_depth', 8), ('min_child_samples', 10), ('min_data_in_leaf', 20), ('n_estimators', 400), ('num_leaves', 2), ('reg_alpha', 1e-09), ('reg_lambda', 1.0), ('scale_pos_weight', 70)])\n",
      "\n"
     ]
    },
    {
     "data": {
      "application/javascript": [
       "\n",
       "        if (window._pyforest_update_imports_cell) { window._pyforest_update_imports_cell('import numpy as np'); }\n",
       "    "
      ],
      "text/plain": [
       "<IPython.core.display.Javascript object>"
      ]
     },
     "metadata": {},
     "output_type": "display_data"
    },
    {
     "name": "stdout",
     "output_type": "stream",
     "text": [
      "Model #164\n",
      "Best ROC-AUC: 0.7636\n",
      "Best params: OrderedDict([('colsample_bytree', 0.6799685811200057), ('learning_rate', 0.01), ('max_bin', 100), ('max_depth', 8), ('min_child_samples', 10), ('min_data_in_leaf', 20), ('n_estimators', 400), ('num_leaves', 2), ('reg_alpha', 1e-09), ('reg_lambda', 1.0), ('scale_pos_weight', 70)])\n",
      "\n"
     ]
    },
    {
     "data": {
      "application/javascript": [
       "\n",
       "        if (window._pyforest_update_imports_cell) { window._pyforest_update_imports_cell('import numpy as np'); }\n",
       "    "
      ],
      "text/plain": [
       "<IPython.core.display.Javascript object>"
      ]
     },
     "metadata": {},
     "output_type": "display_data"
    },
    {
     "name": "stdout",
     "output_type": "stream",
     "text": [
      "Model #165\n",
      "Best ROC-AUC: 0.7636\n",
      "Best params: OrderedDict([('colsample_bytree', 0.6799685811200057), ('learning_rate', 0.01), ('max_bin', 100), ('max_depth', 8), ('min_child_samples', 10), ('min_data_in_leaf', 20), ('n_estimators', 400), ('num_leaves', 2), ('reg_alpha', 1e-09), ('reg_lambda', 1.0), ('scale_pos_weight', 70)])\n",
      "\n"
     ]
    },
    {
     "data": {
      "application/javascript": [
       "\n",
       "        if (window._pyforest_update_imports_cell) { window._pyforest_update_imports_cell('import numpy as np'); }\n",
       "    "
      ],
      "text/plain": [
       "<IPython.core.display.Javascript object>"
      ]
     },
     "metadata": {},
     "output_type": "display_data"
    },
    {
     "name": "stdout",
     "output_type": "stream",
     "text": [
      "Model #166\n",
      "Best ROC-AUC: 0.7636\n",
      "Best params: OrderedDict([('colsample_bytree', 0.6799685811200057), ('learning_rate', 0.01), ('max_bin', 100), ('max_depth', 8), ('min_child_samples', 10), ('min_data_in_leaf', 20), ('n_estimators', 400), ('num_leaves', 2), ('reg_alpha', 1e-09), ('reg_lambda', 1.0), ('scale_pos_weight', 70)])\n",
      "\n"
     ]
    },
    {
     "data": {
      "application/javascript": [
       "\n",
       "        if (window._pyforest_update_imports_cell) { window._pyforest_update_imports_cell('import numpy as np'); }\n",
       "    "
      ],
      "text/plain": [
       "<IPython.core.display.Javascript object>"
      ]
     },
     "metadata": {},
     "output_type": "display_data"
    },
    {
     "name": "stdout",
     "output_type": "stream",
     "text": [
      "Model #167\n",
      "Best ROC-AUC: 0.7636\n",
      "Best params: OrderedDict([('colsample_bytree', 0.6799685811200057), ('learning_rate', 0.01), ('max_bin', 100), ('max_depth', 8), ('min_child_samples', 10), ('min_data_in_leaf', 20), ('n_estimators', 400), ('num_leaves', 2), ('reg_alpha', 1e-09), ('reg_lambda', 1.0), ('scale_pos_weight', 70)])\n",
      "\n"
     ]
    },
    {
     "data": {
      "application/javascript": [
       "\n",
       "        if (window._pyforest_update_imports_cell) { window._pyforest_update_imports_cell('import numpy as np'); }\n",
       "    "
      ],
      "text/plain": [
       "<IPython.core.display.Javascript object>"
      ]
     },
     "metadata": {},
     "output_type": "display_data"
    },
    {
     "name": "stdout",
     "output_type": "stream",
     "text": [
      "Model #168\n",
      "Best ROC-AUC: 0.7636\n",
      "Best params: OrderedDict([('colsample_bytree', 0.6799685811200057), ('learning_rate', 0.01), ('max_bin', 100), ('max_depth', 8), ('min_child_samples', 10), ('min_data_in_leaf', 20), ('n_estimators', 400), ('num_leaves', 2), ('reg_alpha', 1e-09), ('reg_lambda', 1.0), ('scale_pos_weight', 70)])\n",
      "\n"
     ]
    },
    {
     "data": {
      "application/javascript": [
       "\n",
       "        if (window._pyforest_update_imports_cell) { window._pyforest_update_imports_cell('import numpy as np'); }\n",
       "    "
      ],
      "text/plain": [
       "<IPython.core.display.Javascript object>"
      ]
     },
     "metadata": {},
     "output_type": "display_data"
    },
    {
     "name": "stdout",
     "output_type": "stream",
     "text": [
      "Model #169\n",
      "Best ROC-AUC: 0.7636\n",
      "Best params: OrderedDict([('colsample_bytree', 0.6799685811200057), ('learning_rate', 0.01), ('max_bin', 100), ('max_depth', 8), ('min_child_samples', 10), ('min_data_in_leaf', 20), ('n_estimators', 400), ('num_leaves', 2), ('reg_alpha', 1e-09), ('reg_lambda', 1.0), ('scale_pos_weight', 70)])\n",
      "\n"
     ]
    },
    {
     "data": {
      "application/javascript": [
       "\n",
       "        if (window._pyforest_update_imports_cell) { window._pyforest_update_imports_cell('import numpy as np'); }\n",
       "    "
      ],
      "text/plain": [
       "<IPython.core.display.Javascript object>"
      ]
     },
     "metadata": {},
     "output_type": "display_data"
    },
    {
     "name": "stdout",
     "output_type": "stream",
     "text": [
      "Model #170\n",
      "Best ROC-AUC: 0.7636\n",
      "Best params: OrderedDict([('colsample_bytree', 0.6799685811200057), ('learning_rate', 0.01), ('max_bin', 100), ('max_depth', 8), ('min_child_samples', 10), ('min_data_in_leaf', 20), ('n_estimators', 400), ('num_leaves', 2), ('reg_alpha', 1e-09), ('reg_lambda', 1.0), ('scale_pos_weight', 70)])\n",
      "\n"
     ]
    },
    {
     "data": {
      "application/javascript": [
       "\n",
       "        if (window._pyforest_update_imports_cell) { window._pyforest_update_imports_cell('import numpy as np'); }\n",
       "    "
      ],
      "text/plain": [
       "<IPython.core.display.Javascript object>"
      ]
     },
     "metadata": {},
     "output_type": "display_data"
    },
    {
     "name": "stdout",
     "output_type": "stream",
     "text": [
      "Model #171\n",
      "Best ROC-AUC: 0.7636\n",
      "Best params: OrderedDict([('colsample_bytree', 0.6799685811200057), ('learning_rate', 0.01), ('max_bin', 100), ('max_depth', 8), ('min_child_samples', 10), ('min_data_in_leaf', 20), ('n_estimators', 400), ('num_leaves', 2), ('reg_alpha', 1e-09), ('reg_lambda', 1.0), ('scale_pos_weight', 70)])\n",
      "\n"
     ]
    },
    {
     "data": {
      "application/javascript": [
       "\n",
       "        if (window._pyforest_update_imports_cell) { window._pyforest_update_imports_cell('import numpy as np'); }\n",
       "    "
      ],
      "text/plain": [
       "<IPython.core.display.Javascript object>"
      ]
     },
     "metadata": {},
     "output_type": "display_data"
    },
    {
     "name": "stdout",
     "output_type": "stream",
     "text": [
      "Model #172\n",
      "Best ROC-AUC: 0.7636\n",
      "Best params: OrderedDict([('colsample_bytree', 0.6799685811200057), ('learning_rate', 0.01), ('max_bin', 100), ('max_depth', 8), ('min_child_samples', 10), ('min_data_in_leaf', 20), ('n_estimators', 400), ('num_leaves', 2), ('reg_alpha', 1e-09), ('reg_lambda', 1.0), ('scale_pos_weight', 70)])\n",
      "\n"
     ]
    },
    {
     "data": {
      "application/javascript": [
       "\n",
       "        if (window._pyforest_update_imports_cell) { window._pyforest_update_imports_cell('import numpy as np'); }\n",
       "    "
      ],
      "text/plain": [
       "<IPython.core.display.Javascript object>"
      ]
     },
     "metadata": {},
     "output_type": "display_data"
    },
    {
     "name": "stdout",
     "output_type": "stream",
     "text": [
      "Model #173\n",
      "Best ROC-AUC: 0.7636\n",
      "Best params: OrderedDict([('colsample_bytree', 0.6799685811200057), ('learning_rate', 0.01), ('max_bin', 100), ('max_depth', 8), ('min_child_samples', 10), ('min_data_in_leaf', 20), ('n_estimators', 400), ('num_leaves', 2), ('reg_alpha', 1e-09), ('reg_lambda', 1.0), ('scale_pos_weight', 70)])\n",
      "\n"
     ]
    },
    {
     "data": {
      "application/javascript": [
       "\n",
       "        if (window._pyforest_update_imports_cell) { window._pyforest_update_imports_cell('import numpy as np'); }\n",
       "    "
      ],
      "text/plain": [
       "<IPython.core.display.Javascript object>"
      ]
     },
     "metadata": {},
     "output_type": "display_data"
    },
    {
     "name": "stdout",
     "output_type": "stream",
     "text": [
      "Model #174\n",
      "Best ROC-AUC: 0.7636\n",
      "Best params: OrderedDict([('colsample_bytree', 0.6799685811200057), ('learning_rate', 0.01), ('max_bin', 100), ('max_depth', 8), ('min_child_samples', 10), ('min_data_in_leaf', 20), ('n_estimators', 400), ('num_leaves', 2), ('reg_alpha', 1e-09), ('reg_lambda', 1.0), ('scale_pos_weight', 70)])\n",
      "\n"
     ]
    },
    {
     "data": {
      "application/javascript": [
       "\n",
       "        if (window._pyforest_update_imports_cell) { window._pyforest_update_imports_cell('import numpy as np'); }\n",
       "    "
      ],
      "text/plain": [
       "<IPython.core.display.Javascript object>"
      ]
     },
     "metadata": {},
     "output_type": "display_data"
    },
    {
     "name": "stdout",
     "output_type": "stream",
     "text": [
      "Model #175\n",
      "Best ROC-AUC: 0.7636\n",
      "Best params: OrderedDict([('colsample_bytree', 0.6799685811200057), ('learning_rate', 0.01), ('max_bin', 100), ('max_depth', 8), ('min_child_samples', 10), ('min_data_in_leaf', 20), ('n_estimators', 400), ('num_leaves', 2), ('reg_alpha', 1e-09), ('reg_lambda', 1.0), ('scale_pos_weight', 70)])\n",
      "\n"
     ]
    },
    {
     "data": {
      "application/javascript": [
       "\n",
       "        if (window._pyforest_update_imports_cell) { window._pyforest_update_imports_cell('import numpy as np'); }\n",
       "    "
      ],
      "text/plain": [
       "<IPython.core.display.Javascript object>"
      ]
     },
     "metadata": {},
     "output_type": "display_data"
    },
    {
     "name": "stdout",
     "output_type": "stream",
     "text": [
      "Model #176\n",
      "Best ROC-AUC: 0.7636\n",
      "Best params: OrderedDict([('colsample_bytree', 0.6799685811200057), ('learning_rate', 0.01), ('max_bin', 100), ('max_depth', 8), ('min_child_samples', 10), ('min_data_in_leaf', 20), ('n_estimators', 400), ('num_leaves', 2), ('reg_alpha', 1e-09), ('reg_lambda', 1.0), ('scale_pos_weight', 70)])\n",
      "\n"
     ]
    },
    {
     "data": {
      "application/javascript": [
       "\n",
       "        if (window._pyforest_update_imports_cell) { window._pyforest_update_imports_cell('import numpy as np'); }\n",
       "    "
      ],
      "text/plain": [
       "<IPython.core.display.Javascript object>"
      ]
     },
     "metadata": {},
     "output_type": "display_data"
    },
    {
     "name": "stdout",
     "output_type": "stream",
     "text": [
      "Model #177\n",
      "Best ROC-AUC: 0.7636\n",
      "Best params: OrderedDict([('colsample_bytree', 0.6799685811200057), ('learning_rate', 0.01), ('max_bin', 100), ('max_depth', 8), ('min_child_samples', 10), ('min_data_in_leaf', 20), ('n_estimators', 400), ('num_leaves', 2), ('reg_alpha', 1e-09), ('reg_lambda', 1.0), ('scale_pos_weight', 70)])\n",
      "\n"
     ]
    },
    {
     "data": {
      "application/javascript": [
       "\n",
       "        if (window._pyforest_update_imports_cell) { window._pyforest_update_imports_cell('import numpy as np'); }\n",
       "    "
      ],
      "text/plain": [
       "<IPython.core.display.Javascript object>"
      ]
     },
     "metadata": {},
     "output_type": "display_data"
    },
    {
     "name": "stdout",
     "output_type": "stream",
     "text": [
      "Model #178\n",
      "Best ROC-AUC: 0.7636\n",
      "Best params: OrderedDict([('colsample_bytree', 0.6799685811200057), ('learning_rate', 0.01), ('max_bin', 100), ('max_depth', 8), ('min_child_samples', 10), ('min_data_in_leaf', 20), ('n_estimators', 400), ('num_leaves', 2), ('reg_alpha', 1e-09), ('reg_lambda', 1.0), ('scale_pos_weight', 70)])\n",
      "\n"
     ]
    },
    {
     "data": {
      "application/javascript": [
       "\n",
       "        if (window._pyforest_update_imports_cell) { window._pyforest_update_imports_cell('import numpy as np'); }\n",
       "    "
      ],
      "text/plain": [
       "<IPython.core.display.Javascript object>"
      ]
     },
     "metadata": {},
     "output_type": "display_data"
    },
    {
     "name": "stdout",
     "output_type": "stream",
     "text": [
      "Model #179\n",
      "Best ROC-AUC: 0.7636\n",
      "Best params: OrderedDict([('colsample_bytree', 0.6799685811200057), ('learning_rate', 0.01), ('max_bin', 100), ('max_depth', 8), ('min_child_samples', 10), ('min_data_in_leaf', 20), ('n_estimators', 400), ('num_leaves', 2), ('reg_alpha', 1e-09), ('reg_lambda', 1.0), ('scale_pos_weight', 70)])\n",
      "\n"
     ]
    },
    {
     "data": {
      "application/javascript": [
       "\n",
       "        if (window._pyforest_update_imports_cell) { window._pyforest_update_imports_cell('import numpy as np'); }\n",
       "    "
      ],
      "text/plain": [
       "<IPython.core.display.Javascript object>"
      ]
     },
     "metadata": {},
     "output_type": "display_data"
    },
    {
     "name": "stdout",
     "output_type": "stream",
     "text": [
      "Model #180\n",
      "Best ROC-AUC: 0.7636\n",
      "Best params: OrderedDict([('colsample_bytree', 0.6799685811200057), ('learning_rate', 0.01), ('max_bin', 100), ('max_depth', 8), ('min_child_samples', 10), ('min_data_in_leaf', 20), ('n_estimators', 400), ('num_leaves', 2), ('reg_alpha', 1e-09), ('reg_lambda', 1.0), ('scale_pos_weight', 70)])\n",
      "\n"
     ]
    },
    {
     "data": {
      "application/javascript": [
       "\n",
       "        if (window._pyforest_update_imports_cell) { window._pyforest_update_imports_cell('import numpy as np'); }\n",
       "    "
      ],
      "text/plain": [
       "<IPython.core.display.Javascript object>"
      ]
     },
     "metadata": {},
     "output_type": "display_data"
    },
    {
     "name": "stdout",
     "output_type": "stream",
     "text": [
      "Model #181\n",
      "Best ROC-AUC: 0.7636\n",
      "Best params: OrderedDict([('colsample_bytree', 0.6799685811200057), ('learning_rate', 0.01), ('max_bin', 100), ('max_depth', 8), ('min_child_samples', 10), ('min_data_in_leaf', 20), ('n_estimators', 400), ('num_leaves', 2), ('reg_alpha', 1e-09), ('reg_lambda', 1.0), ('scale_pos_weight', 70)])\n",
      "\n"
     ]
    },
    {
     "data": {
      "application/javascript": [
       "\n",
       "        if (window._pyforest_update_imports_cell) { window._pyforest_update_imports_cell('import numpy as np'); }\n",
       "    "
      ],
      "text/plain": [
       "<IPython.core.display.Javascript object>"
      ]
     },
     "metadata": {},
     "output_type": "display_data"
    },
    {
     "name": "stdout",
     "output_type": "stream",
     "text": [
      "Model #182\n",
      "Best ROC-AUC: 0.7636\n",
      "Best params: OrderedDict([('colsample_bytree', 0.6799685811200057), ('learning_rate', 0.01), ('max_bin', 100), ('max_depth', 8), ('min_child_samples', 10), ('min_data_in_leaf', 20), ('n_estimators', 400), ('num_leaves', 2), ('reg_alpha', 1e-09), ('reg_lambda', 1.0), ('scale_pos_weight', 70)])\n",
      "\n"
     ]
    },
    {
     "data": {
      "application/javascript": [
       "\n",
       "        if (window._pyforest_update_imports_cell) { window._pyforest_update_imports_cell('import numpy as np'); }\n",
       "    "
      ],
      "text/plain": [
       "<IPython.core.display.Javascript object>"
      ]
     },
     "metadata": {},
     "output_type": "display_data"
    },
    {
     "name": "stdout",
     "output_type": "stream",
     "text": [
      "Model #183\n",
      "Best ROC-AUC: 0.7636\n",
      "Best params: OrderedDict([('colsample_bytree', 0.6799685811200057), ('learning_rate', 0.01), ('max_bin', 100), ('max_depth', 8), ('min_child_samples', 10), ('min_data_in_leaf', 20), ('n_estimators', 400), ('num_leaves', 2), ('reg_alpha', 1e-09), ('reg_lambda', 1.0), ('scale_pos_weight', 70)])\n",
      "\n"
     ]
    },
    {
     "data": {
      "application/javascript": [
       "\n",
       "        if (window._pyforest_update_imports_cell) { window._pyforest_update_imports_cell('import numpy as np'); }\n",
       "    "
      ],
      "text/plain": [
       "<IPython.core.display.Javascript object>"
      ]
     },
     "metadata": {},
     "output_type": "display_data"
    },
    {
     "name": "stdout",
     "output_type": "stream",
     "text": [
      "Model #184\n",
      "Best ROC-AUC: 0.7636\n",
      "Best params: OrderedDict([('colsample_bytree', 0.6799685811200057), ('learning_rate', 0.01), ('max_bin', 100), ('max_depth', 8), ('min_child_samples', 10), ('min_data_in_leaf', 20), ('n_estimators', 400), ('num_leaves', 2), ('reg_alpha', 1e-09), ('reg_lambda', 1.0), ('scale_pos_weight', 70)])\n",
      "\n"
     ]
    },
    {
     "data": {
      "application/javascript": [
       "\n",
       "        if (window._pyforest_update_imports_cell) { window._pyforest_update_imports_cell('import numpy as np'); }\n",
       "    "
      ],
      "text/plain": [
       "<IPython.core.display.Javascript object>"
      ]
     },
     "metadata": {},
     "output_type": "display_data"
    },
    {
     "name": "stdout",
     "output_type": "stream",
     "text": [
      "Model #185\n",
      "Best ROC-AUC: 0.764\n",
      "Best params: OrderedDict([('colsample_bytree', 0.5), ('learning_rate', 0.01), ('max_bin', 1000), ('max_depth', 2), ('min_child_samples', 0), ('min_data_in_leaf', 20), ('n_estimators', 141), ('num_leaves', 87), ('reg_alpha', 4.6477525069919926e-06), ('reg_lambda', 0.014510163449633668), ('scale_pos_weight', 7)])\n",
      "\n"
     ]
    },
    {
     "data": {
      "application/javascript": [
       "\n",
       "        if (window._pyforest_update_imports_cell) { window._pyforest_update_imports_cell('import numpy as np'); }\n",
       "    "
      ],
      "text/plain": [
       "<IPython.core.display.Javascript object>"
      ]
     },
     "metadata": {},
     "output_type": "display_data"
    },
    {
     "name": "stdout",
     "output_type": "stream",
     "text": [
      "Model #186\n",
      "Best ROC-AUC: 0.764\n",
      "Best params: OrderedDict([('colsample_bytree', 0.5), ('learning_rate', 0.01), ('max_bin', 1000), ('max_depth', 2), ('min_child_samples', 0), ('min_data_in_leaf', 20), ('n_estimators', 141), ('num_leaves', 87), ('reg_alpha', 4.6477525069919926e-06), ('reg_lambda', 0.014510163449633668), ('scale_pos_weight', 7)])\n",
      "\n"
     ]
    },
    {
     "data": {
      "application/javascript": [
       "\n",
       "        if (window._pyforest_update_imports_cell) { window._pyforest_update_imports_cell('import numpy as np'); }\n",
       "    "
      ],
      "text/plain": [
       "<IPython.core.display.Javascript object>"
      ]
     },
     "metadata": {},
     "output_type": "display_data"
    },
    {
     "name": "stdout",
     "output_type": "stream",
     "text": [
      "Model #187\n",
      "Best ROC-AUC: 0.764\n",
      "Best params: OrderedDict([('colsample_bytree', 0.5), ('learning_rate', 0.01), ('max_bin', 1000), ('max_depth', 2), ('min_child_samples', 0), ('min_data_in_leaf', 20), ('n_estimators', 141), ('num_leaves', 87), ('reg_alpha', 4.6477525069919926e-06), ('reg_lambda', 0.014510163449633668), ('scale_pos_weight', 7)])\n",
      "\n"
     ]
    },
    {
     "data": {
      "application/javascript": [
       "\n",
       "        if (window._pyforest_update_imports_cell) { window._pyforest_update_imports_cell('import numpy as np'); }\n",
       "    "
      ],
      "text/plain": [
       "<IPython.core.display.Javascript object>"
      ]
     },
     "metadata": {},
     "output_type": "display_data"
    },
    {
     "name": "stdout",
     "output_type": "stream",
     "text": [
      "Model #188\n",
      "Best ROC-AUC: 0.764\n",
      "Best params: OrderedDict([('colsample_bytree', 0.5), ('learning_rate', 0.01), ('max_bin', 1000), ('max_depth', 2), ('min_child_samples', 0), ('min_data_in_leaf', 20), ('n_estimators', 141), ('num_leaves', 87), ('reg_alpha', 4.6477525069919926e-06), ('reg_lambda', 0.014510163449633668), ('scale_pos_weight', 7)])\n",
      "\n"
     ]
    },
    {
     "data": {
      "application/javascript": [
       "\n",
       "        if (window._pyforest_update_imports_cell) { window._pyforest_update_imports_cell('import numpy as np'); }\n",
       "    "
      ],
      "text/plain": [
       "<IPython.core.display.Javascript object>"
      ]
     },
     "metadata": {},
     "output_type": "display_data"
    },
    {
     "name": "stdout",
     "output_type": "stream",
     "text": [
      "Model #189\n",
      "Best ROC-AUC: 0.764\n",
      "Best params: OrderedDict([('colsample_bytree', 0.5), ('learning_rate', 0.01), ('max_bin', 1000), ('max_depth', 2), ('min_child_samples', 0), ('min_data_in_leaf', 20), ('n_estimators', 141), ('num_leaves', 87), ('reg_alpha', 4.6477525069919926e-06), ('reg_lambda', 0.014510163449633668), ('scale_pos_weight', 7)])\n",
      "\n"
     ]
    },
    {
     "data": {
      "application/javascript": [
       "\n",
       "        if (window._pyforest_update_imports_cell) { window._pyforest_update_imports_cell('import numpy as np'); }\n",
       "    "
      ],
      "text/plain": [
       "<IPython.core.display.Javascript object>"
      ]
     },
     "metadata": {},
     "output_type": "display_data"
    },
    {
     "name": "stdout",
     "output_type": "stream",
     "text": [
      "Model #190\n",
      "Best ROC-AUC: 0.764\n",
      "Best params: OrderedDict([('colsample_bytree', 0.5), ('learning_rate', 0.01), ('max_bin', 1000), ('max_depth', 2), ('min_child_samples', 0), ('min_data_in_leaf', 20), ('n_estimators', 141), ('num_leaves', 87), ('reg_alpha', 4.6477525069919926e-06), ('reg_lambda', 0.014510163449633668), ('scale_pos_weight', 7)])\n",
      "\n"
     ]
    },
    {
     "data": {
      "application/javascript": [
       "\n",
       "        if (window._pyforest_update_imports_cell) { window._pyforest_update_imports_cell('import numpy as np'); }\n",
       "    "
      ],
      "text/plain": [
       "<IPython.core.display.Javascript object>"
      ]
     },
     "metadata": {},
     "output_type": "display_data"
    },
    {
     "name": "stdout",
     "output_type": "stream",
     "text": [
      "Model #191\n",
      "Best ROC-AUC: 0.764\n",
      "Best params: OrderedDict([('colsample_bytree', 0.5), ('learning_rate', 0.01), ('max_bin', 1000), ('max_depth', 2), ('min_child_samples', 0), ('min_data_in_leaf', 20), ('n_estimators', 141), ('num_leaves', 87), ('reg_alpha', 4.6477525069919926e-06), ('reg_lambda', 0.014510163449633668), ('scale_pos_weight', 7)])\n",
      "\n"
     ]
    },
    {
     "data": {
      "application/javascript": [
       "\n",
       "        if (window._pyforest_update_imports_cell) { window._pyforest_update_imports_cell('import numpy as np'); }\n",
       "    "
      ],
      "text/plain": [
       "<IPython.core.display.Javascript object>"
      ]
     },
     "metadata": {},
     "output_type": "display_data"
    },
    {
     "name": "stdout",
     "output_type": "stream",
     "text": [
      "Model #192\n",
      "Best ROC-AUC: 0.764\n",
      "Best params: OrderedDict([('colsample_bytree', 0.5), ('learning_rate', 0.01), ('max_bin', 1000), ('max_depth', 2), ('min_child_samples', 0), ('min_data_in_leaf', 20), ('n_estimators', 141), ('num_leaves', 87), ('reg_alpha', 4.6477525069919926e-06), ('reg_lambda', 0.014510163449633668), ('scale_pos_weight', 7)])\n",
      "\n"
     ]
    },
    {
     "data": {
      "application/javascript": [
       "\n",
       "        if (window._pyforest_update_imports_cell) { window._pyforest_update_imports_cell('import numpy as np'); }\n",
       "    "
      ],
      "text/plain": [
       "<IPython.core.display.Javascript object>"
      ]
     },
     "metadata": {},
     "output_type": "display_data"
    },
    {
     "name": "stdout",
     "output_type": "stream",
     "text": [
      "Model #193\n",
      "Best ROC-AUC: 0.764\n",
      "Best params: OrderedDict([('colsample_bytree', 0.5), ('learning_rate', 0.01), ('max_bin', 1000), ('max_depth', 2), ('min_child_samples', 0), ('min_data_in_leaf', 20), ('n_estimators', 141), ('num_leaves', 87), ('reg_alpha', 4.6477525069919926e-06), ('reg_lambda', 0.014510163449633668), ('scale_pos_weight', 7)])\n",
      "\n"
     ]
    },
    {
     "data": {
      "application/javascript": [
       "\n",
       "        if (window._pyforest_update_imports_cell) { window._pyforest_update_imports_cell('import numpy as np'); }\n",
       "    "
      ],
      "text/plain": [
       "<IPython.core.display.Javascript object>"
      ]
     },
     "metadata": {},
     "output_type": "display_data"
    },
    {
     "name": "stdout",
     "output_type": "stream",
     "text": [
      "Model #194\n",
      "Best ROC-AUC: 0.764\n",
      "Best params: OrderedDict([('colsample_bytree', 0.5), ('learning_rate', 0.01), ('max_bin', 1000), ('max_depth', 2), ('min_child_samples', 0), ('min_data_in_leaf', 20), ('n_estimators', 141), ('num_leaves', 87), ('reg_alpha', 4.6477525069919926e-06), ('reg_lambda', 0.014510163449633668), ('scale_pos_weight', 7)])\n",
      "\n"
     ]
    },
    {
     "data": {
      "application/javascript": [
       "\n",
       "        if (window._pyforest_update_imports_cell) { window._pyforest_update_imports_cell('import numpy as np'); }\n",
       "    "
      ],
      "text/plain": [
       "<IPython.core.display.Javascript object>"
      ]
     },
     "metadata": {},
     "output_type": "display_data"
    },
    {
     "name": "stdout",
     "output_type": "stream",
     "text": [
      "Model #195\n",
      "Best ROC-AUC: 0.764\n",
      "Best params: OrderedDict([('colsample_bytree', 0.5), ('learning_rate', 0.01), ('max_bin', 1000), ('max_depth', 2), ('min_child_samples', 0), ('min_data_in_leaf', 20), ('n_estimators', 141), ('num_leaves', 87), ('reg_alpha', 4.6477525069919926e-06), ('reg_lambda', 0.014510163449633668), ('scale_pos_weight', 7)])\n",
      "\n"
     ]
    },
    {
     "data": {
      "application/javascript": [
       "\n",
       "        if (window._pyforest_update_imports_cell) { window._pyforest_update_imports_cell('import numpy as np'); }\n",
       "    "
      ],
      "text/plain": [
       "<IPython.core.display.Javascript object>"
      ]
     },
     "metadata": {},
     "output_type": "display_data"
    },
    {
     "name": "stdout",
     "output_type": "stream",
     "text": [
      "Model #196\n",
      "Best ROC-AUC: 0.764\n",
      "Best params: OrderedDict([('colsample_bytree', 0.5), ('learning_rate', 0.01), ('max_bin', 1000), ('max_depth', 2), ('min_child_samples', 0), ('min_data_in_leaf', 20), ('n_estimators', 141), ('num_leaves', 87), ('reg_alpha', 4.6477525069919926e-06), ('reg_lambda', 0.014510163449633668), ('scale_pos_weight', 7)])\n",
      "\n"
     ]
    },
    {
     "data": {
      "application/javascript": [
       "\n",
       "        if (window._pyforest_update_imports_cell) { window._pyforest_update_imports_cell('import numpy as np'); }\n",
       "    "
      ],
      "text/plain": [
       "<IPython.core.display.Javascript object>"
      ]
     },
     "metadata": {},
     "output_type": "display_data"
    },
    {
     "name": "stdout",
     "output_type": "stream",
     "text": [
      "Model #197\n",
      "Best ROC-AUC: 0.764\n",
      "Best params: OrderedDict([('colsample_bytree', 0.5), ('learning_rate', 0.01), ('max_bin', 1000), ('max_depth', 2), ('min_child_samples', 0), ('min_data_in_leaf', 20), ('n_estimators', 141), ('num_leaves', 87), ('reg_alpha', 4.6477525069919926e-06), ('reg_lambda', 0.014510163449633668), ('scale_pos_weight', 7)])\n",
      "\n"
     ]
    },
    {
     "data": {
      "application/javascript": [
       "\n",
       "        if (window._pyforest_update_imports_cell) { window._pyforest_update_imports_cell('import numpy as np'); }\n",
       "    "
      ],
      "text/plain": [
       "<IPython.core.display.Javascript object>"
      ]
     },
     "metadata": {},
     "output_type": "display_data"
    },
    {
     "name": "stdout",
     "output_type": "stream",
     "text": [
      "Model #198\n",
      "Best ROC-AUC: 0.764\n",
      "Best params: OrderedDict([('colsample_bytree', 0.5), ('learning_rate', 0.01), ('max_bin', 1000), ('max_depth', 2), ('min_child_samples', 0), ('min_data_in_leaf', 20), ('n_estimators', 141), ('num_leaves', 87), ('reg_alpha', 4.6477525069919926e-06), ('reg_lambda', 0.014510163449633668), ('scale_pos_weight', 7)])\n",
      "\n"
     ]
    },
    {
     "data": {
      "application/javascript": [
       "\n",
       "        if (window._pyforest_update_imports_cell) { window._pyforest_update_imports_cell('import numpy as np'); }\n",
       "    "
      ],
      "text/plain": [
       "<IPython.core.display.Javascript object>"
      ]
     },
     "metadata": {},
     "output_type": "display_data"
    },
    {
     "name": "stdout",
     "output_type": "stream",
     "text": [
      "Model #199\n",
      "Best ROC-AUC: 0.764\n",
      "Best params: OrderedDict([('colsample_bytree', 0.5), ('learning_rate', 0.01), ('max_bin', 1000), ('max_depth', 2), ('min_child_samples', 0), ('min_data_in_leaf', 20), ('n_estimators', 141), ('num_leaves', 87), ('reg_alpha', 4.6477525069919926e-06), ('reg_lambda', 0.014510163449633668), ('scale_pos_weight', 7)])\n",
      "\n"
     ]
    },
    {
     "data": {
      "application/javascript": [
       "\n",
       "        if (window._pyforest_update_imports_cell) { window._pyforest_update_imports_cell('import numpy as np'); }\n",
       "    "
      ],
      "text/plain": [
       "<IPython.core.display.Javascript object>"
      ]
     },
     "metadata": {},
     "output_type": "display_data"
    },
    {
     "name": "stdout",
     "output_type": "stream",
     "text": [
      "Model #200\n",
      "Best ROC-AUC: 0.764\n",
      "Best params: OrderedDict([('colsample_bytree', 0.5), ('learning_rate', 0.01), ('max_bin', 1000), ('max_depth', 2), ('min_child_samples', 0), ('min_data_in_leaf', 20), ('n_estimators', 141), ('num_leaves', 87), ('reg_alpha', 4.6477525069919926e-06), ('reg_lambda', 0.014510163449633668), ('scale_pos_weight', 7)])\n",
      "\n"
     ]
    },
    {
     "data": {
      "application/javascript": [
       "\n",
       "        if (window._pyforest_update_imports_cell) { window._pyforest_update_imports_cell('import numpy as np'); }\n",
       "    "
      ],
      "text/plain": [
       "<IPython.core.display.Javascript object>"
      ]
     },
     "metadata": {},
     "output_type": "display_data"
    },
    {
     "name": "stdout",
     "output_type": "stream",
     "text": [
      "Model #201\n",
      "Best ROC-AUC: 0.764\n",
      "Best params: OrderedDict([('colsample_bytree', 0.5), ('learning_rate', 0.01), ('max_bin', 1000), ('max_depth', 2), ('min_child_samples', 0), ('min_data_in_leaf', 20), ('n_estimators', 141), ('num_leaves', 87), ('reg_alpha', 4.6477525069919926e-06), ('reg_lambda', 0.014510163449633668), ('scale_pos_weight', 7)])\n",
      "\n"
     ]
    },
    {
     "data": {
      "application/javascript": [
       "\n",
       "        if (window._pyforest_update_imports_cell) { window._pyforest_update_imports_cell('import numpy as np'); }\n",
       "    "
      ],
      "text/plain": [
       "<IPython.core.display.Javascript object>"
      ]
     },
     "metadata": {},
     "output_type": "display_data"
    },
    {
     "name": "stdout",
     "output_type": "stream",
     "text": [
      "Model #202\n",
      "Best ROC-AUC: 0.764\n",
      "Best params: OrderedDict([('colsample_bytree', 0.5), ('learning_rate', 0.01), ('max_bin', 1000), ('max_depth', 2), ('min_child_samples', 0), ('min_data_in_leaf', 20), ('n_estimators', 141), ('num_leaves', 87), ('reg_alpha', 4.6477525069919926e-06), ('reg_lambda', 0.014510163449633668), ('scale_pos_weight', 7)])\n",
      "\n"
     ]
    },
    {
     "data": {
      "application/javascript": [
       "\n",
       "        if (window._pyforest_update_imports_cell) { window._pyforest_update_imports_cell('import numpy as np'); }\n",
       "    "
      ],
      "text/plain": [
       "<IPython.core.display.Javascript object>"
      ]
     },
     "metadata": {},
     "output_type": "display_data"
    },
    {
     "name": "stdout",
     "output_type": "stream",
     "text": [
      "Model #203\n",
      "Best ROC-AUC: 0.764\n",
      "Best params: OrderedDict([('colsample_bytree', 0.5), ('learning_rate', 0.01), ('max_bin', 1000), ('max_depth', 2), ('min_child_samples', 0), ('min_data_in_leaf', 20), ('n_estimators', 141), ('num_leaves', 87), ('reg_alpha', 4.6477525069919926e-06), ('reg_lambda', 0.014510163449633668), ('scale_pos_weight', 7)])\n",
      "\n"
     ]
    },
    {
     "data": {
      "application/javascript": [
       "\n",
       "        if (window._pyforest_update_imports_cell) { window._pyforest_update_imports_cell('import numpy as np'); }\n",
       "    "
      ],
      "text/plain": [
       "<IPython.core.display.Javascript object>"
      ]
     },
     "metadata": {},
     "output_type": "display_data"
    },
    {
     "name": "stdout",
     "output_type": "stream",
     "text": [
      "Model #204\n",
      "Best ROC-AUC: 0.764\n",
      "Best params: OrderedDict([('colsample_bytree', 0.5), ('learning_rate', 0.01), ('max_bin', 1000), ('max_depth', 2), ('min_child_samples', 0), ('min_data_in_leaf', 20), ('n_estimators', 141), ('num_leaves', 87), ('reg_alpha', 4.6477525069919926e-06), ('reg_lambda', 0.014510163449633668), ('scale_pos_weight', 7)])\n",
      "\n"
     ]
    },
    {
     "data": {
      "application/javascript": [
       "\n",
       "        if (window._pyforest_update_imports_cell) { window._pyforest_update_imports_cell('import numpy as np'); }\n",
       "    "
      ],
      "text/plain": [
       "<IPython.core.display.Javascript object>"
      ]
     },
     "metadata": {},
     "output_type": "display_data"
    },
    {
     "name": "stdout",
     "output_type": "stream",
     "text": [
      "Model #205\n",
      "Best ROC-AUC: 0.764\n",
      "Best params: OrderedDict([('colsample_bytree', 0.5), ('learning_rate', 0.01), ('max_bin', 1000), ('max_depth', 2), ('min_child_samples', 0), ('min_data_in_leaf', 20), ('n_estimators', 141), ('num_leaves', 87), ('reg_alpha', 4.6477525069919926e-06), ('reg_lambda', 0.014510163449633668), ('scale_pos_weight', 7)])\n",
      "\n"
     ]
    },
    {
     "data": {
      "application/javascript": [
       "\n",
       "        if (window._pyforest_update_imports_cell) { window._pyforest_update_imports_cell('import numpy as np'); }\n",
       "    "
      ],
      "text/plain": [
       "<IPython.core.display.Javascript object>"
      ]
     },
     "metadata": {},
     "output_type": "display_data"
    },
    {
     "name": "stdout",
     "output_type": "stream",
     "text": [
      "Model #206\n",
      "Best ROC-AUC: 0.764\n",
      "Best params: OrderedDict([('colsample_bytree', 0.5), ('learning_rate', 0.01), ('max_bin', 1000), ('max_depth', 2), ('min_child_samples', 0), ('min_data_in_leaf', 20), ('n_estimators', 141), ('num_leaves', 87), ('reg_alpha', 4.6477525069919926e-06), ('reg_lambda', 0.014510163449633668), ('scale_pos_weight', 7)])\n",
      "\n"
     ]
    },
    {
     "data": {
      "application/javascript": [
       "\n",
       "        if (window._pyforest_update_imports_cell) { window._pyforest_update_imports_cell('import numpy as np'); }\n",
       "    "
      ],
      "text/plain": [
       "<IPython.core.display.Javascript object>"
      ]
     },
     "metadata": {},
     "output_type": "display_data"
    },
    {
     "name": "stdout",
     "output_type": "stream",
     "text": [
      "Model #207\n",
      "Best ROC-AUC: 0.764\n",
      "Best params: OrderedDict([('colsample_bytree', 0.5), ('learning_rate', 0.01), ('max_bin', 1000), ('max_depth', 2), ('min_child_samples', 0), ('min_data_in_leaf', 20), ('n_estimators', 141), ('num_leaves', 87), ('reg_alpha', 4.6477525069919926e-06), ('reg_lambda', 0.014510163449633668), ('scale_pos_weight', 7)])\n",
      "\n"
     ]
    },
    {
     "data": {
      "application/javascript": [
       "\n",
       "        if (window._pyforest_update_imports_cell) { window._pyforest_update_imports_cell('import numpy as np'); }\n",
       "    "
      ],
      "text/plain": [
       "<IPython.core.display.Javascript object>"
      ]
     },
     "metadata": {},
     "output_type": "display_data"
    },
    {
     "name": "stdout",
     "output_type": "stream",
     "text": [
      "Model #208\n",
      "Best ROC-AUC: 0.764\n",
      "Best params: OrderedDict([('colsample_bytree', 0.5), ('learning_rate', 0.01), ('max_bin', 1000), ('max_depth', 2), ('min_child_samples', 0), ('min_data_in_leaf', 20), ('n_estimators', 141), ('num_leaves', 87), ('reg_alpha', 4.6477525069919926e-06), ('reg_lambda', 0.014510163449633668), ('scale_pos_weight', 7)])\n",
      "\n"
     ]
    },
    {
     "data": {
      "application/javascript": [
       "\n",
       "        if (window._pyforest_update_imports_cell) { window._pyforest_update_imports_cell('import numpy as np'); }\n",
       "    "
      ],
      "text/plain": [
       "<IPython.core.display.Javascript object>"
      ]
     },
     "metadata": {},
     "output_type": "display_data"
    },
    {
     "name": "stdout",
     "output_type": "stream",
     "text": [
      "Model #209\n",
      "Best ROC-AUC: 0.764\n",
      "Best params: OrderedDict([('colsample_bytree', 0.5), ('learning_rate', 0.01), ('max_bin', 1000), ('max_depth', 2), ('min_child_samples', 0), ('min_data_in_leaf', 20), ('n_estimators', 141), ('num_leaves', 87), ('reg_alpha', 4.6477525069919926e-06), ('reg_lambda', 0.014510163449633668), ('scale_pos_weight', 7)])\n",
      "\n"
     ]
    },
    {
     "data": {
      "application/javascript": [
       "\n",
       "        if (window._pyforest_update_imports_cell) { window._pyforest_update_imports_cell('import numpy as np'); }\n",
       "    "
      ],
      "text/plain": [
       "<IPython.core.display.Javascript object>"
      ]
     },
     "metadata": {},
     "output_type": "display_data"
    },
    {
     "name": "stdout",
     "output_type": "stream",
     "text": [
      "Model #210\n",
      "Best ROC-AUC: 0.764\n",
      "Best params: OrderedDict([('colsample_bytree', 0.5), ('learning_rate', 0.01), ('max_bin', 1000), ('max_depth', 2), ('min_child_samples', 0), ('min_data_in_leaf', 20), ('n_estimators', 141), ('num_leaves', 87), ('reg_alpha', 4.6477525069919926e-06), ('reg_lambda', 0.014510163449633668), ('scale_pos_weight', 7)])\n",
      "\n"
     ]
    },
    {
     "data": {
      "application/javascript": [
       "\n",
       "        if (window._pyforest_update_imports_cell) { window._pyforest_update_imports_cell('import numpy as np'); }\n",
       "    "
      ],
      "text/plain": [
       "<IPython.core.display.Javascript object>"
      ]
     },
     "metadata": {},
     "output_type": "display_data"
    },
    {
     "name": "stdout",
     "output_type": "stream",
     "text": [
      "Model #211\n",
      "Best ROC-AUC: 0.764\n",
      "Best params: OrderedDict([('colsample_bytree', 0.5), ('learning_rate', 0.01), ('max_bin', 1000), ('max_depth', 2), ('min_child_samples', 0), ('min_data_in_leaf', 20), ('n_estimators', 141), ('num_leaves', 87), ('reg_alpha', 4.6477525069919926e-06), ('reg_lambda', 0.014510163449633668), ('scale_pos_weight', 7)])\n",
      "\n"
     ]
    },
    {
     "data": {
      "application/javascript": [
       "\n",
       "        if (window._pyforest_update_imports_cell) { window._pyforest_update_imports_cell('import numpy as np'); }\n",
       "    "
      ],
      "text/plain": [
       "<IPython.core.display.Javascript object>"
      ]
     },
     "metadata": {},
     "output_type": "display_data"
    },
    {
     "name": "stdout",
     "output_type": "stream",
     "text": [
      "Model #212\n",
      "Best ROC-AUC: 0.764\n",
      "Best params: OrderedDict([('colsample_bytree', 0.5), ('learning_rate', 0.01), ('max_bin', 1000), ('max_depth', 2), ('min_child_samples', 0), ('min_data_in_leaf', 20), ('n_estimators', 141), ('num_leaves', 87), ('reg_alpha', 4.6477525069919926e-06), ('reg_lambda', 0.014510163449633668), ('scale_pos_weight', 7)])\n",
      "\n"
     ]
    },
    {
     "data": {
      "application/javascript": [
       "\n",
       "        if (window._pyforest_update_imports_cell) { window._pyforest_update_imports_cell('import numpy as np'); }\n",
       "    "
      ],
      "text/plain": [
       "<IPython.core.display.Javascript object>"
      ]
     },
     "metadata": {},
     "output_type": "display_data"
    },
    {
     "name": "stdout",
     "output_type": "stream",
     "text": [
      "Model #213\n",
      "Best ROC-AUC: 0.764\n",
      "Best params: OrderedDict([('colsample_bytree', 0.5), ('learning_rate', 0.01), ('max_bin', 1000), ('max_depth', 2), ('min_child_samples', 0), ('min_data_in_leaf', 20), ('n_estimators', 141), ('num_leaves', 87), ('reg_alpha', 4.6477525069919926e-06), ('reg_lambda', 0.014510163449633668), ('scale_pos_weight', 7)])\n",
      "\n"
     ]
    },
    {
     "data": {
      "application/javascript": [
       "\n",
       "        if (window._pyforest_update_imports_cell) { window._pyforest_update_imports_cell('import numpy as np'); }\n",
       "    "
      ],
      "text/plain": [
       "<IPython.core.display.Javascript object>"
      ]
     },
     "metadata": {},
     "output_type": "display_data"
    },
    {
     "name": "stdout",
     "output_type": "stream",
     "text": [
      "Model #214\n",
      "Best ROC-AUC: 0.764\n",
      "Best params: OrderedDict([('colsample_bytree', 0.5), ('learning_rate', 0.01), ('max_bin', 1000), ('max_depth', 2), ('min_child_samples', 0), ('min_data_in_leaf', 20), ('n_estimators', 141), ('num_leaves', 87), ('reg_alpha', 4.6477525069919926e-06), ('reg_lambda', 0.014510163449633668), ('scale_pos_weight', 7)])\n",
      "\n"
     ]
    },
    {
     "data": {
      "application/javascript": [
       "\n",
       "        if (window._pyforest_update_imports_cell) { window._pyforest_update_imports_cell('import numpy as np'); }\n",
       "    "
      ],
      "text/plain": [
       "<IPython.core.display.Javascript object>"
      ]
     },
     "metadata": {},
     "output_type": "display_data"
    },
    {
     "name": "stdout",
     "output_type": "stream",
     "text": [
      "Model #215\n",
      "Best ROC-AUC: 0.7643\n",
      "Best params: OrderedDict([('colsample_bytree', 0.5), ('learning_rate', 0.01), ('max_bin', 100), ('max_depth', 2), ('min_child_samples', 0), ('min_data_in_leaf', 20), ('n_estimators', 162), ('num_leaves', 225), ('reg_alpha', 1e-09), ('reg_lambda', 1.0), ('scale_pos_weight', 16)])\n",
      "\n"
     ]
    },
    {
     "data": {
      "application/javascript": [
       "\n",
       "        if (window._pyforest_update_imports_cell) { window._pyforest_update_imports_cell('import numpy as np'); }\n",
       "    "
      ],
      "text/plain": [
       "<IPython.core.display.Javascript object>"
      ]
     },
     "metadata": {},
     "output_type": "display_data"
    },
    {
     "name": "stdout",
     "output_type": "stream",
     "text": [
      "Model #216\n",
      "Best ROC-AUC: 0.7643\n",
      "Best params: OrderedDict([('colsample_bytree', 0.5), ('learning_rate', 0.01), ('max_bin', 100), ('max_depth', 2), ('min_child_samples', 0), ('min_data_in_leaf', 20), ('n_estimators', 162), ('num_leaves', 225), ('reg_alpha', 1e-09), ('reg_lambda', 1.0), ('scale_pos_weight', 16)])\n",
      "\n"
     ]
    },
    {
     "data": {
      "application/javascript": [
       "\n",
       "        if (window._pyforest_update_imports_cell) { window._pyforest_update_imports_cell('import numpy as np'); }\n",
       "    "
      ],
      "text/plain": [
       "<IPython.core.display.Javascript object>"
      ]
     },
     "metadata": {},
     "output_type": "display_data"
    },
    {
     "name": "stdout",
     "output_type": "stream",
     "text": [
      "Model #217\n",
      "Best ROC-AUC: 0.7643\n",
      "Best params: OrderedDict([('colsample_bytree', 0.5), ('learning_rate', 0.01), ('max_bin', 100), ('max_depth', 2), ('min_child_samples', 0), ('min_data_in_leaf', 20), ('n_estimators', 162), ('num_leaves', 225), ('reg_alpha', 1e-09), ('reg_lambda', 1.0), ('scale_pos_weight', 16)])\n",
      "\n"
     ]
    },
    {
     "data": {
      "application/javascript": [
       "\n",
       "        if (window._pyforest_update_imports_cell) { window._pyforest_update_imports_cell('import numpy as np'); }\n",
       "    "
      ],
      "text/plain": [
       "<IPython.core.display.Javascript object>"
      ]
     },
     "metadata": {},
     "output_type": "display_data"
    },
    {
     "name": "stdout",
     "output_type": "stream",
     "text": [
      "Model #218\n",
      "Best ROC-AUC: 0.7643\n",
      "Best params: OrderedDict([('colsample_bytree', 0.5), ('learning_rate', 0.01), ('max_bin', 100), ('max_depth', 2), ('min_child_samples', 0), ('min_data_in_leaf', 20), ('n_estimators', 162), ('num_leaves', 225), ('reg_alpha', 1e-09), ('reg_lambda', 1.0), ('scale_pos_weight', 16)])\n",
      "\n"
     ]
    },
    {
     "data": {
      "application/javascript": [
       "\n",
       "        if (window._pyforest_update_imports_cell) { window._pyforest_update_imports_cell('import numpy as np'); }\n",
       "    "
      ],
      "text/plain": [
       "<IPython.core.display.Javascript object>"
      ]
     },
     "metadata": {},
     "output_type": "display_data"
    },
    {
     "name": "stdout",
     "output_type": "stream",
     "text": [
      "Model #219\n",
      "Best ROC-AUC: 0.7643\n",
      "Best params: OrderedDict([('colsample_bytree', 0.5), ('learning_rate', 0.01), ('max_bin', 100), ('max_depth', 2), ('min_child_samples', 0), ('min_data_in_leaf', 20), ('n_estimators', 162), ('num_leaves', 225), ('reg_alpha', 1e-09), ('reg_lambda', 1.0), ('scale_pos_weight', 16)])\n",
      "\n"
     ]
    },
    {
     "data": {
      "application/javascript": [
       "\n",
       "        if (window._pyforest_update_imports_cell) { window._pyforest_update_imports_cell('import numpy as np'); }\n",
       "    "
      ],
      "text/plain": [
       "<IPython.core.display.Javascript object>"
      ]
     },
     "metadata": {},
     "output_type": "display_data"
    },
    {
     "name": "stdout",
     "output_type": "stream",
     "text": [
      "Model #220\n",
      "Best ROC-AUC: 0.7643\n",
      "Best params: OrderedDict([('colsample_bytree', 0.5), ('learning_rate', 0.01), ('max_bin', 100), ('max_depth', 2), ('min_child_samples', 0), ('min_data_in_leaf', 20), ('n_estimators', 162), ('num_leaves', 225), ('reg_alpha', 1e-09), ('reg_lambda', 1.0), ('scale_pos_weight', 16)])\n",
      "\n"
     ]
    },
    {
     "data": {
      "application/javascript": [
       "\n",
       "        if (window._pyforest_update_imports_cell) { window._pyforest_update_imports_cell('import numpy as np'); }\n",
       "    "
      ],
      "text/plain": [
       "<IPython.core.display.Javascript object>"
      ]
     },
     "metadata": {},
     "output_type": "display_data"
    },
    {
     "name": "stdout",
     "output_type": "stream",
     "text": [
      "Model #221\n",
      "Best ROC-AUC: 0.7643\n",
      "Best params: OrderedDict([('colsample_bytree', 0.5), ('learning_rate', 0.01), ('max_bin', 100), ('max_depth', 2), ('min_child_samples', 0), ('min_data_in_leaf', 20), ('n_estimators', 162), ('num_leaves', 225), ('reg_alpha', 1e-09), ('reg_lambda', 1.0), ('scale_pos_weight', 16)])\n",
      "\n"
     ]
    },
    {
     "data": {
      "application/javascript": [
       "\n",
       "        if (window._pyforest_update_imports_cell) { window._pyforest_update_imports_cell('import numpy as np'); }\n",
       "    "
      ],
      "text/plain": [
       "<IPython.core.display.Javascript object>"
      ]
     },
     "metadata": {},
     "output_type": "display_data"
    },
    {
     "name": "stdout",
     "output_type": "stream",
     "text": [
      "Model #222\n",
      "Best ROC-AUC: 0.7643\n",
      "Best params: OrderedDict([('colsample_bytree', 0.5), ('learning_rate', 0.01), ('max_bin', 100), ('max_depth', 2), ('min_child_samples', 0), ('min_data_in_leaf', 20), ('n_estimators', 162), ('num_leaves', 225), ('reg_alpha', 1e-09), ('reg_lambda', 1.0), ('scale_pos_weight', 16)])\n",
      "\n"
     ]
    },
    {
     "data": {
      "application/javascript": [
       "\n",
       "        if (window._pyforest_update_imports_cell) { window._pyforest_update_imports_cell('import numpy as np'); }\n",
       "    "
      ],
      "text/plain": [
       "<IPython.core.display.Javascript object>"
      ]
     },
     "metadata": {},
     "output_type": "display_data"
    },
    {
     "name": "stdout",
     "output_type": "stream",
     "text": [
      "Model #223\n",
      "Best ROC-AUC: 0.7643\n",
      "Best params: OrderedDict([('colsample_bytree', 0.5), ('learning_rate', 0.01), ('max_bin', 100), ('max_depth', 2), ('min_child_samples', 0), ('min_data_in_leaf', 20), ('n_estimators', 162), ('num_leaves', 225), ('reg_alpha', 1e-09), ('reg_lambda', 1.0), ('scale_pos_weight', 16)])\n",
      "\n"
     ]
    },
    {
     "data": {
      "application/javascript": [
       "\n",
       "        if (window._pyforest_update_imports_cell) { window._pyforest_update_imports_cell('import numpy as np'); }\n",
       "    "
      ],
      "text/plain": [
       "<IPython.core.display.Javascript object>"
      ]
     },
     "metadata": {},
     "output_type": "display_data"
    },
    {
     "name": "stdout",
     "output_type": "stream",
     "text": [
      "Model #224\n",
      "Best ROC-AUC: 0.7643\n",
      "Best params: OrderedDict([('colsample_bytree', 0.5), ('learning_rate', 0.01), ('max_bin', 100), ('max_depth', 2), ('min_child_samples', 0), ('min_data_in_leaf', 20), ('n_estimators', 162), ('num_leaves', 225), ('reg_alpha', 1e-09), ('reg_lambda', 1.0), ('scale_pos_weight', 16)])\n",
      "\n"
     ]
    },
    {
     "data": {
      "application/javascript": [
       "\n",
       "        if (window._pyforest_update_imports_cell) { window._pyforest_update_imports_cell('import numpy as np'); }\n",
       "    "
      ],
      "text/plain": [
       "<IPython.core.display.Javascript object>"
      ]
     },
     "metadata": {},
     "output_type": "display_data"
    },
    {
     "name": "stdout",
     "output_type": "stream",
     "text": [
      "Model #225\n",
      "Best ROC-AUC: 0.7643\n",
      "Best params: OrderedDict([('colsample_bytree', 0.5), ('learning_rate', 0.01), ('max_bin', 100), ('max_depth', 2), ('min_child_samples', 0), ('min_data_in_leaf', 20), ('n_estimators', 162), ('num_leaves', 225), ('reg_alpha', 1e-09), ('reg_lambda', 1.0), ('scale_pos_weight', 16)])\n",
      "\n"
     ]
    },
    {
     "data": {
      "application/javascript": [
       "\n",
       "        if (window._pyforest_update_imports_cell) { window._pyforest_update_imports_cell('import numpy as np'); }\n",
       "    "
      ],
      "text/plain": [
       "<IPython.core.display.Javascript object>"
      ]
     },
     "metadata": {},
     "output_type": "display_data"
    },
    {
     "name": "stdout",
     "output_type": "stream",
     "text": [
      "Model #226\n",
      "Best ROC-AUC: 0.7643\n",
      "Best params: OrderedDict([('colsample_bytree', 0.5), ('learning_rate', 0.01), ('max_bin', 100), ('max_depth', 2), ('min_child_samples', 0), ('min_data_in_leaf', 20), ('n_estimators', 162), ('num_leaves', 225), ('reg_alpha', 1e-09), ('reg_lambda', 1.0), ('scale_pos_weight', 16)])\n",
      "\n"
     ]
    },
    {
     "data": {
      "application/javascript": [
       "\n",
       "        if (window._pyforest_update_imports_cell) { window._pyforest_update_imports_cell('import numpy as np'); }\n",
       "    "
      ],
      "text/plain": [
       "<IPython.core.display.Javascript object>"
      ]
     },
     "metadata": {},
     "output_type": "display_data"
    },
    {
     "name": "stdout",
     "output_type": "stream",
     "text": [
      "Model #227\n",
      "Best ROC-AUC: 0.7643\n",
      "Best params: OrderedDict([('colsample_bytree', 0.5), ('learning_rate', 0.01), ('max_bin', 100), ('max_depth', 2), ('min_child_samples', 0), ('min_data_in_leaf', 20), ('n_estimators', 162), ('num_leaves', 225), ('reg_alpha', 1e-09), ('reg_lambda', 1.0), ('scale_pos_weight', 16)])\n",
      "\n"
     ]
    },
    {
     "data": {
      "application/javascript": [
       "\n",
       "        if (window._pyforest_update_imports_cell) { window._pyforest_update_imports_cell('import numpy as np'); }\n",
       "    "
      ],
      "text/plain": [
       "<IPython.core.display.Javascript object>"
      ]
     },
     "metadata": {},
     "output_type": "display_data"
    },
    {
     "name": "stdout",
     "output_type": "stream",
     "text": [
      "Model #228\n",
      "Best ROC-AUC: 0.7643\n",
      "Best params: OrderedDict([('colsample_bytree', 0.5), ('learning_rate', 0.01), ('max_bin', 100), ('max_depth', 2), ('min_child_samples', 0), ('min_data_in_leaf', 20), ('n_estimators', 162), ('num_leaves', 225), ('reg_alpha', 1e-09), ('reg_lambda', 1.0), ('scale_pos_weight', 16)])\n",
      "\n"
     ]
    },
    {
     "data": {
      "application/javascript": [
       "\n",
       "        if (window._pyforest_update_imports_cell) { window._pyforest_update_imports_cell('import numpy as np'); }\n",
       "    "
      ],
      "text/plain": [
       "<IPython.core.display.Javascript object>"
      ]
     },
     "metadata": {},
     "output_type": "display_data"
    },
    {
     "name": "stdout",
     "output_type": "stream",
     "text": [
      "Model #229\n",
      "Best ROC-AUC: 0.7643\n",
      "Best params: OrderedDict([('colsample_bytree', 0.5), ('learning_rate', 0.01), ('max_bin', 100), ('max_depth', 2), ('min_child_samples', 0), ('min_data_in_leaf', 20), ('n_estimators', 162), ('num_leaves', 225), ('reg_alpha', 1e-09), ('reg_lambda', 1.0), ('scale_pos_weight', 16)])\n",
      "\n"
     ]
    },
    {
     "data": {
      "application/javascript": [
       "\n",
       "        if (window._pyforest_update_imports_cell) { window._pyforest_update_imports_cell('import numpy as np'); }\n",
       "    "
      ],
      "text/plain": [
       "<IPython.core.display.Javascript object>"
      ]
     },
     "metadata": {},
     "output_type": "display_data"
    },
    {
     "name": "stdout",
     "output_type": "stream",
     "text": [
      "Model #230\n",
      "Best ROC-AUC: 0.7643\n",
      "Best params: OrderedDict([('colsample_bytree', 0.5), ('learning_rate', 0.01), ('max_bin', 100), ('max_depth', 2), ('min_child_samples', 0), ('min_data_in_leaf', 20), ('n_estimators', 162), ('num_leaves', 225), ('reg_alpha', 1e-09), ('reg_lambda', 1.0), ('scale_pos_weight', 16)])\n",
      "\n"
     ]
    },
    {
     "data": {
      "application/javascript": [
       "\n",
       "        if (window._pyforest_update_imports_cell) { window._pyforest_update_imports_cell('import numpy as np'); }\n",
       "    "
      ],
      "text/plain": [
       "<IPython.core.display.Javascript object>"
      ]
     },
     "metadata": {},
     "output_type": "display_data"
    },
    {
     "name": "stdout",
     "output_type": "stream",
     "text": [
      "Model #231\n",
      "Best ROC-AUC: 0.7643\n",
      "Best params: OrderedDict([('colsample_bytree', 0.5), ('learning_rate', 0.01), ('max_bin', 100), ('max_depth', 2), ('min_child_samples', 0), ('min_data_in_leaf', 20), ('n_estimators', 162), ('num_leaves', 225), ('reg_alpha', 1e-09), ('reg_lambda', 1.0), ('scale_pos_weight', 16)])\n",
      "\n"
     ]
    },
    {
     "data": {
      "application/javascript": [
       "\n",
       "        if (window._pyforest_update_imports_cell) { window._pyforest_update_imports_cell('import numpy as np'); }\n",
       "    "
      ],
      "text/plain": [
       "<IPython.core.display.Javascript object>"
      ]
     },
     "metadata": {},
     "output_type": "display_data"
    },
    {
     "name": "stdout",
     "output_type": "stream",
     "text": [
      "Model #232\n",
      "Best ROC-AUC: 0.7643\n",
      "Best params: OrderedDict([('colsample_bytree', 0.5), ('learning_rate', 0.01), ('max_bin', 100), ('max_depth', 2), ('min_child_samples', 0), ('min_data_in_leaf', 20), ('n_estimators', 162), ('num_leaves', 225), ('reg_alpha', 1e-09), ('reg_lambda', 1.0), ('scale_pos_weight', 16)])\n",
      "\n"
     ]
    },
    {
     "data": {
      "application/javascript": [
       "\n",
       "        if (window._pyforest_update_imports_cell) { window._pyforest_update_imports_cell('import numpy as np'); }\n",
       "    "
      ],
      "text/plain": [
       "<IPython.core.display.Javascript object>"
      ]
     },
     "metadata": {},
     "output_type": "display_data"
    },
    {
     "name": "stdout",
     "output_type": "stream",
     "text": [
      "Model #233\n",
      "Best ROC-AUC: 0.7643\n",
      "Best params: OrderedDict([('colsample_bytree', 0.5), ('learning_rate', 0.01), ('max_bin', 100), ('max_depth', 2), ('min_child_samples', 0), ('min_data_in_leaf', 20), ('n_estimators', 162), ('num_leaves', 225), ('reg_alpha', 1e-09), ('reg_lambda', 1.0), ('scale_pos_weight', 16)])\n",
      "\n"
     ]
    },
    {
     "data": {
      "application/javascript": [
       "\n",
       "        if (window._pyforest_update_imports_cell) { window._pyforest_update_imports_cell('import numpy as np'); }\n",
       "    "
      ],
      "text/plain": [
       "<IPython.core.display.Javascript object>"
      ]
     },
     "metadata": {},
     "output_type": "display_data"
    },
    {
     "name": "stdout",
     "output_type": "stream",
     "text": [
      "Model #234\n",
      "Best ROC-AUC: 0.7643\n",
      "Best params: OrderedDict([('colsample_bytree', 0.5), ('learning_rate', 0.01), ('max_bin', 100), ('max_depth', 2), ('min_child_samples', 0), ('min_data_in_leaf', 20), ('n_estimators', 162), ('num_leaves', 225), ('reg_alpha', 1e-09), ('reg_lambda', 1.0), ('scale_pos_weight', 16)])\n",
      "\n"
     ]
    },
    {
     "data": {
      "application/javascript": [
       "\n",
       "        if (window._pyforest_update_imports_cell) { window._pyforest_update_imports_cell('import numpy as np'); }\n",
       "    "
      ],
      "text/plain": [
       "<IPython.core.display.Javascript object>"
      ]
     },
     "metadata": {},
     "output_type": "display_data"
    },
    {
     "name": "stdout",
     "output_type": "stream",
     "text": [
      "Model #235\n",
      "Best ROC-AUC: 0.7643\n",
      "Best params: OrderedDict([('colsample_bytree', 0.5), ('learning_rate', 0.01), ('max_bin', 100), ('max_depth', 2), ('min_child_samples', 0), ('min_data_in_leaf', 20), ('n_estimators', 162), ('num_leaves', 225), ('reg_alpha', 1e-09), ('reg_lambda', 1.0), ('scale_pos_weight', 16)])\n",
      "\n"
     ]
    },
    {
     "data": {
      "application/javascript": [
       "\n",
       "        if (window._pyforest_update_imports_cell) { window._pyforest_update_imports_cell('import numpy as np'); }\n",
       "    "
      ],
      "text/plain": [
       "<IPython.core.display.Javascript object>"
      ]
     },
     "metadata": {},
     "output_type": "display_data"
    },
    {
     "name": "stdout",
     "output_type": "stream",
     "text": [
      "Model #236\n",
      "Best ROC-AUC: 0.7643\n",
      "Best params: OrderedDict([('colsample_bytree', 0.5), ('learning_rate', 0.01), ('max_bin', 100), ('max_depth', 2), ('min_child_samples', 0), ('min_data_in_leaf', 20), ('n_estimators', 162), ('num_leaves', 225), ('reg_alpha', 1e-09), ('reg_lambda', 1.0), ('scale_pos_weight', 16)])\n",
      "\n"
     ]
    },
    {
     "data": {
      "application/javascript": [
       "\n",
       "        if (window._pyforest_update_imports_cell) { window._pyforest_update_imports_cell('import numpy as np'); }\n",
       "    "
      ],
      "text/plain": [
       "<IPython.core.display.Javascript object>"
      ]
     },
     "metadata": {},
     "output_type": "display_data"
    },
    {
     "name": "stdout",
     "output_type": "stream",
     "text": [
      "Model #237\n",
      "Best ROC-AUC: 0.7643\n",
      "Best params: OrderedDict([('colsample_bytree', 0.5), ('learning_rate', 0.01), ('max_bin', 100), ('max_depth', 2), ('min_child_samples', 0), ('min_data_in_leaf', 20), ('n_estimators', 162), ('num_leaves', 225), ('reg_alpha', 1e-09), ('reg_lambda', 1.0), ('scale_pos_weight', 16)])\n",
      "\n"
     ]
    },
    {
     "data": {
      "application/javascript": [
       "\n",
       "        if (window._pyforest_update_imports_cell) { window._pyforest_update_imports_cell('import numpy as np'); }\n",
       "    "
      ],
      "text/plain": [
       "<IPython.core.display.Javascript object>"
      ]
     },
     "metadata": {},
     "output_type": "display_data"
    },
    {
     "name": "stdout",
     "output_type": "stream",
     "text": [
      "Model #238\n",
      "Best ROC-AUC: 0.7643\n",
      "Best params: OrderedDict([('colsample_bytree', 0.5), ('learning_rate', 0.01), ('max_bin', 100), ('max_depth', 2), ('min_child_samples', 0), ('min_data_in_leaf', 20), ('n_estimators', 162), ('num_leaves', 225), ('reg_alpha', 1e-09), ('reg_lambda', 1.0), ('scale_pos_weight', 16)])\n",
      "\n"
     ]
    },
    {
     "data": {
      "application/javascript": [
       "\n",
       "        if (window._pyforest_update_imports_cell) { window._pyforest_update_imports_cell('import numpy as np'); }\n",
       "    "
      ],
      "text/plain": [
       "<IPython.core.display.Javascript object>"
      ]
     },
     "metadata": {},
     "output_type": "display_data"
    },
    {
     "name": "stdout",
     "output_type": "stream",
     "text": [
      "Model #239\n",
      "Best ROC-AUC: 0.7643\n",
      "Best params: OrderedDict([('colsample_bytree', 0.5), ('learning_rate', 0.01), ('max_bin', 100), ('max_depth', 2), ('min_child_samples', 0), ('min_data_in_leaf', 20), ('n_estimators', 162), ('num_leaves', 225), ('reg_alpha', 1e-09), ('reg_lambda', 1.0), ('scale_pos_weight', 16)])\n",
      "\n"
     ]
    },
    {
     "data": {
      "application/javascript": [
       "\n",
       "        if (window._pyforest_update_imports_cell) { window._pyforest_update_imports_cell('import numpy as np'); }\n",
       "    "
      ],
      "text/plain": [
       "<IPython.core.display.Javascript object>"
      ]
     },
     "metadata": {},
     "output_type": "display_data"
    },
    {
     "name": "stdout",
     "output_type": "stream",
     "text": [
      "Model #240\n",
      "Best ROC-AUC: 0.7643\n",
      "Best params: OrderedDict([('colsample_bytree', 0.5), ('learning_rate', 0.01), ('max_bin', 100), ('max_depth', 2), ('min_child_samples', 0), ('min_data_in_leaf', 20), ('n_estimators', 162), ('num_leaves', 225), ('reg_alpha', 1e-09), ('reg_lambda', 1.0), ('scale_pos_weight', 16)])\n",
      "\n"
     ]
    },
    {
     "data": {
      "application/javascript": [
       "\n",
       "        if (window._pyforest_update_imports_cell) { window._pyforest_update_imports_cell('import numpy as np'); }\n",
       "    "
      ],
      "text/plain": [
       "<IPython.core.display.Javascript object>"
      ]
     },
     "metadata": {},
     "output_type": "display_data"
    },
    {
     "name": "stdout",
     "output_type": "stream",
     "text": [
      "Model #241\n",
      "Best ROC-AUC: 0.7643\n",
      "Best params: OrderedDict([('colsample_bytree', 0.5), ('learning_rate', 0.01), ('max_bin', 100), ('max_depth', 2), ('min_child_samples', 0), ('min_data_in_leaf', 20), ('n_estimators', 162), ('num_leaves', 225), ('reg_alpha', 1e-09), ('reg_lambda', 1.0), ('scale_pos_weight', 16)])\n",
      "\n"
     ]
    },
    {
     "data": {
      "application/javascript": [
       "\n",
       "        if (window._pyforest_update_imports_cell) { window._pyforest_update_imports_cell('import numpy as np'); }\n",
       "    "
      ],
      "text/plain": [
       "<IPython.core.display.Javascript object>"
      ]
     },
     "metadata": {},
     "output_type": "display_data"
    },
    {
     "name": "stdout",
     "output_type": "stream",
     "text": [
      "Model #242\n",
      "Best ROC-AUC: 0.7643\n",
      "Best params: OrderedDict([('colsample_bytree', 0.5), ('learning_rate', 0.01), ('max_bin', 100), ('max_depth', 2), ('min_child_samples', 0), ('min_data_in_leaf', 20), ('n_estimators', 162), ('num_leaves', 225), ('reg_alpha', 1e-09), ('reg_lambda', 1.0), ('scale_pos_weight', 16)])\n",
      "\n"
     ]
    },
    {
     "data": {
      "application/javascript": [
       "\n",
       "        if (window._pyforest_update_imports_cell) { window._pyforest_update_imports_cell('import numpy as np'); }\n",
       "    "
      ],
      "text/plain": [
       "<IPython.core.display.Javascript object>"
      ]
     },
     "metadata": {},
     "output_type": "display_data"
    },
    {
     "name": "stdout",
     "output_type": "stream",
     "text": [
      "Model #243\n",
      "Best ROC-AUC: 0.7643\n",
      "Best params: OrderedDict([('colsample_bytree', 0.5), ('learning_rate', 0.01), ('max_bin', 100), ('max_depth', 2), ('min_child_samples', 0), ('min_data_in_leaf', 20), ('n_estimators', 162), ('num_leaves', 225), ('reg_alpha', 1e-09), ('reg_lambda', 1.0), ('scale_pos_weight', 16)])\n",
      "\n"
     ]
    },
    {
     "data": {
      "application/javascript": [
       "\n",
       "        if (window._pyforest_update_imports_cell) { window._pyforest_update_imports_cell('import numpy as np'); }\n",
       "    "
      ],
      "text/plain": [
       "<IPython.core.display.Javascript object>"
      ]
     },
     "metadata": {},
     "output_type": "display_data"
    },
    {
     "name": "stdout",
     "output_type": "stream",
     "text": [
      "Model #244\n",
      "Best ROC-AUC: 0.7643\n",
      "Best params: OrderedDict([('colsample_bytree', 0.5), ('learning_rate', 0.01), ('max_bin', 100), ('max_depth', 2), ('min_child_samples', 0), ('min_data_in_leaf', 20), ('n_estimators', 162), ('num_leaves', 225), ('reg_alpha', 1e-09), ('reg_lambda', 1.0), ('scale_pos_weight', 16)])\n",
      "\n"
     ]
    },
    {
     "data": {
      "application/javascript": [
       "\n",
       "        if (window._pyforest_update_imports_cell) { window._pyforest_update_imports_cell('import numpy as np'); }\n",
       "    "
      ],
      "text/plain": [
       "<IPython.core.display.Javascript object>"
      ]
     },
     "metadata": {},
     "output_type": "display_data"
    },
    {
     "name": "stdout",
     "output_type": "stream",
     "text": [
      "Model #245\n",
      "Best ROC-AUC: 0.7643\n",
      "Best params: OrderedDict([('colsample_bytree', 0.5), ('learning_rate', 0.01), ('max_bin', 100), ('max_depth', 2), ('min_child_samples', 0), ('min_data_in_leaf', 20), ('n_estimators', 162), ('num_leaves', 225), ('reg_alpha', 1e-09), ('reg_lambda', 1.0), ('scale_pos_weight', 16)])\n",
      "\n"
     ]
    },
    {
     "data": {
      "application/javascript": [
       "\n",
       "        if (window._pyforest_update_imports_cell) { window._pyforest_update_imports_cell('import numpy as np'); }\n",
       "    "
      ],
      "text/plain": [
       "<IPython.core.display.Javascript object>"
      ]
     },
     "metadata": {},
     "output_type": "display_data"
    },
    {
     "name": "stdout",
     "output_type": "stream",
     "text": [
      "Model #246\n",
      "Best ROC-AUC: 0.7643\n",
      "Best params: OrderedDict([('colsample_bytree', 0.5), ('learning_rate', 0.01), ('max_bin', 100), ('max_depth', 2), ('min_child_samples', 0), ('min_data_in_leaf', 20), ('n_estimators', 162), ('num_leaves', 225), ('reg_alpha', 1e-09), ('reg_lambda', 1.0), ('scale_pos_weight', 16)])\n",
      "\n"
     ]
    },
    {
     "data": {
      "application/javascript": [
       "\n",
       "        if (window._pyforest_update_imports_cell) { window._pyforest_update_imports_cell('import numpy as np'); }\n",
       "    "
      ],
      "text/plain": [
       "<IPython.core.display.Javascript object>"
      ]
     },
     "metadata": {},
     "output_type": "display_data"
    },
    {
     "name": "stdout",
     "output_type": "stream",
     "text": [
      "Model #247\n",
      "Best ROC-AUC: 0.7643\n",
      "Best params: OrderedDict([('colsample_bytree', 0.5), ('learning_rate', 0.01), ('max_bin', 100), ('max_depth', 2), ('min_child_samples', 0), ('min_data_in_leaf', 20), ('n_estimators', 162), ('num_leaves', 225), ('reg_alpha', 1e-09), ('reg_lambda', 1.0), ('scale_pos_weight', 16)])\n",
      "\n"
     ]
    },
    {
     "data": {
      "application/javascript": [
       "\n",
       "        if (window._pyforest_update_imports_cell) { window._pyforest_update_imports_cell('import numpy as np'); }\n",
       "    "
      ],
      "text/plain": [
       "<IPython.core.display.Javascript object>"
      ]
     },
     "metadata": {},
     "output_type": "display_data"
    },
    {
     "name": "stdout",
     "output_type": "stream",
     "text": [
      "Model #248\n",
      "Best ROC-AUC: 0.7643\n",
      "Best params: OrderedDict([('colsample_bytree', 0.5), ('learning_rate', 0.01), ('max_bin', 100), ('max_depth', 2), ('min_child_samples', 0), ('min_data_in_leaf', 20), ('n_estimators', 162), ('num_leaves', 225), ('reg_alpha', 1e-09), ('reg_lambda', 1.0), ('scale_pos_weight', 16)])\n",
      "\n"
     ]
    },
    {
     "data": {
      "application/javascript": [
       "\n",
       "        if (window._pyforest_update_imports_cell) { window._pyforest_update_imports_cell('import numpy as np'); }\n",
       "    "
      ],
      "text/plain": [
       "<IPython.core.display.Javascript object>"
      ]
     },
     "metadata": {},
     "output_type": "display_data"
    },
    {
     "name": "stdout",
     "output_type": "stream",
     "text": [
      "Model #249\n",
      "Best ROC-AUC: 0.7643\n",
      "Best params: OrderedDict([('colsample_bytree', 0.5), ('learning_rate', 0.01), ('max_bin', 100), ('max_depth', 2), ('min_child_samples', 0), ('min_data_in_leaf', 20), ('n_estimators', 162), ('num_leaves', 225), ('reg_alpha', 1e-09), ('reg_lambda', 1.0), ('scale_pos_weight', 16)])\n",
      "\n"
     ]
    },
    {
     "data": {
      "application/javascript": [
       "\n",
       "        if (window._pyforest_update_imports_cell) { window._pyforest_update_imports_cell('import numpy as np'); }\n",
       "    "
      ],
      "text/plain": [
       "<IPython.core.display.Javascript object>"
      ]
     },
     "metadata": {},
     "output_type": "display_data"
    },
    {
     "name": "stdout",
     "output_type": "stream",
     "text": [
      "Model #250\n",
      "Best ROC-AUC: 0.7643\n",
      "Best params: OrderedDict([('colsample_bytree', 0.5), ('learning_rate', 0.01), ('max_bin', 100), ('max_depth', 2), ('min_child_samples', 0), ('min_data_in_leaf', 20), ('n_estimators', 162), ('num_leaves', 225), ('reg_alpha', 1e-09), ('reg_lambda', 1.0), ('scale_pos_weight', 16)])\n",
      "\n"
     ]
    },
    {
     "data": {
      "application/javascript": [
       "\n",
       "        if (window._pyforest_update_imports_cell) { window._pyforest_update_imports_cell('import numpy as np'); }\n",
       "    "
      ],
      "text/plain": [
       "<IPython.core.display.Javascript object>"
      ]
     },
     "metadata": {},
     "output_type": "display_data"
    },
    {
     "name": "stdout",
     "output_type": "stream",
     "text": [
      "Model #251\n",
      "Best ROC-AUC: 0.7643\n",
      "Best params: OrderedDict([('colsample_bytree', 0.5), ('learning_rate', 0.01), ('max_bin', 100), ('max_depth', 2), ('min_child_samples', 0), ('min_data_in_leaf', 20), ('n_estimators', 162), ('num_leaves', 225), ('reg_alpha', 1e-09), ('reg_lambda', 1.0), ('scale_pos_weight', 16)])\n",
      "\n"
     ]
    },
    {
     "data": {
      "application/javascript": [
       "\n",
       "        if (window._pyforest_update_imports_cell) { window._pyforest_update_imports_cell('import numpy as np'); }\n",
       "    "
      ],
      "text/plain": [
       "<IPython.core.display.Javascript object>"
      ]
     },
     "metadata": {},
     "output_type": "display_data"
    },
    {
     "name": "stdout",
     "output_type": "stream",
     "text": [
      "Model #252\n",
      "Best ROC-AUC: 0.7643\n",
      "Best params: OrderedDict([('colsample_bytree', 0.5), ('learning_rate', 0.01), ('max_bin', 100), ('max_depth', 2), ('min_child_samples', 0), ('min_data_in_leaf', 20), ('n_estimators', 162), ('num_leaves', 225), ('reg_alpha', 1e-09), ('reg_lambda', 1.0), ('scale_pos_weight', 16)])\n",
      "\n"
     ]
    },
    {
     "data": {
      "application/javascript": [
       "\n",
       "        if (window._pyforest_update_imports_cell) { window._pyforest_update_imports_cell('import numpy as np'); }\n",
       "    "
      ],
      "text/plain": [
       "<IPython.core.display.Javascript object>"
      ]
     },
     "metadata": {},
     "output_type": "display_data"
    },
    {
     "name": "stdout",
     "output_type": "stream",
     "text": [
      "Model #253\n",
      "Best ROC-AUC: 0.7643\n",
      "Best params: OrderedDict([('colsample_bytree', 0.5), ('learning_rate', 0.01), ('max_bin', 100), ('max_depth', 2), ('min_child_samples', 0), ('min_data_in_leaf', 20), ('n_estimators', 162), ('num_leaves', 225), ('reg_alpha', 1e-09), ('reg_lambda', 1.0), ('scale_pos_weight', 16)])\n",
      "\n"
     ]
    },
    {
     "data": {
      "application/javascript": [
       "\n",
       "        if (window._pyforest_update_imports_cell) { window._pyforest_update_imports_cell('import numpy as np'); }\n",
       "    "
      ],
      "text/plain": [
       "<IPython.core.display.Javascript object>"
      ]
     },
     "metadata": {},
     "output_type": "display_data"
    },
    {
     "name": "stdout",
     "output_type": "stream",
     "text": [
      "Model #254\n",
      "Best ROC-AUC: 0.7643\n",
      "Best params: OrderedDict([('colsample_bytree', 0.5), ('learning_rate', 0.01), ('max_bin', 100), ('max_depth', 2), ('min_child_samples', 0), ('min_data_in_leaf', 20), ('n_estimators', 162), ('num_leaves', 225), ('reg_alpha', 1e-09), ('reg_lambda', 1.0), ('scale_pos_weight', 16)])\n",
      "\n"
     ]
    },
    {
     "data": {
      "application/javascript": [
       "\n",
       "        if (window._pyforest_update_imports_cell) { window._pyforest_update_imports_cell('import numpy as np'); }\n",
       "    "
      ],
      "text/plain": [
       "<IPython.core.display.Javascript object>"
      ]
     },
     "metadata": {},
     "output_type": "display_data"
    },
    {
     "name": "stdout",
     "output_type": "stream",
     "text": [
      "Model #255\n",
      "Best ROC-AUC: 0.7643\n",
      "Best params: OrderedDict([('colsample_bytree', 0.5), ('learning_rate', 0.01), ('max_bin', 100), ('max_depth', 2), ('min_child_samples', 0), ('min_data_in_leaf', 20), ('n_estimators', 162), ('num_leaves', 225), ('reg_alpha', 1e-09), ('reg_lambda', 1.0), ('scale_pos_weight', 16)])\n",
      "\n"
     ]
    },
    {
     "data": {
      "application/javascript": [
       "\n",
       "        if (window._pyforest_update_imports_cell) { window._pyforest_update_imports_cell('import numpy as np'); }\n",
       "    "
      ],
      "text/plain": [
       "<IPython.core.display.Javascript object>"
      ]
     },
     "metadata": {},
     "output_type": "display_data"
    },
    {
     "name": "stdout",
     "output_type": "stream",
     "text": [
      "Model #256\n",
      "Best ROC-AUC: 0.7643\n",
      "Best params: OrderedDict([('colsample_bytree', 0.5), ('learning_rate', 0.01), ('max_bin', 100), ('max_depth', 2), ('min_child_samples', 0), ('min_data_in_leaf', 20), ('n_estimators', 162), ('num_leaves', 225), ('reg_alpha', 1e-09), ('reg_lambda', 1.0), ('scale_pos_weight', 16)])\n",
      "\n"
     ]
    },
    {
     "data": {
      "application/javascript": [
       "\n",
       "        if (window._pyforest_update_imports_cell) { window._pyforest_update_imports_cell('import numpy as np'); }\n",
       "    "
      ],
      "text/plain": [
       "<IPython.core.display.Javascript object>"
      ]
     },
     "metadata": {},
     "output_type": "display_data"
    },
    {
     "name": "stdout",
     "output_type": "stream",
     "text": [
      "Model #257\n",
      "Best ROC-AUC: 0.7643\n",
      "Best params: OrderedDict([('colsample_bytree', 0.5), ('learning_rate', 0.01), ('max_bin', 100), ('max_depth', 2), ('min_child_samples', 0), ('min_data_in_leaf', 20), ('n_estimators', 162), ('num_leaves', 225), ('reg_alpha', 1e-09), ('reg_lambda', 1.0), ('scale_pos_weight', 16)])\n",
      "\n"
     ]
    },
    {
     "data": {
      "application/javascript": [
       "\n",
       "        if (window._pyforest_update_imports_cell) { window._pyforest_update_imports_cell('import numpy as np'); }\n",
       "    "
      ],
      "text/plain": [
       "<IPython.core.display.Javascript object>"
      ]
     },
     "metadata": {},
     "output_type": "display_data"
    },
    {
     "name": "stdout",
     "output_type": "stream",
     "text": [
      "Model #258\n",
      "Best ROC-AUC: 0.7643\n",
      "Best params: OrderedDict([('colsample_bytree', 0.5), ('learning_rate', 0.01), ('max_bin', 100), ('max_depth', 2), ('min_child_samples', 0), ('min_data_in_leaf', 20), ('n_estimators', 162), ('num_leaves', 225), ('reg_alpha', 1e-09), ('reg_lambda', 1.0), ('scale_pos_weight', 16)])\n",
      "\n"
     ]
    },
    {
     "data": {
      "application/javascript": [
       "\n",
       "        if (window._pyforest_update_imports_cell) { window._pyforest_update_imports_cell('import numpy as np'); }\n",
       "    "
      ],
      "text/plain": [
       "<IPython.core.display.Javascript object>"
      ]
     },
     "metadata": {},
     "output_type": "display_data"
    },
    {
     "name": "stdout",
     "output_type": "stream",
     "text": [
      "Model #259\n",
      "Best ROC-AUC: 0.7643\n",
      "Best params: OrderedDict([('colsample_bytree', 0.5), ('learning_rate', 0.01), ('max_bin', 100), ('max_depth', 2), ('min_child_samples', 0), ('min_data_in_leaf', 20), ('n_estimators', 162), ('num_leaves', 225), ('reg_alpha', 1e-09), ('reg_lambda', 1.0), ('scale_pos_weight', 16)])\n",
      "\n"
     ]
    },
    {
     "data": {
      "application/javascript": [
       "\n",
       "        if (window._pyforest_update_imports_cell) { window._pyforest_update_imports_cell('import numpy as np'); }\n",
       "    "
      ],
      "text/plain": [
       "<IPython.core.display.Javascript object>"
      ]
     },
     "metadata": {},
     "output_type": "display_data"
    },
    {
     "name": "stdout",
     "output_type": "stream",
     "text": [
      "Model #260\n",
      "Best ROC-AUC: 0.7643\n",
      "Best params: OrderedDict([('colsample_bytree', 0.5), ('learning_rate', 0.01), ('max_bin', 100), ('max_depth', 2), ('min_child_samples', 0), ('min_data_in_leaf', 20), ('n_estimators', 162), ('num_leaves', 225), ('reg_alpha', 1e-09), ('reg_lambda', 1.0), ('scale_pos_weight', 16)])\n",
      "\n"
     ]
    },
    {
     "data": {
      "application/javascript": [
       "\n",
       "        if (window._pyforest_update_imports_cell) { window._pyforest_update_imports_cell('import numpy as np'); }\n",
       "    "
      ],
      "text/plain": [
       "<IPython.core.display.Javascript object>"
      ]
     },
     "metadata": {},
     "output_type": "display_data"
    },
    {
     "name": "stdout",
     "output_type": "stream",
     "text": [
      "Model #261\n",
      "Best ROC-AUC: 0.7643\n",
      "Best params: OrderedDict([('colsample_bytree', 0.5), ('learning_rate', 0.01), ('max_bin', 100), ('max_depth', 2), ('min_child_samples', 0), ('min_data_in_leaf', 20), ('n_estimators', 162), ('num_leaves', 225), ('reg_alpha', 1e-09), ('reg_lambda', 1.0), ('scale_pos_weight', 16)])\n",
      "\n"
     ]
    },
    {
     "data": {
      "application/javascript": [
       "\n",
       "        if (window._pyforest_update_imports_cell) { window._pyforest_update_imports_cell('import numpy as np'); }\n",
       "    "
      ],
      "text/plain": [
       "<IPython.core.display.Javascript object>"
      ]
     },
     "metadata": {},
     "output_type": "display_data"
    },
    {
     "name": "stdout",
     "output_type": "stream",
     "text": [
      "Model #262\n",
      "Best ROC-AUC: 0.7643\n",
      "Best params: OrderedDict([('colsample_bytree', 0.5), ('learning_rate', 0.01), ('max_bin', 100), ('max_depth', 2), ('min_child_samples', 0), ('min_data_in_leaf', 20), ('n_estimators', 162), ('num_leaves', 225), ('reg_alpha', 1e-09), ('reg_lambda', 1.0), ('scale_pos_weight', 16)])\n",
      "\n"
     ]
    },
    {
     "data": {
      "application/javascript": [
       "\n",
       "        if (window._pyforest_update_imports_cell) { window._pyforest_update_imports_cell('import numpy as np'); }\n",
       "    "
      ],
      "text/plain": [
       "<IPython.core.display.Javascript object>"
      ]
     },
     "metadata": {},
     "output_type": "display_data"
    },
    {
     "name": "stdout",
     "output_type": "stream",
     "text": [
      "Model #263\n",
      "Best ROC-AUC: 0.7643\n",
      "Best params: OrderedDict([('colsample_bytree', 0.5), ('learning_rate', 0.01), ('max_bin', 100), ('max_depth', 2), ('min_child_samples', 0), ('min_data_in_leaf', 20), ('n_estimators', 162), ('num_leaves', 225), ('reg_alpha', 1e-09), ('reg_lambda', 1.0), ('scale_pos_weight', 16)])\n",
      "\n"
     ]
    },
    {
     "data": {
      "application/javascript": [
       "\n",
       "        if (window._pyforest_update_imports_cell) { window._pyforest_update_imports_cell('import numpy as np'); }\n",
       "    "
      ],
      "text/plain": [
       "<IPython.core.display.Javascript object>"
      ]
     },
     "metadata": {},
     "output_type": "display_data"
    },
    {
     "name": "stdout",
     "output_type": "stream",
     "text": [
      "Model #264\n",
      "Best ROC-AUC: 0.7643\n",
      "Best params: OrderedDict([('colsample_bytree', 0.5), ('learning_rate', 0.01), ('max_bin', 100), ('max_depth', 2), ('min_child_samples', 0), ('min_data_in_leaf', 20), ('n_estimators', 162), ('num_leaves', 225), ('reg_alpha', 1e-09), ('reg_lambda', 1.0), ('scale_pos_weight', 16)])\n",
      "\n"
     ]
    },
    {
     "data": {
      "application/javascript": [
       "\n",
       "        if (window._pyforest_update_imports_cell) { window._pyforest_update_imports_cell('import numpy as np'); }\n",
       "    "
      ],
      "text/plain": [
       "<IPython.core.display.Javascript object>"
      ]
     },
     "metadata": {},
     "output_type": "display_data"
    },
    {
     "name": "stdout",
     "output_type": "stream",
     "text": [
      "Model #265\n",
      "Best ROC-AUC: 0.7643\n",
      "Best params: OrderedDict([('colsample_bytree', 0.5), ('learning_rate', 0.01), ('max_bin', 100), ('max_depth', 2), ('min_child_samples', 0), ('min_data_in_leaf', 20), ('n_estimators', 162), ('num_leaves', 225), ('reg_alpha', 1e-09), ('reg_lambda', 1.0), ('scale_pos_weight', 16)])\n",
      "\n"
     ]
    },
    {
     "data": {
      "application/javascript": [
       "\n",
       "        if (window._pyforest_update_imports_cell) { window._pyforest_update_imports_cell('import numpy as np'); }\n",
       "    "
      ],
      "text/plain": [
       "<IPython.core.display.Javascript object>"
      ]
     },
     "metadata": {},
     "output_type": "display_data"
    },
    {
     "name": "stdout",
     "output_type": "stream",
     "text": [
      "Model #266\n",
      "Best ROC-AUC: 0.7643\n",
      "Best params: OrderedDict([('colsample_bytree', 0.5), ('learning_rate', 0.01), ('max_bin', 100), ('max_depth', 2), ('min_child_samples', 0), ('min_data_in_leaf', 20), ('n_estimators', 162), ('num_leaves', 225), ('reg_alpha', 1e-09), ('reg_lambda', 1.0), ('scale_pos_weight', 16)])\n",
      "\n"
     ]
    },
    {
     "data": {
      "application/javascript": [
       "\n",
       "        if (window._pyforest_update_imports_cell) { window._pyforest_update_imports_cell('import numpy as np'); }\n",
       "    "
      ],
      "text/plain": [
       "<IPython.core.display.Javascript object>"
      ]
     },
     "metadata": {},
     "output_type": "display_data"
    },
    {
     "name": "stdout",
     "output_type": "stream",
     "text": [
      "Model #267\n",
      "Best ROC-AUC: 0.7643\n",
      "Best params: OrderedDict([('colsample_bytree', 0.5), ('learning_rate', 0.01), ('max_bin', 100), ('max_depth', 2), ('min_child_samples', 0), ('min_data_in_leaf', 20), ('n_estimators', 162), ('num_leaves', 225), ('reg_alpha', 1e-09), ('reg_lambda', 1.0), ('scale_pos_weight', 16)])\n",
      "\n"
     ]
    },
    {
     "data": {
      "application/javascript": [
       "\n",
       "        if (window._pyforest_update_imports_cell) { window._pyforest_update_imports_cell('import numpy as np'); }\n",
       "    "
      ],
      "text/plain": [
       "<IPython.core.display.Javascript object>"
      ]
     },
     "metadata": {},
     "output_type": "display_data"
    },
    {
     "name": "stdout",
     "output_type": "stream",
     "text": [
      "Model #268\n",
      "Best ROC-AUC: 0.7643\n",
      "Best params: OrderedDict([('colsample_bytree', 0.5), ('learning_rate', 0.01), ('max_bin', 100), ('max_depth', 2), ('min_child_samples', 0), ('min_data_in_leaf', 20), ('n_estimators', 162), ('num_leaves', 225), ('reg_alpha', 1e-09), ('reg_lambda', 1.0), ('scale_pos_weight', 16)])\n",
      "\n"
     ]
    },
    {
     "data": {
      "application/javascript": [
       "\n",
       "        if (window._pyforest_update_imports_cell) { window._pyforest_update_imports_cell('import numpy as np'); }\n",
       "    "
      ],
      "text/plain": [
       "<IPython.core.display.Javascript object>"
      ]
     },
     "metadata": {},
     "output_type": "display_data"
    },
    {
     "name": "stdout",
     "output_type": "stream",
     "text": [
      "Model #269\n",
      "Best ROC-AUC: 0.7643\n",
      "Best params: OrderedDict([('colsample_bytree', 0.5), ('learning_rate', 0.01), ('max_bin', 100), ('max_depth', 2), ('min_child_samples', 0), ('min_data_in_leaf', 20), ('n_estimators', 162), ('num_leaves', 225), ('reg_alpha', 1e-09), ('reg_lambda', 1.0), ('scale_pos_weight', 16)])\n",
      "\n"
     ]
    },
    {
     "data": {
      "application/javascript": [
       "\n",
       "        if (window._pyforest_update_imports_cell) { window._pyforest_update_imports_cell('import numpy as np'); }\n",
       "    "
      ],
      "text/plain": [
       "<IPython.core.display.Javascript object>"
      ]
     },
     "metadata": {},
     "output_type": "display_data"
    },
    {
     "name": "stdout",
     "output_type": "stream",
     "text": [
      "Model #270\n",
      "Best ROC-AUC: 0.7643\n",
      "Best params: OrderedDict([('colsample_bytree', 0.5), ('learning_rate', 0.01), ('max_bin', 100), ('max_depth', 2), ('min_child_samples', 0), ('min_data_in_leaf', 20), ('n_estimators', 162), ('num_leaves', 225), ('reg_alpha', 1e-09), ('reg_lambda', 1.0), ('scale_pos_weight', 16)])\n",
      "\n"
     ]
    },
    {
     "data": {
      "application/javascript": [
       "\n",
       "        if (window._pyforest_update_imports_cell) { window._pyforest_update_imports_cell('import numpy as np'); }\n",
       "    "
      ],
      "text/plain": [
       "<IPython.core.display.Javascript object>"
      ]
     },
     "metadata": {},
     "output_type": "display_data"
    },
    {
     "name": "stdout",
     "output_type": "stream",
     "text": [
      "Model #271\n",
      "Best ROC-AUC: 0.7643\n",
      "Best params: OrderedDict([('colsample_bytree', 0.5), ('learning_rate', 0.01), ('max_bin', 100), ('max_depth', 2), ('min_child_samples', 0), ('min_data_in_leaf', 20), ('n_estimators', 162), ('num_leaves', 225), ('reg_alpha', 1e-09), ('reg_lambda', 1.0), ('scale_pos_weight', 16)])\n",
      "\n"
     ]
    },
    {
     "data": {
      "application/javascript": [
       "\n",
       "        if (window._pyforest_update_imports_cell) { window._pyforest_update_imports_cell('import numpy as np'); }\n",
       "    "
      ],
      "text/plain": [
       "<IPython.core.display.Javascript object>"
      ]
     },
     "metadata": {},
     "output_type": "display_data"
    },
    {
     "name": "stdout",
     "output_type": "stream",
     "text": [
      "Model #272\n",
      "Best ROC-AUC: 0.7643\n",
      "Best params: OrderedDict([('colsample_bytree', 0.5), ('learning_rate', 0.01), ('max_bin', 100), ('max_depth', 2), ('min_child_samples', 0), ('min_data_in_leaf', 20), ('n_estimators', 162), ('num_leaves', 225), ('reg_alpha', 1e-09), ('reg_lambda', 1.0), ('scale_pos_weight', 16)])\n",
      "\n"
     ]
    },
    {
     "data": {
      "application/javascript": [
       "\n",
       "        if (window._pyforest_update_imports_cell) { window._pyforest_update_imports_cell('import numpy as np'); }\n",
       "    "
      ],
      "text/plain": [
       "<IPython.core.display.Javascript object>"
      ]
     },
     "metadata": {},
     "output_type": "display_data"
    },
    {
     "name": "stdout",
     "output_type": "stream",
     "text": [
      "Model #273\n",
      "Best ROC-AUC: 0.7643\n",
      "Best params: OrderedDict([('colsample_bytree', 0.5), ('learning_rate', 0.01), ('max_bin', 100), ('max_depth', 2), ('min_child_samples', 0), ('min_data_in_leaf', 20), ('n_estimators', 162), ('num_leaves', 225), ('reg_alpha', 1e-09), ('reg_lambda', 1.0), ('scale_pos_weight', 16)])\n",
      "\n"
     ]
    },
    {
     "data": {
      "application/javascript": [
       "\n",
       "        if (window._pyforest_update_imports_cell) { window._pyforest_update_imports_cell('import numpy as np'); }\n",
       "    "
      ],
      "text/plain": [
       "<IPython.core.display.Javascript object>"
      ]
     },
     "metadata": {},
     "output_type": "display_data"
    },
    {
     "name": "stdout",
     "output_type": "stream",
     "text": [
      "Model #274\n",
      "Best ROC-AUC: 0.7643\n",
      "Best params: OrderedDict([('colsample_bytree', 0.5), ('learning_rate', 0.01), ('max_bin', 100), ('max_depth', 2), ('min_child_samples', 0), ('min_data_in_leaf', 20), ('n_estimators', 162), ('num_leaves', 225), ('reg_alpha', 1e-09), ('reg_lambda', 1.0), ('scale_pos_weight', 16)])\n",
      "\n"
     ]
    },
    {
     "data": {
      "application/javascript": [
       "\n",
       "        if (window._pyforest_update_imports_cell) { window._pyforest_update_imports_cell('import numpy as np'); }\n",
       "    "
      ],
      "text/plain": [
       "<IPython.core.display.Javascript object>"
      ]
     },
     "metadata": {},
     "output_type": "display_data"
    },
    {
     "name": "stdout",
     "output_type": "stream",
     "text": [
      "Model #275\n",
      "Best ROC-AUC: 0.7643\n",
      "Best params: OrderedDict([('colsample_bytree', 0.5), ('learning_rate', 0.01), ('max_bin', 100), ('max_depth', 2), ('min_child_samples', 0), ('min_data_in_leaf', 20), ('n_estimators', 162), ('num_leaves', 225), ('reg_alpha', 1e-09), ('reg_lambda', 1.0), ('scale_pos_weight', 16)])\n",
      "\n"
     ]
    },
    {
     "data": {
      "application/javascript": [
       "\n",
       "        if (window._pyforest_update_imports_cell) { window._pyforest_update_imports_cell('import numpy as np'); }\n",
       "    "
      ],
      "text/plain": [
       "<IPython.core.display.Javascript object>"
      ]
     },
     "metadata": {},
     "output_type": "display_data"
    },
    {
     "name": "stdout",
     "output_type": "stream",
     "text": [
      "Model #276\n",
      "Best ROC-AUC: 0.7643\n",
      "Best params: OrderedDict([('colsample_bytree', 0.5), ('learning_rate', 0.01), ('max_bin', 100), ('max_depth', 2), ('min_child_samples', 0), ('min_data_in_leaf', 20), ('n_estimators', 162), ('num_leaves', 225), ('reg_alpha', 1e-09), ('reg_lambda', 1.0), ('scale_pos_weight', 16)])\n",
      "\n"
     ]
    },
    {
     "data": {
      "application/javascript": [
       "\n",
       "        if (window._pyforest_update_imports_cell) { window._pyforest_update_imports_cell('import numpy as np'); }\n",
       "    "
      ],
      "text/plain": [
       "<IPython.core.display.Javascript object>"
      ]
     },
     "metadata": {},
     "output_type": "display_data"
    },
    {
     "name": "stdout",
     "output_type": "stream",
     "text": [
      "Model #277\n",
      "Best ROC-AUC: 0.7643\n",
      "Best params: OrderedDict([('colsample_bytree', 0.5), ('learning_rate', 0.01), ('max_bin', 100), ('max_depth', 2), ('min_child_samples', 0), ('min_data_in_leaf', 20), ('n_estimators', 162), ('num_leaves', 225), ('reg_alpha', 1e-09), ('reg_lambda', 1.0), ('scale_pos_weight', 16)])\n",
      "\n"
     ]
    },
    {
     "data": {
      "application/javascript": [
       "\n",
       "        if (window._pyforest_update_imports_cell) { window._pyforest_update_imports_cell('import numpy as np'); }\n",
       "    "
      ],
      "text/plain": [
       "<IPython.core.display.Javascript object>"
      ]
     },
     "metadata": {},
     "output_type": "display_data"
    },
    {
     "name": "stdout",
     "output_type": "stream",
     "text": [
      "Model #278\n",
      "Best ROC-AUC: 0.7643\n",
      "Best params: OrderedDict([('colsample_bytree', 0.5), ('learning_rate', 0.01), ('max_bin', 100), ('max_depth', 2), ('min_child_samples', 0), ('min_data_in_leaf', 20), ('n_estimators', 162), ('num_leaves', 225), ('reg_alpha', 1e-09), ('reg_lambda', 1.0), ('scale_pos_weight', 16)])\n",
      "\n"
     ]
    },
    {
     "data": {
      "application/javascript": [
       "\n",
       "        if (window._pyforest_update_imports_cell) { window._pyforest_update_imports_cell('import numpy as np'); }\n",
       "    "
      ],
      "text/plain": [
       "<IPython.core.display.Javascript object>"
      ]
     },
     "metadata": {},
     "output_type": "display_data"
    },
    {
     "name": "stdout",
     "output_type": "stream",
     "text": [
      "Model #279\n",
      "Best ROC-AUC: 0.7643\n",
      "Best params: OrderedDict([('colsample_bytree', 0.5), ('learning_rate', 0.01), ('max_bin', 100), ('max_depth', 2), ('min_child_samples', 0), ('min_data_in_leaf', 20), ('n_estimators', 162), ('num_leaves', 225), ('reg_alpha', 1e-09), ('reg_lambda', 1.0), ('scale_pos_weight', 16)])\n",
      "\n"
     ]
    },
    {
     "data": {
      "application/javascript": [
       "\n",
       "        if (window._pyforest_update_imports_cell) { window._pyforest_update_imports_cell('import numpy as np'); }\n",
       "    "
      ],
      "text/plain": [
       "<IPython.core.display.Javascript object>"
      ]
     },
     "metadata": {},
     "output_type": "display_data"
    },
    {
     "name": "stdout",
     "output_type": "stream",
     "text": [
      "Model #280\n",
      "Best ROC-AUC: 0.7643\n",
      "Best params: OrderedDict([('colsample_bytree', 0.5), ('learning_rate', 0.01), ('max_bin', 100), ('max_depth', 2), ('min_child_samples', 0), ('min_data_in_leaf', 20), ('n_estimators', 162), ('num_leaves', 225), ('reg_alpha', 1e-09), ('reg_lambda', 1.0), ('scale_pos_weight', 16)])\n",
      "\n"
     ]
    },
    {
     "data": {
      "application/javascript": [
       "\n",
       "        if (window._pyforest_update_imports_cell) { window._pyforest_update_imports_cell('import numpy as np'); }\n",
       "    "
      ],
      "text/plain": [
       "<IPython.core.display.Javascript object>"
      ]
     },
     "metadata": {},
     "output_type": "display_data"
    },
    {
     "name": "stdout",
     "output_type": "stream",
     "text": [
      "Model #281\n",
      "Best ROC-AUC: 0.7643\n",
      "Best params: OrderedDict([('colsample_bytree', 0.5), ('learning_rate', 0.01), ('max_bin', 100), ('max_depth', 2), ('min_child_samples', 0), ('min_data_in_leaf', 20), ('n_estimators', 162), ('num_leaves', 225), ('reg_alpha', 1e-09), ('reg_lambda', 1.0), ('scale_pos_weight', 16)])\n",
      "\n"
     ]
    },
    {
     "data": {
      "application/javascript": [
       "\n",
       "        if (window._pyforest_update_imports_cell) { window._pyforest_update_imports_cell('import numpy as np'); }\n",
       "    "
      ],
      "text/plain": [
       "<IPython.core.display.Javascript object>"
      ]
     },
     "metadata": {},
     "output_type": "display_data"
    },
    {
     "name": "stdout",
     "output_type": "stream",
     "text": [
      "Model #282\n",
      "Best ROC-AUC: 0.7643\n",
      "Best params: OrderedDict([('colsample_bytree', 0.5), ('learning_rate', 0.01), ('max_bin', 100), ('max_depth', 2), ('min_child_samples', 0), ('min_data_in_leaf', 20), ('n_estimators', 162), ('num_leaves', 225), ('reg_alpha', 1e-09), ('reg_lambda', 1.0), ('scale_pos_weight', 16)])\n",
      "\n"
     ]
    },
    {
     "data": {
      "application/javascript": [
       "\n",
       "        if (window._pyforest_update_imports_cell) { window._pyforest_update_imports_cell('import numpy as np'); }\n",
       "    "
      ],
      "text/plain": [
       "<IPython.core.display.Javascript object>"
      ]
     },
     "metadata": {},
     "output_type": "display_data"
    },
    {
     "name": "stdout",
     "output_type": "stream",
     "text": [
      "Model #283\n",
      "Best ROC-AUC: 0.7643\n",
      "Best params: OrderedDict([('colsample_bytree', 0.5), ('learning_rate', 0.01), ('max_bin', 100), ('max_depth', 2), ('min_child_samples', 0), ('min_data_in_leaf', 20), ('n_estimators', 162), ('num_leaves', 225), ('reg_alpha', 1e-09), ('reg_lambda', 1.0), ('scale_pos_weight', 16)])\n",
      "\n"
     ]
    },
    {
     "data": {
      "application/javascript": [
       "\n",
       "        if (window._pyforest_update_imports_cell) { window._pyforest_update_imports_cell('import numpy as np'); }\n",
       "    "
      ],
      "text/plain": [
       "<IPython.core.display.Javascript object>"
      ]
     },
     "metadata": {},
     "output_type": "display_data"
    },
    {
     "name": "stdout",
     "output_type": "stream",
     "text": [
      "Model #284\n",
      "Best ROC-AUC: 0.7643\n",
      "Best params: OrderedDict([('colsample_bytree', 0.5), ('learning_rate', 0.01), ('max_bin', 100), ('max_depth', 2), ('min_child_samples', 0), ('min_data_in_leaf', 20), ('n_estimators', 162), ('num_leaves', 225), ('reg_alpha', 1e-09), ('reg_lambda', 1.0), ('scale_pos_weight', 16)])\n",
      "\n"
     ]
    },
    {
     "data": {
      "application/javascript": [
       "\n",
       "        if (window._pyforest_update_imports_cell) { window._pyforest_update_imports_cell('import numpy as np'); }\n",
       "    "
      ],
      "text/plain": [
       "<IPython.core.display.Javascript object>"
      ]
     },
     "metadata": {},
     "output_type": "display_data"
    },
    {
     "name": "stdout",
     "output_type": "stream",
     "text": [
      "Model #285\n",
      "Best ROC-AUC: 0.7643\n",
      "Best params: OrderedDict([('colsample_bytree', 0.5), ('learning_rate', 0.01), ('max_bin', 100), ('max_depth', 2), ('min_child_samples', 0), ('min_data_in_leaf', 20), ('n_estimators', 162), ('num_leaves', 225), ('reg_alpha', 1e-09), ('reg_lambda', 1.0), ('scale_pos_weight', 16)])\n",
      "\n"
     ]
    },
    {
     "data": {
      "application/javascript": [
       "\n",
       "        if (window._pyforest_update_imports_cell) { window._pyforest_update_imports_cell('import numpy as np'); }\n",
       "    "
      ],
      "text/plain": [
       "<IPython.core.display.Javascript object>"
      ]
     },
     "metadata": {},
     "output_type": "display_data"
    },
    {
     "name": "stdout",
     "output_type": "stream",
     "text": [
      "Model #286\n",
      "Best ROC-AUC: 0.7643\n",
      "Best params: OrderedDict([('colsample_bytree', 0.5), ('learning_rate', 0.01), ('max_bin', 100), ('max_depth', 2), ('min_child_samples', 0), ('min_data_in_leaf', 20), ('n_estimators', 162), ('num_leaves', 225), ('reg_alpha', 1e-09), ('reg_lambda', 1.0), ('scale_pos_weight', 16)])\n",
      "\n"
     ]
    },
    {
     "data": {
      "application/javascript": [
       "\n",
       "        if (window._pyforest_update_imports_cell) { window._pyforest_update_imports_cell('import numpy as np'); }\n",
       "    "
      ],
      "text/plain": [
       "<IPython.core.display.Javascript object>"
      ]
     },
     "metadata": {},
     "output_type": "display_data"
    },
    {
     "name": "stdout",
     "output_type": "stream",
     "text": [
      "Model #287\n",
      "Best ROC-AUC: 0.7643\n",
      "Best params: OrderedDict([('colsample_bytree', 0.5), ('learning_rate', 0.01), ('max_bin', 100), ('max_depth', 2), ('min_child_samples', 0), ('min_data_in_leaf', 20), ('n_estimators', 162), ('num_leaves', 225), ('reg_alpha', 1e-09), ('reg_lambda', 1.0), ('scale_pos_weight', 16)])\n",
      "\n"
     ]
    },
    {
     "data": {
      "application/javascript": [
       "\n",
       "        if (window._pyforest_update_imports_cell) { window._pyforest_update_imports_cell('import numpy as np'); }\n",
       "    "
      ],
      "text/plain": [
       "<IPython.core.display.Javascript object>"
      ]
     },
     "metadata": {},
     "output_type": "display_data"
    },
    {
     "name": "stdout",
     "output_type": "stream",
     "text": [
      "Model #288\n",
      "Best ROC-AUC: 0.7643\n",
      "Best params: OrderedDict([('colsample_bytree', 0.5), ('learning_rate', 0.01), ('max_bin', 100), ('max_depth', 2), ('min_child_samples', 0), ('min_data_in_leaf', 20), ('n_estimators', 162), ('num_leaves', 225), ('reg_alpha', 1e-09), ('reg_lambda', 1.0), ('scale_pos_weight', 16)])\n",
      "\n"
     ]
    },
    {
     "data": {
      "application/javascript": [
       "\n",
       "        if (window._pyforest_update_imports_cell) { window._pyforest_update_imports_cell('import numpy as np'); }\n",
       "    "
      ],
      "text/plain": [
       "<IPython.core.display.Javascript object>"
      ]
     },
     "metadata": {},
     "output_type": "display_data"
    },
    {
     "name": "stdout",
     "output_type": "stream",
     "text": [
      "Model #289\n",
      "Best ROC-AUC: 0.7643\n",
      "Best params: OrderedDict([('colsample_bytree', 0.5), ('learning_rate', 0.01), ('max_bin', 100), ('max_depth', 2), ('min_child_samples', 0), ('min_data_in_leaf', 20), ('n_estimators', 162), ('num_leaves', 225), ('reg_alpha', 1e-09), ('reg_lambda', 1.0), ('scale_pos_weight', 16)])\n",
      "\n"
     ]
    },
    {
     "data": {
      "application/javascript": [
       "\n",
       "        if (window._pyforest_update_imports_cell) { window._pyforest_update_imports_cell('import numpy as np'); }\n",
       "    "
      ],
      "text/plain": [
       "<IPython.core.display.Javascript object>"
      ]
     },
     "metadata": {},
     "output_type": "display_data"
    },
    {
     "name": "stdout",
     "output_type": "stream",
     "text": [
      "Model #290\n",
      "Best ROC-AUC: 0.7643\n",
      "Best params: OrderedDict([('colsample_bytree', 0.5), ('learning_rate', 0.01), ('max_bin', 100), ('max_depth', 2), ('min_child_samples', 0), ('min_data_in_leaf', 20), ('n_estimators', 162), ('num_leaves', 225), ('reg_alpha', 1e-09), ('reg_lambda', 1.0), ('scale_pos_weight', 16)])\n",
      "\n"
     ]
    },
    {
     "data": {
      "application/javascript": [
       "\n",
       "        if (window._pyforest_update_imports_cell) { window._pyforest_update_imports_cell('import numpy as np'); }\n",
       "    "
      ],
      "text/plain": [
       "<IPython.core.display.Javascript object>"
      ]
     },
     "metadata": {},
     "output_type": "display_data"
    },
    {
     "name": "stdout",
     "output_type": "stream",
     "text": [
      "Model #291\n",
      "Best ROC-AUC: 0.7643\n",
      "Best params: OrderedDict([('colsample_bytree', 0.5), ('learning_rate', 0.01), ('max_bin', 100), ('max_depth', 2), ('min_child_samples', 0), ('min_data_in_leaf', 20), ('n_estimators', 162), ('num_leaves', 225), ('reg_alpha', 1e-09), ('reg_lambda', 1.0), ('scale_pos_weight', 16)])\n",
      "\n"
     ]
    },
    {
     "data": {
      "application/javascript": [
       "\n",
       "        if (window._pyforest_update_imports_cell) { window._pyforest_update_imports_cell('import numpy as np'); }\n",
       "    "
      ],
      "text/plain": [
       "<IPython.core.display.Javascript object>"
      ]
     },
     "metadata": {},
     "output_type": "display_data"
    },
    {
     "name": "stdout",
     "output_type": "stream",
     "text": [
      "Model #292\n",
      "Best ROC-AUC: 0.7643\n",
      "Best params: OrderedDict([('colsample_bytree', 0.5), ('learning_rate', 0.01), ('max_bin', 100), ('max_depth', 2), ('min_child_samples', 0), ('min_data_in_leaf', 20), ('n_estimators', 162), ('num_leaves', 225), ('reg_alpha', 1e-09), ('reg_lambda', 1.0), ('scale_pos_weight', 16)])\n",
      "\n"
     ]
    },
    {
     "data": {
      "application/javascript": [
       "\n",
       "        if (window._pyforest_update_imports_cell) { window._pyforest_update_imports_cell('import numpy as np'); }\n",
       "    "
      ],
      "text/plain": [
       "<IPython.core.display.Javascript object>"
      ]
     },
     "metadata": {},
     "output_type": "display_data"
    },
    {
     "name": "stdout",
     "output_type": "stream",
     "text": [
      "Model #293\n",
      "Best ROC-AUC: 0.7643\n",
      "Best params: OrderedDict([('colsample_bytree', 0.5), ('learning_rate', 0.01), ('max_bin', 100), ('max_depth', 2), ('min_child_samples', 0), ('min_data_in_leaf', 20), ('n_estimators', 162), ('num_leaves', 225), ('reg_alpha', 1e-09), ('reg_lambda', 1.0), ('scale_pos_weight', 16)])\n",
      "\n"
     ]
    },
    {
     "data": {
      "application/javascript": [
       "\n",
       "        if (window._pyforest_update_imports_cell) { window._pyforest_update_imports_cell('import numpy as np'); }\n",
       "    "
      ],
      "text/plain": [
       "<IPython.core.display.Javascript object>"
      ]
     },
     "metadata": {},
     "output_type": "display_data"
    },
    {
     "name": "stdout",
     "output_type": "stream",
     "text": [
      "Model #294\n",
      "Best ROC-AUC: 0.7643\n",
      "Best params: OrderedDict([('colsample_bytree', 0.5), ('learning_rate', 0.01), ('max_bin', 100), ('max_depth', 2), ('min_child_samples', 0), ('min_data_in_leaf', 20), ('n_estimators', 162), ('num_leaves', 225), ('reg_alpha', 1e-09), ('reg_lambda', 1.0), ('scale_pos_weight', 16)])\n",
      "\n"
     ]
    },
    {
     "data": {
      "application/javascript": [
       "\n",
       "        if (window._pyforest_update_imports_cell) { window._pyforest_update_imports_cell('import numpy as np'); }\n",
       "    "
      ],
      "text/plain": [
       "<IPython.core.display.Javascript object>"
      ]
     },
     "metadata": {},
     "output_type": "display_data"
    },
    {
     "name": "stdout",
     "output_type": "stream",
     "text": [
      "Model #295\n",
      "Best ROC-AUC: 0.7643\n",
      "Best params: OrderedDict([('colsample_bytree', 0.5), ('learning_rate', 0.01), ('max_bin', 100), ('max_depth', 2), ('min_child_samples', 0), ('min_data_in_leaf', 20), ('n_estimators', 162), ('num_leaves', 225), ('reg_alpha', 1e-09), ('reg_lambda', 1.0), ('scale_pos_weight', 16)])\n",
      "\n"
     ]
    },
    {
     "data": {
      "application/javascript": [
       "\n",
       "        if (window._pyforest_update_imports_cell) { window._pyforest_update_imports_cell('import numpy as np'); }\n",
       "    "
      ],
      "text/plain": [
       "<IPython.core.display.Javascript object>"
      ]
     },
     "metadata": {},
     "output_type": "display_data"
    },
    {
     "name": "stdout",
     "output_type": "stream",
     "text": [
      "Model #296\n",
      "Best ROC-AUC: 0.7643\n",
      "Best params: OrderedDict([('colsample_bytree', 0.5), ('learning_rate', 0.01), ('max_bin', 100), ('max_depth', 2), ('min_child_samples', 0), ('min_data_in_leaf', 20), ('n_estimators', 162), ('num_leaves', 225), ('reg_alpha', 1e-09), ('reg_lambda', 1.0), ('scale_pos_weight', 16)])\n",
      "\n"
     ]
    },
    {
     "data": {
      "application/javascript": [
       "\n",
       "        if (window._pyforest_update_imports_cell) { window._pyforest_update_imports_cell('import numpy as np'); }\n",
       "    "
      ],
      "text/plain": [
       "<IPython.core.display.Javascript object>"
      ]
     },
     "metadata": {},
     "output_type": "display_data"
    },
    {
     "name": "stdout",
     "output_type": "stream",
     "text": [
      "Model #297\n",
      "Best ROC-AUC: 0.7643\n",
      "Best params: OrderedDict([('colsample_bytree', 0.5), ('learning_rate', 0.01), ('max_bin', 100), ('max_depth', 2), ('min_child_samples', 0), ('min_data_in_leaf', 20), ('n_estimators', 162), ('num_leaves', 225), ('reg_alpha', 1e-09), ('reg_lambda', 1.0), ('scale_pos_weight', 16)])\n",
      "\n"
     ]
    },
    {
     "data": {
      "application/javascript": [
       "\n",
       "        if (window._pyforest_update_imports_cell) { window._pyforest_update_imports_cell('import numpy as np'); }\n",
       "    "
      ],
      "text/plain": [
       "<IPython.core.display.Javascript object>"
      ]
     },
     "metadata": {},
     "output_type": "display_data"
    },
    {
     "name": "stdout",
     "output_type": "stream",
     "text": [
      "Model #298\n",
      "Best ROC-AUC: 0.7643\n",
      "Best params: OrderedDict([('colsample_bytree', 0.5), ('learning_rate', 0.01), ('max_bin', 100), ('max_depth', 2), ('min_child_samples', 0), ('min_data_in_leaf', 20), ('n_estimators', 162), ('num_leaves', 225), ('reg_alpha', 1e-09), ('reg_lambda', 1.0), ('scale_pos_weight', 16)])\n",
      "\n"
     ]
    },
    {
     "data": {
      "application/javascript": [
       "\n",
       "        if (window._pyforest_update_imports_cell) { window._pyforest_update_imports_cell('import numpy as np'); }\n",
       "    "
      ],
      "text/plain": [
       "<IPython.core.display.Javascript object>"
      ]
     },
     "metadata": {},
     "output_type": "display_data"
    },
    {
     "name": "stdout",
     "output_type": "stream",
     "text": [
      "Model #299\n",
      "Best ROC-AUC: 0.7643\n",
      "Best params: OrderedDict([('colsample_bytree', 0.5), ('learning_rate', 0.01), ('max_bin', 100), ('max_depth', 2), ('min_child_samples', 0), ('min_data_in_leaf', 20), ('n_estimators', 162), ('num_leaves', 225), ('reg_alpha', 1e-09), ('reg_lambda', 1.0), ('scale_pos_weight', 16)])\n",
      "\n"
     ]
    },
    {
     "data": {
      "application/javascript": [
       "\n",
       "        if (window._pyforest_update_imports_cell) { window._pyforest_update_imports_cell('import numpy as np'); }\n",
       "    "
      ],
      "text/plain": [
       "<IPython.core.display.Javascript object>"
      ]
     },
     "metadata": {},
     "output_type": "display_data"
    },
    {
     "name": "stdout",
     "output_type": "stream",
     "text": [
      "Model #300\n",
      "Best ROC-AUC: 0.7643\n",
      "Best params: OrderedDict([('colsample_bytree', 0.5), ('learning_rate', 0.01), ('max_bin', 100), ('max_depth', 2), ('min_child_samples', 0), ('min_data_in_leaf', 20), ('n_estimators', 162), ('num_leaves', 225), ('reg_alpha', 1e-09), ('reg_lambda', 1.0), ('scale_pos_weight', 16)])\n",
      "\n",
      "[LightGBM] [Warning] min_data_in_leaf is set=20, min_child_samples=0 will be ignored. Current value: min_data_in_leaf=20\n",
      "[LightGBM] [Warning] min_data_in_leaf is set=20, min_child_samples=0 will be ignored. Current value: min_data_in_leaf=20\n",
      "[LightGBM] [Warning] Auto-choosing row-wise multi-threading, the overhead of testing was 0.054624 seconds.\n",
      "You can set `force_row_wise=true` to remove the overhead.\n",
      "And if memory is not enough, you can set `force_col_wise=true`.\n",
      "Wall time: 3h 29min 19s\n"
     ]
    }
   ],
   "source": [
    "%%time\n",
    "result_lgbm_reg = bayes_cv_tuner_lgbm_reg.fit(train, labels, callback=status_print)"
   ]
  },
  {
   "cell_type": "code",
   "execution_count": 140,
   "metadata": {},
   "outputs": [],
   "source": [
    "lgbm_reg = lgb.LGBMRegressor(boosting_type='gbdt',\n",
    "                          colsample_bytree=0.5,\n",
    "                          learning_rate=0.01,\n",
    "                          max_bin=100,\n",
    "                          max_depth=2,\n",
    "#                           min_child_samples=0,\n",
    "#                           min_data_in_leaf=20,\n",
    "                          min_child_weight=0.001,\n",
    "                          min_split_gain=0.0,\n",
    "                          n_estimators=162,\n",
    "                          n_jobs=-1,\n",
    "                          num_leaves=225,\n",
    "                          objective=None,\n",
    "                          random_state=None,\n",
    "                          reg_alpha=1e-09,\n",
    "                          reg_lambda=1,\n",
    "                          scale_pos_weight=16,\n",
    "                          silent=True,\n",
    "                          subsample=1.0,\n",
    "                          subsample_for_bin=200000, \n",
    "                          subsample_freq=0)"
   ]
  },
  {
   "cell_type": "code",
   "execution_count": 141,
   "metadata": {},
   "outputs": [
    {
     "name": "stdout",
     "output_type": "stream",
     "text": [
      "[LightGBM] [Warning] min_data_in_leaf is set=20, min_child_samples=0 will be ignored. Current value: min_data_in_leaf=20\n"
     ]
    },
    {
     "data": {
      "text/plain": [
       "LGBMRegressor(boosting_type='gbdt', class_weight=None, colsample_bytree=0.5,\n",
       "       importance_type='split', learning_rate=0.01, max_bin=100,\n",
       "       max_depth=2, min_child_samples=0, min_child_weight=0.001,\n",
       "       min_data_in_leaf=20, min_split_gain=0.0, n_estimators=162,\n",
       "       n_jobs=-1, num_leaves=225, objective=None, random_state=None,\n",
       "       reg_alpha=1e-09, reg_lambda=1, scale_pos_weight=16, silent=True,\n",
       "       subsample=1.0, subsample_for_bin=200000, subsample_freq=0)"
      ]
     },
     "execution_count": 141,
     "metadata": {},
     "output_type": "execute_result"
    }
   ],
   "source": [
    "lgbm_reg.fit(train, labels)"
   ]
  },
  {
   "cell_type": "code",
   "execution_count": 149,
   "metadata": {},
   "outputs": [
    {
     "data": {
      "text/plain": [
       "<matplotlib.axes._subplots.AxesSubplot at 0x1ef993a9b70>"
      ]
     },
     "execution_count": 149,
     "metadata": {},
     "output_type": "execute_result"
    },
    {
     "data": {
      "image/png": "[encoded data removed]",
      "text/plain": [
       "<Figure size 432x288 with 1 Axes>"
      ]
     },
     "metadata": {
      "needs_background": "light"
     },
     "output_type": "display_data"
    }
   ],
   "source": [
    "feat_imp = pd.DataFrame(lgbm_reg.feature_importances_, columns=['Feature_Importance'])\n",
    "feat_imp['Features'] = train.columns\n",
    "feat_imp = feat_imp.sort_values('Feature_Importance', ascending=False)\n",
    "\n",
    "sns.barplot('Feature_Importance', 'Features', data=feat_imp.head(10))"
   ]
  },
  {
   "cell_type": "code",
   "execution_count": 142,
   "metadata": {},
   "outputs": [
    {
     "data": {
      "text/plain": [
       "(array([10918.,  7195.,  4137.,  2061.,  7797.,   667.,  1459.,  5459.,\n",
       "         2969.,   300.]),\n",
       " array([0.00340575, 0.00593513, 0.00846451, 0.01099389, 0.01352328,\n",
       "        0.01605266, 0.01858204, 0.02111142, 0.02364081, 0.02617019,\n",
       "        0.02869957]),\n",
       " <a list of 10 Patch objects>)"
      ]
     },
     "execution_count": 142,
     "metadata": {},
     "output_type": "execute_result"
    },
    {
     "data": {
      "image/png": "[encoded data removed]",
      "text/plain": [
       "<Figure size 432x288 with 1 Axes>"
      ]
     },
     "metadata": {
      "needs_background": "light"
     },
     "output_type": "display_data"
    }
   ],
   "source": [
    "plt.hist(lgbm_reg.predict(train))"
   ]
  },
  {
   "cell_type": "code",
   "execution_count": 161,
   "metadata": {},
   "outputs": [],
   "source": [
    "lgbm_reg = lgb.LGBMRegressor(boosting_type='gbdt',\n",
    "                          colsample_bytree=0.5,\n",
    "                          learning_rate=0.01,\n",
    "                          max_bin=100,\n",
    "                          max_depth=2,\n",
    "                          min_child_weight=0.001,\n",
    "                          min_split_gain=0.0,\n",
    "                          n_estimators=162,\n",
    "                          n_jobs=-1,\n",
    "                          num_leaves=225,\n",
    "                          objective='binary',\n",
    "                          random_state=None,\n",
    "                          reg_alpha=1e-09,\n",
    "                          reg_lambda=1,\n",
    "                          scale_pos_weight=16,\n",
    "                          silent=True,\n",
    "                          subsample=1.0,\n",
    "                          subsample_for_bin=200000, \n",
    "                          subsample_freq=0)"
   ]
  },
  {
   "cell_type": "code",
   "execution_count": 162,
   "metadata": {},
   "outputs": [
    {
     "data": {
      "text/plain": [
       "LGBMRegressor(boosting_type='gbdt', class_weight=None, colsample_bytree=0.5,\n",
       "       importance_type='split', learning_rate=0.01, max_bin=100,\n",
       "       max_depth=2, min_child_samples=20, min_child_weight=0.001,\n",
       "       min_split_gain=0.0, n_estimators=162, n_jobs=-1, num_leaves=225,\n",
       "       objective='binary', random_state=None, reg_alpha=1e-09,\n",
       "       reg_lambda=1, scale_pos_weight=16, silent=True, subsample=1.0,\n",
       "       subsample_for_bin=200000, subsample_freq=0)"
      ]
     },
     "execution_count": 162,
     "metadata": {},
     "output_type": "execute_result"
    }
   ],
   "source": [
    "lgbm_reg.fit(train, labels)"
   ]
  },
  {
   "cell_type": "code",
   "execution_count": 163,
   "metadata": {},
   "outputs": [
    {
     "data": {
      "text/plain": [
       "<matplotlib.axes._subplots.AxesSubplot at 0x1ef9f001940>"
      ]
     },
     "execution_count": 163,
     "metadata": {},
     "output_type": "execute_result"
    },
    {
     "data": {
      "image/png": "[encoded data removed]",
      "text/plain": [
       "<Figure size 432x288 with 1 Axes>"
      ]
     },
     "metadata": {
      "needs_background": "light"
     },
     "output_type": "display_data"
    }
   ],
   "source": [
    "feat_imp = pd.DataFrame(lgbm_reg.feature_importances_, columns=['Feature_Importance'])\n",
    "feat_imp['Features'] = train.columns\n",
    "feat_imp = feat_imp.sort_values('Feature_Importance', ascending=False)\n",
    "\n",
    "sns.barplot('Feature_Importance', 'Features', data=feat_imp.head(10))"
   ]
  },
  {
   "cell_type": "code",
   "execution_count": 164,
   "metadata": {},
   "outputs": [
    {
     "data": {
      "text/plain": [
       "(array([16461.,  7312.,   673.,  7453.,   769.,  1475.,  3621.,  4754.,\n",
       "          418.,    26.]),\n",
       " array([0.02117932, 0.05607718, 0.09097504, 0.1258729 , 0.16077076,\n",
       "        0.19566862, 0.23056648, 0.26546434, 0.30036219, 0.33526005,\n",
       "        0.37015791]),\n",
       " <a list of 10 Patch objects>)"
      ]
     },
     "execution_count": 164,
     "metadata": {},
     "output_type": "execute_result"
    },
    {
     "data": {
      "image/png": "[encoded data removed]",
      "text/plain": [
       "<Figure size 432x288 with 1 Axes>"
      ]
     },
     "metadata": {
      "needs_background": "light"
     },
     "output_type": "display_data"
    }
   ],
   "source": [
    "plt.hist(lgbm_reg.predict(train))"
   ]
  },
  {
   "cell_type": "code",
   "execution_count": null,
   "metadata": {},
   "outputs": [],
   "source": [
    "ITERATIONS = 150\n",
    "bayes_cv_tuner_xg = BayesSearchCV(\n",
    "    estimator = xgb.XGBClassifier(\n",
    "        n_jobs = -1,\n",
    "        objective = 'binary:logistic',\n",
    "        eval_metric = 'auc',\n",
    "        silent=1,\n",
    "    ),\n",
    "    search_spaces = {\n",
    "        'learning_rate': (0.001, 1.0, 'log-uniform'),\n",
    "        'max_depth': (1, 10),\n",
    "        'min_child_weight': (1, 10),\n",
    "        'gamma': (0.0, 1.0, 'uniform'),\n",
    "        'subsample': (0.5, 1.0, 'uniform'),\n",
    "        'colsample_bytree': (0.5, 1.0, 'uniform'),\n",
    "        'reg_alpha': (1e-9, 1.0, 'log-uniform'),\n",
    "        'n_estimators': (50, 500),\n",
    "        'scale_pos_weight': (1,90)\n",
    "        \n",
    "        # uncomment to test more hyperparameters\n",
    "        #'max_delta_step': (0, 10),\n",
    "        #'colsample_bylevel': (0.01, 1.0, 'uniform'),\n",
    "        #'reg_lambda': (1e-9, 100, 'log-uniform'),\n",
    "        #'scale_pos_weight': (1, 90)\n",
    "    },    \n",
    "    scoring = 'roc_auc',\n",
    "    cv = StratifiedKFold(\n",
    "        n_splits=5,\n",
    "        shuffle=True,\n",
    "        random_state= SEED\n",
    "    ),\n",
    "    n_jobs = -1,\n",
    "    n_iter = ITERATIONS,   \n",
    "    verbose = 0,\n",
    "    refit = True,\n",
    "    random_state = np.random.RandomState(50)\n",
    ")\n",
    "\n",
    "def status_print(optim_result):\n",
    "    \"\"\"Status callback durring bayesian hyperparameter search\"\"\"\n",
    "    \n",
    "    # Get all the models tested so far in DataFrame format },\n",
    "    all_models = pd.DataFrame(bayes_cv_tuner_xg.cv_results_)    \n",
    "    \n",
    "    # Get current parameters and the best parameters    \n",
    "    best_params = pd.Series(bayes_cv_tuner_xg.best_params_)\n",
    "    print('Model #{}\\nBest ROC-AUC: {}\\nBest params: {}\\n'.format(\n",
    "        len(all_models),\n",
    "        np.round(bayes_cv_tuner_xg.best_score_, 4),\n",
    "        bayes_cv_tuner_xg.best_params_\n",
    "    ))\n",
    "    \n",
    "    # Save all model results\n",
    "    clf_name = bayes_cv_tuner_xg.estimator.__class__.__name__\n",
    "    all_models.to_csv(clf_name+\"_cv_results.csv\")"
   ]
  },
  {
   "cell_type": "markdown",
   "metadata": {},
   "source": [
    "## Part 3: Kaggle Competition\n",
    "\n",
    "Now that you've created a model to predict which individuals are most likely to respond to a mailout campaign, it's time to test that model in competition through Kaggle. If you click on the link [here](http://www.kaggle.com/t/21e6d45d4c574c7fa2d868f0e8c83140), you'll be taken to the competition page where, if you have a Kaggle account, you can enter. If you're one of the top performers, you may have the chance to be contacted by a hiring manager from Arvato or Bertelsmann for an interview!\n",
    "\n",
    "Your entry to the competition should be a CSV file with two columns. The first column should be a copy of \"LNR\", which acts as an ID number for each individual in the \"TEST\" partition. The second column, \"RESPONSE\", should be some measure of how likely each individual became a customer – this might not be a straightforward probability. As you should have found in Part 2, there is a large output class imbalance, where most individuals did not respond to the mailout. Thus, predicting individual classes and using accuracy does not seem to be an appropriate performance evaluation method. Instead, the competition will be using AUC to evaluate performance. The exact values of the \"RESPONSE\" column do not matter as much: only that the higher values try to capture as many of the actual customers as possible, early in the ROC curve sweep.\n",
    "\n",
    "#### Submission 1"
   ]
  },
  {
   "cell_type": "code",
   "execution_count": 115,
   "metadata": {},
   "outputs": [],
   "source": [
    "submission = pd.DataFrame(test['LNR'].copy())\n",
    "test.drop('LNR', axis=1, inplace=True)\n",
    "\n",
    "predictions = lgb_clf.predict(test)\n",
    "submission['RESPONSE'] = predictions"
   ]
  },
  {
   "cell_type": "code",
   "execution_count": 119,
   "metadata": {},
   "outputs": [
    {
     "data": {
      "text/html": [
       "<div>\n",
       "<style scoped>\n",
       "    .dataframe tbody tr th:only-of-type {\n",
       "        vertical-align: middle;\n",
       "    }\n",
       "\n",
       "    .dataframe tbody tr th {\n",
       "        vertical-align: top;\n",
       "    }\n",
       "\n",
       "    .dataframe thead th {\n",
       "        text-align: right;\n",
       "    }\n",
       "</style>\n",
       "<table border=\"1\" class=\"dataframe\">\n",
       "  <thead>\n",
       "    <tr style=\"text-align: right;\">\n",
       "      <th></th>\n",
       "      <th>RESPONSE</th>\n",
       "    </tr>\n",
       "    <tr>\n",
       "      <th>LNR</th>\n",
       "      <th></th>\n",
       "    </tr>\n",
       "  </thead>\n",
       "  <tbody>\n",
       "    <tr>\n",
       "      <th>1754</th>\n",
       "      <td>1</td>\n",
       "    </tr>\n",
       "    <tr>\n",
       "      <th>1770</th>\n",
       "      <td>1</td>\n",
       "    </tr>\n",
       "    <tr>\n",
       "      <th>1465</th>\n",
       "      <td>0</td>\n",
       "    </tr>\n",
       "    <tr>\n",
       "      <th>1470</th>\n",
       "      <td>0</td>\n",
       "    </tr>\n",
       "    <tr>\n",
       "      <th>1478</th>\n",
       "      <td>0</td>\n",
       "    </tr>\n",
       "  </tbody>\n",
       "</table>\n",
       "</div>"
      ],
      "text/plain": [
       "      RESPONSE\n",
       "LNR           \n",
       "1754         1\n",
       "1770         1\n",
       "1465         0\n",
       "1470         0\n",
       "1478         0"
      ]
     },
     "execution_count": 119,
     "metadata": {},
     "output_type": "execute_result"
    }
   ],
   "source": [
    "submission.index = submission['LNR']\n",
    "submission.drop('LNR', axis=1, inplace=True)"
   ]
  },
  {
   "cell_type": "code",
   "execution_count": 120,
   "metadata": {},
   "outputs": [],
   "source": [
    "submission.to_csv('submission.csv')"
   ]
  },
  {
   "cell_type": "markdown",
   "metadata": {},
   "source": [
    "#### Submission 2"
   ]
  },
  {
   "cell_type": "code",
   "execution_count": 147,
   "metadata": {},
   "outputs": [],
   "source": [
    "submission2 = pd.DataFrame(submission.index)\n",
    "predictions = lgbm_reg.predict(test)\n",
    "submission2['RESPONSE'] = predictions\n",
    "\n",
    "submission2.to_csv('submission2.csv')"
   ]
  },
  {
   "cell_type": "code",
   "execution_count": 146,
   "metadata": {},
   "outputs": [],
   "source": [
    "submission2.index = submission2['LNR']\n",
    "submission2.drop('LNR', axis=1, inplace=True)"
   ]
  },
  {
   "cell_type": "code",
   "execution_count": 166,
   "metadata": {},
   "outputs": [],
   "source": [
    "submission3 = pd.DataFrame(submission.index)\n",
    "predictions = lgbm_reg.predict(test)\n",
    "submission3['RESPONSE'] = predictions\n",
    "submission3.index = submission3['LNR']\n",
    "submission3.drop('LNR', axis=1, inplace=True)\n",
    "submission3.to_csv('submission3.csv')"
   ]
  },
  {
   "cell_type": "markdown",
   "metadata": {},
   "source": [
    "<img src='utils/Submission-Udacity+Arvato Identify Customer Segments Kaggle.png'>"
   ]
  }
 ],
 "metadata": {
  "kernelspec": {
   "display_name": "Python 3",
   "language": "python",
   "name": "python3"
  },
  "language_info": {
   "codemirror_mode": {
    "name": "ipython",
    "version": 3
   },
   "file_extension": ".py",
   "mimetype": "text/x-python",
   "name": "python",
   "nbconvert_exporter": "python",
   "pygments_lexer": "ipython3",
   "version": "3.7.3"
  }
 },
 "nbformat": 4,
 "nbformat_minor": 4
}
