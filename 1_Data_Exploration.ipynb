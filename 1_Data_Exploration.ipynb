{
 "cells": [
  {
   "cell_type": "markdown",
   "metadata": {},
   "source": [
    "# Bertelsmann-Arvato Customer Segmentation\n",
    "## Data Exploration \n",
    "\n",
    "The first step in working with any dataset is loading the data in and noting what information is included in the dataset. This is an important step in eventually working with any data, and knowing what kinds of features we have to work with.\n",
    "In this notebook, we'll explore the data and observe the patterns in the data.\n",
    "\n",
    "<ol>\n",
    "    <li> Read data</li>\n",
    "    <li> Study each attribute and it's characteristics:\n",
    "        <ul>\n",
    "        <li> Name</li>\n",
    "        <li> Type</li>\n",
    "        <li> Missing values</li>\n",
    "        <li> Noisiness and type (stochastic, outliers, rounding errors, etc)</li>\n",
    "        <li> Type of distribution</li>\n",
    "        </ul>\n",
    "    </li>\n",
    "    <li> Identify target attributes</li>\n",
    "    <li> Visualize the data</li>\n",
    "    <li> Study correlation between attributes</li>\n",
    "    <li> Identify promissing transformations</li>\n",
    "</ol>\n",
    "\n",
    "<hr>"
   ]
  },
  {
   "cell_type": "code",
   "execution_count": 1,
   "metadata": {},
   "outputs": [],
   "source": [
    "import os\n",
    "import gc\n",
    "\n",
    "import numpy as np\n",
    "import pandas as pd\n",
    "import matplotlib.pyplot as plt\n",
    "import seaborn as sns\n",
    "\n",
    "import helpers\n",
    "\n",
    "%matplotlib inline"
   ]
  },
  {
   "cell_type": "markdown",
   "metadata": {},
   "source": [
    "\n",
    "### Read Data"
   ]
  },
  {
   "cell_type": "code",
   "execution_count": 2,
   "metadata": {},
   "outputs": [
    {
     "name": "stdout",
     "output_type": "stream",
     "text": [
      "Reading data...\n",
      "Changing datatypes..\n",
      "Completed!\n"
     ]
    }
   ],
   "source": [
    "azdias, customers, attributes, information = helpers.read_data()"
   ]
  },
  {
   "cell_type": "code",
   "execution_count": 3,
   "metadata": {},
   "outputs": [],
   "source": [
    "os.mkdir('Data/pickle')"
   ]
  },
  {
   "cell_type": "code",
   "execution_count": 4,
   "metadata": {},
   "outputs": [],
   "source": [
    "azdias.to_pickle('Data/pickle/azdias.pkl')\n",
    "customers.to_pickle('Data/pickle/customers.pkl')"
   ]
  },
  {
   "cell_type": "code",
   "execution_count": 6,
   "metadata": {},
   "outputs": [],
   "source": [
    "azdias = pd.read_pickle('Data/pickle/azdias.pkl')\n",
    "customers = pd.read_pickle('Data/pickle/customers.pkl')"
   ]
  },
  {
   "cell_type": "code",
   "execution_count": 7,
   "metadata": {},
   "outputs": [
    {
     "name": "stdout",
     "output_type": "stream",
     "text": [
      "AZDIAS\n",
      " Rows: 891221\tColumns: 366\n",
      "CUSTOMER\n",
      " Rows: 191652\tColumns: 369\n"
     ]
    }
   ],
   "source": [
    "# number of rows and columns in dataset\n",
    "AZDIAS_ROWS = 891221     # azdias.index.size.compute()\n",
    "AZDIAS_COLS = 366        # azdias.columns.size\n",
    "CUSTOMERS_ROWS = 191652  # customers.index.size.compute()\n",
    "CUSTOMERS_COLS = 369     # customers.columns.size\n",
    "\n",
    "\n",
    "print(\"AZDIAS\\n Rows: {}\\tColumns: {}\".format(AZDIAS_ROWS, AZDIAS_COLS))\n",
    "print(\"CUSTOMER\\n Rows: {}\\tColumns: {}\".format(CUSTOMERS_ROWS, CUSTOMERS_COLS))"
   ]
  },
  {
   "cell_type": "code",
   "execution_count": 8,
   "metadata": {},
   "outputs": [
    {
     "data": {
      "text/html": [
       "<div>\n",
       "<style scoped>\n",
       "    .dataframe tbody tr th:only-of-type {\n",
       "        vertical-align: middle;\n",
       "    }\n",
       "\n",
       "    .dataframe tbody tr th {\n",
       "        vertical-align: top;\n",
       "    }\n",
       "\n",
       "    .dataframe thead th {\n",
       "        text-align: right;\n",
       "    }\n",
       "</style>\n",
       "<table border=\"1\" class=\"dataframe\">\n",
       "  <thead>\n",
       "    <tr style=\"text-align: right;\">\n",
       "      <th></th>\n",
       "      <th>LNR</th>\n",
       "      <th>AGER_TYP</th>\n",
       "      <th>AKT_DAT_KL</th>\n",
       "      <th>ALTER_HH</th>\n",
       "      <th>ALTER_KIND1</th>\n",
       "      <th>ALTER_KIND2</th>\n",
       "      <th>ALTER_KIND3</th>\n",
       "      <th>ALTER_KIND4</th>\n",
       "      <th>ALTERSKATEGORIE_FEIN</th>\n",
       "      <th>ANZ_HAUSHALTE_AKTIV</th>\n",
       "      <th>...</th>\n",
       "      <th>VHN</th>\n",
       "      <th>VK_DHT4A</th>\n",
       "      <th>VK_DISTANZ</th>\n",
       "      <th>VK_ZG11</th>\n",
       "      <th>W_KEIT_KIND_HH</th>\n",
       "      <th>WOHNDAUER_2008</th>\n",
       "      <th>WOHNLAGE</th>\n",
       "      <th>ZABEOTYP</th>\n",
       "      <th>ANREDE_KZ</th>\n",
       "      <th>ALTERSKATEGORIE_GROB</th>\n",
       "    </tr>\n",
       "  </thead>\n",
       "  <tbody>\n",
       "    <tr>\n",
       "      <th>0</th>\n",
       "      <td>910215</td>\n",
       "      <td>-1</td>\n",
       "      <td>NaN</td>\n",
       "      <td>NaN</td>\n",
       "      <td>NaN</td>\n",
       "      <td>NaN</td>\n",
       "      <td>NaN</td>\n",
       "      <td>NaN</td>\n",
       "      <td>NaN</td>\n",
       "      <td>NaN</td>\n",
       "      <td>...</td>\n",
       "      <td>NaN</td>\n",
       "      <td>NaN</td>\n",
       "      <td>NaN</td>\n",
       "      <td>NaN</td>\n",
       "      <td>NaN</td>\n",
       "      <td>NaN</td>\n",
       "      <td>NaN</td>\n",
       "      <td>3</td>\n",
       "      <td>1</td>\n",
       "      <td>2</td>\n",
       "    </tr>\n",
       "    <tr>\n",
       "      <th>1</th>\n",
       "      <td>910220</td>\n",
       "      <td>-1</td>\n",
       "      <td>9.0</td>\n",
       "      <td>0.0</td>\n",
       "      <td>NaN</td>\n",
       "      <td>NaN</td>\n",
       "      <td>NaN</td>\n",
       "      <td>NaN</td>\n",
       "      <td>21.0</td>\n",
       "      <td>11.0</td>\n",
       "      <td>...</td>\n",
       "      <td>4.0</td>\n",
       "      <td>8.0</td>\n",
       "      <td>11.0</td>\n",
       "      <td>10.0</td>\n",
       "      <td>3.0</td>\n",
       "      <td>9.0</td>\n",
       "      <td>4.0</td>\n",
       "      <td>5</td>\n",
       "      <td>2</td>\n",
       "      <td>1</td>\n",
       "    </tr>\n",
       "    <tr>\n",
       "      <th>2</th>\n",
       "      <td>910225</td>\n",
       "      <td>-1</td>\n",
       "      <td>9.0</td>\n",
       "      <td>17.0</td>\n",
       "      <td>NaN</td>\n",
       "      <td>NaN</td>\n",
       "      <td>NaN</td>\n",
       "      <td>NaN</td>\n",
       "      <td>17.0</td>\n",
       "      <td>10.0</td>\n",
       "      <td>...</td>\n",
       "      <td>2.0</td>\n",
       "      <td>9.0</td>\n",
       "      <td>9.0</td>\n",
       "      <td>6.0</td>\n",
       "      <td>3.0</td>\n",
       "      <td>9.0</td>\n",
       "      <td>2.0</td>\n",
       "      <td>5</td>\n",
       "      <td>2</td>\n",
       "      <td>3</td>\n",
       "    </tr>\n",
       "    <tr>\n",
       "      <th>3</th>\n",
       "      <td>910226</td>\n",
       "      <td>2</td>\n",
       "      <td>1.0</td>\n",
       "      <td>13.0</td>\n",
       "      <td>NaN</td>\n",
       "      <td>NaN</td>\n",
       "      <td>NaN</td>\n",
       "      <td>NaN</td>\n",
       "      <td>13.0</td>\n",
       "      <td>1.0</td>\n",
       "      <td>...</td>\n",
       "      <td>0.0</td>\n",
       "      <td>7.0</td>\n",
       "      <td>10.0</td>\n",
       "      <td>11.0</td>\n",
       "      <td>NaN</td>\n",
       "      <td>9.0</td>\n",
       "      <td>7.0</td>\n",
       "      <td>3</td>\n",
       "      <td>2</td>\n",
       "      <td>4</td>\n",
       "    </tr>\n",
       "    <tr>\n",
       "      <th>4</th>\n",
       "      <td>910241</td>\n",
       "      <td>-1</td>\n",
       "      <td>1.0</td>\n",
       "      <td>20.0</td>\n",
       "      <td>NaN</td>\n",
       "      <td>NaN</td>\n",
       "      <td>NaN</td>\n",
       "      <td>NaN</td>\n",
       "      <td>14.0</td>\n",
       "      <td>3.0</td>\n",
       "      <td>...</td>\n",
       "      <td>2.0</td>\n",
       "      <td>3.0</td>\n",
       "      <td>5.0</td>\n",
       "      <td>4.0</td>\n",
       "      <td>2.0</td>\n",
       "      <td>9.0</td>\n",
       "      <td>3.0</td>\n",
       "      <td>4</td>\n",
       "      <td>1</td>\n",
       "      <td>3</td>\n",
       "    </tr>\n",
       "  </tbody>\n",
       "</table>\n",
       "<p>5 rows × 366 columns</p>\n",
       "</div>"
      ],
      "text/plain": [
       "      LNR  AGER_TYP  AKT_DAT_KL  ALTER_HH  ALTER_KIND1  ALTER_KIND2  \\\n",
       "0  910215        -1         NaN       NaN          NaN          NaN   \n",
       "1  910220        -1         9.0       0.0          NaN          NaN   \n",
       "2  910225        -1         9.0      17.0          NaN          NaN   \n",
       "3  910226         2         1.0      13.0          NaN          NaN   \n",
       "4  910241        -1         1.0      20.0          NaN          NaN   \n",
       "\n",
       "   ALTER_KIND3  ALTER_KIND4  ALTERSKATEGORIE_FEIN  ANZ_HAUSHALTE_AKTIV  ...  \\\n",
       "0          NaN          NaN                   NaN                  NaN  ...   \n",
       "1          NaN          NaN                  21.0                 11.0  ...   \n",
       "2          NaN          NaN                  17.0                 10.0  ...   \n",
       "3          NaN          NaN                  13.0                  1.0  ...   \n",
       "4          NaN          NaN                  14.0                  3.0  ...   \n",
       "\n",
       "   VHN  VK_DHT4A  VK_DISTANZ  VK_ZG11  W_KEIT_KIND_HH  WOHNDAUER_2008  \\\n",
       "0  NaN       NaN         NaN      NaN             NaN             NaN   \n",
       "1  4.0       8.0        11.0     10.0             3.0             9.0   \n",
       "2  2.0       9.0         9.0      6.0             3.0             9.0   \n",
       "3  0.0       7.0        10.0     11.0             NaN             9.0   \n",
       "4  2.0       3.0         5.0      4.0             2.0             9.0   \n",
       "\n",
       "   WOHNLAGE ZABEOTYP ANREDE_KZ ALTERSKATEGORIE_GROB  \n",
       "0       NaN        3         1                    2  \n",
       "1       4.0        5         2                    1  \n",
       "2       2.0        5         2                    3  \n",
       "3       7.0        3         2                    4  \n",
       "4       3.0        4         1                    3  \n",
       "\n",
       "[5 rows x 366 columns]"
      ]
     },
     "execution_count": 8,
     "metadata": {},
     "output_type": "execute_result"
    }
   ],
   "source": [
    "azdias.head()"
   ]
  },
  {
   "cell_type": "markdown",
   "metadata": {},
   "source": [
    "#### **Attributes:**\n",
    "\n",
    "First, we'll analyze meta-data and understand various attributes in our dataset."
   ]
  },
  {
   "cell_type": "code",
   "execution_count": 9,
   "metadata": {},
   "outputs": [
    {
     "data": {
      "text/html": [
       "<div>\n",
       "<style scoped>\n",
       "    .dataframe tbody tr th:only-of-type {\n",
       "        vertical-align: middle;\n",
       "    }\n",
       "\n",
       "    .dataframe tbody tr th {\n",
       "        vertical-align: top;\n",
       "    }\n",
       "\n",
       "    .dataframe thead th {\n",
       "        text-align: right;\n",
       "    }\n",
       "</style>\n",
       "<table border=\"1\" class=\"dataframe\">\n",
       "  <thead>\n",
       "    <tr style=\"text-align: right;\">\n",
       "      <th></th>\n",
       "      <th>Attribute</th>\n",
       "      <th>Description</th>\n",
       "      <th>Value</th>\n",
       "      <th>Meaning</th>\n",
       "    </tr>\n",
       "  </thead>\n",
       "  <tbody>\n",
       "    <tr>\n",
       "      <th>0</th>\n",
       "      <td>AGER_TYP</td>\n",
       "      <td>best-ager typology</td>\n",
       "      <td>-1</td>\n",
       "      <td>unknown</td>\n",
       "    </tr>\n",
       "    <tr>\n",
       "      <th>1</th>\n",
       "      <td>NaN</td>\n",
       "      <td>NaN</td>\n",
       "      <td>0</td>\n",
       "      <td>no classification possible</td>\n",
       "    </tr>\n",
       "    <tr>\n",
       "      <th>2</th>\n",
       "      <td>NaN</td>\n",
       "      <td>NaN</td>\n",
       "      <td>1</td>\n",
       "      <td>passive elderly</td>\n",
       "    </tr>\n",
       "    <tr>\n",
       "      <th>3</th>\n",
       "      <td>NaN</td>\n",
       "      <td>NaN</td>\n",
       "      <td>2</td>\n",
       "      <td>cultural elderly</td>\n",
       "    </tr>\n",
       "    <tr>\n",
       "      <th>4</th>\n",
       "      <td>NaN</td>\n",
       "      <td>NaN</td>\n",
       "      <td>3</td>\n",
       "      <td>experience-driven elderly</td>\n",
       "    </tr>\n",
       "  </tbody>\n",
       "</table>\n",
       "</div>"
      ],
      "text/plain": [
       "  Attribute         Description Value                     Meaning\n",
       "0  AGER_TYP  best-ager typology    -1                     unknown\n",
       "1       NaN                 NaN     0  no classification possible\n",
       "2       NaN                 NaN     1             passive elderly\n",
       "3       NaN                 NaN     2            cultural elderly\n",
       "4       NaN                 NaN     3   experience-driven elderly"
      ]
     },
     "execution_count": 9,
     "metadata": {},
     "output_type": "execute_result"
    }
   ],
   "source": [
    "attributes.head()"
   ]
  },
  {
   "cell_type": "code",
   "execution_count": 10,
   "metadata": {},
   "outputs": [
    {
     "data": {
      "text/html": [
       "<div>\n",
       "<style scoped>\n",
       "    .dataframe tbody tr th:only-of-type {\n",
       "        vertical-align: middle;\n",
       "    }\n",
       "\n",
       "    .dataframe tbody tr th {\n",
       "        vertical-align: top;\n",
       "    }\n",
       "\n",
       "    .dataframe thead th {\n",
       "        text-align: right;\n",
       "    }\n",
       "</style>\n",
       "<table border=\"1\" class=\"dataframe\">\n",
       "  <thead>\n",
       "    <tr style=\"text-align: right;\">\n",
       "      <th></th>\n",
       "      <th>Attribute</th>\n",
       "      <th>Description</th>\n",
       "      <th>Value</th>\n",
       "      <th>Meaning</th>\n",
       "    </tr>\n",
       "  </thead>\n",
       "  <tbody>\n",
       "    <tr>\n",
       "      <th>0</th>\n",
       "      <td>AGER_TYP</td>\n",
       "      <td>best-ager typology</td>\n",
       "      <td>-1</td>\n",
       "      <td>unknown</td>\n",
       "    </tr>\n",
       "    <tr>\n",
       "      <th>1</th>\n",
       "      <td>AGER_TYP</td>\n",
       "      <td>best-ager typology</td>\n",
       "      <td>0</td>\n",
       "      <td>no classification possible</td>\n",
       "    </tr>\n",
       "    <tr>\n",
       "      <th>2</th>\n",
       "      <td>AGER_TYP</td>\n",
       "      <td>best-ager typology</td>\n",
       "      <td>1</td>\n",
       "      <td>passive elderly</td>\n",
       "    </tr>\n",
       "    <tr>\n",
       "      <th>3</th>\n",
       "      <td>AGER_TYP</td>\n",
       "      <td>best-ager typology</td>\n",
       "      <td>2</td>\n",
       "      <td>cultural elderly</td>\n",
       "    </tr>\n",
       "    <tr>\n",
       "      <th>4</th>\n",
       "      <td>AGER_TYP</td>\n",
       "      <td>best-ager typology</td>\n",
       "      <td>3</td>\n",
       "      <td>experience-driven elderly</td>\n",
       "    </tr>\n",
       "    <tr>\n",
       "      <th>5</th>\n",
       "      <td>ALTERSKATEGORIE_GROB</td>\n",
       "      <td>age classification through prename analysis</td>\n",
       "      <td>-1, 0</td>\n",
       "      <td>unknown</td>\n",
       "    </tr>\n",
       "    <tr>\n",
       "      <th>6</th>\n",
       "      <td>ALTERSKATEGORIE_GROB</td>\n",
       "      <td>age classification through prename analysis</td>\n",
       "      <td>1</td>\n",
       "      <td>&lt; 30 years</td>\n",
       "    </tr>\n",
       "    <tr>\n",
       "      <th>7</th>\n",
       "      <td>ALTERSKATEGORIE_GROB</td>\n",
       "      <td>age classification through prename analysis</td>\n",
       "      <td>2</td>\n",
       "      <td>30 - 45 years</td>\n",
       "    </tr>\n",
       "    <tr>\n",
       "      <th>8</th>\n",
       "      <td>ALTERSKATEGORIE_GROB</td>\n",
       "      <td>age classification through prename analysis</td>\n",
       "      <td>3</td>\n",
       "      <td>46 - 60 years</td>\n",
       "    </tr>\n",
       "    <tr>\n",
       "      <th>9</th>\n",
       "      <td>ALTERSKATEGORIE_GROB</td>\n",
       "      <td>age classification through prename analysis</td>\n",
       "      <td>4</td>\n",
       "      <td>&gt; 60 years</td>\n",
       "    </tr>\n",
       "    <tr>\n",
       "      <th>10</th>\n",
       "      <td>ALTERSKATEGORIE_GROB</td>\n",
       "      <td>age classification through prename analysis</td>\n",
       "      <td>9</td>\n",
       "      <td>uniformly distributed</td>\n",
       "    </tr>\n",
       "    <tr>\n",
       "      <th>11</th>\n",
       "      <td>ALTER_HH</td>\n",
       "      <td>main age within the household</td>\n",
       "      <td>0</td>\n",
       "      <td>unknown / no main age detectable</td>\n",
       "    </tr>\n",
       "    <tr>\n",
       "      <th>12</th>\n",
       "      <td>ALTER_HH</td>\n",
       "      <td>main age within the household</td>\n",
       "      <td>1</td>\n",
       "      <td>01.01.1895 bis 31.12.1899</td>\n",
       "    </tr>\n",
       "    <tr>\n",
       "      <th>13</th>\n",
       "      <td>ALTER_HH</td>\n",
       "      <td>main age within the household</td>\n",
       "      <td>2</td>\n",
       "      <td>01.01.1900 bis 31.12.1904</td>\n",
       "    </tr>\n",
       "    <tr>\n",
       "      <th>14</th>\n",
       "      <td>ALTER_HH</td>\n",
       "      <td>main age within the household</td>\n",
       "      <td>3</td>\n",
       "      <td>01.01.1905 bis 31.12.1909</td>\n",
       "    </tr>\n",
       "    <tr>\n",
       "      <th>15</th>\n",
       "      <td>ALTER_HH</td>\n",
       "      <td>main age within the household</td>\n",
       "      <td>4</td>\n",
       "      <td>01.01.1910 bis 31.12.1914</td>\n",
       "    </tr>\n",
       "    <tr>\n",
       "      <th>16</th>\n",
       "      <td>ALTER_HH</td>\n",
       "      <td>main age within the household</td>\n",
       "      <td>5</td>\n",
       "      <td>01.01.1915 bis 31.12.1919</td>\n",
       "    </tr>\n",
       "    <tr>\n",
       "      <th>17</th>\n",
       "      <td>ALTER_HH</td>\n",
       "      <td>main age within the household</td>\n",
       "      <td>6</td>\n",
       "      <td>01.01.1920 bis 31.12.1924</td>\n",
       "    </tr>\n",
       "    <tr>\n",
       "      <th>18</th>\n",
       "      <td>ALTER_HH</td>\n",
       "      <td>main age within the household</td>\n",
       "      <td>7</td>\n",
       "      <td>01.01.1925 bis 31.12.1929</td>\n",
       "    </tr>\n",
       "    <tr>\n",
       "      <th>19</th>\n",
       "      <td>ALTER_HH</td>\n",
       "      <td>main age within the household</td>\n",
       "      <td>8</td>\n",
       "      <td>01.01.1930 bis 31.12.1934</td>\n",
       "    </tr>\n",
       "    <tr>\n",
       "      <th>20</th>\n",
       "      <td>ALTER_HH</td>\n",
       "      <td>main age within the household</td>\n",
       "      <td>9</td>\n",
       "      <td>01.01.1935 bis 31.12.1939</td>\n",
       "    </tr>\n",
       "    <tr>\n",
       "      <th>21</th>\n",
       "      <td>ALTER_HH</td>\n",
       "      <td>main age within the household</td>\n",
       "      <td>10</td>\n",
       "      <td>01.01.1940 bis 31.12.1944</td>\n",
       "    </tr>\n",
       "    <tr>\n",
       "      <th>22</th>\n",
       "      <td>ALTER_HH</td>\n",
       "      <td>main age within the household</td>\n",
       "      <td>11</td>\n",
       "      <td>01.01.1945 bis 31.12.1949</td>\n",
       "    </tr>\n",
       "    <tr>\n",
       "      <th>23</th>\n",
       "      <td>ALTER_HH</td>\n",
       "      <td>main age within the household</td>\n",
       "      <td>12</td>\n",
       "      <td>01.01.1950 bis 31.12.1954</td>\n",
       "    </tr>\n",
       "    <tr>\n",
       "      <th>24</th>\n",
       "      <td>ALTER_HH</td>\n",
       "      <td>main age within the household</td>\n",
       "      <td>13</td>\n",
       "      <td>01.01.1955 bis 31.12.1959</td>\n",
       "    </tr>\n",
       "  </tbody>\n",
       "</table>\n",
       "</div>"
      ],
      "text/plain": [
       "               Attribute                                   Description  Value  \\\n",
       "0               AGER_TYP                            best-ager typology     -1   \n",
       "1               AGER_TYP                            best-ager typology      0   \n",
       "2               AGER_TYP                            best-ager typology      1   \n",
       "3               AGER_TYP                            best-ager typology      2   \n",
       "4               AGER_TYP                            best-ager typology      3   \n",
       "5   ALTERSKATEGORIE_GROB  age classification through prename analysis   -1, 0   \n",
       "6   ALTERSKATEGORIE_GROB  age classification through prename analysis       1   \n",
       "7   ALTERSKATEGORIE_GROB  age classification through prename analysis       2   \n",
       "8   ALTERSKATEGORIE_GROB  age classification through prename analysis       3   \n",
       "9   ALTERSKATEGORIE_GROB  age classification through prename analysis       4   \n",
       "10  ALTERSKATEGORIE_GROB  age classification through prename analysis       9   \n",
       "11              ALTER_HH                 main age within the household      0   \n",
       "12              ALTER_HH                 main age within the household      1   \n",
       "13              ALTER_HH                 main age within the household      2   \n",
       "14              ALTER_HH                 main age within the household      3   \n",
       "15              ALTER_HH                 main age within the household      4   \n",
       "16              ALTER_HH                 main age within the household      5   \n",
       "17              ALTER_HH                 main age within the household      6   \n",
       "18              ALTER_HH                 main age within the household      7   \n",
       "19              ALTER_HH                 main age within the household      8   \n",
       "20              ALTER_HH                 main age within the household      9   \n",
       "21              ALTER_HH                 main age within the household     10   \n",
       "22              ALTER_HH                 main age within the household     11   \n",
       "23              ALTER_HH                 main age within the household     12   \n",
       "24              ALTER_HH                 main age within the household     13   \n",
       "\n",
       "                             Meaning  \n",
       "0                            unknown  \n",
       "1         no classification possible  \n",
       "2                    passive elderly  \n",
       "3                   cultural elderly  \n",
       "4          experience-driven elderly  \n",
       "5                            unknown  \n",
       "6                         < 30 years  \n",
       "7                      30 - 45 years  \n",
       "8                      46 - 60 years  \n",
       "9                         > 60 years  \n",
       "10             uniformly distributed  \n",
       "11  unknown / no main age detectable  \n",
       "12         01.01.1895 bis 31.12.1899  \n",
       "13         01.01.1900 bis 31.12.1904  \n",
       "14         01.01.1905 bis 31.12.1909  \n",
       "15         01.01.1910 bis 31.12.1914  \n",
       "16         01.01.1915 bis 31.12.1919  \n",
       "17         01.01.1920 bis 31.12.1924  \n",
       "18         01.01.1925 bis 31.12.1929  \n",
       "19         01.01.1930 bis 31.12.1934  \n",
       "20         01.01.1935 bis 31.12.1939  \n",
       "21         01.01.1940 bis 31.12.1944  \n",
       "22         01.01.1945 bis 31.12.1949  \n",
       "23         01.01.1950 bis 31.12.1954  \n",
       "24         01.01.1955 bis 31.12.1959  "
      ]
     },
     "execution_count": 10,
     "metadata": {},
     "output_type": "execute_result"
    }
   ],
   "source": [
    "attributes.ffill(inplace=True) # Fill the NaN rows with description or attribute\n",
    "attributes['Value'] = attributes['Value'].astype('str') # Changing datatype from object to str\n",
    "\n",
    "attributes.head(25)"
   ]
  },
  {
   "cell_type": "code",
   "execution_count": 11,
   "metadata": {},
   "outputs": [
    {
     "name": "stdout",
     "output_type": "stream",
     "text": [
      "Total number of unique attributes given to us in meta data:  314\n",
      "Total number of unique attributes in AZDIAS data:  366\n",
      "Total number of unique attributes in CUSTOMERS data:  369\n"
     ]
    }
   ],
   "source": [
    "# unique attributes given in attributes dataframe (meta-data)\n",
    "META_ATTRITBUTES = attributes['Attribute'].unique()\n",
    "\n",
    "print(\"Total number of unique attributes given to us in meta data: \", len(META_ATTRITBUTES))\n",
    "print(\"Total number of unique attributes in AZDIAS data: \", AZDIAS_COLS)\n",
    "print(\"Total number of unique attributes in CUSTOMERS data: \", CUSTOMERS_COLS)"
   ]
  },
  {
   "cell_type": "markdown",
   "metadata": {},
   "source": [
    "\n",
    "The number of attributes given is not same in the three datasets. This means some of the attributes were not important enough to be included in the meta data."
   ]
  },
  {
   "cell_type": "code",
   "execution_count": 12,
   "metadata": {},
   "outputs": [
    {
     "name": "stdout",
     "output_type": "stream",
     "text": [
      "Number of attributes common between Customer and AZDIAS: 366\n",
      "Number of attributes exclusive to Customer: 3\n",
      "Attributes exclusive to CUSTOMERS: ['ONLINE_PURCHASE', 'CUSTOMER_GROUP', 'PRODUCT_GROUP']\n"
     ]
    }
   ],
   "source": [
    "# Finding common attributes bettween AZDIAS and Customers\n",
    "comm_attr = list(set(customers.columns).intersection(azdias.columns))\n",
    "diff_attr = list(set(customers.columns).difference(azdias.columns))\n",
    "\n",
    "print(\"Number of attributes common between Customer and AZDIAS: {}\".format(len(comm_attr)))\n",
    "print(\"Number of attributes exclusive to Customer: {}\".format(len(diff_attr)))\n",
    "print(\"Attributes exclusive to CUSTOMERS: {}\".format(diff_attr))"
   ]
  },
  {
   "cell_type": "markdown",
   "metadata": {},
   "source": [
    "ONLINE_PURCHASE, PRODUCT_GROUP and CUSTOMER_GROUP are the attributes which are not in AZDIAS dataframe, but both datasets share rest of the features.\n",
    "\n",
    "Now, we'll look at how much of the attributes actually intersect with meta data attribute list."
   ]
  },
  {
   "cell_type": "code",
   "execution_count": 13,
   "metadata": {},
   "outputs": [
    {
     "name": "stdout",
     "output_type": "stream",
     "text": [
      "Len of attributes common to all the 3 tables:  272\n",
      "Len of attributes present common in CUSTOMERS and Meta data attributes: 272\n",
      "Len of attributes present in CUSTOMERS but not Meta: 97\n",
      "Len of attributes present in Meta but not CUSTOMERS: 42\n"
     ]
    }
   ],
   "source": [
    "attr_common_all = set(comm_attr).intersection(META_ATTRITBUTES) # attributes common to all 3 talbes\n",
    "attr_common_customers = set(customers.columns).intersection(META_ATTRITBUTES)\n",
    "attr_cust_ex_meta = set(customers.columns).difference(META_ATTRITBUTES)\n",
    "attr_meta_ex_cust = set(META_ATTRITBUTES).difference(customers.columns)\n",
    "\n",
    "print(\"Len of attributes common to all the 3 tables: \", len(attr_common_all))\n",
    "print(\"Len of attributes present common in CUSTOMERS and Meta data attributes:\", len(attr_common_customers))\n",
    "print(\"Len of attributes present in CUSTOMERS but not Meta:\", len(attr_cust_ex_meta))\n",
    "print(\"Len of attributes present in Meta but not CUSTOMERS:\", len(attr_meta_ex_cust))"
   ]
  },
  {
   "cell_type": "markdown",
   "metadata": {},
   "source": [
    "There are 97 attributes in customers data that are not present in meta-data. Now, let's see what attributes are these."
   ]
  },
  {
   "cell_type": "code",
   "execution_count": 14,
   "metadata": {},
   "outputs": [
    {
     "name": "stdout",
     "output_type": "stream",
     "text": [
      "Attributes exclusive to CUSTOMERS data: ANZ_STATISTISCHE_HAUSHALTE\n",
      "D19_KONSUMTYP_MAX\n",
      "KBA13_ANTG1\n",
      "D19_VERSAND_REST\n",
      "D19_TIERARTIKEL\n",
      "D19_BUCH_CD\n",
      "D19_VERSI_ONLINE_DATUM\n",
      "D19_BANKEN_GROSS\n",
      "ALTER_KIND3\n",
      "D19_WEIN_FEINKOST\n",
      "D19_KINDERARTIKEL\n",
      "D19_DIGIT_SERV\n",
      "KBA13_KMH_210\n",
      "SOHO_KZ\n",
      "CUSTOMER_GROUP\n",
      "D19_NAHRUNGSERGAENZUNG\n",
      "EINGEFUEGT_AM\n",
      "CJT_TYP_4\n",
      "D19_TELKO_REST\n",
      "D19_BANKEN_REST\n",
      "VERDICHTUNGSRAUM\n",
      "D19_TELKO_MOBILE\n",
      "D19_VERSI_OFFLINE_DATUM\n",
      "D19_SONSTIGE\n",
      "ARBEIT\n",
      "KK_KUNDENTYP\n",
      "D19_BANKEN_DIREKT\n",
      "D19_VERSI_ONLINE_QUOTE_12\n",
      "KBA13_ANTG4\n",
      "CJT_TYP_1\n",
      "KBA13_ANTG2\n",
      "KOMBIALTER\n",
      "D19_RATGEBER\n",
      "D19_HAUS_DEKO\n",
      "RT_UEBERGROESSE\n",
      "KBA13_BAUMAX\n",
      "UMFELD_ALT\n",
      "RT_SCHNAEPPCHEN\n",
      "RT_KEIN_ANREIZ\n",
      "ALTER_KIND2\n",
      "CAMEO_INTL_2015\n",
      "ONLINE_PURCHASE\n",
      "PRODUCT_GROUP\n",
      "HH_DELTA_FLAG\n",
      "D19_LETZTER_KAUF_BRANCHE\n",
      "D19_TECHNIK\n",
      "D19_KOSMETIK\n",
      "CJT_TYP_2\n",
      "VHN\n",
      "D19_BEKLEIDUNG_GEH\n",
      "DSL_FLAG\n",
      "ALTERSKATEGORIE_FEIN\n",
      "D19_DROGERIEARTIKEL\n",
      "D19_GARTEN\n",
      "KONSUMZELLE\n",
      "KBA13_GBZ\n",
      "KBA13_ANTG3\n",
      "VK_DISTANZ\n",
      "D19_LOTTO\n",
      "ALTER_KIND1\n",
      "ANZ_KINDER\n",
      "D19_VOLLSORTIMENT\n",
      "LNR\n",
      "D19_BIO_OEKO\n",
      "D19_LEBENSMITTEL\n",
      "D19_FREIZEIT\n",
      "VK_DHT4A\n",
      "D19_HANDWERK\n",
      "D19_VERSICHERUNGEN\n",
      "AKT_DAT_KL\n",
      "EINGEZOGENAM_HH_JAHR\n",
      "D19_REISEN\n",
      "D19_TELKO_ONLINE_QUOTE_12\n",
      "D19_BEKLEIDUNG_REST\n",
      "D19_SOZIALES\n",
      "D19_BILDUNG\n",
      "D19_BANKEN_LOKAL\n",
      "D19_SAMMELARTIKEL\n",
      "CJT_KATALOGNUTZER\n",
      "STRUKTURTYP\n",
      "FIRMENDICHTE\n",
      "D19_SCHUHE\n",
      "EXTSEL992\n",
      "MOBI_RASTER\n",
      "CJT_TYP_3\n",
      "KBA13_CCM_1401_2500\n",
      "D19_VERSI_DATUM\n",
      "GEMEINDETYP\n",
      "KBA13_HHZ\n",
      "UNGLEICHENN_FLAG\n",
      "VK_ZG11\n",
      "VHA\n",
      "UMFELD_JUNG\n",
      "ALTER_KIND4\n",
      "CJT_TYP_5\n",
      "CJT_TYP_6\n",
      "D19_ENERGIE\n",
      "\n",
      "\n",
      "Attributes exclusive to Meta data: D19_BILDUNG_RZ\n",
      "D19_NAHRUNGSERGAENZUNG_RZ\n",
      "SOHO_FLAG\n",
      "D19_RATGEBER_RZ\n",
      "D19_BEKLEIDUNG_REST_RZ\n",
      "D19_KOSMETIK_RZ\n",
      "D19_REISEN_RZ\n",
      "D19_GARTEN_RZ\n",
      "D19_SCHUHE_RZ\n",
      "D19_VERSICHERUNGEN_RZ\n",
      "D19_BUCH_RZ\n",
      "D19_FREIZEIT_RZ\n",
      "D19_BANKEN_GROSS_RZ\n",
      "D19_VERSAND_REST_RZ\n",
      "D19_LOTTO_RZ\n",
      "D19_BIO_OEKO_RZ\n",
      "BIP_FLAG\n",
      "HAUSHALTSSTRUKTUR\n",
      "D19_LEBENSMITTEL_RZ\n",
      "D19_HANDWERK_RZ\n",
      "D19_TELKO_REST_RZ\n",
      "D19_BANKEN_REST_RZ\n",
      "CAMEO_DEUINTL_2015\n",
      "GEOSCORE_KLS7\n",
      "D19_VOLLSORTIMENT_RZ\n",
      "D19_SAMMELARTIKEL_RZ\n",
      "KBA13_CCM_1400_2500\n",
      "D19_DROGERIEARTIKEL_RZ\n",
      "D19_TELKO_MOBILE_RZ\n",
      "D19_SONSTIGE_RZ\n",
      "D19_BANKEN_LOKAL_RZ\n",
      "D19_TECHNIK_RZ\n",
      "D19_KK_KUNDENTYP\n",
      "D19_HAUS_DEKO_RZ\n",
      "D19_WEIN_FEINKOST_RZ\n",
      "D19_KINDERARTIKEL_RZ\n",
      "D19_DIGIT_SERV_RZ\n",
      "WACHSTUMSGEBIET_NB\n",
      "D19_TIERARTIKEL_RZ\n",
      "D19_BANKEN_DIREKT_RZ\n",
      "D19_ENERGIE_RZ\n",
      "D19_BEKLEIDUNG_GEH_RZ\n"
     ]
    }
   ],
   "source": [
    "print(\"Attributes exclusive to CUSTOMERS data:\", \"\\n\".join(list(attr_cust_ex_meta)))\n",
    "print(\"\\n\")\n",
    "print(\"Attributes exclusive to Meta data:\", \"\\n\".join(list(attr_meta_ex_cust)))"
   ]
  },
  {
   "cell_type": "markdown",
   "metadata": {},
   "source": [
    "CAMEO_DEUINTL_2015 in attributes dataset is names as CAMEO_INTL_2015 in customers dataset."
   ]
  },
  {
   "cell_type": "code",
   "execution_count": 15,
   "metadata": {},
   "outputs": [],
   "source": [
    "# deleting variables\n",
    "del(META_ATTRITBUTES)\n",
    "del(comm_attr)\n",
    "del(diff_attr)\n",
    "del(attr_meta_ex_cust)\n",
    "del(attr_common_customers)\n",
    "del(attr_cust_ex_meta)"
   ]
  },
  {
   "cell_type": "markdown",
   "metadata": {},
   "source": [
    "## Missing data\n",
    "\n",
    "### Identifying missing data\n",
    "In this section, we'll identify the missing data which is represented using other values given in meta data other irregularities."
   ]
  },
  {
   "cell_type": "code",
   "execution_count": 16,
   "metadata": {},
   "outputs": [
    {
     "data": {
      "text/plain": [
       "272"
      ]
     },
     "execution_count": 16,
     "metadata": {},
     "output_type": "execute_result"
    }
   ],
   "source": [
    "attributes = attributes.loc[attributes['Attribute'].isin(attr_common_all)]\n",
    "len(attributes.loc[:, 'Attribute'].unique())"
   ]
  },
  {
   "cell_type": "code",
   "execution_count": 17,
   "metadata": {},
   "outputs": [
    {
     "data": {
      "text/plain": [
       "array(['-1', '-1, 0', '0', '-1, 9'], dtype=object)"
      ]
     },
     "execution_count": 17,
     "metadata": {},
     "output_type": "execute_result"
    }
   ],
   "source": [
    "# numbers/values signifying unkown values in datasets\n",
    "attributes.loc[attributes['Meaning'].str.contains('unknown'), 'Value'].unique()"
   ]
  },
  {
   "cell_type": "markdown",
   "metadata": {},
   "source": [
    "We can notice -1, 0 and 9 marked as 'unknown' values. This means other numerical values hold a significance, while these three values might be unknown. Now, we'll try to verify what 0, -1 and 9 individually signify in each attribute."
   ]
  },
  {
   "cell_type": "code",
   "execution_count": 18,
   "metadata": {},
   "outputs": [
    {
     "name": "stdout",
     "output_type": "stream",
     "text": [
      "Keywords for 0:\n",
      "['no classification possible' 'unknown' 'unknown / no main age detectable'\n",
      " '01.01.1940 bis 31.12.1944' '01.01.1990 bis 31.12.1994'\n",
      " 'no transactions known'\n",
      " 'no Online-transactions within the last 12 months'\n",
      " '100% Online-transactions within the last 12 months' 'Connoisseurs'\n",
      " \"doesn't belong to the green avantgarde\" 'classification not possible'\n",
      " 'none' 'no 1-2 family homes' 'no 3-5 family homes' 'no 6-10 family homes'\n",
      " 'no >10 family homes' 'two-generational household'\n",
      " 'multiperson household' 'wealthy single homeowners'\n",
      " 'top earner-couples of higher age'\n",
      " 'average earners of younger age from mulitperson households'\n",
      " 'top earners at retirement age from mulitperson households'\n",
      " 'low-income- and average earners of higher age from mulitperson households'\n",
      " 'top earners ' '80ies - Generation Golf (Mainstream, W)'\n",
      " 'external supplied hedonists ' 'no score calculated']\n",
      "\n",
      "Keywords for -1:\n",
      "['unknown']\n",
      "\n",
      "Keywords for 9:\n",
      "['unknown']\n"
     ]
    }
   ],
   "source": [
    "# Uniquie keywords that 0, -1 and 9(9 from '-1, 9' values) represent in datasets\n",
    "print(\"Keywords for 0:\")\n",
    "print(attributes.loc[attributes['Value'].str.contains('0'), 'Meaning'].unique())\n",
    "print()\n",
    "print(\"Keywords for -1:\")\n",
    "print(attributes.loc[attributes['Value'].str.contains('-1'), 'Meaning'].unique())\n",
    "print()\n",
    "print(\"Keywords for 9:\")\n",
    "print(attributes.loc[attributes['Value'].str.contains('\\D[9]', regex=True), 'Meaning'].unique()) # to find 9 from pattern '-1, 9'"
   ]
  },
  {
   "cell_type": "markdown",
   "metadata": {},
   "source": [
    "-1, 9 (in given form) always represent unkown values, while 0 may hold some value in some cases"
   ]
  },
  {
   "cell_type": "code",
   "execution_count": 19,
   "metadata": {},
   "outputs": [
    {
     "data": {
      "text/plain": [
       "array(['KBA05_ALTER1', 'KBA05_ALTER2', 'KBA05_ALTER3', 'KBA05_ALTER4',\n",
       "       'KBA05_ANHANG', 'KBA05_AUTOQUOT', 'KBA05_CCM1', 'KBA05_CCM2',\n",
       "       'KBA05_CCM3', 'KBA05_CCM4', 'KBA05_DIESEL', 'KBA05_FRAU',\n",
       "       'KBA05_HERST1', 'KBA05_HERST2', 'KBA05_HERST3', 'KBA05_HERST4',\n",
       "       'KBA05_HERST5', 'KBA05_HERSTTEMP', 'KBA05_KRSAQUOT',\n",
       "       'KBA05_KRSHERST1', 'KBA05_KRSHERST2', 'KBA05_KRSHERST3',\n",
       "       'KBA05_KRSKLEIN', 'KBA05_KRSOBER', 'KBA05_KRSVAN', 'KBA05_KRSZUL',\n",
       "       'KBA05_KW1', 'KBA05_KW2', 'KBA05_KW3', 'KBA05_MAXAH',\n",
       "       'KBA05_MAXBJ', 'KBA05_MAXHERST', 'KBA05_MAXSEG', 'KBA05_MAXVORB',\n",
       "       'KBA05_MOD1', 'KBA05_MOD2', 'KBA05_MOD3', 'KBA05_MOD4',\n",
       "       'KBA05_MOD8', 'KBA05_MODTEMP', 'KBA05_MOTOR', 'KBA05_MOTRAD',\n",
       "       'KBA05_SEG1', 'KBA05_SEG10', 'KBA05_SEG2', 'KBA05_SEG3',\n",
       "       'KBA05_SEG4', 'KBA05_SEG5', 'KBA05_SEG6', 'KBA05_SEG7',\n",
       "       'KBA05_SEG8', 'KBA05_SEG9', 'KBA05_VORB0', 'KBA05_VORB1',\n",
       "       'KBA05_VORB2', 'KBA05_ZUL1', 'KBA05_ZUL2', 'KBA05_ZUL3',\n",
       "       'KBA05_ZUL4', 'RELAT_AB', 'SEMIO_DOM', 'SEMIO_ERL', 'SEMIO_FAM',\n",
       "       'SEMIO_KAEM', 'SEMIO_KRIT', 'SEMIO_KULT', 'SEMIO_LUST',\n",
       "       'SEMIO_MAT', 'SEMIO_PFLICHT', 'SEMIO_RAT', 'SEMIO_REL',\n",
       "       'SEMIO_SOZ', 'SEMIO_TRADV', 'SEMIO_VERT', 'ZABEOTYP'], dtype=object)"
      ]
     },
     "execution_count": 19,
     "metadata": {},
     "output_type": "execute_result"
    }
   ],
   "source": [
    "# Attributes where 9 means unknown\n",
    "attributes.loc[attributes['Value'].str.contains('\\D[9]', regex=True), 'Attribute'].unique()"
   ]
  },
  {
   "cell_type": "markdown",
   "metadata": {},
   "source": [
    "There are 75 unique attributes where 9 signify 'unknown' value. These attributes mainly begin with 'KBA05' and 'SEMIO', along with 2 other attributes named 'RELAT_AB' and 'ZABEOTYP'.\n",
    "\n",
    "While reading the data we shuned a warning by setting data type of few columns to 'object' type, now, we'll look into those columns."
   ]
  },
  {
   "cell_type": "code",
   "execution_count": 20,
   "metadata": {},
   "outputs": [
    {
     "name": "stdout",
     "output_type": "stream",
     "text": [
      "CAMEO_DEUG_2015 unique values:\n",
      " [nan '8' '4' '2' '6' '1' '9' '5' '7' '3' 'X']\n",
      "CAMEO_INTL_2015 unique values:\n",
      " [nan '51' '24' '12' '43' '54' '22' '14' '13' '15' '33' '41' '34' '55' '25'\n",
      " '23' '31' '52' '35' '45' '44' '32' 'XX']\n"
     ]
    }
   ],
   "source": [
    "print(\"CAMEO_DEUG_2015 unique values:\\n\", azdias['CAMEO_DEUG_2015'].unique())\n",
    "print(\"CAMEO_INTL_2015 unique values:\\n\", azdias['CAMEO_INTL_2015'].unique())"
   ]
  },
  {
   "cell_type": "markdown",
   "metadata": {},
   "source": [
    "Notice the presence of 'X' and 'XX' in columns. We'll replace this with NaN and also convert the datatype of 'EINGEFUEGT_AM' attribute to datetime type.\n",
    "\n",
    "### Marking missing values\n",
    "In previous section we identified the keywords or values which were being used to mark unknown data. In this section we'll replace those keywords with NaN, to easily proceed further."
   ]
  },
  {
   "cell_type": "code",
   "execution_count": 21,
   "metadata": {},
   "outputs": [],
   "source": [
    "def replace_values(df, values):\n",
    "    \"\"\"Function to replace given values in given columns with nans.\n",
    "    :param df: dataframe to perform operations on\n",
    "    :param values: dictionary of values(key) to be replaced with \n",
    "    nan in the given columns(value)\n",
    "    \n",
    "    :return: dataframe with replaced values\n",
    "    \"\"\"\n",
    "    \n",
    "    for value, cols in values.items():\n",
    "        to_replace = {value: np.nan}\n",
    "        df[cols] = df.loc[:, cols].replace(to_replace)\n",
    "        print(\"Replaced {} with nan in following column(s):{}\".format(value, cols))\n",
    "        \n",
    "    return df"
   ]
  },
  {
   "cell_type": "code",
   "execution_count": 22,
   "metadata": {},
   "outputs": [
    {
     "data": {
      "text/html": [
       "<div>\n",
       "<style scoped>\n",
       "    .dataframe tbody tr th:only-of-type {\n",
       "        vertical-align: middle;\n",
       "    }\n",
       "\n",
       "    .dataframe tbody tr th {\n",
       "        vertical-align: top;\n",
       "    }\n",
       "\n",
       "    .dataframe thead th {\n",
       "        text-align: right;\n",
       "    }\n",
       "</style>\n",
       "<table border=\"1\" class=\"dataframe\">\n",
       "  <thead>\n",
       "    <tr style=\"text-align: right;\">\n",
       "      <th></th>\n",
       "      <th>Attribute</th>\n",
       "      <th>Description</th>\n",
       "      <th>Value</th>\n",
       "      <th>Meaning</th>\n",
       "    </tr>\n",
       "  </thead>\n",
       "  <tbody>\n",
       "    <tr>\n",
       "      <th>0</th>\n",
       "      <td>AGER_TYP</td>\n",
       "      <td>best-ager typology</td>\n",
       "      <td>-1</td>\n",
       "      <td>unknown</td>\n",
       "    </tr>\n",
       "    <tr>\n",
       "      <th>1</th>\n",
       "      <td>AGER_TYP</td>\n",
       "      <td>best-ager typology</td>\n",
       "      <td>0</td>\n",
       "      <td>no classification possible</td>\n",
       "    </tr>\n",
       "    <tr>\n",
       "      <th>2</th>\n",
       "      <td>AGER_TYP</td>\n",
       "      <td>best-ager typology</td>\n",
       "      <td>1</td>\n",
       "      <td>passive elderly</td>\n",
       "    </tr>\n",
       "    <tr>\n",
       "      <th>3</th>\n",
       "      <td>AGER_TYP</td>\n",
       "      <td>best-ager typology</td>\n",
       "      <td>2</td>\n",
       "      <td>cultural elderly</td>\n",
       "    </tr>\n",
       "    <tr>\n",
       "      <th>4</th>\n",
       "      <td>AGER_TYP</td>\n",
       "      <td>best-ager typology</td>\n",
       "      <td>3</td>\n",
       "      <td>experience-driven elderly</td>\n",
       "    </tr>\n",
       "  </tbody>\n",
       "</table>\n",
       "</div>"
      ],
      "text/plain": [
       "  Attribute         Description Value                     Meaning\n",
       "0  AGER_TYP  best-ager typology    -1                     unknown\n",
       "1  AGER_TYP  best-ager typology     0  no classification possible\n",
       "2  AGER_TYP  best-ager typology     1             passive elderly\n",
       "3  AGER_TYP  best-ager typology     2            cultural elderly\n",
       "4  AGER_TYP  best-ager typology     3   experience-driven elderly"
      ]
     },
     "execution_count": 22,
     "metadata": {},
     "output_type": "execute_result"
    }
   ],
   "source": [
    "common_attributes = attributes.loc[attributes['Attribute'].isin(attr_common_all), :]\n",
    "common_attributes.head()"
   ]
  },
  {
   "cell_type": "code",
   "execution_count": 23,
   "metadata": {},
   "outputs": [],
   "source": [
    "cols_X = ['CAMEO_DEUG_2015']\n",
    "cols_XX = ['CAMEO_INTL_2015'] \n",
    "cols_1 = common_attributes.loc[common_attributes['Value'].str.contains('-1'), \n",
    "                    'Attribute'].unique()\n",
    "cols_0 = common_attributes.loc[(common_attributes['Value'].str.contains('0')) & \n",
    "                    (common_attributes['Meaning'].str.contains('unknown')), \n",
    "                    'Attribute'].unique()\n",
    "cols_9 = common_attributes.loc[common_attributes['Value'].str.contains('\\D[9]', \n",
    "                    regex=True), 'Attribute'].unique() \n",
    "\n",
    "\n",
    "str_values = {'X': cols_X, 'XX': cols_XX}\n",
    "int_values = {-1: cols_1.tolist(), 0: cols_0.tolist(), 9: cols_9.tolist()}"
   ]
  },
  {
   "cell_type": "code",
   "execution_count": 24,
   "metadata": {},
   "outputs": [
    {
     "name": "stdout",
     "output_type": "stream",
     "text": [
      "AZDIAS\n",
      "Replaced -1 with nan in following column(s):['AGER_TYP', 'ALTERSKATEGORIE_GROB', 'ANREDE_KZ', 'BALLRAUM', 'CAMEO_DEUG_2015', 'EWDICHTE', 'FINANZTYP', 'FINANZ_ANLEGER', 'FINANZ_HAUSBAUER', 'FINANZ_MINIMALIST', 'FINANZ_SPARER', 'FINANZ_UNAUFFAELLIGER', 'FINANZ_VORSORGER', 'GEBAEUDETYP', 'HEALTH_TYP', 'HH_EINKOMMEN_SCORE', 'INNENSTADT', 'KBA05_ALTER1', 'KBA05_ALTER2', 'KBA05_ALTER3', 'KBA05_ALTER4', 'KBA05_ANHANG', 'KBA05_ANTG1', 'KBA05_ANTG2', 'KBA05_ANTG3', 'KBA05_ANTG4', 'KBA05_AUTOQUOT', 'KBA05_BAUMAX', 'KBA05_CCM1', 'KBA05_CCM2', 'KBA05_CCM3', 'KBA05_CCM4', 'KBA05_DIESEL', 'KBA05_FRAU', 'KBA05_GBZ', 'KBA05_HERST1', 'KBA05_HERST2', 'KBA05_HERST3', 'KBA05_HERST4', 'KBA05_HERST5', 'KBA05_HERSTTEMP', 'KBA05_KRSAQUOT', 'KBA05_KRSHERST1', 'KBA05_KRSHERST2', 'KBA05_KRSHERST3', 'KBA05_KRSKLEIN', 'KBA05_KRSOBER', 'KBA05_KRSVAN', 'KBA05_KRSZUL', 'KBA05_KW1', 'KBA05_KW2', 'KBA05_KW3', 'KBA05_MAXAH', 'KBA05_MAXBJ', 'KBA05_MAXHERST', 'KBA05_MAXSEG', 'KBA05_MAXVORB', 'KBA05_MOD1', 'KBA05_MOD2', 'KBA05_MOD3', 'KBA05_MOD4', 'KBA05_MOD8', 'KBA05_MODTEMP', 'KBA05_MOTOR', 'KBA05_MOTRAD', 'KBA05_SEG1', 'KBA05_SEG10', 'KBA05_SEG2', 'KBA05_SEG3', 'KBA05_SEG4', 'KBA05_SEG5', 'KBA05_SEG6', 'KBA05_SEG7', 'KBA05_SEG8', 'KBA05_SEG9', 'KBA05_VORB0', 'KBA05_VORB1', 'KBA05_VORB2', 'KBA05_ZUL1', 'KBA05_ZUL2', 'KBA05_ZUL3', 'KBA05_ZUL4', 'KBA13_ALTERHALTER_30', 'KBA13_ALTERHALTER_45', 'KBA13_ALTERHALTER_60', 'KBA13_ALTERHALTER_61', 'KBA13_AUDI', 'KBA13_AUTOQUOTE', 'KBA13_BJ_1999', 'KBA13_BJ_2000', 'KBA13_BJ_2004', 'KBA13_BJ_2006', 'KBA13_BJ_2008', 'KBA13_BJ_2009', 'KBA13_BMW', 'KBA13_CCM_1000', 'KBA13_CCM_1200', 'KBA13_CCM_1400', 'KBA13_CCM_0_1400', 'KBA13_CCM_1500', 'KBA13_CCM_1600', 'KBA13_CCM_1800', 'KBA13_CCM_2000', 'KBA13_CCM_2500', 'KBA13_CCM_2501', 'KBA13_CCM_3000', 'KBA13_CCM_3001', 'KBA13_FAB_ASIEN', 'KBA13_FAB_SONSTIGE', 'KBA13_FIAT', 'KBA13_FORD', 'KBA13_HALTER_20', 'KBA13_HALTER_25', 'KBA13_HALTER_30', 'KBA13_HALTER_35', 'KBA13_HALTER_40', 'KBA13_HALTER_45', 'KBA13_HALTER_50', 'KBA13_HALTER_55', 'KBA13_HALTER_60', 'KBA13_HALTER_65', 'KBA13_HALTER_66', 'KBA13_HERST_ASIEN', 'KBA13_HERST_AUDI_VW', 'KBA13_HERST_BMW_BENZ', 'KBA13_HERST_EUROPA', 'KBA13_HERST_FORD_OPEL', 'KBA13_HERST_SONST', 'KBA13_KMH_110', 'KBA13_KMH_140', 'KBA13_KMH_180', 'KBA13_KMH_0_140', 'KBA13_KMH_140_210', 'KBA13_KMH_211', 'KBA13_KMH_250', 'KBA13_KMH_251', 'KBA13_KRSAQUOT', 'KBA13_KRSHERST_AUDI_VW', 'KBA13_KRSHERST_BMW_BENZ', 'KBA13_KRSHERST_FORD_OPEL', 'KBA13_KRSSEG_KLEIN', 'KBA13_KRSSEG_OBER', 'KBA13_KRSSEG_VAN', 'KBA13_KRSZUL_NEU', 'KBA13_KW_30', 'KBA13_KW_40', 'KBA13_KW_50', 'KBA13_KW_60', 'KBA13_KW_0_60', 'KBA13_KW_70', 'KBA13_KW_61_120', 'KBA13_KW_80', 'KBA13_KW_90', 'KBA13_KW_110', 'KBA13_KW_120', 'KBA13_KW_121', 'KBA13_MAZDA', 'KBA13_MERCEDES', 'KBA13_MOTOR', 'KBA13_NISSAN', 'KBA13_OPEL', 'KBA13_PEUGEOT', 'KBA13_RENAULT', 'KBA13_SEG_GELAENDEWAGEN', 'KBA13_SEG_GROSSRAUMVANS', 'KBA13_SEG_KLEINST', 'KBA13_SEG_KLEINWAGEN', 'KBA13_SEG_KOMPAKTKLASSE', 'KBA13_SEG_MINIVANS', 'KBA13_SEG_MINIWAGEN', 'KBA13_SEG_MITTELKLASSE', 'KBA13_SEG_OBEREMITTELKLASSE', 'KBA13_SEG_OBERKLASSE', 'KBA13_SEG_SONSTIGE', 'KBA13_SEG_SPORTWAGEN', 'KBA13_SEG_UTILITIES', 'KBA13_SEG_VAN', 'KBA13_SEG_WOHNMOBILE', 'KBA13_SITZE_4', 'KBA13_SITZE_5', 'KBA13_SITZE_6', 'KBA13_TOYOTA', 'KBA13_VORB_0', 'KBA13_VORB_1', 'KBA13_VORB_1_2', 'KBA13_VORB_2', 'KBA13_VORB_3', 'KBA13_VW', 'KKK', 'NATIONALITAET_KZ', 'ORTSGR_KLS9', 'OST_WEST_KZ', 'PLZ8_ANTG1', 'PLZ8_ANTG2', 'PLZ8_ANTG3', 'PLZ8_ANTG4', 'PLZ8_GBZ', 'PLZ8_HHZ', 'PRAEGENDE_JUGENDJAHRE', 'REGIOTYP', 'RELAT_AB', 'SEMIO_DOM', 'SEMIO_ERL', 'SEMIO_FAM', 'SEMIO_KAEM', 'SEMIO_KRIT', 'SEMIO_KULT', 'SEMIO_LUST', 'SEMIO_MAT', 'SEMIO_PFLICHT', 'SEMIO_RAT', 'SEMIO_REL', 'SEMIO_SOZ', 'SEMIO_TRADV', 'SEMIO_VERT', 'SHOPPER_TYP', 'TITEL_KZ', 'VERS_TYP', 'WOHNDAUER_2008', 'WOHNLAGE', 'W_KEIT_KIND_HH', 'ZABEOTYP']\n",
      "Replaced 0 with nan in following column(s):['ALTERSKATEGORIE_GROB', 'ALTER_HH', 'ANREDE_KZ', 'CJT_GESAMTTYP', 'GEBAEUDETYP', 'HH_EINKOMMEN_SCORE', 'KBA05_BAUMAX', 'KBA05_GBZ', 'KKK', 'NATIONALITAET_KZ', 'PRAEGENDE_JUGENDJAHRE', 'REGIOTYP', 'RETOURTYP_BK_S', 'TITEL_KZ', 'WOHNDAUER_2008', 'W_KEIT_KIND_HH']\n",
      "Replaced 9 with nan in following column(s):['KBA05_ALTER1', 'KBA05_ALTER2', 'KBA05_ALTER3', 'KBA05_ALTER4', 'KBA05_ANHANG', 'KBA05_AUTOQUOT', 'KBA05_CCM1', 'KBA05_CCM2', 'KBA05_CCM3', 'KBA05_CCM4', 'KBA05_DIESEL', 'KBA05_FRAU', 'KBA05_HERST1', 'KBA05_HERST2', 'KBA05_HERST3', 'KBA05_HERST4', 'KBA05_HERST5', 'KBA05_HERSTTEMP', 'KBA05_KRSAQUOT', 'KBA05_KRSHERST1', 'KBA05_KRSHERST2', 'KBA05_KRSHERST3', 'KBA05_KRSKLEIN', 'KBA05_KRSOBER', 'KBA05_KRSVAN', 'KBA05_KRSZUL', 'KBA05_KW1', 'KBA05_KW2', 'KBA05_KW3', 'KBA05_MAXAH', 'KBA05_MAXBJ', 'KBA05_MAXHERST', 'KBA05_MAXSEG', 'KBA05_MAXVORB', 'KBA05_MOD1', 'KBA05_MOD2', 'KBA05_MOD3', 'KBA05_MOD4', 'KBA05_MOD8', 'KBA05_MODTEMP', 'KBA05_MOTOR', 'KBA05_MOTRAD', 'KBA05_SEG1', 'KBA05_SEG10', 'KBA05_SEG2', 'KBA05_SEG3', 'KBA05_SEG4', 'KBA05_SEG5', 'KBA05_SEG6', 'KBA05_SEG7', 'KBA05_SEG8', 'KBA05_SEG9', 'KBA05_VORB0', 'KBA05_VORB1', 'KBA05_VORB2', 'KBA05_ZUL1', 'KBA05_ZUL2', 'KBA05_ZUL3', 'KBA05_ZUL4', 'RELAT_AB', 'SEMIO_DOM', 'SEMIO_ERL', 'SEMIO_FAM', 'SEMIO_KAEM', 'SEMIO_KRIT', 'SEMIO_KULT', 'SEMIO_LUST', 'SEMIO_MAT', 'SEMIO_PFLICHT', 'SEMIO_RAT', 'SEMIO_REL', 'SEMIO_SOZ', 'SEMIO_TRADV', 'SEMIO_VERT', 'ZABEOTYP']\n",
      "CUSTOMERS\n",
      "Replaced -1 with nan in following column(s):['AGER_TYP', 'ALTERSKATEGORIE_GROB', 'ANREDE_KZ', 'BALLRAUM', 'CAMEO_DEUG_2015', 'EWDICHTE', 'FINANZTYP', 'FINANZ_ANLEGER', 'FINANZ_HAUSBAUER', 'FINANZ_MINIMALIST', 'FINANZ_SPARER', 'FINANZ_UNAUFFAELLIGER', 'FINANZ_VORSORGER', 'GEBAEUDETYP', 'HEALTH_TYP', 'HH_EINKOMMEN_SCORE', 'INNENSTADT', 'KBA05_ALTER1', 'KBA05_ALTER2', 'KBA05_ALTER3', 'KBA05_ALTER4', 'KBA05_ANHANG', 'KBA05_ANTG1', 'KBA05_ANTG2', 'KBA05_ANTG3', 'KBA05_ANTG4', 'KBA05_AUTOQUOT', 'KBA05_BAUMAX', 'KBA05_CCM1', 'KBA05_CCM2', 'KBA05_CCM3', 'KBA05_CCM4', 'KBA05_DIESEL', 'KBA05_FRAU', 'KBA05_GBZ', 'KBA05_HERST1', 'KBA05_HERST2', 'KBA05_HERST3', 'KBA05_HERST4', 'KBA05_HERST5', 'KBA05_HERSTTEMP', 'KBA05_KRSAQUOT', 'KBA05_KRSHERST1', 'KBA05_KRSHERST2', 'KBA05_KRSHERST3', 'KBA05_KRSKLEIN', 'KBA05_KRSOBER', 'KBA05_KRSVAN', 'KBA05_KRSZUL', 'KBA05_KW1', 'KBA05_KW2', 'KBA05_KW3', 'KBA05_MAXAH', 'KBA05_MAXBJ', 'KBA05_MAXHERST', 'KBA05_MAXSEG', 'KBA05_MAXVORB', 'KBA05_MOD1', 'KBA05_MOD2', 'KBA05_MOD3', 'KBA05_MOD4', 'KBA05_MOD8', 'KBA05_MODTEMP', 'KBA05_MOTOR', 'KBA05_MOTRAD', 'KBA05_SEG1', 'KBA05_SEG10', 'KBA05_SEG2', 'KBA05_SEG3', 'KBA05_SEG4', 'KBA05_SEG5', 'KBA05_SEG6', 'KBA05_SEG7', 'KBA05_SEG8', 'KBA05_SEG9', 'KBA05_VORB0', 'KBA05_VORB1', 'KBA05_VORB2', 'KBA05_ZUL1', 'KBA05_ZUL2', 'KBA05_ZUL3', 'KBA05_ZUL4', 'KBA13_ALTERHALTER_30', 'KBA13_ALTERHALTER_45', 'KBA13_ALTERHALTER_60', 'KBA13_ALTERHALTER_61', 'KBA13_AUDI', 'KBA13_AUTOQUOTE', 'KBA13_BJ_1999', 'KBA13_BJ_2000', 'KBA13_BJ_2004', 'KBA13_BJ_2006', 'KBA13_BJ_2008', 'KBA13_BJ_2009', 'KBA13_BMW', 'KBA13_CCM_1000', 'KBA13_CCM_1200', 'KBA13_CCM_1400', 'KBA13_CCM_0_1400', 'KBA13_CCM_1500', 'KBA13_CCM_1600', 'KBA13_CCM_1800', 'KBA13_CCM_2000', 'KBA13_CCM_2500', 'KBA13_CCM_2501', 'KBA13_CCM_3000', 'KBA13_CCM_3001', 'KBA13_FAB_ASIEN', 'KBA13_FAB_SONSTIGE', 'KBA13_FIAT', 'KBA13_FORD', 'KBA13_HALTER_20', 'KBA13_HALTER_25', 'KBA13_HALTER_30', 'KBA13_HALTER_35', 'KBA13_HALTER_40', 'KBA13_HALTER_45', 'KBA13_HALTER_50', 'KBA13_HALTER_55', 'KBA13_HALTER_60', 'KBA13_HALTER_65', 'KBA13_HALTER_66', 'KBA13_HERST_ASIEN', 'KBA13_HERST_AUDI_VW', 'KBA13_HERST_BMW_BENZ', 'KBA13_HERST_EUROPA', 'KBA13_HERST_FORD_OPEL', 'KBA13_HERST_SONST', 'KBA13_KMH_110', 'KBA13_KMH_140', 'KBA13_KMH_180', 'KBA13_KMH_0_140', 'KBA13_KMH_140_210', 'KBA13_KMH_211', 'KBA13_KMH_250', 'KBA13_KMH_251', 'KBA13_KRSAQUOT', 'KBA13_KRSHERST_AUDI_VW', 'KBA13_KRSHERST_BMW_BENZ', 'KBA13_KRSHERST_FORD_OPEL', 'KBA13_KRSSEG_KLEIN', 'KBA13_KRSSEG_OBER', 'KBA13_KRSSEG_VAN', 'KBA13_KRSZUL_NEU', 'KBA13_KW_30', 'KBA13_KW_40', 'KBA13_KW_50', 'KBA13_KW_60', 'KBA13_KW_0_60', 'KBA13_KW_70', 'KBA13_KW_61_120', 'KBA13_KW_80', 'KBA13_KW_90', 'KBA13_KW_110', 'KBA13_KW_120', 'KBA13_KW_121', 'KBA13_MAZDA', 'KBA13_MERCEDES', 'KBA13_MOTOR', 'KBA13_NISSAN', 'KBA13_OPEL', 'KBA13_PEUGEOT', 'KBA13_RENAULT', 'KBA13_SEG_GELAENDEWAGEN', 'KBA13_SEG_GROSSRAUMVANS', 'KBA13_SEG_KLEINST', 'KBA13_SEG_KLEINWAGEN', 'KBA13_SEG_KOMPAKTKLASSE', 'KBA13_SEG_MINIVANS', 'KBA13_SEG_MINIWAGEN', 'KBA13_SEG_MITTELKLASSE', 'KBA13_SEG_OBEREMITTELKLASSE', 'KBA13_SEG_OBERKLASSE', 'KBA13_SEG_SONSTIGE', 'KBA13_SEG_SPORTWAGEN', 'KBA13_SEG_UTILITIES', 'KBA13_SEG_VAN', 'KBA13_SEG_WOHNMOBILE', 'KBA13_SITZE_4', 'KBA13_SITZE_5', 'KBA13_SITZE_6', 'KBA13_TOYOTA', 'KBA13_VORB_0', 'KBA13_VORB_1', 'KBA13_VORB_1_2', 'KBA13_VORB_2', 'KBA13_VORB_3', 'KBA13_VW', 'KKK', 'NATIONALITAET_KZ', 'ORTSGR_KLS9', 'OST_WEST_KZ', 'PLZ8_ANTG1', 'PLZ8_ANTG2', 'PLZ8_ANTG3', 'PLZ8_ANTG4', 'PLZ8_GBZ', 'PLZ8_HHZ', 'PRAEGENDE_JUGENDJAHRE', 'REGIOTYP', 'RELAT_AB', 'SEMIO_DOM', 'SEMIO_ERL', 'SEMIO_FAM', 'SEMIO_KAEM', 'SEMIO_KRIT', 'SEMIO_KULT', 'SEMIO_LUST', 'SEMIO_MAT', 'SEMIO_PFLICHT', 'SEMIO_RAT', 'SEMIO_REL', 'SEMIO_SOZ', 'SEMIO_TRADV', 'SEMIO_VERT', 'SHOPPER_TYP', 'TITEL_KZ', 'VERS_TYP', 'WOHNDAUER_2008', 'WOHNLAGE', 'W_KEIT_KIND_HH', 'ZABEOTYP']\n",
      "Replaced 0 with nan in following column(s):['ALTERSKATEGORIE_GROB', 'ALTER_HH', 'ANREDE_KZ', 'CJT_GESAMTTYP', 'GEBAEUDETYP', 'HH_EINKOMMEN_SCORE', 'KBA05_BAUMAX', 'KBA05_GBZ', 'KKK', 'NATIONALITAET_KZ', 'PRAEGENDE_JUGENDJAHRE', 'REGIOTYP', 'RETOURTYP_BK_S', 'TITEL_KZ', 'WOHNDAUER_2008', 'W_KEIT_KIND_HH']\n",
      "Replaced 9 with nan in following column(s):['KBA05_ALTER1', 'KBA05_ALTER2', 'KBA05_ALTER3', 'KBA05_ALTER4', 'KBA05_ANHANG', 'KBA05_AUTOQUOT', 'KBA05_CCM1', 'KBA05_CCM2', 'KBA05_CCM3', 'KBA05_CCM4', 'KBA05_DIESEL', 'KBA05_FRAU', 'KBA05_HERST1', 'KBA05_HERST2', 'KBA05_HERST3', 'KBA05_HERST4', 'KBA05_HERST5', 'KBA05_HERSTTEMP', 'KBA05_KRSAQUOT', 'KBA05_KRSHERST1', 'KBA05_KRSHERST2', 'KBA05_KRSHERST3', 'KBA05_KRSKLEIN', 'KBA05_KRSOBER', 'KBA05_KRSVAN', 'KBA05_KRSZUL', 'KBA05_KW1', 'KBA05_KW2', 'KBA05_KW3', 'KBA05_MAXAH', 'KBA05_MAXBJ', 'KBA05_MAXHERST', 'KBA05_MAXSEG', 'KBA05_MAXVORB', 'KBA05_MOD1', 'KBA05_MOD2', 'KBA05_MOD3', 'KBA05_MOD4', 'KBA05_MOD8', 'KBA05_MODTEMP', 'KBA05_MOTOR', 'KBA05_MOTRAD', 'KBA05_SEG1', 'KBA05_SEG10', 'KBA05_SEG2', 'KBA05_SEG3', 'KBA05_SEG4', 'KBA05_SEG5', 'KBA05_SEG6', 'KBA05_SEG7', 'KBA05_SEG8', 'KBA05_SEG9', 'KBA05_VORB0', 'KBA05_VORB1', 'KBA05_VORB2', 'KBA05_ZUL1', 'KBA05_ZUL2', 'KBA05_ZUL3', 'KBA05_ZUL4', 'RELAT_AB', 'SEMIO_DOM', 'SEMIO_ERL', 'SEMIO_FAM', 'SEMIO_KAEM', 'SEMIO_KRIT', 'SEMIO_KULT', 'SEMIO_LUST', 'SEMIO_MAT', 'SEMIO_PFLICHT', 'SEMIO_RAT', 'SEMIO_REL', 'SEMIO_SOZ', 'SEMIO_TRADV', 'SEMIO_VERT', 'ZABEOTYP']\n"
     ]
    }
   ],
   "source": [
    "print(\"AZDIAS\")\n",
    "azdias_clean = replace_values(azdias, int_values)\n",
    "print(\"CUSTOMERS\")\n",
    "customers_clean = replace_values(customers, int_values)"
   ]
  },
  {
   "cell_type": "markdown",
   "metadata": {},
   "source": [
    "## Analyzing missing data\n",
    "### Column-wise missing percentage"
   ]
  },
  {
   "cell_type": "code",
   "execution_count": 25,
   "metadata": {},
   "outputs": [
    {
     "name": "stdout",
     "output_type": "stream",
     "text": [
      "AGER_TYP                       76.019640\n",
      "ALTER_HH                       34.813699\n",
      "ALTER_KIND1                    90.904837\n",
      "ALTER_KIND2                    96.690047\n",
      "ALTER_KIND3                    99.307691\n",
      "ALTER_KIND4                    99.864792\n",
      "ALTERSKATEGORIE_FEIN           29.504130\n",
      "D19_BANKEN_ONLINE_QUOTE_12     28.849522\n",
      "D19_GESAMT_ONLINE_QUOTE_12     28.849522\n",
      "D19_KONSUMTYP                  28.849522\n",
      "D19_LETZTER_KAUF_BRANCHE       28.849522\n",
      "D19_LOTTO                      28.849522\n",
      "D19_SOZIALES                   28.849522\n",
      "D19_TELKO_ONLINE_QUOTE_12      28.849522\n",
      "D19_VERSAND_ONLINE_QUOTE_12    28.849522\n",
      "D19_VERSI_ONLINE_QUOTE_12      28.849522\n",
      "EXTSEL992                      73.399639\n",
      "KBA05_BAUMAX                   53.468668\n",
      "KK_KUNDENTYP                   65.596749\n",
      "TITEL_KZ                       99.757636\n",
      "dtype: float64\n"
     ]
    }
   ],
   "source": [
    "# Find attributes with more than 25% of missing values in AZDIAS dataset\n",
    "missing_pct_azdias = ((azdias.isna().sum() / azdias.index.size) * 100)\n",
    "print(missing_pct_azdias[missing_pct_azdias > 25])"
   ]
  },
  {
   "cell_type": "markdown",
   "metadata": {},
   "source": [
    "It seems only few attributes have more than 25% of missing values and only 6 attributes have missing percentage of more than 30%. So, we'll check which attributes are having missing percentage of more than 30% in CUSTOMERS dataframe."
   ]
  },
  {
   "cell_type": "code",
   "execution_count": 26,
   "metadata": {},
   "outputs": [
    {
     "name": "stdout",
     "output_type": "stream",
     "text": [
      "AGER_TYP        48.059504\n",
      "ALTER_HH        35.870745\n",
      "ALTER_KIND1     93.860748\n",
      "ALTER_KIND2     97.338927\n",
      "ALTER_KIND3     99.334732\n",
      "ALTER_KIND4     99.876860\n",
      "EXTSEL992       44.498883\n",
      "KBA05_BAUMAX    57.153069\n",
      "KK_KUNDENTYP    58.406382\n",
      "KKK             31.340137\n",
      "REGIOTYP        31.340137\n",
      "TITEL_KZ        98.793647\n",
      "dtype: float64\n"
     ]
    }
   ],
   "source": [
    "# Checking missing values in Customers \n",
    "missing_pct_customers = ((customers.isna().sum() / customers.index.size) * 100)\n",
    "missing_30pct_customers = missing_pct_customers[missing_pct_customers > 30]\n",
    "\n",
    "print(missing_30pct_customers)"
   ]
  },
  {
   "cell_type": "code",
   "execution_count": 27,
   "metadata": {},
   "outputs": [
    {
     "name": "stdout",
     "output_type": "stream",
     "text": [
      "AGER_TYP        76.019640\n",
      "ALTER_HH        34.813699\n",
      "ALTER_KIND1     90.904837\n",
      "ALTER_KIND2     96.690047\n",
      "ALTER_KIND3     99.307691\n",
      "ALTER_KIND4     99.864792\n",
      "EXTSEL992       73.399639\n",
      "KBA05_BAUMAX    53.468668\n",
      "KK_KUNDENTYP    65.596749\n",
      "TITEL_KZ        99.757636\n",
      "dtype: float64\n"
     ]
    }
   ],
   "source": [
    "missing_30pct_azdias = missing_pct_azdias[missing_pct_azdias > 30]\n",
    "\n",
    "print(missing_30pct_azdias)"
   ]
  },
  {
   "cell_type": "markdown",
   "metadata": {},
   "source": [
    "So, we'll now remove union of missing data attributes from both datasets.\n",
    "(See: https://discuss.analyticsvidhya.com/t/what-should-be-the-allowed-percentage-of-missing-values/2456/5)"
   ]
  },
  {
   "cell_type": "code",
   "execution_count": 28,
   "metadata": {},
   "outputs": [],
   "source": [
    "REMOVE_COLS = list(set().union(missing_30pct_azdias.index, missing_30pct_customers.index))"
   ]
  },
  {
   "cell_type": "code",
   "execution_count": 29,
   "metadata": {},
   "outputs": [
    {
     "data": {
      "text/plain": [
       "<matplotlib.axes._subplots.AxesSubplot at 0x7f54ea113470>"
      ]
     },
     "execution_count": 29,
     "metadata": {},
     "output_type": "execute_result"
    },
    {
     "data": {
      "image/png": "[encoded data removed]",
      "text/plain": [
       "<Figure size 1152x360 with 2 Axes>"
      ]
     },
     "metadata": {
      "needs_background": "light"
     },
     "output_type": "display_data"
    }
   ],
   "source": [
    "plt.figure(figsize=(16, 5))\n",
    "\n",
    "# Plot 1\n",
    "plt.subplot(2, 1, 1)\n",
    "sns.barplot(x=REMOVE_COLS, y=missing_pct_azdias[REMOVE_COLS], color='pink')\n",
    "plt.subplot(2, 1, 2)\n",
    "sns.barplot(x=REMOVE_COLS, y=missing_pct_customers[REMOVE_COLS], color='purple')"
   ]
  },
  {
   "cell_type": "markdown",
   "metadata": {},
   "source": [
    "### Row-wise missing percentage"
   ]
  },
  {
   "cell_type": "code",
   "execution_count": 33,
   "metadata": {},
   "outputs": [
    {
     "name": "stdout",
     "output_type": "stream",
     "text": [
      "Number of rows with more than 50% of the data null:  99968\n"
     ]
    }
   ],
   "source": [
    "missing_azdias_rows = (azdias.isnull().sum(axis=1) / azdias.columns.size) * 100\n",
    "print(\"Number of rows with more than 50% of the data null: \", len(missing_azdias_rows[missing_azdias_rows > 50]))"
   ]
  },
  {
   "cell_type": "code",
   "execution_count": 31,
   "metadata": {},
   "outputs": [
    {
     "name": "stdout",
     "output_type": "stream",
     "text": [
      "Number of rows with more than 50% of the data null:  21490\n"
     ]
    }
   ],
   "source": [
    "missing_cust_rows = (customers.isnull().sum(axis=1) / customers.columns.size) * 100\n",
    "print(\"Number of rows with more than 50% of the data null: \", len(missing_cust_rows[missing_rows > 50]))"
   ]
  },
  {
   "cell_type": "code",
   "execution_count": 34,
   "metadata": {},
   "outputs": [
    {
     "name": "stdout",
     "output_type": "stream",
     "text": [
      "Percentage of total rows with more than 50% of the data null:  11.216970874788633\n",
      "Percentage of total rows with more than 50% of the data null:  11.213031953749503\n"
     ]
    }
   ],
   "source": [
    "# percentage of rows with more than 50% data missing\n",
    "pct_missing = (len(missing_azdias_rows[missing_rows > 50]) / azdias.index.size) * 100\n",
    "print(\"Percentage of total rows with more than 50% of the data null: \", pct_missing)\n",
    "pct_missing = (len(missing_cust_rows[missing_rows > 50]) / customers.index.size) * 100\n",
    "print(\"Percentage of total rows with more than 50% of the data null: \", pct_missing)"
   ]
  },
  {
   "cell_type": "markdown",
   "metadata": {},
   "source": [
    "Based on the missing data percentage in both the datasets, we can say that they both belong to the same subset."
   ]
  },
  {
   "cell_type": "markdown",
   "metadata": {},
   "source": [
    "## Removing Missing data"
   ]
  },
  {
   "cell_type": "code",
   "execution_count": 44,
   "metadata": {},
   "outputs": [],
   "source": [
    "# List of columns/attributes to be deleted from the datasets\n",
    "azdias_clean = azdias.drop(REMOVE_COLS, axis=1)\n",
    "customers_clean = customers.drop(REMOVE_COLS, axis=1)"
   ]
  },
  {
   "cell_type": "code",
   "execution_count": 43,
   "metadata": {},
   "outputs": [],
   "source": [
    "REMOVE_AZD_ROWS = missing_azdias_rows[missing_azdias_rows>50].index\n",
    "REMOVE_CUST_ROWS = missing_cust_rows[missing_cust_rows>50].index"
   ]
  },
  {
   "cell_type": "code",
   "execution_count": 45,
   "metadata": {},
   "outputs": [],
   "source": [
    "azdias_clean = azdias_clean.drop(REMOVE_AZD_ROWS, axis=0)\n",
    "customers_clean = customers_clean.drop(REMOVE_CUST_ROWS, axis=0)"
   ]
  },
  {
   "cell_type": "code",
   "execution_count": 48,
   "metadata": {},
   "outputs": [
    {
     "name": "stdout",
     "output_type": "stream",
     "text": [
      "Shape of AZDIAS after deleting missing values: (791253, 354)\n",
      "Shape of CUSTOMERS after deleting missing values: (140866, 357)\n"
     ]
    }
   ],
   "source": [
    "print(\"Shape of AZDIAS after deleting missing values:\", azdias_clean.shape)\n",
    "print(\"Shape of CUSTOMERS after deleting missing values:\", customers_clean.shape)"
   ]
  },
  {
   "cell_type": "markdown",
   "metadata": {},
   "source": [
    "## Saving cleaned dataset"
   ]
  },
  {
   "cell_type": "code",
   "execution_count": 49,
   "metadata": {},
   "outputs": [],
   "source": [
    "azdias.to_pickle('Clean_data/azdias.pkl')\n",
    "customers.to_pickle('Clean_data/customers.pkl')"
   ]
  },
  {
   "cell_type": "markdown",
   "metadata": {},
   "source": [
    "## Exploring data\n",
    "Now, we'll analyze the attribute exclusive to CUSTOMERS dataset."
   ]
  },
  {
   "cell_type": "code",
   "execution_count": 95,
   "metadata": {},
   "outputs": [
    {
     "data": {
      "text/plain": [
       "CUSTOMER_GROUP     object\n",
       "ONLINE_PURCHASE     int64\n",
       "PRODUCT_GROUP      object\n",
       "dtype: object"
      ]
     },
     "execution_count": 95,
     "metadata": {},
     "output_type": "execute_result"
    }
   ],
   "source": [
    "diff_attr = list(diff_attr)\n",
    "customers_clean.loc[:, diff_attr].dtypes"
   ]
  },
  {
   "cell_type": "code",
   "execution_count": 96,
   "metadata": {},
   "outputs": [
    {
     "data": {
      "text/plain": [
       "count    191652.000000\n",
       "mean          0.090247\n",
       "std           0.286536\n",
       "min           0.000000\n",
       "25%           0.000000\n",
       "50%           0.000000\n",
       "75%           0.000000\n",
       "max           1.000000\n",
       "Name: ONLINE_PURCHASE, dtype: float64"
      ]
     },
     "execution_count": 96,
     "metadata": {},
     "output_type": "execute_result"
    }
   ],
   "source": [
    "customers_clean.loc[:,'ONLINE_PURCHASE'].describe()"
   ]
  },
  {
   "cell_type": "code",
   "execution_count": 97,
   "metadata": {},
   "outputs": [
    {
     "data": {
      "text/plain": [
       "(array([174356.,      0.,      0.,      0.,      0.,      0.,      0.,\n",
       "             0.,      0.,  17296.]),\n",
       " array([0. , 0.1, 0.2, 0.3, 0.4, 0.5, 0.6, 0.7, 0.8, 0.9, 1. ]),\n",
       " <a list of 10 Patch objects>)"
      ]
     },
     "execution_count": 97,
     "metadata": {},
     "output_type": "execute_result"
    },
    {
     "data": {
      "image/png": "[encoded data removed]",
      "text/plain": [
       "<Figure size 432x288 with 1 Axes>"
      ]
     },
     "metadata": {
      "needs_background": "light"
     },
     "output_type": "display_data"
    }
   ],
   "source": [
    "plt.hist(customers_clean.loc[:, 'ONLINE_PURCHASE'])"
   ]
  },
  {
   "cell_type": "code",
   "execution_count": 98,
   "metadata": {},
   "outputs": [
    {
     "name": "stdout",
     "output_type": "stream",
     "text": [
      "Percentage of customers who made purchase online:  9.02469058501868\n"
     ]
    }
   ],
   "source": [
    "# % of customers who bought products online\n",
    "online_pct = (sum(customers_clean.loc[:, 'ONLINE_PURCHASE']) / customers_clean.index.size) * 100\n",
    "\n",
    "print(\"Percentage of customers who made purchase online: \", online_pct)"
   ]
  },
  {
   "cell_type": "code",
   "execution_count": 99,
   "metadata": {},
   "outputs": [
    {
     "data": {
      "text/plain": [
       "(array([100860.,      0.,      0.,      0.,      0.,  47382.,      0.,\n",
       "             0.,      0.,  43410.]),\n",
       " array([0. , 0.2, 0.4, 0.6, 0.8, 1. , 1.2, 1.4, 1.6, 1.8, 2. ]),\n",
       " <a list of 10 Patch objects>)"
      ]
     },
     "execution_count": 99,
     "metadata": {},
     "output_type": "execute_result"
    },
    {
     "data": {
      "image/png": "[encoded data removed]",
      "text/plain": [
       "<Figure size 432x288 with 1 Axes>"
      ]
     },
     "metadata": {
      "needs_background": "light"
     },
     "output_type": "display_data"
    }
   ],
   "source": [
    "plt.hist(customers_clean.loc[:, 'PRODUCT_GROUP'])"
   ]
  },
  {
   "cell_type": "code",
   "execution_count": 100,
   "metadata": {},
   "outputs": [
    {
     "data": {
      "text/plain": [
       "COSMETIC_AND_FOOD    52.626636\n",
       "FOOD                 24.722935\n",
       "COSMETIC             22.650429\n",
       "Name: PRODUCT_GROUP, dtype: float64"
      ]
     },
     "execution_count": 100,
     "metadata": {},
     "output_type": "execute_result"
    }
   ],
   "source": [
    "# Percentage of \n",
    "customers_clean.loc[:, 'PRODUCT_GROUP'].value_counts() * 100 / customers_clean.index.size"
   ]
  },
  {
   "cell_type": "code",
   "execution_count": 101,
   "metadata": {},
   "outputs": [
    {
     "data": {
      "text/plain": [
       "(array([132238.,      0.,      0.,      0.,      0.,      0.,      0.,\n",
       "             0.,      0.,  59414.]),\n",
       " array([0. , 0.1, 0.2, 0.3, 0.4, 0.5, 0.6, 0.7, 0.8, 0.9, 1. ]),\n",
       " <a list of 10 Patch objects>)"
      ]
     },
     "execution_count": 101,
     "metadata": {},
     "output_type": "execute_result"
    },
    {
     "data": {
      "image/png": "[encoded data removed]",
      "text/plain": [
       "<Figure size 432x288 with 1 Axes>"
      ]
     },
     "metadata": {
      "needs_background": "light"
     },
     "output_type": "display_data"
    }
   ],
   "source": [
    "plt.hist(customers_clean.loc[:, 'CUSTOMER_GROUP'])"
   ]
  },
  {
   "cell_type": "code",
   "execution_count": 102,
   "metadata": {},
   "outputs": [
    {
     "data": {
      "text/plain": [
       "MULTI_BUYER     68.999019\n",
       "SINGLE_BUYER    31.000981\n",
       "Name: CUSTOMER_GROUP, dtype: float64"
      ]
     },
     "execution_count": 102,
     "metadata": {},
     "output_type": "execute_result"
    }
   ],
   "source": [
    "customers_clean.loc[:, 'CUSTOMER_GROUP'].value_counts() * 100 / customers_clean.index.size"
   ]
  },
  {
   "cell_type": "code",
   "execution_count": 103,
   "metadata": {},
   "outputs": [
    {
     "data": {
      "text/plain": [
       "(191652, 359)"
      ]
     },
     "execution_count": 103,
     "metadata": {},
     "output_type": "execute_result"
    }
   ],
   "source": [
    "customers_clean.shape"
   ]
  },
  {
   "cell_type": "code",
   "execution_count": 104,
   "metadata": {},
   "outputs": [
    {
     "data": {
      "text/plain": [
       "(891221, 356)"
      ]
     },
     "execution_count": 104,
     "metadata": {},
     "output_type": "execute_result"
    }
   ],
   "source": [
    "azdias_clean.shape"
   ]
  },
  {
   "cell_type": "code",
   "execution_count": 108,
   "metadata": {},
   "outputs": [],
   "source": [
    "path = 'Clean_Data'\n",
    "customers_clean.to_csv('Clean_Data/customers.csv')\n",
    "azdias_clean.to_csv('Clean_Data/azdias.csv')\n",
    "attributes.to_csv('Clean_Data/attributes.csv')"
   ]
  }
 ],
 "metadata": {
  "kernelspec": {
   "display_name": "conda_amazonei_mxnet_p36",
   "language": "python",
   "name": "conda_amazonei_mxnet_p36"
  },
  "language_info": {
   "codemirror_mode": {
    "name": "ipython",
    "version": 3
   },
   "file_extension": ".py",
   "mimetype": "text/x-python",
   "name": "python",
   "nbconvert_exporter": "python",
   "pygments_lexer": "ipython3",
   "version": "3.6.10"
  }
 },
 "nbformat": 4,
 "nbformat_minor": 4
}
