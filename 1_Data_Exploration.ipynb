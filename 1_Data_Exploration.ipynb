{
 "cells": [
  {
   "cell_type": "markdown",
   "metadata": {},
   "source": [
    "# Bertelsmann-Arvato Customer Segmentation\n",
    "## Data Exploration \n",
    "\n",
    "The first step in working with any dataset is loading the data in and noting what information is included in the dataset. This is an important step in eventually working with any data, and knowing what kinds of features we have to work with.\n",
    "In this notebook, we'll explore the data and observe the patterns in the data.\n",
    "\n",
    "<ol>\n",
    "    <li> Read data</li>\n",
    "    <li> Study each attribute and it's characteristics:\n",
    "        <ul>\n",
    "        <li> Name</li>\n",
    "        <li> Type</li>\n",
    "        <li> Missing values</li>\n",
    "        <li> Noisiness and type (stochastic, outliers, rounding errors, etc)</li>\n",
    "        <li> Type of distribution</li>\n",
    "        </ul>\n",
    "    </li>\n",
    "    <li> Identify target attributes</li>\n",
    "    <li> Visualize the data</li>\n",
    "    <li> Study correlation between attributes</li>\n",
    "    <li> Identify promissing transformations</li>\n",
    "</ol>\n",
    "\n",
    "<hr>"
   ]
  },
  {
   "cell_type": "code",
   "execution_count": 2,
   "metadata": {},
   "outputs": [],
   "source": [
    "import os\n",
    "\n",
    "import numpy as np\n",
    "import pandas as pd\n",
    "import dask.dataframe as dd\n",
    "import matplotlib.pyplot as plt\n",
    "import seaborn as sns\n",
    "\n",
    "%matplotlib inline"
   ]
  },
  {
   "cell_type": "markdown",
   "metadata": {},
   "source": [
    "### Read Data"
   ]
  },
  {
   "cell_type": "code",
   "execution_count": 22,
   "metadata": {},
   "outputs": [],
   "source": [
    "def read_data(path='Data'):\n",
    "    \"\"\"Funtion to read data from given path, if it exists\n",
    "    :param path: location of the data files\n",
    "    :return: list of dataframes\n",
    "    \"\"\"\n",
    "    \n",
    "    if os.path.exists(path):\n",
    "        print(\"Reading data from directory...\")\n",
    "    else:\n",
    "        print(\"Path not found!\")\n",
    "        return -1\n",
    "    \n",
    "    # Datatypes of the columns containing numbers and 'X' or 'XX' values\n",
    "    dtypes={'CAMEO_DEUG_2015': 'object',\n",
    "            'CAMEO_INTL_2015': 'object'}\n",
    "    \n",
    "    # Reading csv files and removing any completely empty rows or columns \n",
    "    azdias = dd.read_csv(os.path.join(path, 'Udacity_AZDIAS_052018.csv'), sep=';', dtype=dtypes).dropna(how='all')\n",
    "    customers = dd.read_csv(os.path.join(path, 'Udacity_CUSTOMERS_052018.csv'), sep=';', dtype=dtypes).dropna(how='all')\n",
    "    train = dd.read_csv(os.path.join(path, 'Udacity_MAILOUT_052018_TRAIN.csv'), sep=';', low_memory=False).dropna(how='all')\n",
    "    test = dd.read_csv(os.path.join(path, 'Udacity_MAILOUT_052018_TEST.csv'), sep=';', low_memory=False).dropna(how='all')\n",
    "    \n",
    "    print(\"Completed!\")\n",
    "    return azdias, customers, train, test"
   ]
  },
  {
   "cell_type": "code",
   "execution_count": 23,
   "metadata": {},
   "outputs": [
    {
     "name": "stdout",
     "output_type": "stream",
     "text": [
      "Reading data from directory...\n",
      "Completed!\n"
     ]
    }
   ],
   "source": [
    "azdias, customers, train, test = read_data()"
   ]
  },
  {
   "cell_type": "markdown",
   "metadata": {},
   "source": [
    "Dask handles data in a “lazy” computational way, that's why it doesn't compute length of the datasets using shape() method"
   ]
  },
  {
   "cell_type": "code",
   "execution_count": 27,
   "metadata": {},
   "outputs": [
    {
     "name": "stdout",
     "output_type": "stream",
     "text": [
      "AZDIAS\n",
      " number of columns: 366\t number of rows: 891221\n",
      "AZDIAS\n",
      " number of columns: 369\t number of rows: 191652\n"
     ]
    }
   ],
   "source": [
    "# number of rows and columns in dataset\n",
    "print(\"AZDIAS\\n number of columns: {}\\t number of rows: {}\".format(len(azdias.columns), len(azdias)))\n",
    "print(\"CUSTOMER\\n number of columns: {}\\t number of rows: {}\".format(len(customers.columns), len(customers)))"
   ]
  },
  {
   "cell_type": "code",
   "execution_count": 34,
   "metadata": {},
   "outputs": [
    {
     "name": "stdout",
     "output_type": "stream",
     "text": [
      "Number of attributes common between Customer and AZDIAS: 366\n",
      "Number of attributes exclusive to Customer: 3\n",
      "Attributes exclusive to CUSTOMERS: {'ONLINE_PURCHASE', 'PRODUCT_GROUP', 'CUSTOMER_GROUP'}\n"
     ]
    }
   ],
   "source": [
    "# Finding common attributes bettween AZDIAS and Customers\n",
    "comm_attr = set(customers.columns).intersection(azdias.columns)\n",
    "diff_attr = set(customers.columns).difference(azdias.columns)\n",
    "\n",
    "print(\"Number of attributes common between Customer and AZDIAS: {}\".format(len(comm_attr)))\n",
    "print(\"Number of attributes exclusive to Customer: {}\".format(len(diff_attr)))\n",
    "print(\"Attributes exclusive to CUSTOMERS: {}\".format(diff_attr))"
   ]
  },
  {
   "cell_type": "markdown",
   "metadata": {},
   "source": [
    "ONLINE_PURCHASE, PRODUCT_GROUP and CUSTOMER_GROUP are the attributes which are not in AZDIAS dataframe, but both datasets share rest of the features."
   ]
  },
  {
   "cell_type": "code",
   "execution_count": 36,
   "metadata": {},
   "outputs": [
    {
     "name": "stdout",
     "output_type": "stream",
     "text": [
      "(Delayed('int-b1a5f4c3-864c-4393-a847-7c95607a5251'), 366)\n"
     ]
    }
   ],
   "source": [
    "print(azdias.shape)"
   ]
  },
  {
   "cell_type": "code",
   "execution_count": 39,
   "metadata": {},
   "outputs": [
    {
     "name": "stdout",
     "output_type": "stream",
     "text": [
      "ALTER_KIND1                    90.904837\n",
      "ALTER_KIND2                    96.690047\n",
      "ALTER_KIND3                    99.307691\n",
      "ALTER_KIND4                    99.864792\n",
      "ALTERSKATEGORIE_FEIN           29.504130\n",
      "D19_BANKEN_ONLINE_QUOTE_12     28.849522\n",
      "D19_GESAMT_ONLINE_QUOTE_12     28.849522\n",
      "D19_KONSUMTYP                  28.849522\n",
      "D19_LETZTER_KAUF_BRANCHE       28.849522\n",
      "D19_LOTTO                      28.849522\n",
      "D19_SOZIALES                   28.849522\n",
      "D19_TELKO_ONLINE_QUOTE_12      28.849522\n",
      "D19_VERSAND_ONLINE_QUOTE_12    28.849522\n",
      "D19_VERSI_ONLINE_QUOTE_12      28.849522\n",
      "EXTSEL992                      73.399639\n",
      "KK_KUNDENTYP                   65.596749\n",
      "dtype: float64\n"
     ]
    }
   ],
   "source": [
    "# Find attributes with more than 25% of missing values in AZDIAS dataset\n",
    "\n",
    "missing_pct_azdias = ((azdias.isna().sum() / azdias.index.size) * 100)\n",
    "missing_pct_azdias = missing_pct_azdias.compute()\n",
    "\n",
    "print(missing_pct_azdias[missing_pct_azdias > 25])"
   ]
  },
  {
   "cell_type": "markdown",
   "metadata": {},
   "source": [
    "It seems only few attributes have more than 25% of missing values and only 6 attributes have missing percentage of more than 30%. So, we'll check which attributes are having missing percentage of more than 30% in CUSTOMERS dataframe."
   ]
  },
  {
   "cell_type": "code",
   "execution_count": 40,
   "metadata": {},
   "outputs": [
    {
     "name": "stdout",
     "output_type": "stream",
     "text": [
      "ALTER_KIND1     93.860748\n",
      "ALTER_KIND2     97.338927\n",
      "ALTER_KIND3     99.334732\n",
      "ALTER_KIND4     99.876860\n",
      "EXTSEL992       44.498883\n",
      "KK_KUNDENTYP    58.406382\n",
      "dtype: float64\n"
     ]
    }
   ],
   "source": [
    "# Checking missing values in Customers \n",
    "missing_pct_customers = ((customers.isna().sum() / customers.index.size) * 100)\n",
    "missing_pct_customers = missing_pct_customers.compute()\n",
    "missing_30pct_customers = missing_pct_customers[missing_pct_customers > 30]\n",
    "\n",
    "print(missing_30pct_customers)"
   ]
  },
  {
   "cell_type": "code",
   "execution_count": 41,
   "metadata": {},
   "outputs": [
    {
     "name": "stdout",
     "output_type": "stream",
     "text": [
      "ALTER_KIND1     90.904837\n",
      "ALTER_KIND2     96.690047\n",
      "ALTER_KIND3     99.307691\n",
      "ALTER_KIND4     99.864792\n",
      "EXTSEL992       73.399639\n",
      "KK_KUNDENTYP    65.596749\n",
      "dtype: float64\n"
     ]
    }
   ],
   "source": [
    "missing_30pct_azdias = missing_pct_azdias[missing_pct_azdias > 30]\n",
    "\n",
    "print(missing_30pct_azdias)"
   ]
  },
  {
   "cell_type": "markdown",
   "metadata": {},
   "source": [
    "We can notice same columns having missing values of more than 30% in both of the datasets. So, we'll now remove this columns.\n",
    "(See: https://discuss.analyticsvidhya.com/t/what-should-be-the-allowed-percentage-of-missing-values/2456/5)"
   ]
  },
  {
   "cell_type": "code",
   "execution_count": 106,
   "metadata": {},
   "outputs": [
    {
     "data": {
      "text/plain": [
       "<matplotlib.axes._subplots.AxesSubplot at 0x230b85ee160>"
      ]
     },
     "execution_count": 106,
     "metadata": {},
     "output_type": "execute_result"
    },
    {
     "data": {
      "image/png": "[encoded data removed]",
      "text/plain": [
       "<Figure size 432x288 with 1 Axes>"
      ]
     },
     "metadata": {
      "needs_background": "light"
     },
     "output_type": "display_data"
    }
   ],
   "source": [
    "# plt.figure(figsize=(10, 5))\n",
    "# Plot 1\n",
    "sns.barplot(x=missing_30pct_azdias.index, y=missing_30pct_azdias, alpha=0.5, color='purple')\n",
    "sns.barplot(x=missing_30pct_customers.index, y=missing_30pct_customers, alpha=0.5, color='green')"
   ]
  },
  {
   "cell_type": "code",
   "execution_count": 112,
   "metadata": {},
   "outputs": [],
   "source": [
    "# List of columns/attributes to be deleted from the datasets\n",
    "DEL_COLS = missing_30pct_azdias.index.values\n",
    "\n",
    "azdias_clean = azdias.drop(DEL_COLS, axis=1).compute()\n",
    "customers_clean = customers.drop(DEL_COLS, axis=1).compute()"
   ]
  },
  {
   "cell_type": "code",
   "execution_count": 114,
   "metadata": {},
   "outputs": [
    {
     "name": "stdout",
     "output_type": "stream",
     "text": [
      "Number of attributes in AZDIAS after deleting missing values: 360\n",
      "Number of attributes in CUSTOMERS after deleting missing values: 363\n"
     ]
    }
   ],
   "source": [
    "print(\"Number of attributes in AZDIAS after deleting missing values:\", azdias_clean.columns.size)\n",
    "print(\"Number of attributes in CUSTOMERS after deleting missing values:\", customers_clean.columns.size)"
   ]
  },
  {
   "cell_type": "markdown",
   "metadata": {},
   "source": [
    "Now, we'll analyze the attribute exclusive to CUSTOMERS dataset."
   ]
  },
  {
   "cell_type": "code",
   "execution_count": 127,
   "metadata": {},
   "outputs": [
    {
     "data": {
      "text/plain": [
       "ONLINE_PURCHASE     int64\n",
       "PRODUCT_GROUP      object\n",
       "CUSTOMER_GROUP     object\n",
       "dtype: object"
      ]
     },
     "execution_count": 127,
     "metadata": {},
     "output_type": "execute_result"
    }
   ],
   "source": [
    "diff_attr = list(diff_attr)\n",
    "customers_clean.loc[:, diff_attr].dtypes"
   ]
  },
  {
   "cell_type": "code",
   "execution_count": 134,
   "metadata": {},
   "outputs": [
    {
     "data": {
      "text/plain": [
       "count    191652.000000\n",
       "mean          0.090247\n",
       "std           0.286536\n",
       "min           0.000000\n",
       "25%           0.000000\n",
       "50%           0.000000\n",
       "75%           0.000000\n",
       "max           1.000000\n",
       "Name: ONLINE_PURCHASE, dtype: float64"
      ]
     },
     "execution_count": 134,
     "metadata": {},
     "output_type": "execute_result"
    }
   ],
   "source": [
    "customers_clean.loc[:,'ONLINE_PURCHASE'].describe()"
   ]
  },
  {
   "cell_type": "code",
   "execution_count": 136,
   "metadata": {},
   "outputs": [
    {
     "data": {
      "text/plain": [
       "(array([174356.,      0.,      0.,      0.,      0.,      0.,      0.,\n",
       "             0.,      0.,  17296.]),\n",
       " array([0. , 0.1, 0.2, 0.3, 0.4, 0.5, 0.6, 0.7, 0.8, 0.9, 1. ]),\n",
       " <a list of 10 Patch objects>)"
      ]
     },
     "execution_count": 136,
     "metadata": {},
     "output_type": "execute_result"
    },
    {
     "data": {
      "image/png": "[encoded data removed]",
      "text/plain": [
       "<Figure size 432x288 with 1 Axes>"
      ]
     },
     "metadata": {
      "needs_background": "light"
     },
     "output_type": "display_data"
    }
   ],
   "source": [
    "plt.hist(customers_clean.loc[:, 'ONLINE_PURCHASE'])"
   ]
  },
  {
   "cell_type": "code",
   "execution_count": 138,
   "metadata": {},
   "outputs": [
    {
     "name": "stdout",
     "output_type": "stream",
     "text": [
      "Percentage of customers who made purchase online:  9.02469058501868\n"
     ]
    }
   ],
   "source": [
    "# % of customers who bought products online\n",
    "online_pct = (sum(customers_clean.loc[:, 'ONLINE_PURCHASE']) / customers_clean.index.size) * 100\n",
    "\n",
    "print(\"Percentage of customers who made purchase online: \", online_pct)"
   ]
  },
  {
   "cell_type": "code",
   "execution_count": 139,
   "metadata": {},
   "outputs": [
    {
     "data": {
      "text/plain": [
       "(array([100860.,      0.,      0.,      0.,      0.,  47382.,      0.,\n",
       "             0.,      0.,  43410.]),\n",
       " array([0. , 0.2, 0.4, 0.6, 0.8, 1. , 1.2, 1.4, 1.6, 1.8, 2. ]),\n",
       " <a list of 10 Patch objects>)"
      ]
     },
     "execution_count": 139,
     "metadata": {},
     "output_type": "execute_result"
    },
    {
     "data": {
      "image/png": "[encoded data removed]",
      "text/plain": [
       "<Figure size 432x288 with 1 Axes>"
      ]
     },
     "metadata": {
      "needs_background": "light"
     },
     "output_type": "display_data"
    }
   ],
   "source": [
    "plt.hist(customers_clean.loc[:, 'PRODUCT_GROUP'])"
   ]
  },
  {
   "cell_type": "code",
   "execution_count": 142,
   "metadata": {},
   "outputs": [
    {
     "data": {
      "text/plain": [
       "COSMETIC_AND_FOOD    52.626636\n",
       "FOOD                 24.722935\n",
       "COSMETIC             22.650429\n",
       "Name: PRODUCT_GROUP, dtype: float64"
      ]
     },
     "execution_count": 142,
     "metadata": {},
     "output_type": "execute_result"
    }
   ],
   "source": [
    "# Percentage of \n",
    "customers_clean.loc[:, 'PRODUCT_GROUP'].value_counts() * 100 / customers_clean.index.size"
   ]
  },
  {
   "cell_type": "code",
   "execution_count": 143,
   "metadata": {},
   "outputs": [
    {
     "data": {
      "text/plain": [
       "(array([132238.,      0.,      0.,      0.,      0.,      0.,      0.,\n",
       "             0.,      0.,  59414.]),\n",
       " array([0. , 0.1, 0.2, 0.3, 0.4, 0.5, 0.6, 0.7, 0.8, 0.9, 1. ]),\n",
       " <a list of 10 Patch objects>)"
      ]
     },
     "execution_count": 143,
     "metadata": {},
     "output_type": "execute_result"
    },
    {
     "data": {
      "image/png": "[encoded data removed]",
      "text/plain": [
       "<Figure size 432x288 with 1 Axes>"
      ]
     },
     "metadata": {
      "needs_background": "light"
     },
     "output_type": "display_data"
    }
   ],
   "source": [
    "plt.hist(customers_clean.loc[:, 'CUSTOMER_GROUP'])"
   ]
  },
  {
   "cell_type": "code",
   "execution_count": 144,
   "metadata": {},
   "outputs": [
    {
     "data": {
      "text/plain": [
       "MULTI_BUYER     68.999019\n",
       "SINGLE_BUYER    31.000981\n",
       "Name: CUSTOMER_GROUP, dtype: float64"
      ]
     },
     "execution_count": 144,
     "metadata": {},
     "output_type": "execute_result"
    }
   ],
   "source": [
    "customers_clean.loc[:, 'CUSTOMER_GROUP'].value_counts() * 100 / customers_clean.index.size"
   ]
  }
 ],
 "metadata": {
  "kernelspec": {
   "display_name": "Python 3",
   "language": "python",
   "name": "python3"
  },
  "language_info": {
   "codemirror_mode": {
    "name": "ipython",
    "version": 3
   },
   "file_extension": ".py",
   "mimetype": "text/x-python",
   "name": "python",
   "nbconvert_exporter": "python",
   "pygments_lexer": "ipython3",
   "version": "3.7.3"
  }
 },
 "nbformat": 4,
 "nbformat_minor": 2
}
