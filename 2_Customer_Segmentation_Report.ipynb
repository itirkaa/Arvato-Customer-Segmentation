{
 "cells": [
  {
   "cell_type": "markdown",
   "metadata": {},
   "source": [
    "# Part 1: Customer Segmentation Report\n",
    "\n",
    "The main bulk of your analysis will come in this part of the project. Here, you should use unsupervised learning techniques to describe the relationship between the demographics of the company's existing customers and the general population of Germany. By the end of this part, you should be able to describe parts of the general population that are more likely to be part of the mail-order company's main customer base, and which parts of the general population are less so.\n"
   ]
  },
  {
   "cell_type": "code",
   "execution_count": 1,
   "metadata": {},
   "outputs": [],
   "source": [
    "# Importing libraries\n",
    "import os\n",
    "import io\n",
    "import boto3\n",
    "import sagemaker\n",
    "from sagemaker import PCA\n",
    "\n",
    "import matplotlib.pyplot as plt\n",
    "import seaborn as sns\n",
    "import numpy as np \n",
    "import pandas as pd\n",
    "import pickle, gzip, urllib, json\n",
    "import csv\n",
    "\n",
    "from utils import *\n",
    "\n",
    "%matplotlib inline"
   ]
  },
  {
   "cell_type": "code",
   "execution_count": 2,
   "metadata": {},
   "outputs": [],
   "source": [
    "# sagemaker session, role\n",
    "session = sagemaker.Session()\n",
    "role = sagemaker.get_execution_role()\n",
    "\n",
    "# S3 bucket name\n",
    "bucket = 'sagemaker-ap-south-1-714138043953'"
   ]
  },
  {
   "cell_type": "code",
   "execution_count": 3,
   "metadata": {},
   "outputs": [
    {
     "name": "stdout",
     "output_type": "stream",
     "text": [
      "['arvato-segmentation/attributes.csv', 'arvato-segmentation/azdias.pkl', 'arvato-segmentation/customers.pkl', 'arvato-segmentation/information.csv']\n"
     ]
    }
   ],
   "source": [
    "s3_client = boto3.client('s3')\n",
    "\n",
    "obj_list = s3_client.list_objects(Bucket=bucket)\n",
    "file=[]\n",
    "for contents in obj_list['Contents']:\n",
    "    file.append(contents['Key'])\n",
    "\n",
    "print(file)"
   ]
  },
  {
   "cell_type": "code",
   "execution_count": 4,
   "metadata": {},
   "outputs": [],
   "source": [
    "def read_pkl_s3(bucket, key):\n",
    "    \"\"\"Function to read pickle files from S3\n",
    "    :param bucket: S3 bucket name\n",
    "    :param key: path to file\n",
    "    :return: data\n",
    "    \"\"\"\n",
    "    response = s3_client.get_object(Bucket=bucket, Key=key)\n",
    "    body = response['Body'].read()\n",
    "    data = pickle.loads(body)\n",
    "    \n",
    "    return data"
   ]
  },
  {
   "cell_type": "code",
   "execution_count": 6,
   "metadata": {},
   "outputs": [
    {
     "name": "stdout",
     "output_type": "stream",
     "text": [
      "(791253, 353)\n",
      "______________________________________________________________________\n",
      "(140866, 356)\n"
     ]
    }
   ],
   "source": [
    "azdias = read_pkl_s3(bucket, file[1])\n",
    "customers = read_pkl_s3(bucket, file[2])\n",
    "\n",
    "print(azdias.shape)\n",
    "print(\"_______\"*10)\n",
    "print(customers.shape)"
   ]
  },
  {
   "cell_type": "code",
   "execution_count": 7,
   "metadata": {},
   "outputs": [
    {
     "data": {
      "text/plain": [
       "(140866, 353)"
      ]
     },
     "execution_count": 7,
     "metadata": {},
     "output_type": "execute_result"
    }
   ],
   "source": [
    "sep_attr = ['CUSTOMER_GROUP', 'ONLINE_PURCHASE', 'PRODUCT_GROUP']\n",
    "customers_az = customers.drop(sep_attr, axis = 1).copy()\n",
    "customers_az.shape"
   ]
  },
  {
   "cell_type": "markdown",
   "metadata": {},
   "source": [
    "\n",
    "## Pricipal Component Analysis\n",
    "Before training our machine learning model, we'll reduce the demension of our data for which we'll use **Incremental Principal Component Analysis.** Increamental PCA requires to split data into smaller batches, which are fed to IPCA one at a time."
   ]
  },
  {
   "cell_type": "code",
   "execution_count": 11,
   "metadata": {},
   "outputs": [],
   "source": [
    "prefix = 'arvato-segmentation'\n",
    "\n",
    "num_components = 150\n",
    "\n",
    "pca_SM = PCA(role=role,\n",
    "             train_instance_count=1,\n",
    "             train_instance_type='ml.p2.xlarge',\n",
    "             output_path='s3://{}/{}/'.format(bucket, prefix),\n",
    "             num_components=num_components)"
   ]
  },
  {
   "cell_type": "code",
   "execution_count": 12,
   "metadata": {},
   "outputs": [
    {
     "name": "stderr",
     "output_type": "stream",
     "text": [
      "'get_image_uri' method will be deprecated in favor of 'ImageURIProvider' class in SageMaker Python SDK v2.\n",
      "'s3_input' class will be renamed to 'TrainingInput' in SageMaker Python SDK v2.\n",
      "'get_image_uri' method will be deprecated in favor of 'ImageURIProvider' class in SageMaker Python SDK v2.\n"
     ]
    },
    {
     "name": "stdout",
     "output_type": "stream",
     "text": [
      "2020-10-21 22:09:46 Starting - Starting the training job...\n",
      "2020-10-21 22:09:47 Starting - Launching requested ML instances...\n",
      "2020-10-21 22:10:46 Starting - Preparing the instances for training.........\n",
      "2020-10-21 22:12:02 Downloading - Downloading input data......\n",
      "2020-10-21 22:13:10 Training - Downloading the training image..\u001b[34mDocker entrypoint called with argument(s): train\u001b[0m\n",
      "\u001b[34mRunning default environment configuration script\u001b[0m\n",
      "\u001b[34m[10/21/2020 22:13:30 INFO 139703499974464] Reading default configuration from /opt/amazon/lib/python2.7/site-packages/algorithm/resources/default-conf.json: {u'_num_gpus': u'auto', u'_log_level': u'info', u'subtract_mean': u'true', u'force_dense': u'true', u'epochs': 1, u'algorithm_mode': u'regular', u'extra_components': u'-1', u'_kvstore': u'dist_sync', u'_num_kv_servers': u'auto'}\u001b[0m\n",
      "\u001b[34m[10/21/2020 22:13:30 INFO 139703499974464] Merging with provided configuration from /opt/ml/input/config/hyperparameters.json: {u'feature_dim': u'353', u'mini_batch_size': u'500', u'num_components': u'150'}\u001b[0m\n",
      "\u001b[34m[10/21/2020 22:13:30 INFO 139703499974464] Final configuration: {u'num_components': u'150', u'_num_gpus': u'auto', u'_log_level': u'info', u'subtract_mean': u'true', u'force_dense': u'true', u'epochs': 1, u'algorithm_mode': u'regular', u'feature_dim': u'353', u'extra_components': u'-1', u'_kvstore': u'dist_sync', u'_num_kv_servers': u'auto', u'mini_batch_size': u'500'}\u001b[0m\n",
      "\u001b[34m[10/21/2020 22:13:30 WARNING 139703499974464] Loggers have already been setup.\u001b[0m\n",
      "\u001b[34m[10/21/2020 22:13:30 INFO 139703499974464] Launching parameter server for role scheduler\u001b[0m\n",
      "\u001b[34m[10/21/2020 22:13:30 INFO 139703499974464] {'ECS_CONTAINER_METADATA_URI': 'http://169.254.170.2/v3/0f6bce17-427f-4cbe-bd94-f99ee0f2cf9c', 'ECS_CONTAINER_METADATA_URI_V4': 'http://169.254.170.2/v4/0f6bce17-427f-4cbe-bd94-f99ee0f2cf9c', 'PROTOCOL_BUFFERS_PYTHON_IMPLEMENTATION_VERSION': '2', 'PATH': '/opt/amazon/bin:/usr/local/nvidia/bin:/usr/local/sbin:/usr/local/bin:/usr/sbin:/usr/bin:/sbin:/bin:/opt/amazon/bin:/opt/amazon/bin', 'SAGEMAKER_HTTP_PORT': '8080', 'HOME': '/root', 'PYTHONUNBUFFERED': 'TRUE', 'CANONICAL_ENVROOT': '/opt/amazon', 'LD_LIBRARY_PATH': '/opt/amazon/lib/python2.7/site-packages/cv2/../../../../lib:/usr/local/nvidia/lib64:/opt/amazon/lib', 'LANG': 'en_US.utf8', 'DMLC_INTERFACE': 'eth0', 'SHLVL': '1', 'AWS_REGION': 'ap-south-1', 'NVIDIA_VISIBLE_DEVICES': 'all', 'TRAINING_JOB_NAME': 'pca-2020-10-21-22-09-46-081', 'PROTOCOL_BUFFERS_PYTHON_IMPLEMENTATION': 'cpp', 'ENVROOT': '/opt/amazon', 'SAGEMAKER_DATA_PATH': '/opt/ml', 'NVIDIA_DRIVER_CAPABILITIES': 'utility,compute', 'NVIDIA_REQUIRE_CUDA': 'cuda>=9.0', 'OMP_NUM_THREADS': '2', 'HOSTNAME': 'ip-10-0-108-113.ap-south-1.compute.internal', 'AWS_CONTAINER_CREDENTIALS_RELATIVE_URI': '/v2/credentials/6da06293-ae44-4aa5-a893-91ee81eb9d08', 'PWD': '/', 'TRAINING_JOB_ARN': 'arn:aws:sagemaker:ap-south-1:714138043953:training-job/pca-2020-10-21-22-09-46-081', 'AWS_EXECUTION_ENV': 'AWS_ECS_EC2'}\u001b[0m\n",
      "\u001b[34m[10/21/2020 22:13:30 INFO 139703499974464] envs={'ECS_CONTAINER_METADATA_URI': 'http://169.254.170.2/v3/0f6bce17-427f-4cbe-bd94-f99ee0f2cf9c', 'ECS_CONTAINER_METADATA_URI_V4': 'http://169.254.170.2/v4/0f6bce17-427f-4cbe-bd94-f99ee0f2cf9c', 'PROTOCOL_BUFFERS_PYTHON_IMPLEMENTATION_VERSION': '2', 'DMLC_NUM_WORKER': '1', 'DMLC_PS_ROOT_PORT': '9000', 'PATH': '/opt/amazon/bin:/usr/local/nvidia/bin:/usr/local/sbin:/usr/local/bin:/usr/sbin:/usr/bin:/sbin:/bin:/opt/amazon/bin:/opt/amazon/bin', 'SAGEMAKER_HTTP_PORT': '8080', 'HOME': '/root', 'PYTHONUNBUFFERED': 'TRUE', 'CANONICAL_ENVROOT': '/opt/amazon', 'LD_LIBRARY_PATH': '/opt/amazon/lib/python2.7/site-packages/cv2/../../../../lib:/usr/local/nvidia/lib64:/opt/amazon/lib', 'LANG': 'en_US.utf8', 'DMLC_INTERFACE': 'eth0', 'SHLVL': '1', 'DMLC_PS_ROOT_URI': '10.0.108.113', 'AWS_REGION': 'ap-south-1', 'NVIDIA_VISIBLE_DEVICES': 'all', 'TRAINING_JOB_NAME': 'pca-2020-10-21-22-09-46-081', 'PROTOCOL_BUFFERS_PYTHON_IMPLEMENTATION': 'cpp', 'ENVROOT': '/opt/amazon', 'SAGEMAKER_DATA_PATH': '/opt/ml', 'NVIDIA_DRIVER_CAPABILITIES': 'utility,compute', 'NVIDIA_REQUIRE_CUDA': 'cuda>=9.0', 'OMP_NUM_THREADS': '2', 'HOSTNAME': 'ip-10-0-108-113.ap-south-1.compute.internal', 'AWS_CONTAINER_CREDENTIALS_RELATIVE_URI': '/v2/credentials/6da06293-ae44-4aa5-a893-91ee81eb9d08', 'DMLC_ROLE': 'scheduler', 'PWD': '/', 'DMLC_NUM_SERVER': '1', 'TRAINING_JOB_ARN': 'arn:aws:sagemaker:ap-south-1:714138043953:training-job/pca-2020-10-21-22-09-46-081', 'AWS_EXECUTION_ENV': 'AWS_ECS_EC2'}\u001b[0m\n",
      "\u001b[34m[10/21/2020 22:13:30 INFO 139703499974464] Launching parameter server for role server\u001b[0m\n",
      "\u001b[34m[10/21/2020 22:13:30 INFO 139703499974464] {'ECS_CONTAINER_METADATA_URI': 'http://169.254.170.2/v3/0f6bce17-427f-4cbe-bd94-f99ee0f2cf9c', 'ECS_CONTAINER_METADATA_URI_V4': 'http://169.254.170.2/v4/0f6bce17-427f-4cbe-bd94-f99ee0f2cf9c', 'PROTOCOL_BUFFERS_PYTHON_IMPLEMENTATION_VERSION': '2', 'PATH': '/opt/amazon/bin:/usr/local/nvidia/bin:/usr/local/sbin:/usr/local/bin:/usr/sbin:/usr/bin:/sbin:/bin:/opt/amazon/bin:/opt/amazon/bin', 'SAGEMAKER_HTTP_PORT': '8080', 'HOME': '/root', 'PYTHONUNBUFFERED': 'TRUE', 'CANONICAL_ENVROOT': '/opt/amazon', 'LD_LIBRARY_PATH': '/opt/amazon/lib/python2.7/site-packages/cv2/../../../../lib:/usr/local/nvidia/lib64:/opt/amazon/lib', 'LANG': 'en_US.utf8', 'DMLC_INTERFACE': 'eth0', 'SHLVL': '1', 'AWS_REGION': 'ap-south-1', 'NVIDIA_VISIBLE_DEVICES': 'all', 'TRAINING_JOB_NAME': 'pca-2020-10-21-22-09-46-081', 'PROTOCOL_BUFFERS_PYTHON_IMPLEMENTATION': 'cpp', 'ENVROOT': '/opt/amazon', 'SAGEMAKER_DATA_PATH': '/opt/ml', 'NVIDIA_DRIVER_CAPABILITIES': 'utility,compute', 'NVIDIA_REQUIRE_CUDA': 'cuda>=9.0', 'OMP_NUM_THREADS': '2', 'HOSTNAME': 'ip-10-0-108-113.ap-south-1.compute.internal', 'AWS_CONTAINER_CREDENTIALS_RELATIVE_URI': '/v2/credentials/6da06293-ae44-4aa5-a893-91ee81eb9d08', 'PWD': '/', 'TRAINING_JOB_ARN': 'arn:aws:sagemaker:ap-south-1:714138043953:training-job/pca-2020-10-21-22-09-46-081', 'AWS_EXECUTION_ENV': 'AWS_ECS_EC2'}\u001b[0m\n",
      "\u001b[34m[10/21/2020 22:13:30 INFO 139703499974464] envs={'ECS_CONTAINER_METADATA_URI': 'http://169.254.170.2/v3/0f6bce17-427f-4cbe-bd94-f99ee0f2cf9c', 'ECS_CONTAINER_METADATA_URI_V4': 'http://169.254.170.2/v4/0f6bce17-427f-4cbe-bd94-f99ee0f2cf9c', 'PROTOCOL_BUFFERS_PYTHON_IMPLEMENTATION_VERSION': '2', 'DMLC_NUM_WORKER': '1', 'DMLC_PS_ROOT_PORT': '9000', 'PATH': '/opt/amazon/bin:/usr/local/nvidia/bin:/usr/local/sbin:/usr/local/bin:/usr/sbin:/usr/bin:/sbin:/bin:/opt/amazon/bin:/opt/amazon/bin', 'SAGEMAKER_HTTP_PORT': '8080', 'HOME': '/root', 'PYTHONUNBUFFERED': 'TRUE', 'CANONICAL_ENVROOT': '/opt/amazon', 'LD_LIBRARY_PATH': '/opt/amazon/lib/python2.7/site-packages/cv2/../../../../lib:/usr/local/nvidia/lib64:/opt/amazon/lib', 'LANG': 'en_US.utf8', 'DMLC_INTERFACE': 'eth0', 'SHLVL': '1', 'DMLC_PS_ROOT_URI': '10.0.108.113', 'AWS_REGION': 'ap-south-1', 'NVIDIA_VISIBLE_DEVICES': 'all', 'TRAINING_JOB_NAME': 'pca-2020-10-21-22-09-46-081', 'PROTOCOL_BUFFERS_PYTHON_IMPLEMENTATION': 'cpp', 'ENVROOT': '/opt/amazon', 'SAGEMAKER_DATA_PATH': '/opt/ml', 'NVIDIA_DRIVER_CAPABILITIES': 'utility,compute', 'NVIDIA_REQUIRE_CUDA': 'cuda>=9.0', 'OMP_NUM_THREADS': '2', 'HOSTNAME': 'ip-10-0-108-113.ap-south-1.compute.internal', 'AWS_CONTAINER_CREDENTIALS_RELATIVE_URI': '/v2/credentials/6da06293-ae44-4aa5-a893-91ee81eb9d08', 'DMLC_ROLE': 'server', 'PWD': '/', 'DMLC_NUM_SERVER': '1', 'TRAINING_JOB_ARN': 'arn:aws:sagemaker:ap-south-1:714138043953:training-job/pca-2020-10-21-22-09-46-081', 'AWS_EXECUTION_ENV': 'AWS_ECS_EC2'}\u001b[0m\n",
      "\u001b[34m[10/21/2020 22:13:30 INFO 139703499974464] Environment: {'ECS_CONTAINER_METADATA_URI': 'http://169.254.170.2/v3/0f6bce17-427f-4cbe-bd94-f99ee0f2cf9c', 'ECS_CONTAINER_METADATA_URI_V4': 'http://169.254.170.2/v4/0f6bce17-427f-4cbe-bd94-f99ee0f2cf9c', 'PROTOCOL_BUFFERS_PYTHON_IMPLEMENTATION_VERSION': '2', 'DMLC_PS_ROOT_PORT': '9000', 'DMLC_NUM_WORKER': '1', 'SAGEMAKER_HTTP_PORT': '8080', 'PATH': '/opt/amazon/bin:/usr/local/nvidia/bin:/usr/local/sbin:/usr/local/bin:/usr/sbin:/usr/bin:/sbin:/bin:/opt/amazon/bin:/opt/amazon/bin', 'PYTHONUNBUFFERED': 'TRUE', 'CANONICAL_ENVROOT': '/opt/amazon', 'LD_LIBRARY_PATH': '/opt/amazon/lib/python2.7/site-packages/cv2/../../../../lib:/usr/local/nvidia/lib64:/opt/amazon/lib', 'LANG': 'en_US.utf8', 'DMLC_INTERFACE': 'eth0', 'SHLVL': '1', 'DMLC_PS_ROOT_URI': '10.0.108.113', 'AWS_REGION': 'ap-south-1', 'NVIDIA_VISIBLE_DEVICES': 'all', 'TRAINING_JOB_NAME': 'pca-2020-10-21-22-09-46-081', 'HOME': '/root', 'PROTOCOL_BUFFERS_PYTHON_IMPLEMENTATION': 'cpp', 'ENVROOT': '/opt/amazon', 'SAGEMAKER_DATA_PATH': '/opt/ml', 'NVIDIA_DRIVER_CAPABILITIES': 'utility,compute', 'NVIDIA_REQUIRE_CUDA': 'cuda>=9.0', 'OMP_NUM_THREADS': '2', 'HOSTNAME': 'ip-10-0-108-113.ap-south-1.compute.internal', 'AWS_CONTAINER_CREDENTIALS_RELATIVE_URI': '/v2/credentials/6da06293-ae44-4aa5-a893-91ee81eb9d08', 'DMLC_ROLE': 'worker', 'PWD': '/', 'DMLC_NUM_SERVER': '1', 'TRAINING_JOB_ARN': 'arn:aws:sagemaker:ap-south-1:714138043953:training-job/pca-2020-10-21-22-09-46-081', 'AWS_EXECUTION_ENV': 'AWS_ECS_EC2'}\u001b[0m\n",
      "\u001b[34mProcess 60 is a shell:scheduler.\u001b[0m\n",
      "\u001b[34mProcess 69 is a shell:server.\u001b[0m\n",
      "\u001b[34mProcess 1 is a worker.\u001b[0m\n",
      "\u001b[34m[10/21/2020 22:13:30 INFO 139703499974464] Using default worker.\u001b[0m\n",
      "\u001b[34m[10/21/2020 22:13:30 INFO 139703499974464] Loaded iterator creator application/x-recordio-protobuf for content type ('application/x-recordio-protobuf', '1.0')\u001b[0m\n",
      "\u001b[34m[10/21/2020 22:13:31 INFO 139703499974464] Loaded iterator creator application/x-labeled-vector-protobuf for content type ('application/x-labeled-vector-protobuf', '1.0')\u001b[0m\n",
      "\u001b[34m[10/21/2020 22:13:31 INFO 139703499974464] Loaded iterator creator protobuf for content type ('protobuf', '1.0')\u001b[0m\n",
      "\u001b[34m[10/21/2020 22:13:31 INFO 139703499974464] Checkpoint loading and saving are disabled.\u001b[0m\n",
      "\u001b[34m[10/21/2020 22:13:31 INFO 139703499974464] Create Store: dist_sync\u001b[0m\n",
      "\u001b[34m[10/21/2020 22:13:31 INFO 139703499974464] nvidia-smi took: 0.0252239704132 secs to identify 1 gpus\u001b[0m\n",
      "\u001b[34m[10/21/2020 22:13:31 INFO 139703499974464] Number of GPUs being used: 1\u001b[0m\n",
      "\u001b[34m[10/21/2020 22:13:31 INFO 139703499974464] The default executor is <PCAExecutor on gpu(0)>.\u001b[0m\n",
      "\u001b[34m[10/21/2020 22:13:31 INFO 139703499974464] 353 feature(s) found in 'data'.\u001b[0m\n",
      "\n",
      "2020-10-21 22:13:27 Training - Training image download completed. Training in progress.\u001b[34m[10/21/2020 22:13:34 INFO 139703499974464] <PCAExecutor on gpu(0)> is assigned to batch slice from 0 to 499.\u001b[0m\n",
      "\u001b[34m#metrics {\"Metrics\": {\"initialize.time\": {\"count\": 1, \"max\": 6940.895080566406, \"sum\": 6940.895080566406, \"min\": 6940.895080566406}}, \"EndTime\": 1603318418.06915, \"Dimensions\": {\"Host\": \"algo-1\", \"Operation\": \"training\", \"Algorithm\": \"PCA\"}, \"StartTime\": 1603318411.115319}\n",
      "\u001b[0m\n",
      "\u001b[34m#metrics {\"Metrics\": {\"Max Batches Seen Between Resets\": {\"count\": 1, \"max\": 0, \"sum\": 0.0, \"min\": 0}, \"Number of Batches Since Last Reset\": {\"count\": 1, \"max\": 0, \"sum\": 0.0, \"min\": 0}, \"Number of Records Since Last Reset\": {\"count\": 1, \"max\": 0, \"sum\": 0.0, \"min\": 0}, \"Total Batches Seen\": {\"count\": 1, \"max\": 0, \"sum\": 0.0, \"min\": 0}, \"Total Records Seen\": {\"count\": 1, \"max\": 0, \"sum\": 0.0, \"min\": 0}, \"Max Records Seen Between Resets\": {\"count\": 1, \"max\": 0, \"sum\": 0.0, \"min\": 0}, \"Reset Count\": {\"count\": 1, \"max\": 0, \"sum\": 0.0, \"min\": 0}}, \"EndTime\": 1603318418.069432, \"Dimensions\": {\"Host\": \"algo-1\", \"Meta\": \"init_train_data_iter\", \"Operation\": \"training\", \"Algorithm\": \"PCA\"}, \"StartTime\": 1603318418.069356}\n",
      "\u001b[0m\n",
      "\u001b[34m[2020-10-21 22:13:38.076] [tensorio] [info] epoch_stats={\"data_pipeline\": \"/opt/ml/input/data/train\", \"epoch\": 0, \"duration\": 6960, \"num_examples\": 1, \"num_bytes\": 1426000}\u001b[0m\n",
      "\u001b[34m[2020-10-21 22:13:54.578] [tensorio] [info] epoch_stats={\"data_pipeline\": \"/opt/ml/input/data/train\", \"epoch\": 1, \"duration\": 16473, \"num_examples\": 1583, \"num_bytes\": 2256653556}\u001b[0m\n",
      "\u001b[34m#metrics {\"Metrics\": {\"epochs\": {\"count\": 1, \"max\": 1, \"sum\": 1.0, \"min\": 1}, \"update.time\": {\"count\": 1, \"max\": 16501.786947250366, \"sum\": 16501.786947250366, \"min\": 16501.786947250366}}, \"EndTime\": 1603318434.578708, \"Dimensions\": {\"Host\": \"algo-1\", \"Operation\": \"training\", \"Algorithm\": \"PCA\"}, \"StartTime\": 1603318418.069267}\n",
      "\u001b[0m\n",
      "\u001b[34m[10/21/2020 22:13:54 INFO 139703499974464] #progress_metric: host=algo-1, completed 100 % of epochs\u001b[0m\n",
      "\u001b[34m#metrics {\"Metrics\": {\"Max Batches Seen Between Resets\": {\"count\": 1, \"max\": 1583, \"sum\": 1583.0, \"min\": 1583}, \"Number of Batches Since Last Reset\": {\"count\": 1, \"max\": 1583, \"sum\": 1583.0, \"min\": 1583}, \"Number of Records Since Last Reset\": {\"count\": 1, \"max\": 791253, \"sum\": 791253.0, \"min\": 791253}, \"Total Batches Seen\": {\"count\": 1, \"max\": 1583, \"sum\": 1583.0, \"min\": 1583}, \"Total Records Seen\": {\"count\": 1, \"max\": 791253, \"sum\": 791253.0, \"min\": 791253}, \"Max Records Seen Between Resets\": {\"count\": 1, \"max\": 791253, \"sum\": 791253.0, \"min\": 791253}, \"Reset Count\": {\"count\": 1, \"max\": 1, \"sum\": 1.0, \"min\": 1}}, \"EndTime\": 1603318434.579152, \"Dimensions\": {\"Host\": \"algo-1\", \"Meta\": \"training_data_iter\", \"Operation\": \"training\", \"Algorithm\": \"PCA\", \"epoch\": 0}, \"StartTime\": 1603318418.076871}\n",
      "\u001b[0m\n",
      "\u001b[34m[10/21/2020 22:13:54 INFO 139703499974464] #throughput_metric: host=algo-1, train throughput=47947.5087515 records/second\u001b[0m\n",
      "\u001b[34m#metrics {\"Metrics\": {\"finalize.time\": {\"count\": 1, \"max\": 49.24893379211426, \"sum\": 49.24893379211426, \"min\": 49.24893379211426}}, \"EndTime\": 1603318434.62887, \"Dimensions\": {\"Host\": \"algo-1\", \"Operation\": \"training\", \"Algorithm\": \"PCA\"}, \"StartTime\": 1603318434.578824}\n",
      "\u001b[0m\n",
      "\u001b[34m[10/21/2020 22:13:54 INFO 139703499974464] Test data is not provided.\u001b[0m\n",
      "\u001b[34m#metrics {\"Metrics\": {\"totaltime\": {\"count\": 1, \"max\": 23747.18999862671, \"sum\": 23747.18999862671, \"min\": 23747.18999862671}, \"setuptime\": {\"count\": 1, \"max\": 21.079063415527344, \"sum\": 21.079063415527344, \"min\": 21.079063415527344}}, \"EndTime\": 1603318434.678911, \"Dimensions\": {\"Host\": \"algo-1\", \"Operation\": \"training\", \"Algorithm\": \"PCA\"}, \"StartTime\": 1603318434.628977}\n",
      "\u001b[0m\n",
      "\n",
      "2020-10-21 22:14:04 Uploading - Uploading generated training model\n",
      "2020-10-21 22:14:04 Completed - Training job completed\n",
      "Training seconds: 122\n",
      "Billable seconds: 122\n",
      "CPU times: user 1min 8s, sys: 5.16 s, total: 1min 13s\n",
      "Wall time: 6min 18s\n"
     ]
    }
   ],
   "source": [
    "%%time\n",
    "pca_SM.fit(pca_SM.record_set(azdias.values))"
   ]
  },
  {
   "cell_type": "code",
   "execution_count": 15,
   "metadata": {},
   "outputs": [
    {
     "name": "stdout",
     "output_type": "stream",
     "text": [
      "arvato-segmentation/pca-2020-10-21-22-09-46-081/output/model.tar.gz\n"
     ]
    },
    {
     "data": {
      "text/plain": [
       "2304"
      ]
     },
     "execution_count": 15,
     "metadata": {},
     "output_type": "execute_result"
    }
   ],
   "source": [
    "pca_training_job_name = 'pca-2020-10-21-22-09-46-081'\n",
    "\n",
    "# where the model is saved, by default\n",
    "pca_model_key = os.path.join(prefix, pca_training_job_name, 'output/model.tar.gz')\n",
    "print(pca_model_key)\n",
    "\n",
    "# download and unzip model\n",
    "boto3.resource('s3').Bucket(bucket).download_file(pca_model_key, 'model.tar.gz')\n",
    "\n",
    "# unzipping as model_algo-1\n",
    "os.system('tar -zxvf model.tar.gz')\n",
    "os.system('unzip model_algo-1')"
   ]
  },
  {
   "cell_type": "code",
   "execution_count": 16,
   "metadata": {},
   "outputs": [
    {
     "name": "stdout",
     "output_type": "stream",
     "text": [
      "{'s': \n",
      "[ 704.6282   706.7315   708.7239   711.1028   713.4276   716.2071\n",
      "  718.74365  720.9439   721.45905  724.19916  724.47314  730.11456\n",
      "  731.63934  735.4188   736.0123   737.5653   739.991    744.4948\n",
      "  745.3291   748.4225   749.35645  750.66425  753.1534   757.746\n",
      "  760.96277  763.6835   767.00824  767.41675  769.6106   771.32965\n",
      "  774.40625  775.2694   779.8402   780.7153   781.6288   785.5108\n",
      "  788.5035   789.5478   792.3908   796.4925   797.3434   798.2613\n",
      "  800.52094  803.954    805.3897   809.591    811.1333   813.5099\n",
      "  815.0512   818.28937  819.5548   821.28973  825.59204  827.8891\n",
      "  832.432    834.2066   836.5611   839.289    840.0689   843.56714\n",
      "  844.8338   847.3176   851.0208   853.7082   855.2297   857.7325\n",
      "  860.5384   861.1796   864.8787   870.5476   872.4166   875.27484\n",
      "  886.90045  889.775    891.255    897.8568   901.8539   907.8589\n",
      "  907.94006  911.9697   916.0122   918.7895   924.0326   927.8112\n",
      "  937.8108   941.4426   948.2784   952.4517   968.7046   978.3908\n",
      "  982.7286   987.1171   991.26215  999.38    1008.5764  1024.594\n",
      " 1027.4213  1039.6296  1042.851   1047.3715  1059.391   1068.2773\n",
      " 1069.6399  1075.254   1086.918   1095.2437  1121.1371  1127.7446\n",
      " 1130.9537  1144.2766  1151.5159  1167.2859  1169.7167  1183.7426\n",
      " 1197.9581  1226.521   1245.2211  1253.8657  1260.5612  1273.2565\n",
      " 1301.9816  1327.8511  1343.3254  1349.6969  1376.936   1439.027\n",
      " 1449.1099  1453.6375  1474.1904  1481.3083  1530.002   1578.0773\n",
      " 1613.4176  1633.3827  1659.1597  1684.8723  1702.0393  1789.5984\n",
      " 1873.3541  1919.8927  1994.6678  2073.924   2224.812   2306.7856\n",
      " 2380.215   2582.603   3295.756   3708.5984  3825.1719  4890.7954 ]\n",
      "<NDArray 150 @cpu(0)>, 'v': \n",
      "[[-0.02497003 -0.00676854 -0.02453807 ... -0.07888288  0.0391232\n",
      "   0.01995315]\n",
      " [ 0.17988157 -0.01406881  0.03218664 ... -0.01063785  0.0124295\n",
      "  -0.07080447]\n",
      " [-0.03678858  0.01224359 -0.01312284 ... -0.04694573 -0.11128438\n",
      "  -0.00863899]\n",
      " ...\n",
      " [ 0.17474854  0.00136792 -0.10151044 ... -0.00505725 -0.03744435\n",
      "  -0.07917694]\n",
      " [-0.02825898 -0.02252473  0.01485958 ... -0.00790866 -0.00583929\n",
      "  -0.004228  ]\n",
      " [ 0.00996106  0.03852876  0.02193897 ...  0.05516551  0.11218576\n",
      "   0.01931508]]\n",
      "<NDArray 353x150 @cpu(0)>, 'mean': \n",
      "[[ 5.26462385e-09 -3.14696269e-09 -1.03653308e-08  3.09814907e-09\n",
      "   5.56752333e-09  6.12759798e-09  2.15119780e-08  7.32382954e-09\n",
      "   1.39201273e-09 -2.20709229e-08  5.73528203e-09 -1.20442731e-08\n",
      "   2.69649258e-09 -1.42342511e-08 -1.62530800e-09  1.99737507e-08\n",
      "   1.75668244e-08 -1.62880323e-08  2.67570166e-09 -2.82997648e-09\n",
      "   1.40884131e-08  3.07042791e-09 -1.13126735e-08 -1.66086345e-09\n",
      "  -7.52812301e-09 -4.60172478e-09  5.96850214e-09  7.51365992e-09\n",
      "   7.14002546e-09  1.26746302e-08  4.26545421e-09  3.02523034e-10\n",
      "   9.73617897e-09 -3.90537958e-09  1.16212231e-08  1.32659661e-08\n",
      "  -4.19735635e-10 -1.11499618e-08 -7.47991180e-09 -1.37818219e-08\n",
      "   9.42521949e-10  1.68978997e-09  1.30940645e-08  2.31412042e-10\n",
      "   1.04496998e-08  1.61705191e-08  1.63012910e-08 -1.18381722e-08\n",
      "  -1.69328533e-08  2.40150261e-10 -6.29151453e-10 -4.69694106e-09\n",
      "  -5.50628076e-09 -1.63555285e-08 -4.30402292e-09 -8.65022987e-09\n",
      "  -7.25693683e-09 -4.15818491e-09  2.05137134e-08 -8.89248941e-09\n",
      "  -1.02821671e-08  2.46779237e-08 -3.09814907e-09 -4.14854284e-09\n",
      "  -5.26100807e-09  1.21190000e-08  3.14304560e-09 -9.14439102e-09\n",
      "   2.74922329e-09  1.96218131e-09 -3.75080322e-09 -8.00330113e-09\n",
      "   5.26823962e-09  8.04156830e-09  3.94364674e-09  8.08375322e-09\n",
      "   1.60542102e-09  4.09370315e-09  9.79282655e-10  1.13295477e-10\n",
      "  -7.58838681e-09 -7.45701190e-09 -6.99057212e-09 -2.51299004e-09\n",
      "  -7.00865088e-10 -5.21761834e-09  1.86093851e-09  1.09185505e-08\n",
      "  -1.98467838e-08 -1.63193692e-09  3.87072774e-09 -5.45264633e-09\n",
      "  -9.18537069e-09  5.04285413e-09  1.40264920e-08 -4.45950299e-09\n",
      "  -9.94228078e-09 -5.09950171e-09 -1.00543707e-08  4.98500086e-09\n",
      "   1.34435929e-08  1.43559831e-08 -6.01671291e-09  2.10199258e-09\n",
      "  -3.11200976e-09  7.19637194e-09 -9.13715947e-09  9.71448433e-09\n",
      "  -2.31894148e-09  5.55494362e-09  2.82033424e-10 -1.65122127e-09\n",
      "   2.38643660e-09 -1.25574173e-08 -2.32858355e-09  3.91592536e-09\n",
      "   1.00278550e-08 -1.13006209e-08 -1.78973707e-08  7.64985497e-09\n",
      "   3.72368492e-09 -1.72594810e-08 -4.20262936e-10  5.87931215e-09\n",
      "  -1.30295827e-08 -2.76248113e-09 -8.07049449e-09 -6.69286981e-09\n",
      "   2.08029771e-09 -1.47525170e-09 -8.25459978e-10  1.64278446e-09\n",
      "  -1.09679665e-09  5.19999110e-09 -4.02982359e-09 -1.06280797e-08\n",
      "  -1.47531196e-08  2.09114526e-09 -4.36308101e-10 -8.11840462e-09\n",
      "  -2.99389313e-09  3.44345930e-09 -1.39088274e-09  1.49694657e-09\n",
      "  -1.27288677e-08 -9.87237492e-09  1.66616658e-08  6.42168407e-09\n",
      "   9.65663105e-09 -2.19612435e-08  1.45150789e-08  7.92947841e-09\n",
      "   8.91780072e-09  4.90786345e-09 -1.28530102e-08  5.84194870e-09\n",
      "   1.99231298e-08 -8.77437323e-09  3.78214038e-09 -5.95765481e-09\n",
      "   6.26740937e-10 -8.17655899e-09  1.01700772e-08  1.36123308e-08\n",
      "   5.32175370e-08  1.30181323e-08 -3.88699917e-09 -6.33731512e-09\n",
      "  -6.64345379e-09 -8.99132213e-10 -3.82553011e-09 -1.94771799e-09\n",
      "   2.94568236e-09  2.50093751e-10 -1.71871650e-09  1.31495073e-08\n",
      "   5.19230747e-09  1.02761408e-08  8.13497714e-09  1.53431001e-09\n",
      "   4.48541604e-09 -1.18357613e-09  4.42455006e-09  5.59245761e-10\n",
      "  -4.44021842e-09 -8.35373370e-09  2.89265056e-10 -1.48826871e-08\n",
      "   1.88383869e-08 -9.07026720e-09 -2.08102104e-08 -9.87358018e-09\n",
      "  -1.32923317e-08 -8.37964720e-09 -8.32842240e-09 -2.98907210e-09\n",
      "  -1.03397184e-08 -6.89656066e-09  2.65159628e-09 -5.05972775e-09\n",
      "   3.60014463e-09  1.72112702e-09 -8.94672691e-09  1.14428431e-08\n",
      "   5.40925615e-09 -4.25737881e-08  1.00760662e-08 -1.57649449e-09\n",
      "  -4.08827923e-08 -9.32397626e-09  9.25015353e-09  1.30783961e-08\n",
      "   3.23012644e-10  9.75546399e-09 -5.17904963e-09 -9.21550214e-09\n",
      "   1.80549597e-09  3.74116116e-09  3.30726380e-09  7.92104160e-09\n",
      "  -3.87615184e-09 -4.71260975e-10 -1.70425318e-09 -5.41889866e-09\n",
      "   7.05324599e-09  1.52442681e-08  9.89467264e-09  3.08549380e-10\n",
      "  -4.08827923e-08  5.33694022e-09  8.06687872e-09 -7.68962938e-09\n",
      "  -5.69490544e-09  8.86235796e-09  1.66327396e-10  5.56473623e-09\n",
      "  -1.03605098e-08  4.35102843e-09  7.83667264e-09  5.99441563e-09\n",
      "  -2.16346141e-09  1.20090196e-08  1.80081052e-08 -2.71185973e-11\n",
      "  -1.92843363e-11 -7.08639103e-09 -9.01904329e-09 -3.00112490e-09\n",
      "  -8.48992876e-09  6.92789781e-09 -1.33254767e-08  6.26138297e-09\n",
      "  -4.11901357e-09 -9.71448433e-09  7.66190755e-09  1.69864869e-08\n",
      "   1.49971875e-08  1.28988109e-08  6.99780367e-09 -1.99261425e-08\n",
      "  -1.78428330e-08  2.14297184e-08  2.15984564e-09 -1.72112702e-09\n",
      "  -1.22455535e-09 -2.08114148e-08 -5.52857804e-09 -4.17023777e-10\n",
      "   5.41046186e-09 -2.86372392e-09  1.01923741e-08  7.58477015e-09\n",
      "   9.41557765e-09  2.58530641e-09  1.75632096e-08 -8.46883719e-09\n",
      "  -4.41370229e-09  1.02520357e-08  7.68480835e-09  7.76375320e-09\n",
      "   1.85756370e-08 -1.59577884e-09  9.28540800e-09  8.66107719e-09\n",
      "   7.85836729e-10  8.65022987e-09 -1.52707835e-09 -1.67641154e-08\n",
      "   1.46856252e-08 -9.38665057e-09  4.07863698e-09 -1.33321052e-08\n",
      "   9.96156491e-10  1.87841493e-08 -6.09987660e-09  3.49136897e-08\n",
      "   6.32511155e-09  9.50958867e-09 -3.32172689e-09 -6.55185328e-09\n",
      "   8.27780156e-09 -1.71112333e-08 -6.27946184e-09 -8.98529517e-09\n",
      "  -1.23226913e-08 -2.71314038e-09 -3.23976845e-09  1.90553351e-09\n",
      "   2.68052269e-09 -7.21535498e-09 -2.68172795e-09 -3.18263851e-08\n",
      "   8.69542749e-09 -4.47878712e-09  2.43464737e-09  2.03751060e-08\n",
      "   1.77204971e-08 -7.76194575e-09 -3.97221172e-08 -3.80865650e-09\n",
      "  -3.23012644e-10 -1.23974182e-08  4.30402292e-09 -7.05083547e-09\n",
      "   2.22143495e-08 -2.77453394e-09  8.76661410e-09  2.25988317e-09\n",
      "   1.97641858e-09 -1.36557210e-08  1.28313156e-08 -6.21919849e-09\n",
      "   7.30394245e-10 -4.41671588e-09  9.56985158e-09 -4.68368322e-09\n",
      "  -1.41595242e-08 -8.48088977e-09  1.67532677e-09  1.53129687e-09\n",
      "  -5.45505685e-09  2.93073708e-08 -2.59133270e-09  1.93668974e-08\n",
      "  -7.23712512e-09 -8.28985414e-09  3.53144403e-09  3.01317749e-10\n",
      "  -9.88563276e-09  7.16232318e-09  6.96737068e-09  2.15502460e-08\n",
      "  -1.13488321e-08]]\n",
      "<NDArray 1x353 @cpu(0)>}\n"
     ]
    }
   ],
   "source": [
    "import mxnet as mx\n",
    "\n",
    "# loading the unzipped artifacts\n",
    "pca_model_params = mx.ndarray.load('model_algo-1')\n",
    "\n",
    "# what are the params\n",
    "print(pca_model_params)"
   ]
  },
  {
   "cell_type": "markdown",
   "metadata": {},
   "source": [
    "### PCA Model Attributes\n",
    "\n",
    "Three types of model attributes are contained within the PCA model.\n",
    "\n",
    "    mean: The mean that was subtracted from a component in order to center it.\n",
    "    v: The makeup of the principal components; (same as ‘components_’ in an sklearn PCA model).\n",
    "    s: The singular values of the components for the PCA transformation. This does not exactly give the % variance from the original feature space, but can give the % variance from the projected feature space.\n",
    "\n",
    "We are only interested in v and s.\n",
    "\n",
    "From s, we can get an approximation of the data variance that is covered in the first n principal components. The approximate explained variance is given by the formula: the sum of squared s values for all top n components over the sum over squared s values for all components:\n",
    "$$\\begin{equation*} \\frac{\\sum_{n}^{ } s_n^2}{\\sum s^2} \\end{equation*}$$\n",
    "\n",
    "From v, we can learn more about the combinations of original features that make up each principal component.\n"
   ]
  },
  {
   "cell_type": "code",
   "execution_count": 17,
   "metadata": {},
   "outputs": [],
   "source": [
    "# get selected params\n",
    "s=pd.DataFrame(pca_model_params['s'].asnumpy())\n",
    "v=pd.DataFrame(pca_model_params['v'].asnumpy())"
   ]
  },
  {
   "cell_type": "code",
   "execution_count": 19,
   "metadata": {},
   "outputs": [
    {
     "name": "stdout",
     "output_type": "stream",
     "text": [
      "               0\n",
      "145  2582.603027\n",
      "146  3295.756104\n",
      "147  3708.598389\n",
      "148  3825.171875\n",
      "149  4890.795410\n"
     ]
    }
   ],
   "source": [
    "# looking at top 5 components\n",
    "n_principal_components = 5\n",
    "\n",
    "start_idx = num_components - n_principal_components  # 33-n\n",
    "\n",
    "# print a selection of s\n",
    "print(s.iloc[start_idx:, :])"
   ]
  },
  {
   "cell_type": "code",
   "execution_count": 20,
   "metadata": {},
   "outputs": [],
   "source": [
    "def explained_variance(s, n_top_components):\n",
    "    \"\"\"Calculates the approx. data variance that n_top_components captures.\n",
    "       :param s: A dataframe of singular values for top components; \n",
    "           the top value is in the last row.\n",
    "       :param n_top_components: An integer, the number of top components to use.\n",
    "       :return: The expected data variance covered by the n_top_components.\n",
    "    \"\"\"\n",
    "#     num_components = 150\n",
    "    start_idx = num_components - n_top_components\n",
    "    top_principal_components = s.iloc[start_idx:, :]\n",
    "    \n",
    "    variance = np.sum(np.square(top_principal_components)) / np.sum(np.square(s))\n",
    "    \n",
    "    return variance[0]"
   ]
  },
  {
   "cell_type": "code",
   "execution_count": 23,
   "metadata": {},
   "outputs": [
    {
     "name": "stdout",
     "output_type": "stream",
     "text": [
      "Explained variance:  0.95604914\n"
     ]
    }
   ],
   "source": [
    "# test cell\n",
    "n_top_components = 130 # select a value for the number of top components\n",
    "\n",
    "# calculate the explained variance\n",
    "exp_variance = explained_variance(s, n_top_components)\n",
    "print('Explained variance: ', exp_variance)"
   ]
  },
  {
   "cell_type": "code",
   "execution_count": 29,
   "metadata": {},
   "outputs": [],
   "source": [
    "def display_component(v, features_list, component_num, n_weights=10):\n",
    "    \n",
    "    # get index of component (last row - component_num)\n",
    "    row_idx = num_components-component_num\n",
    "\n",
    "    # get the list of weights from a row in v, dataframe\n",
    "    v_1_row = v.iloc[:, row_idx]\n",
    "    v_1 = np.squeeze(v_1_row.values)\n",
    "\n",
    "    # match weights to features in counties_scaled dataframe, using list comporehension\n",
    "    comps = pd.DataFrame(list(zip(v_1, features_list)), \n",
    "                         columns=['weights', 'features'])\n",
    "\n",
    "    # we'll want to sort by the largest n_weights\n",
    "    # weights can be neg/pos and we'll sort by magnitude\n",
    "    comps['abs_weights']=comps['weights'].apply(lambda x: np.abs(x))\n",
    "    sorted_weight_data = comps.sort_values('abs_weights', ascending=False).head(n_weights)\n",
    "\n",
    "    # display using seaborn\n",
    "    ax=plt.subplots(figsize=(10,6))\n",
    "    ax=sns.barplot(data=sorted_weight_data, \n",
    "                   x=\"weights\", \n",
    "                   y=\"features\", \n",
    "                   palette=\"Blues_d\")\n",
    "    ax.set_title(\"PCA Component Makeup, Component #\" + str(component_num))\n",
    "    plt.show()"
   ]
  },
  {
   "cell_type": "code",
   "execution_count": 30,
   "metadata": {},
   "outputs": [
    {
     "data": {
      "image/png": "[encoded data removed]",
      "text/plain": [
       "<Figure size 720x432 with 1 Axes>"
      ]
     },
     "metadata": {
      "needs_background": "light"
     },
     "output_type": "display_data"
    }
   ],
   "source": [
    "# display makeup of first component\n",
    "num=100\n",
    "display_component(v, azdias.columns.values, component_num=num, n_weights=10)"
   ]
  },
  {
   "cell_type": "markdown",
   "metadata": {},
   "source": [
    "### Deploying PCA Model"
   ]
  },
  {
   "cell_type": "code",
   "execution_count": 34,
   "metadata": {},
   "outputs": [
    {
     "name": "stderr",
     "output_type": "stream",
     "text": [
      "Parameter image will be renamed to image_uri in SageMaker Python SDK v2.\n",
      "Using already existing model: pca-2020-10-21-22-09-46-081\n"
     ]
    },
    {
     "ename": "ResourceLimitExceeded",
     "evalue": "An error occurred (ResourceLimitExceeded) when calling the CreateEndpoint operation: The account-level service limit 'ml.c4.large for endpoint usage' is 0 Instances, with current utilization of 0 Instances and a request delta of 1 Instances. Please contact AWS support to request an increase for this limit.",
     "output_type": "error",
     "traceback": [
      "\u001b[0;31m---------------------------------------------------------------------------\u001b[0m",
      "\u001b[0;31mResourceLimitExceeded\u001b[0m                     Traceback (most recent call last)",
      "\u001b[0;32m<timed exec>\u001b[0m in \u001b[0;36m<module>\u001b[0;34m\u001b[0m\n",
      "\u001b[0;32m~/anaconda3/envs/mxnet_p36/lib/python3.6/site-packages/sagemaker/estimator.py\u001b[0m in \u001b[0;36mdeploy\u001b[0;34m(self, initial_instance_count, instance_type, accelerator_type, endpoint_name, use_compiled_model, update_endpoint, wait, model_name, kms_key, data_capture_config, tags, **kwargs)\u001b[0m\n\u001b[1;32m    743\u001b[0m             \u001b[0mwait\u001b[0m\u001b[0;34m=\u001b[0m\u001b[0mwait\u001b[0m\u001b[0;34m,\u001b[0m\u001b[0;34m\u001b[0m\u001b[0;34m\u001b[0m\u001b[0m\n\u001b[1;32m    744\u001b[0m             \u001b[0mkms_key\u001b[0m\u001b[0;34m=\u001b[0m\u001b[0mkms_key\u001b[0m\u001b[0;34m,\u001b[0m\u001b[0;34m\u001b[0m\u001b[0;34m\u001b[0m\u001b[0m\n\u001b[0;32m--> 745\u001b[0;31m             \u001b[0mdata_capture_config\u001b[0m\u001b[0;34m=\u001b[0m\u001b[0mdata_capture_config\u001b[0m\u001b[0;34m,\u001b[0m\u001b[0;34m\u001b[0m\u001b[0;34m\u001b[0m\u001b[0m\n\u001b[0m\u001b[1;32m    746\u001b[0m         )\n\u001b[1;32m    747\u001b[0m \u001b[0;34m\u001b[0m\u001b[0m\n",
      "\u001b[0;32m~/anaconda3/envs/mxnet_p36/lib/python3.6/site-packages/sagemaker/model.py\u001b[0m in \u001b[0;36mdeploy\u001b[0;34m(self, initial_instance_count, instance_type, accelerator_type, endpoint_name, update_endpoint, tags, kms_key, wait, data_capture_config)\u001b[0m\n\u001b[1;32m    579\u001b[0m                 \u001b[0mkms_key\u001b[0m\u001b[0;34m=\u001b[0m\u001b[0mkms_key\u001b[0m\u001b[0;34m,\u001b[0m\u001b[0;34m\u001b[0m\u001b[0;34m\u001b[0m\u001b[0m\n\u001b[1;32m    580\u001b[0m                 \u001b[0mwait\u001b[0m\u001b[0;34m=\u001b[0m\u001b[0mwait\u001b[0m\u001b[0;34m,\u001b[0m\u001b[0;34m\u001b[0m\u001b[0;34m\u001b[0m\u001b[0m\n\u001b[0;32m--> 581\u001b[0;31m                 \u001b[0mdata_capture_config_dict\u001b[0m\u001b[0;34m=\u001b[0m\u001b[0mdata_capture_config_dict\u001b[0m\u001b[0;34m,\u001b[0m\u001b[0;34m\u001b[0m\u001b[0;34m\u001b[0m\u001b[0m\n\u001b[0m\u001b[1;32m    582\u001b[0m             )\n\u001b[1;32m    583\u001b[0m \u001b[0;34m\u001b[0m\u001b[0m\n",
      "\u001b[0;32m~/anaconda3/envs/mxnet_p36/lib/python3.6/site-packages/sagemaker/session.py\u001b[0m in \u001b[0;36mendpoint_from_production_variants\u001b[0;34m(self, name, production_variants, tags, kms_key, wait, data_capture_config_dict)\u001b[0m\n\u001b[1;32m   2903\u001b[0m \u001b[0;34m\u001b[0m\u001b[0m\n\u001b[1;32m   2904\u001b[0m             \u001b[0mself\u001b[0m\u001b[0;34m.\u001b[0m\u001b[0msagemaker_client\u001b[0m\u001b[0;34m.\u001b[0m\u001b[0mcreate_endpoint_config\u001b[0m\u001b[0;34m(\u001b[0m\u001b[0;34m**\u001b[0m\u001b[0mconfig_options\u001b[0m\u001b[0;34m)\u001b[0m\u001b[0;34m\u001b[0m\u001b[0;34m\u001b[0m\u001b[0m\n\u001b[0;32m-> 2905\u001b[0;31m         \u001b[0;32mreturn\u001b[0m \u001b[0mself\u001b[0m\u001b[0;34m.\u001b[0m\u001b[0mcreate_endpoint\u001b[0m\u001b[0;34m(\u001b[0m\u001b[0mendpoint_name\u001b[0m\u001b[0;34m=\u001b[0m\u001b[0mname\u001b[0m\u001b[0;34m,\u001b[0m \u001b[0mconfig_name\u001b[0m\u001b[0;34m=\u001b[0m\u001b[0mname\u001b[0m\u001b[0;34m,\u001b[0m \u001b[0mtags\u001b[0m\u001b[0;34m=\u001b[0m\u001b[0mtags\u001b[0m\u001b[0;34m,\u001b[0m \u001b[0mwait\u001b[0m\u001b[0;34m=\u001b[0m\u001b[0mwait\u001b[0m\u001b[0;34m)\u001b[0m\u001b[0;34m\u001b[0m\u001b[0;34m\u001b[0m\u001b[0m\n\u001b[0m\u001b[1;32m   2906\u001b[0m \u001b[0;34m\u001b[0m\u001b[0m\n\u001b[1;32m   2907\u001b[0m     \u001b[0;32mdef\u001b[0m \u001b[0mexpand_role\u001b[0m\u001b[0;34m(\u001b[0m\u001b[0mself\u001b[0m\u001b[0;34m,\u001b[0m \u001b[0mrole\u001b[0m\u001b[0;34m)\u001b[0m\u001b[0;34m:\u001b[0m\u001b[0;34m\u001b[0m\u001b[0;34m\u001b[0m\u001b[0m\n",
      "\u001b[0;32m~/anaconda3/envs/mxnet_p36/lib/python3.6/site-packages/sagemaker/session.py\u001b[0m in \u001b[0;36mcreate_endpoint\u001b[0;34m(self, endpoint_name, config_name, tags, wait)\u001b[0m\n\u001b[1;32m   2420\u001b[0m \u001b[0;34m\u001b[0m\u001b[0m\n\u001b[1;32m   2421\u001b[0m         self.sagemaker_client.create_endpoint(\n\u001b[0;32m-> 2422\u001b[0;31m             \u001b[0mEndpointName\u001b[0m\u001b[0;34m=\u001b[0m\u001b[0mendpoint_name\u001b[0m\u001b[0;34m,\u001b[0m \u001b[0mEndpointConfigName\u001b[0m\u001b[0;34m=\u001b[0m\u001b[0mconfig_name\u001b[0m\u001b[0;34m,\u001b[0m \u001b[0mTags\u001b[0m\u001b[0;34m=\u001b[0m\u001b[0mtags\u001b[0m\u001b[0;34m\u001b[0m\u001b[0;34m\u001b[0m\u001b[0m\n\u001b[0m\u001b[1;32m   2423\u001b[0m         )\n\u001b[1;32m   2424\u001b[0m         \u001b[0;32mif\u001b[0m \u001b[0mwait\u001b[0m\u001b[0;34m:\u001b[0m\u001b[0;34m\u001b[0m\u001b[0;34m\u001b[0m\u001b[0m\n",
      "\u001b[0;32m~/anaconda3/envs/mxnet_p36/lib/python3.6/site-packages/botocore/client.py\u001b[0m in \u001b[0;36m_api_call\u001b[0;34m(self, *args, **kwargs)\u001b[0m\n\u001b[1;32m    355\u001b[0m                     \"%s() only accepts keyword arguments.\" % py_operation_name)\n\u001b[1;32m    356\u001b[0m             \u001b[0;31m# The \"self\" in this scope is referring to the BaseClient.\u001b[0m\u001b[0;34m\u001b[0m\u001b[0;34m\u001b[0m\u001b[0;34m\u001b[0m\u001b[0m\n\u001b[0;32m--> 357\u001b[0;31m             \u001b[0;32mreturn\u001b[0m \u001b[0mself\u001b[0m\u001b[0;34m.\u001b[0m\u001b[0m_make_api_call\u001b[0m\u001b[0;34m(\u001b[0m\u001b[0moperation_name\u001b[0m\u001b[0;34m,\u001b[0m \u001b[0mkwargs\u001b[0m\u001b[0;34m)\u001b[0m\u001b[0;34m\u001b[0m\u001b[0;34m\u001b[0m\u001b[0m\n\u001b[0m\u001b[1;32m    358\u001b[0m \u001b[0;34m\u001b[0m\u001b[0m\n\u001b[1;32m    359\u001b[0m         \u001b[0m_api_call\u001b[0m\u001b[0;34m.\u001b[0m\u001b[0m__name__\u001b[0m \u001b[0;34m=\u001b[0m \u001b[0mstr\u001b[0m\u001b[0;34m(\u001b[0m\u001b[0mpy_operation_name\u001b[0m\u001b[0;34m)\u001b[0m\u001b[0;34m\u001b[0m\u001b[0;34m\u001b[0m\u001b[0m\n",
      "\u001b[0;32m~/anaconda3/envs/mxnet_p36/lib/python3.6/site-packages/botocore/client.py\u001b[0m in \u001b[0;36m_make_api_call\u001b[0;34m(self, operation_name, api_params)\u001b[0m\n\u001b[1;32m    674\u001b[0m             \u001b[0merror_code\u001b[0m \u001b[0;34m=\u001b[0m \u001b[0mparsed_response\u001b[0m\u001b[0;34m.\u001b[0m\u001b[0mget\u001b[0m\u001b[0;34m(\u001b[0m\u001b[0;34m\"Error\"\u001b[0m\u001b[0;34m,\u001b[0m \u001b[0;34m{\u001b[0m\u001b[0;34m}\u001b[0m\u001b[0;34m)\u001b[0m\u001b[0;34m.\u001b[0m\u001b[0mget\u001b[0m\u001b[0;34m(\u001b[0m\u001b[0;34m\"Code\"\u001b[0m\u001b[0;34m)\u001b[0m\u001b[0;34m\u001b[0m\u001b[0;34m\u001b[0m\u001b[0m\n\u001b[1;32m    675\u001b[0m             \u001b[0merror_class\u001b[0m \u001b[0;34m=\u001b[0m \u001b[0mself\u001b[0m\u001b[0;34m.\u001b[0m\u001b[0mexceptions\u001b[0m\u001b[0;34m.\u001b[0m\u001b[0mfrom_code\u001b[0m\u001b[0;34m(\u001b[0m\u001b[0merror_code\u001b[0m\u001b[0;34m)\u001b[0m\u001b[0;34m\u001b[0m\u001b[0;34m\u001b[0m\u001b[0m\n\u001b[0;32m--> 676\u001b[0;31m             \u001b[0;32mraise\u001b[0m \u001b[0merror_class\u001b[0m\u001b[0;34m(\u001b[0m\u001b[0mparsed_response\u001b[0m\u001b[0;34m,\u001b[0m \u001b[0moperation_name\u001b[0m\u001b[0;34m)\u001b[0m\u001b[0;34m\u001b[0m\u001b[0;34m\u001b[0m\u001b[0m\n\u001b[0m\u001b[1;32m    677\u001b[0m         \u001b[0;32melse\u001b[0m\u001b[0;34m:\u001b[0m\u001b[0;34m\u001b[0m\u001b[0;34m\u001b[0m\u001b[0m\n\u001b[1;32m    678\u001b[0m             \u001b[0;32mreturn\u001b[0m \u001b[0mparsed_response\u001b[0m\u001b[0;34m\u001b[0m\u001b[0;34m\u001b[0m\u001b[0m\n",
      "\u001b[0;31mResourceLimitExceeded\u001b[0m: An error occurred (ResourceLimitExceeded) when calling the CreateEndpoint operation: The account-level service limit 'ml.c4.large for endpoint usage' is 0 Instances, with current utilization of 0 Instances and a request delta of 1 Instances. Please contact AWS support to request an increase for this limit."
     ]
    }
   ],
   "source": [
    "%%time\n",
    "# this takes a little while, around 7mins\n",
    "# pca_SM = sagemaker.estimator.Estimator.attach(training_job_name) # attaching pre-trained model\n",
    "pca_predictor = pca_SM.deploy(initial_instance_count=1, \n",
    "                              instance_type='ml.t2.medium')"
   ]
  }
 ],
 "metadata": {
  "kernelspec": {
   "display_name": "conda_mxnet_p36",
   "language": "python",
   "name": "conda_mxnet_p36"
  },
  "language_info": {
   "codemirror_mode": {
    "name": "ipython",
    "version": 3
   },
   "file_extension": ".py",
   "mimetype": "text/x-python",
   "name": "python",
   "nbconvert_exporter": "python",
   "pygments_lexer": "ipython3",
   "version": "3.6.10"
  }
 },
 "nbformat": 4,
 "nbformat_minor": 4
}
