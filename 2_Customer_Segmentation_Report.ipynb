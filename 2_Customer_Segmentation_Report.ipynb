{
 "cells": [
  {
   "cell_type": "markdown",
   "metadata": {},
   "source": [
    "# Part 1: Customer Segmentation Report\n",
    "\n",
    "The main bulk of your analysis will come in this part of the project. Here, you should use unsupervised learning techniques to describe the relationship between the demographics of the company's existing customers and the general population of Germany. By the end of this part, you should be able to describe parts of the general population that are more likely to be part of the mail-order company's main customer base, and which parts of the general population are less so.\n"
   ]
  },
  {
   "cell_type": "code",
   "execution_count": 1,
   "metadata": {},
   "outputs": [],
   "source": [
    "# Importing libraries\n",
    "import os\n",
    "import boto3\n",
    "import sagemaker\n",
    "\n",
    "import joblib\n",
    "import matplotlib.pyplot as plt\n",
    "import seaborn as sns\n",
    "import pandas as pd\n",
    "from collections import Counter\n",
    "\n",
    "from sklearn.decomposition import PCA\n",
    "from sklearn.cluster import KMeans\n",
    "\n",
    "from utils import *\n",
    "\n",
    "%matplotlib inline"
   ]
  },
  {
   "cell_type": "code",
   "execution_count": 2,
   "metadata": {},
   "outputs": [],
   "source": [
    "# sagemaker session, role\n",
    "session = sagemaker.Session()\n",
    "s3_client = boto3.client('s3')"
   ]
  },
  {
   "cell_type": "code",
   "execution_count": 4,
   "metadata": {},
   "outputs": [
    {
     "name": "stdout",
     "output_type": "stream",
     "text": [
      "Azdias: (891221, 388)\n",
      "Customers: (191652, 388)\n"
     ]
    }
   ],
   "source": [
    "azdias, customers = read_s3_files(['azdias.pkl', 'customers.pkl'], s3_client)\n",
    "print('Azdias:', azdias.shape)\n",
    "print('Customers:', customers.shape)"
   ]
  },
  {
   "cell_type": "raw",
   "metadata": {},
   "source": [
    "customers = customers.drop(['CUSTOMER_GROUP', 'ONLINE_PURCHASE', 'PRODUCT_GROUP'],\n",
    "                              axis = 1).copy()\n",
    "print(customers.shape)"
   ]
  },
  {
   "cell_type": "code",
   "execution_count": 5,
   "metadata": {},
   "outputs": [],
   "source": [
    "azdias_lnr = azdias['LNR'].copy()\n",
    "azdias.drop('LNR', axis=1, inplace=True)\n",
    "customers_lnr = customers['LNR'].copy()\n",
    "customers.drop('LNR', axis=1, inplace=True)"
   ]
  },
  {
   "cell_type": "markdown",
   "metadata": {},
   "source": [
    "\n",
    "## Pricipal Component Analysis\n",
    "Before training our machine learning model, we'll reduce the demension of our data for which we'll use **Incremental Principal Component Analysis.** Increamental PCA requires to split data into smaller batches, which are fed to IPCA one at a time."
   ]
  },
  {
   "cell_type": "code",
   "execution_count": 6,
   "metadata": {},
   "outputs": [
    {
     "data": {
      "text/plain": [
       "PCA(copy=True, iterated_power='auto', n_components=None, random_state=None,\n",
       "    svd_solver='auto', tol=0.0, whiten=False)"
      ]
     },
     "execution_count": 6,
     "metadata": {},
     "output_type": "execute_result"
    }
   ],
   "source": [
    "pca = PCA()\n",
    "pca.fit(azdias)"
   ]
  },
  {
   "cell_type": "code",
   "execution_count": 7,
   "metadata": {},
   "outputs": [
    {
     "data": {
      "text/plain": [
       "array([7.84993237e-02, 4.81501876e-02, 4.45038665e-02, 3.58805671e-02,\n",
       "       2.18462939e-02, 1.93497285e-02, 1.69448687e-02, 1.60126196e-02,\n",
       "       1.56756823e-02, 1.37983890e-02, 1.27046218e-02, 1.17192844e-02,\n",
       "       1.13172468e-02, 1.02775680e-02, 9.98351095e-03, 9.21138245e-03,\n",
       "       8.94859292e-03, 8.46611517e-03, 8.33106321e-03, 7.94594561e-03,\n",
       "       7.75500828e-03, 7.55734079e-03, 7.27342427e-03, 7.05286117e-03,\n",
       "       6.95659409e-03, 6.65502620e-03, 6.65340183e-03, 6.10261563e-03,\n",
       "       5.80860532e-03, 5.71283512e-03, 5.44179470e-03, 5.13940484e-03,\n",
       "       5.09504918e-03, 5.06076521e-03, 4.90343557e-03, 4.85695975e-03,\n",
       "       4.64241900e-03, 4.61710424e-03, 4.52689177e-03, 4.47729260e-03,\n",
       "       4.35132582e-03, 4.25582236e-03, 4.15639352e-03, 4.08187570e-03,\n",
       "       4.06018189e-03, 4.03340366e-03, 3.90871442e-03, 3.78800456e-03,\n",
       "       3.68561256e-03, 3.68281648e-03, 3.65040187e-03, 3.57122803e-03,\n",
       "       3.52244757e-03, 3.50830626e-03, 3.46039271e-03, 3.42622507e-03,\n",
       "       3.35580733e-03, 3.31811334e-03, 3.26106206e-03, 3.23732455e-03,\n",
       "       3.19698416e-03, 3.15016113e-03, 3.12958068e-03, 3.07370074e-03,\n",
       "       3.06293900e-03, 3.04269632e-03, 3.02056180e-03, 2.97659865e-03,\n",
       "       2.94450316e-03, 2.92370543e-03, 2.89214089e-03, 2.88035821e-03,\n",
       "       2.87171971e-03, 2.85598591e-03, 2.84554238e-03, 2.83701624e-03,\n",
       "       2.81843019e-03, 2.80522881e-03, 2.79470844e-03, 2.78077280e-03,\n",
       "       2.75787665e-03, 2.74792854e-03, 2.73525521e-03, 2.72712194e-03,\n",
       "       2.71639445e-03, 2.71162987e-03, 2.69577775e-03, 2.67576103e-03,\n",
       "       2.66482606e-03, 2.65968131e-03, 2.65892602e-03, 2.65071772e-03,\n",
       "       2.63996269e-03, 2.63748753e-03, 2.62560102e-03, 2.61177700e-03,\n",
       "       2.60347610e-03, 2.59672129e-03, 2.59364560e-03, 2.58751434e-03,\n",
       "       2.58163007e-03, 2.57136104e-03, 2.53256692e-03, 2.51865320e-03,\n",
       "       2.51461130e-03, 2.47651266e-03, 2.42606687e-03, 2.42158445e-03,\n",
       "       2.39691116e-03, 2.37735890e-03, 2.36548960e-03, 2.35302828e-03,\n",
       "       2.34195087e-03, 2.32249175e-03, 2.31225480e-03, 2.30798203e-03,\n",
       "       2.26301877e-03, 2.25508211e-03, 2.23222818e-03, 2.21988230e-03,\n",
       "       2.21210455e-03, 2.20200786e-03, 2.15237806e-03, 2.13867056e-03,\n",
       "       2.12903704e-03, 2.12446745e-03, 2.11158972e-03, 2.10207289e-03,\n",
       "       2.09397912e-03, 2.08406726e-03, 2.07653053e-03, 2.06623395e-03,\n",
       "       2.04928333e-03, 2.03878833e-03, 2.02698880e-03, 2.01465560e-03,\n",
       "       2.00848864e-03, 2.00370721e-03, 1.99448921e-03, 1.97415248e-03,\n",
       "       1.95709856e-03, 1.94226411e-03, 1.94202329e-03, 1.93034335e-03,\n",
       "       1.90604499e-03, 1.90405893e-03, 1.88105278e-03, 1.87438206e-03,\n",
       "       1.86819027e-03, 1.84280120e-03, 1.83172543e-03, 1.82030227e-03,\n",
       "       1.81486287e-03, 1.81085250e-03, 1.79658288e-03, 1.78866597e-03,\n",
       "       1.77193950e-03, 1.76851262e-03, 1.75899852e-03, 1.74620360e-03,\n",
       "       1.73696367e-03, 1.73269217e-03, 1.71890385e-03, 1.71241868e-03,\n",
       "       1.71083436e-03, 1.70265052e-03, 1.67984679e-03, 1.67165045e-03,\n",
       "       1.66420323e-03, 1.65530307e-03, 1.65228302e-03, 1.64319294e-03,\n",
       "       1.62892188e-03, 1.62054415e-03, 1.61558188e-03, 1.60820352e-03,\n",
       "       1.60292667e-03, 1.59174832e-03, 1.58398272e-03, 1.57624485e-03,\n",
       "       1.55094149e-03, 1.54064982e-03, 1.53735323e-03, 1.52193800e-03,\n",
       "       1.51633705e-03, 1.50720558e-03, 1.50271010e-03, 1.48966728e-03,\n",
       "       1.48124606e-03, 1.46435433e-03, 1.44795893e-03, 1.43613068e-03,\n",
       "       1.42630072e-03, 1.40774321e-03, 1.39830005e-03, 1.39278164e-03,\n",
       "       1.38289787e-03, 1.37795299e-03, 1.37333900e-03, 1.36127146e-03,\n",
       "       1.34924279e-03, 1.33523339e-03, 1.32006769e-03, 1.31898034e-03,\n",
       "       1.29724774e-03, 1.29042199e-03, 1.27068353e-03, 1.26102916e-03,\n",
       "       1.24571668e-03, 1.22689795e-03, 1.22174822e-03, 1.20004172e-03,\n",
       "       1.19068500e-03, 1.16585461e-03, 1.13037202e-03, 1.12538800e-03,\n",
       "       1.11023136e-03, 1.07252169e-03, 1.06932015e-03, 1.06372020e-03,\n",
       "       1.05969904e-03, 1.04435222e-03, 1.03272592e-03, 1.01892284e-03,\n",
       "       1.00497822e-03, 9.85846363e-04, 9.71542680e-04, 9.50861741e-04,\n",
       "       9.47589802e-04, 9.40792227e-04, 9.20798077e-04, 9.14046983e-04,\n",
       "       9.02480034e-04, 8.92900513e-04, 8.78405654e-04, 8.75269078e-04,\n",
       "       8.54955906e-04, 8.50525124e-04, 8.38868295e-04, 8.32477629e-04,\n",
       "       8.24408409e-04, 8.03185016e-04, 7.96896915e-04, 7.94731538e-04,\n",
       "       7.87867006e-04, 7.81310804e-04, 7.76763051e-04, 7.71527603e-04,\n",
       "       7.67829637e-04, 7.47215791e-04, 7.41536966e-04, 7.35268255e-04,\n",
       "       7.27723730e-04, 7.24458087e-04, 7.14935739e-04, 7.11467729e-04,\n",
       "       6.99500939e-04, 6.87140288e-04, 6.75605504e-04, 6.69686937e-04,\n",
       "       6.66845599e-04, 6.50642331e-04, 6.44059898e-04, 6.42156416e-04,\n",
       "       6.37747969e-04, 6.33878849e-04, 6.24683223e-04, 6.18761123e-04,\n",
       "       6.12413993e-04, 6.05005829e-04, 5.95228064e-04, 5.90768877e-04,\n",
       "       5.77374011e-04, 5.72210549e-04, 5.68018467e-04, 5.64358193e-04,\n",
       "       5.55371231e-04, 5.51420204e-04, 5.44496598e-04, 5.39405393e-04,\n",
       "       5.30370184e-04, 5.26034176e-04, 5.25110635e-04, 5.21639500e-04,\n",
       "       4.96040005e-04, 4.94199403e-04, 4.88291346e-04, 4.85803777e-04,\n",
       "       4.78401457e-04, 4.76580562e-04, 4.67381855e-04, 4.63823920e-04,\n",
       "       4.59266155e-04, 4.54326714e-04, 4.45745846e-04, 4.41837313e-04,\n",
       "       4.36688529e-04, 4.35524114e-04, 4.30654123e-04, 4.22759227e-04,\n",
       "       4.17007284e-04, 4.15311152e-04, 4.07511981e-04, 4.03610787e-04,\n",
       "       3.95815693e-04, 3.86019263e-04, 3.82876844e-04, 3.75940666e-04,\n",
       "       3.71882226e-04, 3.67798191e-04, 3.58536038e-04, 3.48690976e-04,\n",
       "       3.45889278e-04, 3.44660353e-04, 3.41151208e-04, 3.36924265e-04,\n",
       "       3.35491682e-04, 3.28758686e-04, 3.24321924e-04, 3.22365302e-04,\n",
       "       3.16334951e-04, 3.07312268e-04, 3.03988887e-04, 2.95789218e-04,\n",
       "       2.92790181e-04, 2.90117256e-04, 2.88923463e-04, 2.85453800e-04,\n",
       "       2.80693667e-04, 2.79807706e-04, 2.73215035e-04, 2.66824732e-04,\n",
       "       2.64215728e-04, 2.62633737e-04, 2.60397574e-04, 2.56724253e-04,\n",
       "       2.54914117e-04, 2.51262224e-04, 2.49169422e-04, 2.46625586e-04,\n",
       "       2.45547609e-04, 2.43055283e-04, 2.34558746e-04, 2.31523739e-04,\n",
       "       2.28614537e-04, 2.20588445e-04, 2.18050703e-04, 2.15148909e-04,\n",
       "       2.12454963e-04, 2.11321740e-04, 2.06602810e-04, 2.02417070e-04,\n",
       "       2.01155663e-04, 1.99361836e-04, 1.98234819e-04, 1.97241716e-04,\n",
       "       1.96746014e-04, 1.95573151e-04, 1.91353343e-04, 1.91132425e-04,\n",
       "       1.84598263e-04, 1.83000336e-04, 1.78237372e-04, 1.74685451e-04,\n",
       "       1.71917514e-04, 1.54238590e-04, 1.35309143e-04, 1.32318793e-04,\n",
       "       1.26305816e-04, 1.15542990e-04, 1.14720520e-04, 1.14281140e-04,\n",
       "       1.08831671e-04, 1.08334169e-04, 9.70907378e-05, 8.95184821e-05,\n",
       "       8.42941673e-05, 6.03139370e-05, 5.94300254e-05, 5.56993621e-05,\n",
       "       5.51448915e-05, 3.21957527e-05, 2.63017286e-05, 1.14158607e-05,\n",
       "       4.81048331e-15, 2.43135356e-16, 8.97453145e-18])"
      ]
     },
     "execution_count": 7,
     "metadata": {},
     "output_type": "execute_result"
    }
   ],
   "source": [
    "pca.explained_variance_ratio_"
   ]
  },
  {
   "cell_type": "markdown",
   "metadata": {},
   "source": [
    "----"
   ]
  },
  {
   "cell_type": "markdown",
   "metadata": {
    "jupyter": {
     "source_hidden": true
    }
   },
   "source": [
    "### PCA Model Attributes\n",
    "\n",
    "Three types of model attributes are contained within the PCA model.\n",
    "\n",
    "    mean: The mean that was subtracted from a component in order to center it.\n",
    "    v: The makeup of the principal components; (same as ‘components_’ in an sklearn PCA model).\n",
    "    s: The singular values of the components for the PCA transformation. This does not exactly give the % variance from the original feature space, but can give the % variance from the projected feature space.\n",
    "\n",
    "We are only interested in v and s.\n",
    "\n",
    "From s, we can get an approximation of the data variance that is covered in the first n principal components. The approximate explained variance is given by the formula: the sum of squared s values for all top n components over the sum over squared s values for all components:\n",
    "$$\\begin{equation*} \\frac{\\sum_{n}^{ } s_n^2}{\\sum s^2} \\end{equation*}$$\n",
    "\n",
    "From v, we can learn more about the combinations of original features that make up each principal component.\n"
   ]
  },
  {
   "cell_type": "code",
   "execution_count": 8,
   "metadata": {
    "jupyter": {
     "source_hidden": true
    }
   },
   "outputs": [],
   "source": [
    "# get selected params\n",
    "s=pd.DataFrame(pca_model_params['s'].asnumpy())\n",
    "v=pd.DataFrame(pca_model_params['v'].asnumpy())"
   ]
  },
  {
   "cell_type": "code",
   "execution_count": 9,
   "metadata": {
    "jupyter": {
     "source_hidden": true
    }
   },
   "outputs": [],
   "source": [
    "def explained_variance(s, n_top_components):\n",
    "    \"\"\"Calculates the approx. data variance that n_top_components captures.\n",
    "       :param s: A dataframe of singular values for top components; \n",
    "           the top value is in the last row.\n",
    "       :param n_top_components: An integer, the number of top components to use.\n",
    "       :return: The expected data variance covered by the n_top_components.\n",
    "    \"\"\"\n",
    "    start_idx = N_COMPONENTS - n_top_components\n",
    "    top_principal_components = s.iloc[start_idx:, :]\n",
    "    \n",
    "    variance = np.sum(np.square(top_principal_components)) / np.sum(np.square(s))\n",
    "    \n",
    "    return variance[0]"
   ]
  },
  {
   "cell_type": "code",
   "execution_count": 10,
   "metadata": {
    "collapsed": true,
    "jupyter": {
     "outputs_hidden": true,
     "source_hidden": true
    }
   },
   "outputs": [
    {
     "name": "stdout",
     "output_type": "stream",
     "text": [
      "Explained variance for top 50 is: 0.606728732585907\n",
      "Explained variance for top 100 is: 0.7550870776176453\n",
      "Explained variance for top 150 is: 0.8589470386505127\n",
      "Explained variance for top 200 is: 0.9290238618850708\n",
      "Explained variance for top 250 is: 0.9682955145835876\n",
      "Explained variance for top 300 is: 0.9900360703468323\n",
      "Explained variance for top 350 is: 0.9999566078186035\n"
     ]
    }
   ],
   "source": [
    "exp_variance = []\n",
    "\n",
    "# calculate the explained variance\n",
    "for n in range(1, 354):\n",
    "    evar = explained_variance(s, n)\n",
    "    exp_variance.append(evar)\n",
    "    if n % 50 == 0:\n",
    "        print('Explained variance for top {} is: {}'.format(n, evar))\n"
   ]
  },
  {
   "cell_type": "code",
   "execution_count": 8,
   "metadata": {},
   "outputs": [
    {
     "data": {
      "image/png": "[encoded data removed]",
      "text/plain": [
       "<Figure size 720x576 with 1 Axes>"
      ]
     },
     "metadata": {
      "needs_background": "light"
     },
     "output_type": "display_data"
    }
   ],
   "source": [
    "plt.figure(figsize=(10,8))\n",
    "plt.plot(pca.explained_variance_ratio_.cumsum(), marker='o',linestyle='--')\n",
    "plt.title(\"Exaplained Variance by Components\")\n",
    "plt.xlabel(\"Number of Component\")\n",
    "plt.ylabel(\"Cummulative Explained Variance\")\n",
    "plt.show()"
   ]
  },
  {
   "cell_type": "markdown",
   "metadata": {},
   "source": [
    "We can notice **top 150 components** are able to explain 85% of the variance in our data. 80% is generally accepted threshold for data variance."
   ]
  },
  {
   "cell_type": "code",
   "execution_count": 14,
   "metadata": {
    "jupyter": {
     "source_hidden": true
    }
   },
   "outputs": [],
   "source": [
    "def display_component(v, features_list, component_num, n_weights=10):\n",
    "    \n",
    "    # get index of component (last row - component_num)\n",
    "    row_idx = N_COMPONENTS - component_num\n",
    "\n",
    "    # get the list of weights from a row in v, dataframe\n",
    "    v_1_row = v.iloc[:, row_idx]\n",
    "    v_1 = np.squeeze(v_1_row.values)\n",
    "\n",
    "    # match weights to features in counties_scaled dataframe, using list comporehension\n",
    "    comps = pd.DataFrame(list(zip(v_1, features_list)), \n",
    "                         columns=['weights', 'features'])\n",
    "\n",
    "    # we'll want to sort by the largest n_weights\n",
    "    # weights can be neg/pos and we'll sort by magnitude\n",
    "    comps['abs_weights'] = comps['weights'].apply(lambda x: np.abs(x))\n",
    "    sorted_weight_data = comps.sort_values('abs_weights', ascending=False).head(n_weights)\n",
    "\n",
    "    # display using seaborn\n",
    "    ax = plt.subplots(figsize=(10,6))\n",
    "    ax = sns.barplot(data=sorted_weight_data, \n",
    "                    x=\"weights\", \n",
    "                    y=\"features\", \n",
    "                    palette=\"Blues_d\")\n",
    "    ax.set_title(\"PCA Component Makeup, Component #\" + str(component_num))\n",
    "    plt.show()"
   ]
  },
  {
   "cell_type": "code",
   "execution_count": 16,
   "metadata": {
    "collapsed": true,
    "jupyter": {
     "outputs_hidden": true,
     "source_hidden": true
    }
   },
   "outputs": [
    {
     "data": {
      "image/png": "[encoded data removed]",
      "text/plain": [
       "<Figure size 720x432 with 1 Axes>"
      ]
     },
     "metadata": {
      "needs_background": "light"
     },
     "output_type": "display_data"
    }
   ],
   "source": [
    "# display makeup of first component\n",
    "num = 1\n",
    "display_component(v, azdias.columns.values, component_num=num, n_weights=10)"
   ]
  },
  {
   "cell_type": "code",
   "execution_count": 18,
   "metadata": {
    "jupyter": {
     "source_hidden": true
    }
   },
   "outputs": [],
   "source": [
    "del pca_model_params\n",
    "del s\n",
    "del v\n",
    "del exp_variance"
   ]
  },
  {
   "cell_type": "markdown",
   "metadata": {},
   "source": [
    "## Reducing components"
   ]
  },
  {
   "cell_type": "code",
   "execution_count": 13,
   "metadata": {},
   "outputs": [],
   "source": [
    "def reduce_component(df, n=180):\n",
    "    pca = PCA(n_components=n).fit(df)\n",
    "    reduced_data = pca.transform(df)\n",
    "    reduced_data = pd.DataFrame(reduced_data)\n",
    "    print(pca.explained_variance_ratio_.sum())\n",
    "    return reduced_data"
   ]
  },
  {
   "cell_type": "code",
   "execution_count": 14,
   "metadata": {},
   "outputs": [
    {
     "name": "stdout",
     "output_type": "stream",
     "text": [
      "0.8692946890991515\n",
      "(891221, 180)\n",
      "0.8703916942596288\n",
      "(191652, 180)\n"
     ]
    }
   ],
   "source": [
    "azdias_transformed = reduce_component(azdias)\n",
    "print(azdias_transformed.shape)\n",
    "customers_transformed = reduce_component(customers)\n",
    "print(customers_transformed.shape)"
   ]
  },
  {
   "cell_type": "markdown",
   "metadata": {},
   "source": [
    "At n = 150:\n",
    "- Explained variance: 81.70% 81.88%\n",
    "\n",
    "At n = 180:\n",
    "- Explained variance: 86.92% 87.04%\n",
    "\n",
    "At n = 200:\n",
    "- Explained variance: 89.93% 90.03%"
   ]
  },
  {
   "cell_type": "code",
   "execution_count": 15,
   "metadata": {},
   "outputs": [],
   "source": [
    "N_COMPONENTS = 180"
   ]
  },
  {
   "cell_type": "code",
   "execution_count": 16,
   "metadata": {},
   "outputs": [],
   "source": [
    "pca = PCA(n_components=N_COMPONENTS)\n",
    "azdias_transformed = pca.fit_transform(azdias)\n",
    "customers_transformed = pca.transform(customers)\n",
    "azdias_transformed = pd.DataFrame(azdias_transformed)\n",
    "customers_transformed = pd.DataFrame(customers_transformed)"
   ]
  },
  {
   "cell_type": "code",
   "execution_count": 17,
   "metadata": {},
   "outputs": [
    {
     "name": "stdout",
     "output_type": "stream",
     "text": [
      "<class 'pandas.core.frame.DataFrame'>\n",
      "RangeIndex: 891221 entries, 0 to 891220\n",
      "Columns: 180 entries, 0 to 179\n",
      "dtypes: float32(180)\n",
      "memory usage: 612.0 MB\n"
     ]
    }
   ],
   "source": [
    "azdias_transformed.info(memory_usage=True)"
   ]
  },
  {
   "cell_type": "code",
   "execution_count": 18,
   "metadata": {},
   "outputs": [
    {
     "data": {
      "text/plain": [
       "['models/pca.save']"
      ]
     },
     "execution_count": 18,
     "metadata": {},
     "output_type": "execute_result"
    }
   ],
   "source": [
    "pca_file = 'models/pca.save'\n",
    "joblib.dump(pca, pca_file)"
   ]
  },
  {
   "cell_type": "markdown",
   "metadata": {},
   "source": [
    "## K-means Clustering"
   ]
  },
  {
   "cell_type": "code",
   "execution_count": 19,
   "metadata": {},
   "outputs": [],
   "source": [
    "azdias_transformed_sample = azdias_transformed.sample(20000)\n",
    "\n",
    "wcss = []\n",
    "for n in range(1, 21):\n",
    "    kmeans = KMeans(n_clusters=n, init='k-means++')\n",
    "    model = kmeans.fit(azdias_transformed_sample)\n",
    "    wcss.append(model.inertia_)"
   ]
  },
  {
   "cell_type": "code",
   "execution_count": 20,
   "metadata": {},
   "outputs": [
    {
     "data": {
      "image/png": "[encoded data removed]",
      "text/plain": [
       "<Figure size 1008x432 with 1 Axes>"
      ]
     },
     "metadata": {
      "needs_background": "light"
     },
     "output_type": "display_data"
    }
   ],
   "source": [
    "plt.figure(figsize=(14,6))\n",
    "plt.plot(range(1,21), wcss, marker='o', linestyle='--')\n",
    "plt.xlabel('Number of clusters')\n",
    "plt.ylabel('WCSS')\n",
    "plt.title('K-means with PCA Clustering')\n",
    "plt.show()"
   ]
  },
  {
   "cell_type": "code",
   "execution_count": 21,
   "metadata": {},
   "outputs": [],
   "source": [
    "del azdias_transformed_sample"
   ]
  },
  {
   "cell_type": "code",
   "execution_count": 22,
   "metadata": {},
   "outputs": [],
   "source": [
    "kmeans = KMeans(n_clusters=5)\n",
    "kmodel = kmeans.fit(azdias_transformed)"
   ]
  },
  {
   "cell_type": "code",
   "execution_count": 23,
   "metadata": {},
   "outputs": [
    {
     "name": "stdout",
     "output_type": "stream",
     "text": [
      "Making predictions for azdias\n",
      "Making predictions for customers\n"
     ]
    }
   ],
   "source": [
    "print(\"Making predictions for azdias...\")\n",
    "azdias_clusters = kmodel.predict(azdias_transformed)\n",
    "print(\"Making predictions for customers...\")\n",
    "customers_clusters = kmodel.predict(customers_transformed)"
   ]
  },
  {
   "cell_type": "code",
   "execution_count": 30,
   "metadata": {},
   "outputs": [
    {
     "data": {
      "text/plain": [
       "['models/kmodel.save']"
      ]
     },
     "execution_count": 30,
     "metadata": {},
     "output_type": "execute_result"
    }
   ],
   "source": [
    "kmodel_file = 'models/kmodel.save'\n",
    "joblib.dump(kmodel, kmodel_file)"
   ]
  },
  {
   "cell_type": "code",
   "execution_count": 24,
   "metadata": {},
   "outputs": [],
   "source": [
    "del azdias_transformed\n",
    "del customers_transformed"
   ]
  },
  {
   "cell_type": "markdown",
   "metadata": {},
   "source": [
    "## Segmentation Report"
   ]
  },
  {
   "cell_type": "code",
   "execution_count": 25,
   "metadata": {},
   "outputs": [],
   "source": [
    "azdias['Cluster'] = azdias_clusters\n",
    "customers['Cluster'] = customers_clusters"
   ]
  },
  {
   "cell_type": "code",
   "execution_count": 26,
   "metadata": {},
   "outputs": [],
   "source": [
    "azdias_proportions = Counter(azdias['Cluster'])\n",
    "customers_proportions = Counter(customers['Cluster'])"
   ]
  },
  {
   "cell_type": "code",
   "execution_count": 27,
   "metadata": {},
   "outputs": [],
   "source": [
    "for k, v in azdias_proportions.items():\n",
    "    azdias_proportions[k] = v / len(azdias)\n",
    "    \n",
    "for k, v in customers_proportions.items():\n",
    "    customers_proportions[k] = v / len(customers)"
   ]
  },
  {
   "cell_type": "code",
   "execution_count": 28,
   "metadata": {},
   "outputs": [],
   "source": [
    "df_props = pd.DataFrame(columns=[\"Dataset\", \"Cluster\", \"Proportions\", 'Difference'])\n",
    "for k, v in customers_proportions.items():\n",
    "    df_props = df_props.append({\"Dataset\" : \"customer\", \"Cluster\": k, \"Proportions\": v}, ignore_index=True)\n",
    "\n",
    "for k, v in azdias_proportions.items():\n",
    "    df_props = df_props.append({\"Dataset\" : \"general\", \"Cluster\": k, \"Proportions\": v}, ignore_index=True)"
   ]
  },
  {
   "cell_type": "code",
   "execution_count": 29,
   "metadata": {},
   "outputs": [
    {
     "data": {
      "image/png": "[encoded data removed]",
      "text/plain": [
       "<Figure size 1080x504 with 1 Axes>"
      ]
     },
     "metadata": {
      "needs_background": "light"
     },
     "output_type": "display_data"
    }
   ],
   "source": [
    "fig = plt.figure(figsize=(15,7))\n",
    "sns.barplot(x=\"Cluster\", y=\"Proportions\", hue=\"Dataset\", data=df_props);"
   ]
  },
  {
   "cell_type": "code",
   "execution_count": 37,
   "metadata": {},
   "outputs": [],
   "source": [
    "cols = ['CUSTOMER_GROUP', 'ONLINE_PURCHASE', 'PRODUCT_GROUP']"
   ]
  },
  {
   "cell_type": "code",
   "execution_count": 39,
   "metadata": {},
   "outputs": [],
   "source": [
    "customers[cols] = customers_whole[cols]"
   ]
  },
  {
   "cell_type": "code",
   "execution_count": 43,
   "metadata": {},
   "outputs": [],
   "source": [
    "# Saving data locally\n",
    "data_dir = 'Data/arvato'\n",
    "\n",
    "if not os.path.exists(data_dir):\n",
    "    os.makedirs(data_dir)\n",
    "    \n",
    "azdias.to_pickle(os.path.join(data_dir, 'azdias.pkl'))\n",
    "customers.to_pickle(os.path.join(data_dir, 'customers.pkl'))"
   ]
  },
  {
   "cell_type": "code",
   "execution_count": 44,
   "metadata": {},
   "outputs": [
    {
     "data": {
      "text/plain": [
       "'s3://sagemaker-ap-south-1-714138043953/arvato-segmentation/customers.pkl'"
      ]
     },
     "execution_count": 44,
     "metadata": {},
     "output_type": "execute_result"
    }
   ],
   "source": [
    "# Uploading to S3\n",
    "session.upload_data(os.path.join(data_dir, 'azdias.pkl'), key_prefix=prefix)\n",
    "session.upload_data(os.path.join(data_dir, 'customers.pkl'), key_prefix=prefix)"
   ]
  }
 ],
 "metadata": {
  "kernelspec": {
   "display_name": "conda_mxnet_p36",
   "language": "python",
   "name": "conda_mxnet_p36"
  },
  "language_info": {
   "codemirror_mode": {
    "name": "ipython",
    "version": 3
   },
   "file_extension": ".py",
   "mimetype": "text/x-python",
   "name": "python",
   "nbconvert_exporter": "python",
   "pygments_lexer": "ipython3",
   "version": "3.6.10"
  }
 },
 "nbformat": 4,
 "nbformat_minor": 4
}
